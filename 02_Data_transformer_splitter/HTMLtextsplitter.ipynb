{
 "cells": [
  {
   "cell_type": "markdown",
   "metadata": {},
   "source": [
    "# HTMLHeaderTextSplitter\n",
    "\n",
    "HTMLHeaderTextSplitter is a specialized text splitter that divides HTML documents based on header tags (h1, h2, h3, etc.), making it ideal for processing structured web content while preserving the document's hierarchical organization.\n",
    "\n",
    "HTMLHeaderTextSplitter is a \"structure-aware\" chunker that splits text at the HTML element level and adds metadata for each header \"relevant\" to any given chunk. It can return chunks element by element or combine elements with the same metadata, with the objectives of (a) keeping related text grouped (more or less) semantically and (b) preserving context-rich information encoded in document structures. It can be used with other text splitters as part of a chunking pipeline.\n"
   ]
  },
  {
   "cell_type": "markdown",
   "metadata": {},
   "source": [
    "- HTML Splitting: To split HTML content based on header tags for hierarchical document processing."
   ]
  },
  {
   "cell_type": "code",
   "execution_count": 1,
   "metadata": {},
   "outputs": [
    {
     "data": {
      "text/plain": [
       "[Document(metadata={}, page_content='Foo'),\n",
       " Document(metadata={'Header 1': 'Foo'}, page_content='Some intro text about Foo.  \\nBar main section Bar subsection 1 Bar subsection 2'),\n",
       " Document(metadata={'Header 1': 'Foo', 'Header 2': 'Bar main section'}, page_content='Some intro text about Bar.'),\n",
       " Document(metadata={'Header 1': 'Foo', 'Header 2': 'Bar main section', 'Header 3': 'Bar subsection 1'}, page_content='Some text about the first subtopic of Bar.'),\n",
       " Document(metadata={'Header 1': 'Foo', 'Header 2': 'Bar main section', 'Header 3': 'Bar subsection 2'}, page_content='Some text about the second subtopic of Bar.'),\n",
       " Document(metadata={'Header 1': 'Foo'}, page_content='Baz'),\n",
       " Document(metadata={'Header 1': 'Foo', 'Header 2': 'Baz'}, page_content='Some text about Baz'),\n",
       " Document(metadata={'Header 1': 'Foo'}, page_content='Some concluding text about Foo')]"
      ]
     },
     "execution_count": 1,
     "metadata": {},
     "output_type": "execute_result"
    }
   ],
   "source": [
    "# Split HTML content based on header tags\n",
    "\n",
    "from langchain_text_splitters import HTMLHeaderTextSplitter\n",
    "\n",
    "html_string = \"\"\"\n",
    "<!DOCTYPE html>\n",
    "<html>\n",
    "<body>\n",
    "    <div>\n",
    "        <h1>Foo</h1>\n",
    "        <p>Some intro text about Foo.</p>\n",
    "        <div>\n",
    "            <h2>Bar main section</h2>\n",
    "            <p>Some intro text about Bar.</p>\n",
    "            <h3>Bar subsection 1</h3>\n",
    "            <p>Some text about the first subtopic of Bar.</p>\n",
    "            <h3>Bar subsection 2</h3>\n",
    "            <p>Some text about the second subtopic of Bar.</p>\n",
    "        </div>\n",
    "        <div>\n",
    "            <h2>Baz</h2>\n",
    "            <p>Some text about Baz</p>\n",
    "        </div>\n",
    "        <br>\n",
    "        <p>Some concluding text about Foo</p>\n",
    "    </div>\n",
    "</body>\n",
    "</html>\n",
    "\"\"\"\n",
    "\n",
    "headers_to_split_on=[\n",
    "    (\"h1\",\"Header 1\"),\n",
    "    (\"h2\",\"Header 2\"),\n",
    "    (\"h3\",\"Header 3\")\n",
    "]\n",
    "\n",
    "html_splitter=HTMLHeaderTextSplitter(headers_to_split_on)\n",
    "html_header_splits=html_splitter.split_text(html_string)\n",
    "html_header_splits\n"
   ]
  },
  {
   "cell_type": "markdown",
   "metadata": {},
   "source": [
    "- HTML URL Splitting: To split web content directly from a URL based on header hierarchy."
   ]
  },
  {
   "cell_type": "code",
   "execution_count": 2,
   "metadata": {},
   "outputs": [
    {
     "data": {
      "text/plain": [
       "[Document(metadata={}, page_content='Skip to main content  \\nIntegrationsAPI Reference  \\nMore  \\nContributingPeopleError referenceLangSmithLangGraphLangChain HubLangChain JS/TS  \\n💬  \\nv0.3  \\nv0.3v0.2v0.1  \\nSearch  \\nIntroductionSecurity Policy  \\nTutorials  \\nBuild a Question Answering application over a Graph DatabaseTutorialsBuild a simple LLM application with chat models and prompt templatesBuild a ChatbotBuild a Retrieval Augmented Generation (RAG) App: Part 2Build an Extraction ChainBuild an AgentTaggingBuild a Retrieval Augmented Generation (RAG) App: Part 1Build a semantic search engineBuild a Question/Answering system over SQL dataSummarize Text  \\nHow-to guides  \\nHow-to guidesHow to use tools in a chainHow to use a vectorstore as a retrieverHow to add memory to chatbotsHow to use example selectorsHow to add a semantic layer over graph databaseHow to invoke runnables in parallelHow to stream chat model responsesHow to add default invocation args to a RunnableHow to add retrieval to chatbotsHow to use few shot examples in chat modelsHow to do tool/function callingHow to install LangChain packagesHow to add examples to the prompt for query analysisHow to use few shot examplesHow to run custom functionsHow to use output parsers to parse an LLM response into structured formatHow to handle cases where no queries are generatedHow to route between sub-chainsHow to return structured data from a modelHow to summarize text through parallelizationHow to summarize text through iterative refinementHow to summarize text in a single LLM callHow to use toolkitsHow to add ad-hoc tool calling capability to LLMs and Chat ModelsBuild an Agent with AgentExecutor (Legacy)How to construct knowledge graphsHow to partially format prompt templatesHow to handle multiple queries when doing query analysisHow to use built-in tools and toolkitsHow to pass through arguments from one step to the nextHow to compose prompts togetherHow to handle multiple retrievers when doing query analysisHow to add values to a chain\\'s stateHow to construct filters for query analysisHow to configure runtime chain internalsHow deal with high cardinality categoricals when doing query analysisCustom Document LoaderHow to use the MultiQueryRetrieverHow to add scores to retriever resultsCachingHow to use callbacks in async environmentsHow to attach callbacks to a runnableHow to propagate callbacks constructorHow to dispatch custom callback eventsHow to pass callbacks in at runtimeHow to split by characterHow to cache chat model responsesHow to handle rate limitsHow to init any model in one lineHow to track token usage in ChatModelsHow to add tools to chatbotsHow to split codeHow to do retrieval with contextual compressionHow to convert Runnables to ToolsHow to create custom callback handlersHow to create a custom chat model classCustom EmbeddingsHow to create a custom LLM classCustom RetrieverHow to create toolsHow to debug your LLM appsHow to load CSVsHow to load documents from a directoryHow to load HTMLHow to load JSONHow to load MarkdownHow to load Microsoft Office filesHow to load PDFsHow to load web pagesHow to create a dynamic (self-constructing) chainText embedding modelsHow to combine results from multiple retrieversHow to select examples from a LangSmith datasetHow to select examples by lengthHow to select examples by maximal marginal relevance (MMR)How to select examples by n-gram overlapHow to select examples by similarityHow to use reference examples when doing extractionHow to handle long text when doing extractionHow to use prompting alone (no tool calling) to do extractionHow to add fallbacks to a runnableHow to filter messagesHybrid SearchHow to use the LangChain indexing APIHow to inspect runnablesLangChain Expression Language CheatsheetHow to cache LLM responsesHow to track token usage for LLMsRun models locallyHow to get log probabilitiesHow to reorder retrieved results to mitigate the \"lost in the middle\" effectHow to split Markdown by HeadersHow to merge consecutive messages of the same typeHow to add message historyHow to migrate from legacy LangChain agents to LangGraphHow to retrieve using multiple vectors per documentHow to pass multimodal data directly to modelsHow to use multimodal promptsHow to create a custom Output ParserHow to use the output-fixing parserHow to parse JSON outputHow to retry when a parsing error occursHow to parse text from message objectsHow to parse XML outputHow to parse YAML outputHow to use the Parent Document RetrieverHow to use LangChain with different Pydantic versionsHow to add chat historyHow to get a RAG application to add citationsHow to do per-user retrievalHow to get your RAG application to return sourcesHow to stream results from your RAG applicationHow to split JSON dataHow to recursively split text by charactersResponse metadataHow to pass runtime secrets to runnablesHow to do \"self-querying\" retrievalHow to split text based on semantic similarityHow to chain runnablesHow to save and load LangChain objectsHow to split text by tokensHow to split HTMLHow to do question answering over CSVsHow to deal with large databases when doing SQL question-answeringHow to better prompt when doing SQL question-answeringHow to do query validation as part of SQL question-answeringHow to stream runnablesHow to stream responses from an LLMHow to use a time-weighted vector store retrieverHow to return artifacts from a toolHow to use chat models to call toolsHow to disable parallel tool callingHow to force models to call a toolHow to access the RunnableConfig from a toolHow to pass tool outputs to chat modelsHow to pass run time values to toolsHow to stream events from a toolHow to stream tool callsHow to convert tools to OpenAI FunctionsHow to handle tool errorsHow to use few-shot prompting with tool callingHow to add a human-in-the-loop for toolsHow to bind model-specific toolsHow to trim messagesHow to create and query vector stores  \\nConceptual guide  \\nAgentsArchitectureAsync programming with langchainCallbacksChat historyChat modelsDocument loadersEmbedding modelsEvaluationExample selectorsFew-shot promptingConceptual guideKey-value storesLangChain Expression Language (LCEL)MessagesMultimodalityOutput parsersPrompt TemplatesRetrieval augmented generation (RAG)RetrievalRetrieversRunnable interfaceStreamingStructured outputsTestingString-in, string-out llmsText splittersTokensTool callingToolsTracingVector storesWhy LangChain?  \\nEcosystem  \\n🦜🛠️ LangSmith🦜🕸️ LangGraph  \\nVersions  \\nv0.3Pydantic compatibilityRelease policy  \\nv0.2  \\nMigrating from v0.0 chains  \\nHow to migrate from v0.0 chainsMigrating from ConstitutionalChainMigrating from ConversationalChainMigrating from ConversationalRetrievalChainMigrating from LLMChainMigrating from LLMMathChainMigrating from LLMRouterChainMigrating from MapReduceDocumentsChainMigrating from MapRerankDocumentsChainMigrating from MultiPromptChainMigrating from RefineDocumentsChainMigrating from RetrievalQAMigrating from StuffDocumentsChain  \\nUpgrading to LangGraph memory  \\nHow to migrate to LangGraph memoryHow to use BaseChatMessageHistory with LangGraphMigrating off ConversationBufferMemory or ConversationStringBufferMemoryMigrating off ConversationBufferWindowMemory or ConversationTokenBufferMemoryMigrating off ConversationSummaryMemory or ConversationSummaryBufferMemoryA Long-Term Memory Agent  \\nTutorials  \\nOn this page  \\nTutorials Get started\\u200b Orchestration\\u200b LangSmith\\u200b Evaluation\\u200b'),\n",
       " Document(metadata={'Header 1': 'Tutorials'}, page_content='New to LangChain or LLM app development in general? Read this material to quickly get up and running building your first applications.'),\n",
       " Document(metadata={'Header 1': 'Tutorials', 'Header 2': 'Get started\\u200b'}, page_content=\"Familiarize yourself with LangChain's open-source components by building simple applications.  \\nIf you're looking to get started with chat models, vector stores, or other LangChain components from a specific provider, check out our supported integrations.  \\nChat models and prompts: Build a simple LLM application with prompt templates and chat models. Semantic search: Build a semantic search engine over a PDF with document loaders, embedding models, and vector stores. Classification: Classify text into categories or labels using chat models with structured outputs. Extraction: Extract structured data from text and other unstructured media using chat models and few-shot examples.  \\nRefer to the how-to guides for more detail on using all LangChain components.\"),\n",
       " Document(metadata={'Header 1': 'Tutorials', 'Header 2': 'Orchestration\\u200b'}, page_content='Get started using LangGraph to assemble LangChain components into full-featured applications.  \\nChatbots: Build a chatbot that incorporates memory. Agents: Build an agent that interacts with external tools. Retrieval Augmented Generation (RAG) Part 1: Build an application that uses your own documents to inform its responses. Retrieval Augmented Generation (RAG) Part 2: Build a RAG application that incorporates a memory of its user interactions and multi-step retrieval. Question-Answering with SQL: Build a question-answering system that executes SQL queries to inform its responses. Summarization: Generate summaries of (potentially long) texts. Question-Answering with Graph Databases: Build a question-answering system that queries a graph database to inform its responses.'),\n",
       " Document(metadata={'Header 1': 'Tutorials', 'Header 2': 'LangSmith\\u200b'}, page_content='LangSmith allows you to closely trace, monitor and evaluate your LLM application. It seamlessly integrates with LangChain, and you can use it to inspect and debug individual steps of your chains as you build.  \\nLangSmith documentation is hosted on a separate site. You can peruse LangSmith tutorials here.'),\n",
       " Document(metadata={'Header 1': 'Tutorials', 'Header 2': 'LangSmith\\u200b', 'Header 3': 'Evaluation\\u200b'}, page_content='LangSmith helps you evaluate the performance of your LLM applications. The tutorial below is a great way to get started:  \\nEvaluate your LLM application'),\n",
       " Document(metadata={}, page_content='Edit this page  \\nWas this page helpful?  \\nPrevious  \\nIntroduction  \\nNext  \\nBuild a Question Answering application over a Graph Database  \\nGet startedOrchestrationLangSmith  \\nEvaluation  \\nCommunity  \\nTwitter  \\nGitHub  \\nOrganizationPythonJS/TS  \\nMore  \\nHomepageBlogYouTube  \\nCopyright © 2025 LangChain, Inc.')]"
      ]
     },
     "execution_count": 2,
     "metadata": {},
     "output_type": "execute_result"
    }
   ],
   "source": [
    "# Split HTML content from URL using header tags\n",
    "\n",
    "url = \"https://python.langchain.com/docs/tutorials/\"\n",
    "\n",
    "headers_to_split_on = [\n",
    "    (\"h1\", \"Header 1\"),\n",
    "    (\"h2\", \"Header 2\"),\n",
    "    (\"h3\", \"Header 3\"),\n",
    "    (\"h4\", \"Header 4\"),\n",
    "]\n",
    "html_splitter = HTMLHeaderTextSplitter(headers_to_split_on)\n",
    "html_header_splits = html_splitter.split_text_from_url(url)\n",
    "html_header_splits"
   ]
  },
  {
   "cell_type": "markdown",
   "metadata": {},
   "source": [
    "- HTML URL Processing: To split web content from URL into JSON format with header-based hierarchy."
   ]
  },
  {
   "cell_type": "code",
   "execution_count": 4,
   "metadata": {},
   "outputs": [
    {
     "name": "stdout",
     "output_type": "stream",
     "text": [
      "Veri başarıyla JSON formatında kaydedildi: html_header_splits.json\n"
     ]
    }
   ],
   "source": [
    "# Process HTML content from URL and save as JSON\n",
    "\n",
    "import json\n",
    "from langchain.text_splitter import HTMLHeaderTextSplitter\n",
    "\n",
    "# URL ve başlık ayırıcılarının tanımı\n",
    "url = \"https://python.langchain.com/docs/tutorials/\"\n",
    "headers_to_split_on = [\n",
    "    (\"h1\", \"Header 1\"),\n",
    "    (\"h2\", \"Header 2\"),\n",
    "    (\"h3\", \"Header 3\"),\n",
    "    (\"h4\", \"Header 4\"),\n",
    "]\n",
    "\n",
    "# HTMLHeaderTextSplitter ile başlık bazlı içerik bölme\n",
    "html_splitter = HTMLHeaderTextSplitter(headers_to_split_on)\n",
    "\n",
    "try:\n",
    "    # URL'den içerik ayıklama ve bölme\n",
    "    html_header_splits = html_splitter.split_text_from_url(url)\n",
    "\n",
    "    # Document nesnelerini JSON formatına uygun bir yapıya dönüştürme\n",
    "    json_ready_data = [\n",
    "        {\"Header\": doc.metadata.get(\"type\", \"Unknown\"), \"Content\": doc.page_content}\n",
    "        for doc in html_header_splits\n",
    "    ]\n",
    "\n",
    "    # Veriyi JSON formatında kaydetme\n",
    "    output_json = \"html_header_splits.json\"\n",
    "    with open(output_json, mode=\"w\", encoding=\"utf-8\") as file:\n",
    "        json.dump(json_ready_data, file, ensure_ascii=False, indent=4)\n",
    "\n",
    "    print(f\"Veri başarıyla JSON formatında kaydedildi: {output_json}\")\n",
    "\n",
    "except Exception as e:\n",
    "    # Hata durumunda bilgi verme\n",
    "    print(f\"Bir hata oluştu: {e}\")\n"
   ]
  },
  {
   "cell_type": "code",
   "execution_count": 5,
   "metadata": {},
   "outputs": [
    {
     "data": {
      "text/plain": [
       "'html_header_splits.json'"
      ]
     },
     "execution_count": 5,
     "metadata": {},
     "output_type": "execute_result"
    }
   ],
   "source": [
    "output_json"
   ]
  },
  {
   "cell_type": "markdown",
   "metadata": {},
   "source": [
    "- JSON Reading: To read and display formatted JSON content from a file."
   ]
  },
  {
   "cell_type": "code",
   "execution_count": 6,
   "metadata": {},
   "outputs": [
    {
     "name": "stdout",
     "output_type": "stream",
     "text": [
      "[\n",
      "    {\n",
      "        \"Header\": \"Unknown\",\n",
      "        \"Content\": \"Skip to main content  \\nIntegrationsAPI Reference  \\nMore  \\nContributingPeopleError referenceLangSmithLangGraphLangChain HubLangChain JS/TS  \\n💬  \\nv0.3  \\nv0.3v0.2v0.1  \\nSearch  \\nIntroductionSecurity Policy  \\nTutorials  \\nBuild a Question Answering application over a Graph DatabaseTutorialsBuild a simple LLM application with chat models and prompt templatesBuild a ChatbotBuild a Retrieval Augmented Generation (RAG) App: Part 2Build an Extraction ChainBuild an AgentTaggingBuild a Retrieval Augmented Generation (RAG) App: Part 1Build a semantic search engineBuild a Question/Answering system over SQL dataSummarize Text  \\nHow-to guides  \\nHow-to guidesHow to use tools in a chainHow to use a vectorstore as a retrieverHow to add memory to chatbotsHow to use example selectorsHow to add a semantic layer over graph databaseHow to invoke runnables in parallelHow to stream chat model responsesHow to add default invocation args to a RunnableHow to add retrieval to chatbotsHow to use few shot examples in chat modelsHow to do tool/function callingHow to install LangChain packagesHow to add examples to the prompt for query analysisHow to use few shot examplesHow to run custom functionsHow to use output parsers to parse an LLM response into structured formatHow to handle cases where no queries are generatedHow to route between sub-chainsHow to return structured data from a modelHow to summarize text through parallelizationHow to summarize text through iterative refinementHow to summarize text in a single LLM callHow to use toolkitsHow to add ad-hoc tool calling capability to LLMs and Chat ModelsBuild an Agent with AgentExecutor (Legacy)How to construct knowledge graphsHow to partially format prompt templatesHow to handle multiple queries when doing query analysisHow to use built-in tools and toolkitsHow to pass through arguments from one step to the nextHow to compose prompts togetherHow to handle multiple retrievers when doing query analysisHow to add values to a chain's stateHow to construct filters for query analysisHow to configure runtime chain internalsHow deal with high cardinality categoricals when doing query analysisCustom Document LoaderHow to use the MultiQueryRetrieverHow to add scores to retriever resultsCachingHow to use callbacks in async environmentsHow to attach callbacks to a runnableHow to propagate callbacks constructorHow to dispatch custom callback eventsHow to pass callbacks in at runtimeHow to split by characterHow to cache chat model responsesHow to handle rate limitsHow to init any model in one lineHow to track token usage in ChatModelsHow to add tools to chatbotsHow to split codeHow to do retrieval with contextual compressionHow to convert Runnables to ToolsHow to create custom callback handlersHow to create a custom chat model classCustom EmbeddingsHow to create a custom LLM classCustom RetrieverHow to create toolsHow to debug your LLM appsHow to load CSVsHow to load documents from a directoryHow to load HTMLHow to load JSONHow to load MarkdownHow to load Microsoft Office filesHow to load PDFsHow to load web pagesHow to create a dynamic (self-constructing) chainText embedding modelsHow to combine results from multiple retrieversHow to select examples from a LangSmith datasetHow to select examples by lengthHow to select examples by maximal marginal relevance (MMR)How to select examples by n-gram overlapHow to select examples by similarityHow to use reference examples when doing extractionHow to handle long text when doing extractionHow to use prompting alone (no tool calling) to do extractionHow to add fallbacks to a runnableHow to filter messagesHybrid SearchHow to use the LangChain indexing APIHow to inspect runnablesLangChain Expression Language CheatsheetHow to cache LLM responsesHow to track token usage for LLMsRun models locallyHow to get log probabilitiesHow to reorder retrieved results to mitigate the \\\"lost in the middle\\\" effectHow to split Markdown by HeadersHow to merge consecutive messages of the same typeHow to add message historyHow to migrate from legacy LangChain agents to LangGraphHow to retrieve using multiple vectors per documentHow to pass multimodal data directly to modelsHow to use multimodal promptsHow to create a custom Output ParserHow to use the output-fixing parserHow to parse JSON outputHow to retry when a parsing error occursHow to parse text from message objectsHow to parse XML outputHow to parse YAML outputHow to use the Parent Document RetrieverHow to use LangChain with different Pydantic versionsHow to add chat historyHow to get a RAG application to add citationsHow to do per-user retrievalHow to get your RAG application to return sourcesHow to stream results from your RAG applicationHow to split JSON dataHow to recursively split text by charactersResponse metadataHow to pass runtime secrets to runnablesHow to do \\\"self-querying\\\" retrievalHow to split text based on semantic similarityHow to chain runnablesHow to save and load LangChain objectsHow to split text by tokensHow to split HTMLHow to do question answering over CSVsHow to deal with large databases when doing SQL question-answeringHow to better prompt when doing SQL question-answeringHow to do query validation as part of SQL question-answeringHow to stream runnablesHow to stream responses from an LLMHow to use a time-weighted vector store retrieverHow to return artifacts from a toolHow to use chat models to call toolsHow to disable parallel tool callingHow to force models to call a toolHow to access the RunnableConfig from a toolHow to pass tool outputs to chat modelsHow to pass run time values to toolsHow to stream events from a toolHow to stream tool callsHow to convert tools to OpenAI FunctionsHow to handle tool errorsHow to use few-shot prompting with tool callingHow to add a human-in-the-loop for toolsHow to bind model-specific toolsHow to trim messagesHow to create and query vector stores  \\nConceptual guide  \\nAgentsArchitectureAsync programming with langchainCallbacksChat historyChat modelsDocument loadersEmbedding modelsEvaluationExample selectorsFew-shot promptingConceptual guideKey-value storesLangChain Expression Language (LCEL)MessagesMultimodalityOutput parsersPrompt TemplatesRetrieval augmented generation (RAG)RetrievalRetrieversRunnable interfaceStreamingStructured outputsTestingString-in, string-out llmsText splittersTokensTool callingToolsTracingVector storesWhy LangChain?  \\nEcosystem  \\n🦜🛠️ LangSmith🦜🕸️ LangGraph  \\nVersions  \\nv0.3Pydantic compatibilityRelease policy  \\nv0.2  \\nMigrating from v0.0 chains  \\nHow to migrate from v0.0 chainsMigrating from ConstitutionalChainMigrating from ConversationalChainMigrating from ConversationalRetrievalChainMigrating from LLMChainMigrating from LLMMathChainMigrating from LLMRouterChainMigrating from MapReduceDocumentsChainMigrating from MapRerankDocumentsChainMigrating from MultiPromptChainMigrating from RefineDocumentsChainMigrating from RetrievalQAMigrating from StuffDocumentsChain  \\nUpgrading to LangGraph memory  \\nHow to migrate to LangGraph memoryHow to use BaseChatMessageHistory with LangGraphMigrating off ConversationBufferMemory or ConversationStringBufferMemoryMigrating off ConversationBufferWindowMemory or ConversationTokenBufferMemoryMigrating off ConversationSummaryMemory or ConversationSummaryBufferMemoryA Long-Term Memory Agent  \\nTutorials  \\nOn this page  \\nTutorials Get started​ Orchestration​ LangSmith​ Evaluation​\"\n",
      "    },\n",
      "    {\n",
      "        \"Header\": \"Unknown\",\n",
      "        \"Content\": \"New to LangChain or LLM app development in general? Read this material to quickly get up and running building your first applications.\"\n",
      "    },\n",
      "    {\n",
      "        \"Header\": \"Unknown\",\n",
      "        \"Content\": \"Familiarize yourself with LangChain's open-source components by building simple applications.  \\nIf you're looking to get started with chat models, vector stores, or other LangChain components from a specific provider, check out our supported integrations.  \\nChat models and prompts: Build a simple LLM application with prompt templates and chat models. Semantic search: Build a semantic search engine over a PDF with document loaders, embedding models, and vector stores. Classification: Classify text into categories or labels using chat models with structured outputs. Extraction: Extract structured data from text and other unstructured media using chat models and few-shot examples.  \\nRefer to the how-to guides for more detail on using all LangChain components.\"\n",
      "    },\n",
      "    {\n",
      "        \"Header\": \"Unknown\",\n",
      "        \"Content\": \"Get started using LangGraph to assemble LangChain components into full-featured applications.  \\nChatbots: Build a chatbot that incorporates memory. Agents: Build an agent that interacts with external tools. Retrieval Augmented Generation (RAG) Part 1: Build an application that uses your own documents to inform its responses. Retrieval Augmented Generation (RAG) Part 2: Build a RAG application that incorporates a memory of its user interactions and multi-step retrieval. Question-Answering with SQL: Build a question-answering system that executes SQL queries to inform its responses. Summarization: Generate summaries of (potentially long) texts. Question-Answering with Graph Databases: Build a question-answering system that queries a graph database to inform its responses.\"\n",
      "    },\n",
      "    {\n",
      "        \"Header\": \"Unknown\",\n",
      "        \"Content\": \"LangSmith allows you to closely trace, monitor and evaluate your LLM application. It seamlessly integrates with LangChain, and you can use it to inspect and debug individual steps of your chains as you build.  \\nLangSmith documentation is hosted on a separate site. You can peruse LangSmith tutorials here.\"\n",
      "    },\n",
      "    {\n",
      "        \"Header\": \"Unknown\",\n",
      "        \"Content\": \"LangSmith helps you evaluate the performance of your LLM applications. The tutorial below is a great way to get started:  \\nEvaluate your LLM application\"\n",
      "    },\n",
      "    {\n",
      "        \"Header\": \"Unknown\",\n",
      "        \"Content\": \"Edit this page  \\nWas this page helpful?  \\nPrevious  \\nIntroduction  \\nNext  \\nBuild a Question Answering application over a Graph Database  \\nGet startedOrchestrationLangSmith  \\nEvaluation  \\nCommunity  \\nTwitter  \\nGitHub  \\nOrganizationPythonJS/TS  \\nMore  \\nHomepageBlogYouTube  \\nCopyright © 2025 LangChain, Inc.\"\n",
      "    }\n",
      "]\n"
     ]
    }
   ],
   "source": [
    "# Read and display JSON data with JSON formatting\n",
    "\n",
    "with open(\"html_header_splits.json\", mode=\"r\", encoding=\"utf-8\") as file:\n",
    "    data = json.load(file)\n",
    "    print(json.dumps(data, indent=4, ensure_ascii=False))"
   ]
  },
  {
   "cell_type": "code",
   "execution_count": null,
   "metadata": {},
   "outputs": [],
   "source": [
    "# END"
   ]
  }
 ],
 "metadata": {
  "kernelspec": {
   "display_name": "Python 3",
   "language": "python",
   "name": "python3"
  },
  "language_info": {
   "codemirror_mode": {
    "name": "ipython",
    "version": 3
   },
   "file_extension": ".py",
   "mimetype": "text/x-python",
   "name": "python",
   "nbconvert_exporter": "python",
   "pygments_lexer": "ipython3",
   "version": "3.12.6"
  }
 },
 "nbformat": 4,
 "nbformat_minor": 2
}
