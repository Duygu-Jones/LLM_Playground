{
 "cells": [
  {
   "cell_type": "markdown",
   "id": "22a05015",
   "metadata": {},
   "source": [
    "# TUM KATEGORILERIN MERGE EDILMESI -FINAL CVS "
   ]
  },
  {
   "cell_type": "markdown",
   "id": "d1aa00dc-fd8f-4c98-a350-c6290b877a47",
   "metadata": {},
   "source": [
    "### Imports Libraries"
   ]
  },
  {
   "cell_type": "code",
   "execution_count": 9,
   "id": "e9bb2ba0",
   "metadata": {
    "ExecuteTime": {
     "end_time": "2024-10-26T15:58:03.029792Z",
     "start_time": "2024-10-26T15:57:57.988428Z"
    }
   },
   "outputs": [],
   "source": [
    "import numpy as np \n",
    "import pandas as pd \n",
    "import matplotlib.pyplot as plt\n",
    "import plotly.express as px\n",
    "import seaborn as sns\n",
    "import cufflinks as cf\n",
    "%matplotlib inline \n",
    "\n",
    "from scipy import stats\n",
    "\n",
    "\n",
    "pd.set_option('display.max_rows', 1000)\n",
    "pd.set_option('display.max_columns', 1000)\n",
    "pd.set_option('display.width', 1000)\n",
    "\n",
    "import warnings\n",
    "warnings.filterwarnings(\"ignore\")"
   ]
  },
  {
   "cell_type": "markdown",
   "id": "330efe83-58f1-4664-9d0c-e2a47340a0c3",
   "metadata": {},
   "source": [
    "### Import Local `utils1` Modul"
   ]
  },
  {
   "cell_type": "code",
   "execution_count": null,
   "id": "573ded06-075e-46ec-89c7-c322e93470fd",
   "metadata": {
    "ExecuteTime": {
     "end_time": "2024-10-26T15:58:03.466146Z",
     "start_time": "2024-10-26T15:58:03.466146Z"
    }
   },
   "outputs": [],
   "source": [
    "#  FONKSIYONLARIMIZI DERLEDIGIMIZ `UTILS` ADINDAKI MODULU BU NOTEBOOK ICINE IMPORT EDIYORUZ\n",
    "\n",
    "import sys\n",
    "\n",
    "# utils1.py dosyasının bulunduğu dizini ham dize olarak ekleyin\n",
    "sys.path.append(\"C:/Users/duygu/Desktop/00-GitHub-Repo/00-1INTERNSHIP/INT1_PROJECT/UTILITIES/\")\n",
    "\n",
    "# 'utils1.py' dosyasında olusturulan Utils sınıfını import et\n",
    "from utils1 import Utils, UtilsAnalysis\n",
    "\n",
    "# utils1 icindeki tum class'lardan bir nesne oluştur\n",
    "utils = Utils()\n",
    "utils_analysis = UtilsAnalysis()"
   ]
  },
  {
   "cell_type": "code",
   "execution_count": 3,
   "id": "2da7bb2d-f669-4c73-8281-a1e142e0c27a",
   "metadata": {
    "ExecuteTime": {
     "end_time": "2024-10-26T13:44:59.575456Z",
     "start_time": "2024-10-26T13:44:59.569514Z"
    },
    "collapsed": true
   },
   "outputs": [
    {
     "data": {
      "text/plain": [
       "['__class__',\n",
       " '__delattr__',\n",
       " '__dict__',\n",
       " '__dir__',\n",
       " '__doc__',\n",
       " '__eq__',\n",
       " '__format__',\n",
       " '__ge__',\n",
       " '__getattribute__',\n",
       " '__getstate__',\n",
       " '__gt__',\n",
       " '__hash__',\n",
       " '__init__',\n",
       " '__init_subclass__',\n",
       " '__le__',\n",
       " '__lt__',\n",
       " '__module__',\n",
       " '__ne__',\n",
       " '__new__',\n",
       " '__reduce__',\n",
       " '__reduce_ex__',\n",
       " '__repr__',\n",
       " '__setattr__',\n",
       " '__sizeof__',\n",
       " '__str__',\n",
       " '__subclasshook__',\n",
       " '__weakref__',\n",
       " 'df',\n",
       " 'read_excel_page',\n",
       " 'save_and_load_csv']"
      ]
     },
     "execution_count": 3,
     "metadata": {},
     "output_type": "execute_result"
    }
   ],
   "source": [
    "# utils nesnesindeki tüm fonksiyonları ve öznitelikleri listelemek için\n",
    "dir(utils)"
   ]
  },
  {
   "cell_type": "code",
   "execution_count": 4,
   "id": "7c68fdc4-3553-4bce-9a54-3c082b963e2f",
   "metadata": {
    "ExecuteTime": {
     "end_time": "2024-10-26T13:44:59.593469Z",
     "start_time": "2024-10-26T13:44:59.587579Z"
    },
    "collapsed": true
   },
   "outputs": [
    {
     "data": {
      "text/plain": [
       "['__class__',\n",
       " '__delattr__',\n",
       " '__dict__',\n",
       " '__dir__',\n",
       " '__doc__',\n",
       " '__eq__',\n",
       " '__format__',\n",
       " '__ge__',\n",
       " '__getattribute__',\n",
       " '__getstate__',\n",
       " '__gt__',\n",
       " '__hash__',\n",
       " '__init__',\n",
       " '__init_subclass__',\n",
       " '__le__',\n",
       " '__lt__',\n",
       " '__module__',\n",
       " '__ne__',\n",
       " '__new__',\n",
       " '__reduce__',\n",
       " '__reduce_ex__',\n",
       " '__repr__',\n",
       " '__setattr__',\n",
       " '__sizeof__',\n",
       " '__str__',\n",
       " '__subclasshook__',\n",
       " '__weakref__',\n",
       " 'detect_anomalies',\n",
       " 'duplicate_values',\n",
       " 'find_non_numeric_values',\n",
       " 'get_value_count',\n",
       " 'missing_values',\n",
       " 'na_ratio_plot',\n",
       " 'numeric_summary',\n",
       " 'object_summary',\n",
       " 'rename_columns_by_position',\n",
       " 'set_df']"
      ]
     },
     "execution_count": 4,
     "metadata": {},
     "output_type": "execute_result"
    }
   ],
   "source": [
    "# utils nesnesindeki tüm fonksiyonları ve öznitelikleri listelemek için\n",
    "dir(UtilsAnalysis)"
   ]
  },
  {
   "cell_type": "markdown",
   "id": "34d34efd-34c3-440f-85ce-e4d1772b4b9b",
   "metadata": {},
   "source": [
    "### User Defined Funcs for Summary of Data"
   ]
  },
  {
   "cell_type": "code",
   "execution_count": 15,
   "id": "9ad98e5c-0e6a-4916-a18a-9923b9e733b6",
   "metadata": {
    "ExecuteTime": {
     "end_time": "2024-10-26T16:06:27.768363Z",
     "start_time": "2024-10-26T16:06:27.750266Z"
    }
   },
   "outputs": [],
   "source": [
    "# =============== User-Defined-Function ==========================\n",
    "\n",
    "def rename_columns_by_position(df, new_column_names):\n",
    "    \"\"\"\n",
    "    DataFrame'deki sütun adlarını pozisyona göre yeniden adlandırır.\n",
    "\n",
    "    Parameters:\n",
    "        df (pd.DataFrame): Sütun adlarını değiştirmek istediğiniz DataFrame.\n",
    "        new_column_names (list): Yeni sütun adlarının listesi.\n",
    "\n",
    "    Returns:\n",
    "        pd.DataFrame: Yeni sütun adlarıyla güncellenmiş DataFrame.\n",
    "    \"\"\"\n",
    "    # Sütun sayısının uyumlu olup olmadığını kontrol et\n",
    "    if len(new_column_names) != len(df.columns):\n",
    "        raise ValueError(\"Sütun sayısı ile yeni adların sayısı eşleşmiyor.\")\n",
    "    \n",
    "    # Yeni sütun adlarını atama\n",
    "    df.columns = new_column_names   \n",
    "    return df\n",
    "\n",
    "\n",
    "#================ Categorical Features Summary ===================\n",
    "def object_summary(df):\n",
    "    obs = df.shape[0]\n",
    "    duplicate_count = df.duplicated().sum()\n",
    "\n",
    "    # Kategorik sütunlar için özetleme\n",
    "    object_df = df.select_dtypes(include='object')\n",
    "    \n",
    "    # Yeni bir boş DataFrame oluşturma\n",
    "    summary_df = pd.DataFrame(index=object_df.columns)\n",
    "\n",
    "    summary_df['Dtype'] = object_df.dtypes\n",
    "    summary_df['Counts'] = object_df.count()\n",
    "    summary_df['Nulls'] = object_df.isnull().sum()\n",
    "    summary_df['NullPercent'] = (object_df.isnull().sum() / obs) * 100\n",
    "    summary_df['Top'] = object_df.apply(lambda x: x.mode().iloc[0] if not x.mode().empty else '-')\n",
    "    summary_df['Frequency'] = object_df.apply(lambda x: x.value_counts().max() if not x.value_counts().empty else '-')\n",
    "    summary_df['Uniques'] = object_df.nunique()\n",
    "\n",
    "    # UniqueValues sütununu kontrol ederek ekleme (dize olarak)\n",
    "    summary_df['UniqueValues'] = object_df.apply(\n",
    "        lambda x: ', '.join(map(str, x.unique()[:10])) + '...' if x.nunique() > 10 else ', '.join(map(str, x.unique()))\n",
    "    )\n",
    "\n",
    "    # DataFrame şekli ve tekrar eden satır sayısını ekrana yazdırma\n",
    "    print(f'1. Data shape (rows, columns): {df.shape}')\n",
    "    print(f'2. Number of duplicate rows: {duplicate_count}')\n",
    "    return summary_df\n",
    "\n",
    "\n",
    "#================ Numerical Features Summary ===================\n",
    "def numeric_summary(df):\n",
    "    obs = df.shape[0]\n",
    "    duplicate_count = df.duplicated().sum()\n",
    "\n",
    "    # Numerik sütunlar için özetleme\n",
    "    numeric_df = df.select_dtypes(include=['float64', 'int64'])\n",
    "\n",
    "    # Yeni bir boş DataFrame oluşturma\n",
    "    summary_df = pd.DataFrame(index=numeric_df.columns)\n",
    "\n",
    "    summary_df['Dtype'] = numeric_df.dtypes\n",
    "    summary_df['Counts'] = numeric_df.count()\n",
    "    summary_df['Nulls'] = numeric_df.isnull().sum()\n",
    "    summary_df['NullPercent'] = (numeric_df.isnull().sum() / obs) * 100\n",
    "    summary_df['Mean'] = numeric_df.mean()\n",
    "    summary_df['Std'] = numeric_df.std()\n",
    "    summary_df['Min'] = numeric_df.min()\n",
    "    summary_df['25%'] = numeric_df.quantile(0.25)\n",
    "    summary_df['50% (Median)'] = numeric_df.median()\n",
    "    summary_df['75%'] = numeric_df.quantile(0.75)\n",
    "    summary_df['Max'] = numeric_df.max()\n",
    "\n",
    "    # DataFrame şekli ve tekrar eden satır sayısını ekrana yazdırma\n",
    "    print(f'1. Data shape (rows, columns): {df.shape}')\n",
    "    print(f'2. Number of duplicate rows: {duplicate_count}')\n",
    "    return summary_df\n",
    "    \n",
    "\n",
    "#========== Get count and percentage of values for each column =================\n",
    "def get_value_count(df, column_name):\n",
    "    \"\"\"\n",
    "    This function calculates and returns a DataFrame with the value counts and \n",
    "    their corresponding percentages for a specified column in the DataFrame.\n",
    "    \"\"\"\n",
    "    \n",
    "    vc = df[column_name].value_counts()\n",
    "    vc_norm = df[column_name].value_counts(normalize=True)\n",
    "    \n",
    "    vc = vc.rename_axis(column_name).reset_index(name='counts')\n",
    "    vc_norm = vc_norm.rename_axis(column_name).reset_index(name='percent')\n",
    "    vc_norm['percent'] = (vc_norm['percent'] * 100).map('{:.2f}%'.format)\n",
    "    \n",
    "    df_result = pd.concat([vc[column_name], vc['counts'], vc_norm['percent']], axis=1)\n",
    "    return df_result\n",
    "\n",
    "\n",
    "#============== Checks duplicates and drops them ==========================\n",
    "\n",
    "def duplicate_values(df):\n",
    "    print(\"Duplicate check...\")\n",
    "    num_duplicates = df.duplicated(subset=None, keep='first').sum()\n",
    "    if num_duplicates > 0:\n",
    "        print(\"There are\", num_duplicates, \"duplicated observations in the dataset.\")\n",
    "        df.drop_duplicates(keep='first', inplace=True)\n",
    "        print(num_duplicates, \"duplicates were dropped!\")\n",
    "        print(\"No more duplicate rows!\")\n",
    "    else:\n",
    "        print(\"There are no duplicated observations in the dataset.\")\n",
    "\n",
    "\n",
    "\n",
    "# ========== User-Defined-Function for Missing Values ============\n",
    "def missing_values(df):\n",
    "    \"\"\"This function calculates the missing values count and their percentage in a DataFrame.\"\"\"\n",
    "\n",
    "    missing_count = df.isnull().sum()\n",
    "    value_count = df.isnull().count()\n",
    "    missing_percentage = round(missing_count / value_count * 100, 2)\n",
    "    \n",
    "    # Format the percentage as '0.00%' with % symbol\n",
    "    missing_percentage_formatted = missing_percentage.map(\"{:.2f}%\".format)\n",
    "    # Create a DataFrame to store the results\n",
    "    missing_df = pd.DataFrame({\"count\": missing_count, \"percentage\": missing_percentage_formatted}) \n",
    "    return missing_df\n",
    "\n",
    "\n",
    "# ========== Plotting Missing Values  ===========================\n",
    "def na_ratio_plot(df):\n",
    "    \"\"\"Plots the ratio of missing values for each feature and prints the count of missing values.\"\"\"\n",
    "    \n",
    "    sns.displot(df.isna().melt(value_name='Missing_data',var_name='Features')\\\n",
    "                ,y='Features',hue='Missing_data',multiple='fill',aspect=9/8)\n",
    "\n",
    "    print(df.isna().sum()[df.isna().sum()>0])\n",
    "\n",
    "    \n",
    "    \n",
    "#========== Detecting Anomalies ================================\n",
    "\n",
    "def detect_anomalies(df, column_name):\n",
    "    \"\"\"\n",
    "    Detects values with unusual (non-alphanumeric) characters in a column.\n",
    "    Returns: list: Detected unusual character values.\n",
    "    \"\"\"\n",
    "    # Get the unique values in the column\n",
    "    unique_values = df[column_name].unique()    \n",
    "    # Detect values with unusual characters (non-alphanumeric)\n",
    "    unusual_characters = [val for val in unique_values if isinstance(val, str) and not val.isalnum()]\n",
    "    \n",
    "    # Return the list as a single string with values separated by commas\n",
    "    return ', '.join(unusual_characters)\n",
    "\n",
    "\n",
    "#========== Detecting Non-Numerical Characters ===========================\n",
    "\n",
    "import re\n",
    "\n",
    "def find_non_numeric_values(df, column_name):\n",
    "    \"\"\"\n",
    "    Finds unique non-numeric values in a specified column of the DataFrame.\n",
    "    \"\"\"\n",
    "    pattern = r'\\D+'  # Pattern to match non-numeric characters\n",
    "    # Find and flatten non-numeric values, then ensure uniqueness with set\n",
    "    return set(re.findall(pattern, ' '.join(df[column_name].astype(str))))\n",
    "\n",
    "\n",
    "#===============Plot all Categoricals Bar Chart ===========================\n",
    "def plot_categorical_bar_graphs(df):\n",
    "    \"\"\"\n",
    "    DataFrame'deki tüm kategorik veriler için bar grafikleri oluşturur.\n",
    "    \n",
    "    Args:\n",
    "    - df (DataFrame): Kategorik verileri içeren DataFrame.\n",
    "    \"\"\"\n",
    "    # Kategorik sütunları seçme\n",
    "    categorical_columns = df.select_dtypes(include=['object', 'category']).columns\n",
    "\n",
    "    # Her kategorik sütun için bar grafiği oluşturma\n",
    "    for column in categorical_columns:\n",
    "        plt.figure(figsize=(15, 5))\n",
    "        ax = sns.countplot(\n",
    "            x=column, \n",
    "            data=df, \n",
    "            order=df[column].value_counts().index, \n",
    "            palette='Set2'\n",
    "        )\n",
    "        ax.bar_label(ax.containers[0], rotation=45)\n",
    "        plt.xlabel(column, fontsize=12)\n",
    "        plt.ylabel('Count', fontsize=12)\n",
    "        plt.title(f'Bar Graph of {column}', fontsize=20)\n",
    "        plt.xticks(rotation=45, ha='right', fontsize=12)\n",
    "        plt.show()\n",
    "        \n",
    "#======================================================================\n",
    "\n",
    "def combine_dataframes(df_list):\n",
    "    \"\"\"\n",
    "    Verilen DataFrame listesini alt alta birleştirir.\n",
    "    \n",
    "    :param df_list: Birleştirilecek DataFrame'lerin listesi\n",
    "    :return: Birleştirilmiş DataFrame\n",
    "    \"\"\"\n",
    "    # DataFrame'leri alt alta birleştir\n",
    "    combined_df = pd.concat(df_list, ignore_index=True, sort=False)\n",
    "    \n",
    "    return combined_df\n",
    "\n",
    "#====================================================================\n",
    "\n",
    "def move_column(df, column_name, new_index):\n",
    "    \"\"\"\n",
    "    Verilen bir sütun adını belirtilen yeni indekse taşır.\n",
    "    \n",
    "    :param df: DataFrame\n",
    "    :param column_name: Taşınacak sütunun adı\n",
    "    :param new_index: Yeni indeks numarası\n",
    "    :return: Sütunları yeniden düzenlenmiş DataFrame\n",
    "    \"\"\"\n",
    "    # Mevcut sütunları listeye al\n",
    "    columns = list(df.columns)\n",
    "    \n",
    "    # Taşınacak sütunu kaldır\n",
    "    columns.remove(column_name)\n",
    "    \n",
    "    # Sütunu istenilen yeni indekse ekle\n",
    "    columns.insert(new_index, column_name)\n",
    "    \n",
    "    # DataFrame'i yeni sütun sırasına göre düzenle\n",
    "    return df[columns]\n"
   ]
  },
  {
   "cell_type": "markdown",
   "id": "8206f210",
   "metadata": {},
   "source": [
    "## Ameliyat Masasi"
   ]
  },
  {
   "cell_type": "code",
   "execution_count": null,
   "id": "b590a0e1",
   "metadata": {},
   "outputs": [],
   "source": [
    "df_ameliyat \n",
    "df_otoklav\n",
    "df_hidrojen_peroktif\n",
    "df_kartus\n",
    "df_reverse\n",
    "df_yikama\n",
    "df_oksijen"
   ]
  },
  {
   "cell_type": "code",
   "execution_count": 1,
   "id": "06e11216",
   "metadata": {
    "ExecuteTime": {
     "end_time": "2024-10-26T15:52:23.433840Z",
     "start_time": "2024-10-26T15:52:21.697655Z"
    }
   },
   "outputs": [
    {
     "data": {
      "text/html": [
       "<div>\n",
       "<style scoped>\n",
       "    .dataframe tbody tr th:only-of-type {\n",
       "        vertical-align: middle;\n",
       "    }\n",
       "\n",
       "    .dataframe tbody tr th {\n",
       "        vertical-align: top;\n",
       "    }\n",
       "\n",
       "    .dataframe thead th {\n",
       "        text-align: right;\n",
       "    }\n",
       "</style>\n",
       "<table border=\"1\" class=\"dataframe\">\n",
       "  <thead>\n",
       "    <tr style=\"text-align: right;\">\n",
       "      <th></th>\n",
       "      <th>kategori</th>\n",
       "      <th>satis_turu</th>\n",
       "      <th>siparis_no</th>\n",
       "      <th>siparis_tarihi</th>\n",
       "      <th>siparisi_veren</th>\n",
       "      <th>kurulum_yeri</th>\n",
       "      <th>il</th>\n",
       "      <th>urun_modeli</th>\n",
       "      <th>urun_adi</th>\n",
       "      <th>litre</th>\n",
       "      <th>seri_no</th>\n",
       "      <th>teslim_suresi</th>\n",
       "      <th>teslim_tarihi</th>\n",
       "      <th>siparis_durumu</th>\n",
       "      <th>irsaliye_tarihi</th>\n",
       "    </tr>\n",
       "  </thead>\n",
       "  <tbody>\n",
       "    <tr>\n",
       "      <th>0</th>\n",
       "      <td>Ameliyat_Masasi</td>\n",
       "      <td>ÖZEL</td>\n",
       "      <td>2018/006</td>\n",
       "      <td>2018-06-29</td>\n",
       "      <td>ÖZEL FSM TIP MERKEZİ</td>\n",
       "      <td>ÖZEL FSM TIP MERKEZİ</td>\n",
       "      <td>İSTANBUL</td>\n",
       "      <td>GOLDBERG 5S</td>\n",
       "      <td>AMELİYAT MASASI</td>\n",
       "      <td>*</td>\n",
       "      <td>2018/02-012</td>\n",
       "      <td>20 GÜN</td>\n",
       "      <td>2018-07-18</td>\n",
       "      <td>NaN</td>\n",
       "      <td>NaN</td>\n",
       "    </tr>\n",
       "    <tr>\n",
       "      <th>1</th>\n",
       "      <td>Ameliyat_Masasi</td>\n",
       "      <td>DEMO</td>\n",
       "      <td>2018/007</td>\n",
       "      <td>2018-02-14</td>\n",
       "      <td>DEMO</td>\n",
       "      <td>DERİNCE EĞİTİM VE ARAŞTIRMA HASTANESİ</td>\n",
       "      <td>KOCAELİ</td>\n",
       "      <td>GOLDBERG 5S</td>\n",
       "      <td>AMELİYAT MASASI</td>\n",
       "      <td>*</td>\n",
       "      <td>2018/02-003</td>\n",
       "      <td>21 GÜN</td>\n",
       "      <td>NaN</td>\n",
       "      <td>NaN</td>\n",
       "      <td>NaN</td>\n",
       "    </tr>\n",
       "  </tbody>\n",
       "</table>\n",
       "</div>"
      ],
      "text/plain": [
       "          kategori satis_turu siparis_no siparis_tarihi        siparisi_veren  \\\n",
       "0  Ameliyat_Masasi       ÖZEL   2018/006     2018-06-29  ÖZEL FSM TIP MERKEZİ   \n",
       "1  Ameliyat_Masasi       DEMO   2018/007     2018-02-14                  DEMO   \n",
       "\n",
       "                            kurulum_yeri        il  urun_modeli  \\\n",
       "0                   ÖZEL FSM TIP MERKEZİ  İSTANBUL  GOLDBERG 5S   \n",
       "1  DERİNCE EĞİTİM VE ARAŞTIRMA HASTANESİ   KOCAELİ  GOLDBERG 5S   \n",
       "\n",
       "          urun_adi litre      seri_no teslim_suresi teslim_tarihi  \\\n",
       "0  AMELİYAT MASASI     *  2018/02-012        20 GÜN    2018-07-18   \n",
       "1  AMELİYAT MASASI     *  2018/02-003        21 GÜN           NaN   \n",
       "\n",
       "   siparis_durumu irsaliye_tarihi  \n",
       "0             NaN             NaN  \n",
       "1             NaN             NaN  "
      ]
     },
     "execution_count": 1,
     "metadata": {},
     "output_type": "execute_result"
    }
   ],
   "source": [
    "import pandas as pd\n",
    "\n",
    "# Dosya yolunu belirtelim\n",
    "file_path = r\"C:\\Users\\duygu\\Desktop\\00-GitHub-Repo\\00-1INTERNSHIP\\INT1_PROJECT\\00_Data\\02_Birlestirilmis_Kategoriler\\combined_ameliyat_masası.csv\"\n",
    "\n",
    "# CSV dosyasını okuyalım\n",
    "try:\n",
    "    df_ameliyat = pd.read_csv(file_path)\n",
    "    # İlk birkaç satırı göstereceğiz\n",
    "    df_ameliyat.head()\n",
    "except FileNotFoundError:\n",
    "    \"Dosya yolunda bir hata olabilir veya dosya mevcut olmayabilir.\"\n",
    "    \n",
    "df_ameliyat.head(2)\n"
   ]
  },
  {
   "cell_type": "markdown",
   "id": "f53e07a2",
   "metadata": {},
   "source": [
    "### Kategori degerleri buyuk harfle duzenlendi"
   ]
  },
  {
   "cell_type": "code",
   "execution_count": 29,
   "id": "35f55298",
   "metadata": {
    "ExecuteTime": {
     "end_time": "2024-10-26T16:27:58.699693Z",
     "start_time": "2024-10-26T16:27:58.695597Z"
    }
   },
   "outputs": [],
   "source": [
    "# Kategori drop et\n",
    "df_ameliyat = df_ameliyat.drop('kategori', axis=1)"
   ]
  },
  {
   "cell_type": "code",
   "execution_count": 30,
   "id": "ad2b7a44",
   "metadata": {
    "ExecuteTime": {
     "end_time": "2024-10-26T16:28:00.392446Z",
     "start_time": "2024-10-26T16:28:00.377404Z"
    }
   },
   "outputs": [
    {
     "data": {
      "text/html": [
       "<div>\n",
       "<style scoped>\n",
       "    .dataframe tbody tr th:only-of-type {\n",
       "        vertical-align: middle;\n",
       "    }\n",
       "\n",
       "    .dataframe tbody tr th {\n",
       "        vertical-align: top;\n",
       "    }\n",
       "\n",
       "    .dataframe thead th {\n",
       "        text-align: right;\n",
       "    }\n",
       "</style>\n",
       "<table border=\"1\" class=\"dataframe\">\n",
       "  <thead>\n",
       "    <tr style=\"text-align: right;\">\n",
       "      <th></th>\n",
       "      <th>kategori</th>\n",
       "      <th>satis_turu</th>\n",
       "      <th>siparis_no</th>\n",
       "      <th>siparis_tarihi</th>\n",
       "      <th>siparisi_veren</th>\n",
       "      <th>kurulum_yeri</th>\n",
       "      <th>il</th>\n",
       "      <th>urun_modeli</th>\n",
       "      <th>urun_adi</th>\n",
       "      <th>litre</th>\n",
       "      <th>seri_no</th>\n",
       "      <th>teslim_suresi</th>\n",
       "      <th>teslim_tarihi</th>\n",
       "      <th>siparis_durumu</th>\n",
       "      <th>irsaliye_tarihi</th>\n",
       "    </tr>\n",
       "  </thead>\n",
       "  <tbody>\n",
       "    <tr>\n",
       "      <th>0</th>\n",
       "      <td>AMELIYAT MASASI</td>\n",
       "      <td>ÖZEL</td>\n",
       "      <td>2018/006</td>\n",
       "      <td>2018-06-29</td>\n",
       "      <td>ÖZEL FSM TIP MERKEZİ</td>\n",
       "      <td>ÖZEL FSM TIP MERKEZİ</td>\n",
       "      <td>İSTANBUL</td>\n",
       "      <td>GOLDBERG 5S</td>\n",
       "      <td>AMELİYAT MASASI</td>\n",
       "      <td>*</td>\n",
       "      <td>2018/02-012</td>\n",
       "      <td>20 GÜN</td>\n",
       "      <td>2018-07-18</td>\n",
       "      <td>NaN</td>\n",
       "      <td>NaN</td>\n",
       "    </tr>\n",
       "    <tr>\n",
       "      <th>1</th>\n",
       "      <td>AMELIYAT MASASI</td>\n",
       "      <td>DEMO</td>\n",
       "      <td>2018/007</td>\n",
       "      <td>2018-02-14</td>\n",
       "      <td>DEMO</td>\n",
       "      <td>DERİNCE EĞİTİM VE ARAŞTIRMA HASTANESİ</td>\n",
       "      <td>KOCAELİ</td>\n",
       "      <td>GOLDBERG 5S</td>\n",
       "      <td>AMELİYAT MASASI</td>\n",
       "      <td>*</td>\n",
       "      <td>2018/02-003</td>\n",
       "      <td>21 GÜN</td>\n",
       "      <td>NaN</td>\n",
       "      <td>NaN</td>\n",
       "      <td>NaN</td>\n",
       "    </tr>\n",
       "  </tbody>\n",
       "</table>\n",
       "</div>"
      ],
      "text/plain": [
       "          kategori satis_turu siparis_no siparis_tarihi        siparisi_veren                           kurulum_yeri        il  urun_modeli         urun_adi litre      seri_no teslim_suresi teslim_tarihi  siparis_durumu irsaliye_tarihi\n",
       "0  AMELIYAT MASASI       ÖZEL   2018/006     2018-06-29  ÖZEL FSM TIP MERKEZİ                   ÖZEL FSM TIP MERKEZİ  İSTANBUL  GOLDBERG 5S  AMELİYAT MASASI     *  2018/02-012        20 GÜN    2018-07-18             NaN             NaN\n",
       "1  AMELIYAT MASASI       DEMO   2018/007     2018-02-14                  DEMO  DERİNCE EĞİTİM VE ARAŞTIRMA HASTANESİ   KOCAELİ  GOLDBERG 5S  AMELİYAT MASASI     *  2018/02-003        21 GÜN           NaN             NaN             NaN"
      ]
     },
     "execution_count": 30,
     "metadata": {},
     "output_type": "execute_result"
    }
   ],
   "source": [
    "# 'kategori' sütununu birinci indekste degerleri buyuk harfle duzenle\n",
    "\n",
    "df_ameliyat['kategori'] = 'AMELIYAT MASASI'\n",
    "\n",
    "columns = ['kategori'] + list(df_ameliyat.columns[:-1])\n",
    "df_ameliyat = df_ameliyat[columns]\n",
    "\n",
    "df_ameliyat.head(2)"
   ]
  },
  {
   "cell_type": "code",
   "execution_count": 25,
   "id": "820334af",
   "metadata": {
    "ExecuteTime": {
     "end_time": "2024-10-26T16:14:47.687792Z",
     "start_time": "2024-10-26T16:14:47.682296Z"
    }
   },
   "outputs": [
    {
     "data": {
      "text/plain": [
       "Index(['kategori', 'satis_turu', 'siparis_no', 'siparis_tarihi', 'siparisi_veren', 'kurulum_yeri', 'il', 'urun_modeli', 'urun_adi', 'litre', 'seri_no', 'teslim_suresi', 'teslim_tarihi', 'siparis_durumu', 'irsaliye_tarihi'], dtype='object')"
      ]
     },
     "execution_count": 25,
     "metadata": {},
     "output_type": "execute_result"
    }
   ],
   "source": [
    "df_ameliyat.columns"
   ]
  },
  {
   "cell_type": "markdown",
   "id": "2ae94f7f",
   "metadata": {},
   "source": [
    "## Otoklav"
   ]
  },
  {
   "cell_type": "code",
   "execution_count": 3,
   "id": "56cb8003",
   "metadata": {
    "ExecuteTime": {
     "end_time": "2024-10-26T15:53:12.815299Z",
     "start_time": "2024-10-26T15:53:12.791095Z"
    }
   },
   "outputs": [
    {
     "data": {
      "text/html": [
       "<div>\n",
       "<style scoped>\n",
       "    .dataframe tbody tr th:only-of-type {\n",
       "        vertical-align: middle;\n",
       "    }\n",
       "\n",
       "    .dataframe tbody tr th {\n",
       "        vertical-align: top;\n",
       "    }\n",
       "\n",
       "    .dataframe thead th {\n",
       "        text-align: right;\n",
       "    }\n",
       "</style>\n",
       "<table border=\"1\" class=\"dataframe\">\n",
       "  <thead>\n",
       "    <tr style=\"text-align: right;\">\n",
       "      <th></th>\n",
       "      <th>kategori</th>\n",
       "      <th>satis_turu</th>\n",
       "      <th>siparis_no</th>\n",
       "      <th>siparis_tarihi</th>\n",
       "      <th>siparisi_veren</th>\n",
       "      <th>kurulum_yeri</th>\n",
       "      <th>il</th>\n",
       "      <th>urun_modeli</th>\n",
       "      <th>urun_adi</th>\n",
       "      <th>litre</th>\n",
       "      <th>seri_no</th>\n",
       "      <th>teslim_suresi</th>\n",
       "      <th>teslim_tarihi</th>\n",
       "      <th>irsaliye_tarihi</th>\n",
       "    </tr>\n",
       "  </thead>\n",
       "  <tbody>\n",
       "    <tr>\n",
       "      <th>0</th>\n",
       "      <td>OTOKLAV</td>\n",
       "      <td>ÖZEL</td>\n",
       "      <td>2018/001</td>\n",
       "      <td>2018-01-04</td>\n",
       "      <td>YENİ HAYAT TIP MERKEZİ-ORJİN SAĞLIK HİZM.</td>\n",
       "      <td>YENİ HAYAT TIP MERKEZİ-ORJİN SAĞLIK HİZM.</td>\n",
       "      <td>İSTANBUL</td>\n",
       "      <td>STR 6610 D</td>\n",
       "      <td>422 LT ÇİFT KAPILI OTOKLAV CİHAZI</td>\n",
       "      <td>422 LİTRE</td>\n",
       "      <td>2018/01-001</td>\n",
       "      <td>30</td>\n",
       "      <td>NaN</td>\n",
       "      <td>NaN</td>\n",
       "    </tr>\n",
       "    <tr>\n",
       "      <th>1</th>\n",
       "      <td>OTOKLAV</td>\n",
       "      <td>DMO</td>\n",
       "      <td>2018/072</td>\n",
       "      <td>2017-12-28</td>\n",
       "      <td>DMO GENEL MÜDÜRLÜK</td>\n",
       "      <td>T.C. GIDA TARIM VE HAYV. BAKANLIĞI GIDA VE KON...</td>\n",
       "      <td>ANKARA</td>\n",
       "      <td>7717 S</td>\n",
       "      <td>2000 LT ÇİFT KAPILI LABARATUVAR TİP BUHAR STER...</td>\n",
       "      <td>2000 LİTRE</td>\n",
       "      <td>2018/01-002</td>\n",
       "      <td>100 GÜN</td>\n",
       "      <td>2018-06-22</td>\n",
       "      <td>NaN</td>\n",
       "    </tr>\n",
       "  </tbody>\n",
       "</table>\n",
       "</div>"
      ],
      "text/plain": [
       "  kategori satis_turu siparis_no siparis_tarihi  \\\n",
       "0  OTOKLAV       ÖZEL   2018/001     2018-01-04   \n",
       "1  OTOKLAV        DMO   2018/072     2017-12-28   \n",
       "\n",
       "                              siparisi_veren  \\\n",
       "0  YENİ HAYAT TIP MERKEZİ-ORJİN SAĞLIK HİZM.   \n",
       "1                         DMO GENEL MÜDÜRLÜK   \n",
       "\n",
       "                                        kurulum_yeri        il urun_modeli  \\\n",
       "0          YENİ HAYAT TIP MERKEZİ-ORJİN SAĞLIK HİZM.  İSTANBUL  STR 6610 D   \n",
       "1  T.C. GIDA TARIM VE HAYV. BAKANLIĞI GIDA VE KON...    ANKARA      7717 S   \n",
       "\n",
       "                                            urun_adi       litre      seri_no  \\\n",
       "0                  422 LT ÇİFT KAPILI OTOKLAV CİHAZI   422 LİTRE  2018/01-001   \n",
       "1  2000 LT ÇİFT KAPILI LABARATUVAR TİP BUHAR STER...  2000 LİTRE  2018/01-002   \n",
       "\n",
       "  teslim_suresi teslim_tarihi irsaliye_tarihi  \n",
       "0            30           NaN             NaN  \n",
       "1       100 GÜN    2018-06-22             NaN  "
      ]
     },
     "execution_count": 3,
     "metadata": {},
     "output_type": "execute_result"
    }
   ],
   "source": [
    "import pandas as pd\n",
    "\n",
    "# Dosya yolunu belirtelim\n",
    "file_path = r\"C:\\Users\\duygu\\Desktop\\00-GitHub-Repo\\00-1INTERNSHIP\\INT1_PROJECT\\00_Data\\02_Birlestirilmis_Kategoriler\\combined_otoklav.csv\"\n",
    "\n",
    "# CSV dosyasını okuyalım\n",
    "try:\n",
    "    df_otoklav = pd.read_csv(file_path)\n",
    "    # İlk birkaç satırı göstereceğiz\n",
    "    df_otoklav.head()\n",
    "except FileNotFoundError:\n",
    "    \"Dosya yolunda bir hata olabilir veya dosya mevcut olmayabilir.\"\n",
    "    \n",
    "df_otoklav.head(2)"
   ]
  },
  {
   "cell_type": "code",
   "execution_count": 24,
   "id": "564109fa",
   "metadata": {
    "ExecuteTime": {
     "end_time": "2024-10-26T16:14:17.375004Z",
     "start_time": "2024-10-26T16:14:17.369286Z"
    }
   },
   "outputs": [
    {
     "data": {
      "text/plain": [
       "Index(['kategori', 'satis_turu', 'siparis_no', 'siparis_tarihi', 'siparisi_veren', 'kurulum_yeri', 'il', 'urun_modeli', 'urun_adi', 'litre', 'seri_no', 'teslim_suresi', 'teslim_tarihi', 'irsaliye_tarihi'], dtype='object')"
      ]
     },
     "execution_count": 24,
     "metadata": {},
     "output_type": "execute_result"
    }
   ],
   "source": [
    "df_otoklav.columns"
   ]
  },
  {
   "cell_type": "markdown",
   "id": "5b84a2dc",
   "metadata": {},
   "source": [
    "## Hidrojen Peroksit"
   ]
  },
  {
   "cell_type": "code",
   "execution_count": 4,
   "id": "6c738319",
   "metadata": {
    "ExecuteTime": {
     "end_time": "2024-10-26T15:54:22.388599Z",
     "start_time": "2024-10-26T15:54:22.370414Z"
    },
    "scrolled": true
   },
   "outputs": [
    {
     "data": {
      "text/html": [
       "<div>\n",
       "<style scoped>\n",
       "    .dataframe tbody tr th:only-of-type {\n",
       "        vertical-align: middle;\n",
       "    }\n",
       "\n",
       "    .dataframe tbody tr th {\n",
       "        vertical-align: top;\n",
       "    }\n",
       "\n",
       "    .dataframe thead th {\n",
       "        text-align: right;\n",
       "    }\n",
       "</style>\n",
       "<table border=\"1\" class=\"dataframe\">\n",
       "  <thead>\n",
       "    <tr style=\"text-align: right;\">\n",
       "      <th></th>\n",
       "      <th>kategori</th>\n",
       "      <th>satis_turu</th>\n",
       "      <th>siparis_no</th>\n",
       "      <th>siparis_tarihi</th>\n",
       "      <th>siparisi_veren</th>\n",
       "      <th>kurulum_yeri</th>\n",
       "      <th>il</th>\n",
       "      <th>urun_modeli</th>\n",
       "      <th>urun_adi</th>\n",
       "      <th>litre</th>\n",
       "      <th>seri_no</th>\n",
       "      <th>teslim_suresi</th>\n",
       "      <th>teslim_tarihi</th>\n",
       "      <th>siparisin_durumu</th>\n",
       "      <th>irsaliye_tarihi</th>\n",
       "    </tr>\n",
       "  </thead>\n",
       "  <tbody>\n",
       "    <tr>\n",
       "      <th>0</th>\n",
       "      <td>Hidrojen Peroksit</td>\n",
       "      <td>YURTDIŞI</td>\n",
       "      <td>2018/036</td>\n",
       "      <td>2018-01-23 00:00:00</td>\n",
       "      <td>MERİVAN</td>\n",
       "      <td>MERİVAN</td>\n",
       "      <td>KUZEY IRAK</td>\n",
       "      <td>GP 120</td>\n",
       "      <td>120 LT PLAZMA CİHAZI</td>\n",
       "      <td>120 LT</td>\n",
       "      <td>2018/04-001</td>\n",
       "      <td>49 GÜN</td>\n",
       "      <td>2018-01-27</td>\n",
       "      <td>NaN</td>\n",
       "      <td>NaN</td>\n",
       "    </tr>\n",
       "    <tr>\n",
       "      <th>1</th>\n",
       "      <td>Hidrojen Peroksit</td>\n",
       "      <td>DMO</td>\n",
       "      <td>2018/037</td>\n",
       "      <td>DMO</td>\n",
       "      <td>DMO MERSİN BÖLGE MÜDÜRLÜĞÜ</td>\n",
       "      <td>BOR DEVLET HASTANESİ</td>\n",
       "      <td>NİĞDE</td>\n",
       "      <td>GP 120</td>\n",
       "      <td>120 LT PLAZMA CİHAZI</td>\n",
       "      <td>120 LT</td>\n",
       "      <td>2018/04-002</td>\n",
       "      <td>50 GÜN</td>\n",
       "      <td>2018-05-14</td>\n",
       "      <td>NaN</td>\n",
       "      <td>NaN</td>\n",
       "    </tr>\n",
       "  </tbody>\n",
       "</table>\n",
       "</div>"
      ],
      "text/plain": [
       "            kategori satis_turu siparis_no       siparis_tarihi  \\\n",
       "0  Hidrojen Peroksit   YURTDIŞI   2018/036  2018-01-23 00:00:00   \n",
       "1  Hidrojen Peroksit        DMO   2018/037                  DMO   \n",
       "\n",
       "               siparisi_veren          kurulum_yeri          il urun_modeli  \\\n",
       "0                     MERİVAN               MERİVAN  KUZEY IRAK      GP 120   \n",
       "1  DMO MERSİN BÖLGE MÜDÜRLÜĞÜ  BOR DEVLET HASTANESİ       NİĞDE      GP 120   \n",
       "\n",
       "               urun_adi   litre      seri_no teslim_suresi teslim_tarihi  \\\n",
       "0  120 LT PLAZMA CİHAZI  120 LT  2018/04-001        49 GÜN    2018-01-27   \n",
       "1  120 LT PLAZMA CİHAZI  120 LT  2018/04-002        50 GÜN    2018-05-14   \n",
       "\n",
       "   siparisin_durumu irsaliye_tarihi  \n",
       "0               NaN             NaN  \n",
       "1               NaN             NaN  "
      ]
     },
     "execution_count": 4,
     "metadata": {},
     "output_type": "execute_result"
    }
   ],
   "source": [
    "import pandas as pd\n",
    "\n",
    "# Dosya yolunu belirtelim\n",
    "file_path = r\"C:\\Users\\duygu\\Desktop\\00-GitHub-Repo\\00-1INTERNSHIP\\INT1_PROJECT\\00_Data\\02_Birlestirilmis_Kategoriler\\combined_hidrojen_peroksit.csv\"\n",
    "\n",
    "# CSV dosyasını okuyalım\n",
    "try:\n",
    "    df_hidrojen_peroktif = pd.read_csv(file_path)\n",
    "    # İlk birkaç satırı göstereceğiz\n",
    "    df_hidrojen_peroktif.head()\n",
    "except FileNotFoundError:\n",
    "    \"Dosya yolunda bir hata olabilir veya dosya mevcut olmayabilir.\"\n",
    "    \n",
    "df_hidrojen_peroktif.head(2)"
   ]
  },
  {
   "cell_type": "markdown",
   "id": "2ef67713",
   "metadata": {},
   "source": [
    "### Kategori degerleri buyuk harfle duzenlendi"
   ]
  },
  {
   "cell_type": "code",
   "execution_count": 21,
   "id": "2f31f73e",
   "metadata": {
    "ExecuteTime": {
     "end_time": "2024-10-26T16:13:21.086417Z",
     "start_time": "2024-10-26T16:13:21.082373Z"
    }
   },
   "outputs": [],
   "source": [
    "# Kategori drop et\n",
    "df_hidrojen_peroktif = df_hidrojen_peroktif.drop('kategori', axis=1)"
   ]
  },
  {
   "cell_type": "code",
   "execution_count": 22,
   "id": "8246ec9f",
   "metadata": {
    "ExecuteTime": {
     "end_time": "2024-10-26T16:13:32.979261Z",
     "start_time": "2024-10-26T16:13:32.966061Z"
    }
   },
   "outputs": [
    {
     "data": {
      "text/html": [
       "<div>\n",
       "<style scoped>\n",
       "    .dataframe tbody tr th:only-of-type {\n",
       "        vertical-align: middle;\n",
       "    }\n",
       "\n",
       "    .dataframe tbody tr th {\n",
       "        vertical-align: top;\n",
       "    }\n",
       "\n",
       "    .dataframe thead th {\n",
       "        text-align: right;\n",
       "    }\n",
       "</style>\n",
       "<table border=\"1\" class=\"dataframe\">\n",
       "  <thead>\n",
       "    <tr style=\"text-align: right;\">\n",
       "      <th></th>\n",
       "      <th>kategori</th>\n",
       "      <th>satis_turu</th>\n",
       "      <th>siparis_no</th>\n",
       "      <th>siparis_tarihi</th>\n",
       "      <th>siparisi_veren</th>\n",
       "      <th>kurulum_yeri</th>\n",
       "      <th>il</th>\n",
       "      <th>urun_modeli</th>\n",
       "      <th>urun_adi</th>\n",
       "      <th>litre</th>\n",
       "      <th>seri_no</th>\n",
       "      <th>teslim_suresi</th>\n",
       "      <th>teslim_tarihi</th>\n",
       "      <th>siparis_durumu</th>\n",
       "      <th>irsaliye_tarihi</th>\n",
       "    </tr>\n",
       "  </thead>\n",
       "  <tbody>\n",
       "    <tr>\n",
       "      <th>0</th>\n",
       "      <td>HIDROJEN PEROKSIT</td>\n",
       "      <td>YURTDIŞI</td>\n",
       "      <td>2018/036</td>\n",
       "      <td>2018-01-23 00:00:00</td>\n",
       "      <td>MERİVAN</td>\n",
       "      <td>MERİVAN</td>\n",
       "      <td>KUZEY IRAK</td>\n",
       "      <td>GP 120</td>\n",
       "      <td>120 LT PLAZMA CİHAZI</td>\n",
       "      <td>120 LT</td>\n",
       "      <td>2018/04-001</td>\n",
       "      <td>49 GÜN</td>\n",
       "      <td>2018-01-27</td>\n",
       "      <td>NaN</td>\n",
       "      <td>NaN</td>\n",
       "    </tr>\n",
       "    <tr>\n",
       "      <th>1</th>\n",
       "      <td>HIDROJEN PEROKSIT</td>\n",
       "      <td>DMO</td>\n",
       "      <td>2018/037</td>\n",
       "      <td>DMO</td>\n",
       "      <td>DMO MERSİN BÖLGE MÜDÜRLÜĞÜ</td>\n",
       "      <td>BOR DEVLET HASTANESİ</td>\n",
       "      <td>NİĞDE</td>\n",
       "      <td>GP 120</td>\n",
       "      <td>120 LT PLAZMA CİHAZI</td>\n",
       "      <td>120 LT</td>\n",
       "      <td>2018/04-002</td>\n",
       "      <td>50 GÜN</td>\n",
       "      <td>2018-05-14</td>\n",
       "      <td>NaN</td>\n",
       "      <td>NaN</td>\n",
       "    </tr>\n",
       "  </tbody>\n",
       "</table>\n",
       "</div>"
      ],
      "text/plain": [
       "            kategori satis_turu siparis_no       siparis_tarihi              siparisi_veren          kurulum_yeri          il urun_modeli              urun_adi   litre      seri_no teslim_suresi teslim_tarihi  siparis_durumu irsaliye_tarihi\n",
       "0  HIDROJEN PEROKSIT   YURTDIŞI   2018/036  2018-01-23 00:00:00                     MERİVAN               MERİVAN  KUZEY IRAK      GP 120  120 LT PLAZMA CİHAZI  120 LT  2018/04-001        49 GÜN    2018-01-27             NaN             NaN\n",
       "1  HIDROJEN PEROKSIT        DMO   2018/037                  DMO  DMO MERSİN BÖLGE MÜDÜRLÜĞÜ  BOR DEVLET HASTANESİ       NİĞDE      GP 120  120 LT PLAZMA CİHAZI  120 LT  2018/04-002        50 GÜN    2018-05-14             NaN             NaN"
      ]
     },
     "execution_count": 22,
     "metadata": {},
     "output_type": "execute_result"
    }
   ],
   "source": [
    "# 'kategori' sütununu birinci indekste degerleri buyuk harfle duzenle\n",
    "\n",
    "df_hidrojen_peroktif['kategori'] = 'HIDROJEN PEROKSIT'\n",
    "\n",
    "columns = ['kategori'] + list(df_hidrojen_peroktif.columns[:-1])\n",
    "df_hidrojen_peroktif = df_hidrojen_peroktif[columns]\n",
    "\n",
    "df_hidrojen_peroktif.head(2)"
   ]
  },
  {
   "cell_type": "code",
   "execution_count": 23,
   "id": "6b6fe0f8",
   "metadata": {
    "ExecuteTime": {
     "end_time": "2024-10-26T16:13:41.321576Z",
     "start_time": "2024-10-26T16:13:41.316457Z"
    }
   },
   "outputs": [
    {
     "data": {
      "text/plain": [
       "Index(['kategori', 'satis_turu', 'siparis_no', 'siparis_tarihi', 'siparisi_veren', 'kurulum_yeri', 'il', 'urun_modeli', 'urun_adi', 'litre', 'seri_no', 'teslim_suresi', 'teslim_tarihi', 'siparis_durumu', 'irsaliye_tarihi'], dtype='object')"
      ]
     },
     "execution_count": 23,
     "metadata": {},
     "output_type": "execute_result"
    }
   ],
   "source": [
    "df_hidrojen_peroktif.columns"
   ]
  },
  {
   "cell_type": "markdown",
   "id": "c83abfbf",
   "metadata": {},
   "source": [
    "### Rename Columns"
   ]
  },
  {
   "cell_type": "code",
   "execution_count": 20,
   "id": "ad0f5818",
   "metadata": {
    "ExecuteTime": {
     "end_time": "2024-10-26T16:12:06.918503Z",
     "start_time": "2024-10-26T16:12:06.905351Z"
    }
   },
   "outputs": [
    {
     "data": {
      "text/html": [
       "<div>\n",
       "<style scoped>\n",
       "    .dataframe tbody tr th:only-of-type {\n",
       "        vertical-align: middle;\n",
       "    }\n",
       "\n",
       "    .dataframe tbody tr th {\n",
       "        vertical-align: top;\n",
       "    }\n",
       "\n",
       "    .dataframe thead th {\n",
       "        text-align: right;\n",
       "    }\n",
       "</style>\n",
       "<table border=\"1\" class=\"dataframe\">\n",
       "  <thead>\n",
       "    <tr style=\"text-align: right;\">\n",
       "      <th></th>\n",
       "      <th>kategori</th>\n",
       "      <th>satis_turu</th>\n",
       "      <th>siparis_no</th>\n",
       "      <th>siparis_tarihi</th>\n",
       "      <th>siparisi_veren</th>\n",
       "      <th>kurulum_yeri</th>\n",
       "      <th>il</th>\n",
       "      <th>urun_modeli</th>\n",
       "      <th>urun_adi</th>\n",
       "      <th>litre</th>\n",
       "      <th>seri_no</th>\n",
       "      <th>teslim_suresi</th>\n",
       "      <th>teslim_tarihi</th>\n",
       "      <th>siparis_durumu</th>\n",
       "      <th>irsaliye_tarihi</th>\n",
       "    </tr>\n",
       "  </thead>\n",
       "  <tbody>\n",
       "    <tr>\n",
       "      <th>0</th>\n",
       "      <td>Hidrojen Peroksit</td>\n",
       "      <td>YURTDIŞI</td>\n",
       "      <td>2018/036</td>\n",
       "      <td>2018-01-23 00:00:00</td>\n",
       "      <td>MERİVAN</td>\n",
       "      <td>MERİVAN</td>\n",
       "      <td>KUZEY IRAK</td>\n",
       "      <td>GP 120</td>\n",
       "      <td>120 LT PLAZMA CİHAZI</td>\n",
       "      <td>120 LT</td>\n",
       "      <td>2018/04-001</td>\n",
       "      <td>49 GÜN</td>\n",
       "      <td>2018-01-27</td>\n",
       "      <td>NaN</td>\n",
       "      <td>NaN</td>\n",
       "    </tr>\n",
       "    <tr>\n",
       "      <th>1</th>\n",
       "      <td>Hidrojen Peroksit</td>\n",
       "      <td>DMO</td>\n",
       "      <td>2018/037</td>\n",
       "      <td>DMO</td>\n",
       "      <td>DMO MERSİN BÖLGE MÜDÜRLÜĞÜ</td>\n",
       "      <td>BOR DEVLET HASTANESİ</td>\n",
       "      <td>NİĞDE</td>\n",
       "      <td>GP 120</td>\n",
       "      <td>120 LT PLAZMA CİHAZI</td>\n",
       "      <td>120 LT</td>\n",
       "      <td>2018/04-002</td>\n",
       "      <td>50 GÜN</td>\n",
       "      <td>2018-05-14</td>\n",
       "      <td>NaN</td>\n",
       "      <td>NaN</td>\n",
       "    </tr>\n",
       "  </tbody>\n",
       "</table>\n",
       "</div>"
      ],
      "text/plain": [
       "            kategori satis_turu siparis_no       siparis_tarihi              siparisi_veren          kurulum_yeri          il urun_modeli              urun_adi   litre      seri_no teslim_suresi teslim_tarihi  siparis_durumu irsaliye_tarihi\n",
       "0  Hidrojen Peroksit   YURTDIŞI   2018/036  2018-01-23 00:00:00                     MERİVAN               MERİVAN  KUZEY IRAK      GP 120  120 LT PLAZMA CİHAZI  120 LT  2018/04-001        49 GÜN    2018-01-27             NaN             NaN\n",
       "1  Hidrojen Peroksit        DMO   2018/037                  DMO  DMO MERSİN BÖLGE MÜDÜRLÜĞÜ  BOR DEVLET HASTANESİ       NİĞDE      GP 120  120 LT PLAZMA CİHAZI  120 LT  2018/04-002        50 GÜN    2018-05-14             NaN             NaN"
      ]
     },
     "execution_count": 20,
     "metadata": {},
     "output_type": "execute_result"
    }
   ],
   "source": [
    "new_column_names = [\n",
    "    'kategori',\n",
    "    'satis_turu', \n",
    "    'siparis_no', \n",
    "    'siparis_tarihi',\n",
    "    'siparisi_veren',\n",
    "    'kurulum_yeri',\n",
    "    'il',\n",
    "    'urun_modeli',\n",
    "    'urun_adi',\n",
    "    'litre',\n",
    "    'seri_no',\n",
    "    'teslim_suresi',\n",
    "    'teslim_tarihi',\n",
    "    'siparis_durumu',  # siparisin_tarihi isim degisti\n",
    "    'irsaliye_tarihi',\n",
    "    #'uts_no'\n",
    "]\n",
    "\n",
    "df_hidrojen_peroktif = rename_columns_by_position(df_hidrojen_peroktif, new_column_names)\n",
    "\n",
    "df_hidrojen_peroktif.head(2)"
   ]
  },
  {
   "cell_type": "markdown",
   "id": "09543ea4",
   "metadata": {},
   "source": [
    "## Kartus"
   ]
  },
  {
   "cell_type": "code",
   "execution_count": 5,
   "id": "6f8f7e64",
   "metadata": {
    "ExecuteTime": {
     "end_time": "2024-10-26T15:54:44.158341Z",
     "start_time": "2024-10-26T15:54:44.067749Z"
    },
    "scrolled": true
   },
   "outputs": [
    {
     "data": {
      "text/html": [
       "<div>\n",
       "<style scoped>\n",
       "    .dataframe tbody tr th:only-of-type {\n",
       "        vertical-align: middle;\n",
       "    }\n",
       "\n",
       "    .dataframe tbody tr th {\n",
       "        vertical-align: top;\n",
       "    }\n",
       "\n",
       "    .dataframe thead th {\n",
       "        text-align: right;\n",
       "    }\n",
       "</style>\n",
       "<table border=\"1\" class=\"dataframe\">\n",
       "  <thead>\n",
       "    <tr style=\"text-align: right;\">\n",
       "      <th></th>\n",
       "      <th>kategori</th>\n",
       "      <th>satis_turu</th>\n",
       "      <th>siparis_no</th>\n",
       "      <th>siparis_tarihi</th>\n",
       "      <th>siparisi_veren</th>\n",
       "      <th>kurulum_yeri</th>\n",
       "      <th>il</th>\n",
       "      <th>urun_modeli</th>\n",
       "      <th>urun_adi</th>\n",
       "      <th>litre</th>\n",
       "      <th>seri_no</th>\n",
       "      <th>teslim_suresi</th>\n",
       "      <th>teslim_tarihi</th>\n",
       "      <th>aciklama</th>\n",
       "      <th>solusyon_fatura</th>\n",
       "      <th>bidon_acilisi</th>\n",
       "    </tr>\n",
       "  </thead>\n",
       "  <tbody>\n",
       "    <tr>\n",
       "      <th>0</th>\n",
       "      <td>KARTUS</td>\n",
       "      <td>NaN</td>\n",
       "      <td>2018/001</td>\n",
       "      <td>NaN</td>\n",
       "      <td>AKSARAY EĞİTİM VE ARAŞTIRMA HASTANESİ</td>\n",
       "      <td>NaN</td>\n",
       "      <td>AKSARAY</td>\n",
       "      <td>NaN</td>\n",
       "      <td>KARTUŞ</td>\n",
       "      <td>NaN</td>\n",
       "      <td>2018/07-0001</td>\n",
       "      <td>NaN</td>\n",
       "      <td>NaN</td>\n",
       "      <td>NaN</td>\n",
       "      <td>NaN</td>\n",
       "      <td>NaN</td>\n",
       "    </tr>\n",
       "    <tr>\n",
       "      <th>1</th>\n",
       "      <td>KARTUS</td>\n",
       "      <td>NaN</td>\n",
       "      <td>2018/001</td>\n",
       "      <td>NaN</td>\n",
       "      <td>AKSARAY EĞİTİM VE ARAŞTIRMA HASTANESİ</td>\n",
       "      <td>NaN</td>\n",
       "      <td>AKSARAY</td>\n",
       "      <td>NaN</td>\n",
       "      <td>KARTUŞ</td>\n",
       "      <td>NaN</td>\n",
       "      <td>2018/07-0002</td>\n",
       "      <td>NaN</td>\n",
       "      <td>NaN</td>\n",
       "      <td>NaN</td>\n",
       "      <td>NaN</td>\n",
       "      <td>NaN</td>\n",
       "    </tr>\n",
       "  </tbody>\n",
       "</table>\n",
       "</div>"
      ],
      "text/plain": [
       "  kategori satis_turu siparis_no siparis_tarihi  \\\n",
       "0   KARTUS        NaN   2018/001            NaN   \n",
       "1   KARTUS        NaN   2018/001            NaN   \n",
       "\n",
       "                          siparisi_veren  kurulum_yeri       il  urun_modeli  \\\n",
       "0  AKSARAY EĞİTİM VE ARAŞTIRMA HASTANESİ           NaN  AKSARAY          NaN   \n",
       "1  AKSARAY EĞİTİM VE ARAŞTIRMA HASTANESİ           NaN  AKSARAY          NaN   \n",
       "\n",
       "  urun_adi  litre       seri_no  teslim_suresi teslim_tarihi aciklama  \\\n",
       "0   KARTUŞ    NaN  2018/07-0001            NaN           NaN      NaN   \n",
       "1   KARTUŞ    NaN  2018/07-0002            NaN           NaN      NaN   \n",
       "\n",
       "  solusyon_fatura bidon_acilisi  \n",
       "0             NaN           NaN  \n",
       "1             NaN           NaN  "
      ]
     },
     "execution_count": 5,
     "metadata": {},
     "output_type": "execute_result"
    }
   ],
   "source": [
    "import pandas as pd\n",
    "\n",
    "# Dosya yolunu belirtelim\n",
    "file_path = r\"C:\\Users\\duygu\\Desktop\\00-GitHub-Repo\\00-1INTERNSHIP\\INT1_PROJECT\\00_Data\\02_Birlestirilmis_Kategoriler\\combined_kartus.csv\"\n",
    "\n",
    "# CSV dosyasını okuyalım\n",
    "try:\n",
    "    df_kartus = pd.read_csv(file_path)\n",
    "    # İlk birkaç satırı göstereceğiz\n",
    "    df_kartus.head()\n",
    "except FileNotFoundError:\n",
    "    \"Dosya yolunda bir hata olabilir veya dosya mevcut olmayabilir.\"\n",
    "    \n",
    "df_kartus.head(2)"
   ]
  },
  {
   "cell_type": "code",
   "execution_count": 18,
   "id": "447e2db9",
   "metadata": {
    "ExecuteTime": {
     "end_time": "2024-10-26T16:09:40.879196Z",
     "start_time": "2024-10-26T16:09:40.873890Z"
    }
   },
   "outputs": [
    {
     "data": {
      "text/plain": [
       "Index(['kategori', 'satis_turu', 'siparis_no', 'siparis_tarihi', 'siparisi_veren', 'kurulum_yeri', 'il', 'urun_modeli', 'urun_adi', 'litre', 'seri_no', 'teslim_suresi', 'teslim_tarihi', 'aciklama', 'solusyon_fatura', 'bidon_acilisi'], dtype='object')"
      ]
     },
     "execution_count": 18,
     "metadata": {},
     "output_type": "execute_result"
    }
   ],
   "source": [
    "df_kartus.columns"
   ]
  },
  {
   "cell_type": "markdown",
   "id": "896d8ad9",
   "metadata": {},
   "source": [
    "## Reverse Osmos"
   ]
  },
  {
   "cell_type": "code",
   "execution_count": 6,
   "id": "b50afea3",
   "metadata": {
    "ExecuteTime": {
     "end_time": "2024-10-26T15:55:27.059970Z",
     "start_time": "2024-10-26T15:55:27.041341Z"
    }
   },
   "outputs": [
    {
     "data": {
      "text/html": [
       "<div>\n",
       "<style scoped>\n",
       "    .dataframe tbody tr th:only-of-type {\n",
       "        vertical-align: middle;\n",
       "    }\n",
       "\n",
       "    .dataframe tbody tr th {\n",
       "        vertical-align: top;\n",
       "    }\n",
       "\n",
       "    .dataframe thead th {\n",
       "        text-align: right;\n",
       "    }\n",
       "</style>\n",
       "<table border=\"1\" class=\"dataframe\">\n",
       "  <thead>\n",
       "    <tr style=\"text-align: right;\">\n",
       "      <th></th>\n",
       "      <th>kategori</th>\n",
       "      <th>satis_turu</th>\n",
       "      <th>siparis_no</th>\n",
       "      <th>siparis_tarihi</th>\n",
       "      <th>siparisi_veren</th>\n",
       "      <th>kurulum_yeri</th>\n",
       "      <th>il</th>\n",
       "      <th>urun_modeli</th>\n",
       "      <th>urun_adi</th>\n",
       "      <th>litre</th>\n",
       "      <th>seri_no</th>\n",
       "      <th>teslim_suresi</th>\n",
       "      <th>teslim_tarihi</th>\n",
       "    </tr>\n",
       "  </thead>\n",
       "  <tbody>\n",
       "    <tr>\n",
       "      <th>0</th>\n",
       "      <td>REVERSE OSMOS</td>\n",
       "      <td>ÖZEL</td>\n",
       "      <td>NaN</td>\n",
       "      <td>NaN</td>\n",
       "      <td>BEZMİALEM VAKIF ÜNİVERSİTESİ</td>\n",
       "      <td>BEZMİALEM VAKIF ÜNİVERSİTESİ</td>\n",
       "      <td>İSTANBUL</td>\n",
       "      <td>PREMİUM 240</td>\n",
       "      <td>NaN</td>\n",
       "      <td>500 LT</td>\n",
       "      <td>2018/08-001</td>\n",
       "      <td>NaN</td>\n",
       "      <td>NaN</td>\n",
       "    </tr>\n",
       "    <tr>\n",
       "      <th>1</th>\n",
       "      <td>REVERSE OSMOS</td>\n",
       "      <td>ÖZEL</td>\n",
       "      <td>NaN</td>\n",
       "      <td>NaN</td>\n",
       "      <td>BÜYÜKÇEKMECE DEVLET HASTANESİ</td>\n",
       "      <td>BÜYÜKÇEKMECE DEVLET HASTANESİ</td>\n",
       "      <td>İSTANBUL</td>\n",
       "      <td>PREMİUM 440</td>\n",
       "      <td>NaN</td>\n",
       "      <td>1000 LT</td>\n",
       "      <td>2018/08-002</td>\n",
       "      <td>NaN</td>\n",
       "      <td>NaN</td>\n",
       "    </tr>\n",
       "  </tbody>\n",
       "</table>\n",
       "</div>"
      ],
      "text/plain": [
       "         kategori satis_turu siparis_no siparis_tarihi  \\\n",
       "0  REVERSE OSMOS        ÖZEL        NaN            NaN   \n",
       "1  REVERSE OSMOS        ÖZEL        NaN            NaN   \n",
       "\n",
       "                  siparisi_veren                   kurulum_yeri        il  \\\n",
       "0   BEZMİALEM VAKIF ÜNİVERSİTESİ   BEZMİALEM VAKIF ÜNİVERSİTESİ  İSTANBUL   \n",
       "1  BÜYÜKÇEKMECE DEVLET HASTANESİ  BÜYÜKÇEKMECE DEVLET HASTANESİ  İSTANBUL   \n",
       "\n",
       "   urun_modeli urun_adi    litre      seri_no teslim_suresi teslim_tarihi  \n",
       "0  PREMİUM 240      NaN   500 LT  2018/08-001           NaN           NaN  \n",
       "1  PREMİUM 440      NaN  1000 LT  2018/08-002           NaN           NaN  "
      ]
     },
     "execution_count": 6,
     "metadata": {},
     "output_type": "execute_result"
    }
   ],
   "source": [
    "import pandas as pd\n",
    "\n",
    "# Dosya yolu belirtelim\n",
    "file_path = r\"C:\\Users\\duygu\\Desktop\\00-GitHub-Repo\\00-1INTERNSHIP\\INT1_PROJECT\\00_Data\\02_Birlestirilmis_Kategoriler\\combined_Reverse_osmos.csv\"\n",
    "\n",
    "# CSV dosyasını doğru ayırıcı ile okuyalım\n",
    "try:\n",
    "    # Veriyi okurken ayırıcı olarak noktalı virgül (;) kullanalım\n",
    "    df_reverse = pd.read_csv(file_path, delimiter=';')\n",
    "    # İlk birkaç satırı gösterelim\n",
    "    df_reverse.head()\n",
    "except FileNotFoundError:\n",
    "    print(\"Dosya yolunda bir hata olabilir veya dosya mevcut olmayabilir.\")\n",
    "\n",
    "df_reverse.head(2)\n"
   ]
  },
  {
   "cell_type": "code",
   "execution_count": 17,
   "id": "5059a31c",
   "metadata": {
    "ExecuteTime": {
     "end_time": "2024-10-26T16:08:57.456400Z",
     "start_time": "2024-10-26T16:08:57.450074Z"
    }
   },
   "outputs": [
    {
     "data": {
      "text/plain": [
       "Index(['kategori', 'satis_turu', 'siparis_no', 'siparis_tarihi', 'siparisi_veren', 'kurulum_yeri', 'il', 'urun_modeli', 'urun_adi', 'litre', 'seri_no', 'teslim_suresi', 'teslim_tarihi'], dtype='object')"
      ]
     },
     "execution_count": 17,
     "metadata": {},
     "output_type": "execute_result"
    }
   ],
   "source": [
    "df_reverse.columns"
   ]
  },
  {
   "cell_type": "markdown",
   "id": "d49c83c5",
   "metadata": {},
   "source": [
    "## Yikama"
   ]
  },
  {
   "cell_type": "code",
   "execution_count": 7,
   "id": "6b49e417",
   "metadata": {
    "ExecuteTime": {
     "end_time": "2024-10-26T15:55:46.635697Z",
     "start_time": "2024-10-26T15:55:46.615763Z"
    },
    "scrolled": true
   },
   "outputs": [
    {
     "data": {
      "text/html": [
       "<div>\n",
       "<style scoped>\n",
       "    .dataframe tbody tr th:only-of-type {\n",
       "        vertical-align: middle;\n",
       "    }\n",
       "\n",
       "    .dataframe tbody tr th {\n",
       "        vertical-align: top;\n",
       "    }\n",
       "\n",
       "    .dataframe thead th {\n",
       "        text-align: right;\n",
       "    }\n",
       "</style>\n",
       "<table border=\"1\" class=\"dataframe\">\n",
       "  <thead>\n",
       "    <tr style=\"text-align: right;\">\n",
       "      <th></th>\n",
       "      <th>kategori</th>\n",
       "      <th>satis_turu</th>\n",
       "      <th>siparis_no</th>\n",
       "      <th>siparis_tarihi</th>\n",
       "      <th>siparisi_veren</th>\n",
       "      <th>kurulum_yeri</th>\n",
       "      <th>il</th>\n",
       "      <th>urun_modeli</th>\n",
       "      <th>urun_adi</th>\n",
       "      <th>litre</th>\n",
       "      <th>seri_no</th>\n",
       "      <th>teslim_suresi</th>\n",
       "      <th>teslim_tarihi</th>\n",
       "      <th>siparisin_durumu</th>\n",
       "      <th>irsaliye_tarihi</th>\n",
       "    </tr>\n",
       "  </thead>\n",
       "  <tbody>\n",
       "    <tr>\n",
       "      <th>0</th>\n",
       "      <td>yikama</td>\n",
       "      <td>DMO</td>\n",
       "      <td>2018/041</td>\n",
       "      <td>2018-01-02</td>\n",
       "      <td>DMO İSTANBUL BÖLGE MÜDÜRLÜĞÜ</td>\n",
       "      <td>HUDUT VE SAHİLLER SAĞLIK MÜDÜRLÜĞÜ DESTEK MÜDÜ...</td>\n",
       "      <td>İSTANBUL</td>\n",
       "      <td>TSY 360</td>\n",
       "      <td>360 LT YIKAMA CİHAZI</td>\n",
       "      <td>360 LT</td>\n",
       "      <td>2018/05-005</td>\n",
       "      <td>28 GÜN</td>\n",
       "      <td>NaN</td>\n",
       "      <td>NaN</td>\n",
       "      <td>NaN</td>\n",
       "    </tr>\n",
       "    <tr>\n",
       "      <th>1</th>\n",
       "      <td>yikama</td>\n",
       "      <td>DMO</td>\n",
       "      <td>2018/042</td>\n",
       "      <td>2018-01-02</td>\n",
       "      <td>DMO İSTANBUL BÖLGE MÜDÜRLÜĞÜ</td>\n",
       "      <td>HUDUT VE SAHİLLER SAĞLIK MÜDÜRLÜĞÜ DESTEK MÜDÜ...</td>\n",
       "      <td>İSTANBUL</td>\n",
       "      <td>TSY 360</td>\n",
       "      <td>360 LT YIKAMA CİHAZI</td>\n",
       "      <td>360 LT</td>\n",
       "      <td>2018/05-003</td>\n",
       "      <td>29 GÜN</td>\n",
       "      <td>NaN</td>\n",
       "      <td>NaN</td>\n",
       "      <td>NaN</td>\n",
       "    </tr>\n",
       "  </tbody>\n",
       "</table>\n",
       "</div>"
      ],
      "text/plain": [
       "  kategori satis_turu siparis_no siparis_tarihi                siparisi_veren  \\\n",
       "0   yikama        DMO   2018/041     2018-01-02  DMO İSTANBUL BÖLGE MÜDÜRLÜĞÜ   \n",
       "1   yikama        DMO   2018/042     2018-01-02  DMO İSTANBUL BÖLGE MÜDÜRLÜĞÜ   \n",
       "\n",
       "                                        kurulum_yeri        il urun_modeli  \\\n",
       "0  HUDUT VE SAHİLLER SAĞLIK MÜDÜRLÜĞÜ DESTEK MÜDÜ...  İSTANBUL     TSY 360   \n",
       "1  HUDUT VE SAHİLLER SAĞLIK MÜDÜRLÜĞÜ DESTEK MÜDÜ...  İSTANBUL     TSY 360   \n",
       "\n",
       "               urun_adi   litre      seri_no teslim_suresi teslim_tarihi  \\\n",
       "0  360 LT YIKAMA CİHAZI  360 LT  2018/05-005        28 GÜN           NaN   \n",
       "1  360 LT YIKAMA CİHAZI  360 LT  2018/05-003        29 GÜN           NaN   \n",
       "\n",
       "   siparisin_durumu  irsaliye_tarihi  \n",
       "0               NaN              NaN  \n",
       "1               NaN              NaN  "
      ]
     },
     "execution_count": 7,
     "metadata": {},
     "output_type": "execute_result"
    }
   ],
   "source": [
    "import pandas as pd\n",
    "\n",
    "# Dosya yolunu belirtelim\n",
    "file_path = r\"C:\\Users\\duygu\\Desktop\\00-GitHub-Repo\\00-1INTERNSHIP\\INT1_PROJECT\\00_Data\\02_Birlestirilmis_Kategoriler\\combined_yikama.csv\"\n",
    "\n",
    "# CSV dosyasını okuyalım\n",
    "try:\n",
    "    df_yikama = pd.read_csv(file_path)\n",
    "    # İlk birkaç satırı göstereceğiz\n",
    "    df_yikama.head()\n",
    "except FileNotFoundError:\n",
    "    \"Dosya yolunda bir hata olabilir veya dosya mevcut olmayabilir.\"\n",
    "    \n",
    "df_yikama.head(2)"
   ]
  },
  {
   "cell_type": "markdown",
   "id": "fd7be650",
   "metadata": {},
   "source": [
    "### Kategori degerleri buyuk harfle duzenlendi"
   ]
  },
  {
   "cell_type": "code",
   "execution_count": 10,
   "id": "0a51ff5e",
   "metadata": {
    "ExecuteTime": {
     "end_time": "2024-10-26T16:01:18.714520Z",
     "start_time": "2024-10-26T16:01:18.709230Z"
    }
   },
   "outputs": [],
   "source": [
    "# Kategori drop et\n",
    "df_yikama = df_yikama.drop('kategori', axis=1)"
   ]
  },
  {
   "cell_type": "code",
   "execution_count": 11,
   "id": "ef7e9289",
   "metadata": {
    "ExecuteTime": {
     "end_time": "2024-10-26T16:02:08.020914Z",
     "start_time": "2024-10-26T16:02:08.013451Z"
    }
   },
   "outputs": [],
   "source": [
    "# 'kategori' sütununu birinci indekste degerleri buyuk harfle duzenle\n",
    "df_yikama['kategori'] = 'YIKAMA'\n",
    "columns = ['kategori'] + list(df_yikama.columns[:-1])\n",
    "df_yikama = df_yikama[columns]"
   ]
  },
  {
   "cell_type": "code",
   "execution_count": 12,
   "id": "c51f41bd",
   "metadata": {
    "ExecuteTime": {
     "end_time": "2024-10-26T16:02:23.338803Z",
     "start_time": "2024-10-26T16:02:23.326667Z"
    }
   },
   "outputs": [
    {
     "data": {
      "text/html": [
       "<div>\n",
       "<style scoped>\n",
       "    .dataframe tbody tr th:only-of-type {\n",
       "        vertical-align: middle;\n",
       "    }\n",
       "\n",
       "    .dataframe tbody tr th {\n",
       "        vertical-align: top;\n",
       "    }\n",
       "\n",
       "    .dataframe thead th {\n",
       "        text-align: right;\n",
       "    }\n",
       "</style>\n",
       "<table border=\"1\" class=\"dataframe\">\n",
       "  <thead>\n",
       "    <tr style=\"text-align: right;\">\n",
       "      <th></th>\n",
       "      <th>kategori</th>\n",
       "      <th>satis_turu</th>\n",
       "      <th>siparis_no</th>\n",
       "      <th>siparis_tarihi</th>\n",
       "      <th>siparisi_veren</th>\n",
       "      <th>kurulum_yeri</th>\n",
       "      <th>il</th>\n",
       "      <th>urun_modeli</th>\n",
       "      <th>urun_adi</th>\n",
       "      <th>litre</th>\n",
       "      <th>seri_no</th>\n",
       "      <th>teslim_suresi</th>\n",
       "      <th>teslim_tarihi</th>\n",
       "      <th>siparisin_durumu</th>\n",
       "      <th>irsaliye_tarihi</th>\n",
       "    </tr>\n",
       "  </thead>\n",
       "  <tbody>\n",
       "    <tr>\n",
       "      <th>0</th>\n",
       "      <td>YIKAMA</td>\n",
       "      <td>DMO</td>\n",
       "      <td>2018/041</td>\n",
       "      <td>2018-01-02</td>\n",
       "      <td>DMO İSTANBUL BÖLGE MÜDÜRLÜĞÜ</td>\n",
       "      <td>HUDUT VE SAHİLLER SAĞLIK MÜDÜRLÜĞÜ DESTEK MÜDÜ...</td>\n",
       "      <td>İSTANBUL</td>\n",
       "      <td>TSY 360</td>\n",
       "      <td>360 LT YIKAMA CİHAZI</td>\n",
       "      <td>360 LT</td>\n",
       "      <td>2018/05-005</td>\n",
       "      <td>28 GÜN</td>\n",
       "      <td>NaN</td>\n",
       "      <td>NaN</td>\n",
       "      <td>NaN</td>\n",
       "    </tr>\n",
       "    <tr>\n",
       "      <th>1</th>\n",
       "      <td>YIKAMA</td>\n",
       "      <td>DMO</td>\n",
       "      <td>2018/042</td>\n",
       "      <td>2018-01-02</td>\n",
       "      <td>DMO İSTANBUL BÖLGE MÜDÜRLÜĞÜ</td>\n",
       "      <td>HUDUT VE SAHİLLER SAĞLIK MÜDÜRLÜĞÜ DESTEK MÜDÜ...</td>\n",
       "      <td>İSTANBUL</td>\n",
       "      <td>TSY 360</td>\n",
       "      <td>360 LT YIKAMA CİHAZI</td>\n",
       "      <td>360 LT</td>\n",
       "      <td>2018/05-003</td>\n",
       "      <td>29 GÜN</td>\n",
       "      <td>NaN</td>\n",
       "      <td>NaN</td>\n",
       "      <td>NaN</td>\n",
       "    </tr>\n",
       "  </tbody>\n",
       "</table>\n",
       "</div>"
      ],
      "text/plain": [
       "  kategori satis_turu siparis_no siparis_tarihi                siparisi_veren                                       kurulum_yeri        il urun_modeli              urun_adi   litre      seri_no teslim_suresi teslim_tarihi  siparisin_durumu  irsaliye_tarihi\n",
       "0   YIKAMA        DMO   2018/041     2018-01-02  DMO İSTANBUL BÖLGE MÜDÜRLÜĞÜ  HUDUT VE SAHİLLER SAĞLIK MÜDÜRLÜĞÜ DESTEK MÜDÜ...  İSTANBUL     TSY 360  360 LT YIKAMA CİHAZI  360 LT  2018/05-005        28 GÜN           NaN               NaN              NaN\n",
       "1   YIKAMA        DMO   2018/042     2018-01-02  DMO İSTANBUL BÖLGE MÜDÜRLÜĞÜ  HUDUT VE SAHİLLER SAĞLIK MÜDÜRLÜĞÜ DESTEK MÜDÜ...  İSTANBUL     TSY 360  360 LT YIKAMA CİHAZI  360 LT  2018/05-003        29 GÜN           NaN               NaN              NaN"
      ]
     },
     "execution_count": 12,
     "metadata": {},
     "output_type": "execute_result"
    }
   ],
   "source": [
    "df_yikama.head(2)"
   ]
  },
  {
   "cell_type": "markdown",
   "id": "63a7f29c",
   "metadata": {},
   "source": [
    "### Rename Columns"
   ]
  },
  {
   "cell_type": "code",
   "execution_count": 13,
   "id": "b28c81c9",
   "metadata": {
    "ExecuteTime": {
     "end_time": "2024-10-26T16:05:04.493834Z",
     "start_time": "2024-10-26T16:05:04.488803Z"
    }
   },
   "outputs": [
    {
     "data": {
      "text/plain": [
       "Index(['kategori', 'satis_turu', 'siparis_no', 'siparis_tarihi', 'siparisi_veren', 'kurulum_yeri', 'il', 'urun_modeli', 'urun_adi', 'litre', 'seri_no', 'teslim_suresi', 'teslim_tarihi', 'siparisin_durumu', 'irsaliye_tarihi'], dtype='object')"
      ]
     },
     "execution_count": 13,
     "metadata": {},
     "output_type": "execute_result"
    }
   ],
   "source": [
    "df_yikama.columns"
   ]
  },
  {
   "cell_type": "code",
   "execution_count": 16,
   "id": "3c8fcee0",
   "metadata": {
    "ExecuteTime": {
     "end_time": "2024-10-26T16:07:26.457609Z",
     "start_time": "2024-10-26T16:07:26.445893Z"
    }
   },
   "outputs": [
    {
     "data": {
      "text/html": [
       "<div>\n",
       "<style scoped>\n",
       "    .dataframe tbody tr th:only-of-type {\n",
       "        vertical-align: middle;\n",
       "    }\n",
       "\n",
       "    .dataframe tbody tr th {\n",
       "        vertical-align: top;\n",
       "    }\n",
       "\n",
       "    .dataframe thead th {\n",
       "        text-align: right;\n",
       "    }\n",
       "</style>\n",
       "<table border=\"1\" class=\"dataframe\">\n",
       "  <thead>\n",
       "    <tr style=\"text-align: right;\">\n",
       "      <th></th>\n",
       "      <th>kategori</th>\n",
       "      <th>satis_turu</th>\n",
       "      <th>siparis_no</th>\n",
       "      <th>siparis_tarihi</th>\n",
       "      <th>siparisi_veren</th>\n",
       "      <th>kurulum_yeri</th>\n",
       "      <th>il</th>\n",
       "      <th>urun_modeli</th>\n",
       "      <th>urun_adi</th>\n",
       "      <th>litre</th>\n",
       "      <th>seri_no</th>\n",
       "      <th>teslim_suresi</th>\n",
       "      <th>teslim_tarihi</th>\n",
       "      <th>siparis_durumu</th>\n",
       "      <th>irsaliye_tarihi</th>\n",
       "    </tr>\n",
       "  </thead>\n",
       "  <tbody>\n",
       "    <tr>\n",
       "      <th>0</th>\n",
       "      <td>YIKAMA</td>\n",
       "      <td>DMO</td>\n",
       "      <td>2018/041</td>\n",
       "      <td>2018-01-02</td>\n",
       "      <td>DMO İSTANBUL BÖLGE MÜDÜRLÜĞÜ</td>\n",
       "      <td>HUDUT VE SAHİLLER SAĞLIK MÜDÜRLÜĞÜ DESTEK MÜDÜ...</td>\n",
       "      <td>İSTANBUL</td>\n",
       "      <td>TSY 360</td>\n",
       "      <td>360 LT YIKAMA CİHAZI</td>\n",
       "      <td>360 LT</td>\n",
       "      <td>2018/05-005</td>\n",
       "      <td>28 GÜN</td>\n",
       "      <td>NaN</td>\n",
       "      <td>NaN</td>\n",
       "      <td>NaN</td>\n",
       "    </tr>\n",
       "    <tr>\n",
       "      <th>1</th>\n",
       "      <td>YIKAMA</td>\n",
       "      <td>DMO</td>\n",
       "      <td>2018/042</td>\n",
       "      <td>2018-01-02</td>\n",
       "      <td>DMO İSTANBUL BÖLGE MÜDÜRLÜĞÜ</td>\n",
       "      <td>HUDUT VE SAHİLLER SAĞLIK MÜDÜRLÜĞÜ DESTEK MÜDÜ...</td>\n",
       "      <td>İSTANBUL</td>\n",
       "      <td>TSY 360</td>\n",
       "      <td>360 LT YIKAMA CİHAZI</td>\n",
       "      <td>360 LT</td>\n",
       "      <td>2018/05-003</td>\n",
       "      <td>29 GÜN</td>\n",
       "      <td>NaN</td>\n",
       "      <td>NaN</td>\n",
       "      <td>NaN</td>\n",
       "    </tr>\n",
       "  </tbody>\n",
       "</table>\n",
       "</div>"
      ],
      "text/plain": [
       "  kategori satis_turu siparis_no siparis_tarihi                siparisi_veren                                       kurulum_yeri        il urun_modeli              urun_adi   litre      seri_no teslim_suresi teslim_tarihi  siparis_durumu  irsaliye_tarihi\n",
       "0   YIKAMA        DMO   2018/041     2018-01-02  DMO İSTANBUL BÖLGE MÜDÜRLÜĞÜ  HUDUT VE SAHİLLER SAĞLIK MÜDÜRLÜĞÜ DESTEK MÜDÜ...  İSTANBUL     TSY 360  360 LT YIKAMA CİHAZI  360 LT  2018/05-005        28 GÜN           NaN             NaN              NaN\n",
       "1   YIKAMA        DMO   2018/042     2018-01-02  DMO İSTANBUL BÖLGE MÜDÜRLÜĞÜ  HUDUT VE SAHİLLER SAĞLIK MÜDÜRLÜĞÜ DESTEK MÜDÜ...  İSTANBUL     TSY 360  360 LT YIKAMA CİHAZI  360 LT  2018/05-003        29 GÜN           NaN             NaN              NaN"
      ]
     },
     "execution_count": 16,
     "metadata": {},
     "output_type": "execute_result"
    }
   ],
   "source": [
    "new_column_names = [\n",
    "    'kategori',\n",
    "    'satis_turu', \n",
    "    'siparis_no', \n",
    "    'siparis_tarihi',\n",
    "    'siparisi_veren',\n",
    "    'kurulum_yeri',\n",
    "    'il',\n",
    "    'urun_modeli',\n",
    "    'urun_adi',\n",
    "    'litre',\n",
    "    'seri_no',\n",
    "    'teslim_suresi',\n",
    "    'teslim_tarihi',\n",
    "    'siparis_durumu',  # siparisin_tarihi isim degisti\n",
    "    'irsaliye_tarihi',\n",
    "    #'uts_no'\n",
    "]\n",
    "\n",
    "df_yikama = rename_columns_by_position(df_yikama, new_column_names)\n",
    "\n",
    "df_yikama.head(2)"
   ]
  },
  {
   "cell_type": "markdown",
   "id": "1fb74cfb",
   "metadata": {},
   "source": [
    "## Oksijen"
   ]
  },
  {
   "cell_type": "code",
   "execution_count": 8,
   "id": "18fe80b0",
   "metadata": {
    "ExecuteTime": {
     "end_time": "2024-10-26T15:56:29.024380Z",
     "start_time": "2024-10-26T15:56:29.006172Z"
    }
   },
   "outputs": [
    {
     "data": {
      "text/html": [
       "<div>\n",
       "<style scoped>\n",
       "    .dataframe tbody tr th:only-of-type {\n",
       "        vertical-align: middle;\n",
       "    }\n",
       "\n",
       "    .dataframe tbody tr th {\n",
       "        vertical-align: top;\n",
       "    }\n",
       "\n",
       "    .dataframe thead th {\n",
       "        text-align: right;\n",
       "    }\n",
       "</style>\n",
       "<table border=\"1\" class=\"dataframe\">\n",
       "  <thead>\n",
       "    <tr style=\"text-align: right;\">\n",
       "      <th></th>\n",
       "      <th>kategori</th>\n",
       "      <th>satis_turu</th>\n",
       "      <th>siparis_no</th>\n",
       "      <th>siparis_tarihi</th>\n",
       "      <th>siparisi_veren</th>\n",
       "      <th>kurulum_yeri</th>\n",
       "      <th>il</th>\n",
       "      <th>urun_modeli</th>\n",
       "      <th>urun_adi</th>\n",
       "      <th>litre</th>\n",
       "      <th>seri_no</th>\n",
       "      <th>teslim_suresi</th>\n",
       "      <th>teslim_tarihi</th>\n",
       "      <th>siparis_durumu</th>\n",
       "      <th>irsaliye_tarihi</th>\n",
       "      <th>uts_no</th>\n",
       "    </tr>\n",
       "  </thead>\n",
       "  <tbody>\n",
       "    <tr>\n",
       "      <th>0</th>\n",
       "      <td>OKSIJEN</td>\n",
       "      <td>YURTDIŞI</td>\n",
       "      <td>2018/040</td>\n",
       "      <td>2018-05-02</td>\n",
       "      <td>SIMAD UNİVERSİTESİ</td>\n",
       "      <td>UĞUR SAĞLIK HİZMETLERİ A.Ş.</td>\n",
       "      <td>SOMALİ</td>\n",
       "      <td>OXYGOLD-22</td>\n",
       "      <td>NaN</td>\n",
       "      <td>220 LT</td>\n",
       "      <td>2018/06-005</td>\n",
       "      <td>30</td>\n",
       "      <td>2018-06-10</td>\n",
       "      <td>NaN</td>\n",
       "      <td>NaN</td>\n",
       "      <td>NaN</td>\n",
       "    </tr>\n",
       "    <tr>\n",
       "      <th>1</th>\n",
       "      <td>OKSIJEN</td>\n",
       "      <td>YURTDIŞI</td>\n",
       "      <td>NaN</td>\n",
       "      <td>NaN</td>\n",
       "      <td>NaN</td>\n",
       "      <td>NaN</td>\n",
       "      <td>NaN</td>\n",
       "      <td>NaN</td>\n",
       "      <td>NaN</td>\n",
       "      <td>NaN</td>\n",
       "      <td>NaN</td>\n",
       "      <td>NaN</td>\n",
       "      <td>NaN</td>\n",
       "      <td>NaN</td>\n",
       "      <td>NaN</td>\n",
       "      <td>NaN</td>\n",
       "    </tr>\n",
       "  </tbody>\n",
       "</table>\n",
       "</div>"
      ],
      "text/plain": [
       "  kategori satis_turu siparis_no siparis_tarihi      siparisi_veren  \\\n",
       "0  OKSIJEN   YURTDIŞI   2018/040     2018-05-02  SIMAD UNİVERSİTESİ   \n",
       "1  OKSIJEN   YURTDIŞI        NaN            NaN                 NaN   \n",
       "\n",
       "                  kurulum_yeri      il  urun_modeli urun_adi   litre  \\\n",
       "0  UĞUR SAĞLIK HİZMETLERİ A.Ş.  SOMALİ  OXYGOLD-22       NaN  220 LT   \n",
       "1                          NaN     NaN          NaN      NaN     NaN   \n",
       "\n",
       "       seri_no teslim_suresi teslim_tarihi  siparis_durumu  irsaliye_tarihi  \\\n",
       "0  2018/06-005            30    2018-06-10             NaN              NaN   \n",
       "1          NaN           NaN           NaN             NaN              NaN   \n",
       "\n",
       "   uts_no  \n",
       "0     NaN  \n",
       "1     NaN  "
      ]
     },
     "execution_count": 8,
     "metadata": {},
     "output_type": "execute_result"
    }
   ],
   "source": [
    "import pandas as pd\n",
    "\n",
    "# Dosya yolunu belirtelim\n",
    "file_path = r\"C:\\Users\\duygu\\Desktop\\00-GitHub-Repo\\00-1INTERNSHIP\\INT1_PROJECT\\00_Data\\02_Birlestirilmis_Kategoriler\\combined_oksijen.csv\"\n",
    "\n",
    "# CSV dosyasını okuyalım\n",
    "try:\n",
    "    df_oksijen = pd.read_csv(file_path)\n",
    "    # İlk birkaç satırı göstereceğiz\n",
    "    df_oksijen.head()\n",
    "except FileNotFoundError:\n",
    "    \"Dosya yolunda bir hata olabilir veya dosya mevcut olmayabilir.\"\n",
    "    \n",
    "df_oksijen.head(2)"
   ]
  },
  {
   "cell_type": "markdown",
   "id": "c7100a31",
   "metadata": {},
   "source": [
    "# **Tüm dosyaları kayıt etme** "
   ]
  },
  {
   "cell_type": "code",
   "execution_count": 31,
   "id": "472fb411",
   "metadata": {
    "ExecuteTime": {
     "end_time": "2024-10-26T16:28:50.458010Z",
     "start_time": "2024-10-26T16:28:50.286170Z"
    }
   },
   "outputs": [
    {
     "data": {
      "text/plain": [
       "['C:\\\\Users\\\\duygu\\\\Desktop\\\\00-GitHub-Repo\\\\00-1INTERNSHIP\\\\INT1_PROJECT\\\\00_Data\\\\02_Birlestirilmis_Kategoriler\\\\final_kategori_csv\\\\combined_ameliyat.csv',\n",
       " 'C:\\\\Users\\\\duygu\\\\Desktop\\\\00-GitHub-Repo\\\\00-1INTERNSHIP\\\\INT1_PROJECT\\\\00_Data\\\\02_Birlestirilmis_Kategoriler\\\\final_kategori_csv\\\\combined_hidrojen.csv',\n",
       " 'C:\\\\Users\\\\duygu\\\\Desktop\\\\00-GitHub-Repo\\\\00-1INTERNSHIP\\\\INT1_PROJECT\\\\00_Data\\\\02_Birlestirilmis_Kategoriler\\\\final_kategori_csv\\\\combined_otoklav.csv',\n",
       " 'C:\\\\Users\\\\duygu\\\\Desktop\\\\00-GitHub-Repo\\\\00-1INTERNSHIP\\\\INT1_PROJECT\\\\00_Data\\\\02_Birlestirilmis_Kategoriler\\\\final_kategori_csv\\\\combined_kartus.csv',\n",
       " 'C:\\\\Users\\\\duygu\\\\Desktop\\\\00-GitHub-Repo\\\\00-1INTERNSHIP\\\\INT1_PROJECT\\\\00_Data\\\\02_Birlestirilmis_Kategoriler\\\\final_kategori_csv\\\\combined_reverse.csv',\n",
       " 'C:\\\\Users\\\\duygu\\\\Desktop\\\\00-GitHub-Repo\\\\00-1INTERNSHIP\\\\INT1_PROJECT\\\\00_Data\\\\02_Birlestirilmis_Kategoriler\\\\final_kategori_csv\\\\combined_yikama.csv',\n",
       " 'C:\\\\Users\\\\duygu\\\\Desktop\\\\00-GitHub-Repo\\\\00-1INTERNSHIP\\\\INT1_PROJECT\\\\00_Data\\\\02_Birlestirilmis_Kategoriler\\\\final_kategori_csv\\\\combined_oksijen.csv']"
      ]
     },
     "execution_count": 31,
     "metadata": {},
     "output_type": "execute_result"
    }
   ],
   "source": [
    "import os\n",
    "\n",
    "# DataFrame isimlerini ve dosya isimlerini bir araya getirme\n",
    "dfs = [\n",
    "    (df_ameliyat, \"combined_ameliyat.csv\"),\n",
    "    (df_hidrojen_peroktif, \"combined_hidrojen.csv\"),\n",
    "    (df_otoklav, \"combined_otoklav.csv\"),\n",
    "    (df_kartus, \"combined_kartus.csv\"),\n",
    "    (df_reverse, \"combined_reverse.csv\"),\n",
    "    (df_yikama, \"combined_yikama.csv\"),\n",
    "    (df_oksijen, \"combined_oksijen.csv\")\n",
    "]\n",
    "\n",
    "\n",
    "# Belirtilen dosya yolunu tanımlama\n",
    "save_path = r\"C:\\Users\\duygu\\Desktop\\00-GitHub-Repo\\00-1INTERNSHIP\\INT1_PROJECT\\00_Data\\02_Birlestirilmis_Kategoriler\\final_kategori_csv\"\n",
    "\n",
    "# Dosya yolunu oluşturma (eğer yoksa)\n",
    "os.makedirs(save_path, exist_ok=True)\n",
    "\n",
    "# DataFrame'leri CSV olarak kaydetme\n",
    "file_paths = []  # Kaydedilen dosya yollarını tutmak için\n",
    "for df, filename in dfs:\n",
    "    file_path = os.path.join(save_path, filename)\n",
    "    df.to_csv(file_path, index=False, encoding='utf-8-sig')\n",
    "    file_paths.append(file_path)\n",
    "\n",
    "file_paths  # Kaydedilen dosya yollarını göstereceğiz"
   ]
  },
  {
   "cell_type": "code",
   "execution_count": 32,
   "id": "8d82ac9c",
   "metadata": {
    "ExecuteTime": {
     "end_time": "2024-10-26T16:29:20.097104Z",
     "start_time": "2024-10-26T16:29:11.813924Z"
    }
   },
   "outputs": [
    {
     "data": {
      "text/plain": [
       "['C:\\\\Users\\\\duygu\\\\Desktop\\\\00-GitHub-Repo\\\\00-1INTERNSHIP\\\\INT1_PROJECT\\\\00_Data\\\\02_Birlestirilmis_Kategoriler\\\\final_kategori_excel\\\\combined_ameliyat.xlsx',\n",
       " 'C:\\\\Users\\\\duygu\\\\Desktop\\\\00-GitHub-Repo\\\\00-1INTERNSHIP\\\\INT1_PROJECT\\\\00_Data\\\\02_Birlestirilmis_Kategoriler\\\\final_kategori_excel\\\\combined_hidrojen.xlsx',\n",
       " 'C:\\\\Users\\\\duygu\\\\Desktop\\\\00-GitHub-Repo\\\\00-1INTERNSHIP\\\\INT1_PROJECT\\\\00_Data\\\\02_Birlestirilmis_Kategoriler\\\\final_kategori_excel\\\\combined_otoklav.xlsx',\n",
       " 'C:\\\\Users\\\\duygu\\\\Desktop\\\\00-GitHub-Repo\\\\00-1INTERNSHIP\\\\INT1_PROJECT\\\\00_Data\\\\02_Birlestirilmis_Kategoriler\\\\final_kategori_excel\\\\combined_kartus.xlsx',\n",
       " 'C:\\\\Users\\\\duygu\\\\Desktop\\\\00-GitHub-Repo\\\\00-1INTERNSHIP\\\\INT1_PROJECT\\\\00_Data\\\\02_Birlestirilmis_Kategoriler\\\\final_kategori_excel\\\\combined_reverse.xlsx',\n",
       " 'C:\\\\Users\\\\duygu\\\\Desktop\\\\00-GitHub-Repo\\\\00-1INTERNSHIP\\\\INT1_PROJECT\\\\00_Data\\\\02_Birlestirilmis_Kategoriler\\\\final_kategori_excel\\\\combined_yikama.xlsx',\n",
       " 'C:\\\\Users\\\\duygu\\\\Desktop\\\\00-GitHub-Repo\\\\00-1INTERNSHIP\\\\INT1_PROJECT\\\\00_Data\\\\02_Birlestirilmis_Kategoriler\\\\final_kategori_excel\\\\combined_oksijen.xlsx']"
      ]
     },
     "execution_count": 32,
     "metadata": {},
     "output_type": "execute_result"
    }
   ],
   "source": [
    "# EXCEL FORMATTA SAVE\n",
    "import os\n",
    "\n",
    "# DataFrame isimlerini ve dosya isimlerini bir araya getirme\n",
    "dfs = [\n",
    "    (df_ameliyat, \"combined_ameliyat.xlsx\"),\n",
    "    (df_hidrojen_peroktif, \"combined_hidrojen.xlsx\"),\n",
    "    (df_otoklav, \"combined_otoklav.xlsx\"),\n",
    "    (df_kartus, \"combined_kartus.xlsx\"),\n",
    "    (df_reverse, \"combined_reverse.xlsx\"),\n",
    "    (df_yikama, \"combined_yikama.xlsx\"),\n",
    "    (df_oksijen, \"combined_oksijen.xlsx\")\n",
    "]\n",
    "\n",
    "# Belirtilen dosya yolunu tanımlama\n",
    "save_path = r\"C:\\Users\\duygu\\Desktop\\00-GitHub-Repo\\00-1INTERNSHIP\\INT1_PROJECT\\00_Data\\02_Birlestirilmis_Kategoriler\\final_kategori_excel\"\n",
    "\n",
    "# Dosya yolunu oluşturma (eğer yoksa)\n",
    "os.makedirs(save_path, exist_ok=True)\n",
    "\n",
    "# DataFrame'leri Excel olarak kaydetme\n",
    "file_paths = []  # Kaydedilen dosya yollarını tutmak için\n",
    "for df, filename in dfs:\n",
    "    file_path = os.path.join(save_path, filename)\n",
    "    df.to_excel(file_path, index=False)\n",
    "    file_paths.append(file_path)\n",
    "\n",
    "file_paths  # Kaydedilen dosya yollarını göstereceğiz\n"
   ]
  },
  {
   "cell_type": "code",
   "execution_count": 33,
   "id": "097e62cd",
   "metadata": {
    "ExecuteTime": {
     "end_time": "2024-10-26T16:29:23.615767Z",
     "start_time": "2024-10-26T16:29:23.597871Z"
    },
    "jupyter": {
     "outputs_hidden": true
    }
   },
   "outputs": [
    {
     "data": {
      "text/html": [
       "<div>\n",
       "<style scoped>\n",
       "    .dataframe tbody tr th:only-of-type {\n",
       "        vertical-align: middle;\n",
       "    }\n",
       "\n",
       "    .dataframe tbody tr th {\n",
       "        vertical-align: top;\n",
       "    }\n",
       "\n",
       "    .dataframe thead th {\n",
       "        text-align: right;\n",
       "    }\n",
       "</style>\n",
       "<table border=\"1\" class=\"dataframe\">\n",
       "  <thead>\n",
       "    <tr style=\"text-align: right;\">\n",
       "      <th></th>\n",
       "      <th>kategori</th>\n",
       "      <th>satis_turu</th>\n",
       "      <th>siparis_no</th>\n",
       "      <th>siparis_tarihi</th>\n",
       "      <th>siparisi_veren</th>\n",
       "      <th>kurulum_yeri</th>\n",
       "      <th>il</th>\n",
       "      <th>urun_modeli</th>\n",
       "      <th>urun_adi</th>\n",
       "      <th>litre</th>\n",
       "      <th>seri_no</th>\n",
       "      <th>teslim_suresi</th>\n",
       "      <th>teslim_tarihi</th>\n",
       "      <th>siparis_durumu</th>\n",
       "      <th>irsaliye_tarihi</th>\n",
       "    </tr>\n",
       "  </thead>\n",
       "  <tbody>\n",
       "    <tr>\n",
       "      <th>0</th>\n",
       "      <td>AMELIYAT MASASI</td>\n",
       "      <td>ÖZEL</td>\n",
       "      <td>2018/006</td>\n",
       "      <td>2018-06-29</td>\n",
       "      <td>ÖZEL FSM TIP MERKEZİ</td>\n",
       "      <td>ÖZEL FSM TIP MERKEZİ</td>\n",
       "      <td>İSTANBUL</td>\n",
       "      <td>GOLDBERG 5S</td>\n",
       "      <td>AMELİYAT MASASI</td>\n",
       "      <td>*</td>\n",
       "      <td>2018/02-012</td>\n",
       "      <td>20 GÜN</td>\n",
       "      <td>2018-07-18</td>\n",
       "      <td>NaN</td>\n",
       "      <td>NaN</td>\n",
       "    </tr>\n",
       "    <tr>\n",
       "      <th>1</th>\n",
       "      <td>AMELIYAT MASASI</td>\n",
       "      <td>DEMO</td>\n",
       "      <td>2018/007</td>\n",
       "      <td>2018-02-14</td>\n",
       "      <td>DEMO</td>\n",
       "      <td>DERİNCE EĞİTİM VE ARAŞTIRMA HASTANESİ</td>\n",
       "      <td>KOCAELİ</td>\n",
       "      <td>GOLDBERG 5S</td>\n",
       "      <td>AMELİYAT MASASI</td>\n",
       "      <td>*</td>\n",
       "      <td>2018/02-003</td>\n",
       "      <td>21 GÜN</td>\n",
       "      <td>NaN</td>\n",
       "      <td>NaN</td>\n",
       "      <td>NaN</td>\n",
       "    </tr>\n",
       "    <tr>\n",
       "      <th>2</th>\n",
       "      <td>AMELIYAT MASASI</td>\n",
       "      <td>ÖZEL</td>\n",
       "      <td>2018/008</td>\n",
       "      <td>2018-10-23</td>\n",
       "      <td>İZMİR KATİP ÇELEBİ ÜNİVERSİTESİ</td>\n",
       "      <td>İZMİR KATİP ÇELEBİ ÜNİVERSİTESİ</td>\n",
       "      <td>İZMİR</td>\n",
       "      <td>GOLDBERG 5S</td>\n",
       "      <td>AMELİYAT MASASI</td>\n",
       "      <td>*</td>\n",
       "      <td>2018/02-029</td>\n",
       "      <td>DERHAL</td>\n",
       "      <td>NaN</td>\n",
       "      <td>NaN</td>\n",
       "      <td>NaN</td>\n",
       "    </tr>\n",
       "    <tr>\n",
       "      <th>3</th>\n",
       "      <td>AMELIYAT MASASI</td>\n",
       "      <td>YURTDIŞI</td>\n",
       "      <td>2018/009</td>\n",
       "      <td>2018-09-03</td>\n",
       "      <td>COOL DEE PA ELEKTRIC CO LTD.</td>\n",
       "      <td>COOL DEE PA ELEKTRIC CO LTD.</td>\n",
       "      <td>TAYLAND</td>\n",
       "      <td>GOLDBERG 5S</td>\n",
       "      <td>AMELİYAT MASASI</td>\n",
       "      <td>*</td>\n",
       "      <td>2018/02-022</td>\n",
       "      <td>7 GÜN</td>\n",
       "      <td>2018-09-07</td>\n",
       "      <td>NaN</td>\n",
       "      <td>NaN</td>\n",
       "    </tr>\n",
       "    <tr>\n",
       "      <th>4</th>\n",
       "      <td>AMELIYAT MASASI</td>\n",
       "      <td>YURTDIŞI</td>\n",
       "      <td>2018/011</td>\n",
       "      <td>2018-02-28</td>\n",
       "      <td>YÜKSELİŞ</td>\n",
       "      <td>DR.ORUC IBADOV</td>\n",
       "      <td>AZERBEYCAN</td>\n",
       "      <td>GOLDBERG 5S</td>\n",
       "      <td>AMELİYAT MASASI</td>\n",
       "      <td>*</td>\n",
       "      <td>2018/02-004</td>\n",
       "      <td>8 GÜN</td>\n",
       "      <td>NaN</td>\n",
       "      <td>NaN</td>\n",
       "      <td>NaN</td>\n",
       "    </tr>\n",
       "  </tbody>\n",
       "</table>\n",
       "</div>"
      ],
      "text/plain": [
       "          kategori satis_turu siparis_no siparis_tarihi                   siparisi_veren                           kurulum_yeri          il  urun_modeli         urun_adi litre      seri_no teslim_suresi teslim_tarihi  siparis_durumu irsaliye_tarihi\n",
       "0  AMELIYAT MASASI       ÖZEL   2018/006     2018-06-29             ÖZEL FSM TIP MERKEZİ                   ÖZEL FSM TIP MERKEZİ    İSTANBUL  GOLDBERG 5S  AMELİYAT MASASI     *  2018/02-012        20 GÜN    2018-07-18             NaN             NaN\n",
       "1  AMELIYAT MASASI       DEMO   2018/007     2018-02-14                             DEMO  DERİNCE EĞİTİM VE ARAŞTIRMA HASTANESİ     KOCAELİ  GOLDBERG 5S  AMELİYAT MASASI     *  2018/02-003        21 GÜN           NaN             NaN             NaN\n",
       "2  AMELIYAT MASASI       ÖZEL   2018/008     2018-10-23  İZMİR KATİP ÇELEBİ ÜNİVERSİTESİ        İZMİR KATİP ÇELEBİ ÜNİVERSİTESİ       İZMİR  GOLDBERG 5S  AMELİYAT MASASI     *  2018/02-029        DERHAL           NaN             NaN             NaN\n",
       "3  AMELIYAT MASASI   YURTDIŞI   2018/009     2018-09-03     COOL DEE PA ELEKTRIC CO LTD.           COOL DEE PA ELEKTRIC CO LTD.     TAYLAND  GOLDBERG 5S  AMELİYAT MASASI     *  2018/02-022         7 GÜN    2018-09-07             NaN             NaN\n",
       "4  AMELIYAT MASASI   YURTDIŞI   2018/011     2018-02-28                         YÜKSELİŞ                         DR.ORUC IBADOV  AZERBEYCAN  GOLDBERG 5S  AMELİYAT MASASI     *  2018/02-004         8 GÜN           NaN             NaN             NaN"
      ]
     },
     "execution_count": 33,
     "metadata": {},
     "output_type": "execute_result"
    }
   ],
   "source": [
    "# Ornek df goster\n",
    "\n",
    "import pandas as pd\n",
    "\n",
    "# Dosya yolunu belirtelim\n",
    "file_path = r\"C:\\Users\\duygu\\Desktop\\00-GitHub-Repo\\00-1INTERNSHIP\\INT1_PROJECT\\00_Data\\02_Birlestirilmis_Kategoriler\\final_kategori_csv\\combined_ameliyat.csv\"\n",
    "\n",
    "# CSV dosyasını okuyalım\n",
    "try:\n",
    "    df_read = pd.read_csv(file_path)\n",
    "    # İlk birkaç satırı göstereceğiz\n",
    "    df_read.head()\n",
    "except FileNotFoundError:\n",
    "    \"Dosya yolunda bir hata olabilir veya dosya mevcut olmayabilir.\"\n",
    "    \n",
    "df_read.head()\n"
   ]
  },
  {
   "cell_type": "markdown",
   "id": "51c9ae67",
   "metadata": {},
   "source": [
    "# **Tüm Kategorileri CONCAT Etme** "
   ]
  },
  {
   "cell_type": "code",
   "execution_count": null,
   "id": "ddbfbffe",
   "metadata": {},
   "outputs": [],
   "source": [
    "df_ameliyat \n",
    "df_otoklav\n",
    "df_hidrojen_peroktif\n",
    "df_kartus\n",
    "df_reverse\n",
    "df_yikama\n",
    "df_oksijen"
   ]
  },
  {
   "cell_type": "code",
   "execution_count": 35,
   "id": "456be006",
   "metadata": {
    "ExecuteTime": {
     "end_time": "2024-10-26T16:31:12.117848Z",
     "start_time": "2024-10-26T16:31:12.099477Z"
    }
   },
   "outputs": [
    {
     "data": {
      "text/html": [
       "<div>\n",
       "<style scoped>\n",
       "    .dataframe tbody tr th:only-of-type {\n",
       "        vertical-align: middle;\n",
       "    }\n",
       "\n",
       "    .dataframe tbody tr th {\n",
       "        vertical-align: top;\n",
       "    }\n",
       "\n",
       "    .dataframe thead th {\n",
       "        text-align: right;\n",
       "    }\n",
       "</style>\n",
       "<table border=\"1\" class=\"dataframe\">\n",
       "  <thead>\n",
       "    <tr style=\"text-align: right;\">\n",
       "      <th></th>\n",
       "      <th>kategori</th>\n",
       "      <th>satis_turu</th>\n",
       "      <th>siparis_no</th>\n",
       "      <th>siparis_tarihi</th>\n",
       "      <th>siparisi_veren</th>\n",
       "      <th>kurulum_yeri</th>\n",
       "      <th>il</th>\n",
       "      <th>urun_modeli</th>\n",
       "      <th>urun_adi</th>\n",
       "      <th>litre</th>\n",
       "      <th>seri_no</th>\n",
       "      <th>teslim_suresi</th>\n",
       "      <th>teslim_tarihi</th>\n",
       "      <th>siparis_durumu</th>\n",
       "      <th>irsaliye_tarihi</th>\n",
       "      <th>aciklama</th>\n",
       "      <th>solusyon_fatura</th>\n",
       "      <th>bidon_acilisi</th>\n",
       "      <th>uts_no</th>\n",
       "    </tr>\n",
       "  </thead>\n",
       "  <tbody>\n",
       "    <tr>\n",
       "      <th>6344</th>\n",
       "      <td>KARTUS</td>\n",
       "      <td>SATIŞ</td>\n",
       "      <td>2020/016</td>\n",
       "      <td>2020-01-28</td>\n",
       "      <td>METRONİKS MEDİKAL-AKSARAY EĞİTİM VE ARAŞTIRMA ...</td>\n",
       "      <td>NaN</td>\n",
       "      <td>AKSARAY</td>\n",
       "      <td>NaN</td>\n",
       "      <td>KARTUŞ</td>\n",
       "      <td>NaN</td>\n",
       "      <td>2020/07-0109</td>\n",
       "      <td>NaN</td>\n",
       "      <td>NaN</td>\n",
       "      <td>NaN</td>\n",
       "      <td>NaN</td>\n",
       "      <td>SATIŞ BÜYÜK KARTUŞ</td>\n",
       "      <td>20.12.2019-GIB2019000016266</td>\n",
       "      <td>2020-01-05</td>\n",
       "      <td>NaN</td>\n",
       "    </tr>\n",
       "    <tr>\n",
       "      <th>17291</th>\n",
       "      <td>KARTUS</td>\n",
       "      <td>İHALE</td>\n",
       "      <td>NaN</td>\n",
       "      <td>2022-10-24</td>\n",
       "      <td>KARS HARAKANİ DEVLET HASTANESİ</td>\n",
       "      <td>NaN</td>\n",
       "      <td>KARS</td>\n",
       "      <td>NaN</td>\n",
       "      <td>KARTUŞ</td>\n",
       "      <td>NaN</td>\n",
       "      <td>2022/07-3753</td>\n",
       "      <td>NaN</td>\n",
       "      <td>NaN</td>\n",
       "      <td>NaN</td>\n",
       "      <td>NaN</td>\n",
       "      <td>NaN</td>\n",
       "      <td>NaN</td>\n",
       "      <td>NaN</td>\n",
       "      <td>NaN</td>\n",
       "    </tr>\n",
       "    <tr>\n",
       "      <th>12289</th>\n",
       "      <td>KARTUS</td>\n",
       "      <td>SATIŞ</td>\n",
       "      <td>2021/105</td>\n",
       "      <td>2021-09-23</td>\n",
       "      <td>UKRAYNA</td>\n",
       "      <td>NaN</td>\n",
       "      <td>UKRAYNA</td>\n",
       "      <td>NaN</td>\n",
       "      <td>KARTUŞ</td>\n",
       "      <td>NaN</td>\n",
       "      <td>2021/07-3268</td>\n",
       "      <td>NaN</td>\n",
       "      <td>NaN</td>\n",
       "      <td>NaN</td>\n",
       "      <td>NaN</td>\n",
       "      <td>SATIŞ</td>\n",
       "      <td>NaN</td>\n",
       "      <td>NaN</td>\n",
       "      <td>NaN</td>\n",
       "    </tr>\n",
       "    <tr>\n",
       "      <th>7259</th>\n",
       "      <td>KARTUS</td>\n",
       "      <td>SATIŞ</td>\n",
       "      <td>2020/065</td>\n",
       "      <td>2020-05-06</td>\n",
       "      <td>ANKARA ÜNİVERSİTESİ</td>\n",
       "      <td>NaN</td>\n",
       "      <td>ANKARA</td>\n",
       "      <td>NaN</td>\n",
       "      <td>KARTUŞ</td>\n",
       "      <td>NaN</td>\n",
       "      <td>2020/07-0998</td>\n",
       "      <td>NaN</td>\n",
       "      <td>NaN</td>\n",
       "      <td>NaN</td>\n",
       "      <td>NaN</td>\n",
       "      <td>KÜÇÜK KARTUŞLA BÜYÜK KARTUŞ DEĞİŞİMİ</td>\n",
       "      <td>20.12.2019-GIB2019000016266</td>\n",
       "      <td>2020-01-05</td>\n",
       "      <td>NaN</td>\n",
       "    </tr>\n",
       "    <tr>\n",
       "      <th>16087</th>\n",
       "      <td>KARTUS</td>\n",
       "      <td>ÖZEL</td>\n",
       "      <td>NaN</td>\n",
       "      <td>2022-09-01</td>\n",
       "      <td>MNR MEDİKAL TIBBİ CİHAZLAR SAN.TİC. A.Ş. URFA</td>\n",
       "      <td>NaN</td>\n",
       "      <td>URFA</td>\n",
       "      <td>NaN</td>\n",
       "      <td>KARTUŞ</td>\n",
       "      <td>NaN</td>\n",
       "      <td>2022/07-2549</td>\n",
       "      <td>NaN</td>\n",
       "      <td>NaN</td>\n",
       "      <td>NaN</td>\n",
       "      <td>NaN</td>\n",
       "      <td>NaN</td>\n",
       "      <td>NaN</td>\n",
       "      <td>NaN</td>\n",
       "      <td>NaN</td>\n",
       "    </tr>\n",
       "  </tbody>\n",
       "</table>\n",
       "</div>"
      ],
      "text/plain": [
       "      kategori satis_turu siparis_no siparis_tarihi                                     siparisi_veren kurulum_yeri       il urun_modeli urun_adi litre       seri_no teslim_suresi teslim_tarihi  siparis_durumu irsaliye_tarihi                              aciklama              solusyon_fatura bidon_acilisi  uts_no\n",
       "6344    KARTUS      SATIŞ   2020/016     2020-01-28  METRONİKS MEDİKAL-AKSARAY EĞİTİM VE ARAŞTIRMA ...          NaN  AKSARAY         NaN   KARTUŞ   NaN  2020/07-0109           NaN           NaN             NaN             NaN                    SATIŞ BÜYÜK KARTUŞ  20.12.2019-GIB2019000016266    2020-01-05     NaN\n",
       "17291   KARTUS      İHALE        NaN     2022-10-24                     KARS HARAKANİ DEVLET HASTANESİ          NaN     KARS         NaN   KARTUŞ   NaN  2022/07-3753           NaN           NaN             NaN             NaN                                   NaN                          NaN           NaN     NaN\n",
       "12289   KARTUS      SATIŞ   2021/105     2021-09-23                                            UKRAYNA          NaN  UKRAYNA         NaN   KARTUŞ   NaN  2021/07-3268           NaN           NaN             NaN             NaN                                 SATIŞ                          NaN           NaN     NaN\n",
       "7259    KARTUS      SATIŞ   2020/065     2020-05-06                                ANKARA ÜNİVERSİTESİ          NaN   ANKARA         NaN   KARTUŞ   NaN  2020/07-0998           NaN           NaN             NaN             NaN  KÜÇÜK KARTUŞLA BÜYÜK KARTUŞ DEĞİŞİMİ  20.12.2019-GIB2019000016266    2020-01-05     NaN\n",
       "16087   KARTUS       ÖZEL        NaN     2022-09-01      MNR MEDİKAL TIBBİ CİHAZLAR SAN.TİC. A.Ş. URFA          NaN     URFA         NaN   KARTUŞ   NaN  2022/07-2549           NaN           NaN             NaN             NaN                                   NaN                          NaN           NaN     NaN"
      ]
     },
     "execution_count": 35,
     "metadata": {},
     "output_type": "execute_result"
    }
   ],
   "source": [
    "# Tüm DataFrame'leri alt alta birleştiriyoruz\n",
    "dfs_list = [df_ameliyat, \n",
    "            df_otoklav,\n",
    "            df_hidrojen_peroktif,\n",
    "            df_kartus,\n",
    "            df_reverse,\n",
    "            df_yikama,\n",
    "            df_oksijen,\n",
    "           ]\n",
    "\n",
    "combined_df = combine_dataframes(dfs_list)\n",
    "\n",
    "# Sonuç DataFrame'i görüntülemek için\n",
    "combined_df.sample(5)"
   ]
  },
  {
   "cell_type": "code",
   "execution_count": 36,
   "id": "a86de60c",
   "metadata": {
    "ExecuteTime": {
     "end_time": "2024-10-26T16:31:42.826459Z",
     "start_time": "2024-10-26T16:31:42.820784Z"
    }
   },
   "outputs": [
    {
     "name": "stdout",
     "output_type": "stream",
     "text": [
      "(32646, 19)\n"
     ]
    },
    {
     "data": {
      "text/plain": [
       "Index(['kategori', 'satis_turu', 'siparis_no', 'siparis_tarihi', 'siparisi_veren', 'kurulum_yeri', 'il', 'urun_modeli', 'urun_adi', 'litre', 'seri_no', 'teslim_suresi', 'teslim_tarihi', 'siparis_durumu', 'irsaliye_tarihi', 'aciklama', 'solusyon_fatura', 'bidon_acilisi', 'uts_no'], dtype='object')"
      ]
     },
     "execution_count": 36,
     "metadata": {},
     "output_type": "execute_result"
    }
   ],
   "source": [
    "print(combined_df.shape)\n",
    "combined_df.columns"
   ]
  },
  {
   "cell_type": "markdown",
   "id": "d642b6e2",
   "metadata": {},
   "source": [
    "## FINAL SUTUN LISTESI"
   ]
  },
  {
   "cell_type": "code",
   "execution_count": null,
   "id": "7d750cd5",
   "metadata": {},
   "outputs": [],
   "source": [
    "Index(['kategori', \n",
    "       'satis_turu', \n",
    "       'siparis_no', \n",
    "       'siparis_tarihi', \n",
    "       'siparisi_veren', \n",
    "       'kurulum_yeri', \n",
    "       'il', \n",
    "       'urun_modeli', \n",
    "       'urun_adi', \n",
    "       'litre', \n",
    "       'seri_no', \n",
    "       'teslim_suresi', \n",
    "       'teslim_tarihi', \n",
    "       'siparis_durumu', \n",
    "       'irsaliye_tarihi', \n",
    "       'aciklama', \n",
    "       'solusyon_fatura', \n",
    "       'bidon_acilisi', \n",
    "       'uts_no'\n",
    "      ], dtype='object')"
   ]
  },
  {
   "cell_type": "code",
   "execution_count": null,
   "id": "54580684",
   "metadata": {
    "ExecuteTime": {
     "end_time": "2024-10-26T14:38:54.326947Z",
     "start_time": "2024-10-26T14:38:54.311834Z"
    },
    "scrolled": false
   },
   "outputs": [],
   "source": [
    "# # Move Colunms index Fonksiyonu cagir\n",
    "\n",
    "# # combined_df üzerinde 'urun_adi' 'urun_modeli' nden sonra getirmek icin\n",
    "# combined_df = move_column(combined_df, 'urun_adi', 8)\n",
    "\n",
    "# combined_df.head()\n"
   ]
  },
  {
   "cell_type": "markdown",
   "id": "ba596867",
   "metadata": {},
   "source": [
    "## Save Final CSV "
   ]
  },
  {
   "cell_type": "code",
   "execution_count": 38,
   "id": "1bd9f802",
   "metadata": {
    "ExecuteTime": {
     "end_time": "2024-10-26T16:39:15.417227Z",
     "start_time": "2024-10-26T16:39:15.252852Z"
    }
   },
   "outputs": [],
   "source": [
    "combined_df.to_csv('merged_satis_uretim_data_26_10_2024.csv', index=False, encoding='utf-8-sig')"
   ]
  },
  {
   "cell_type": "code",
   "execution_count": null,
   "id": "e04caa8a",
   "metadata": {},
   "outputs": [],
   "source": [
    "combined_df.to_excel('merged_satis_uretim_data_26_10_2024.xlsx', index=False, encoding='utf-8-sig')"
   ]
  }
 ],
 "metadata": {
  "hide_input": false,
  "kernelspec": {
   "display_name": "Python 3 (ipykernel)",
   "language": "python",
   "name": "python3"
  },
  "language_info": {
   "codemirror_mode": {
    "name": "ipython",
    "version": 3
   },
   "file_extension": ".py",
   "mimetype": "text/x-python",
   "name": "python",
   "nbconvert_exporter": "python",
   "pygments_lexer": "ipython3",
   "version": "3.12.3"
  },
  "toc": {
   "base_numbering": 1,
   "nav_menu": {},
   "number_sections": true,
   "sideBar": true,
   "skip_h1_title": false,
   "title_cell": "Table of Contents",
   "title_sidebar": "Contents",
   "toc_cell": false,
   "toc_position": {
    "height": "calc(100% - 180px)",
    "left": "10px",
    "top": "150px",
    "width": "296px"
   },
   "toc_section_display": true,
   "toc_window_display": true
  },
  "varInspector": {
   "cols": {
    "lenName": 16,
    "lenType": 16,
    "lenVar": 40
   },
   "kernels_config": {
    "python": {
     "delete_cmd_postfix": "",
     "delete_cmd_prefix": "del ",
     "library": "var_list.py",
     "varRefreshCmd": "print(var_dic_list())"
    },
    "r": {
     "delete_cmd_postfix": ") ",
     "delete_cmd_prefix": "rm(",
     "library": "var_list.r",
     "varRefreshCmd": "cat(var_dic_list()) "
    }
   },
   "types_to_exclude": [
    "module",
    "function",
    "builtin_function_or_method",
    "instance",
    "_Feature"
   ],
   "window_display": false
  }
 },
 "nbformat": 4,
 "nbformat_minor": 5
}
