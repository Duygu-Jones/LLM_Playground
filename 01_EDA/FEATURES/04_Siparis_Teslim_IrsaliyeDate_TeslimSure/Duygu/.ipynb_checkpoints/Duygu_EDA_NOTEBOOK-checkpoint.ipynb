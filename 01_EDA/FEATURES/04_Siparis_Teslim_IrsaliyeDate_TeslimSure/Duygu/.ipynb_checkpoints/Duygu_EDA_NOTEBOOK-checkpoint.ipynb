{
 "cells": [
  {
   "cell_type": "code",
   "execution_count": 1,
   "id": "41588a0c",
   "metadata": {
    "ExecuteTime": {
     "end_time": "2024-10-28T10:34:12.585999Z",
     "start_time": "2024-10-28T10:34:12.578076Z"
    }
   },
   "outputs": [],
   "source": [
    "# DIKKAT `INT_1` TEAM UYESI ---> LUTFEN OKU:)) \n",
    "\n",
    "# Calismaya baslamadan once Github Desktop'ta Branchinda oldugundan emin ol!\n",
    "# Main branch'i kendi Branch'ina aktarmayi (merge) unutma\n",
    "# Sadece ve sadece kendi Branchinda kal!\n",
    "# Kendi Branch'inda iken calis ve COMMIT yap! \n",
    "\n",
    "# Github Proje klasorunde SADECE sana ayrilmis olan klasorunde calis-degisiklik yap. \n",
    "# Baskasinin veya ortak bir dosyada asla degisiklik yapma!\n",
    "# Buddy arkadasin ile ortak notebooklarinizda degisiklik yapmadan once onunla haberles! \n",
    "\n",
    "# HIC Emin degilsen PROJENIN GUVENLIGI ICIN github proje klasoru disinda bireysel bir klasorunde datalari kopyalayip alabilir ve lokalinde calisabilirsin. \n",
    "# Calismandan emin olduktan sonra gerekli dosyalari Github Proje klasoru icinde sana ayrilmis olan dosya icine ekleyebilirin\n",
    "# GitHub'a COMMIT-PUSH yaptiginda --> slackta --> GITHUB_UPDATE kanalindan bilgi vermeyi unutma!!\n",
    "\n",
    "# UTILS classinda isini kolaylastiracak fonksiyonlar ekledik, goz atabilirsin, asagida nasil kullancagini gosterdik.\n",
    "# Eger sende kullanisli bir fonksiyon bulursan UTILS classina uygun hale getirip-calistirip-test ettikten sonra \n",
    "#  benimle paylasirsan ortak utils dosyasina code'unu eklerim, diger arkadaslarinin da isini kolaylastirmis olursun:)\n",
    "\n",
    "# Okudugun icin tesekkurler iyi calismalar:)) "
   ]
  },
  {
   "cell_type": "markdown",
   "id": "3c54fa65",
   "metadata": {},
   "source": [
    "# GOLDBERG MED GmbH URETIM-TAKIP-SATIS ANALIZI"
   ]
  },
  {
   "cell_type": "markdown",
   "id": "4e8d91d0",
   "metadata": {},
   "source": [
    "**Giriş**\n",
    "\n",
    "Bu proje, Goldberg Med GmbH’nin satış performansını analiz etmek ve iş süreçlerini iyileştirmek için Keşifsel Veri Analizi (EDA) yöntemlerini kullanmayı amaçlayacaktır. Projenin temel hedefi, mevcut veriyi anlamak, olası sorunları belirlemek ve şirketin stratejik karar alma süreçlerine katkıda bulunmaktır.\n",
    "\n",
    "**Proje Hedefleri:**\n",
    "\n",
    "1. Mevcut veri setini inceleyerek verinin yapısını ve özelliklerini anlamak.\n",
    "2. Satış performansı ile ilgili temel trendleri ve desenleri keşfetmek.\n",
    "3. Verinin kalitesini artırmak için temizleme işlemleri yapmak (eksik ve anormal verileri tespit ve düzeltme).\n",
    "4. Elde edilen bulgular doğrultusunda, şirketin pazardaki konumunu güçlendirecek öneriler geliştirmek.\n",
    "\n",
    "**Proje Adımları:**\n",
    "\n",
    "1. **Veri Toplama ve Tanımlama:** Şirketten elde edilen satış verileri ve iş süreçlerine dair bilgiler incelenecek ve analiz için hazırlanacaktır.\n",
    "2. **Keşifsel Veri Analizi (EDA):** \n",
    "3. **Veri Temizleme:** Veri setindeki eksik veya hatalı veriler tespit edilerek gerekli düzenlemeler yapılacaktır.\n",
    "3. **Analiz ve Gorsellestirme:** Verinin genel dağılımı, temel istatistikler ve görselleştirme teknikleri ile incelenecektir. Bu adımda, verinin temel trendleri ve değişkenler arasındaki ilişkiler analiz edilecektir.\n",
    "4. **Bulgular ve Yorumlar:** Elde edilen analiz sonuçları yorumlanarak, satış performansını etkileyen faktörler üzerine odaklanılacaktır.\n",
    "5. **Sonuçlar ve Öneriler:** Şirketin satışlarını artırmaya yönelik stratejik öneriler geliştirilecek ve ileriye dönük analizlerin yapılması için yol haritası sunulacaktır.\n",
    "\n",
    "**Sonuçlar:**\n",
    "\n",
    "Bu proje, Goldberg Med GmbH’nin satış verilerini analiz ederek, performansı artırmaya yönelik içgörüler sunacaktır. Analiz süreci, şirketin iş süreçlerinde verimliliği artırabilecek potansiyel alanları belirleyecek ve bu alanlarda uygulanabilecek stratejiler geliştirecektir. Elde edilen veriler doğrultusunda, şirketin pazar payını artırmak ve satışları optimize etmek için uygulanabilecek öneriler raporda detaylı olarak sunulacaktır."
   ]
  },
  {
   "cell_type": "markdown",
   "id": "d1aa00dc-fd8f-4c98-a350-c6290b877a47",
   "metadata": {},
   "source": [
    "## Imports Libraries"
   ]
  },
  {
   "cell_type": "code",
   "execution_count": 1,
   "id": "e9bb2ba0",
   "metadata": {
    "ExecuteTime": {
     "end_time": "2024-10-28T13:48:57.023899Z",
     "start_time": "2024-10-28T13:48:54.971870Z"
    }
   },
   "outputs": [],
   "source": [
    "import numpy as np \n",
    "import pandas as pd \n",
    "import matplotlib.pyplot as plt\n",
    "import plotly.express as px\n",
    "import seaborn as sns\n",
    "import cufflinks as cf\n",
    "%matplotlib inline \n",
    "import os\n",
    "import sys\n",
    "from scipy import stats\n",
    "\n",
    "\n",
    "pd.set_option('display.max_rows', 1000)\n",
    "pd.set_option('display.max_columns', 1000)\n",
    "pd.set_option('display.width', 1000)\n",
    "\n",
    "import warnings\n",
    "warnings.filterwarnings(\"ignore\")"
   ]
  },
  {
   "cell_type": "markdown",
   "id": "6ec28288",
   "metadata": {},
   "source": [
    "## Load the Data"
   ]
  },
  {
   "cell_type": "code",
   "execution_count": 13,
   "id": "bd4417d5",
   "metadata": {
    "ExecuteTime": {
     "end_time": "2024-10-28T13:54:47.328711Z",
     "start_time": "2024-10-28T13:54:47.222449Z"
    }
   },
   "outputs": [
    {
     "data": {
      "text/html": [
       "<div>\n",
       "<style scoped>\n",
       "    .dataframe tbody tr th:only-of-type {\n",
       "        vertical-align: middle;\n",
       "    }\n",
       "\n",
       "    .dataframe tbody tr th {\n",
       "        vertical-align: top;\n",
       "    }\n",
       "\n",
       "    .dataframe thead th {\n",
       "        text-align: right;\n",
       "    }\n",
       "</style>\n",
       "<table border=\"1\" class=\"dataframe\">\n",
       "  <thead>\n",
       "    <tr style=\"text-align: right;\">\n",
       "      <th></th>\n",
       "      <th>kategori</th>\n",
       "      <th>satis_turu</th>\n",
       "      <th>siparis_no</th>\n",
       "      <th>siparis_tarihi</th>\n",
       "      <th>siparisi_veren</th>\n",
       "      <th>kurulum_yeri</th>\n",
       "      <th>il</th>\n",
       "      <th>urun_modeli</th>\n",
       "      <th>urun_adi</th>\n",
       "      <th>litre</th>\n",
       "      <th>seri_no</th>\n",
       "      <th>teslim_suresi</th>\n",
       "      <th>teslim_tarihi</th>\n",
       "      <th>irsaliye_tarihi</th>\n",
       "      <th>aciklama</th>\n",
       "      <th>solusyon_fatura</th>\n",
       "      <th>bidon_acilisi</th>\n",
       "      <th>uts_no</th>\n",
       "    </tr>\n",
       "  </thead>\n",
       "  <tbody>\n",
       "    <tr>\n",
       "      <th>0</th>\n",
       "      <td>AMELIYAT MASASI</td>\n",
       "      <td>ÖZEL</td>\n",
       "      <td>2018/006</td>\n",
       "      <td>6/29/2018</td>\n",
       "      <td>ÖZEL FSM TIP MERKEZİ</td>\n",
       "      <td>ÖZEL FSM TIP MERKEZİ</td>\n",
       "      <td>İSTANBUL</td>\n",
       "      <td>GOLDBERG 5S</td>\n",
       "      <td>AMELİYAT MASASI</td>\n",
       "      <td>*</td>\n",
       "      <td>2018/02-012</td>\n",
       "      <td>20 GÜN</td>\n",
       "      <td>7/18/2018</td>\n",
       "      <td>NaN</td>\n",
       "      <td>NaN</td>\n",
       "      <td>NaN</td>\n",
       "      <td>NaN</td>\n",
       "      <td>NaN</td>\n",
       "    </tr>\n",
       "    <tr>\n",
       "      <th>1</th>\n",
       "      <td>AMELIYAT MASASI</td>\n",
       "      <td>DEMO</td>\n",
       "      <td>2018/007</td>\n",
       "      <td>2/14/2018</td>\n",
       "      <td>DEMO</td>\n",
       "      <td>DERİNCE EĞİTİM VE ARAŞTIRMA HASTANESİ</td>\n",
       "      <td>KOCAELİ</td>\n",
       "      <td>GOLDBERG 5S</td>\n",
       "      <td>AMELİYAT MASASI</td>\n",
       "      <td>*</td>\n",
       "      <td>2018/02-003</td>\n",
       "      <td>21 GÜN</td>\n",
       "      <td>NaN</td>\n",
       "      <td>NaN</td>\n",
       "      <td>NaN</td>\n",
       "      <td>NaN</td>\n",
       "      <td>NaN</td>\n",
       "      <td>NaN</td>\n",
       "    </tr>\n",
       "  </tbody>\n",
       "</table>\n",
       "</div>"
      ],
      "text/plain": [
       "          kategori satis_turu siparis_no siparis_tarihi        siparisi_veren                           kurulum_yeri        il  urun_modeli         urun_adi litre      seri_no teslim_suresi teslim_tarihi irsaliye_tarihi aciklama solusyon_fatura bidon_acilisi  uts_no\n",
       "0  AMELIYAT MASASI       ÖZEL   2018/006      6/29/2018  ÖZEL FSM TIP MERKEZİ                   ÖZEL FSM TIP MERKEZİ  İSTANBUL  GOLDBERG 5S  AMELİYAT MASASI     *  2018/02-012        20 GÜN     7/18/2018             NaN      NaN             NaN           NaN     NaN\n",
       "1  AMELIYAT MASASI       DEMO   2018/007      2/14/2018                  DEMO  DERİNCE EĞİTİM VE ARAŞTIRMA HASTANESİ   KOCAELİ  GOLDBERG 5S  AMELİYAT MASASI     *  2018/02-003        21 GÜN           NaN             NaN      NaN             NaN           NaN     NaN"
      ]
     },
     "execution_count": 13,
     "metadata": {},
     "output_type": "execute_result"
    }
   ],
   "source": [
    "# Dataseti kendi klasorune kopyala al ve direk okut\n",
    "\n",
    "df0 = pd.read_csv('merged_satis_uretim_data_27_Ekim.csv')\n",
    "df = df0.copy()\n",
    "\n",
    "df.head(2)"
   ]
  },
  {
   "cell_type": "code",
   "execution_count": null,
   "id": "ffa886e2",
   "metadata": {
    "ExecuteTime": {
     "end_time": "2024-10-28T12:43:23.718206Z",
     "start_time": "2024-10-28T12:43:23.609778Z"
    },
    "scrolled": false
   },
   "outputs": [],
   "source": [
    "# # Veya Uzak bir klasordeki dataseti-dosyayi okumak icin dosya yolunu ver;\n",
    "\n",
    "# # Dosya yolunu belirtelim\n",
    "# file_path = r\"C:\\Users\\duygu\\Desktop\\00-GitHub-Repo\\00-1INTERNSHIP\\01_EDA\\FEATURES\\04_Siparis_Teslim_IrsaliyeDate_TeslimSure\\Duygu\\merged_satis_uretim_data_27_Ekim.csv\"\n",
    "\n",
    "# # CSV dosyasını okuyalım\n",
    "# try:\n",
    "#     df_total = pd.read_csv(file_path)\n",
    "#     # İlk birkaç satırı göstereceğiz\n",
    "#     df_total.head()\n",
    "# except FileNotFoundError:\n",
    "#     \"Dosya yolunda bir hata olabilir veya dosya mevcut olmayabilir.\"\n",
    "\n",
    "    \n",
    "# df = df_total.copy()  \n",
    "# df.head(2)"
   ]
  },
  {
   "cell_type": "markdown",
   "id": "330efe83-58f1-4664-9d0c-e2a47340a0c3",
   "metadata": {},
   "source": [
    "## Import Local `utils1` Modul"
   ]
  },
  {
   "cell_type": "code",
   "execution_count": 2,
   "id": "573ded06-075e-46ec-89c7-c322e93470fd",
   "metadata": {
    "ExecuteTime": {
     "end_time": "2024-10-28T13:49:13.957111Z",
     "start_time": "2024-10-28T13:49:13.942504Z"
    }
   },
   "outputs": [],
   "source": [
    "#  FONKSIYONLARIMIZI DERLEDIGIMIZ `UTILS` ADINDAKI MODULU BU NOTEBOOK ICINE IMPORT EDIYORUZ\n",
    "\n",
    "import sys\n",
    "\n",
    "# utils1.py dosyasının bulunduğu dizini ham dize olarak ekleyin\n",
    "sys.path.append(r\"C:\\Users\\duygu\\Desktop\\00-GitHub-Repo\\00-1INTERNSHIP\\10_UTILITIES\")\n",
    "\n",
    "# 'utils.py' dosyasında olusturulan Utils sınıfını import et\n",
    "from utilsAnalysis import UtilsAnalysis\n",
    "\n",
    "# utils1 icindeki tum class'lardan bir nesne oluştur\n",
    "utils = UtilsAnalysis()"
   ]
  },
  {
   "cell_type": "code",
   "execution_count": 3,
   "id": "2da7bb2d-f669-4c73-8281-a1e142e0c27a",
   "metadata": {
    "ExecuteTime": {
     "end_time": "2024-10-28T13:49:15.242009Z",
     "start_time": "2024-10-28T13:49:15.236111Z"
    },
    "scrolled": true
   },
   "outputs": [
    {
     "data": {
      "text/plain": [
       "['__class__',\n",
       " '__delattr__',\n",
       " '__dict__',\n",
       " '__dir__',\n",
       " '__doc__',\n",
       " '__eq__',\n",
       " '__format__',\n",
       " '__ge__',\n",
       " '__getattribute__',\n",
       " '__getstate__',\n",
       " '__gt__',\n",
       " '__hash__',\n",
       " '__init__',\n",
       " '__init_subclass__',\n",
       " '__le__',\n",
       " '__lt__',\n",
       " '__module__',\n",
       " '__ne__',\n",
       " '__new__',\n",
       " '__reduce__',\n",
       " '__reduce_ex__',\n",
       " '__repr__',\n",
       " '__setattr__',\n",
       " '__sizeof__',\n",
       " '__str__',\n",
       " '__subclasshook__',\n",
       " '__weakref__',\n",
       " 'detect_anomalies',\n",
       " 'df',\n",
       " 'duplicate_values',\n",
       " 'find_non_numeric_values',\n",
       " 'get_value_count',\n",
       " 'groupby_get_null_values',\n",
       " 'groupby_get_values',\n",
       " 'missing_values',\n",
       " 'na_ratio_plot',\n",
       " 'numeric_summary',\n",
       " 'object_summary']"
      ]
     },
     "execution_count": 3,
     "metadata": {},
     "output_type": "execute_result"
    }
   ],
   "source": [
    "# utils nesnesindeki tüm fonksiyonları ve öznitelikleri listelemek için\n",
    "dir(utils)"
   ]
  },
  {
   "cell_type": "markdown",
   "id": "289a6628",
   "metadata": {},
   "source": [
    "### Utils class'indan Fonk Cagirma:"
   ]
  },
  {
   "cell_type": "code",
   "execution_count": 14,
   "id": "8956ee98",
   "metadata": {
    "ExecuteTime": {
     "end_time": "2024-10-28T13:54:57.384127Z",
     "start_time": "2024-10-28T13:54:57.380100Z"
    }
   },
   "outputs": [],
   "source": [
    "# Utils classindaki fonk kullanmak icin utils objesine dataframe'i tanimla\n",
    "\n",
    "utils.df = df \n",
    "\n",
    "# merged_satis_uretim_data_27_Ekim df tanimlandi\n",
    "# `utils` objesi ile bu classta bulunan tum fonksiyonlari direk df uzerinde uygulayacak."
   ]
  },
  {
   "cell_type": "code",
   "execution_count": 8,
   "id": "dd71490a",
   "metadata": {
    "ExecuteTime": {
     "end_time": "2024-10-28T13:49:43.966207Z",
     "start_time": "2024-10-28T13:49:43.962078Z"
    }
   },
   "outputs": [
    {
     "name": "stdout",
     "output_type": "stream",
     "text": [
      "Help on method missing_values in module utilsAnalysis:\n",
      "\n",
      "missing_values() method of utilsAnalysis.UtilsAnalysis instance\n",
      "    DataFrame'deki eksik değerlerin sayısını ve yüzdesini hesaplar.\n",
      "\n"
     ]
    }
   ],
   "source": [
    "help(utils.missing_values) # utils classta ekledigimiz bir fonksiyon hakkinda bilgi edinebiliriz"
   ]
  },
  {
   "cell_type": "markdown",
   "id": "22decf03",
   "metadata": {},
   "source": [
    "# EXPLORATORY DATA ANALYSIS (EDA)¶"
   ]
  },
  {
   "cell_type": "markdown",
   "id": "b27abdce",
   "metadata": {},
   "source": [
    "## Understanding the the Data"
   ]
  },
  {
   "cell_type": "code",
   "execution_count": 15,
   "id": "53d0b6d1",
   "metadata": {
    "ExecuteTime": {
     "end_time": "2024-10-28T13:55:02.227715Z",
     "start_time": "2024-10-28T13:55:02.203601Z"
    }
   },
   "outputs": [
    {
     "name": "stdout",
     "output_type": "stream",
     "text": [
      "<class 'pandas.core.frame.DataFrame'>\n",
      "RangeIndex: 32646 entries, 0 to 32645\n",
      "Data columns (total 18 columns):\n",
      " #   Column           Non-Null Count  Dtype  \n",
      "---  ------           --------------  -----  \n",
      " 0   kategori         32646 non-null  object \n",
      " 1   satis_turu       29480 non-null  object \n",
      " 2   siparis_no       27743 non-null  object \n",
      " 3   siparis_tarihi   30830 non-null  object \n",
      " 4   siparisi_veren   31216 non-null  object \n",
      " 5   kurulum_yeri     2519 non-null   object \n",
      " 6   il               31083 non-null  object \n",
      " 7   urun_modeli      2450 non-null   object \n",
      " 8   urun_adi         31119 non-null  object \n",
      " 9   litre            2245 non-null   object \n",
      " 10  seri_no          32443 non-null  object \n",
      " 11  teslim_suresi    2223 non-null   object \n",
      " 12  teslim_tarihi    2146 non-null   object \n",
      " 13  irsaliye_tarihi  8 non-null      object \n",
      " 14  aciklama         11627 non-null  object \n",
      " 15  solusyon_fatura  5369 non-null   object \n",
      " 16  bidon_acilisi    5369 non-null   object \n",
      " 17  uts_no           3 non-null      float64\n",
      "dtypes: float64(1), object(17)\n",
      "memory usage: 4.5+ MB\n"
     ]
    }
   ],
   "source": [
    "df.info()"
   ]
  },
  {
   "cell_type": "code",
   "execution_count": 17,
   "id": "3daa74c8",
   "metadata": {
    "ExecuteTime": {
     "end_time": "2024-10-28T13:55:23.076975Z",
     "start_time": "2024-10-28T13:55:23.038168Z"
    }
   },
   "outputs": [
    {
     "data": {
      "text/plain": [
       "169"
      ]
     },
     "execution_count": 17,
     "metadata": {},
     "output_type": "execute_result"
    }
   ],
   "source": [
    "df.duplicated().sum()"
   ]
  },
  {
   "cell_type": "code",
   "execution_count": 27,
   "id": "b3a0fb16",
   "metadata": {
    "ExecuteTime": {
     "end_time": "2024-10-28T16:09:31.569593Z",
     "start_time": "2024-10-28T16:09:31.313837Z"
    }
   },
   "outputs": [
    {
     "name": "stdout",
     "output_type": "stream",
     "text": [
      "1. Data shape (rows, columns): (32646, 18)\n",
      "2. Number of duplicate rows: 169\n"
     ]
    },
    {
     "data": {
      "text/html": [
       "<div>\n",
       "<style scoped>\n",
       "    .dataframe tbody tr th:only-of-type {\n",
       "        vertical-align: middle;\n",
       "    }\n",
       "\n",
       "    .dataframe tbody tr th {\n",
       "        vertical-align: top;\n",
       "    }\n",
       "\n",
       "    .dataframe thead th {\n",
       "        text-align: right;\n",
       "    }\n",
       "</style>\n",
       "<table border=\"1\" class=\"dataframe\">\n",
       "  <thead>\n",
       "    <tr style=\"text-align: right;\">\n",
       "      <th></th>\n",
       "      <th>Dtype</th>\n",
       "      <th>Counts</th>\n",
       "      <th>Nulls</th>\n",
       "      <th>NullPercent</th>\n",
       "      <th>Top</th>\n",
       "      <th>Frequency</th>\n",
       "      <th>Uniques</th>\n",
       "      <th>UniqueValues</th>\n",
       "    </tr>\n",
       "  </thead>\n",
       "  <tbody>\n",
       "    <tr>\n",
       "      <th>kategori</th>\n",
       "      <td>object</td>\n",
       "      <td>32646</td>\n",
       "      <td>0</td>\n",
       "      <td>0.000000</td>\n",
       "      <td>KARTUS</td>\n",
       "      <td>30126</td>\n",
       "      <td>7</td>\n",
       "      <td>AMELIYAT MASASI, OTOKLAV, HIDROJEN PEROKSIT, K...</td>\n",
       "    </tr>\n",
       "    <tr>\n",
       "      <th>satis_turu</th>\n",
       "      <td>object</td>\n",
       "      <td>29480</td>\n",
       "      <td>3166</td>\n",
       "      <td>9.697972</td>\n",
       "      <td>ÖZEL</td>\n",
       "      <td>8977</td>\n",
       "      <td>57</td>\n",
       "      <td>ÖZEL, DEMO, YURTDIŞI, DMO, İHALE, 2021 DE SATI...</td>\n",
       "    </tr>\n",
       "    <tr>\n",
       "      <th>siparis_no</th>\n",
       "      <td>object</td>\n",
       "      <td>27743</td>\n",
       "      <td>4903</td>\n",
       "      <td>15.018685</td>\n",
       "      <td>2024/71</td>\n",
       "      <td>1000</td>\n",
       "      <td>2649</td>\n",
       "      <td>2018/006, 2018/007, 2018/008, 2018/009, 2018/0...</td>\n",
       "    </tr>\n",
       "    <tr>\n",
       "      <th>siparis_tarihi</th>\n",
       "      <td>object</td>\n",
       "      <td>30830</td>\n",
       "      <td>1816</td>\n",
       "      <td>5.562703</td>\n",
       "      <td>5/22/2024 0:00</td>\n",
       "      <td>1027</td>\n",
       "      <td>1449</td>\n",
       "      <td>6/29/2018, 2/14/2018, 10/23/2018, 9/3/2018, 2/...</td>\n",
       "    </tr>\n",
       "    <tr>\n",
       "      <th>siparisi_veren</th>\n",
       "      <td>object</td>\n",
       "      <td>31216</td>\n",
       "      <td>1430</td>\n",
       "      <td>4.380322</td>\n",
       "      <td>ROMANYA</td>\n",
       "      <td>1341</td>\n",
       "      <td>856</td>\n",
       "      <td>ÖZEL FSM TIP MERKEZİ, DEMO, İZMİR KATİP ÇELEBİ...</td>\n",
       "    </tr>\n",
       "    <tr>\n",
       "      <th>kurulum_yeri</th>\n",
       "      <td>object</td>\n",
       "      <td>2519</td>\n",
       "      <td>30127</td>\n",
       "      <td>92.283894</td>\n",
       "      <td>KAMBOÇYA</td>\n",
       "      <td>137</td>\n",
       "      <td>775</td>\n",
       "      <td>ÖZEL FSM TIP MERKEZİ, DERİNCE EĞİTİM VE ARAŞTI...</td>\n",
       "    </tr>\n",
       "    <tr>\n",
       "      <th>il</th>\n",
       "      <td>object</td>\n",
       "      <td>31083</td>\n",
       "      <td>1563</td>\n",
       "      <td>4.787723</td>\n",
       "      <td>ANKARA</td>\n",
       "      <td>4386</td>\n",
       "      <td>194</td>\n",
       "      <td>İSTANBUL, KOCAELİ, İZMİR, TAYLAND, AZERBEYCAN,...</td>\n",
       "    </tr>\n",
       "    <tr>\n",
       "      <th>urun_modeli</th>\n",
       "      <td>object</td>\n",
       "      <td>2450</td>\n",
       "      <td>30196</td>\n",
       "      <td>92.495252</td>\n",
       "      <td>GOLDBERG 5S</td>\n",
       "      <td>215</td>\n",
       "      <td>176</td>\n",
       "      <td>GOLDBERG 5S, ERM 2000 F, STR 2000 F, 2000 F, G...</td>\n",
       "    </tr>\n",
       "    <tr>\n",
       "      <th>urun_adi</th>\n",
       "      <td>object</td>\n",
       "      <td>31119</td>\n",
       "      <td>1527</td>\n",
       "      <td>4.677449</td>\n",
       "      <td>KARTUŞ</td>\n",
       "      <td>28794</td>\n",
       "      <td>124</td>\n",
       "      <td>AMELİYAT MASASI, 422 LT ÇİFT KAPILI OTOKLAV Cİ...</td>\n",
       "    </tr>\n",
       "    <tr>\n",
       "      <th>litre</th>\n",
       "      <td>object</td>\n",
       "      <td>2245</td>\n",
       "      <td>30401</td>\n",
       "      <td>93.123200</td>\n",
       "      <td>*</td>\n",
       "      <td>269</td>\n",
       "      <td>59</td>\n",
       "      <td>*, OBEZ, nan, aşağıda, 422 LİTRE, 2000 LİTRE, ...</td>\n",
       "    </tr>\n",
       "    <tr>\n",
       "      <th>seri_no</th>\n",
       "      <td>object</td>\n",
       "      <td>32443</td>\n",
       "      <td>203</td>\n",
       "      <td>0.621822</td>\n",
       "      <td>SERİSİZ</td>\n",
       "      <td>8</td>\n",
       "      <td>32310</td>\n",
       "      <td>2018/02-012, 2018/02-003, 2018/02-029, 2018/02...</td>\n",
       "    </tr>\n",
       "    <tr>\n",
       "      <th>teslim_suresi</th>\n",
       "      <td>object</td>\n",
       "      <td>2223</td>\n",
       "      <td>30423</td>\n",
       "      <td>93.190590</td>\n",
       "      <td>65 GÜN</td>\n",
       "      <td>269</td>\n",
       "      <td>171</td>\n",
       "      <td>20 GÜN, 21 GÜN, DERHAL, 7 GÜN, 8 GÜN, 60 GÜN, ...</td>\n",
       "    </tr>\n",
       "    <tr>\n",
       "      <th>teslim_tarihi</th>\n",
       "      <td>object</td>\n",
       "      <td>2146</td>\n",
       "      <td>30500</td>\n",
       "      <td>93.426453</td>\n",
       "      <td>7/14/2020 0:00</td>\n",
       "      <td>42</td>\n",
       "      <td>925</td>\n",
       "      <td>7/18/2018, nan, 9/7/2018, 1/1/2019, 8/6/2018, ...</td>\n",
       "    </tr>\n",
       "    <tr>\n",
       "      <th>irsaliye_tarihi</th>\n",
       "      <td>object</td>\n",
       "      <td>8</td>\n",
       "      <td>32638</td>\n",
       "      <td>99.975495</td>\n",
       "      <td>6/19/2024 0:00</td>\n",
       "      <td>1</td>\n",
       "      <td>8</td>\n",
       "      <td>nan, cihaz gitti., kazan yok - nerede, DUBAİ F...</td>\n",
       "    </tr>\n",
       "    <tr>\n",
       "      <th>aciklama</th>\n",
       "      <td>object</td>\n",
       "      <td>11627</td>\n",
       "      <td>21019</td>\n",
       "      <td>64.384611</td>\n",
       "      <td>SATIŞ</td>\n",
       "      <td>2657</td>\n",
       "      <td>163</td>\n",
       "      <td>nan, ÜCRETSİZ, DEMO, SÖZLEŞME, DEĞİŞİM, SATIŞ,...</td>\n",
       "    </tr>\n",
       "    <tr>\n",
       "      <th>solusyon_fatura</th>\n",
       "      <td>object</td>\n",
       "      <td>5369</td>\n",
       "      <td>27277</td>\n",
       "      <td>83.553881</td>\n",
       "      <td>25.4.2019-HPS2019-00387</td>\n",
       "      <td>1799</td>\n",
       "      <td>4</td>\n",
       "      <td>nan, 19.4.2018-HPS2018-00311, 25.4.2019-HPS201...</td>\n",
       "    </tr>\n",
       "    <tr>\n",
       "      <th>bidon_acilisi</th>\n",
       "      <td>object</td>\n",
       "      <td>5369</td>\n",
       "      <td>27277</td>\n",
       "      <td>83.553881</td>\n",
       "      <td>1/5/2020</td>\n",
       "      <td>1521</td>\n",
       "      <td>8</td>\n",
       "      <td>nan, 1/2/2019, 4/29/2019, 10/8/2019, 1/5/2020,...</td>\n",
       "    </tr>\n",
       "  </tbody>\n",
       "</table>\n",
       "</div>"
      ],
      "text/plain": [
       "                  Dtype  Counts  Nulls  NullPercent                      Top  Frequency  Uniques                                       UniqueValues\n",
       "kategori         object   32646      0     0.000000                   KARTUS      30126        7  AMELIYAT MASASI, OTOKLAV, HIDROJEN PEROKSIT, K...\n",
       "satis_turu       object   29480   3166     9.697972                     ÖZEL       8977       57  ÖZEL, DEMO, YURTDIŞI, DMO, İHALE, 2021 DE SATI...\n",
       "siparis_no       object   27743   4903    15.018685                  2024/71       1000     2649  2018/006, 2018/007, 2018/008, 2018/009, 2018/0...\n",
       "siparis_tarihi   object   30830   1816     5.562703           5/22/2024 0:00       1027     1449  6/29/2018, 2/14/2018, 10/23/2018, 9/3/2018, 2/...\n",
       "siparisi_veren   object   31216   1430     4.380322                  ROMANYA       1341      856  ÖZEL FSM TIP MERKEZİ, DEMO, İZMİR KATİP ÇELEBİ...\n",
       "kurulum_yeri     object    2519  30127    92.283894                 KAMBOÇYA        137      775  ÖZEL FSM TIP MERKEZİ, DERİNCE EĞİTİM VE ARAŞTI...\n",
       "il               object   31083   1563     4.787723                   ANKARA       4386      194  İSTANBUL, KOCAELİ, İZMİR, TAYLAND, AZERBEYCAN,...\n",
       "urun_modeli      object    2450  30196    92.495252              GOLDBERG 5S        215      176  GOLDBERG 5S, ERM 2000 F, STR 2000 F, 2000 F, G...\n",
       "urun_adi         object   31119   1527     4.677449                   KARTUŞ      28794      124  AMELİYAT MASASI, 422 LT ÇİFT KAPILI OTOKLAV Cİ...\n",
       "litre            object    2245  30401    93.123200                        *        269       59  *, OBEZ, nan, aşağıda, 422 LİTRE, 2000 LİTRE, ...\n",
       "seri_no          object   32443    203     0.621822                  SERİSİZ          8    32310  2018/02-012, 2018/02-003, 2018/02-029, 2018/02...\n",
       "teslim_suresi    object    2223  30423    93.190590                   65 GÜN        269      171  20 GÜN, 21 GÜN, DERHAL, 7 GÜN, 8 GÜN, 60 GÜN, ...\n",
       "teslim_tarihi    object    2146  30500    93.426453           7/14/2020 0:00         42      925  7/18/2018, nan, 9/7/2018, 1/1/2019, 8/6/2018, ...\n",
       "irsaliye_tarihi  object       8  32638    99.975495           6/19/2024 0:00          1        8  nan, cihaz gitti., kazan yok - nerede, DUBAİ F...\n",
       "aciklama         object   11627  21019    64.384611                    SATIŞ       2657      163  nan, ÜCRETSİZ, DEMO, SÖZLEŞME, DEĞİŞİM, SATIŞ,...\n",
       "solusyon_fatura  object    5369  27277    83.553881  25.4.2019-HPS2019-00387       1799        4  nan, 19.4.2018-HPS2018-00311, 25.4.2019-HPS201...\n",
       "bidon_acilisi    object    5369  27277    83.553881                 1/5/2020       1521        8  nan, 1/2/2019, 4/29/2019, 10/8/2019, 1/5/2020,..."
      ]
     },
     "execution_count": 27,
     "metadata": {},
     "output_type": "execute_result"
    }
   ],
   "source": [
    "utils.object_summary()"
   ]
  },
  {
   "cell_type": "code",
   "execution_count": 28,
   "id": "9081d9c9",
   "metadata": {
    "ExecuteTime": {
     "end_time": "2024-10-28T16:10:15.344351Z",
     "start_time": "2024-10-28T16:10:15.293233Z"
    }
   },
   "outputs": [
    {
     "name": "stdout",
     "output_type": "stream",
     "text": [
      "1. Data shape (rows, columns): (32646, 18)\n",
      "2. Number of duplicate rows: 169\n"
     ]
    },
    {
     "data": {
      "text/html": [
       "<div>\n",
       "<style scoped>\n",
       "    .dataframe tbody tr th:only-of-type {\n",
       "        vertical-align: middle;\n",
       "    }\n",
       "\n",
       "    .dataframe tbody tr th {\n",
       "        vertical-align: top;\n",
       "    }\n",
       "\n",
       "    .dataframe thead th {\n",
       "        text-align: right;\n",
       "    }\n",
       "</style>\n",
       "<table border=\"1\" class=\"dataframe\">\n",
       "  <thead>\n",
       "    <tr style=\"text-align: right;\">\n",
       "      <th></th>\n",
       "      <th>Dtype</th>\n",
       "      <th>Counts</th>\n",
       "      <th>Nulls</th>\n",
       "      <th>NullPercent</th>\n",
       "      <th>Mean</th>\n",
       "      <th>Std</th>\n",
       "      <th>Min</th>\n",
       "      <th>25%</th>\n",
       "      <th>50% (Median)</th>\n",
       "      <th>75%</th>\n",
       "      <th>Max</th>\n",
       "    </tr>\n",
       "  </thead>\n",
       "  <tbody>\n",
       "    <tr>\n",
       "      <th>uts_no</th>\n",
       "      <td>float64</td>\n",
       "      <td>3</td>\n",
       "      <td>32643</td>\n",
       "      <td>99.990811</td>\n",
       "      <td>8.697610e+12</td>\n",
       "      <td>0.0</td>\n",
       "      <td>8.697610e+12</td>\n",
       "      <td>8.697610e+12</td>\n",
       "      <td>8.697610e+12</td>\n",
       "      <td>8.697610e+12</td>\n",
       "      <td>8.697610e+12</td>\n",
       "    </tr>\n",
       "  </tbody>\n",
       "</table>\n",
       "</div>"
      ],
      "text/plain": [
       "          Dtype  Counts  Nulls  NullPercent          Mean  Std           Min           25%  50% (Median)           75%           Max\n",
       "uts_no  float64       3  32643    99.990811  8.697610e+12  0.0  8.697610e+12  8.697610e+12  8.697610e+12  8.697610e+12  8.697610e+12"
      ]
     },
     "execution_count": 28,
     "metadata": {},
     "output_type": "execute_result"
    }
   ],
   "source": [
    "utils.numeric_summary()"
   ]
  },
  {
   "cell_type": "markdown",
   "id": "92f00718",
   "metadata": {},
   "source": [
    "## DF Without `kartus`"
   ]
  },
  {
   "cell_type": "code",
   "execution_count": 12,
   "id": "702e2188",
   "metadata": {
    "ExecuteTime": {
     "end_time": "2024-10-28T13:50:00.854746Z",
     "start_time": "2024-10-28T13:50:00.834421Z"
    }
   },
   "outputs": [
    {
     "data": {
      "text/html": [
       "<div>\n",
       "<style scoped>\n",
       "    .dataframe tbody tr th:only-of-type {\n",
       "        vertical-align: middle;\n",
       "    }\n",
       "\n",
       "    .dataframe tbody tr th {\n",
       "        vertical-align: top;\n",
       "    }\n",
       "\n",
       "    .dataframe thead th {\n",
       "        text-align: right;\n",
       "    }\n",
       "</style>\n",
       "<table border=\"1\" class=\"dataframe\">\n",
       "  <thead>\n",
       "    <tr style=\"text-align: right;\">\n",
       "      <th></th>\n",
       "      <th>kategori</th>\n",
       "      <th>satis_turu</th>\n",
       "      <th>siparis_no</th>\n",
       "      <th>siparis_tarihi</th>\n",
       "      <th>siparisi_veren</th>\n",
       "      <th>kurulum_yeri</th>\n",
       "      <th>il</th>\n",
       "      <th>urun_modeli</th>\n",
       "      <th>urun_adi</th>\n",
       "      <th>litre</th>\n",
       "      <th>seri_no</th>\n",
       "      <th>teslim_suresi</th>\n",
       "      <th>teslim_tarihi</th>\n",
       "      <th>irsaliye_tarihi</th>\n",
       "      <th>aciklama</th>\n",
       "      <th>solusyon_fatura</th>\n",
       "      <th>bidon_acilisi</th>\n",
       "      <th>uts_no</th>\n",
       "    </tr>\n",
       "  </thead>\n",
       "  <tbody>\n",
       "    <tr>\n",
       "      <th>0</th>\n",
       "      <td>AMELIYAT MASASI</td>\n",
       "      <td>ÖZEL</td>\n",
       "      <td>2018/006</td>\n",
       "      <td>6/29/2018</td>\n",
       "      <td>ÖZEL FSM TIP MERKEZİ</td>\n",
       "      <td>ÖZEL FSM TIP MERKEZİ</td>\n",
       "      <td>İSTANBUL</td>\n",
       "      <td>GOLDBERG 5S</td>\n",
       "      <td>AMELİYAT MASASI</td>\n",
       "      <td>*</td>\n",
       "      <td>2018/02-012</td>\n",
       "      <td>20 GÜN</td>\n",
       "      <td>7/18/2018</td>\n",
       "      <td>NaN</td>\n",
       "      <td>NaN</td>\n",
       "      <td>NaN</td>\n",
       "      <td>NaN</td>\n",
       "      <td>NaN</td>\n",
       "    </tr>\n",
       "    <tr>\n",
       "      <th>1</th>\n",
       "      <td>AMELIYAT MASASI</td>\n",
       "      <td>DEMO</td>\n",
       "      <td>2018/007</td>\n",
       "      <td>2/14/2018</td>\n",
       "      <td>DEMO</td>\n",
       "      <td>DERİNCE EĞİTİM VE ARAŞTIRMA HASTANESİ</td>\n",
       "      <td>KOCAELİ</td>\n",
       "      <td>GOLDBERG 5S</td>\n",
       "      <td>AMELİYAT MASASI</td>\n",
       "      <td>*</td>\n",
       "      <td>2018/02-003</td>\n",
       "      <td>21 GÜN</td>\n",
       "      <td>NaN</td>\n",
       "      <td>NaN</td>\n",
       "      <td>NaN</td>\n",
       "      <td>NaN</td>\n",
       "      <td>NaN</td>\n",
       "      <td>NaN</td>\n",
       "    </tr>\n",
       "  </tbody>\n",
       "</table>\n",
       "</div>"
      ],
      "text/plain": [
       "          kategori satis_turu siparis_no siparis_tarihi        siparisi_veren                           kurulum_yeri        il  urun_modeli         urun_adi litre      seri_no teslim_suresi teslim_tarihi irsaliye_tarihi aciklama solusyon_fatura bidon_acilisi  uts_no\n",
       "0  AMELIYAT MASASI       ÖZEL   2018/006      6/29/2018  ÖZEL FSM TIP MERKEZİ                   ÖZEL FSM TIP MERKEZİ  İSTANBUL  GOLDBERG 5S  AMELİYAT MASASI     *  2018/02-012        20 GÜN     7/18/2018             NaN      NaN             NaN           NaN     NaN\n",
       "1  AMELIYAT MASASI       DEMO   2018/007      2/14/2018                  DEMO  DERİNCE EĞİTİM VE ARAŞTIRMA HASTANESİ   KOCAELİ  GOLDBERG 5S  AMELİYAT MASASI     *  2018/02-003        21 GÜN           NaN             NaN      NaN             NaN           NaN     NaN"
      ]
     },
     "execution_count": 12,
     "metadata": {},
     "output_type": "execute_result"
    }
   ],
   "source": [
    "# 'KARTUS' kategorisini hariç tutarak yeni bir DataFrame oluşturma\n",
    "df_filtered = df[df['kategori'] != 'KARTUS']\n",
    "df_filtered.head(2)"
   ]
  },
  {
   "cell_type": "code",
   "execution_count": 17,
   "id": "29822945",
   "metadata": {
    "ExecuteTime": {
     "end_time": "2024-10-28T13:36:51.907159Z",
     "start_time": "2024-10-28T13:36:51.875039Z"
    }
   },
   "outputs": [
    {
     "data": {
      "text/html": [
       "<div>\n",
       "<style scoped>\n",
       "    .dataframe tbody tr th:only-of-type {\n",
       "        vertical-align: middle;\n",
       "    }\n",
       "\n",
       "    .dataframe tbody tr th {\n",
       "        vertical-align: top;\n",
       "    }\n",
       "\n",
       "    .dataframe thead th {\n",
       "        text-align: right;\n",
       "    }\n",
       "</style>\n",
       "<table border=\"1\" class=\"dataframe\">\n",
       "  <thead>\n",
       "    <tr style=\"text-align: right;\">\n",
       "      <th></th>\n",
       "      <th>kategori</th>\n",
       "      <th>satis_turu</th>\n",
       "      <th>siparis_no</th>\n",
       "      <th>siparis_tarihi</th>\n",
       "      <th>siparisi_veren</th>\n",
       "      <th>kurulum_yeri</th>\n",
       "      <th>il</th>\n",
       "      <th>urun_modeli</th>\n",
       "      <th>urun_adi</th>\n",
       "      <th>litre</th>\n",
       "      <th>seri_no</th>\n",
       "      <th>teslim_suresi</th>\n",
       "      <th>teslim_tarihi</th>\n",
       "      <th>irsaliye_tarihi</th>\n",
       "      <th>aciklama</th>\n",
       "      <th>solusyon_fatura</th>\n",
       "      <th>bidon_acilisi</th>\n",
       "      <th>uts_no</th>\n",
       "    </tr>\n",
       "    <tr>\n",
       "      <th>kategori</th>\n",
       "      <th></th>\n",
       "      <th></th>\n",
       "      <th></th>\n",
       "      <th></th>\n",
       "      <th></th>\n",
       "      <th></th>\n",
       "      <th></th>\n",
       "      <th></th>\n",
       "      <th></th>\n",
       "      <th></th>\n",
       "      <th></th>\n",
       "      <th></th>\n",
       "      <th></th>\n",
       "      <th></th>\n",
       "      <th></th>\n",
       "      <th></th>\n",
       "      <th></th>\n",
       "      <th></th>\n",
       "    </tr>\n",
       "  </thead>\n",
       "  <tbody>\n",
       "    <tr>\n",
       "      <th>AMELIYAT MASASI</th>\n",
       "      <td>475</td>\n",
       "      <td>475</td>\n",
       "      <td>475</td>\n",
       "      <td>475</td>\n",
       "      <td>475</td>\n",
       "      <td>475</td>\n",
       "      <td>473</td>\n",
       "      <td>475</td>\n",
       "      <td>475</td>\n",
       "      <td>271</td>\n",
       "      <td>438</td>\n",
       "      <td>425</td>\n",
       "      <td>406</td>\n",
       "      <td>82</td>\n",
       "      <td>0</td>\n",
       "      <td>0</td>\n",
       "      <td>0</td>\n",
       "      <td>0</td>\n",
       "    </tr>\n",
       "    <tr>\n",
       "      <th>HIDROJEN PEROKSIT</th>\n",
       "      <td>135</td>\n",
       "      <td>135</td>\n",
       "      <td>134</td>\n",
       "      <td>134</td>\n",
       "      <td>135</td>\n",
       "      <td>135</td>\n",
       "      <td>134</td>\n",
       "      <td>135</td>\n",
       "      <td>135</td>\n",
       "      <td>135</td>\n",
       "      <td>134</td>\n",
       "      <td>135</td>\n",
       "      <td>126</td>\n",
       "      <td>2</td>\n",
       "      <td>0</td>\n",
       "      <td>0</td>\n",
       "      <td>0</td>\n",
       "      <td>0</td>\n",
       "    </tr>\n",
       "    <tr>\n",
       "      <th>OKSIJEN</th>\n",
       "      <td>71</td>\n",
       "      <td>71</td>\n",
       "      <td>70</td>\n",
       "      <td>70</td>\n",
       "      <td>70</td>\n",
       "      <td>70</td>\n",
       "      <td>70</td>\n",
       "      <td>70</td>\n",
       "      <td>10</td>\n",
       "      <td>2</td>\n",
       "      <td>70</td>\n",
       "      <td>43</td>\n",
       "      <td>65</td>\n",
       "      <td>0</td>\n",
       "      <td>0</td>\n",
       "      <td>0</td>\n",
       "      <td>0</td>\n",
       "      <td>3</td>\n",
       "    </tr>\n",
       "    <tr>\n",
       "      <th>OTOKLAV</th>\n",
       "      <td>1242</td>\n",
       "      <td>1242</td>\n",
       "      <td>1242</td>\n",
       "      <td>1242</td>\n",
       "      <td>1242</td>\n",
       "      <td>1242</td>\n",
       "      <td>1228</td>\n",
       "      <td>1181</td>\n",
       "      <td>1242</td>\n",
       "      <td>1242</td>\n",
       "      <td>1176</td>\n",
       "      <td>1047</td>\n",
       "      <td>982</td>\n",
       "      <td>6</td>\n",
       "      <td>0</td>\n",
       "      <td>0</td>\n",
       "      <td>0</td>\n",
       "      <td>0</td>\n",
       "    </tr>\n",
       "    <tr>\n",
       "      <th>REVERSE OSMOS</th>\n",
       "      <td>204</td>\n",
       "      <td>201</td>\n",
       "      <td>195</td>\n",
       "      <td>199</td>\n",
       "      <td>204</td>\n",
       "      <td>204</td>\n",
       "      <td>202</td>\n",
       "      <td>204</td>\n",
       "      <td>70</td>\n",
       "      <td>202</td>\n",
       "      <td>204</td>\n",
       "      <td>192</td>\n",
       "      <td>190</td>\n",
       "      <td>0</td>\n",
       "      <td>0</td>\n",
       "      <td>0</td>\n",
       "      <td>0</td>\n",
       "      <td>0</td>\n",
       "    </tr>\n",
       "    <tr>\n",
       "      <th>YIKAMA</th>\n",
       "      <td>393</td>\n",
       "      <td>393</td>\n",
       "      <td>393</td>\n",
       "      <td>393</td>\n",
       "      <td>393</td>\n",
       "      <td>393</td>\n",
       "      <td>391</td>\n",
       "      <td>385</td>\n",
       "      <td>393</td>\n",
       "      <td>393</td>\n",
       "      <td>383</td>\n",
       "      <td>383</td>\n",
       "      <td>372</td>\n",
       "      <td>0</td>\n",
       "      <td>0</td>\n",
       "      <td>0</td>\n",
       "      <td>0</td>\n",
       "      <td>0</td>\n",
       "    </tr>\n",
       "  </tbody>\n",
       "</table>\n",
       "</div>"
      ],
      "text/plain": [
       "                   kategori  satis_turu  siparis_no  siparis_tarihi  siparisi_veren  kurulum_yeri    il  urun_modeli  urun_adi  litre  seri_no  teslim_suresi  teslim_tarihi  irsaliye_tarihi  aciklama  solusyon_fatura  bidon_acilisi  uts_no\n",
       "kategori                                                                                                                                                                                                                                       \n",
       "AMELIYAT MASASI         475         475         475             475             475           475   473          475       475    271      438            425            406               82         0                0              0       0\n",
       "HIDROJEN PEROKSIT       135         135         134             134             135           135   134          135       135    135      134            135            126                2         0                0              0       0\n",
       "OKSIJEN                  71          71          70              70              70            70    70           70        10      2       70             43             65                0         0                0              0       3\n",
       "OTOKLAV                1242        1242        1242            1242            1242          1242  1228         1181      1242   1242     1176           1047            982                6         0                0              0       0\n",
       "REVERSE OSMOS           204         201         195             199             204           204   202          204        70    202      204            192            190                0         0                0              0       0\n",
       "YIKAMA                  393         393         393             393             393           393   391          385       393    393      383            383            372                0         0                0              0       0"
      ]
     },
     "execution_count": 17,
     "metadata": {},
     "output_type": "execute_result"
    }
   ],
   "source": [
    "# Kategorilere göre her sütundaki dolu değerlerin sayısını hesaplayan DataFrame\n",
    "category_counts_df_filtered = df_filtered.groupby('kategori').apply(lambda x: x.notnull().sum())\n",
    "\n",
    "# Sonucu görüntülemek için\n",
    "category_counts_df_filtered"
   ]
  },
  {
   "cell_type": "code",
   "execution_count": 18,
   "id": "b8070dc7",
   "metadata": {
    "ExecuteTime": {
     "end_time": "2024-10-28T13:36:57.921231Z",
     "start_time": "2024-10-28T13:36:57.916679Z"
    }
   },
   "outputs": [],
   "source": [
    "utils.df = df_filtered"
   ]
  },
  {
   "cell_type": "code",
   "execution_count": 19,
   "id": "10ff2ea6",
   "metadata": {
    "ExecuteTime": {
     "end_time": "2024-10-28T13:36:58.513030Z",
     "start_time": "2024-10-28T13:36:58.498579Z"
    }
   },
   "outputs": [
    {
     "name": "stdout",
     "output_type": "stream",
     "text": [
      "Eksik değerlerin sütun bazında dökümü aşağıda verilmiştir:\n"
     ]
    },
    {
     "data": {
      "text/html": [
       "<div>\n",
       "<style scoped>\n",
       "    .dataframe tbody tr th:only-of-type {\n",
       "        vertical-align: middle;\n",
       "    }\n",
       "\n",
       "    .dataframe tbody tr th {\n",
       "        vertical-align: top;\n",
       "    }\n",
       "\n",
       "    .dataframe thead th {\n",
       "        text-align: right;\n",
       "    }\n",
       "</style>\n",
       "<table border=\"1\" class=\"dataframe\">\n",
       "  <thead>\n",
       "    <tr style=\"text-align: right;\">\n",
       "      <th></th>\n",
       "      <th>Eksik Değer Sayısı</th>\n",
       "      <th>Yüzde</th>\n",
       "    </tr>\n",
       "  </thead>\n",
       "  <tbody>\n",
       "    <tr>\n",
       "      <th>kategori</th>\n",
       "      <td>0</td>\n",
       "      <td>0.00%</td>\n",
       "    </tr>\n",
       "    <tr>\n",
       "      <th>satis_turu</th>\n",
       "      <td>3</td>\n",
       "      <td>0.12%</td>\n",
       "    </tr>\n",
       "    <tr>\n",
       "      <th>siparis_no</th>\n",
       "      <td>11</td>\n",
       "      <td>0.44%</td>\n",
       "    </tr>\n",
       "    <tr>\n",
       "      <th>siparis_tarihi</th>\n",
       "      <td>7</td>\n",
       "      <td>0.28%</td>\n",
       "    </tr>\n",
       "    <tr>\n",
       "      <th>siparisi_veren</th>\n",
       "      <td>1</td>\n",
       "      <td>0.04%</td>\n",
       "    </tr>\n",
       "    <tr>\n",
       "      <th>kurulum_yeri</th>\n",
       "      <td>1</td>\n",
       "      <td>0.04%</td>\n",
       "    </tr>\n",
       "    <tr>\n",
       "      <th>il</th>\n",
       "      <td>22</td>\n",
       "      <td>0.87%</td>\n",
       "    </tr>\n",
       "    <tr>\n",
       "      <th>urun_modeli</th>\n",
       "      <td>70</td>\n",
       "      <td>2.78%</td>\n",
       "    </tr>\n",
       "    <tr>\n",
       "      <th>urun_adi</th>\n",
       "      <td>195</td>\n",
       "      <td>7.74%</td>\n",
       "    </tr>\n",
       "    <tr>\n",
       "      <th>litre</th>\n",
       "      <td>275</td>\n",
       "      <td>10.91%</td>\n",
       "    </tr>\n",
       "    <tr>\n",
       "      <th>seri_no</th>\n",
       "      <td>115</td>\n",
       "      <td>4.56%</td>\n",
       "    </tr>\n",
       "    <tr>\n",
       "      <th>teslim_suresi</th>\n",
       "      <td>295</td>\n",
       "      <td>11.71%</td>\n",
       "    </tr>\n",
       "    <tr>\n",
       "      <th>teslim_tarihi</th>\n",
       "      <td>379</td>\n",
       "      <td>15.04%</td>\n",
       "    </tr>\n",
       "    <tr>\n",
       "      <th>irsaliye_tarihi</th>\n",
       "      <td>2430</td>\n",
       "      <td>96.43%</td>\n",
       "    </tr>\n",
       "    <tr>\n",
       "      <th>aciklama</th>\n",
       "      <td>2520</td>\n",
       "      <td>100.00%</td>\n",
       "    </tr>\n",
       "    <tr>\n",
       "      <th>solusyon_fatura</th>\n",
       "      <td>2520</td>\n",
       "      <td>100.00%</td>\n",
       "    </tr>\n",
       "    <tr>\n",
       "      <th>bidon_acilisi</th>\n",
       "      <td>2520</td>\n",
       "      <td>100.00%</td>\n",
       "    </tr>\n",
       "    <tr>\n",
       "      <th>uts_no</th>\n",
       "      <td>2517</td>\n",
       "      <td>99.88%</td>\n",
       "    </tr>\n",
       "  </tbody>\n",
       "</table>\n",
       "</div>"
      ],
      "text/plain": [
       "                 Eksik Değer Sayısı    Yüzde\n",
       "kategori                          0    0.00%\n",
       "satis_turu                        3    0.12%\n",
       "siparis_no                       11    0.44%\n",
       "siparis_tarihi                    7    0.28%\n",
       "siparisi_veren                    1    0.04%\n",
       "kurulum_yeri                      1    0.04%\n",
       "il                               22    0.87%\n",
       "urun_modeli                      70    2.78%\n",
       "urun_adi                        195    7.74%\n",
       "litre                           275   10.91%\n",
       "seri_no                         115    4.56%\n",
       "teslim_suresi                   295   11.71%\n",
       "teslim_tarihi                   379   15.04%\n",
       "irsaliye_tarihi                2430   96.43%\n",
       "aciklama                       2520  100.00%\n",
       "solusyon_fatura                2520  100.00%\n",
       "bidon_acilisi                  2520  100.00%\n",
       "uts_no                         2517   99.88%"
      ]
     },
     "execution_count": 19,
     "metadata": {},
     "output_type": "execute_result"
    }
   ],
   "source": [
    "utils.missing_values()"
   ]
  },
  {
   "cell_type": "markdown",
   "id": "1675c058",
   "metadata": {},
   "source": [
    "## Data Cleaning and Transformation"
   ]
  },
  {
   "cell_type": "markdown",
   "id": "5e3c2726",
   "metadata": {},
   "source": [
    "### siparis_tarihi"
   ]
  },
  {
   "cell_type": "code",
   "execution_count": 19,
   "id": "0b500e7f",
   "metadata": {
    "ExecuteTime": {
     "end_time": "2024-10-28T13:55:57.170408Z",
     "start_time": "2024-10-28T13:55:52.858840Z"
    }
   },
   "outputs": [
    {
     "name": "stdout",
     "output_type": "stream",
     "text": [
      "Mevcut sütunlar:\n",
      "kategori | satis_turu | siparis_no | siparis_tarihi | siparisi_veren | kurulum_yeri | il | urun_modeli | urun_adi | litre | seri_no | teslim_suresi | teslim_tarihi | irsaliye_tarihi | aciklama | solusyon_fatura | bidon_acilisi | uts_no\n",
      "\n",
      "Lütfen analiz etmek istediğiniz sütun adını yazınız (örn: 'siparis_no'):\n",
      "Sütun adı: siparis_tarihi\n",
      "'siparis_tarihi' sütununda bulunan benzersiz sayısal olmayan değerler:\n"
     ]
    },
    {
     "data": {
      "text/plain": [
       "{' ', ' . ', ' AKSARAY ', ' DMO ', '.', '/', ':'}"
      ]
     },
     "execution_count": 19,
     "metadata": {},
     "output_type": "execute_result"
    }
   ],
   "source": [
    "utils.find_non_numeric_values() #Sütun adı: siparis_tarihi"
   ]
  },
  {
   "cell_type": "markdown",
   "id": "603c39e2",
   "metadata": {},
   "source": [
    "### teslim_suresi"
   ]
  },
  {
   "cell_type": "code",
   "execution_count": 21,
   "id": "095912d5",
   "metadata": {
    "ExecuteTime": {
     "end_time": "2024-10-28T13:57:21.226641Z",
     "start_time": "2024-10-28T13:57:16.583750Z"
    }
   },
   "outputs": [
    {
     "name": "stdout",
     "output_type": "stream",
     "text": [
      "Mevcut sütunlar:\n",
      "kategori | satis_turu | siparis_no | siparis_tarihi | siparisi_veren | kurulum_yeri | il | urun_modeli | urun_adi | litre | seri_no | teslim_suresi | teslim_tarihi | irsaliye_tarihi | aciklama | solusyon_fatura | bidon_acilisi | uts_no\n",
      "\n",
      "Lütfen analiz etmek istediğiniz sütun adını yazınız (örn: 'siparis_no'):\n",
      "Sütun adı: teslim_suresi\n",
      "'teslim_suresi' sütununda bulunan benzersiz sayısal olmayan değerler:\n"
     ]
    },
    {
     "data": {
      "text/plain": [
       "{' ',\n",
       " '  GÜN ',\n",
       " ' (ALYANS MEDİKALE GÖNDERİLEN CİHAZ İLE AYNI SERİ NUMARASI İLE ÜRETİLDİ) ',\n",
       " ' -',\n",
       " ' GÜN ',\n",
       " ' GÜN  ',\n",
       " ' GÜN   ',\n",
       " ' GÜN DERHAL ',\n",
       " ' GÜN SERİ NUMARASI İPTAL OLDU ',\n",
       " ' HAFTA ',\n",
       " ' HAFTA  ',\n",
       " ' IRAKTI STOK OLDU ',\n",
       " ' SERVİSİN MASASI YERİNE YENİ BİNASI İÇİN DEMO OLARAK BIRAKILDI ',\n",
       " ' cihaz geri geldi. ',\n",
       " ' gün',\n",
       " ' gün ',\n",
       " '-',\n",
       " '/',\n",
       " ':',\n",
       " 'GÜN '}"
      ]
     },
     "execution_count": 21,
     "metadata": {},
     "output_type": "execute_result"
    }
   ],
   "source": [
    "utils.find_non_numeric_values() #Sütun adı: teslim_suresi"
   ]
  },
  {
   "cell_type": "markdown",
   "id": "a25b762b",
   "metadata": {},
   "source": [
    "### teslim_tarihi"
   ]
  },
  {
   "cell_type": "code",
   "execution_count": 22,
   "id": "757c62e5",
   "metadata": {
    "ExecuteTime": {
     "end_time": "2024-10-28T13:57:27.326565Z",
     "start_time": "2024-10-28T13:57:25.818621Z"
    }
   },
   "outputs": [
    {
     "name": "stdout",
     "output_type": "stream",
     "text": [
      "Mevcut sütunlar:\n",
      "kategori | satis_turu | siparis_no | siparis_tarihi | siparisi_veren | kurulum_yeri | il | urun_modeli | urun_adi | litre | seri_no | teslim_suresi | teslim_tarihi | irsaliye_tarihi | aciklama | solusyon_fatura | bidon_acilisi | uts_no\n",
      "\n",
      "Lütfen analiz etmek istediğiniz sütun adını yazınız (örn: 'siparis_no'):\n",
      "Sütun adı: teslim_tarihi\n",
      "'teslim_tarihi' sütununda bulunan benzersiz sayısal olmayan değerler:\n"
     ]
    },
    {
     "data": {
      "text/plain": [
       "{' ',\n",
       " ' DERHAL ',\n",
       " ' DERHAL DERHAL ',\n",
       " ' GÜN ',\n",
       " '-TL YUSUF BAYRAMA VERİLDİ. YUSUF BAYRAMA VERİLDİ. ',\n",
       " '.',\n",
       " '..',\n",
       " '/',\n",
       " ':'}"
      ]
     },
     "execution_count": 22,
     "metadata": {},
     "output_type": "execute_result"
    }
   ],
   "source": [
    "utils.find_non_numeric_values() #teslim_tarihi"
   ]
  },
  {
   "cell_type": "markdown",
   "id": "82c445ee",
   "metadata": {},
   "source": [
    "### irsaliye_tarihi"
   ]
  },
  {
   "cell_type": "code",
   "execution_count": 23,
   "id": "1f4a2494",
   "metadata": {
    "ExecuteTime": {
     "end_time": "2024-10-28T13:57:35.377916Z",
     "start_time": "2024-10-28T13:57:31.418343Z"
    },
    "scrolled": true
   },
   "outputs": [
    {
     "name": "stdout",
     "output_type": "stream",
     "text": [
      "Mevcut sütunlar:\n",
      "kategori | satis_turu | siparis_no | siparis_tarihi | siparisi_veren | kurulum_yeri | il | urun_modeli | urun_adi | litre | seri_no | teslim_suresi | teslim_tarihi | irsaliye_tarihi | aciklama | solusyon_fatura | bidon_acilisi | uts_no\n",
      "\n",
      "Lütfen analiz etmek istediğiniz sütun adını yazınız (örn: 'siparis_no'):\n",
      "Sütun adı: irsaliye_tarihi\n",
      "'irsaliye_tarihi' sütununda bulunan benzersiz sayısal olmayan değerler:\n"
     ]
    },
    {
     "data": {
      "text/plain": [
       "{' ',\n",
       " ' KASET KARŞILIĞI GÖNDERİLMİŞTİR. GAZ KASETİ KARŞILIĞI GÖNDERİLMİŞTİR.',\n",
       " '/',\n",
       " ':',\n",
       " 'cihaz gitti. kazan yok - nerede DUBAİ FUARA GİDİP GELDİ VE CEZAYİRE SATILDI. NOT: DEPREM BÖLGESİ İÇİN SİPARİŞ VERİLDİ NİĞDEYE KURULMUŞ. SİPARİŞİ GELMEDİ '}"
      ]
     },
     "execution_count": 23,
     "metadata": {},
     "output_type": "execute_result"
    }
   ],
   "source": [
    "utils.find_non_numeric_values() #irsaliye_tarihi "
   ]
  },
  {
   "cell_type": "code",
   "execution_count": 24,
   "id": "31296f92",
   "metadata": {
    "ExecuteTime": {
     "end_time": "2024-10-28T13:57:51.328333Z",
     "start_time": "2024-10-28T13:57:48.562002Z"
    },
    "scrolled": true
   },
   "outputs": [
    {
     "name": "stdout",
     "output_type": "stream",
     "text": [
      "Mevcut sütunlar:\n",
      "kategori | satis_turu | siparis_no | siparis_tarihi | siparisi_veren | kurulum_yeri | il | urun_modeli | urun_adi | litre | seri_no | teslim_suresi | teslim_tarihi | irsaliye_tarihi | aciklama | solusyon_fatura | bidon_acilisi | uts_no\n",
      "\n",
      "Lütfen analiz etmek istediğiniz sütun adını yazınız:\n",
      "Sütun adı: irsaliye_tarihi\n",
      "'irsaliye_tarihi' sütununda alfasayısal olmayan karakterler tespit edildi:\n"
     ]
    },
    {
     "data": {
      "text/plain": [
       "'cihaz gitti., kazan yok - nerede, DUBAİ FUARA GİDİP GELDİ VE CEZAYİRE SATILDI., NOT: DEPREM BÖLGESİ İÇİN SİPARİŞ VERİLDİ NİĞDEYE KURULMUŞ., SİPARİŞİ GELMEDİ, 6/19/2024 0:00, KASET KARŞILIĞI GÖNDERİLMİŞTİR., GAZ KASETİ KARŞILIĞI GÖNDERİLMİŞTİR.'"
      ]
     },
     "execution_count": 24,
     "metadata": {},
     "output_type": "execute_result"
    }
   ],
   "source": [
    "utils.detect_anomalies()"
   ]
  },
  {
   "cell_type": "code",
   "execution_count": 25,
   "id": "44a6f424",
   "metadata": {
    "ExecuteTime": {
     "end_time": "2024-10-28T13:58:07.531088Z",
     "start_time": "2024-10-28T13:58:05.740934Z"
    }
   },
   "outputs": [
    {
     "name": "stdout",
     "output_type": "stream",
     "text": [
      "Mevcut sütunlar:\n",
      "kategori | satis_turu | siparis_no | siparis_tarihi | siparisi_veren | kurulum_yeri | il | urun_modeli | urun_adi | litre | seri_no | teslim_suresi | teslim_tarihi | irsaliye_tarihi | aciklama | solusyon_fatura | bidon_acilisi | uts_no\n",
      "\n",
      "Lütfen analiz etmek istediğiniz sütun adını yazınız (örn: 'siparis_no'):\n",
      "Sütun adı: irsaliye_tarihi\n",
      "'irsaliye_tarihi' sütununda bulunan benzersiz sayısal olmayan değerler:\n"
     ]
    },
    {
     "data": {
      "text/plain": [
       "{' ',\n",
       " ' KASET KARŞILIĞI GÖNDERİLMİŞTİR. GAZ KASETİ KARŞILIĞI GÖNDERİLMİŞTİR.',\n",
       " '/',\n",
       " ':',\n",
       " 'cihaz gitti. kazan yok - nerede DUBAİ FUARA GİDİP GELDİ VE CEZAYİRE SATILDI. NOT: DEPREM BÖLGESİ İÇİN SİPARİŞ VERİLDİ NİĞDEYE KURULMUŞ. SİPARİŞİ GELMEDİ '}"
      ]
     },
     "execution_count": 25,
     "metadata": {},
     "output_type": "execute_result"
    }
   ],
   "source": [
    "utils.find_non_numeric_values()"
   ]
  },
  {
   "cell_type": "markdown",
   "id": "18ae5fed",
   "metadata": {},
   "source": [
    "### Kategorik GroupBy"
   ]
  },
  {
   "cell_type": "code",
   "execution_count": 18,
   "id": "dbc70ff1",
   "metadata": {
    "ExecuteTime": {
     "end_time": "2024-10-28T11:34:11.724718Z",
     "start_time": "2024-10-28T11:33:59.608616Z"
    },
    "scrolled": false
   },
   "outputs": [
    {
     "name": "stdout",
     "output_type": "stream",
     "text": [
      "Mevcut sütunlar:\n",
      "kategori | satis_turu | siparis_no | siparis_tarihi | siparisi_veren | kurulum_yeri | il | urun_modeli | urun_adi | litre | seri_no | teslim_suresi | teslim_tarihi | irsaliye_tarihi | aciklama | solusyon_fatura | bidon_acilisi | uts_no\n",
      "\n",
      "Lütfen groupby yapılacak sütunu seçiniz (örneğin: kategori, teslim_tarihi vb.): kategori\n",
      "\n",
      "Değerlerini görmek istediğiniz diğer sütunları virgülle ayırarak giriniz (örneğin: fiyat, adet, tarih): siparis_tarihi,teslim_suresi,teslim_tarihi,irsaliye_tarihi\n",
      "\n",
      "# Gruplandırılmış DataFrame (Dolu Değerler):\n",
      "\n"
     ]
    },
    {
     "data": {
      "text/html": [
       "<div>\n",
       "<style scoped>\n",
       "    .dataframe tbody tr th:only-of-type {\n",
       "        vertical-align: middle;\n",
       "    }\n",
       "\n",
       "    .dataframe tbody tr th {\n",
       "        vertical-align: top;\n",
       "    }\n",
       "\n",
       "    .dataframe thead th {\n",
       "        text-align: right;\n",
       "    }\n",
       "</style>\n",
       "<table border=\"1\" class=\"dataframe\">\n",
       "  <thead>\n",
       "    <tr style=\"text-align: right;\">\n",
       "      <th></th>\n",
       "      <th>kategori</th>\n",
       "      <th>siparis_tarihi</th>\n",
       "      <th>teslim_suresi</th>\n",
       "      <th>teslim_tarihi</th>\n",
       "      <th>irsaliye_tarihi</th>\n",
       "    </tr>\n",
       "  </thead>\n",
       "  <tbody>\n",
       "    <tr>\n",
       "      <th>0</th>\n",
       "      <td>AMELIYAT MASASI</td>\n",
       "      <td>475</td>\n",
       "      <td>425</td>\n",
       "      <td>406</td>\n",
       "      <td>82</td>\n",
       "    </tr>\n",
       "    <tr>\n",
       "      <th>1</th>\n",
       "      <td>HIDROJEN PEROKSIT</td>\n",
       "      <td>134</td>\n",
       "      <td>135</td>\n",
       "      <td>126</td>\n",
       "      <td>2</td>\n",
       "    </tr>\n",
       "    <tr>\n",
       "      <th>2</th>\n",
       "      <td>OKSIJEN</td>\n",
       "      <td>70</td>\n",
       "      <td>43</td>\n",
       "      <td>65</td>\n",
       "      <td>0</td>\n",
       "    </tr>\n",
       "    <tr>\n",
       "      <th>3</th>\n",
       "      <td>OTOKLAV</td>\n",
       "      <td>1242</td>\n",
       "      <td>1047</td>\n",
       "      <td>982</td>\n",
       "      <td>6</td>\n",
       "    </tr>\n",
       "    <tr>\n",
       "      <th>4</th>\n",
       "      <td>REVERSE OSMOS</td>\n",
       "      <td>199</td>\n",
       "      <td>192</td>\n",
       "      <td>190</td>\n",
       "      <td>0</td>\n",
       "    </tr>\n",
       "    <tr>\n",
       "      <th>5</th>\n",
       "      <td>YIKAMA</td>\n",
       "      <td>393</td>\n",
       "      <td>383</td>\n",
       "      <td>372</td>\n",
       "      <td>0</td>\n",
       "    </tr>\n",
       "  </tbody>\n",
       "</table>\n",
       "</div>"
      ],
      "text/plain": [
       "            kategori  siparis_tarihi  teslim_suresi  teslim_tarihi  irsaliye_tarihi\n",
       "0    AMELIYAT MASASI             475            425            406               82\n",
       "1  HIDROJEN PEROKSIT             134            135            126                2\n",
       "2            OKSIJEN              70             43             65                0\n",
       "3            OTOKLAV            1242           1047            982                6\n",
       "4     REVERSE OSMOS              199            192            190                0\n",
       "5             YIKAMA             393            383            372                0"
      ]
     },
     "execution_count": 18,
     "metadata": {},
     "output_type": "execute_result"
    }
   ],
   "source": [
    "utils.groupby_get_values() #siparis_tarihi,teslim_suresi,teslim_tarihi,irsaliye_tarihi"
   ]
  },
  {
   "cell_type": "code",
   "execution_count": 14,
   "id": "ad61d6ec",
   "metadata": {
    "ExecuteTime": {
     "end_time": "2024-10-28T11:37:55.345330Z",
     "start_time": "2024-10-28T11:37:40.213692Z"
    }
   },
   "outputs": [
    {
     "name": "stdout",
     "output_type": "stream",
     "text": [
      "Mevcut sütunlar:\n",
      "kategori | satis_turu | siparis_no | siparis_tarihi | siparisi_veren | kurulum_yeri | il | urun_modeli | urun_adi | litre | seri_no | teslim_suresi | teslim_tarihi | irsaliye_tarihi | aciklama | solusyon_fatura | bidon_acilisi | uts_no\n",
      "\n",
      "Lütfen index olarak kullanılacak sütunu seçiniz (örneğin: kategori, teslim_tarihi vb.): kategori\n",
      "\n",
      "Null değerlerini görmek istediğiniz diğer sütunları virgülle ayırarak giriniz (örneğin: fiyat, adet, tarih): siparis_tarihi,teslim_suresi,teslim_tarihi,irsaliye_tarihi\n",
      "\n",
      "# Gruplandırılmış DataFrame (Null Değerler):\n",
      "\n"
     ]
    },
    {
     "data": {
      "text/html": [
       "<div>\n",
       "<style scoped>\n",
       "    .dataframe tbody tr th:only-of-type {\n",
       "        vertical-align: middle;\n",
       "    }\n",
       "\n",
       "    .dataframe tbody tr th {\n",
       "        vertical-align: top;\n",
       "    }\n",
       "\n",
       "    .dataframe thead th {\n",
       "        text-align: right;\n",
       "    }\n",
       "</style>\n",
       "<table border=\"1\" class=\"dataframe\">\n",
       "  <thead>\n",
       "    <tr style=\"text-align: right;\">\n",
       "      <th></th>\n",
       "      <th>kategori</th>\n",
       "      <th>siparis_tarihi</th>\n",
       "      <th>teslim_suresi</th>\n",
       "      <th>teslim_tarihi</th>\n",
       "      <th>irsaliye_tarihi</th>\n",
       "    </tr>\n",
       "  </thead>\n",
       "  <tbody>\n",
       "    <tr>\n",
       "      <th>0</th>\n",
       "      <td>AMELIYAT MASASI</td>\n",
       "      <td>0</td>\n",
       "      <td>50</td>\n",
       "      <td>69</td>\n",
       "      <td>393</td>\n",
       "    </tr>\n",
       "    <tr>\n",
       "      <th>1</th>\n",
       "      <td>HIDROJEN PEROKSIT</td>\n",
       "      <td>1</td>\n",
       "      <td>0</td>\n",
       "      <td>9</td>\n",
       "      <td>133</td>\n",
       "    </tr>\n",
       "    <tr>\n",
       "      <th>2</th>\n",
       "      <td>OKSIJEN</td>\n",
       "      <td>1</td>\n",
       "      <td>28</td>\n",
       "      <td>6</td>\n",
       "      <td>71</td>\n",
       "    </tr>\n",
       "    <tr>\n",
       "      <th>3</th>\n",
       "      <td>OTOKLAV</td>\n",
       "      <td>0</td>\n",
       "      <td>195</td>\n",
       "      <td>260</td>\n",
       "      <td>1236</td>\n",
       "    </tr>\n",
       "    <tr>\n",
       "      <th>4</th>\n",
       "      <td>REVERSE OSMOS</td>\n",
       "      <td>5</td>\n",
       "      <td>12</td>\n",
       "      <td>14</td>\n",
       "      <td>204</td>\n",
       "    </tr>\n",
       "    <tr>\n",
       "      <th>5</th>\n",
       "      <td>YIKAMA</td>\n",
       "      <td>0</td>\n",
       "      <td>10</td>\n",
       "      <td>21</td>\n",
       "      <td>393</td>\n",
       "    </tr>\n",
       "  </tbody>\n",
       "</table>\n",
       "</div>"
      ],
      "text/plain": [
       "            kategori  siparis_tarihi  teslim_suresi  teslim_tarihi  irsaliye_tarihi\n",
       "0    AMELIYAT MASASI               0             50             69              393\n",
       "1  HIDROJEN PEROKSIT               1              0              9              133\n",
       "2            OKSIJEN               1             28              6               71\n",
       "3            OTOKLAV               0            195            260             1236\n",
       "4     REVERSE OSMOS                5             12             14              204\n",
       "5             YIKAMA               0             10             21              393"
      ]
     },
     "execution_count": 14,
     "metadata": {},
     "output_type": "execute_result"
    }
   ],
   "source": [
    "utils.analyse_null_values()"
   ]
  },
  {
   "cell_type": "code",
   "execution_count": 21,
   "id": "d5024326",
   "metadata": {
    "ExecuteTime": {
     "end_time": "2024-10-28T13:41:15.178590Z",
     "start_time": "2024-10-28T13:41:15.166693Z"
    }
   },
   "outputs": [
    {
     "data": {
      "text/html": [
       "<div>\n",
       "<style scoped>\n",
       "    .dataframe tbody tr th:only-of-type {\n",
       "        vertical-align: middle;\n",
       "    }\n",
       "\n",
       "    .dataframe tbody tr th {\n",
       "        vertical-align: top;\n",
       "    }\n",
       "\n",
       "    .dataframe thead th {\n",
       "        text-align: right;\n",
       "    }\n",
       "</style>\n",
       "<table border=\"1\" class=\"dataframe\">\n",
       "  <thead>\n",
       "    <tr style=\"text-align: right;\">\n",
       "      <th></th>\n",
       "      <th>siparis_tarihi</th>\n",
       "      <th>teslim_suresi</th>\n",
       "      <th>teslim_tarihi</th>\n",
       "      <th>irsaliye_tarihi</th>\n",
       "    </tr>\n",
       "  </thead>\n",
       "  <tbody>\n",
       "    <tr>\n",
       "      <th>0</th>\n",
       "      <td>2018-06-29</td>\n",
       "      <td>20 GÜN</td>\n",
       "      <td>2018-07-18</td>\n",
       "      <td>NaN</td>\n",
       "    </tr>\n",
       "    <tr>\n",
       "      <th>1</th>\n",
       "      <td>2018-02-14</td>\n",
       "      <td>21 GÜN</td>\n",
       "      <td>NaN</td>\n",
       "      <td>NaN</td>\n",
       "    </tr>\n",
       "    <tr>\n",
       "      <th>2</th>\n",
       "      <td>2018-10-23</td>\n",
       "      <td>DERHAL</td>\n",
       "      <td>NaN</td>\n",
       "      <td>NaN</td>\n",
       "    </tr>\n",
       "    <tr>\n",
       "      <th>3</th>\n",
       "      <td>2018-09-03</td>\n",
       "      <td>7 GÜN</td>\n",
       "      <td>2018-09-07</td>\n",
       "      <td>NaN</td>\n",
       "    </tr>\n",
       "    <tr>\n",
       "      <th>4</th>\n",
       "      <td>2018-02-28</td>\n",
       "      <td>8 GÜN</td>\n",
       "      <td>NaN</td>\n",
       "      <td>NaN</td>\n",
       "    </tr>\n",
       "  </tbody>\n",
       "</table>\n",
       "</div>"
      ],
      "text/plain": [
       "  siparis_tarihi teslim_suresi teslim_tarihi irsaliye_tarihi\n",
       "0     2018-06-29        20 GÜN    2018-07-18             NaN\n",
       "1     2018-02-14        21 GÜN           NaN             NaN\n",
       "2     2018-10-23        DERHAL           NaN             NaN\n",
       "3     2018-09-03         7 GÜN    2018-09-07             NaN\n",
       "4     2018-02-28         8 GÜN           NaN             NaN"
      ]
     },
     "execution_count": 21,
     "metadata": {},
     "output_type": "execute_result"
    }
   ],
   "source": [
    "# Belirtilen sütunları filtreleyerek yeni bir DataFrame oluşturma\n",
    "columns_to_filter = [\"siparis_tarihi\", \"teslim_suresi\", \"teslim_tarihi\", \"irsaliye_tarihi\"]\n",
    "date_columns = df[columns_to_filter]\n",
    "date_columns.head()"
   ]
  },
  {
   "cell_type": "code",
   "execution_count": null,
   "id": "eac9c07d",
   "metadata": {},
   "outputs": [],
   "source": [
    "# date_columns DataFrame'ini CSV olarak kaydetme\n",
    "date_columns.to_csv('date_columns.csv', index=False)"
   ]
  },
  {
   "cell_type": "markdown",
   "id": "3ef2f30c",
   "metadata": {},
   "source": [
    "## Distributions\n",
    "\n",
    "- Feature'larinizin detayli analiz ve gorsellestirilmesi"
   ]
  },
  {
   "cell_type": "markdown",
   "id": "b7acf7a1",
   "metadata": {},
   "source": [
    "## Correlations"
   ]
  },
  {
   "cell_type": "markdown",
   "id": "c7d86f68",
   "metadata": {},
   "source": [
    "## Feature Engineering"
   ]
  },
  {
   "cell_type": "markdown",
   "id": "2b3cad6d",
   "metadata": {},
   "source": [
    "## Feature Selection\n",
    "- Hangi feauture model icin kullanilmali-neden?"
   ]
  },
  {
   "cell_type": "markdown",
   "id": "e96285fb",
   "metadata": {},
   "source": [
    "## Save Cleaned Data"
   ]
  },
  {
   "cell_type": "markdown",
   "id": "d6b1bb6f",
   "metadata": {},
   "source": [
    "# Bulgular ve Yorumlar"
   ]
  },
  {
   "cell_type": "markdown",
   "id": "7878d43c",
   "metadata": {},
   "source": [
    "# Sonuçlar ve Öneriler"
   ]
  },
  {
   "cell_type": "code",
   "execution_count": null,
   "id": "c1c1c969",
   "metadata": {},
   "outputs": [],
   "source": []
  }
 ],
 "metadata": {
  "hide_input": false,
  "kernelspec": {
   "display_name": "Python 3 (ipykernel)",
   "language": "python",
   "name": "python3"
  },
  "language_info": {
   "codemirror_mode": {
    "name": "ipython",
    "version": 3
   },
   "file_extension": ".py",
   "mimetype": "text/x-python",
   "name": "python",
   "nbconvert_exporter": "python",
   "pygments_lexer": "ipython3",
   "version": "3.12.3"
  },
  "toc": {
   "base_numbering": 1,
   "nav_menu": {},
   "number_sections": true,
   "sideBar": true,
   "skip_h1_title": false,
   "title_cell": "Table of Contents",
   "title_sidebar": "Contents",
   "toc_cell": false,
   "toc_position": {
    "height": "calc(100% - 180px)",
    "left": "10px",
    "top": "150px",
    "width": "264.972px"
   },
   "toc_section_display": true,
   "toc_window_display": true
  },
  "varInspector": {
   "cols": {
    "lenName": 16,
    "lenType": 16,
    "lenVar": 40
   },
   "kernels_config": {
    "python": {
     "delete_cmd_postfix": "",
     "delete_cmd_prefix": "del ",
     "library": "var_list.py",
     "varRefreshCmd": "print(var_dic_list())"
    },
    "r": {
     "delete_cmd_postfix": ") ",
     "delete_cmd_prefix": "rm(",
     "library": "var_list.r",
     "varRefreshCmd": "cat(var_dic_list()) "
    }
   },
   "types_to_exclude": [
    "module",
    "function",
    "builtin_function_or_method",
    "instance",
    "_Feature"
   ],
   "window_display": false
  }
 },
 "nbformat": 4,
 "nbformat_minor": 5
}
