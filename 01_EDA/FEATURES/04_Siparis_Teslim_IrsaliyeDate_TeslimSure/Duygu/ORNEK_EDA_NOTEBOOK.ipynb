{
 "cells": [
  {
   "cell_type": "code",
   "execution_count": 1,
   "id": "41588a0c",
   "metadata": {
    "ExecuteTime": {
     "end_time": "2024-10-27T19:29:48.357857Z",
     "start_time": "2024-10-27T19:29:48.353766Z"
    }
   },
   "outputs": [],
   "source": [
    "# DIKKAT `INT_1` TEAM UYESI ---> LUTFEN OKU:)) \n",
    "\n",
    "# Calismaya baslamadan once Github Desktop'ta Branchinda oldugundan emin ol!\n",
    "# Main branch'i kendi Branch'ina aktarmayi (merge) unutma\n",
    "# Sadece ve sadece kendi Branchinda kal!\n",
    "# Kendi Branch'inda iken calis ve COMMIT yap! \n",
    "\n",
    "# Github Proje klasorunde SADECE sana ayrilmis olan klasorunde calis-degisiklik yap. \n",
    "# Baskasinin veya ortak bir dosyada asla degisiklik yapma!\n",
    "# Buddy arkadasin ile ortak notebooklarinizda degisiklik yapmadan once onunla haberles! \n",
    "\n",
    "# HIC Emin degilsen PROJENIN GUVENLIGI ICIN github proje klasoru disinda bireysel bir klasorunde datalari kopyalayip alabilir ve lokalinde calisabilirsin. \n",
    "# Calismandan emin olduktan sonra gerekli dosyalari Github Proje klasoru icinde sana ayrilmis olan dosya icine ekleyebilirin\n",
    "# GitHub'a COMMIT-PUSH yaptiginda --> slackta --> GITHUB_UPDATE kanalindan bilgi vermeyi unutma!!\n",
    "\n",
    "# UTILS classinda isini kolaylastiracak fonksiyonlar ekledik, goz atabilirsin, asagida nasil kullancagini gosterdik.\n",
    "# Eger sende kullanisli bir fonksiyon bulursan UTILS classina uygun hale getirip-calistirip-test ettikten sonra \n",
    "#  benimle paylasirsan ortak utils dosyasina code'unu eklerim, diger arkadaslarinin da isini kolaylastirmis olursun:)\n",
    "\n",
    "# Okudugun icin tesekkurler iyi calismalar:)) "
   ]
  },
  {
   "cell_type": "markdown",
   "id": "3c54fa65",
   "metadata": {},
   "source": [
    "# GOLDBERG MED GmbH URETIM-TAKIP-SATIS ANALIZI"
   ]
  },
  {
   "cell_type": "markdown",
   "id": "4e8d91d0",
   "metadata": {},
   "source": [
    "**Giriş**\n",
    "\n",
    "Bu proje, Goldberg Med GmbH’nin satış performansını analiz etmek ve iş süreçlerini iyileştirmek için Keşifsel Veri Analizi (EDA) yöntemlerini kullanmayı amaçlayacaktır. Projenin temel hedefi, mevcut veriyi anlamak, olası sorunları belirlemek ve şirketin stratejik karar alma süreçlerine katkıda bulunmaktır.\n",
    "\n",
    "**Proje Hedefleri:**\n",
    "\n",
    "1. Mevcut veri setini inceleyerek verinin yapısını ve özelliklerini anlamak.\n",
    "2. Satış performansı ile ilgili temel trendleri ve desenleri keşfetmek.\n",
    "3. Verinin kalitesini artırmak için temizleme işlemleri yapmak (eksik ve anormal verileri tespit ve düzeltme).\n",
    "4. Elde edilen bulgular doğrultusunda, şirketin pazardaki konumunu güçlendirecek öneriler geliştirmek.\n",
    "\n",
    "**Proje Adımları:**\n",
    "\n",
    "1. **Veri Toplama ve Tanımlama:** Şirketten elde edilen satış verileri ve iş süreçlerine dair bilgiler incelenecek ve analiz için hazırlanacaktır.\n",
    "2. **Keşifsel Veri Analizi (EDA):** \n",
    "3. **Veri Temizleme:** Veri setindeki eksik veya hatalı veriler tespit edilerek gerekli düzenlemeler yapılacaktır.\n",
    "3. **Analiz ve Gorsellestirme:** Verinin genel dağılımı, temel istatistikler ve görselleştirme teknikleri ile incelenecektir. Bu adımda, verinin temel trendleri ve değişkenler arasındaki ilişkiler analiz edilecektir.\n",
    "4. **Bulgular ve Yorumlar:** Elde edilen analiz sonuçları yorumlanarak, satış performansını etkileyen faktörler üzerine odaklanılacaktır.\n",
    "5. **Sonuçlar ve Öneriler:** Şirketin satışlarını artırmaya yönelik stratejik öneriler geliştirilecek ve ileriye dönük analizlerin yapılması için yol haritası sunulacaktır.\n",
    "\n",
    "**Sonuçlar:**\n",
    "\n",
    "Bu proje, Goldberg Med GmbH’nin satış verilerini analiz ederek, performansı artırmaya yönelik içgörüler sunacaktır. Analiz süreci, şirketin iş süreçlerinde verimliliği artırabilecek potansiyel alanları belirleyecek ve bu alanlarda uygulanabilecek stratejiler geliştirecektir. Elde edilen veriler doğrultusunda, şirketin pazar payını artırmak ve satışları optimize etmek için uygulanabilecek öneriler raporda detaylı olarak sunulacaktır."
   ]
  },
  {
   "cell_type": "markdown",
   "id": "d1aa00dc-fd8f-4c98-a350-c6290b877a47",
   "metadata": {},
   "source": [
    "## Imports Libraries"
   ]
  },
  {
   "cell_type": "code",
   "execution_count": 12,
   "id": "e9bb2ba0",
   "metadata": {
    "ExecuteTime": {
     "end_time": "2024-10-27T19:40:00.085943Z",
     "start_time": "2024-10-27T19:40:00.080614Z"
    }
   },
   "outputs": [],
   "source": [
    "import numpy as np \n",
    "import pandas as pd \n",
    "import matplotlib.pyplot as plt\n",
    "import plotly.express as px\n",
    "import seaborn as sns\n",
    "import cufflinks as cf\n",
    "%matplotlib inline \n",
    "import os\n",
    "import sys\n",
    "from scipy import stats\n",
    "\n",
    "\n",
    "pd.set_option('display.max_rows', 1000)\n",
    "pd.set_option('display.max_columns', 1000)\n",
    "pd.set_option('display.width', 1000)\n",
    "\n",
    "import warnings\n",
    "warnings.filterwarnings(\"ignore\")"
   ]
  },
  {
   "cell_type": "markdown",
   "id": "6ec28288",
   "metadata": {},
   "source": [
    "## Load the Data"
   ]
  },
  {
   "cell_type": "code",
   "execution_count": 13,
   "id": "ffa886e2",
   "metadata": {
    "ExecuteTime": {
     "end_time": "2024-10-27T19:40:02.485926Z",
     "start_time": "2024-10-27T19:40:02.390520Z"
    }
   },
   "outputs": [
    {
     "data": {
      "text/html": [
       "<div>\n",
       "<style scoped>\n",
       "    .dataframe tbody tr th:only-of-type {\n",
       "        vertical-align: middle;\n",
       "    }\n",
       "\n",
       "    .dataframe tbody tr th {\n",
       "        vertical-align: top;\n",
       "    }\n",
       "\n",
       "    .dataframe thead th {\n",
       "        text-align: right;\n",
       "    }\n",
       "</style>\n",
       "<table border=\"1\" class=\"dataframe\">\n",
       "  <thead>\n",
       "    <tr style=\"text-align: right;\">\n",
       "      <th></th>\n",
       "      <th>kategori</th>\n",
       "      <th>satis_turu</th>\n",
       "      <th>siparis_no</th>\n",
       "      <th>siparis_tarihi</th>\n",
       "      <th>siparisi_veren</th>\n",
       "      <th>kurulum_yeri</th>\n",
       "      <th>il</th>\n",
       "      <th>urun_modeli</th>\n",
       "      <th>urun_adi</th>\n",
       "      <th>litre</th>\n",
       "      <th>seri_no</th>\n",
       "      <th>teslim_suresi</th>\n",
       "      <th>teslim_tarihi</th>\n",
       "      <th>irsaliye_tarihi</th>\n",
       "      <th>aciklama</th>\n",
       "      <th>solusyon_fatura</th>\n",
       "      <th>bidon_acilisi</th>\n",
       "      <th>uts_no</th>\n",
       "    </tr>\n",
       "  </thead>\n",
       "  <tbody>\n",
       "    <tr>\n",
       "      <th>0</th>\n",
       "      <td>AMELIYAT MASASI</td>\n",
       "      <td>ÖZEL</td>\n",
       "      <td>2018/006</td>\n",
       "      <td>2018-06-29</td>\n",
       "      <td>ÖZEL FSM TIP MERKEZİ</td>\n",
       "      <td>ÖZEL FSM TIP MERKEZİ</td>\n",
       "      <td>İSTANBUL</td>\n",
       "      <td>GOLDBERG 5S</td>\n",
       "      <td>AMELİYAT MASASI</td>\n",
       "      <td>*</td>\n",
       "      <td>2018/02-012</td>\n",
       "      <td>20 GÜN</td>\n",
       "      <td>2018-07-18</td>\n",
       "      <td>NaN</td>\n",
       "      <td>NaN</td>\n",
       "      <td>NaN</td>\n",
       "      <td>NaN</td>\n",
       "      <td>NaN</td>\n",
       "    </tr>\n",
       "    <tr>\n",
       "      <th>1</th>\n",
       "      <td>AMELIYAT MASASI</td>\n",
       "      <td>DEMO</td>\n",
       "      <td>2018/007</td>\n",
       "      <td>2018-02-14</td>\n",
       "      <td>DEMO</td>\n",
       "      <td>DERİNCE EĞİTİM VE ARAŞTIRMA HASTANESİ</td>\n",
       "      <td>KOCAELİ</td>\n",
       "      <td>GOLDBERG 5S</td>\n",
       "      <td>AMELİYAT MASASI</td>\n",
       "      <td>*</td>\n",
       "      <td>2018/02-003</td>\n",
       "      <td>21 GÜN</td>\n",
       "      <td>NaN</td>\n",
       "      <td>NaN</td>\n",
       "      <td>NaN</td>\n",
       "      <td>NaN</td>\n",
       "      <td>NaN</td>\n",
       "      <td>NaN</td>\n",
       "    </tr>\n",
       "  </tbody>\n",
       "</table>\n",
       "</div>"
      ],
      "text/plain": [
       "          kategori satis_turu siparis_no siparis_tarihi        siparisi_veren                           kurulum_yeri        il  urun_modeli         urun_adi litre      seri_no teslim_suresi teslim_tarihi irsaliye_tarihi aciklama solusyon_fatura bidon_acilisi  uts_no\n",
       "0  AMELIYAT MASASI       ÖZEL   2018/006     2018-06-29  ÖZEL FSM TIP MERKEZİ                   ÖZEL FSM TIP MERKEZİ  İSTANBUL  GOLDBERG 5S  AMELİYAT MASASI     *  2018/02-012        20 GÜN    2018-07-18             NaN      NaN             NaN           NaN     NaN\n",
       "1  AMELIYAT MASASI       DEMO   2018/007     2018-02-14                  DEMO  DERİNCE EĞİTİM VE ARAŞTIRMA HASTANESİ   KOCAELİ  GOLDBERG 5S  AMELİYAT MASASI     *  2018/02-003        21 GÜN           NaN             NaN      NaN             NaN           NaN     NaN"
      ]
     },
     "execution_count": 13,
     "metadata": {},
     "output_type": "execute_result"
    }
   ],
   "source": [
    "# Uzak bir klasordeki dataseti-dosyayi okumak icin dosya yolunu ver;\n",
    "\n",
    "# Dosya yolunu belirtelim\n",
    "file_path = r\"C:\\Users\\duygu\\Desktop\\00-GitHub-Repo\\00-1INTERNSHIP\\00_Data\\01_Satis_Uretim\\03_Merged_Data\\merged_satis_uretim_data_27_Ekim.csv\"\n",
    "\n",
    "# CSV dosyasını okuyalım\n",
    "try:\n",
    "    df_total = pd.read_csv(file_path)\n",
    "    # İlk birkaç satırı göstereceğiz\n",
    "    df_total.head()\n",
    "except FileNotFoundError:\n",
    "    \"Dosya yolunda bir hata olabilir veya dosya mevcut olmayabilir.\"\n",
    "\n",
    "    \n",
    "df = df_total.copy()  \n",
    "df.head(2)"
   ]
  },
  {
   "cell_type": "code",
   "execution_count": 14,
   "id": "bd4417d5",
   "metadata": {
    "ExecuteTime": {
     "end_time": "2024-10-27T19:40:05.120735Z",
     "start_time": "2024-10-27T19:40:05.017702Z"
    }
   },
   "outputs": [
    {
     "data": {
      "text/html": [
       "<div>\n",
       "<style scoped>\n",
       "    .dataframe tbody tr th:only-of-type {\n",
       "        vertical-align: middle;\n",
       "    }\n",
       "\n",
       "    .dataframe tbody tr th {\n",
       "        vertical-align: top;\n",
       "    }\n",
       "\n",
       "    .dataframe thead th {\n",
       "        text-align: right;\n",
       "    }\n",
       "</style>\n",
       "<table border=\"1\" class=\"dataframe\">\n",
       "  <thead>\n",
       "    <tr style=\"text-align: right;\">\n",
       "      <th></th>\n",
       "      <th>kategori</th>\n",
       "      <th>satis_turu</th>\n",
       "      <th>siparis_no</th>\n",
       "      <th>siparis_tarihi</th>\n",
       "      <th>siparisi_veren</th>\n",
       "      <th>kurulum_yeri</th>\n",
       "      <th>il</th>\n",
       "      <th>urun_modeli</th>\n",
       "      <th>urun_adi</th>\n",
       "      <th>litre</th>\n",
       "      <th>seri_no</th>\n",
       "      <th>teslim_suresi</th>\n",
       "      <th>teslim_tarihi</th>\n",
       "      <th>irsaliye_tarihi</th>\n",
       "      <th>aciklama</th>\n",
       "      <th>solusyon_fatura</th>\n",
       "      <th>bidon_acilisi</th>\n",
       "      <th>uts_no</th>\n",
       "    </tr>\n",
       "  </thead>\n",
       "  <tbody>\n",
       "    <tr>\n",
       "      <th>0</th>\n",
       "      <td>AMELIYAT MASASI</td>\n",
       "      <td>ÖZEL</td>\n",
       "      <td>2018/006</td>\n",
       "      <td>2018-06-29</td>\n",
       "      <td>ÖZEL FSM TIP MERKEZİ</td>\n",
       "      <td>ÖZEL FSM TIP MERKEZİ</td>\n",
       "      <td>İSTANBUL</td>\n",
       "      <td>GOLDBERG 5S</td>\n",
       "      <td>AMELİYAT MASASI</td>\n",
       "      <td>*</td>\n",
       "      <td>2018/02-012</td>\n",
       "      <td>20 GÜN</td>\n",
       "      <td>2018-07-18</td>\n",
       "      <td>NaN</td>\n",
       "      <td>NaN</td>\n",
       "      <td>NaN</td>\n",
       "      <td>NaN</td>\n",
       "      <td>NaN</td>\n",
       "    </tr>\n",
       "    <tr>\n",
       "      <th>1</th>\n",
       "      <td>AMELIYAT MASASI</td>\n",
       "      <td>DEMO</td>\n",
       "      <td>2018/007</td>\n",
       "      <td>2018-02-14</td>\n",
       "      <td>DEMO</td>\n",
       "      <td>DERİNCE EĞİTİM VE ARAŞTIRMA HASTANESİ</td>\n",
       "      <td>KOCAELİ</td>\n",
       "      <td>GOLDBERG 5S</td>\n",
       "      <td>AMELİYAT MASASI</td>\n",
       "      <td>*</td>\n",
       "      <td>2018/02-003</td>\n",
       "      <td>21 GÜN</td>\n",
       "      <td>NaN</td>\n",
       "      <td>NaN</td>\n",
       "      <td>NaN</td>\n",
       "      <td>NaN</td>\n",
       "      <td>NaN</td>\n",
       "      <td>NaN</td>\n",
       "    </tr>\n",
       "  </tbody>\n",
       "</table>\n",
       "</div>"
      ],
      "text/plain": [
       "          kategori satis_turu siparis_no siparis_tarihi        siparisi_veren                           kurulum_yeri        il  urun_modeli         urun_adi litre      seri_no teslim_suresi teslim_tarihi irsaliye_tarihi aciklama solusyon_fatura bidon_acilisi  uts_no\n",
       "0  AMELIYAT MASASI       ÖZEL   2018/006     2018-06-29  ÖZEL FSM TIP MERKEZİ                   ÖZEL FSM TIP MERKEZİ  İSTANBUL  GOLDBERG 5S  AMELİYAT MASASI     *  2018/02-012        20 GÜN    2018-07-18             NaN      NaN             NaN           NaN     NaN\n",
       "1  AMELIYAT MASASI       DEMO   2018/007     2018-02-14                  DEMO  DERİNCE EĞİTİM VE ARAŞTIRMA HASTANESİ   KOCAELİ  GOLDBERG 5S  AMELİYAT MASASI     *  2018/02-003        21 GÜN           NaN             NaN      NaN             NaN           NaN     NaN"
      ]
     },
     "execution_count": 14,
     "metadata": {},
     "output_type": "execute_result"
    }
   ],
   "source": [
    "# Veya Dataseti kendi klasorune kopyala al ve direk okut\n",
    "\n",
    "df0 = pd.read_csv('merged_satis_uretim_data_27_Ekim.csv')\n",
    "df = df0.copy()\n",
    "\n",
    "df.head(2)"
   ]
  },
  {
   "cell_type": "markdown",
   "id": "330efe83-58f1-4664-9d0c-e2a47340a0c3",
   "metadata": {},
   "source": [
    "## Import Local `utils1` Modul"
   ]
  },
  {
   "cell_type": "code",
   "execution_count": 15,
   "id": "573ded06-075e-46ec-89c7-c322e93470fd",
   "metadata": {
    "ExecuteTime": {
     "end_time": "2024-10-27T19:40:37.452581Z",
     "start_time": "2024-10-27T19:40:37.447464Z"
    }
   },
   "outputs": [],
   "source": [
    "#  FONKSIYONLARIMIZI DERLEDIGIMIZ `UTILS` ADINDAKI MODULU BU NOTEBOOK ICINE IMPORT EDIYORUZ\n",
    "\n",
    "import sys\n",
    "\n",
    "# utils1.py dosyasının bulunduğu dizini ham dize olarak ekleyin\n",
    "sys.path.append(r\"C:\\Users\\duygu\\Desktop\\00-GitHub-Repo\\00-1INTERNSHIP\\10_UTILITIES\")\n",
    "\n",
    "# 'utils.py' dosyasında olusturulan Utils sınıfını import et\n",
    "from utilsAnalysis import UtilsAnalysis\n",
    "\n",
    "# utils1 icindeki tum class'lardan bir nesne oluştur\n",
    "utils = UtilsAnalysis()"
   ]
  },
  {
   "cell_type": "code",
   "execution_count": 16,
   "id": "2da7bb2d-f669-4c73-8281-a1e142e0c27a",
   "metadata": {
    "ExecuteTime": {
     "end_time": "2024-10-27T19:40:38.777928Z",
     "start_time": "2024-10-27T19:40:38.772330Z"
    },
    "scrolled": true
   },
   "outputs": [
    {
     "data": {
      "text/plain": [
       "['__class__',\n",
       " '__delattr__',\n",
       " '__dict__',\n",
       " '__dir__',\n",
       " '__doc__',\n",
       " '__eq__',\n",
       " '__format__',\n",
       " '__ge__',\n",
       " '__getattribute__',\n",
       " '__getstate__',\n",
       " '__gt__',\n",
       " '__hash__',\n",
       " '__init__',\n",
       " '__init_subclass__',\n",
       " '__le__',\n",
       " '__lt__',\n",
       " '__module__',\n",
       " '__ne__',\n",
       " '__new__',\n",
       " '__reduce__',\n",
       " '__reduce_ex__',\n",
       " '__repr__',\n",
       " '__setattr__',\n",
       " '__sizeof__',\n",
       " '__str__',\n",
       " '__subclasshook__',\n",
       " '__weakref__',\n",
       " 'create_columns_table',\n",
       " 'detect_anomalies',\n",
       " 'df',\n",
       " 'duplicate_values',\n",
       " 'find_non_numeric_values',\n",
       " 'get_value_count',\n",
       " 'missing_values',\n",
       " 'na_ratio_plot',\n",
       " 'numeric_summary',\n",
       " 'object_summary',\n",
       " 'set_column']"
      ]
     },
     "execution_count": 16,
     "metadata": {},
     "output_type": "execute_result"
    }
   ],
   "source": [
    "# utils nesnesindeki tüm fonksiyonları ve öznitelikleri listelemek için\n",
    "dir(utils)"
   ]
  },
  {
   "cell_type": "markdown",
   "id": "289a6628",
   "metadata": {},
   "source": [
    "### Utils class'indan Fonk Cagirma:"
   ]
  },
  {
   "cell_type": "code",
   "execution_count": 7,
   "id": "8956ee98",
   "metadata": {
    "ExecuteTime": {
     "end_time": "2024-10-27T19:29:53.774234Z",
     "start_time": "2024-10-27T19:29:53.771007Z"
    }
   },
   "outputs": [],
   "source": [
    "# Utils classindaki fonk kullanmak icin utils objesine dataframe'i tanimla\n",
    "\n",
    "utils.df = df \n",
    "\n",
    "# merged_satis_uretim_data_27_Ekim df tanimlandi\n",
    "# `utils` objesi ile bu classta bulunan tum fonksiyonlari direk df uzerinde uygulayacak."
   ]
  },
  {
   "cell_type": "code",
   "execution_count": 8,
   "id": "dd71490a",
   "metadata": {
    "ExecuteTime": {
     "end_time": "2024-10-27T19:29:53.782351Z",
     "start_time": "2024-10-27T19:29:53.776633Z"
    }
   },
   "outputs": [
    {
     "name": "stdout",
     "output_type": "stream",
     "text": [
      "Help on method missing_values in module utilsAnalysis:\n",
      "\n",
      "missing_values() method of utilsAnalysis.UtilsAnalysis instance\n",
      "    DataFrame'deki eksik değerlerin sayısını ve yüzdesini hesaplar.\n",
      "\n"
     ]
    }
   ],
   "source": [
    "help(utils.missing_values) # utils classta ekledigimiz bir fonksiyon hakkinda bilgi edinebiliriz"
   ]
  },
  {
   "cell_type": "code",
   "execution_count": 9,
   "id": "57450e30",
   "metadata": {
    "ExecuteTime": {
     "end_time": "2024-10-27T19:29:53.807137Z",
     "start_time": "2024-10-27T19:29:53.784355Z"
    }
   },
   "outputs": [
    {
     "name": "stdout",
     "output_type": "stream",
     "text": [
      "Eksik değerlerin sütun bazında dökümü aşağıda verilmiştir:\n"
     ]
    },
    {
     "data": {
      "text/html": [
       "<div>\n",
       "<style scoped>\n",
       "    .dataframe tbody tr th:only-of-type {\n",
       "        vertical-align: middle;\n",
       "    }\n",
       "\n",
       "    .dataframe tbody tr th {\n",
       "        vertical-align: top;\n",
       "    }\n",
       "\n",
       "    .dataframe thead th {\n",
       "        text-align: right;\n",
       "    }\n",
       "</style>\n",
       "<table border=\"1\" class=\"dataframe\">\n",
       "  <thead>\n",
       "    <tr style=\"text-align: right;\">\n",
       "      <th></th>\n",
       "      <th>Eksik Değer Sayısı</th>\n",
       "      <th>Yüzde</th>\n",
       "    </tr>\n",
       "  </thead>\n",
       "  <tbody>\n",
       "    <tr>\n",
       "      <th>kategori</th>\n",
       "      <td>0</td>\n",
       "      <td>0.00%</td>\n",
       "    </tr>\n",
       "    <tr>\n",
       "      <th>satis_turu</th>\n",
       "      <td>3166</td>\n",
       "      <td>9.70%</td>\n",
       "    </tr>\n",
       "    <tr>\n",
       "      <th>siparis_no</th>\n",
       "      <td>4903</td>\n",
       "      <td>15.02%</td>\n",
       "    </tr>\n",
       "    <tr>\n",
       "      <th>siparis_tarihi</th>\n",
       "      <td>1816</td>\n",
       "      <td>5.56%</td>\n",
       "    </tr>\n",
       "    <tr>\n",
       "      <th>siparisi_veren</th>\n",
       "      <td>1430</td>\n",
       "      <td>4.38%</td>\n",
       "    </tr>\n",
       "    <tr>\n",
       "      <th>kurulum_yeri</th>\n",
       "      <td>30127</td>\n",
       "      <td>92.28%</td>\n",
       "    </tr>\n",
       "    <tr>\n",
       "      <th>il</th>\n",
       "      <td>1563</td>\n",
       "      <td>4.79%</td>\n",
       "    </tr>\n",
       "    <tr>\n",
       "      <th>urun_modeli</th>\n",
       "      <td>30196</td>\n",
       "      <td>92.50%</td>\n",
       "    </tr>\n",
       "    <tr>\n",
       "      <th>urun_adi</th>\n",
       "      <td>1527</td>\n",
       "      <td>4.68%</td>\n",
       "    </tr>\n",
       "    <tr>\n",
       "      <th>litre</th>\n",
       "      <td>30401</td>\n",
       "      <td>93.12%</td>\n",
       "    </tr>\n",
       "    <tr>\n",
       "      <th>seri_no</th>\n",
       "      <td>203</td>\n",
       "      <td>0.62%</td>\n",
       "    </tr>\n",
       "    <tr>\n",
       "      <th>teslim_suresi</th>\n",
       "      <td>30421</td>\n",
       "      <td>93.18%</td>\n",
       "    </tr>\n",
       "    <tr>\n",
       "      <th>teslim_tarihi</th>\n",
       "      <td>30502</td>\n",
       "      <td>93.43%</td>\n",
       "    </tr>\n",
       "    <tr>\n",
       "      <th>irsaliye_tarihi</th>\n",
       "      <td>32556</td>\n",
       "      <td>99.72%</td>\n",
       "    </tr>\n",
       "    <tr>\n",
       "      <th>aciklama</th>\n",
       "      <td>21019</td>\n",
       "      <td>64.38%</td>\n",
       "    </tr>\n",
       "    <tr>\n",
       "      <th>solusyon_fatura</th>\n",
       "      <td>27277</td>\n",
       "      <td>83.55%</td>\n",
       "    </tr>\n",
       "    <tr>\n",
       "      <th>bidon_acilisi</th>\n",
       "      <td>27277</td>\n",
       "      <td>83.55%</td>\n",
       "    </tr>\n",
       "    <tr>\n",
       "      <th>uts_no</th>\n",
       "      <td>32643</td>\n",
       "      <td>99.99%</td>\n",
       "    </tr>\n",
       "  </tbody>\n",
       "</table>\n",
       "</div>"
      ],
      "text/plain": [
       "                 Eksik Değer Sayısı   Yüzde\n",
       "kategori                          0   0.00%\n",
       "satis_turu                     3166   9.70%\n",
       "siparis_no                     4903  15.02%\n",
       "siparis_tarihi                 1816   5.56%\n",
       "siparisi_veren                 1430   4.38%\n",
       "kurulum_yeri                  30127  92.28%\n",
       "il                             1563   4.79%\n",
       "urun_modeli                   30196  92.50%\n",
       "urun_adi                       1527   4.68%\n",
       "litre                         30401  93.12%\n",
       "seri_no                         203   0.62%\n",
       "teslim_suresi                 30421  93.18%\n",
       "teslim_tarihi                 30502  93.43%\n",
       "irsaliye_tarihi               32556  99.72%\n",
       "aciklama                      21019  64.38%\n",
       "solusyon_fatura               27277  83.55%\n",
       "bidon_acilisi                 27277  83.55%\n",
       "uts_no                        32643  99.99%"
      ]
     },
     "execution_count": 9,
     "metadata": {},
     "output_type": "execute_result"
    }
   ],
   "source": [
    "#utils hafizasinda tanimlanan df vardir ve bunun uzerinde fonk uygular \n",
    "\n",
    "utils.missing_values()"
   ]
  },
  {
   "cell_type": "markdown",
   "id": "22decf03",
   "metadata": {},
   "source": [
    "# EXPLORATORY DATA ANALYSIS (EDA)¶"
   ]
  },
  {
   "cell_type": "markdown",
   "id": "b27abdce",
   "metadata": {},
   "source": [
    "## Understanding the the Data\n",
    "- Basic statistics\n",
    "- Info - shape vs.."
   ]
  },
  {
   "cell_type": "code",
   "execution_count": 10,
   "id": "53d0b6d1",
   "metadata": {
    "ExecuteTime": {
     "end_time": "2024-10-27T19:29:53.846822Z",
     "start_time": "2024-10-27T19:29:53.809650Z"
    },
    "scrolled": false
   },
   "outputs": [
    {
     "name": "stdout",
     "output_type": "stream",
     "text": [
      "<class 'pandas.core.frame.DataFrame'>\n",
      "RangeIndex: 32646 entries, 0 to 32645\n",
      "Data columns (total 18 columns):\n",
      " #   Column           Non-Null Count  Dtype  \n",
      "---  ------           --------------  -----  \n",
      " 0   kategori         32646 non-null  object \n",
      " 1   satis_turu       29480 non-null  object \n",
      " 2   siparis_no       27743 non-null  object \n",
      " 3   siparis_tarihi   30830 non-null  object \n",
      " 4   siparisi_veren   31216 non-null  object \n",
      " 5   kurulum_yeri     2519 non-null   object \n",
      " 6   il               31083 non-null  object \n",
      " 7   urun_modeli      2450 non-null   object \n",
      " 8   urun_adi         31119 non-null  object \n",
      " 9   litre            2245 non-null   object \n",
      " 10  seri_no          32443 non-null  object \n",
      " 11  teslim_suresi    2225 non-null   object \n",
      " 12  teslim_tarihi    2144 non-null   object \n",
      " 13  irsaliye_tarihi  90 non-null     object \n",
      " 14  aciklama         11627 non-null  object \n",
      " 15  solusyon_fatura  5369 non-null   object \n",
      " 16  bidon_acilisi    5369 non-null   object \n",
      " 17  uts_no           3 non-null      float64\n",
      "dtypes: float64(1), object(17)\n",
      "memory usage: 4.5+ MB\n"
     ]
    }
   ],
   "source": [
    "df.info()"
   ]
  },
  {
   "cell_type": "code",
   "execution_count": 11,
   "id": "2b510cbe",
   "metadata": {
    "ExecuteTime": {
     "end_time": "2024-10-27T19:39:57.487545Z",
     "start_time": "2024-10-27T19:29:53.855799Z"
    }
   },
   "outputs": [
    {
     "name": "stdout",
     "output_type": "stream",
     "text": [
      "Mevcut sütunlar:\n",
      "kategori | satis_turu | siparis_no | siparis_tarihi | siparisi_veren | kurulum_yeri | il | urun_modeli | urun_adi | litre | seri_no | teslim_suresi | teslim_tarihi | irsaliye_tarihi | aciklama | solusyon_fatura | bidon_acilisi | uts_no\n",
      "\n",
      "Lütfen analiz etmek istediğiniz sütun adını yazınız (örn: 'siparis_tarihi', 'siparisi_veren'):\n"
     ]
    },
    {
     "ename": "KeyboardInterrupt",
     "evalue": "Interrupted by user",
     "output_type": "error",
     "traceback": [
      "\u001b[1;31m---------------------------------------------------------------------------\u001b[0m",
      "\u001b[1;31mKeyboardInterrupt\u001b[0m                         Traceback (most recent call last)",
      "Cell \u001b[1;32mIn[11], line 1\u001b[0m\n\u001b[1;32m----> 1\u001b[0m utils\u001b[38;5;241m.\u001b[39mget_value_count()\n",
      "File \u001b[1;32m~\\Desktop\\00-GitHub-Repo\\00-1INTERNSHIP\\10_UTILITIES\\utilsAnalysis.py:105\u001b[0m, in \u001b[0;36mUtilsAnalysis.get_value_count\u001b[1;34m(self)\u001b[0m\n\u001b[0;32m    102\u001b[0m     \u001b[38;5;28mprint\u001b[39m(\u001b[38;5;124m\"\u001b[39m\u001b[38;5;124mÖnce bir DataFrame yüklemelisiniz.\u001b[39m\u001b[38;5;124m\"\u001b[39m)\n\u001b[0;32m    103\u001b[0m     \u001b[38;5;28;01mreturn\u001b[39;00m \u001b[38;5;28;01mNone\u001b[39;00m\n\u001b[1;32m--> 105\u001b[0m column_name \u001b[38;5;241m=\u001b[39m \u001b[38;5;28mself\u001b[39m\u001b[38;5;241m.\u001b[39mset_column()\n\u001b[0;32m    106\u001b[0m \u001b[38;5;28;01mif\u001b[39;00m column_name \u001b[38;5;129;01mis\u001b[39;00m \u001b[38;5;28;01mNone\u001b[39;00m:\n\u001b[0;32m    107\u001b[0m     \u001b[38;5;28;01mreturn\u001b[39;00m \u001b[38;5;28;01mNone\u001b[39;00m\n",
      "File \u001b[1;32m~\\Desktop\\00-GitHub-Repo\\00-1INTERNSHIP\\10_UTILITIES\\utilsAnalysis.py:86\u001b[0m, in \u001b[0;36mUtilsAnalysis.set_column\u001b[1;34m(self)\u001b[0m\n\u001b[0;32m     84\u001b[0m \u001b[38;5;66;03m# Kullanıcıdan sütun adını alma\u001b[39;00m\n\u001b[0;32m     85\u001b[0m \u001b[38;5;28mprint\u001b[39m(\u001b[38;5;124m\"\u001b[39m\u001b[38;5;130;01m\\n\u001b[39;00m\u001b[38;5;124mLütfen analiz etmek istediğiniz sütun adını yazınız (örn: \u001b[39m\u001b[38;5;124m'\u001b[39m\u001b[38;5;124msiparis_tarihi\u001b[39m\u001b[38;5;124m'\u001b[39m\u001b[38;5;124m, \u001b[39m\u001b[38;5;124m'\u001b[39m\u001b[38;5;124msiparisi_veren\u001b[39m\u001b[38;5;124m'\u001b[39m\u001b[38;5;124m):\u001b[39m\u001b[38;5;124m\"\u001b[39m)\n\u001b[1;32m---> 86\u001b[0m column_name \u001b[38;5;241m=\u001b[39m \u001b[38;5;28minput\u001b[39m(\u001b[38;5;124m\"\u001b[39m\u001b[38;5;124mSütun adı: \u001b[39m\u001b[38;5;124m\"\u001b[39m)\n\u001b[0;32m     88\u001b[0m \u001b[38;5;66;03m# Seçilen sütunun kontrolü\u001b[39;00m\n\u001b[0;32m     89\u001b[0m \u001b[38;5;28;01mif\u001b[39;00m column_name \u001b[38;5;129;01mnot\u001b[39;00m \u001b[38;5;129;01min\u001b[39;00m \u001b[38;5;28mself\u001b[39m\u001b[38;5;241m.\u001b[39mdf\u001b[38;5;241m.\u001b[39mcolumns:\n",
      "File \u001b[1;32m~\\anaconda3\\Lib\\site-packages\\ipykernel\\kernelbase.py:1262\u001b[0m, in \u001b[0;36mKernel.raw_input\u001b[1;34m(self, prompt)\u001b[0m\n\u001b[0;32m   1260\u001b[0m     msg \u001b[38;5;241m=\u001b[39m \u001b[38;5;124m\"\u001b[39m\u001b[38;5;124mraw_input was called, but this frontend does not support input requests.\u001b[39m\u001b[38;5;124m\"\u001b[39m\n\u001b[0;32m   1261\u001b[0m     \u001b[38;5;28;01mraise\u001b[39;00m StdinNotImplementedError(msg)\n\u001b[1;32m-> 1262\u001b[0m \u001b[38;5;28;01mreturn\u001b[39;00m \u001b[38;5;28mself\u001b[39m\u001b[38;5;241m.\u001b[39m_input_request(\n\u001b[0;32m   1263\u001b[0m     \u001b[38;5;28mstr\u001b[39m(prompt),\n\u001b[0;32m   1264\u001b[0m     \u001b[38;5;28mself\u001b[39m\u001b[38;5;241m.\u001b[39m_parent_ident[\u001b[38;5;124m\"\u001b[39m\u001b[38;5;124mshell\u001b[39m\u001b[38;5;124m\"\u001b[39m],\n\u001b[0;32m   1265\u001b[0m     \u001b[38;5;28mself\u001b[39m\u001b[38;5;241m.\u001b[39mget_parent(\u001b[38;5;124m\"\u001b[39m\u001b[38;5;124mshell\u001b[39m\u001b[38;5;124m\"\u001b[39m),\n\u001b[0;32m   1266\u001b[0m     password\u001b[38;5;241m=\u001b[39m\u001b[38;5;28;01mFalse\u001b[39;00m,\n\u001b[0;32m   1267\u001b[0m )\n",
      "File \u001b[1;32m~\\anaconda3\\Lib\\site-packages\\ipykernel\\kernelbase.py:1305\u001b[0m, in \u001b[0;36mKernel._input_request\u001b[1;34m(self, prompt, ident, parent, password)\u001b[0m\n\u001b[0;32m   1302\u001b[0m \u001b[38;5;28;01mexcept\u001b[39;00m \u001b[38;5;167;01mKeyboardInterrupt\u001b[39;00m:\n\u001b[0;32m   1303\u001b[0m     \u001b[38;5;66;03m# re-raise KeyboardInterrupt, to truncate traceback\u001b[39;00m\n\u001b[0;32m   1304\u001b[0m     msg \u001b[38;5;241m=\u001b[39m \u001b[38;5;124m\"\u001b[39m\u001b[38;5;124mInterrupted by user\u001b[39m\u001b[38;5;124m\"\u001b[39m\n\u001b[1;32m-> 1305\u001b[0m     \u001b[38;5;28;01mraise\u001b[39;00m \u001b[38;5;167;01mKeyboardInterrupt\u001b[39;00m(msg) \u001b[38;5;28;01mfrom\u001b[39;00m \u001b[38;5;28;01mNone\u001b[39;00m\n\u001b[0;32m   1306\u001b[0m \u001b[38;5;28;01mexcept\u001b[39;00m \u001b[38;5;167;01mException\u001b[39;00m:\n\u001b[0;32m   1307\u001b[0m     \u001b[38;5;28mself\u001b[39m\u001b[38;5;241m.\u001b[39mlog\u001b[38;5;241m.\u001b[39mwarning(\u001b[38;5;124m\"\u001b[39m\u001b[38;5;124mInvalid Message:\u001b[39m\u001b[38;5;124m\"\u001b[39m, exc_info\u001b[38;5;241m=\u001b[39m\u001b[38;5;28;01mTrue\u001b[39;00m)\n",
      "\u001b[1;31mKeyboardInterrupt\u001b[0m: Interrupted by user"
     ]
    }
   ],
   "source": [
    "utils.get_value_count()"
   ]
  },
  {
   "cell_type": "markdown",
   "id": "1675c058",
   "metadata": {},
   "source": [
    "## Data Cleaning and Transformation\n",
    "\n",
    "- Her bir feature tek tek inceleme yapilmasi\n",
    "    - Missing\n",
    "    - Duplicates\n",
    "    - Anormal Karakterlerin temizlenmesi\n",
    "    - ...."
   ]
  },
  {
   "cell_type": "code",
   "execution_count": null,
   "id": "31296f92",
   "metadata": {
    "ExecuteTime": {
     "end_time": "2024-10-27T19:39:57.492177Z",
     "start_time": "2024-10-27T19:39:57.492177Z"
    }
   },
   "outputs": [],
   "source": [
    "utils.detect_anomalies()"
   ]
  },
  {
   "cell_type": "code",
   "execution_count": null,
   "id": "44a6f424",
   "metadata": {
    "ExecuteTime": {
     "end_time": "2024-10-27T19:39:57.492177Z",
     "start_time": "2024-10-27T19:39:57.492177Z"
    }
   },
   "outputs": [],
   "source": [
    "utils.find_non_numeric_values()"
   ]
  },
  {
   "cell_type": "markdown",
   "id": "3ef2f30c",
   "metadata": {},
   "source": [
    "## Distributions\n",
    "\n",
    "- Feature'larinizin detayli analiz ve gorsellestirilmesi"
   ]
  },
  {
   "cell_type": "markdown",
   "id": "b7acf7a1",
   "metadata": {},
   "source": [
    "## Correlations"
   ]
  },
  {
   "cell_type": "markdown",
   "id": "c7d86f68",
   "metadata": {},
   "source": [
    "## Feature Engineering"
   ]
  },
  {
   "cell_type": "markdown",
   "id": "2b3cad6d",
   "metadata": {},
   "source": [
    "## Feature Selection\n",
    "- Hangi feauture model icin kullanilmali-neden?"
   ]
  },
  {
   "cell_type": "markdown",
   "id": "e96285fb",
   "metadata": {},
   "source": [
    "## Save Cleaned Data"
   ]
  },
  {
   "cell_type": "markdown",
   "id": "d6b1bb6f",
   "metadata": {},
   "source": [
    "# Bulgular ve Yorumlar"
   ]
  },
  {
   "cell_type": "markdown",
   "id": "7878d43c",
   "metadata": {},
   "source": [
    "# Sonuçlar ve Öneriler"
   ]
  },
  {
   "cell_type": "code",
   "execution_count": null,
   "id": "c1c1c969",
   "metadata": {},
   "outputs": [],
   "source": []
  }
 ],
 "metadata": {
  "hide_input": false,
  "kernelspec": {
   "display_name": "Python 3 (ipykernel)",
   "language": "python",
   "name": "python3"
  },
  "language_info": {
   "codemirror_mode": {
    "name": "ipython",
    "version": 3
   },
   "file_extension": ".py",
   "mimetype": "text/x-python",
   "name": "python",
   "nbconvert_exporter": "python",
   "pygments_lexer": "ipython3",
   "version": "3.12.3"
  },
  "toc": {
   "base_numbering": 1,
   "nav_menu": {},
   "number_sections": true,
   "sideBar": true,
   "skip_h1_title": false,
   "title_cell": "Table of Contents",
   "title_sidebar": "Contents",
   "toc_cell": false,
   "toc_position": {
    "height": "calc(100% - 180px)",
    "left": "10px",
    "top": "150px",
    "width": "264px"
   },
   "toc_section_display": true,
   "toc_window_display": true
  },
  "varInspector": {
   "cols": {
    "lenName": 16,
    "lenType": 16,
    "lenVar": 40
   },
   "kernels_config": {
    "python": {
     "delete_cmd_postfix": "",
     "delete_cmd_prefix": "del ",
     "library": "var_list.py",
     "varRefreshCmd": "print(var_dic_list())"
    },
    "r": {
     "delete_cmd_postfix": ") ",
     "delete_cmd_prefix": "rm(",
     "library": "var_list.r",
     "varRefreshCmd": "cat(var_dic_list()) "
    }
   },
   "types_to_exclude": [
    "module",
    "function",
    "builtin_function_or_method",
    "instance",
    "_Feature"
   ],
   "window_display": false
  }
 },
 "nbformat": 4,
 "nbformat_minor": 5
}
