{
 "cells": [
  {
   "cell_type": "markdown",
   "id": "4c3fb3bc",
   "metadata": {},
   "source": [
    "# DATA GORUNTULEME DF VE CVS OLARAK KAYIT ETME"
   ]
  },
  {
   "cell_type": "markdown",
   "id": "95e6511d",
   "metadata": {},
   "source": [
    "**Bu Dosya sadece dosya yollarından kendi kategorimize ulaşmayı ve o kategoriyi yıl bazında csv dosyası kayıt etmeyi içerir.Bu işlemi yaptıktan sonra çalışmalarınıza ayrı notebook da herzamanki işlemler ile devam edebilirsiniz.**\n",
    "\n",
    "\n",
    "-1. Dosyaların sadece yolunu kullanarak okuyacağız. Bunun için daha önce gönderilen videoya bakalım. \n",
    "\n",
    "-2. Sürekli bu işlemi yapmamak için aldığımız sayfayı csv dosyası olarak kayıt edeceğiz. Burada dikkat edilmesi gereken nokta çalışılan notebook ve exel aynı klasörde değil o yüzden dosya yollarını alarak devam ediyoruz. Dosya yollarının sizinki ile aynı olmasına dikkat edilmeli.\n",
    "\n",
    "- Sadece 2 farklı fonksiyon var. (Dosyanın kalabalık olması her dosyaya bu fonksiyonları uyguladığım için )\n",
    "\n",
    "Eğer takılırsanız lütfen bana ulaşın ya da watsapdan yazalım :) Fatma Nur A."
   ]
  },
  {
   "cell_type": "markdown",
   "id": "1446ee5e",
   "metadata": {},
   "source": [
    "## Import Local Fonction Modul 'utils1'"
   ]
  },
  {
   "cell_type": "code",
   "execution_count": 1,
   "id": "2d000470",
   "metadata": {
    "ExecuteTime": {
     "end_time": "2024-10-25T12:39:17.838479Z",
     "start_time": "2024-10-25T12:39:17.317658Z"
    }
   },
   "outputs": [],
   "source": [
    "# UTILS ADDINDAKI FONKSIYONLARIMIZI DERLEDIGIMIZ MODULU BU NOTEBOOK ICINE IMPORT EDIYORUZ\n",
    "\n",
    "import sys\n",
    "\n",
    "# 'utils1.py' dosyasının bulunduğu dizin (kendi bilgisayarındaki dosya yolunu kopyala-al);\n",
    "sys.path.append(r'C:/Users/duygu/Desktop/00-GitHub-Repo/00-1INTERNSHIP/INT1_PROJECT/UTILITIES/')\n",
    "\n",
    "# 'utils1.py' dosyasında olusturulan Utils sınıfını import et\n",
    "from utils1 import Utils\n",
    "\n",
    "# Utils sınıfından bir nesne oluştur\n",
    "utils = Utils()"
   ]
  },
  {
   "cell_type": "code",
   "execution_count": 2,
   "id": "5641fa18",
   "metadata": {
    "ExecuteTime": {
     "end_time": "2024-10-24T14:13:39.553911Z",
     "start_time": "2024-10-24T14:13:39.548019Z"
    }
   },
   "outputs": [
    {
     "data": {
      "text/plain": [
       "['__class__',\n",
       " '__delattr__',\n",
       " '__dict__',\n",
       " '__dir__',\n",
       " '__doc__',\n",
       " '__eq__',\n",
       " '__format__',\n",
       " '__ge__',\n",
       " '__getattribute__',\n",
       " '__getstate__',\n",
       " '__gt__',\n",
       " '__hash__',\n",
       " '__init__',\n",
       " '__init_subclass__',\n",
       " '__le__',\n",
       " '__lt__',\n",
       " '__module__',\n",
       " '__ne__',\n",
       " '__new__',\n",
       " '__reduce__',\n",
       " '__reduce_ex__',\n",
       " '__repr__',\n",
       " '__setattr__',\n",
       " '__sizeof__',\n",
       " '__str__',\n",
       " '__subclasshook__',\n",
       " '__weakref__',\n",
       " 'df',\n",
       " 'read_excel_page',\n",
       " 'save_and_load_csv']"
      ]
     },
     "execution_count": 2,
     "metadata": {},
     "output_type": "execute_result"
    }
   ],
   "source": [
    "# utils nesnesindeki tüm fonksiyonları ve öznitelikleri listelemek için\n",
    "dir(utils)"
   ]
  },
  {
   "cell_type": "code",
   "execution_count": 3,
   "id": "823ddd6e",
   "metadata": {
    "ExecuteTime": {
     "end_time": "2024-10-24T13:54:32.301541Z",
     "start_time": "2024-10-24T13:54:32.296211Z"
    },
    "scrolled": true
   },
   "outputs": [
    {
     "name": "stdout",
     "output_type": "stream",
     "text": [
      "Help on function read_excel_page in module utils1:\n",
      "\n",
      "read_excel_page(self, base_dir, file_name, selected_page)\n",
      "    Excel dosyasındaki bir sayfayı seçip okuyan fonksiyon.\n",
      "\n"
     ]
    }
   ],
   "source": [
    "help(Utils.read_excel_page)"
   ]
  },
  {
   "cell_type": "code",
   "execution_count": 4,
   "id": "ad5e609a",
   "metadata": {
    "ExecuteTime": {
     "end_time": "2024-10-24T13:57:54.447339Z",
     "start_time": "2024-10-24T13:57:54.443530Z"
    },
    "scrolled": true
   },
   "outputs": [
    {
     "name": "stdout",
     "output_type": "stream",
     "text": [
      "Help on function save_and_load_csv in module utils1:\n",
      "\n",
      "save_and_load_csv(self, df, filename, dir_path)\n",
      "    DataFrame'i belirtilen dizine CSV olarak kaydeder ve tekrar yükler.\n",
      "\n"
     ]
    }
   ],
   "source": [
    "help(Utils.save_and_load_csv)"
   ]
  },
  {
   "cell_type": "markdown",
   "id": "d214c71a",
   "metadata": {},
   "source": [
    "## 2018 "
   ]
  },
  {
   "cell_type": "markdown",
   "id": "6c83d02d",
   "metadata": {},
   "source": [
    "### Excel dosyasi icindeki page'leri okuma:\n",
    "\n",
    "- `utils` nesnesini kullanarak `utils.read_excel_page()` fonksiyonu cagir\n",
    "- Lokal Proje github dosyasindaki dataset ve icindeki dosya yollarini kopyala-yapistir-Enter"
   ]
  },
  {
   "cell_type": "code",
   "execution_count": 3,
   "id": "6b804b34",
   "metadata": {
    "ExecuteTime": {
     "end_time": "2024-10-24T14:40:33.578021Z",
     "start_time": "2024-10-24T14:40:01.246761Z"
    }
   },
   "outputs": [
    {
     "name": "stdin",
     "output_type": "stream",
     "text": [
      "Lütfen Dataset dosya yolunu girin (örnek: C:\\Users\\ASUS\\Desktop\\INT_1_PROJECT\\00_Data\\01_Satis_Uretim):  C:\\Users\\duygu\\Desktop\\00-GitHub-Repo\\00-1INTERNSHIP\\INT1_PROJECT\\00_Data\\01_Satis_Uretim\n",
      "Lütfen Excel dosyasının adını girin (örnek: 2018-Uretim_Takip.xlsx):  2018-Uretim_Takip.xlsx\n"
     ]
    },
    {
     "name": "stdout",
     "output_type": "stream",
     "text": [
      "Dosyadaki sayfa adları: ['2018-01 OTOKLAV', '2018-02-AMELİYAT MASASI', '2018-04-HİDROJEN PEROKSİT', '2018-05-YIKAMA', '2018-06-OKSİJEN SİSTEMİ', '2018-07-KARTUŞ', '2018-08-REVERSE OSMOS ', '2018-DEMO GİDEN CİHAZLAR']\n"
     ]
    },
    {
     "name": "stdin",
     "output_type": "stream",
     "text": [
      "Lütfen okumak istediğiniz sayfanın adını girin:  2018-06-OKSİJEN SİSTEMİ\n"
     ]
    },
    {
     "name": "stdout",
     "output_type": "stream",
     "text": [
      "'df_otoklav_2018' olarak kaydedildi.\n"
     ]
    },
    {
     "data": {
      "text/html": [
       "<div>\n",
       "<style scoped>\n",
       "    .dataframe tbody tr th:only-of-type {\n",
       "        vertical-align: middle;\n",
       "    }\n",
       "\n",
       "    .dataframe tbody tr th {\n",
       "        vertical-align: top;\n",
       "    }\n",
       "\n",
       "    .dataframe thead th {\n",
       "        text-align: right;\n",
       "    }\n",
       "</style>\n",
       "<table border=\"1\" class=\"dataframe\">\n",
       "  <thead>\n",
       "    <tr style=\"text-align: right;\">\n",
       "      <th></th>\n",
       "      <th>DMO-ÖZEL-İHALE-DEMO</th>\n",
       "      <th>SİPARİŞ NO/İŞ EMRİ NO/TEKLİF NO</th>\n",
       "      <th>SİPARİŞ TARİHİ</th>\n",
       "      <th>SİPARİŞİ VEREN/2018</th>\n",
       "      <th>KURULUM YERİ /2018</th>\n",
       "      <th>İL</th>\n",
       "      <th>ÜRÜN</th>\n",
       "      <th>LİTRE</th>\n",
       "      <th>SERİ NO</th>\n",
       "      <th>TESLİM \\nSÜRESİ</th>\n",
       "      <th>TESLİM TARİHİ</th>\n",
       "      <th>SİPARİŞİN DURUMU</th>\n",
       "    </tr>\n",
       "  </thead>\n",
       "  <tbody>\n",
       "    <tr>\n",
       "      <th>0</th>\n",
       "      <td>YURTDIŞI</td>\n",
       "      <td>2018/040</td>\n",
       "      <td>2018-05-02</td>\n",
       "      <td>SIMAD UNİVERSİTESİ</td>\n",
       "      <td>UĞUR SAĞLIK HİZMETLERİ A.Ş.</td>\n",
       "      <td>SOMALİ</td>\n",
       "      <td>OXYGOLD-22</td>\n",
       "      <td>220 LT</td>\n",
       "      <td>2018/06-005</td>\n",
       "      <td>30</td>\n",
       "      <td>2018-06-10</td>\n",
       "      <td>NaN</td>\n",
       "    </tr>\n",
       "  </tbody>\n",
       "</table>\n",
       "</div>"
      ],
      "text/plain": [
       "  DMO-ÖZEL-İHALE-DEMO SİPARİŞ NO/İŞ EMRİ NO/TEKLİF NO SİPARİŞ TARİHİ  \\\n",
       "0            YURTDIŞI                        2018/040     2018-05-02   \n",
       "\n",
       "  SİPARİŞİ VEREN/2018           KURULUM YERİ /2018      İL         ÜRÜN  \\\n",
       "0  SIMAD UNİVERSİTESİ  UĞUR SAĞLIK HİZMETLERİ A.Ş.  SOMALİ  OXYGOLD-22    \n",
       "\n",
       "    LİTRE      SERİ NO  TESLİM \\nSÜRESİ TESLİM TARİHİ  SİPARİŞİN DURUMU  \n",
       "0  220 LT  2018/06-005               30    2018-06-10               NaN  "
      ]
     },
     "execution_count": 3,
     "metadata": {},
     "output_type": "execute_result"
    }
   ],
   "source": [
    "# Excel Dosyasini okuma:\n",
    "\n",
    "#(Lokal Proje github dosyasindaki dataset ve icindeki dosya yollarini kopyala-yapistir-Enter)\n",
    "# 1) Input olarak gelen kutuya Dataset yolunu giriniz : 01_Satis_Uretim \n",
    "# 2) Excel data dosya yolunu giriniz : 2018-Uretim_Takip.xlsx \n",
    "# 3) Fonksiyon Excel dosyasindaki page isimlerini listeler(Kendi kategorinizi seçip kopyala-yapıştır-Enter): 2018-01 OTOKLAV\n",
    "\n",
    "# Excel dosyasından bir sayfa oku ve DataFrame'i elde et\n",
    "df_oksijen_18 = utils.read_excel_page()\n",
    "\n",
    "df_oksijen_18.head(3)"
   ]
  },
  {
   "cell_type": "markdown",
   "id": "699998a4",
   "metadata": {},
   "source": [
    "### Excel dosyayi CSV olarak bulundugun klasore kayit etme:"
   ]
  },
  {
   "cell_type": "code",
   "execution_count": 4,
   "id": "f7fcd493",
   "metadata": {
    "ExecuteTime": {
     "end_time": "2024-10-24T14:51:30.200990Z",
     "start_time": "2024-10-24T14:51:30.177240Z"
    },
    "scrolled": true
   },
   "outputs": [
    {
     "name": "stdout",
     "output_type": "stream",
     "text": [
      "DataFrame başarıyla 'C:\\Users\\duygu\\Desktop\\00-GitHub-Repo\\00-1INTERNSHIP\\INT1_PROJECT\\01_EDA\\DATA INCELEME\\03_OKSİJEN SİSTEMİ\\df_oksijen_18.csv' olarak kaydedildi.\n",
      "DataFrame başarıyla 'C:\\Users\\duygu\\Desktop\\00-GitHub-Repo\\00-1INTERNSHIP\\INT1_PROJECT\\01_EDA\\DATA INCELEME\\03_OKSİJEN SİSTEMİ\\df_oksijen_18.csv' dosyasından okundu.\n"
     ]
    },
    {
     "data": {
      "text/html": [
       "<div>\n",
       "<style scoped>\n",
       "    .dataframe tbody tr th:only-of-type {\n",
       "        vertical-align: middle;\n",
       "    }\n",
       "\n",
       "    .dataframe tbody tr th {\n",
       "        vertical-align: top;\n",
       "    }\n",
       "\n",
       "    .dataframe thead th {\n",
       "        text-align: right;\n",
       "    }\n",
       "</style>\n",
       "<table border=\"1\" class=\"dataframe\">\n",
       "  <thead>\n",
       "    <tr style=\"text-align: right;\">\n",
       "      <th></th>\n",
       "      <th>DMO-ÖZEL-İHALE-DEMO</th>\n",
       "      <th>SİPARİŞ NO/İŞ EMRİ NO/TEKLİF NO</th>\n",
       "      <th>SİPARİŞ TARİHİ</th>\n",
       "      <th>SİPARİŞİ VEREN/2018</th>\n",
       "      <th>KURULUM YERİ /2018</th>\n",
       "      <th>İL</th>\n",
       "      <th>ÜRÜN</th>\n",
       "      <th>LİTRE</th>\n",
       "      <th>SERİ NO</th>\n",
       "      <th>TESLİM \\nSÜRESİ</th>\n",
       "      <th>TESLİM TARİHİ</th>\n",
       "      <th>SİPARİŞİN DURUMU</th>\n",
       "    </tr>\n",
       "  </thead>\n",
       "  <tbody>\n",
       "    <tr>\n",
       "      <th>0</th>\n",
       "      <td>YURTDIŞI</td>\n",
       "      <td>2018/040</td>\n",
       "      <td>2018-05-02</td>\n",
       "      <td>SIMAD UNİVERSİTESİ</td>\n",
       "      <td>UĞUR SAĞLIK HİZMETLERİ A.Ş.</td>\n",
       "      <td>SOMALİ</td>\n",
       "      <td>OXYGOLD-22</td>\n",
       "      <td>220 LT</td>\n",
       "      <td>2018/06-005</td>\n",
       "      <td>30</td>\n",
       "      <td>2018-06-10</td>\n",
       "      <td>NaN</td>\n",
       "    </tr>\n",
       "  </tbody>\n",
       "</table>\n",
       "</div>"
      ],
      "text/plain": [
       "  DMO-ÖZEL-İHALE-DEMO SİPARİŞ NO/İŞ EMRİ NO/TEKLİF NO SİPARİŞ TARİHİ  \\\n",
       "0            YURTDIŞI                        2018/040     2018-05-02   \n",
       "\n",
       "  SİPARİŞİ VEREN/2018           KURULUM YERİ /2018      İL         ÜRÜN  \\\n",
       "0  SIMAD UNİVERSİTESİ  UĞUR SAĞLIK HİZMETLERİ A.Ş.  SOMALİ  OXYGOLD-22    \n",
       "\n",
       "    LİTRE      SERİ NO  TESLİM \\nSÜRESİ TESLİM TARİHİ  SİPARİŞİN DURUMU  \n",
       "0  220 LT  2018/06-005               30    2018-06-10               NaN  "
      ]
     },
     "execution_count": 4,
     "metadata": {},
     "output_type": "execute_result"
    }
   ],
   "source": [
    "# save_and_load_csv() Fonksiyonunu cagirarak CSV olarak dosyayi bulundugunuz klasore kayit eder;\n",
    "\n",
    "# Burada önce 01_OTOKLAV yazan yeri github da KATEGORI için olusturulan klasör adını veriniz.\n",
    "notebook_dir = r\"C:\\Users\\duygu\\Desktop\\00-GitHub-Repo\\00-1INTERNSHIP\\INT1_PROJECT\\01_EDA\\DATA INCELEME\\03_OKSİJEN SİSTEMİ\"  # Kendi çalışma klasor yolunuz\n",
    "\n",
    "# En son olusturulan DataFrame'i hem CSV olarak kaydet hem de tekrar oku (kendi kategorinize gore isimlendiriniz)\n",
    "df_oksijen_18 = utils.save_and_load_csv('df_oksijen_18.csv', notebook_dir)  # Kayıt edeceğiniz adı yazın\n",
    "\n",
    "# İlk birkaç satırı kontrol et\n",
    "df_oksijen_18.head()"
   ]
  },
  {
   "cell_type": "markdown",
   "id": "4eb7cb7f",
   "metadata": {},
   "source": [
    "## 2019 "
   ]
  },
  {
   "cell_type": "code",
   "execution_count": 5,
   "id": "4a5aecb8",
   "metadata": {
    "ExecuteTime": {
     "end_time": "2024-10-24T14:18:32.843244Z",
     "start_time": "2024-10-24T14:13:49.716123Z"
    }
   },
   "outputs": [
    {
     "name": "stdin",
     "output_type": "stream",
     "text": [
      "Lütfen Dataset dosya yolunu girin (örnek: C:\\Users\\ASUS\\Desktop\\INT_1_PROJECT\\00_Data\\01_Satis_Uretim):  C:\\Users\\duygu\\Desktop\\00-GitHub-Repo\\00-1INTERNSHIP\\INT1_PROJECT\\00_Data\\01_Satis_Uretim\n",
      "Lütfen Excel dosyasının adını girin (örnek: 2018-Uretim_Takip.xlsx):  2019-Uretim_Takip.xlsx\n"
     ]
    },
    {
     "name": "stdout",
     "output_type": "stream",
     "text": [
      "Dosyadaki sayfa adları: ['2019-01 OTOKLAV', '2019-02-AMELİYAT MASASI', '2019-04-HİDROJEN PEROKSİT', '2019-05-YIKAMA', '2019-06-OKSİJEN SİSTEMİ', '2019-07-KARTUŞ', '2019-08-REVERSE OSMOS ']\n"
     ]
    },
    {
     "name": "stdin",
     "output_type": "stream",
     "text": [
      "Lütfen okumak istediğiniz sayfanın adını girin:  2019-06-OKSİJEN SİSTEMİ\n"
     ]
    },
    {
     "name": "stdout",
     "output_type": "stream",
     "text": [
      "'df_otoklav_2019' olarak kaydedildi.\n"
     ]
    },
    {
     "data": {
      "text/html": [
       "<div>\n",
       "<style scoped>\n",
       "    .dataframe tbody tr th:only-of-type {\n",
       "        vertical-align: middle;\n",
       "    }\n",
       "\n",
       "    .dataframe tbody tr th {\n",
       "        vertical-align: top;\n",
       "    }\n",
       "\n",
       "    .dataframe thead th {\n",
       "        text-align: right;\n",
       "    }\n",
       "</style>\n",
       "<table border=\"1\" class=\"dataframe\">\n",
       "  <thead>\n",
       "    <tr style=\"text-align: right;\">\n",
       "      <th></th>\n",
       "      <th>DMO-ÖZEL-İHALE-DEMO</th>\n",
       "      <th>SİPARİŞ NO/İŞ EMRİ NO/TEKLİF NO</th>\n",
       "      <th>SİPARİŞ TARİHİ</th>\n",
       "      <th>SİPARİŞİ VEREN/2019</th>\n",
       "      <th>KURULUM YERİ /2019</th>\n",
       "      <th>İL</th>\n",
       "      <th>ÜRÜN</th>\n",
       "      <th>LİTRE</th>\n",
       "      <th>SERİ NO</th>\n",
       "      <th>TESLİM \\nSÜRESİ</th>\n",
       "      <th>TESLİM TARİHİ</th>\n",
       "      <th>SİPARİŞİN DURUMU</th>\n",
       "    </tr>\n",
       "  </thead>\n",
       "  <tbody>\n",
       "    <tr>\n",
       "      <th>0</th>\n",
       "      <td>YURTDIŞI</td>\n",
       "      <td>NaN</td>\n",
       "      <td>NaN</td>\n",
       "      <td>NaN</td>\n",
       "      <td>NaN</td>\n",
       "      <td>NaN</td>\n",
       "      <td>NaN</td>\n",
       "      <td>NaN</td>\n",
       "      <td>NaN</td>\n",
       "      <td>NaN</td>\n",
       "      <td>NaN</td>\n",
       "      <td>NaN</td>\n",
       "    </tr>\n",
       "  </tbody>\n",
       "</table>\n",
       "</div>"
      ],
      "text/plain": [
       "  DMO-ÖZEL-İHALE-DEMO  SİPARİŞ NO/İŞ EMRİ NO/TEKLİF NO  SİPARİŞ TARİHİ  \\\n",
       "0            YURTDIŞI                              NaN             NaN   \n",
       "\n",
       "   SİPARİŞİ VEREN/2019  KURULUM YERİ /2019  İL  ÜRÜN  LİTRE  SERİ NO  \\\n",
       "0                  NaN                 NaN NaN   NaN    NaN      NaN   \n",
       "\n",
       "   TESLİM \\nSÜRESİ  TESLİM TARİHİ  SİPARİŞİN DURUMU  \n",
       "0              NaN            NaN               NaN  "
      ]
     },
     "execution_count": 5,
     "metadata": {},
     "output_type": "execute_result"
    }
   ],
   "source": [
    "# Excel Dosyasini okuma:\n",
    "\n",
    "df_oksijen_19 = utils.read_excel_page()\n",
    "df_oksijen_19.head()"
   ]
  },
  {
   "cell_type": "code",
   "execution_count": 6,
   "id": "fee2f362",
   "metadata": {
    "ExecuteTime": {
     "end_time": "2024-10-24T14:46:05.548767Z",
     "start_time": "2024-10-24T14:46:05.530416Z"
    }
   },
   "outputs": [
    {
     "name": "stdout",
     "output_type": "stream",
     "text": [
      "DataFrame başarıyla 'C:\\Users\\duygu\\Desktop\\00-GitHub-Repo\\00-1INTERNSHIP\\INT1_PROJECT\\01_EDA\\DATA INCELEME\\03_OKSİJEN SİSTEMİ\\df_oksijen_19.csv' olarak kaydedildi.\n",
      "DataFrame başarıyla 'C:\\Users\\duygu\\Desktop\\00-GitHub-Repo\\00-1INTERNSHIP\\INT1_PROJECT\\01_EDA\\DATA INCELEME\\03_OKSİJEN SİSTEMİ\\df_oksijen_19.csv' dosyasından okundu.\n"
     ]
    },
    {
     "data": {
      "text/html": [
       "<div>\n",
       "<style scoped>\n",
       "    .dataframe tbody tr th:only-of-type {\n",
       "        vertical-align: middle;\n",
       "    }\n",
       "\n",
       "    .dataframe tbody tr th {\n",
       "        vertical-align: top;\n",
       "    }\n",
       "\n",
       "    .dataframe thead th {\n",
       "        text-align: right;\n",
       "    }\n",
       "</style>\n",
       "<table border=\"1\" class=\"dataframe\">\n",
       "  <thead>\n",
       "    <tr style=\"text-align: right;\">\n",
       "      <th></th>\n",
       "      <th>DMO-ÖZEL-İHALE-DEMO</th>\n",
       "      <th>SİPARİŞ NO/İŞ EMRİ NO/TEKLİF NO</th>\n",
       "      <th>SİPARİŞ TARİHİ</th>\n",
       "      <th>SİPARİŞİ VEREN/2019</th>\n",
       "      <th>KURULUM YERİ /2019</th>\n",
       "      <th>İL</th>\n",
       "      <th>ÜRÜN</th>\n",
       "      <th>LİTRE</th>\n",
       "      <th>SERİ NO</th>\n",
       "      <th>TESLİM \\nSÜRESİ</th>\n",
       "      <th>TESLİM TARİHİ</th>\n",
       "      <th>SİPARİŞİN DURUMU</th>\n",
       "    </tr>\n",
       "  </thead>\n",
       "  <tbody>\n",
       "    <tr>\n",
       "      <th>0</th>\n",
       "      <td>YURTDIŞI</td>\n",
       "      <td>NaN</td>\n",
       "      <td>NaN</td>\n",
       "      <td>NaN</td>\n",
       "      <td>NaN</td>\n",
       "      <td>NaN</td>\n",
       "      <td>NaN</td>\n",
       "      <td>NaN</td>\n",
       "      <td>NaN</td>\n",
       "      <td>NaN</td>\n",
       "      <td>NaN</td>\n",
       "      <td>NaN</td>\n",
       "    </tr>\n",
       "  </tbody>\n",
       "</table>\n",
       "</div>"
      ],
      "text/plain": [
       "  DMO-ÖZEL-İHALE-DEMO  SİPARİŞ NO/İŞ EMRİ NO/TEKLİF NO  SİPARİŞ TARİHİ  \\\n",
       "0            YURTDIŞI                              NaN             NaN   \n",
       "\n",
       "   SİPARİŞİ VEREN/2019  KURULUM YERİ /2019  İL  ÜRÜN  LİTRE  SERİ NO  \\\n",
       "0                  NaN                 NaN NaN   NaN    NaN      NaN   \n",
       "\n",
       "   TESLİM \\nSÜRESİ  TESLİM TARİHİ  SİPARİŞİN DURUMU  \n",
       "0              NaN            NaN               NaN  "
      ]
     },
     "execution_count": 6,
     "metadata": {},
     "output_type": "execute_result"
    }
   ],
   "source": [
    "# DataFrame'i hem CSV olarak kaydet hem de tekrar oku\n",
    "\n",
    "df_oksijen_19 = utils.save_and_load_csv('df_oksijen_19.csv', notebook_dir)\n",
    "df_oksijen_19.head()"
   ]
  },
  {
   "cell_type": "markdown",
   "id": "551b935a",
   "metadata": {},
   "source": [
    "## 2020 "
   ]
  },
  {
   "cell_type": "code",
   "execution_count": 7,
   "id": "6b56d966",
   "metadata": {
    "ExecuteTime": {
     "end_time": "2024-10-24T09:51:44.126953Z",
     "start_time": "2024-10-24T09:51:20.568551Z"
    }
   },
   "outputs": [
    {
     "name": "stdin",
     "output_type": "stream",
     "text": [
      "Lütfen Dataset dosya yolunu girin (örnek: C:\\Users\\ASUS\\Desktop\\INT_1_PROJECT\\00_Data\\01_Satis_Uretim):  C:\\Users\\duygu\\Desktop\\00-GitHub-Repo\\00-1INTERNSHIP\\INT1_PROJECT\\00_Data\\01_Satis_Uretim\n",
      "Lütfen Excel dosyasının adını girin (örnek: 2018-Uretim_Takip.xlsx):  2020-Uretim_Takip.xlsx\n"
     ]
    },
    {
     "name": "stdout",
     "output_type": "stream",
     "text": [
      "Dosyadaki sayfa adları: ['2020-01 OTOKLAV', '2020-02-AMELİYAT MASASI', '2020-04-HİDROJEN PEROKSİT', '2020-05-YIKAMA', '2020-06-OKSİJEN SİSTEMİ', '2020-07-KARTUŞ', '2020-08-REVERSE OSMOS ']\n"
     ]
    },
    {
     "name": "stdin",
     "output_type": "stream",
     "text": [
      "Lütfen okumak istediğiniz sayfanın adını girin:  2020-06-OKSİJEN SİSTEMİ\n"
     ]
    },
    {
     "name": "stdout",
     "output_type": "stream",
     "text": [
      "'df_otoklav_2020' olarak kaydedildi.\n"
     ]
    },
    {
     "data": {
      "text/html": [
       "<div>\n",
       "<style scoped>\n",
       "    .dataframe tbody tr th:only-of-type {\n",
       "        vertical-align: middle;\n",
       "    }\n",
       "\n",
       "    .dataframe tbody tr th {\n",
       "        vertical-align: top;\n",
       "    }\n",
       "\n",
       "    .dataframe thead th {\n",
       "        text-align: right;\n",
       "    }\n",
       "</style>\n",
       "<table border=\"1\" class=\"dataframe\">\n",
       "  <thead>\n",
       "    <tr style=\"text-align: right;\">\n",
       "      <th></th>\n",
       "      <th>DMO-ÖZEL-İHALE-DEMO</th>\n",
       "      <th>SİPARİŞ NO/İŞ EMRİ NO/TEKLİF NO</th>\n",
       "      <th>SİPARİŞ TARİHİ</th>\n",
       "      <th>SİPARİŞİ VEREN/2020</th>\n",
       "      <th>KURULUM YERİ /2018</th>\n",
       "      <th>İL</th>\n",
       "      <th>ÜRÜN</th>\n",
       "      <th>LİTRE</th>\n",
       "      <th>SERİ NO</th>\n",
       "      <th>TESLİM \\nSÜRESİ</th>\n",
       "      <th>TESLİM TARİHİ</th>\n",
       "      <th>SİPARİŞİN DURUMU</th>\n",
       "    </tr>\n",
       "  </thead>\n",
       "  <tbody>\n",
       "    <tr>\n",
       "      <th>0</th>\n",
       "      <td>YURTDIŞI</td>\n",
       "      <td>2020/048</td>\n",
       "      <td>2020-02-05</td>\n",
       "      <td>AL MASARA HOSPİTAL</td>\n",
       "      <td>AL MASARA HOSPİTAL</td>\n",
       "      <td>LİBYA</td>\n",
       "      <td>OXYGOLD 75</td>\n",
       "      <td>75 LT</td>\n",
       "      <td>2020/06-001</td>\n",
       "      <td>30</td>\n",
       "      <td>NaN</td>\n",
       "      <td>NaN</td>\n",
       "    </tr>\n",
       "    <tr>\n",
       "      <th>1</th>\n",
       "      <td>YURTDIŞI</td>\n",
       "      <td>2020/049</td>\n",
       "      <td>2020-02-05</td>\n",
       "      <td>AL MASARA HOSPİTAL</td>\n",
       "      <td>AL MASARA HOSPİTAL</td>\n",
       "      <td>LİBYA</td>\n",
       "      <td>OXYGOLD 3</td>\n",
       "      <td>NaN</td>\n",
       "      <td>2020/06-002</td>\n",
       "      <td>30</td>\n",
       "      <td>NaN</td>\n",
       "      <td>NaN</td>\n",
       "    </tr>\n",
       "    <tr>\n",
       "      <th>2</th>\n",
       "      <td>YURTDIŞI</td>\n",
       "      <td>2018/003</td>\n",
       "      <td>2021-01-13</td>\n",
       "      <td>MME,LLC</td>\n",
       "      <td>MME,LLC</td>\n",
       "      <td>UKRAYNA</td>\n",
       "      <td>OXY-GOLD-11</td>\n",
       "      <td>NaN</td>\n",
       "      <td>2020/06-003</td>\n",
       "      <td>30</td>\n",
       "      <td>NaN</td>\n",
       "      <td>NaN</td>\n",
       "    </tr>\n",
       "    <tr>\n",
       "      <th>3</th>\n",
       "      <td>YURTDIŞI</td>\n",
       "      <td>2020/514</td>\n",
       "      <td>2021-01-13</td>\n",
       "      <td>MME,LLC</td>\n",
       "      <td>MME,LLC</td>\n",
       "      <td>UKRAYNA</td>\n",
       "      <td>OXY-GOLD-K15</td>\n",
       "      <td>NaN</td>\n",
       "      <td>2020/06-004</td>\n",
       "      <td>30</td>\n",
       "      <td>NaN</td>\n",
       "      <td>NaN</td>\n",
       "    </tr>\n",
       "    <tr>\n",
       "      <th>4</th>\n",
       "      <td>YURTDIŞI</td>\n",
       "      <td>2020/515</td>\n",
       "      <td>2021-01-13</td>\n",
       "      <td>MME,LLC</td>\n",
       "      <td>MME,LLC</td>\n",
       "      <td>UKRAYNA</td>\n",
       "      <td>OXY-GOLD-K15</td>\n",
       "      <td>NaN</td>\n",
       "      <td>2020/06-005</td>\n",
       "      <td>30</td>\n",
       "      <td>NaN</td>\n",
       "      <td>NaN</td>\n",
       "    </tr>\n",
       "  </tbody>\n",
       "</table>\n",
       "</div>"
      ],
      "text/plain": [
       "  DMO-ÖZEL-İHALE-DEMO SİPARİŞ NO/İŞ EMRİ NO/TEKLİF NO SİPARİŞ TARİHİ  \\\n",
       "0            YURTDIŞI                        2020/048     2020-02-05   \n",
       "1            YURTDIŞI                        2020/049     2020-02-05   \n",
       "2            YURTDIŞI                        2018/003     2021-01-13   \n",
       "3            YURTDIŞI                        2020/514     2021-01-13   \n",
       "4            YURTDIŞI                        2020/515     2021-01-13   \n",
       "\n",
       "  SİPARİŞİ VEREN/2020  KURULUM YERİ /2018       İL          ÜRÜN  LİTRE  \\\n",
       "0  AL MASARA HOSPİTAL  AL MASARA HOSPİTAL    LİBYA    OXYGOLD 75  75 LT   \n",
       "1  AL MASARA HOSPİTAL  AL MASARA HOSPİTAL    LİBYA     OXYGOLD 3    NaN   \n",
       "2             MME,LLC             MME,LLC  UKRAYNA   OXY-GOLD-11    NaN   \n",
       "3             MME,LLC             MME,LLC  UKRAYNA  OXY-GOLD-K15    NaN   \n",
       "4             MME,LLC             MME,LLC  UKRAYNA  OXY-GOLD-K15    NaN   \n",
       "\n",
       "       SERİ NO  TESLİM \\nSÜRESİ  TESLİM TARİHİ  SİPARİŞİN DURUMU  \n",
       "0  2020/06-001               30            NaN               NaN  \n",
       "1  2020/06-002               30            NaN               NaN  \n",
       "2  2020/06-003               30            NaN               NaN  \n",
       "3  2020/06-004               30            NaN               NaN  \n",
       "4  2020/06-005               30            NaN               NaN  "
      ]
     },
     "execution_count": 7,
     "metadata": {},
     "output_type": "execute_result"
    }
   ],
   "source": [
    "# Excel Dosyasini okuma:\n",
    "\n",
    "df_oksijen_20 = utils.read_excel_page()\n",
    "df_oksijen_20.head()"
   ]
  },
  {
   "cell_type": "code",
   "execution_count": 8,
   "id": "bddba733",
   "metadata": {
    "ExecuteTime": {
     "end_time": "2024-10-24T14:53:35.245244Z",
     "start_time": "2024-10-24T14:53:35.223981Z"
    }
   },
   "outputs": [
    {
     "name": "stdout",
     "output_type": "stream",
     "text": [
      "DataFrame başarıyla 'C:\\Users\\duygu\\Desktop\\00-GitHub-Repo\\00-1INTERNSHIP\\INT1_PROJECT\\01_EDA\\DATA INCELEME\\03_OKSİJEN SİSTEMİ\\df_oksijen_20.csv' olarak kaydedildi.\n",
      "DataFrame başarıyla 'C:\\Users\\duygu\\Desktop\\00-GitHub-Repo\\00-1INTERNSHIP\\INT1_PROJECT\\01_EDA\\DATA INCELEME\\03_OKSİJEN SİSTEMİ\\df_oksijen_20.csv' dosyasından okundu.\n"
     ]
    },
    {
     "data": {
      "text/html": [
       "<div>\n",
       "<style scoped>\n",
       "    .dataframe tbody tr th:only-of-type {\n",
       "        vertical-align: middle;\n",
       "    }\n",
       "\n",
       "    .dataframe tbody tr th {\n",
       "        vertical-align: top;\n",
       "    }\n",
       "\n",
       "    .dataframe thead th {\n",
       "        text-align: right;\n",
       "    }\n",
       "</style>\n",
       "<table border=\"1\" class=\"dataframe\">\n",
       "  <thead>\n",
       "    <tr style=\"text-align: right;\">\n",
       "      <th></th>\n",
       "      <th>DMO-ÖZEL-İHALE-DEMO</th>\n",
       "      <th>SİPARİŞ NO/İŞ EMRİ NO/TEKLİF NO</th>\n",
       "      <th>SİPARİŞ TARİHİ</th>\n",
       "      <th>SİPARİŞİ VEREN/2020</th>\n",
       "      <th>KURULUM YERİ /2018</th>\n",
       "      <th>İL</th>\n",
       "      <th>ÜRÜN</th>\n",
       "      <th>LİTRE</th>\n",
       "      <th>SERİ NO</th>\n",
       "      <th>TESLİM \\nSÜRESİ</th>\n",
       "      <th>TESLİM TARİHİ</th>\n",
       "      <th>SİPARİŞİN DURUMU</th>\n",
       "    </tr>\n",
       "  </thead>\n",
       "  <tbody>\n",
       "    <tr>\n",
       "      <th>0</th>\n",
       "      <td>YURTDIŞI</td>\n",
       "      <td>2020/048</td>\n",
       "      <td>2020-02-05</td>\n",
       "      <td>AL MASARA HOSPİTAL</td>\n",
       "      <td>AL MASARA HOSPİTAL</td>\n",
       "      <td>LİBYA</td>\n",
       "      <td>OXYGOLD 75</td>\n",
       "      <td>75 LT</td>\n",
       "      <td>2020/06-001</td>\n",
       "      <td>30</td>\n",
       "      <td>NaN</td>\n",
       "      <td>NaN</td>\n",
       "    </tr>\n",
       "    <tr>\n",
       "      <th>1</th>\n",
       "      <td>YURTDIŞI</td>\n",
       "      <td>2020/049</td>\n",
       "      <td>2020-02-05</td>\n",
       "      <td>AL MASARA HOSPİTAL</td>\n",
       "      <td>AL MASARA HOSPİTAL</td>\n",
       "      <td>LİBYA</td>\n",
       "      <td>OXYGOLD 3</td>\n",
       "      <td>NaN</td>\n",
       "      <td>2020/06-002</td>\n",
       "      <td>30</td>\n",
       "      <td>NaN</td>\n",
       "      <td>NaN</td>\n",
       "    </tr>\n",
       "    <tr>\n",
       "      <th>2</th>\n",
       "      <td>YURTDIŞI</td>\n",
       "      <td>2018/003</td>\n",
       "      <td>2021-01-13</td>\n",
       "      <td>MME,LLC</td>\n",
       "      <td>MME,LLC</td>\n",
       "      <td>UKRAYNA</td>\n",
       "      <td>OXY-GOLD-11</td>\n",
       "      <td>NaN</td>\n",
       "      <td>2020/06-003</td>\n",
       "      <td>30</td>\n",
       "      <td>NaN</td>\n",
       "      <td>NaN</td>\n",
       "    </tr>\n",
       "    <tr>\n",
       "      <th>3</th>\n",
       "      <td>YURTDIŞI</td>\n",
       "      <td>2020/514</td>\n",
       "      <td>2021-01-13</td>\n",
       "      <td>MME,LLC</td>\n",
       "      <td>MME,LLC</td>\n",
       "      <td>UKRAYNA</td>\n",
       "      <td>OXY-GOLD-K15</td>\n",
       "      <td>NaN</td>\n",
       "      <td>2020/06-004</td>\n",
       "      <td>30</td>\n",
       "      <td>NaN</td>\n",
       "      <td>NaN</td>\n",
       "    </tr>\n",
       "    <tr>\n",
       "      <th>4</th>\n",
       "      <td>YURTDIŞI</td>\n",
       "      <td>2020/515</td>\n",
       "      <td>2021-01-13</td>\n",
       "      <td>MME,LLC</td>\n",
       "      <td>MME,LLC</td>\n",
       "      <td>UKRAYNA</td>\n",
       "      <td>OXY-GOLD-K15</td>\n",
       "      <td>NaN</td>\n",
       "      <td>2020/06-005</td>\n",
       "      <td>30</td>\n",
       "      <td>NaN</td>\n",
       "      <td>NaN</td>\n",
       "    </tr>\n",
       "  </tbody>\n",
       "</table>\n",
       "</div>"
      ],
      "text/plain": [
       "  DMO-ÖZEL-İHALE-DEMO SİPARİŞ NO/İŞ EMRİ NO/TEKLİF NO SİPARİŞ TARİHİ  \\\n",
       "0            YURTDIŞI                        2020/048     2020-02-05   \n",
       "1            YURTDIŞI                        2020/049     2020-02-05   \n",
       "2            YURTDIŞI                        2018/003     2021-01-13   \n",
       "3            YURTDIŞI                        2020/514     2021-01-13   \n",
       "4            YURTDIŞI                        2020/515     2021-01-13   \n",
       "\n",
       "  SİPARİŞİ VEREN/2020  KURULUM YERİ /2018       İL          ÜRÜN  LİTRE  \\\n",
       "0  AL MASARA HOSPİTAL  AL MASARA HOSPİTAL    LİBYA    OXYGOLD 75  75 LT   \n",
       "1  AL MASARA HOSPİTAL  AL MASARA HOSPİTAL    LİBYA     OXYGOLD 3    NaN   \n",
       "2             MME,LLC             MME,LLC  UKRAYNA   OXY-GOLD-11    NaN   \n",
       "3             MME,LLC             MME,LLC  UKRAYNA  OXY-GOLD-K15    NaN   \n",
       "4             MME,LLC             MME,LLC  UKRAYNA  OXY-GOLD-K15    NaN   \n",
       "\n",
       "       SERİ NO  TESLİM \\nSÜRESİ  TESLİM TARİHİ  SİPARİŞİN DURUMU  \n",
       "0  2020/06-001               30            NaN               NaN  \n",
       "1  2020/06-002               30            NaN               NaN  \n",
       "2  2020/06-003               30            NaN               NaN  \n",
       "3  2020/06-004               30            NaN               NaN  \n",
       "4  2020/06-005               30            NaN               NaN  "
      ]
     },
     "execution_count": 8,
     "metadata": {},
     "output_type": "execute_result"
    }
   ],
   "source": [
    "# DataFrame'i hem CSV olarak kaydet hem de tekrar oku\n",
    "\n",
    "# 'notebook_dir' yolunu yukarida bir kez tanimladigimiz icin tekrar etmeye gerek yok, ayni klasorde calisiyoruz\n",
    "\n",
    "df_oksijen_20 = utils.save_and_load_csv('df_oksijen_20.csv', notebook_dir)\n",
    "df_oksijen_20.head()"
   ]
  },
  {
   "cell_type": "markdown",
   "id": "04fcf134",
   "metadata": {},
   "source": [
    "## 2021 "
   ]
  },
  {
   "cell_type": "code",
   "execution_count": 9,
   "id": "558ee82c",
   "metadata": {
    "ExecuteTime": {
     "end_time": "2024-10-24T09:53:45.899341Z",
     "start_time": "2024-10-24T09:53:22.939275Z"
    }
   },
   "outputs": [
    {
     "name": "stdin",
     "output_type": "stream",
     "text": [
      "Lütfen Dataset dosya yolunu girin (örnek: C:\\Users\\ASUS\\Desktop\\INT_1_PROJECT\\00_Data\\01_Satis_Uretim):  C:\\Users\\duygu\\Desktop\\00-GitHub-Repo\\00-1INTERNSHIP\\INT1_PROJECT\\00_Data\\01_Satis_Uretim\n",
      "Lütfen Excel dosyasının adını girin (örnek: 2018-Uretim_Takip.xlsx):  2021-Uretim_Takip.xlsx\n"
     ]
    },
    {
     "name": "stdout",
     "output_type": "stream",
     "text": [
      "Dosyadaki sayfa adları: ['2021-01 OTOKLAV', '2021-02-AMELİYAT MASASI', '2021-04-HİDROJEN PEROKSİT', '2021-05-YIKAMA', '2021-06-OKSİJEN', '2021-07-KARTUŞ', '2021-08-REVERSE OSMOS ']\n"
     ]
    },
    {
     "name": "stdin",
     "output_type": "stream",
     "text": [
      "Lütfen okumak istediğiniz sayfanın adını girin:  2021-06-OKSİJEN\n"
     ]
    },
    {
     "name": "stdout",
     "output_type": "stream",
     "text": [
      "'df_otoklav_2021' olarak kaydedildi.\n"
     ]
    },
    {
     "data": {
      "text/html": [
       "<div>\n",
       "<style scoped>\n",
       "    .dataframe tbody tr th:only-of-type {\n",
       "        vertical-align: middle;\n",
       "    }\n",
       "\n",
       "    .dataframe tbody tr th {\n",
       "        vertical-align: top;\n",
       "    }\n",
       "\n",
       "    .dataframe thead th {\n",
       "        text-align: right;\n",
       "    }\n",
       "</style>\n",
       "<table border=\"1\" class=\"dataframe\">\n",
       "  <thead>\n",
       "    <tr style=\"text-align: right;\">\n",
       "      <th></th>\n",
       "      <th>DMO-ÖZEL-İHALE-DEMO</th>\n",
       "      <th>SİPARİŞ NO/İŞ EMRİ NO/TEKLİF NO</th>\n",
       "      <th>SİPARİŞ TARİHİ</th>\n",
       "      <th>SİPARİŞİ VEREN/2020</th>\n",
       "      <th>KURULUM YERİ /2018</th>\n",
       "      <th>İL</th>\n",
       "      <th>ÜRÜN</th>\n",
       "      <th>LİTRE</th>\n",
       "      <th>SERİ NO</th>\n",
       "      <th>TESLİM TARİHİ</th>\n",
       "      <th>TESLİM SURESI</th>\n",
       "      <th>SİPARİŞİN DURUMU</th>\n",
       "    </tr>\n",
       "  </thead>\n",
       "  <tbody>\n",
       "    <tr>\n",
       "      <th>0</th>\n",
       "      <td>YURTDIŞI</td>\n",
       "      <td>2021/181</td>\n",
       "      <td>2021-05-26</td>\n",
       "      <td>NHAVA SHEVA</td>\n",
       "      <td>NHAVA SHEVA</td>\n",
       "      <td>HİNDİSTAN</td>\n",
       "      <td>OXY-GOLD 37</td>\n",
       "      <td>NaN</td>\n",
       "      <td>2021/06-001</td>\n",
       "      <td>2021-06-06 00:00:00</td>\n",
       "      <td>NaN</td>\n",
       "      <td>NaN</td>\n",
       "    </tr>\n",
       "    <tr>\n",
       "      <th>1</th>\n",
       "      <td>YURTDIŞI</td>\n",
       "      <td>2021/035</td>\n",
       "      <td>2021-02-19</td>\n",
       "      <td>MME,LLC(MED LOGİSTİCS)</td>\n",
       "      <td>MME,LLC(MED LOGİSTİCS)</td>\n",
       "      <td>UKRAYNA</td>\n",
       "      <td>OXY-GOLD 37</td>\n",
       "      <td>NaN</td>\n",
       "      <td>2021/06-002</td>\n",
       "      <td>2021-03-10 00:00:00</td>\n",
       "      <td>NaN</td>\n",
       "      <td>NaN</td>\n",
       "    </tr>\n",
       "    <tr>\n",
       "      <th>2</th>\n",
       "      <td>YURTDIŞI</td>\n",
       "      <td>2021/036</td>\n",
       "      <td>2021-02-19</td>\n",
       "      <td>MME,LLC(MED LOGİSTİCS)</td>\n",
       "      <td>MME,LLC(MED LOGİSTİCS)</td>\n",
       "      <td>UKRAYNA</td>\n",
       "      <td>OXY-GOLD 15</td>\n",
       "      <td>NaN</td>\n",
       "      <td>2021/06-003</td>\n",
       "      <td>2021-03-10 00:00:00</td>\n",
       "      <td>NaN</td>\n",
       "      <td>NaN</td>\n",
       "    </tr>\n",
       "    <tr>\n",
       "      <th>3</th>\n",
       "      <td>YURTDIŞI</td>\n",
       "      <td>2021/037</td>\n",
       "      <td>2021-02-19</td>\n",
       "      <td>MME,LLC(MED LOGİSTİCS)</td>\n",
       "      <td>MME,LLC(MED LOGİSTİCS)</td>\n",
       "      <td>UKRAYNA</td>\n",
       "      <td>OXY-GOLD 18</td>\n",
       "      <td>NaN</td>\n",
       "      <td>2021/06-004</td>\n",
       "      <td>2021-03-10 00:00:00</td>\n",
       "      <td>NaN</td>\n",
       "      <td>NaN</td>\n",
       "    </tr>\n",
       "    <tr>\n",
       "      <th>4</th>\n",
       "      <td>YURTDIŞI</td>\n",
       "      <td>2021/038</td>\n",
       "      <td>2021-02-19</td>\n",
       "      <td>MME,LLC(MED LOGİSTİCS)</td>\n",
       "      <td>MME,LLC(MED LOGİSTİCS)</td>\n",
       "      <td>UKRAYNA</td>\n",
       "      <td>OXY-GOLD 30</td>\n",
       "      <td>NaN</td>\n",
       "      <td>2021/06-005</td>\n",
       "      <td>2021-03-10 00:00:00</td>\n",
       "      <td>NaN</td>\n",
       "      <td>NaN</td>\n",
       "    </tr>\n",
       "  </tbody>\n",
       "</table>\n",
       "</div>"
      ],
      "text/plain": [
       "  DMO-ÖZEL-İHALE-DEMO SİPARİŞ NO/İŞ EMRİ NO/TEKLİF NO SİPARİŞ TARİHİ  \\\n",
       "0            YURTDIŞI                        2021/181     2021-05-26   \n",
       "1            YURTDIŞI                        2021/035     2021-02-19   \n",
       "2            YURTDIŞI                        2021/036     2021-02-19   \n",
       "3            YURTDIŞI                        2021/037     2021-02-19   \n",
       "4            YURTDIŞI                        2021/038     2021-02-19   \n",
       "\n",
       "      SİPARİŞİ VEREN/2020      KURULUM YERİ /2018         İL         ÜRÜN  \\\n",
       "0             NHAVA SHEVA             NHAVA SHEVA  HİNDİSTAN  OXY-GOLD 37   \n",
       "1  MME,LLC(MED LOGİSTİCS)  MME,LLC(MED LOGİSTİCS)    UKRAYNA  OXY-GOLD 37   \n",
       "2  MME,LLC(MED LOGİSTİCS)  MME,LLC(MED LOGİSTİCS)    UKRAYNA  OXY-GOLD 15   \n",
       "3  MME,LLC(MED LOGİSTİCS)  MME,LLC(MED LOGİSTİCS)    UKRAYNA  OXY-GOLD 18   \n",
       "4  MME,LLC(MED LOGİSTİCS)  MME,LLC(MED LOGİSTİCS)    UKRAYNA  OXY-GOLD 30   \n",
       "\n",
       "   LİTRE      SERİ NO        TESLİM TARİHİ  TESLİM SURESI  SİPARİŞİN DURUMU  \n",
       "0    NaN  2021/06-001  2021-06-06 00:00:00            NaN               NaN  \n",
       "1    NaN  2021/06-002  2021-03-10 00:00:00            NaN               NaN  \n",
       "2    NaN  2021/06-003  2021-03-10 00:00:00            NaN               NaN  \n",
       "3    NaN  2021/06-004  2021-03-10 00:00:00            NaN               NaN  \n",
       "4    NaN  2021/06-005  2021-03-10 00:00:00            NaN               NaN  "
      ]
     },
     "execution_count": 9,
     "metadata": {},
     "output_type": "execute_result"
    }
   ],
   "source": [
    "# Excel Okuma, df olusturma\n",
    "\n",
    "df_oksijen_21 = utils.read_excel_page()\n",
    "df_oksijen_21.head()"
   ]
  },
  {
   "cell_type": "code",
   "execution_count": 11,
   "id": "d48deae6",
   "metadata": {
    "ExecuteTime": {
     "end_time": "2024-10-24T09:54:14.907454Z",
     "start_time": "2024-10-24T09:54:14.883638Z"
    }
   },
   "outputs": [
    {
     "name": "stdout",
     "output_type": "stream",
     "text": [
      "DataFrame başarıyla 'C:\\Users\\duygu\\Desktop\\00-GitHub-Repo\\00-1INTERNSHIP\\INT1_PROJECT\\01_EDA\\DATA INCELEME\\03_OKSİJEN SİSTEMİ\\df_oksijen_21.csv' olarak kaydedildi.\n",
      "DataFrame başarıyla 'C:\\Users\\duygu\\Desktop\\00-GitHub-Repo\\00-1INTERNSHIP\\INT1_PROJECT\\01_EDA\\DATA INCELEME\\03_OKSİJEN SİSTEMİ\\df_oksijen_21.csv' dosyasından okundu.\n"
     ]
    },
    {
     "data": {
      "text/html": [
       "<div>\n",
       "<style scoped>\n",
       "    .dataframe tbody tr th:only-of-type {\n",
       "        vertical-align: middle;\n",
       "    }\n",
       "\n",
       "    .dataframe tbody tr th {\n",
       "        vertical-align: top;\n",
       "    }\n",
       "\n",
       "    .dataframe thead th {\n",
       "        text-align: right;\n",
       "    }\n",
       "</style>\n",
       "<table border=\"1\" class=\"dataframe\">\n",
       "  <thead>\n",
       "    <tr style=\"text-align: right;\">\n",
       "      <th></th>\n",
       "      <th>DMO-ÖZEL-İHALE-DEMO</th>\n",
       "      <th>SİPARİŞ NO/İŞ EMRİ NO/TEKLİF NO</th>\n",
       "      <th>SİPARİŞ TARİHİ</th>\n",
       "      <th>SİPARİŞİ VEREN/2020</th>\n",
       "      <th>KURULUM YERİ /2018</th>\n",
       "      <th>İL</th>\n",
       "      <th>ÜRÜN</th>\n",
       "      <th>LİTRE</th>\n",
       "      <th>SERİ NO</th>\n",
       "      <th>TESLİM TARİHİ</th>\n",
       "      <th>TESLİM SURESI</th>\n",
       "      <th>SİPARİŞİN DURUMU</th>\n",
       "    </tr>\n",
       "  </thead>\n",
       "  <tbody>\n",
       "    <tr>\n",
       "      <th>0</th>\n",
       "      <td>YURTDIŞI</td>\n",
       "      <td>2021/181</td>\n",
       "      <td>2021-05-26</td>\n",
       "      <td>NHAVA SHEVA</td>\n",
       "      <td>NHAVA SHEVA</td>\n",
       "      <td>HİNDİSTAN</td>\n",
       "      <td>OXY-GOLD 37</td>\n",
       "      <td>NaN</td>\n",
       "      <td>2021/06-001</td>\n",
       "      <td>2021-06-06 00:00:00</td>\n",
       "      <td>NaN</td>\n",
       "      <td>NaN</td>\n",
       "    </tr>\n",
       "    <tr>\n",
       "      <th>1</th>\n",
       "      <td>YURTDIŞI</td>\n",
       "      <td>2021/035</td>\n",
       "      <td>2021-02-19</td>\n",
       "      <td>MME,LLC(MED LOGİSTİCS)</td>\n",
       "      <td>MME,LLC(MED LOGİSTİCS)</td>\n",
       "      <td>UKRAYNA</td>\n",
       "      <td>OXY-GOLD 37</td>\n",
       "      <td>NaN</td>\n",
       "      <td>2021/06-002</td>\n",
       "      <td>2021-03-10 00:00:00</td>\n",
       "      <td>NaN</td>\n",
       "      <td>NaN</td>\n",
       "    </tr>\n",
       "    <tr>\n",
       "      <th>2</th>\n",
       "      <td>YURTDIŞI</td>\n",
       "      <td>2021/036</td>\n",
       "      <td>2021-02-19</td>\n",
       "      <td>MME,LLC(MED LOGİSTİCS)</td>\n",
       "      <td>MME,LLC(MED LOGİSTİCS)</td>\n",
       "      <td>UKRAYNA</td>\n",
       "      <td>OXY-GOLD 15</td>\n",
       "      <td>NaN</td>\n",
       "      <td>2021/06-003</td>\n",
       "      <td>2021-03-10 00:00:00</td>\n",
       "      <td>NaN</td>\n",
       "      <td>NaN</td>\n",
       "    </tr>\n",
       "    <tr>\n",
       "      <th>3</th>\n",
       "      <td>YURTDIŞI</td>\n",
       "      <td>2021/037</td>\n",
       "      <td>2021-02-19</td>\n",
       "      <td>MME,LLC(MED LOGİSTİCS)</td>\n",
       "      <td>MME,LLC(MED LOGİSTİCS)</td>\n",
       "      <td>UKRAYNA</td>\n",
       "      <td>OXY-GOLD 18</td>\n",
       "      <td>NaN</td>\n",
       "      <td>2021/06-004</td>\n",
       "      <td>2021-03-10 00:00:00</td>\n",
       "      <td>NaN</td>\n",
       "      <td>NaN</td>\n",
       "    </tr>\n",
       "    <tr>\n",
       "      <th>4</th>\n",
       "      <td>YURTDIŞI</td>\n",
       "      <td>2021/038</td>\n",
       "      <td>2021-02-19</td>\n",
       "      <td>MME,LLC(MED LOGİSTİCS)</td>\n",
       "      <td>MME,LLC(MED LOGİSTİCS)</td>\n",
       "      <td>UKRAYNA</td>\n",
       "      <td>OXY-GOLD 30</td>\n",
       "      <td>NaN</td>\n",
       "      <td>2021/06-005</td>\n",
       "      <td>2021-03-10 00:00:00</td>\n",
       "      <td>NaN</td>\n",
       "      <td>NaN</td>\n",
       "    </tr>\n",
       "  </tbody>\n",
       "</table>\n",
       "</div>"
      ],
      "text/plain": [
       "  DMO-ÖZEL-İHALE-DEMO SİPARİŞ NO/İŞ EMRİ NO/TEKLİF NO SİPARİŞ TARİHİ  \\\n",
       "0            YURTDIŞI                        2021/181     2021-05-26   \n",
       "1            YURTDIŞI                        2021/035     2021-02-19   \n",
       "2            YURTDIŞI                        2021/036     2021-02-19   \n",
       "3            YURTDIŞI                        2021/037     2021-02-19   \n",
       "4            YURTDIŞI                        2021/038     2021-02-19   \n",
       "\n",
       "      SİPARİŞİ VEREN/2020      KURULUM YERİ /2018         İL         ÜRÜN  \\\n",
       "0             NHAVA SHEVA             NHAVA SHEVA  HİNDİSTAN  OXY-GOLD 37   \n",
       "1  MME,LLC(MED LOGİSTİCS)  MME,LLC(MED LOGİSTİCS)    UKRAYNA  OXY-GOLD 37   \n",
       "2  MME,LLC(MED LOGİSTİCS)  MME,LLC(MED LOGİSTİCS)    UKRAYNA  OXY-GOLD 15   \n",
       "3  MME,LLC(MED LOGİSTİCS)  MME,LLC(MED LOGİSTİCS)    UKRAYNA  OXY-GOLD 18   \n",
       "4  MME,LLC(MED LOGİSTİCS)  MME,LLC(MED LOGİSTİCS)    UKRAYNA  OXY-GOLD 30   \n",
       "\n",
       "   LİTRE      SERİ NO        TESLİM TARİHİ  TESLİM SURESI  SİPARİŞİN DURUMU  \n",
       "0    NaN  2021/06-001  2021-06-06 00:00:00            NaN               NaN  \n",
       "1    NaN  2021/06-002  2021-03-10 00:00:00            NaN               NaN  \n",
       "2    NaN  2021/06-003  2021-03-10 00:00:00            NaN               NaN  \n",
       "3    NaN  2021/06-004  2021-03-10 00:00:00            NaN               NaN  \n",
       "4    NaN  2021/06-005  2021-03-10 00:00:00            NaN               NaN  "
      ]
     },
     "execution_count": 11,
     "metadata": {},
     "output_type": "execute_result"
    }
   ],
   "source": [
    "# df olarak save and Load:\n",
    "\n",
    "df_oksijen_21 = utils.save_and_load_csv('df_oksijen_21.csv', notebook_dir) \n",
    "df_oksijen_21.head()"
   ]
  },
  {
   "cell_type": "markdown",
   "id": "7aaddb28",
   "metadata": {},
   "source": [
    "## 2022 "
   ]
  },
  {
   "cell_type": "code",
   "execution_count": 25,
   "id": "135e65fa",
   "metadata": {
    "ExecuteTime": {
     "end_time": "2024-10-24T09:54:45.843329Z",
     "start_time": "2024-10-24T09:54:26.829021Z"
    }
   },
   "outputs": [
    {
     "name": "stdin",
     "output_type": "stream",
     "text": [
      "Lütfen Dataset dosya yolunu girin (örnek: C:\\Users\\ASUS\\Desktop\\INT_1_PROJECT\\00_Data\\01_Satis_Uretim):  C:\\Users\\duygu\\Desktop\\00-GitHub-Repo\\00-1INTERNSHIP\\INT1_PROJECT\\00_Data\\01_Satis_Uretim\n",
      "Lütfen Excel dosyasının adını girin (örnek: 2018-Uretim_Takip.xlsx):  2022-Uretim_Takip.xlsx\n"
     ]
    },
    {
     "name": "stdout",
     "output_type": "stream",
     "text": [
      "Dosyadaki sayfa adları: ['2022-01 OTOKLAV', '2022-02 AMELİYAT MASASI', '2022-04 HİDROJEN PEROSİT-PLAZMA', '2022-05 YIKAMA', '2022-06 OKSİJEN', '2022-07 KARTUŞ', '2022-08 REVERSE OSMOS']\n"
     ]
    },
    {
     "name": "stdin",
     "output_type": "stream",
     "text": [
      "Lütfen okumak istediğiniz sayfanın adını girin:  2022-06 OKSİJEN\n"
     ]
    },
    {
     "name": "stdout",
     "output_type": "stream",
     "text": [
      "'df_otoklav_2022' olarak kaydedildi.\n"
     ]
    },
    {
     "data": {
      "text/html": [
       "<div>\n",
       "<style scoped>\n",
       "    .dataframe tbody tr th:only-of-type {\n",
       "        vertical-align: middle;\n",
       "    }\n",
       "\n",
       "    .dataframe tbody tr th {\n",
       "        vertical-align: top;\n",
       "    }\n",
       "\n",
       "    .dataframe thead th {\n",
       "        text-align: right;\n",
       "    }\n",
       "</style>\n",
       "<table border=\"1\" class=\"dataframe\">\n",
       "  <thead>\n",
       "    <tr style=\"text-align: right;\">\n",
       "      <th></th>\n",
       "      <th>DMO-ÖZEL-İHALE-DEMO</th>\n",
       "      <th>SİPARİŞ NO/İŞ EMRİ NO/TEKLİF NO</th>\n",
       "      <th>SİPARİŞ TARİHİ</th>\n",
       "      <th>SİPARİŞİ VEREN/2022</th>\n",
       "      <th>KURULUM YERİ /2022</th>\n",
       "      <th>İL</th>\n",
       "      <th>ÜRÜN MODEL</th>\n",
       "      <th>ÜRÜN</th>\n",
       "      <th>LİTRE</th>\n",
       "      <th>SERİ NO</th>\n",
       "      <th>TESLİM \\nSÜRESİ</th>\n",
       "      <th>TESLİM TARİHİ</th>\n",
       "      <th>İRSALİYE TARİHİ</th>\n",
       "    </tr>\n",
       "  </thead>\n",
       "  <tbody>\n",
       "    <tr>\n",
       "      <th>0</th>\n",
       "      <td>YURTDIŞI</td>\n",
       "      <td>2022/153</td>\n",
       "      <td>2022-02-02</td>\n",
       "      <td>DUTCH</td>\n",
       "      <td>LİBERYA</td>\n",
       "      <td>LİBERYA</td>\n",
       "      <td>GOLDBERG 45 V</td>\n",
       "      <td>45 OKSİJEN ÜRETİM SİSTEMİ</td>\n",
       "      <td>NaN</td>\n",
       "      <td>2022/06-003</td>\n",
       "      <td>206</td>\n",
       "      <td>2022-08-27</td>\n",
       "      <td>NaN</td>\n",
       "    </tr>\n",
       "    <tr>\n",
       "      <th>1</th>\n",
       "      <td>ÖZEL</td>\n",
       "      <td>2022/160</td>\n",
       "      <td>2022-02-02</td>\n",
       "      <td>BİOKAN SAĞLIK ÜRÜNLERİ SAN. VE TİC. A.Ş.</td>\n",
       "      <td>BİOKAN SAĞLIK ÜRÜNLERİ SAN. VE TİC.A.Ş.</td>\n",
       "      <td>KAYSERİ</td>\n",
       "      <td>STR 22 V</td>\n",
       "      <td>22 OKSİJEN ÜRETİM SİSTEMİ</td>\n",
       "      <td>NaN</td>\n",
       "      <td>2022/06-002</td>\n",
       "      <td>176</td>\n",
       "      <td>2022-07-28</td>\n",
       "      <td>NaN</td>\n",
       "    </tr>\n",
       "    <tr>\n",
       "      <th>2</th>\n",
       "      <td>YURTDIŞI</td>\n",
       "      <td>2022/364</td>\n",
       "      <td>2022-02-02</td>\n",
       "      <td>IRAK</td>\n",
       "      <td>IRAK</td>\n",
       "      <td>IRAK</td>\n",
       "      <td>GOLDBERG 22 V</td>\n",
       "      <td>22 OKSİJEN ÜRETİM SİSTEMİ</td>\n",
       "      <td>NaN</td>\n",
       "      <td>2022/06-006</td>\n",
       "      <td>267</td>\n",
       "      <td>2022-10-27</td>\n",
       "      <td>NaN</td>\n",
       "    </tr>\n",
       "  </tbody>\n",
       "</table>\n",
       "</div>"
      ],
      "text/plain": [
       "  DMO-ÖZEL-İHALE-DEMO SİPARİŞ NO/İŞ EMRİ NO/TEKLİF NO SİPARİŞ TARİHİ  \\\n",
       "0            YURTDIŞI                        2022/153     2022-02-02   \n",
       "1                ÖZEL                        2022/160     2022-02-02   \n",
       "2            YURTDIŞI                        2022/364     2022-02-02   \n",
       "\n",
       "                        SİPARİŞİ VEREN/2022  \\\n",
       "0                                     DUTCH   \n",
       "1  BİOKAN SAĞLIK ÜRÜNLERİ SAN. VE TİC. A.Ş.   \n",
       "2                                      IRAK   \n",
       "\n",
       "                        KURULUM YERİ /2022       İL     ÜRÜN MODEL  \\\n",
       "0                                  LİBERYA  LİBERYA  GOLDBERG 45 V   \n",
       "1  BİOKAN SAĞLIK ÜRÜNLERİ SAN. VE TİC.A.Ş.  KAYSERİ       STR 22 V   \n",
       "2                                     IRAK     IRAK  GOLDBERG 22 V   \n",
       "\n",
       "                        ÜRÜN  LİTRE      SERİ NO  TESLİM \\nSÜRESİ  \\\n",
       "0  45 OKSİJEN ÜRETİM SİSTEMİ    NaN  2022/06-003              206   \n",
       "1  22 OKSİJEN ÜRETİM SİSTEMİ    NaN  2022/06-002              176   \n",
       "2  22 OKSİJEN ÜRETİM SİSTEMİ    NaN  2022/06-006              267   \n",
       "\n",
       "  TESLİM TARİHİ  İRSALİYE TARİHİ  \n",
       "0    2022-08-27              NaN  \n",
       "1    2022-07-28              NaN  \n",
       "2    2022-10-27              NaN  "
      ]
     },
     "execution_count": 25,
     "metadata": {},
     "output_type": "execute_result"
    }
   ],
   "source": [
    "# Excel dosyasini read and df\n",
    "\n",
    "df_oksijen_22 = utils.read_excel_page()\n",
    "df_oksijen_22.head()"
   ]
  },
  {
   "cell_type": "code",
   "execution_count": 14,
   "id": "5d9b2dab",
   "metadata": {
    "ExecuteTime": {
     "end_time": "2024-10-24T09:55:11.555369Z",
     "start_time": "2024-10-24T09:55:11.529741Z"
    }
   },
   "outputs": [
    {
     "name": "stdout",
     "output_type": "stream",
     "text": [
      "DataFrame başarıyla 'C:\\Users\\duygu\\Desktop\\00-GitHub-Repo\\00-1INTERNSHIP\\INT1_PROJECT\\01_EDA\\DATA INCELEME\\03_OKSİJEN SİSTEMİ\\df_oksijen_22.csv' olarak kaydedildi.\n",
      "DataFrame başarıyla 'C:\\Users\\duygu\\Desktop\\00-GitHub-Repo\\00-1INTERNSHIP\\INT1_PROJECT\\01_EDA\\DATA INCELEME\\03_OKSİJEN SİSTEMİ\\df_oksijen_22.csv' dosyasından okundu.\n"
     ]
    },
    {
     "data": {
      "text/html": [
       "<div>\n",
       "<style scoped>\n",
       "    .dataframe tbody tr th:only-of-type {\n",
       "        vertical-align: middle;\n",
       "    }\n",
       "\n",
       "    .dataframe tbody tr th {\n",
       "        vertical-align: top;\n",
       "    }\n",
       "\n",
       "    .dataframe thead th {\n",
       "        text-align: right;\n",
       "    }\n",
       "</style>\n",
       "<table border=\"1\" class=\"dataframe\">\n",
       "  <thead>\n",
       "    <tr style=\"text-align: right;\">\n",
       "      <th></th>\n",
       "      <th>DMO-ÖZEL-İHALE-DEMO</th>\n",
       "      <th>SİPARİŞ NO/İŞ EMRİ NO/TEKLİF NO</th>\n",
       "      <th>SİPARİŞ TARİHİ</th>\n",
       "      <th>SİPARİŞİ VEREN/2022</th>\n",
       "      <th>KURULUM YERİ /2022</th>\n",
       "      <th>İL</th>\n",
       "      <th>ÜRÜN MODEL</th>\n",
       "      <th>ÜRÜN</th>\n",
       "      <th>LİTRE</th>\n",
       "      <th>SERİ NO</th>\n",
       "      <th>TESLİM \\nSÜRESİ</th>\n",
       "      <th>TESLİM TARİHİ</th>\n",
       "      <th>İRSALİYE TARİHİ</th>\n",
       "    </tr>\n",
       "  </thead>\n",
       "  <tbody>\n",
       "    <tr>\n",
       "      <th>0</th>\n",
       "      <td>YURTDIŞI</td>\n",
       "      <td>2022/153</td>\n",
       "      <td>2022-02-02</td>\n",
       "      <td>DUTCH</td>\n",
       "      <td>LİBERYA</td>\n",
       "      <td>LİBERYA</td>\n",
       "      <td>GOLDBERG 45 V</td>\n",
       "      <td>45 OKSİJEN ÜRETİM SİSTEMİ</td>\n",
       "      <td>NaN</td>\n",
       "      <td>2022/06-003</td>\n",
       "      <td>206</td>\n",
       "      <td>2022-08-27</td>\n",
       "      <td>NaN</td>\n",
       "    </tr>\n",
       "    <tr>\n",
       "      <th>1</th>\n",
       "      <td>ÖZEL</td>\n",
       "      <td>2022/160</td>\n",
       "      <td>2022-02-02</td>\n",
       "      <td>BİOKAN SAĞLIK ÜRÜNLERİ SAN. VE TİC. A.Ş.</td>\n",
       "      <td>BİOKAN SAĞLIK ÜRÜNLERİ SAN. VE TİC.A.Ş.</td>\n",
       "      <td>KAYSERİ</td>\n",
       "      <td>STR 22 V</td>\n",
       "      <td>22 OKSİJEN ÜRETİM SİSTEMİ</td>\n",
       "      <td>NaN</td>\n",
       "      <td>2022/06-002</td>\n",
       "      <td>176</td>\n",
       "      <td>2022-07-28</td>\n",
       "      <td>NaN</td>\n",
       "    </tr>\n",
       "    <tr>\n",
       "      <th>2</th>\n",
       "      <td>YURTDIŞI</td>\n",
       "      <td>2022/364</td>\n",
       "      <td>2022-02-02</td>\n",
       "      <td>IRAK</td>\n",
       "      <td>IRAK</td>\n",
       "      <td>IRAK</td>\n",
       "      <td>GOLDBERG 22 V</td>\n",
       "      <td>22 OKSİJEN ÜRETİM SİSTEMİ</td>\n",
       "      <td>NaN</td>\n",
       "      <td>2022/06-006</td>\n",
       "      <td>267</td>\n",
       "      <td>2022-10-27</td>\n",
       "      <td>NaN</td>\n",
       "    </tr>\n",
       "  </tbody>\n",
       "</table>\n",
       "</div>"
      ],
      "text/plain": [
       "  DMO-ÖZEL-İHALE-DEMO SİPARİŞ NO/İŞ EMRİ NO/TEKLİF NO SİPARİŞ TARİHİ  \\\n",
       "0            YURTDIŞI                        2022/153     2022-02-02   \n",
       "1                ÖZEL                        2022/160     2022-02-02   \n",
       "2            YURTDIŞI                        2022/364     2022-02-02   \n",
       "\n",
       "                        SİPARİŞİ VEREN/2022  \\\n",
       "0                                     DUTCH   \n",
       "1  BİOKAN SAĞLIK ÜRÜNLERİ SAN. VE TİC. A.Ş.   \n",
       "2                                      IRAK   \n",
       "\n",
       "                        KURULUM YERİ /2022       İL     ÜRÜN MODEL  \\\n",
       "0                                  LİBERYA  LİBERYA  GOLDBERG 45 V   \n",
       "1  BİOKAN SAĞLIK ÜRÜNLERİ SAN. VE TİC.A.Ş.  KAYSERİ       STR 22 V   \n",
       "2                                     IRAK     IRAK  GOLDBERG 22 V   \n",
       "\n",
       "                        ÜRÜN  LİTRE      SERİ NO  TESLİM \\nSÜRESİ  \\\n",
       "0  45 OKSİJEN ÜRETİM SİSTEMİ    NaN  2022/06-003              206   \n",
       "1  22 OKSİJEN ÜRETİM SİSTEMİ    NaN  2022/06-002              176   \n",
       "2  22 OKSİJEN ÜRETİM SİSTEMİ    NaN  2022/06-006              267   \n",
       "\n",
       "  TESLİM TARİHİ  İRSALİYE TARİHİ  \n",
       "0    2022-08-27              NaN  \n",
       "1    2022-07-28              NaN  \n",
       "2    2022-10-27              NaN  "
      ]
     },
     "execution_count": 14,
     "metadata": {},
     "output_type": "execute_result"
    }
   ],
   "source": [
    "# # df olarak save and Load:\n",
    "\n",
    "df_oksijen_22 = utils.save_and_load_csv('df_oksijen_22.csv', notebook_dir) #kayıt edeceğiniz adı yazın.\n",
    "df_oksijen_22.head()"
   ]
  },
  {
   "cell_type": "markdown",
   "id": "fa53a215",
   "metadata": {},
   "source": [
    "## 2023 "
   ]
  },
  {
   "cell_type": "code",
   "execution_count": 16,
   "id": "9b5d2989",
   "metadata": {
    "ExecuteTime": {
     "end_time": "2024-10-24T09:55:56.521908Z",
     "start_time": "2024-10-24T09:55:34.431452Z"
    }
   },
   "outputs": [
    {
     "data": {
      "text/html": [
       "<div>\n",
       "<style scoped>\n",
       "    .dataframe tbody tr th:only-of-type {\n",
       "        vertical-align: middle;\n",
       "    }\n",
       "\n",
       "    .dataframe tbody tr th {\n",
       "        vertical-align: top;\n",
       "    }\n",
       "\n",
       "    .dataframe thead th {\n",
       "        text-align: right;\n",
       "    }\n",
       "</style>\n",
       "<table border=\"1\" class=\"dataframe\">\n",
       "  <thead>\n",
       "    <tr style=\"text-align: right;\">\n",
       "      <th></th>\n",
       "      <th>DMO-ÖZEL-İHALE-DEMO</th>\n",
       "      <th>SİPARİŞ NO/İŞ EMRİ NO/TEKLİF NO</th>\n",
       "      <th>SİPARİŞ TARİHİ</th>\n",
       "      <th>SİPARİŞİ VEREN/2023</th>\n",
       "      <th>KURULUM YERİ /2023</th>\n",
       "      <th>İL</th>\n",
       "      <th>ÜRÜN MODEL</th>\n",
       "      <th>ÜRÜN</th>\n",
       "      <th>LİTRE</th>\n",
       "      <th>SERİ NO</th>\n",
       "      <th>TESLİM \\nSÜRESİ</th>\n",
       "      <th>TESLİM TARİHİ</th>\n",
       "      <th>İRSALİYE TARİHİ</th>\n",
       "    </tr>\n",
       "  </thead>\n",
       "  <tbody>\n",
       "    <tr>\n",
       "      <th>0</th>\n",
       "      <td>YURTDIŞI</td>\n",
       "      <td>2023/023</td>\n",
       "      <td>2023-01-02</td>\n",
       "      <td>BANGLADEŞ</td>\n",
       "      <td>BANGLADEŞ</td>\n",
       "      <td>BANGLADEŞ</td>\n",
       "      <td>OXY- GOLD 45</td>\n",
       "      <td>OKSİJEN ÜRETİM VE DEPOLAMA SİSTEMİ -26,77 m3/h...</td>\n",
       "      <td>NaN</td>\n",
       "      <td>2023/06-001</td>\n",
       "      <td>NaN</td>\n",
       "      <td>2023-05-30</td>\n",
       "      <td>NaN</td>\n",
       "    </tr>\n",
       "    <tr>\n",
       "      <th>1</th>\n",
       "      <td>YURTDIŞI</td>\n",
       "      <td>2023/024</td>\n",
       "      <td>2023-01-02</td>\n",
       "      <td>BANGLADEŞ</td>\n",
       "      <td>BANGLADEŞ</td>\n",
       "      <td>BANGLADEŞ</td>\n",
       "      <td>OXY- GOLD 45</td>\n",
       "      <td>OKSİJEN ÜRETİM VE DEPOLAMA SİSTEMİ -26,77 m3/h...</td>\n",
       "      <td>NaN</td>\n",
       "      <td>2023/06-002</td>\n",
       "      <td>NaN</td>\n",
       "      <td>2023-05-30</td>\n",
       "      <td>NaN</td>\n",
       "    </tr>\n",
       "    <tr>\n",
       "      <th>2</th>\n",
       "      <td>YURTDIŞI</td>\n",
       "      <td>2023/025</td>\n",
       "      <td>2023-01-02</td>\n",
       "      <td>BANGLADEŞ</td>\n",
       "      <td>BANGLADEŞ</td>\n",
       "      <td>BANGLADEŞ</td>\n",
       "      <td>OXY- GOLD 45</td>\n",
       "      <td>OKSİJEN ÜRETİM VE DEPOLAMA SİSTEMİ -26,77 m3/h...</td>\n",
       "      <td>NaN</td>\n",
       "      <td>2023/06-003</td>\n",
       "      <td>NaN</td>\n",
       "      <td>2023-05-30</td>\n",
       "      <td>NaN</td>\n",
       "    </tr>\n",
       "    <tr>\n",
       "      <th>3</th>\n",
       "      <td>YURTDIŞI</td>\n",
       "      <td>2023/026</td>\n",
       "      <td>2023-01-02</td>\n",
       "      <td>BANGLADEŞ</td>\n",
       "      <td>BANGLADEŞ</td>\n",
       "      <td>BANGLADEŞ</td>\n",
       "      <td>OXY- GOLD 45</td>\n",
       "      <td>OKSİJEN ÜRETİM VE DEPOLAMA SİSTEMİ -26,77 m3/h...</td>\n",
       "      <td>NaN</td>\n",
       "      <td>2023/06-004</td>\n",
       "      <td>NaN</td>\n",
       "      <td>2023-05-30</td>\n",
       "      <td>NaN</td>\n",
       "    </tr>\n",
       "    <tr>\n",
       "      <th>4</th>\n",
       "      <td>YURTDIŞI</td>\n",
       "      <td>2023/027</td>\n",
       "      <td>2023-01-02</td>\n",
       "      <td>BANGLADEŞ</td>\n",
       "      <td>BANGLADEŞ</td>\n",
       "      <td>BANGLADEŞ</td>\n",
       "      <td>OXY- GOLD 75</td>\n",
       "      <td>OKSİJEN ÜRETİM VE DEPOLAMA SİSTEMİ -47 m3/hr 7...</td>\n",
       "      <td>NaN</td>\n",
       "      <td>2023/06-005</td>\n",
       "      <td>NaN</td>\n",
       "      <td>2023-05-30</td>\n",
       "      <td>NaN</td>\n",
       "    </tr>\n",
       "  </tbody>\n",
       "</table>\n",
       "</div>"
      ],
      "text/plain": [
       "  DMO-ÖZEL-İHALE-DEMO SİPARİŞ NO/İŞ EMRİ NO/TEKLİF NO SİPARİŞ TARİHİ  \\\n",
       "0            YURTDIŞI                        2023/023     2023-01-02   \n",
       "1            YURTDIŞI                        2023/024     2023-01-02   \n",
       "2            YURTDIŞI                        2023/025     2023-01-02   \n",
       "3            YURTDIŞI                        2023/026     2023-01-02   \n",
       "4            YURTDIŞI                        2023/027     2023-01-02   \n",
       "\n",
       "  SİPARİŞİ VEREN/2023 KURULUM YERİ /2023         İL    ÜRÜN MODEL  \\\n",
       "0           BANGLADEŞ          BANGLADEŞ  BANGLADEŞ  OXY- GOLD 45   \n",
       "1           BANGLADEŞ          BANGLADEŞ  BANGLADEŞ  OXY- GOLD 45   \n",
       "2           BANGLADEŞ          BANGLADEŞ  BANGLADEŞ  OXY- GOLD 45   \n",
       "3           BANGLADEŞ          BANGLADEŞ  BANGLADEŞ  OXY- GOLD 45   \n",
       "4           BANGLADEŞ          BANGLADEŞ  BANGLADEŞ  OXY- GOLD 75   \n",
       "\n",
       "                                                ÜRÜN  LİTRE      SERİ NO  \\\n",
       "0  OKSİJEN ÜRETİM VE DEPOLAMA SİSTEMİ -26,77 m3/h...    NaN  2023/06-001   \n",
       "1  OKSİJEN ÜRETİM VE DEPOLAMA SİSTEMİ -26,77 m3/h...    NaN  2023/06-002   \n",
       "2  OKSİJEN ÜRETİM VE DEPOLAMA SİSTEMİ -26,77 m3/h...    NaN  2023/06-003   \n",
       "3  OKSİJEN ÜRETİM VE DEPOLAMA SİSTEMİ -26,77 m3/h...    NaN  2023/06-004   \n",
       "4  OKSİJEN ÜRETİM VE DEPOLAMA SİSTEMİ -47 m3/hr 7...    NaN  2023/06-005   \n",
       "\n",
       "   TESLİM \\nSÜRESİ TESLİM TARİHİ  İRSALİYE TARİHİ  \n",
       "0              NaN    2023-05-30              NaN  \n",
       "1              NaN    2023-05-30              NaN  \n",
       "2              NaN    2023-05-30              NaN  \n",
       "3              NaN    2023-05-30              NaN  \n",
       "4              NaN    2023-05-30              NaN  "
      ]
     },
     "execution_count": 16,
     "metadata": {},
     "output_type": "execute_result"
    }
   ],
   "source": [
    "# Excel Dosyasini okuma:\n",
    "\n",
    "df_oksijen_23 = utils.read_excel_page()\n",
    "df_oksijen_23.head()"
   ]
  },
  {
   "cell_type": "code",
   "execution_count": 26,
   "id": "0f9af592",
   "metadata": {
    "ExecuteTime": {
     "end_time": "2024-10-24T09:56:38.933887Z",
     "start_time": "2024-10-24T09:56:38.910355Z"
    }
   },
   "outputs": [
    {
     "name": "stdout",
     "output_type": "stream",
     "text": [
      "DataFrame başarıyla 'C:\\Users\\duygu\\Desktop\\00-GitHub-Repo\\00-1INTERNSHIP\\INT1_PROJECT\\01_EDA\\DATA INCELEME\\03_OKSİJEN SİSTEMİ\\df_oksijen_23.csv' olarak kaydedildi.\n",
      "DataFrame başarıyla 'C:\\Users\\duygu\\Desktop\\00-GitHub-Repo\\00-1INTERNSHIP\\INT1_PROJECT\\01_EDA\\DATA INCELEME\\03_OKSİJEN SİSTEMİ\\df_oksijen_23.csv' dosyasından okundu.\n"
     ]
    },
    {
     "data": {
      "text/html": [
       "<div>\n",
       "<style scoped>\n",
       "    .dataframe tbody tr th:only-of-type {\n",
       "        vertical-align: middle;\n",
       "    }\n",
       "\n",
       "    .dataframe tbody tr th {\n",
       "        vertical-align: top;\n",
       "    }\n",
       "\n",
       "    .dataframe thead th {\n",
       "        text-align: right;\n",
       "    }\n",
       "</style>\n",
       "<table border=\"1\" class=\"dataframe\">\n",
       "  <thead>\n",
       "    <tr style=\"text-align: right;\">\n",
       "      <th></th>\n",
       "      <th>DMO-ÖZEL-İHALE-DEMO</th>\n",
       "      <th>SİPARİŞ NO/İŞ EMRİ NO/TEKLİF NO</th>\n",
       "      <th>SİPARİŞ TARİHİ</th>\n",
       "      <th>SİPARİŞİ VEREN/2022</th>\n",
       "      <th>KURULUM YERİ /2022</th>\n",
       "      <th>İL</th>\n",
       "      <th>ÜRÜN MODEL</th>\n",
       "      <th>ÜRÜN</th>\n",
       "      <th>LİTRE</th>\n",
       "      <th>SERİ NO</th>\n",
       "      <th>TESLİM \\nSÜRESİ</th>\n",
       "      <th>TESLİM TARİHİ</th>\n",
       "      <th>İRSALİYE TARİHİ</th>\n",
       "    </tr>\n",
       "  </thead>\n",
       "  <tbody>\n",
       "    <tr>\n",
       "      <th>0</th>\n",
       "      <td>YURTDIŞI</td>\n",
       "      <td>2022/153</td>\n",
       "      <td>2022-02-02</td>\n",
       "      <td>DUTCH</td>\n",
       "      <td>LİBERYA</td>\n",
       "      <td>LİBERYA</td>\n",
       "      <td>GOLDBERG 45 V</td>\n",
       "      <td>45 OKSİJEN ÜRETİM SİSTEMİ</td>\n",
       "      <td>NaN</td>\n",
       "      <td>2022/06-003</td>\n",
       "      <td>206</td>\n",
       "      <td>2022-08-27</td>\n",
       "      <td>NaN</td>\n",
       "    </tr>\n",
       "    <tr>\n",
       "      <th>1</th>\n",
       "      <td>ÖZEL</td>\n",
       "      <td>2022/160</td>\n",
       "      <td>2022-02-02</td>\n",
       "      <td>BİOKAN SAĞLIK ÜRÜNLERİ SAN. VE TİC. A.Ş.</td>\n",
       "      <td>BİOKAN SAĞLIK ÜRÜNLERİ SAN. VE TİC.A.Ş.</td>\n",
       "      <td>KAYSERİ</td>\n",
       "      <td>STR 22 V</td>\n",
       "      <td>22 OKSİJEN ÜRETİM SİSTEMİ</td>\n",
       "      <td>NaN</td>\n",
       "      <td>2022/06-002</td>\n",
       "      <td>176</td>\n",
       "      <td>2022-07-28</td>\n",
       "      <td>NaN</td>\n",
       "    </tr>\n",
       "    <tr>\n",
       "      <th>2</th>\n",
       "      <td>YURTDIŞI</td>\n",
       "      <td>2022/364</td>\n",
       "      <td>2022-02-02</td>\n",
       "      <td>IRAK</td>\n",
       "      <td>IRAK</td>\n",
       "      <td>IRAK</td>\n",
       "      <td>GOLDBERG 22 V</td>\n",
       "      <td>22 OKSİJEN ÜRETİM SİSTEMİ</td>\n",
       "      <td>NaN</td>\n",
       "      <td>2022/06-006</td>\n",
       "      <td>267</td>\n",
       "      <td>2022-10-27</td>\n",
       "      <td>NaN</td>\n",
       "    </tr>\n",
       "  </tbody>\n",
       "</table>\n",
       "</div>"
      ],
      "text/plain": [
       "  DMO-ÖZEL-İHALE-DEMO SİPARİŞ NO/İŞ EMRİ NO/TEKLİF NO SİPARİŞ TARİHİ  \\\n",
       "0            YURTDIŞI                        2022/153     2022-02-02   \n",
       "1                ÖZEL                        2022/160     2022-02-02   \n",
       "2            YURTDIŞI                        2022/364     2022-02-02   \n",
       "\n",
       "                        SİPARİŞİ VEREN/2022  \\\n",
       "0                                     DUTCH   \n",
       "1  BİOKAN SAĞLIK ÜRÜNLERİ SAN. VE TİC. A.Ş.   \n",
       "2                                      IRAK   \n",
       "\n",
       "                        KURULUM YERİ /2022       İL     ÜRÜN MODEL  \\\n",
       "0                                  LİBERYA  LİBERYA  GOLDBERG 45 V   \n",
       "1  BİOKAN SAĞLIK ÜRÜNLERİ SAN. VE TİC.A.Ş.  KAYSERİ       STR 22 V   \n",
       "2                                     IRAK     IRAK  GOLDBERG 22 V   \n",
       "\n",
       "                        ÜRÜN  LİTRE      SERİ NO  TESLİM \\nSÜRESİ  \\\n",
       "0  45 OKSİJEN ÜRETİM SİSTEMİ    NaN  2022/06-003              206   \n",
       "1  22 OKSİJEN ÜRETİM SİSTEMİ    NaN  2022/06-002              176   \n",
       "2  22 OKSİJEN ÜRETİM SİSTEMİ    NaN  2022/06-006              267   \n",
       "\n",
       "  TESLİM TARİHİ  İRSALİYE TARİHİ  \n",
       "0    2022-08-27              NaN  \n",
       "1    2022-07-28              NaN  \n",
       "2    2022-10-27              NaN  "
      ]
     },
     "execution_count": 26,
     "metadata": {},
     "output_type": "execute_result"
    }
   ],
   "source": [
    "# df olarak save and Load:\n",
    "\n",
    "df_oksijen_23 = utils.save_and_load_csv('df_oksijen_23.csv', notebook_dir)\n",
    "df_oksijen_23.head()"
   ]
  },
  {
   "cell_type": "markdown",
   "id": "10f0c8c8",
   "metadata": {},
   "source": [
    "## 2023 Otoklav Endustriyel"
   ]
  },
  {
   "cell_type": "code",
   "execution_count": 19,
   "id": "60404e91",
   "metadata": {
    "ExecuteTime": {
     "end_time": "2024-10-24T10:03:03.967018Z",
     "start_time": "2024-10-24T10:02:45.974377Z"
    },
    "run_control": {
     "marked": true
    }
   },
   "outputs": [
    {
     "name": "stdin",
     "output_type": "stream",
     "text": [
      "Lütfen Dataset dosya yolunu girin (örnek: C:\\Users\\ASUS\\Desktop\\INT_1_PROJECT\\00_Data\\01_Satis_Uretim):  C:\\Users\\duygu\\Desktop\\00-GitHub-Repo\\00-1INTERNSHIP\\INT1_PROJECT\\00_Data\\01_Satis_Uretim\n",
      "Lütfen Excel dosyasının adını girin (örnek: 2018-Uretim_Takip.xlsx):  2023-Uretim_Takip-Endutriyel.xlsx\n"
     ]
    },
    {
     "name": "stdout",
     "output_type": "stream",
     "text": [
      "Dosyadaki sayfa adları: ['2023-01 OTOKLAV', '2023-02 AMELİYAT MASASI', '2023-04 HİDROJEN PEROSİT-PLAZMA', '2023-05 YIKAMA', '2023-06 OKSİJEN', '2023-07 KARTUŞ', '2023-08 REVERSE OSMOS']\n"
     ]
    },
    {
     "name": "stdin",
     "output_type": "stream",
     "text": [
      "Lütfen okumak istediğiniz sayfanın adını girin:  2023-06 OKSİJEN\n"
     ]
    },
    {
     "name": "stdout",
     "output_type": "stream",
     "text": [
      "'df_otoklav_2023' olarak kaydedildi.\n"
     ]
    },
    {
     "data": {
      "text/html": [
       "<div>\n",
       "<style scoped>\n",
       "    .dataframe tbody tr th:only-of-type {\n",
       "        vertical-align: middle;\n",
       "    }\n",
       "\n",
       "    .dataframe tbody tr th {\n",
       "        vertical-align: top;\n",
       "    }\n",
       "\n",
       "    .dataframe thead th {\n",
       "        text-align: right;\n",
       "    }\n",
       "</style>\n",
       "<table border=\"1\" class=\"dataframe\">\n",
       "  <thead>\n",
       "    <tr style=\"text-align: right;\">\n",
       "      <th></th>\n",
       "      <th>DMO-ÖZEL-İHALE-DEMO</th>\n",
       "      <th>SİPARİŞ NO/İŞ EMRİ NO/TEKLİF NO</th>\n",
       "      <th>SİPARİŞ TARİHİ</th>\n",
       "      <th>SİPARİŞİ VEREN/2023</th>\n",
       "      <th>KURULUM YERİ /2023</th>\n",
       "      <th>İL</th>\n",
       "      <th>ÜRÜN MODEL</th>\n",
       "      <th>ÜRÜN</th>\n",
       "      <th>LİTRE</th>\n",
       "      <th>SERİ NO</th>\n",
       "      <th>TESLİM \\nSÜRESİ</th>\n",
       "      <th>TESLİM TARİHİ</th>\n",
       "      <th>İRSALİYE TARİHİ</th>\n",
       "    </tr>\n",
       "  </thead>\n",
       "  <tbody>\n",
       "    <tr>\n",
       "      <th>0</th>\n",
       "      <td>YURTDIŞI</td>\n",
       "      <td>2023/023</td>\n",
       "      <td>2023-01-02</td>\n",
       "      <td>BANGLADEŞ</td>\n",
       "      <td>BANGLADEŞ</td>\n",
       "      <td>BANGLADEŞ</td>\n",
       "      <td>OXY- GOLD 45</td>\n",
       "      <td>OKSİJEN ÜRETİM VE DEPOLAMA SİSTEMİ -26,77 m3/h...</td>\n",
       "      <td>NaN</td>\n",
       "      <td>2023/06-001</td>\n",
       "      <td>60 gün</td>\n",
       "      <td>2023-05-30</td>\n",
       "      <td>NaN</td>\n",
       "    </tr>\n",
       "    <tr>\n",
       "      <th>1</th>\n",
       "      <td>YURTDIŞI</td>\n",
       "      <td>2023/024</td>\n",
       "      <td>2023-01-02</td>\n",
       "      <td>BANGLADEŞ</td>\n",
       "      <td>BANGLADEŞ</td>\n",
       "      <td>BANGLADEŞ</td>\n",
       "      <td>OXY- GOLD 45</td>\n",
       "      <td>OKSİJEN ÜRETİM VE DEPOLAMA SİSTEMİ -26,77 m3/h...</td>\n",
       "      <td>NaN</td>\n",
       "      <td>2023/06-002</td>\n",
       "      <td>60 gün</td>\n",
       "      <td>2023-05-30</td>\n",
       "      <td>NaN</td>\n",
       "    </tr>\n",
       "    <tr>\n",
       "      <th>2</th>\n",
       "      <td>YURTDIŞI</td>\n",
       "      <td>2023/025</td>\n",
       "      <td>2023-01-02</td>\n",
       "      <td>BANGLADEŞ</td>\n",
       "      <td>BANGLADEŞ</td>\n",
       "      <td>BANGLADEŞ</td>\n",
       "      <td>OXY- GOLD 45</td>\n",
       "      <td>OKSİJEN ÜRETİM VE DEPOLAMA SİSTEMİ -26,77 m3/h...</td>\n",
       "      <td>NaN</td>\n",
       "      <td>2023/06-003</td>\n",
       "      <td>60 gün</td>\n",
       "      <td>2023-05-30</td>\n",
       "      <td>NaN</td>\n",
       "    </tr>\n",
       "    <tr>\n",
       "      <th>3</th>\n",
       "      <td>YURTDIŞI</td>\n",
       "      <td>2023/026</td>\n",
       "      <td>2023-01-02</td>\n",
       "      <td>BANGLADEŞ</td>\n",
       "      <td>BANGLADEŞ</td>\n",
       "      <td>BANGLADEŞ</td>\n",
       "      <td>OXY- GOLD 45</td>\n",
       "      <td>OKSİJEN ÜRETİM VE DEPOLAMA SİSTEMİ -26,77 m3/h...</td>\n",
       "      <td>NaN</td>\n",
       "      <td>2023/06-004</td>\n",
       "      <td>60 gün</td>\n",
       "      <td>2023-05-30</td>\n",
       "      <td>NaN</td>\n",
       "    </tr>\n",
       "    <tr>\n",
       "      <th>4</th>\n",
       "      <td>YURTDIŞI</td>\n",
       "      <td>2023/027</td>\n",
       "      <td>2023-01-02</td>\n",
       "      <td>BANGLADEŞ</td>\n",
       "      <td>BANGLADEŞ</td>\n",
       "      <td>BANGLADEŞ</td>\n",
       "      <td>OXY- GOLD 75</td>\n",
       "      <td>OKSİJEN ÜRETİM VE DEPOLAMA SİSTEMİ -47 m3/hr 7...</td>\n",
       "      <td>NaN</td>\n",
       "      <td>2023/06-005</td>\n",
       "      <td>60 gün</td>\n",
       "      <td>2023-05-30</td>\n",
       "      <td>NaN</td>\n",
       "    </tr>\n",
       "  </tbody>\n",
       "</table>\n",
       "</div>"
      ],
      "text/plain": [
       "  DMO-ÖZEL-İHALE-DEMO SİPARİŞ NO/İŞ EMRİ NO/TEKLİF NO SİPARİŞ TARİHİ  \\\n",
       "0            YURTDIŞI                        2023/023     2023-01-02   \n",
       "1            YURTDIŞI                        2023/024     2023-01-02   \n",
       "2            YURTDIŞI                        2023/025     2023-01-02   \n",
       "3            YURTDIŞI                        2023/026     2023-01-02   \n",
       "4            YURTDIŞI                        2023/027     2023-01-02   \n",
       "\n",
       "  SİPARİŞİ VEREN/2023 KURULUM YERİ /2023         İL    ÜRÜN MODEL  \\\n",
       "0           BANGLADEŞ          BANGLADEŞ  BANGLADEŞ  OXY- GOLD 45   \n",
       "1           BANGLADEŞ          BANGLADEŞ  BANGLADEŞ  OXY- GOLD 45   \n",
       "2           BANGLADEŞ          BANGLADEŞ  BANGLADEŞ  OXY- GOLD 45   \n",
       "3           BANGLADEŞ          BANGLADEŞ  BANGLADEŞ  OXY- GOLD 45   \n",
       "4           BANGLADEŞ          BANGLADEŞ  BANGLADEŞ  OXY- GOLD 75   \n",
       "\n",
       "                                                ÜRÜN  LİTRE      SERİ NO  \\\n",
       "0  OKSİJEN ÜRETİM VE DEPOLAMA SİSTEMİ -26,77 m3/h...    NaN  2023/06-001   \n",
       "1  OKSİJEN ÜRETİM VE DEPOLAMA SİSTEMİ -26,77 m3/h...    NaN  2023/06-002   \n",
       "2  OKSİJEN ÜRETİM VE DEPOLAMA SİSTEMİ -26,77 m3/h...    NaN  2023/06-003   \n",
       "3  OKSİJEN ÜRETİM VE DEPOLAMA SİSTEMİ -26,77 m3/h...    NaN  2023/06-004   \n",
       "4  OKSİJEN ÜRETİM VE DEPOLAMA SİSTEMİ -47 m3/hr 7...    NaN  2023/06-005   \n",
       "\n",
       "  TESLİM \\nSÜRESİ TESLİM TARİHİ  İRSALİYE TARİHİ  \n",
       "0          60 gün    2023-05-30              NaN  \n",
       "1          60 gün    2023-05-30              NaN  \n",
       "2          60 gün    2023-05-30              NaN  \n",
       "3          60 gün    2023-05-30              NaN  \n",
       "4          60 gün    2023-05-30              NaN  "
      ]
     },
     "execution_count": 19,
     "metadata": {},
     "output_type": "execute_result"
    }
   ],
   "source": [
    "# Excel Dosyasini okuma:\n",
    "\n",
    "df_oksijen_23_endust = utils.read_excel_page()\n",
    "df_oksijen_23_endust.head()"
   ]
  },
  {
   "cell_type": "code",
   "execution_count": 20,
   "id": "38a88318",
   "metadata": {
    "ExecuteTime": {
     "end_time": "2024-10-24T10:04:08.044582Z",
     "start_time": "2024-10-24T10:04:08.015356Z"
    }
   },
   "outputs": [
    {
     "name": "stdout",
     "output_type": "stream",
     "text": [
      "DataFrame başarıyla 'C:\\Users\\duygu\\Desktop\\00-GitHub-Repo\\00-1INTERNSHIP\\INT1_PROJECT\\01_EDA\\DATA INCELEME\\03_OKSİJEN SİSTEMİ\\df_oksijen_23_endust.csv' olarak kaydedildi.\n",
      "DataFrame başarıyla 'C:\\Users\\duygu\\Desktop\\00-GitHub-Repo\\00-1INTERNSHIP\\INT1_PROJECT\\01_EDA\\DATA INCELEME\\03_OKSİJEN SİSTEMİ\\df_oksijen_23_endust.csv' dosyasından okundu.\n"
     ]
    },
    {
     "data": {
      "text/html": [
       "<div>\n",
       "<style scoped>\n",
       "    .dataframe tbody tr th:only-of-type {\n",
       "        vertical-align: middle;\n",
       "    }\n",
       "\n",
       "    .dataframe tbody tr th {\n",
       "        vertical-align: top;\n",
       "    }\n",
       "\n",
       "    .dataframe thead th {\n",
       "        text-align: right;\n",
       "    }\n",
       "</style>\n",
       "<table border=\"1\" class=\"dataframe\">\n",
       "  <thead>\n",
       "    <tr style=\"text-align: right;\">\n",
       "      <th></th>\n",
       "      <th>DMO-ÖZEL-İHALE-DEMO</th>\n",
       "      <th>SİPARİŞ NO/İŞ EMRİ NO/TEKLİF NO</th>\n",
       "      <th>SİPARİŞ TARİHİ</th>\n",
       "      <th>SİPARİŞİ VEREN/2023</th>\n",
       "      <th>KURULUM YERİ /2023</th>\n",
       "      <th>İL</th>\n",
       "      <th>ÜRÜN MODEL</th>\n",
       "      <th>ÜRÜN</th>\n",
       "      <th>LİTRE</th>\n",
       "      <th>SERİ NO</th>\n",
       "      <th>TESLİM \\nSÜRESİ</th>\n",
       "      <th>TESLİM TARİHİ</th>\n",
       "      <th>İRSALİYE TARİHİ</th>\n",
       "    </tr>\n",
       "  </thead>\n",
       "  <tbody>\n",
       "    <tr>\n",
       "      <th>0</th>\n",
       "      <td>YURTDIŞI</td>\n",
       "      <td>2023/023</td>\n",
       "      <td>2023-01-02</td>\n",
       "      <td>BANGLADEŞ</td>\n",
       "      <td>BANGLADEŞ</td>\n",
       "      <td>BANGLADEŞ</td>\n",
       "      <td>OXY- GOLD 45</td>\n",
       "      <td>OKSİJEN ÜRETİM VE DEPOLAMA SİSTEMİ -26,77 m3/h...</td>\n",
       "      <td>NaN</td>\n",
       "      <td>2023/06-001</td>\n",
       "      <td>60 gün</td>\n",
       "      <td>2023-05-30</td>\n",
       "      <td>NaN</td>\n",
       "    </tr>\n",
       "    <tr>\n",
       "      <th>1</th>\n",
       "      <td>YURTDIŞI</td>\n",
       "      <td>2023/024</td>\n",
       "      <td>2023-01-02</td>\n",
       "      <td>BANGLADEŞ</td>\n",
       "      <td>BANGLADEŞ</td>\n",
       "      <td>BANGLADEŞ</td>\n",
       "      <td>OXY- GOLD 45</td>\n",
       "      <td>OKSİJEN ÜRETİM VE DEPOLAMA SİSTEMİ -26,77 m3/h...</td>\n",
       "      <td>NaN</td>\n",
       "      <td>2023/06-002</td>\n",
       "      <td>60 gün</td>\n",
       "      <td>2023-05-30</td>\n",
       "      <td>NaN</td>\n",
       "    </tr>\n",
       "    <tr>\n",
       "      <th>2</th>\n",
       "      <td>YURTDIŞI</td>\n",
       "      <td>2023/025</td>\n",
       "      <td>2023-01-02</td>\n",
       "      <td>BANGLADEŞ</td>\n",
       "      <td>BANGLADEŞ</td>\n",
       "      <td>BANGLADEŞ</td>\n",
       "      <td>OXY- GOLD 45</td>\n",
       "      <td>OKSİJEN ÜRETİM VE DEPOLAMA SİSTEMİ -26,77 m3/h...</td>\n",
       "      <td>NaN</td>\n",
       "      <td>2023/06-003</td>\n",
       "      <td>60 gün</td>\n",
       "      <td>2023-05-30</td>\n",
       "      <td>NaN</td>\n",
       "    </tr>\n",
       "    <tr>\n",
       "      <th>3</th>\n",
       "      <td>YURTDIŞI</td>\n",
       "      <td>2023/026</td>\n",
       "      <td>2023-01-02</td>\n",
       "      <td>BANGLADEŞ</td>\n",
       "      <td>BANGLADEŞ</td>\n",
       "      <td>BANGLADEŞ</td>\n",
       "      <td>OXY- GOLD 45</td>\n",
       "      <td>OKSİJEN ÜRETİM VE DEPOLAMA SİSTEMİ -26,77 m3/h...</td>\n",
       "      <td>NaN</td>\n",
       "      <td>2023/06-004</td>\n",
       "      <td>60 gün</td>\n",
       "      <td>2023-05-30</td>\n",
       "      <td>NaN</td>\n",
       "    </tr>\n",
       "    <tr>\n",
       "      <th>4</th>\n",
       "      <td>YURTDIŞI</td>\n",
       "      <td>2023/027</td>\n",
       "      <td>2023-01-02</td>\n",
       "      <td>BANGLADEŞ</td>\n",
       "      <td>BANGLADEŞ</td>\n",
       "      <td>BANGLADEŞ</td>\n",
       "      <td>OXY- GOLD 75</td>\n",
       "      <td>OKSİJEN ÜRETİM VE DEPOLAMA SİSTEMİ -47 m3/hr 7...</td>\n",
       "      <td>NaN</td>\n",
       "      <td>2023/06-005</td>\n",
       "      <td>60 gün</td>\n",
       "      <td>2023-05-30</td>\n",
       "      <td>NaN</td>\n",
       "    </tr>\n",
       "  </tbody>\n",
       "</table>\n",
       "</div>"
      ],
      "text/plain": [
       "  DMO-ÖZEL-İHALE-DEMO SİPARİŞ NO/İŞ EMRİ NO/TEKLİF NO SİPARİŞ TARİHİ  \\\n",
       "0            YURTDIŞI                        2023/023     2023-01-02   \n",
       "1            YURTDIŞI                        2023/024     2023-01-02   \n",
       "2            YURTDIŞI                        2023/025     2023-01-02   \n",
       "3            YURTDIŞI                        2023/026     2023-01-02   \n",
       "4            YURTDIŞI                        2023/027     2023-01-02   \n",
       "\n",
       "  SİPARİŞİ VEREN/2023 KURULUM YERİ /2023         İL    ÜRÜN MODEL  \\\n",
       "0           BANGLADEŞ          BANGLADEŞ  BANGLADEŞ  OXY- GOLD 45   \n",
       "1           BANGLADEŞ          BANGLADEŞ  BANGLADEŞ  OXY- GOLD 45   \n",
       "2           BANGLADEŞ          BANGLADEŞ  BANGLADEŞ  OXY- GOLD 45   \n",
       "3           BANGLADEŞ          BANGLADEŞ  BANGLADEŞ  OXY- GOLD 45   \n",
       "4           BANGLADEŞ          BANGLADEŞ  BANGLADEŞ  OXY- GOLD 75   \n",
       "\n",
       "                                                ÜRÜN  LİTRE      SERİ NO  \\\n",
       "0  OKSİJEN ÜRETİM VE DEPOLAMA SİSTEMİ -26,77 m3/h...    NaN  2023/06-001   \n",
       "1  OKSİJEN ÜRETİM VE DEPOLAMA SİSTEMİ -26,77 m3/h...    NaN  2023/06-002   \n",
       "2  OKSİJEN ÜRETİM VE DEPOLAMA SİSTEMİ -26,77 m3/h...    NaN  2023/06-003   \n",
       "3  OKSİJEN ÜRETİM VE DEPOLAMA SİSTEMİ -26,77 m3/h...    NaN  2023/06-004   \n",
       "4  OKSİJEN ÜRETİM VE DEPOLAMA SİSTEMİ -47 m3/hr 7...    NaN  2023/06-005   \n",
       "\n",
       "  TESLİM \\nSÜRESİ TESLİM TARİHİ  İRSALİYE TARİHİ  \n",
       "0          60 gün    2023-05-30              NaN  \n",
       "1          60 gün    2023-05-30              NaN  \n",
       "2          60 gün    2023-05-30              NaN  \n",
       "3          60 gün    2023-05-30              NaN  \n",
       "4          60 gün    2023-05-30              NaN  "
      ]
     },
     "execution_count": 20,
     "metadata": {},
     "output_type": "execute_result"
    }
   ],
   "source": [
    "# df olarak save and Load:\n",
    "\n",
    "df_oksijen_23_endust = utils.save_and_load_csv('df_oksijen_23_endust.csv', notebook_dir)\n",
    "df_oksijen_23_endust.head()"
   ]
  },
  {
   "cell_type": "markdown",
   "id": "33891c15",
   "metadata": {},
   "source": [
    "## 2024 Otoklav-Uretim"
   ]
  },
  {
   "cell_type": "code",
   "execution_count": 21,
   "id": "6e21392c",
   "metadata": {
    "ExecuteTime": {
     "end_time": "2024-10-24T10:04:32.877532Z",
     "start_time": "2024-10-24T10:04:13.532177Z"
    }
   },
   "outputs": [
    {
     "name": "stdin",
     "output_type": "stream",
     "text": [
      "Lütfen Dataset dosya yolunu girin (örnek: C:\\Users\\ASUS\\Desktop\\INT_1_PROJECT\\00_Data\\01_Satis_Uretim):  C:\\Users\\duygu\\Desktop\\00-GitHub-Repo\\00-1INTERNSHIP\\INT1_PROJECT\\00_Data\\01_Satis_Uretim\n",
      "Lütfen Excel dosyasının adını girin (örnek: 2018-Uretim_Takip.xlsx):  2024-Uretim_Takip.xlsx\n"
     ]
    },
    {
     "name": "stdout",
     "output_type": "stream",
     "text": [
      "Dosyadaki sayfa adları: ['2024-01 OTOKLAV', '2024-02 AMELİYAT MASASI', '2024-04 HİDROJEN PEROSİT-PLAZMA', '2024-05 YIKAMA', '2024-06 OKSİJEN', '2024-07 KARTUŞ', '2024-08 REVERSE OSMOS']\n"
     ]
    },
    {
     "name": "stdin",
     "output_type": "stream",
     "text": [
      "Lütfen okumak istediğiniz sayfanın adını girin:  2024-06 OKSİJEN\n"
     ]
    },
    {
     "name": "stdout",
     "output_type": "stream",
     "text": [
      "'df_otoklav_2024' olarak kaydedildi.\n"
     ]
    },
    {
     "data": {
      "text/html": [
       "<div>\n",
       "<style scoped>\n",
       "    .dataframe tbody tr th:only-of-type {\n",
       "        vertical-align: middle;\n",
       "    }\n",
       "\n",
       "    .dataframe tbody tr th {\n",
       "        vertical-align: top;\n",
       "    }\n",
       "\n",
       "    .dataframe thead th {\n",
       "        text-align: right;\n",
       "    }\n",
       "</style>\n",
       "<table border=\"1\" class=\"dataframe\">\n",
       "  <thead>\n",
       "    <tr style=\"text-align: right;\">\n",
       "      <th></th>\n",
       "      <th>DMO-ÖZEL-İHALE-DEMO</th>\n",
       "      <th>SİPARİŞ NO/İŞ EMRİ NO/TEKLİF NO</th>\n",
       "      <th>SİPARİŞ TARİHİ</th>\n",
       "      <th>SİPARİŞİ VEREN/2024</th>\n",
       "      <th>KURULUM YERİ /2024</th>\n",
       "      <th>İL</th>\n",
       "      <th>ÜRÜN MODEL</th>\n",
       "      <th>ÜRÜN</th>\n",
       "      <th>LİTRE</th>\n",
       "      <th>SERİ NO</th>\n",
       "      <th>TESLİM \\nSÜRESİ</th>\n",
       "      <th>TESLİM TARİHİ</th>\n",
       "      <th>İRSALİYE TARİHİ</th>\n",
       "      <th>ÜTS NO</th>\n",
       "    </tr>\n",
       "  </thead>\n",
       "  <tbody>\n",
       "    <tr>\n",
       "      <th>0</th>\n",
       "      <td>YURTDIŞI</td>\n",
       "      <td>2022/156</td>\n",
       "      <td>2024-02-27</td>\n",
       "      <td>CEZAYİR</td>\n",
       "      <td>CEZAYİR</td>\n",
       "      <td>CEZAYİR</td>\n",
       "      <td>OXY-GOLD 37</td>\n",
       "      <td>OXY-GOLD 37 OKSİJEN ÜRETİM  VE DEPOLAMA SİSTEMİ</td>\n",
       "      <td>NaN</td>\n",
       "      <td>2024/06-001</td>\n",
       "      <td>60 gün</td>\n",
       "      <td>2024-03-11</td>\n",
       "      <td>NaN</td>\n",
       "      <td>8.697613e+12</td>\n",
       "    </tr>\n",
       "    <tr>\n",
       "      <th>1</th>\n",
       "      <td>YURTDIŞI</td>\n",
       "      <td>2022/161</td>\n",
       "      <td>2022-03-03</td>\n",
       "      <td>STOK</td>\n",
       "      <td>STOK</td>\n",
       "      <td>STOK</td>\n",
       "      <td>OXY-GOLD 30</td>\n",
       "      <td>OXY-GOLD 30 OKSİJEN ÜRETİM  VE DEPOLAMA SİSTEMİ</td>\n",
       "      <td>NaN</td>\n",
       "      <td>2024/06-003</td>\n",
       "      <td>60 gün</td>\n",
       "      <td>2024-03-12</td>\n",
       "      <td>NaN</td>\n",
       "      <td>8.697613e+12</td>\n",
       "    </tr>\n",
       "    <tr>\n",
       "      <th>2</th>\n",
       "      <td>YURTDIŞI</td>\n",
       "      <td>2022/163</td>\n",
       "      <td>2024-06-11</td>\n",
       "      <td>CEZAYİR</td>\n",
       "      <td>CEZAYİR</td>\n",
       "      <td>CEZAYİR</td>\n",
       "      <td>OXY-GOLD 30</td>\n",
       "      <td>OXY-GOLD 30 OKSİJEN ÜRETİM  VE DEPOLAMA SİSTEMİ</td>\n",
       "      <td>NaN</td>\n",
       "      <td>2024/06-005</td>\n",
       "      <td>60 gün</td>\n",
       "      <td>2024-06-13</td>\n",
       "      <td>NaN</td>\n",
       "      <td>8.697613e+12</td>\n",
       "    </tr>\n",
       "    <tr>\n",
       "      <th>3</th>\n",
       "      <td>YURTDIŞI</td>\n",
       "      <td>2024/283</td>\n",
       "      <td>2024-09-25</td>\n",
       "      <td>CEZAYİR</td>\n",
       "      <td>CEZAYİR</td>\n",
       "      <td>CEZAYİR</td>\n",
       "      <td>OXY-GOLD 37</td>\n",
       "      <td>OXY-GOLD 37 OKSİJEN ÜRETİM  VE DEPOLAMA SİSTEMİ</td>\n",
       "      <td>NaN</td>\n",
       "      <td>2024/06-006</td>\n",
       "      <td>60 gün</td>\n",
       "      <td>2024-10-13</td>\n",
       "      <td>NaN</td>\n",
       "      <td>NaN</td>\n",
       "    </tr>\n",
       "  </tbody>\n",
       "</table>\n",
       "</div>"
      ],
      "text/plain": [
       "  DMO-ÖZEL-İHALE-DEMO SİPARİŞ NO/İŞ EMRİ NO/TEKLİF NO SİPARİŞ TARİHİ  \\\n",
       "0            YURTDIŞI                        2022/156     2024-02-27   \n",
       "1            YURTDIŞI                        2022/161     2022-03-03   \n",
       "2            YURTDIŞI                        2022/163     2024-06-11   \n",
       "3            YURTDIŞI                        2024/283     2024-09-25   \n",
       "\n",
       "  SİPARİŞİ VEREN/2024 KURULUM YERİ /2024       İL   ÜRÜN MODEL  \\\n",
       "0             CEZAYİR            CEZAYİR  CEZAYİR  OXY-GOLD 37   \n",
       "1                STOK               STOK     STOK  OXY-GOLD 30   \n",
       "2             CEZAYİR            CEZAYİR  CEZAYİR  OXY-GOLD 30   \n",
       "3             CEZAYİR            CEZAYİR  CEZAYİR  OXY-GOLD 37   \n",
       "\n",
       "                                              ÜRÜN  LİTRE      SERİ NO  \\\n",
       "0  OXY-GOLD 37 OKSİJEN ÜRETİM  VE DEPOLAMA SİSTEMİ    NaN  2024/06-001   \n",
       "1  OXY-GOLD 30 OKSİJEN ÜRETİM  VE DEPOLAMA SİSTEMİ    NaN  2024/06-003   \n",
       "2  OXY-GOLD 30 OKSİJEN ÜRETİM  VE DEPOLAMA SİSTEMİ    NaN  2024/06-005   \n",
       "3  OXY-GOLD 37 OKSİJEN ÜRETİM  VE DEPOLAMA SİSTEMİ    NaN  2024/06-006   \n",
       "\n",
       "  TESLİM \\nSÜRESİ TESLİM TARİHİ  İRSALİYE TARİHİ        ÜTS NO  \n",
       "0          60 gün    2024-03-11              NaN  8.697613e+12  \n",
       "1          60 gün    2024-03-12              NaN  8.697613e+12  \n",
       "2          60 gün    2024-06-13              NaN  8.697613e+12  \n",
       "3          60 gün    2024-10-13              NaN           NaN  "
      ]
     },
     "execution_count": 21,
     "metadata": {},
     "output_type": "execute_result"
    }
   ],
   "source": [
    "# Excel Dosyasini okuma:\n",
    "\n",
    "df_oksijen_24 = utils.read_excel_page()\n",
    "df_oksijen_24.head()"
   ]
  },
  {
   "cell_type": "code",
   "execution_count": 22,
   "id": "3fd8af84",
   "metadata": {
    "ExecuteTime": {
     "end_time": "2024-10-24T10:05:11.015164Z",
     "start_time": "2024-10-24T10:05:10.989976Z"
    }
   },
   "outputs": [
    {
     "name": "stdout",
     "output_type": "stream",
     "text": [
      "DataFrame başarıyla 'C:\\Users\\duygu\\Desktop\\00-GitHub-Repo\\00-1INTERNSHIP\\INT1_PROJECT\\01_EDA\\DATA INCELEME\\03_OKSİJEN SİSTEMİ\\df_oksijen_24.csv' olarak kaydedildi.\n",
      "DataFrame başarıyla 'C:\\Users\\duygu\\Desktop\\00-GitHub-Repo\\00-1INTERNSHIP\\INT1_PROJECT\\01_EDA\\DATA INCELEME\\03_OKSİJEN SİSTEMİ\\df_oksijen_24.csv' dosyasından okundu.\n"
     ]
    },
    {
     "data": {
      "text/html": [
       "<div>\n",
       "<style scoped>\n",
       "    .dataframe tbody tr th:only-of-type {\n",
       "        vertical-align: middle;\n",
       "    }\n",
       "\n",
       "    .dataframe tbody tr th {\n",
       "        vertical-align: top;\n",
       "    }\n",
       "\n",
       "    .dataframe thead th {\n",
       "        text-align: right;\n",
       "    }\n",
       "</style>\n",
       "<table border=\"1\" class=\"dataframe\">\n",
       "  <thead>\n",
       "    <tr style=\"text-align: right;\">\n",
       "      <th></th>\n",
       "      <th>DMO-ÖZEL-İHALE-DEMO</th>\n",
       "      <th>SİPARİŞ NO/İŞ EMRİ NO/TEKLİF NO</th>\n",
       "      <th>SİPARİŞ TARİHİ</th>\n",
       "      <th>SİPARİŞİ VEREN/2024</th>\n",
       "      <th>KURULUM YERİ /2024</th>\n",
       "      <th>İL</th>\n",
       "      <th>ÜRÜN MODEL</th>\n",
       "      <th>ÜRÜN</th>\n",
       "      <th>LİTRE</th>\n",
       "      <th>SERİ NO</th>\n",
       "      <th>TESLİM \\nSÜRESİ</th>\n",
       "      <th>TESLİM TARİHİ</th>\n",
       "      <th>İRSALİYE TARİHİ</th>\n",
       "      <th>ÜTS NO</th>\n",
       "    </tr>\n",
       "  </thead>\n",
       "  <tbody>\n",
       "    <tr>\n",
       "      <th>0</th>\n",
       "      <td>YURTDIŞI</td>\n",
       "      <td>2022/156</td>\n",
       "      <td>2024-02-27</td>\n",
       "      <td>CEZAYİR</td>\n",
       "      <td>CEZAYİR</td>\n",
       "      <td>CEZAYİR</td>\n",
       "      <td>OXY-GOLD 37</td>\n",
       "      <td>OXY-GOLD 37 OKSİJEN ÜRETİM  VE DEPOLAMA SİSTEMİ</td>\n",
       "      <td>NaN</td>\n",
       "      <td>2024/06-001</td>\n",
       "      <td>60 gün</td>\n",
       "      <td>2024-03-11</td>\n",
       "      <td>NaN</td>\n",
       "      <td>8.697613e+12</td>\n",
       "    </tr>\n",
       "    <tr>\n",
       "      <th>1</th>\n",
       "      <td>YURTDIŞI</td>\n",
       "      <td>2022/161</td>\n",
       "      <td>2022-03-03</td>\n",
       "      <td>STOK</td>\n",
       "      <td>STOK</td>\n",
       "      <td>STOK</td>\n",
       "      <td>OXY-GOLD 30</td>\n",
       "      <td>OXY-GOLD 30 OKSİJEN ÜRETİM  VE DEPOLAMA SİSTEMİ</td>\n",
       "      <td>NaN</td>\n",
       "      <td>2024/06-003</td>\n",
       "      <td>60 gün</td>\n",
       "      <td>2024-03-12</td>\n",
       "      <td>NaN</td>\n",
       "      <td>8.697613e+12</td>\n",
       "    </tr>\n",
       "    <tr>\n",
       "      <th>2</th>\n",
       "      <td>YURTDIŞI</td>\n",
       "      <td>2022/163</td>\n",
       "      <td>2024-06-11</td>\n",
       "      <td>CEZAYİR</td>\n",
       "      <td>CEZAYİR</td>\n",
       "      <td>CEZAYİR</td>\n",
       "      <td>OXY-GOLD 30</td>\n",
       "      <td>OXY-GOLD 30 OKSİJEN ÜRETİM  VE DEPOLAMA SİSTEMİ</td>\n",
       "      <td>NaN</td>\n",
       "      <td>2024/06-005</td>\n",
       "      <td>60 gün</td>\n",
       "      <td>2024-06-13</td>\n",
       "      <td>NaN</td>\n",
       "      <td>8.697613e+12</td>\n",
       "    </tr>\n",
       "    <tr>\n",
       "      <th>3</th>\n",
       "      <td>YURTDIŞI</td>\n",
       "      <td>2024/283</td>\n",
       "      <td>2024-09-25</td>\n",
       "      <td>CEZAYİR</td>\n",
       "      <td>CEZAYİR</td>\n",
       "      <td>CEZAYİR</td>\n",
       "      <td>OXY-GOLD 37</td>\n",
       "      <td>OXY-GOLD 37 OKSİJEN ÜRETİM  VE DEPOLAMA SİSTEMİ</td>\n",
       "      <td>NaN</td>\n",
       "      <td>2024/06-006</td>\n",
       "      <td>60 gün</td>\n",
       "      <td>2024-10-13</td>\n",
       "      <td>NaN</td>\n",
       "      <td>NaN</td>\n",
       "    </tr>\n",
       "  </tbody>\n",
       "</table>\n",
       "</div>"
      ],
      "text/plain": [
       "  DMO-ÖZEL-İHALE-DEMO SİPARİŞ NO/İŞ EMRİ NO/TEKLİF NO SİPARİŞ TARİHİ  \\\n",
       "0            YURTDIŞI                        2022/156     2024-02-27   \n",
       "1            YURTDIŞI                        2022/161     2022-03-03   \n",
       "2            YURTDIŞI                        2022/163     2024-06-11   \n",
       "3            YURTDIŞI                        2024/283     2024-09-25   \n",
       "\n",
       "  SİPARİŞİ VEREN/2024 KURULUM YERİ /2024       İL   ÜRÜN MODEL  \\\n",
       "0             CEZAYİR            CEZAYİR  CEZAYİR  OXY-GOLD 37   \n",
       "1                STOK               STOK     STOK  OXY-GOLD 30   \n",
       "2             CEZAYİR            CEZAYİR  CEZAYİR  OXY-GOLD 30   \n",
       "3             CEZAYİR            CEZAYİR  CEZAYİR  OXY-GOLD 37   \n",
       "\n",
       "                                              ÜRÜN  LİTRE      SERİ NO  \\\n",
       "0  OXY-GOLD 37 OKSİJEN ÜRETİM  VE DEPOLAMA SİSTEMİ    NaN  2024/06-001   \n",
       "1  OXY-GOLD 30 OKSİJEN ÜRETİM  VE DEPOLAMA SİSTEMİ    NaN  2024/06-003   \n",
       "2  OXY-GOLD 30 OKSİJEN ÜRETİM  VE DEPOLAMA SİSTEMİ    NaN  2024/06-005   \n",
       "3  OXY-GOLD 37 OKSİJEN ÜRETİM  VE DEPOLAMA SİSTEMİ    NaN  2024/06-006   \n",
       "\n",
       "  TESLİM \\nSÜRESİ TESLİM TARİHİ  İRSALİYE TARİHİ        ÜTS NO  \n",
       "0          60 gün    2024-03-11              NaN  8.697613e+12  \n",
       "1          60 gün    2024-03-12              NaN  8.697613e+12  \n",
       "2          60 gün    2024-06-13              NaN  8.697613e+12  \n",
       "3          60 gün    2024-10-13              NaN           NaN  "
      ]
     },
     "execution_count": 22,
     "metadata": {},
     "output_type": "execute_result"
    }
   ],
   "source": [
    "# df olarak save and Load:\n",
    "\n",
    "df_oksijen_24 = utils.save_and_load_csv('df_oksijen_24.csv', notebook_dir) \n",
    "df_oksijen_24.head()"
   ]
  },
  {
   "cell_type": "markdown",
   "id": "79adc055",
   "metadata": {},
   "source": [
    "## 2024 Otoklav Satis"
   ]
  },
  {
   "cell_type": "code",
   "execution_count": 23,
   "id": "1accb989",
   "metadata": {
    "ExecuteTime": {
     "end_time": "2024-10-24T15:13:33.795421Z",
     "start_time": "2024-10-24T15:13:10.733620Z"
    }
   },
   "outputs": [
    {
     "name": "stdin",
     "output_type": "stream",
     "text": [
      "Lütfen Dataset dosya yolunu girin (örnek: C:\\Users\\ASUS\\Desktop\\INT_1_PROJECT\\00_Data\\01_Satis_Uretim):  C:\\Users\\duygu\\Desktop\\00-GitHub-Repo\\00-1INTERNSHIP\\INT1_PROJECT\\00_Data\\01_Satis_Uretim\n",
      "Lütfen Excel dosyasının adını girin (örnek: 2018-Uretim_Takip.xlsx):  2024-Satis_Analiz.xlsx\n"
     ]
    },
    {
     "name": "stdout",
     "output_type": "stream",
     "text": [
      "Dosyadaki sayfa adları: ['otoklav', 'Yıkama', 'Hidrojen Peroksit', 'Oksijen', 'Reverse Osmoz', 'Ameliyat Masası']\n"
     ]
    },
    {
     "name": "stdin",
     "output_type": "stream",
     "text": [
      "Lütfen okumak istediğiniz sayfanın adını girin:  Oksijen\n"
     ]
    },
    {
     "name": "stdout",
     "output_type": "stream",
     "text": [
      "'df_otoklav_2024' olarak kaydedildi.\n"
     ]
    },
    {
     "data": {
      "text/html": [
       "<div>\n",
       "<style scoped>\n",
       "    .dataframe tbody tr th:only-of-type {\n",
       "        vertical-align: middle;\n",
       "    }\n",
       "\n",
       "    .dataframe tbody tr th {\n",
       "        vertical-align: top;\n",
       "    }\n",
       "\n",
       "    .dataframe thead th {\n",
       "        text-align: right;\n",
       "    }\n",
       "</style>\n",
       "<table border=\"1\" class=\"dataframe\">\n",
       "  <thead>\n",
       "    <tr style=\"text-align: right;\">\n",
       "      <th></th>\n",
       "      <th>Sıra No</th>\n",
       "      <th>Modeller</th>\n",
       "      <th>Satış Fiyatı (Dolar)</th>\n",
       "      <th>Satış Fiyatı (Dolar).1</th>\n",
       "    </tr>\n",
       "  </thead>\n",
       "  <tbody>\n",
       "    <tr>\n",
       "      <th>0</th>\n",
       "      <td>NaN</td>\n",
       "      <td>Teksteril</td>\n",
       "      <td>Yurtiçi</td>\n",
       "      <td>Yurtdışı</td>\n",
       "    </tr>\n",
       "    <tr>\n",
       "      <th>1</th>\n",
       "      <td>1.0</td>\n",
       "      <td>Oxy- Gold–2</td>\n",
       "      <td>NaN</td>\n",
       "      <td>NaN</td>\n",
       "    </tr>\n",
       "    <tr>\n",
       "      <th>2</th>\n",
       "      <td>2.0</td>\n",
       "      <td>Oxy- Gold –3</td>\n",
       "      <td>NaN</td>\n",
       "      <td>NaN</td>\n",
       "    </tr>\n",
       "    <tr>\n",
       "      <th>3</th>\n",
       "      <td>3.0</td>\n",
       "      <td>Oxy- Gold –4</td>\n",
       "      <td>NaN</td>\n",
       "      <td>NaN</td>\n",
       "    </tr>\n",
       "    <tr>\n",
       "      <th>4</th>\n",
       "      <td>4.0</td>\n",
       "      <td>Oxy- Gold –5</td>\n",
       "      <td>NaN</td>\n",
       "      <td>NaN</td>\n",
       "    </tr>\n",
       "  </tbody>\n",
       "</table>\n",
       "</div>"
      ],
      "text/plain": [
       "   Sıra No      Modeller Satış Fiyatı (Dolar) Satış Fiyatı (Dolar).1\n",
       "0      NaN     Teksteril              Yurtiçi               Yurtdışı\n",
       "1      1.0   Oxy- Gold–2                  NaN                    NaN\n",
       "2      2.0  Oxy- Gold –3                  NaN                    NaN\n",
       "3      3.0  Oxy- Gold –4                  NaN                    NaN\n",
       "4      4.0  Oxy- Gold –5                  NaN                    NaN"
      ]
     },
     "execution_count": 23,
     "metadata": {},
     "output_type": "execute_result"
    }
   ],
   "source": [
    "# Excel Dosyasini okuma:\n",
    "\n",
    "df_oksijen_24_satis = utils.read_excel_page()\n",
    "df_oksijen_24_satis.head()"
   ]
  },
  {
   "cell_type": "code",
   "execution_count": 24,
   "id": "e30bd55e",
   "metadata": {
    "ExecuteTime": {
     "end_time": "2024-10-24T15:13:44.297674Z",
     "start_time": "2024-10-24T15:13:44.281985Z"
    }
   },
   "outputs": [
    {
     "name": "stdout",
     "output_type": "stream",
     "text": [
      "DataFrame başarıyla 'C:\\Users\\duygu\\Desktop\\00-GitHub-Repo\\00-1INTERNSHIP\\INT1_PROJECT\\01_EDA\\DATA INCELEME\\03_OKSİJEN SİSTEMİ\\df_oksijen_24_satis.csv' olarak kaydedildi.\n",
      "DataFrame başarıyla 'C:\\Users\\duygu\\Desktop\\00-GitHub-Repo\\00-1INTERNSHIP\\INT1_PROJECT\\01_EDA\\DATA INCELEME\\03_OKSİJEN SİSTEMİ\\df_oksijen_24_satis.csv' dosyasından okundu.\n"
     ]
    },
    {
     "data": {
      "text/html": [
       "<div>\n",
       "<style scoped>\n",
       "    .dataframe tbody tr th:only-of-type {\n",
       "        vertical-align: middle;\n",
       "    }\n",
       "\n",
       "    .dataframe tbody tr th {\n",
       "        vertical-align: top;\n",
       "    }\n",
       "\n",
       "    .dataframe thead th {\n",
       "        text-align: right;\n",
       "    }\n",
       "</style>\n",
       "<table border=\"1\" class=\"dataframe\">\n",
       "  <thead>\n",
       "    <tr style=\"text-align: right;\">\n",
       "      <th></th>\n",
       "      <th>Sıra No</th>\n",
       "      <th>Modeller</th>\n",
       "      <th>Satış Fiyatı (Dolar)</th>\n",
       "      <th>Satış Fiyatı (Dolar).1</th>\n",
       "    </tr>\n",
       "  </thead>\n",
       "  <tbody>\n",
       "    <tr>\n",
       "      <th>0</th>\n",
       "      <td>NaN</td>\n",
       "      <td>Teksteril</td>\n",
       "      <td>Yurtiçi</td>\n",
       "      <td>Yurtdışı</td>\n",
       "    </tr>\n",
       "    <tr>\n",
       "      <th>1</th>\n",
       "      <td>1.0</td>\n",
       "      <td>Oxy- Gold–2</td>\n",
       "      <td>NaN</td>\n",
       "      <td>NaN</td>\n",
       "    </tr>\n",
       "    <tr>\n",
       "      <th>2</th>\n",
       "      <td>2.0</td>\n",
       "      <td>Oxy- Gold –3</td>\n",
       "      <td>NaN</td>\n",
       "      <td>NaN</td>\n",
       "    </tr>\n",
       "    <tr>\n",
       "      <th>3</th>\n",
       "      <td>3.0</td>\n",
       "      <td>Oxy- Gold –4</td>\n",
       "      <td>NaN</td>\n",
       "      <td>NaN</td>\n",
       "    </tr>\n",
       "    <tr>\n",
       "      <th>4</th>\n",
       "      <td>4.0</td>\n",
       "      <td>Oxy- Gold –5</td>\n",
       "      <td>NaN</td>\n",
       "      <td>NaN</td>\n",
       "    </tr>\n",
       "  </tbody>\n",
       "</table>\n",
       "</div>"
      ],
      "text/plain": [
       "   Sıra No      Modeller Satış Fiyatı (Dolar) Satış Fiyatı (Dolar).1\n",
       "0      NaN     Teksteril              Yurtiçi               Yurtdışı\n",
       "1      1.0   Oxy- Gold–2                  NaN                    NaN\n",
       "2      2.0  Oxy- Gold –3                  NaN                    NaN\n",
       "3      3.0  Oxy- Gold –4                  NaN                    NaN\n",
       "4      4.0  Oxy- Gold –5                  NaN                    NaN"
      ]
     },
     "execution_count": 24,
     "metadata": {},
     "output_type": "execute_result"
    }
   ],
   "source": [
    "# df olarak save and Load:\n",
    "\n",
    "df_oksijen_24_satis = utils.save_and_load_csv('df_oksijen_24_satis.csv', notebook_dir) \n",
    "df_oksijen_24_satis.head()"
   ]
  },
  {
   "cell_type": "code",
   "execution_count": null,
   "id": "67fb2304",
   "metadata": {},
   "outputs": [],
   "source": []
  },
  {
   "cell_type": "code",
   "execution_count": null,
   "id": "90d6cece",
   "metadata": {},
   "outputs": [],
   "source": []
  }
 ],
 "metadata": {
  "hide_input": false,
  "kernelspec": {
   "display_name": "Python 3 (ipykernel)",
   "language": "python",
   "name": "python3"
  },
  "language_info": {
   "codemirror_mode": {
    "name": "ipython",
    "version": 3
   },
   "file_extension": ".py",
   "mimetype": "text/x-python",
   "name": "python",
   "nbconvert_exporter": "python",
   "pygments_lexer": "ipython3",
   "version": "3.12.3"
  },
  "toc": {
   "base_numbering": 1,
   "nav_menu": {},
   "number_sections": true,
   "sideBar": true,
   "skip_h1_title": false,
   "title_cell": "Table of Contents",
   "title_sidebar": "Contents",
   "toc_cell": false,
   "toc_position": {
    "height": "calc(100% - 180px)",
    "left": "10px",
    "top": "150px",
    "width": "240.391px"
   },
   "toc_section_display": true,
   "toc_window_display": true
  },
  "varInspector": {
   "cols": {
    "lenName": 16,
    "lenType": 16,
    "lenVar": 40
   },
   "kernels_config": {
    "python": {
     "delete_cmd_postfix": "",
     "delete_cmd_prefix": "del ",
     "library": "var_list.py",
     "varRefreshCmd": "print(var_dic_list())"
    },
    "r": {
     "delete_cmd_postfix": ") ",
     "delete_cmd_prefix": "rm(",
     "library": "var_list.r",
     "varRefreshCmd": "cat(var_dic_list()) "
    }
   },
   "types_to_exclude": [
    "module",
    "function",
    "builtin_function_or_method",
    "instance",
    "_Feature"
   ],
   "window_display": false
  }
 },
 "nbformat": 4,
 "nbformat_minor": 5
}
