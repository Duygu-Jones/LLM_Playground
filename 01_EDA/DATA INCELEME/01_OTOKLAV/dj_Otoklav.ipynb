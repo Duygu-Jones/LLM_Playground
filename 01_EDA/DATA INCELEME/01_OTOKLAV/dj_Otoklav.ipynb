{
 "cells": [
  {
   "cell_type": "code",
   "execution_count": 1,
   "metadata": {
    "_cell_guid": "b1076dfc-b9ad-4769-8c92-a6c4dae69d19",
    "_uuid": "8f2839f25d086af736a60e9eeb907d3b93b6e0e5"
   },
   "outputs": [],
   "source": [
    "import numpy as np \n",
    "import pandas as pd \n",
    "import matplotlib.pyplot as plt\n",
    "import plotly.express as px\n",
    "import seaborn as sns\n",
    "import cufflinks as cf\n",
    "%matplotlib inline \n",
    "\n",
    "from scipy import stats\n",
    "from sklearn.model_selection import train_test_split, GridSearchCV, cross_validate, StratifiedKFold\n",
    "from sklearn.preprocessing import StandardScaler, MinMaxScaler, RobustScaler\n",
    "from sklearn.preprocessing import PowerTransformer, OneHotEncoder, LabelEncoder \n",
    "from sklearn.pipeline import Pipeline\n",
    "\n",
    "\n",
    "from sklearn.linear_model import LogisticRegression\n",
    "from sklearn.neighbors import KNeighborsClassifier\n",
    "from sklearn.svm import SVC\n",
    "\n",
    "from sklearn.metrics import make_scorer, precision_score, recall_score, f1_score, accuracy_score\n",
    "from sklearn.metrics import PrecisionRecallDisplay, roc_curve, average_precision_score, precision_recall_curve\n",
    "from sklearn.metrics import RocCurveDisplay, roc_auc_score, auc\n",
    "from sklearn.metrics import confusion_matrix, classification_report, ConfusionMatrixDisplay\n",
    "\n",
    "\n",
    "from yellowbrick.regressor import ResidualsPlot, PredictionError\n",
    "\n",
    "import warnings\n",
    "warnings.filterwarnings(\"ignore\")"
   ]
  },
  {
   "cell_type": "markdown",
   "metadata": {},
   "source": [
    "# OTOKLAV DATA REVIEW"
   ]
  },
  {
   "cell_type": "markdown",
   "metadata": {},
   "source": [
    "## 2018"
   ]
  },
  {
   "cell_type": "code",
   "execution_count": 5,
   "metadata": {
    "scrolled": true
   },
   "outputs": [],
   "source": [
    "df0 = pd.read_csv(\"df_otoklav_18.csv\")\n",
    "df_otoklav_18 = df0.copy()"
   ]
  },
  {
   "cell_type": "code",
   "execution_count": 6,
   "metadata": {},
   "outputs": [
    {
     "data": {
      "text/html": [
       "<div>\n",
       "<style scoped>\n",
       "    .dataframe tbody tr th:only-of-type {\n",
       "        vertical-align: middle;\n",
       "    }\n",
       "\n",
       "    .dataframe tbody tr th {\n",
       "        vertical-align: top;\n",
       "    }\n",
       "\n",
       "    .dataframe thead th {\n",
       "        text-align: right;\n",
       "    }\n",
       "</style>\n",
       "<table border=\"1\" class=\"dataframe\">\n",
       "  <thead>\n",
       "    <tr style=\"text-align: right;\">\n",
       "      <th></th>\n",
       "      <th>DMO-ÖZEL-İHALE-DEMO</th>\n",
       "      <th>SİPARİŞ NO/İŞ EMRİ NO/TEKLİF NO</th>\n",
       "      <th>SİPARİŞ TARİHİ</th>\n",
       "      <th>SİPARİŞİ VEREN/2018</th>\n",
       "      <th>KURULUM YERİ /2018</th>\n",
       "      <th>İL</th>\n",
       "      <th>ÜRÜN MODELİ</th>\n",
       "      <th>ÜRÜN ADI</th>\n",
       "      <th>LİTRE</th>\n",
       "      <th>SERİ NO</th>\n",
       "      <th>TESLİM \\r\\nSÜRESİ</th>\n",
       "      <th>TESLİM TARİHİ</th>\n",
       "    </tr>\n",
       "  </thead>\n",
       "  <tbody>\n",
       "    <tr>\n",
       "      <th>0</th>\n",
       "      <td>ÖZEL</td>\n",
       "      <td>2018/001</td>\n",
       "      <td>2018-01-04</td>\n",
       "      <td>YENİ HAYAT TIP MERKEZİ-ORJİN SAĞLIK HİZM.</td>\n",
       "      <td>YENİ HAYAT TIP MERKEZİ-ORJİN SAĞLIK HİZM.</td>\n",
       "      <td>İSTANBUL</td>\n",
       "      <td>STR 6610 D</td>\n",
       "      <td>422 LT ÇİFT KAPILI OTOKLAV CİHAZI</td>\n",
       "      <td>422 LİTRE</td>\n",
       "      <td>2018/01-001</td>\n",
       "      <td>30</td>\n",
       "      <td>NaN</td>\n",
       "    </tr>\n",
       "    <tr>\n",
       "      <th>1</th>\n",
       "      <td>DMO</td>\n",
       "      <td>2018/072</td>\n",
       "      <td>2017-12-28</td>\n",
       "      <td>DMO GENEL MÜDÜRLÜK</td>\n",
       "      <td>T.C. GIDA TARIM VE HAYV. BAKANLIĞI GIDA VE KON...</td>\n",
       "      <td>ANKARA</td>\n",
       "      <td>7717 S</td>\n",
       "      <td>2000 LT ÇİFT KAPILI LABARATUVAR TİP BUHAR STER...</td>\n",
       "      <td>2000 LİTRE</td>\n",
       "      <td>2018/01-002</td>\n",
       "      <td>100 GÜN</td>\n",
       "      <td>2018-04-06</td>\n",
       "    </tr>\n",
       "    <tr>\n",
       "      <th>2</th>\n",
       "      <td>ÖZEL</td>\n",
       "      <td>2018/071</td>\n",
       "      <td>2017-12-25</td>\n",
       "      <td>BURSA RETİNA GÖZ MERKEZİ</td>\n",
       "      <td>BURSA RETİNA GÖZ MERKEZİ</td>\n",
       "      <td>BURSA</td>\n",
       "      <td>ERS 4410 D</td>\n",
       "      <td>160 LT ÇİFT KAPILI OTOKLAV CİHAZI</td>\n",
       "      <td>160 LİTRE</td>\n",
       "      <td>2018/01-003</td>\n",
       "      <td>20</td>\n",
       "      <td>NaN</td>\n",
       "    </tr>\n",
       "    <tr>\n",
       "      <th>3</th>\n",
       "      <td>YURTDIŞI</td>\n",
       "      <td>2018/064</td>\n",
       "      <td>2018-01-22</td>\n",
       "      <td>BAHRİ GROUP CO.</td>\n",
       "      <td>BAHRİ GROUP CO.</td>\n",
       "      <td>KUZEY IRAK</td>\n",
       "      <td>STR 75 V</td>\n",
       "      <td>75 LT VAKUMLU OTOKLAV CİHAZI</td>\n",
       "      <td>75 LT</td>\n",
       "      <td>2018/01-004</td>\n",
       "      <td>20</td>\n",
       "      <td>NaN</td>\n",
       "    </tr>\n",
       "    <tr>\n",
       "      <th>4</th>\n",
       "      <td>DMO</td>\n",
       "      <td>2018/107</td>\n",
       "      <td>2018-01-29</td>\n",
       "      <td>DMO İSTANBUL BÖLGE MÜDÜRLÜĞÜ</td>\n",
       "      <td>HUDUT VE SAHİLLER GENEL MÜDÜRLÜĞÜ DESTEK HİZME...</td>\n",
       "      <td>İSTANBUL</td>\n",
       "      <td>ERS 6613 D</td>\n",
       "      <td>550 LT ÇİFT KAYAR KAPILI OTOKLAV CİHAZI</td>\n",
       "      <td>550 LT</td>\n",
       "      <td>2018/01-005</td>\n",
       "      <td>20</td>\n",
       "      <td>NaN</td>\n",
       "    </tr>\n",
       "  </tbody>\n",
       "</table>\n",
       "</div>"
      ],
      "text/plain": [
       "  DMO-ÖZEL-İHALE-DEMO SİPARİŞ NO/İŞ EMRİ NO/TEKLİF NO SİPARİŞ TARİHİ  \\\n",
       "0                ÖZEL                        2018/001     2018-01-04   \n",
       "1                 DMO                        2018/072     2017-12-28   \n",
       "2                ÖZEL                        2018/071     2017-12-25   \n",
       "3            YURTDIŞI                        2018/064     2018-01-22   \n",
       "4                 DMO                        2018/107     2018-01-29   \n",
       "\n",
       "                         SİPARİŞİ VEREN/2018  \\\n",
       "0  YENİ HAYAT TIP MERKEZİ-ORJİN SAĞLIK HİZM.   \n",
       "1                         DMO GENEL MÜDÜRLÜK   \n",
       "2                   BURSA RETİNA GÖZ MERKEZİ   \n",
       "3                            BAHRİ GROUP CO.   \n",
       "4               DMO İSTANBUL BÖLGE MÜDÜRLÜĞÜ   \n",
       "\n",
       "                                  KURULUM YERİ /2018          İL ÜRÜN MODELİ  \\\n",
       "0          YENİ HAYAT TIP MERKEZİ-ORJİN SAĞLIK HİZM.    İSTANBUL  STR 6610 D   \n",
       "1  T.C. GIDA TARIM VE HAYV. BAKANLIĞI GIDA VE KON...      ANKARA      7717 S   \n",
       "2                           BURSA RETİNA GÖZ MERKEZİ       BURSA  ERS 4410 D   \n",
       "3                                    BAHRİ GROUP CO.  KUZEY IRAK    STR 75 V   \n",
       "4  HUDUT VE SAHİLLER GENEL MÜDÜRLÜĞÜ DESTEK HİZME...    İSTANBUL  ERS 6613 D   \n",
       "\n",
       "                                            ÜRÜN ADI       LİTRE      SERİ NO  \\\n",
       "0                  422 LT ÇİFT KAPILI OTOKLAV CİHAZI   422 LİTRE  2018/01-001   \n",
       "1  2000 LT ÇİFT KAPILI LABARATUVAR TİP BUHAR STER...  2000 LİTRE  2018/01-002   \n",
       "2                  160 LT ÇİFT KAPILI OTOKLAV CİHAZI   160 LİTRE  2018/01-003   \n",
       "3                       75 LT VAKUMLU OTOKLAV CİHAZI       75 LT  2018/01-004   \n",
       "4            550 LT ÇİFT KAYAR KAPILI OTOKLAV CİHAZI      550 LT  2018/01-005   \n",
       "\n",
       "  TESLİM \\r\\nSÜRESİ TESLİM TARİHİ  \n",
       "0                30           NaN  \n",
       "1           100 GÜN    2018-04-06  \n",
       "2                20           NaN  \n",
       "3                20           NaN  \n",
       "4                20           NaN  "
      ]
     },
     "execution_count": 6,
     "metadata": {},
     "output_type": "execute_result"
    }
   ],
   "source": [
    "df_otoklav_18.head()"
   ]
  },
  {
   "cell_type": "code",
   "execution_count": 7,
   "metadata": {},
   "outputs": [
    {
     "data": {
      "text/plain": [
       "(140, 12)"
      ]
     },
     "execution_count": 7,
     "metadata": {},
     "output_type": "execute_result"
    }
   ],
   "source": [
    "df_otoklav_18.shape"
   ]
  },
  {
   "cell_type": "code",
   "execution_count": 8,
   "metadata": {},
   "outputs": [
    {
     "data": {
      "text/html": [
       "<div>\n",
       "<style scoped>\n",
       "    .dataframe tbody tr th:only-of-type {\n",
       "        vertical-align: middle;\n",
       "    }\n",
       "\n",
       "    .dataframe tbody tr th {\n",
       "        vertical-align: top;\n",
       "    }\n",
       "\n",
       "    .dataframe thead th {\n",
       "        text-align: right;\n",
       "    }\n",
       "</style>\n",
       "<table border=\"1\" class=\"dataframe\">\n",
       "  <thead>\n",
       "    <tr style=\"text-align: right;\">\n",
       "      <th></th>\n",
       "      <th>0</th>\n",
       "      <th>1</th>\n",
       "      <th>2</th>\n",
       "      <th>3</th>\n",
       "      <th>4</th>\n",
       "    </tr>\n",
       "  </thead>\n",
       "  <tbody>\n",
       "    <tr>\n",
       "      <th>DMO-ÖZEL-İHALE-DEMO</th>\n",
       "      <td>ÖZEL</td>\n",
       "      <td>DMO</td>\n",
       "      <td>ÖZEL</td>\n",
       "      <td>YURTDIŞI</td>\n",
       "      <td>DMO</td>\n",
       "    </tr>\n",
       "    <tr>\n",
       "      <th>SİPARİŞ NO/İŞ EMRİ NO/TEKLİF NO</th>\n",
       "      <td>2018/001</td>\n",
       "      <td>2018/072</td>\n",
       "      <td>2018/071</td>\n",
       "      <td>2018/064</td>\n",
       "      <td>2018/107</td>\n",
       "    </tr>\n",
       "    <tr>\n",
       "      <th>SİPARİŞ TARİHİ</th>\n",
       "      <td>2018-01-04</td>\n",
       "      <td>2017-12-28</td>\n",
       "      <td>2017-12-25</td>\n",
       "      <td>2018-01-22</td>\n",
       "      <td>2018-01-29</td>\n",
       "    </tr>\n",
       "    <tr>\n",
       "      <th>SİPARİŞİ VEREN/2018</th>\n",
       "      <td>YENİ HAYAT TIP MERKEZİ-ORJİN SAĞLIK HİZM.</td>\n",
       "      <td>DMO GENEL MÜDÜRLÜK</td>\n",
       "      <td>BURSA RETİNA GÖZ MERKEZİ</td>\n",
       "      <td>BAHRİ GROUP CO.</td>\n",
       "      <td>DMO İSTANBUL BÖLGE MÜDÜRLÜĞÜ</td>\n",
       "    </tr>\n",
       "    <tr>\n",
       "      <th>KURULUM YERİ /2018</th>\n",
       "      <td>YENİ HAYAT TIP MERKEZİ-ORJİN SAĞLIK HİZM.</td>\n",
       "      <td>T.C. GIDA TARIM VE HAYV. BAKANLIĞI GIDA VE KON...</td>\n",
       "      <td>BURSA RETİNA GÖZ MERKEZİ</td>\n",
       "      <td>BAHRİ GROUP CO.</td>\n",
       "      <td>HUDUT VE SAHİLLER GENEL MÜDÜRLÜĞÜ DESTEK HİZME...</td>\n",
       "    </tr>\n",
       "    <tr>\n",
       "      <th>İL</th>\n",
       "      <td>İSTANBUL</td>\n",
       "      <td>ANKARA</td>\n",
       "      <td>BURSA</td>\n",
       "      <td>KUZEY IRAK</td>\n",
       "      <td>İSTANBUL</td>\n",
       "    </tr>\n",
       "    <tr>\n",
       "      <th>ÜRÜN MODELİ</th>\n",
       "      <td>STR 6610 D</td>\n",
       "      <td>7717 S</td>\n",
       "      <td>ERS 4410 D</td>\n",
       "      <td>STR 75 V</td>\n",
       "      <td>ERS 6613 D</td>\n",
       "    </tr>\n",
       "    <tr>\n",
       "      <th>ÜRÜN ADI</th>\n",
       "      <td>422 LT ÇİFT KAPILI OTOKLAV CİHAZI</td>\n",
       "      <td>2000 LT ÇİFT KAPILI LABARATUVAR TİP BUHAR STER...</td>\n",
       "      <td>160 LT ÇİFT KAPILI OTOKLAV CİHAZI</td>\n",
       "      <td>75 LT VAKUMLU OTOKLAV CİHAZI</td>\n",
       "      <td>550 LT ÇİFT KAYAR KAPILI OTOKLAV CİHAZI</td>\n",
       "    </tr>\n",
       "    <tr>\n",
       "      <th>LİTRE</th>\n",
       "      <td>422 LİTRE</td>\n",
       "      <td>2000 LİTRE</td>\n",
       "      <td>160 LİTRE</td>\n",
       "      <td>75 LT</td>\n",
       "      <td>550 LT</td>\n",
       "    </tr>\n",
       "    <tr>\n",
       "      <th>SERİ NO</th>\n",
       "      <td>2018/01-001</td>\n",
       "      <td>2018/01-002</td>\n",
       "      <td>2018/01-003</td>\n",
       "      <td>2018/01-004</td>\n",
       "      <td>2018/01-005</td>\n",
       "    </tr>\n",
       "    <tr>\n",
       "      <th>TESLİM \\r\\nSÜRESİ</th>\n",
       "      <td>30</td>\n",
       "      <td>100 GÜN</td>\n",
       "      <td>20</td>\n",
       "      <td>20</td>\n",
       "      <td>20</td>\n",
       "    </tr>\n",
       "    <tr>\n",
       "      <th>TESLİM TARİHİ</th>\n",
       "      <td>NaN</td>\n",
       "      <td>2018-04-06</td>\n",
       "      <td>NaN</td>\n",
       "      <td>NaN</td>\n",
       "      <td>NaN</td>\n",
       "    </tr>\n",
       "  </tbody>\n",
       "</table>\n",
       "</div>"
      ],
      "text/plain": [
       "                                                                         0  \\\n",
       "DMO-ÖZEL-İHALE-DEMO                                                   ÖZEL   \n",
       "SİPARİŞ NO/İŞ EMRİ NO/TEKLİF NO                                   2018/001   \n",
       "SİPARİŞ TARİHİ                                                  2018-01-04   \n",
       "SİPARİŞİ VEREN/2018              YENİ HAYAT TIP MERKEZİ-ORJİN SAĞLIK HİZM.   \n",
       "KURULUM YERİ /2018               YENİ HAYAT TIP MERKEZİ-ORJİN SAĞLIK HİZM.   \n",
       "İL                                                                İSTANBUL   \n",
       "ÜRÜN MODELİ                                                     STR 6610 D   \n",
       "ÜRÜN ADI                                 422 LT ÇİFT KAPILI OTOKLAV CİHAZI   \n",
       "LİTRE                                                            422 LİTRE   \n",
       "SERİ NO                                                        2018/01-001   \n",
       "TESLİM \\r\\nSÜRESİ                                                       30   \n",
       "TESLİM TARİHİ                                                          NaN   \n",
       "\n",
       "                                                                                 1  \\\n",
       "DMO-ÖZEL-İHALE-DEMO                                                            DMO   \n",
       "SİPARİŞ NO/İŞ EMRİ NO/TEKLİF NO                                           2018/072   \n",
       "SİPARİŞ TARİHİ                                                          2017-12-28   \n",
       "SİPARİŞİ VEREN/2018                                             DMO GENEL MÜDÜRLÜK   \n",
       "KURULUM YERİ /2018               T.C. GIDA TARIM VE HAYV. BAKANLIĞI GIDA VE KON...   \n",
       "İL                                                                          ANKARA   \n",
       "ÜRÜN MODELİ                                                                 7717 S   \n",
       "ÜRÜN ADI                         2000 LT ÇİFT KAPILI LABARATUVAR TİP BUHAR STER...   \n",
       "LİTRE                                                                   2000 LİTRE   \n",
       "SERİ NO                                                                2018/01-002   \n",
       "TESLİM \\r\\nSÜRESİ                                                          100 GÜN   \n",
       "TESLİM TARİHİ                                                           2018-04-06   \n",
       "\n",
       "                                                                 2  \\\n",
       "DMO-ÖZEL-İHALE-DEMO                                           ÖZEL   \n",
       "SİPARİŞ NO/İŞ EMRİ NO/TEKLİF NO                           2018/071   \n",
       "SİPARİŞ TARİHİ                                          2017-12-25   \n",
       "SİPARİŞİ VEREN/2018                       BURSA RETİNA GÖZ MERKEZİ   \n",
       "KURULUM YERİ /2018                        BURSA RETİNA GÖZ MERKEZİ   \n",
       "İL                                                           BURSA   \n",
       "ÜRÜN MODELİ                                             ERS 4410 D   \n",
       "ÜRÜN ADI                         160 LT ÇİFT KAPILI OTOKLAV CİHAZI   \n",
       "LİTRE                                                    160 LİTRE   \n",
       "SERİ NO                                                2018/01-003   \n",
       "TESLİM \\r\\nSÜRESİ                                               20   \n",
       "TESLİM TARİHİ                                                  NaN   \n",
       "\n",
       "                                                            3  \\\n",
       "DMO-ÖZEL-İHALE-DEMO                                  YURTDIŞI   \n",
       "SİPARİŞ NO/İŞ EMRİ NO/TEKLİF NO                      2018/064   \n",
       "SİPARİŞ TARİHİ                                     2018-01-22   \n",
       "SİPARİŞİ VEREN/2018                           BAHRİ GROUP CO.   \n",
       "KURULUM YERİ /2018                            BAHRİ GROUP CO.   \n",
       "İL                                                 KUZEY IRAK   \n",
       "ÜRÜN MODELİ                                          STR 75 V   \n",
       "ÜRÜN ADI                         75 LT VAKUMLU OTOKLAV CİHAZI   \n",
       "LİTRE                                                   75 LT   \n",
       "SERİ NO                                           2018/01-004   \n",
       "TESLİM \\r\\nSÜRESİ                                          20   \n",
       "TESLİM TARİHİ                                             NaN   \n",
       "\n",
       "                                                                                 4  \n",
       "DMO-ÖZEL-İHALE-DEMO                                                            DMO  \n",
       "SİPARİŞ NO/İŞ EMRİ NO/TEKLİF NO                                           2018/107  \n",
       "SİPARİŞ TARİHİ                                                          2018-01-29  \n",
       "SİPARİŞİ VEREN/2018                                   DMO İSTANBUL BÖLGE MÜDÜRLÜĞÜ  \n",
       "KURULUM YERİ /2018               HUDUT VE SAHİLLER GENEL MÜDÜRLÜĞÜ DESTEK HİZME...  \n",
       "İL                                                                        İSTANBUL  \n",
       "ÜRÜN MODELİ                                                             ERS 6613 D  \n",
       "ÜRÜN ADI                                   550 LT ÇİFT KAYAR KAPILI OTOKLAV CİHAZI  \n",
       "LİTRE                                                                       550 LT  \n",
       "SERİ NO                                                                2018/01-005  \n",
       "TESLİM \\r\\nSÜRESİ                                                               20  \n",
       "TESLİM TARİHİ                                                                  NaN  "
      ]
     },
     "execution_count": 8,
     "metadata": {},
     "output_type": "execute_result"
    }
   ],
   "source": [
    "df_otoklav_18.head().T"
   ]
  },
  {
   "cell_type": "code",
   "execution_count": 9,
   "metadata": {},
   "outputs": [
    {
     "name": "stdout",
     "output_type": "stream",
     "text": [
      "<class 'pandas.core.frame.DataFrame'>\n",
      "RangeIndex: 140 entries, 0 to 139\n",
      "Data columns (total 12 columns):\n",
      " #   Column                           Non-Null Count  Dtype \n",
      "---  ------                           --------------  ----- \n",
      " 0   DMO-ÖZEL-İHALE-DEMO              140 non-null    object\n",
      " 1   SİPARİŞ NO/İŞ EMRİ NO/TEKLİF NO  140 non-null    object\n",
      " 2   SİPARİŞ TARİHİ                   140 non-null    object\n",
      " 3   SİPARİŞİ VEREN/2018              140 non-null    object\n",
      " 4   KURULUM YERİ /2018               140 non-null    object\n",
      " 5   İL                               140 non-null    object\n",
      " 6   ÜRÜN MODELİ                      140 non-null    object\n",
      " 7   ÜRÜN ADI                         140 non-null    object\n",
      " 8   LİTRE                            140 non-null    object\n",
      " 9   SERİ NO                          137 non-null    object\n",
      " 10  TESLİM \n",
      "SÜRESİ                  140 non-null    object\n",
      " 11  TESLİM TARİHİ                    1 non-null      object\n",
      "dtypes: object(12)\n",
      "memory usage: 13.3+ KB\n"
     ]
    }
   ],
   "source": [
    "df_otoklav_18.info()"
   ]
  },
  {
   "cell_type": "code",
   "execution_count": 10,
   "metadata": {},
   "outputs": [
    {
     "data": {
      "text/html": [
       "<div>\n",
       "<style scoped>\n",
       "    .dataframe tbody tr th:only-of-type {\n",
       "        vertical-align: middle;\n",
       "    }\n",
       "\n",
       "    .dataframe tbody tr th {\n",
       "        vertical-align: top;\n",
       "    }\n",
       "\n",
       "    .dataframe thead th {\n",
       "        text-align: right;\n",
       "    }\n",
       "</style>\n",
       "<table border=\"1\" class=\"dataframe\">\n",
       "  <thead>\n",
       "    <tr style=\"text-align: right;\">\n",
       "      <th></th>\n",
       "      <th>count</th>\n",
       "      <th>unique</th>\n",
       "      <th>top</th>\n",
       "      <th>freq</th>\n",
       "    </tr>\n",
       "  </thead>\n",
       "  <tbody>\n",
       "    <tr>\n",
       "      <th>DMO-ÖZEL-İHALE-DEMO</th>\n",
       "      <td>140</td>\n",
       "      <td>4</td>\n",
       "      <td>YURTDIŞI</td>\n",
       "      <td>68</td>\n",
       "    </tr>\n",
       "    <tr>\n",
       "      <th>SİPARİŞ NO/İŞ EMRİ NO/TEKLİF NO</th>\n",
       "      <td>140</td>\n",
       "      <td>140</td>\n",
       "      <td>2018/001</td>\n",
       "      <td>1</td>\n",
       "    </tr>\n",
       "    <tr>\n",
       "      <th>SİPARİŞ TARİHİ</th>\n",
       "      <td>140</td>\n",
       "      <td>60</td>\n",
       "      <td>2018-09-19</td>\n",
       "      <td>46</td>\n",
       "    </tr>\n",
       "    <tr>\n",
       "      <th>SİPARİŞİ VEREN/2018</th>\n",
       "      <td>140</td>\n",
       "      <td>48</td>\n",
       "      <td>ETİYOPYA</td>\n",
       "      <td>46</td>\n",
       "    </tr>\n",
       "    <tr>\n",
       "      <th>KURULUM YERİ /2018</th>\n",
       "      <td>140</td>\n",
       "      <td>67</td>\n",
       "      <td>ETİYOPYA</td>\n",
       "      <td>46</td>\n",
       "    </tr>\n",
       "    <tr>\n",
       "      <th>İL</th>\n",
       "      <td>140</td>\n",
       "      <td>32</td>\n",
       "      <td>ETİYOPYA</td>\n",
       "      <td>46</td>\n",
       "    </tr>\n",
       "    <tr>\n",
       "      <th>ÜRÜN MODELİ</th>\n",
       "      <td>140</td>\n",
       "      <td>28</td>\n",
       "      <td>STR 75 V</td>\n",
       "      <td>47</td>\n",
       "    </tr>\n",
       "    <tr>\n",
       "      <th>ÜRÜN ADI</th>\n",
       "      <td>140</td>\n",
       "      <td>19</td>\n",
       "      <td>75 LT VAKUMLU OTOKLAV CİHAZI</td>\n",
       "      <td>53</td>\n",
       "    </tr>\n",
       "    <tr>\n",
       "      <th>LİTRE</th>\n",
       "      <td>140</td>\n",
       "      <td>13</td>\n",
       "      <td>75 LT</td>\n",
       "      <td>54</td>\n",
       "    </tr>\n",
       "    <tr>\n",
       "      <th>SERİ NO</th>\n",
       "      <td>137</td>\n",
       "      <td>137</td>\n",
       "      <td>2018/01-001</td>\n",
       "      <td>1</td>\n",
       "    </tr>\n",
       "    <tr>\n",
       "      <th>TESLİM \\r\\nSÜRESİ</th>\n",
       "      <td>140</td>\n",
       "      <td>29</td>\n",
       "      <td>35</td>\n",
       "      <td>57</td>\n",
       "    </tr>\n",
       "    <tr>\n",
       "      <th>TESLİM TARİHİ</th>\n",
       "      <td>1</td>\n",
       "      <td>1</td>\n",
       "      <td>2018-04-06</td>\n",
       "      <td>1</td>\n",
       "    </tr>\n",
       "  </tbody>\n",
       "</table>\n",
       "</div>"
      ],
      "text/plain": [
       "                                count unique                           top  \\\n",
       "DMO-ÖZEL-İHALE-DEMO               140      4                      YURTDIŞI   \n",
       "SİPARİŞ NO/İŞ EMRİ NO/TEKLİF NO   140    140                      2018/001   \n",
       "SİPARİŞ TARİHİ                    140     60                    2018-09-19   \n",
       "SİPARİŞİ VEREN/2018               140     48                      ETİYOPYA   \n",
       "KURULUM YERİ /2018                140     67                      ETİYOPYA   \n",
       "İL                                140     32                      ETİYOPYA   \n",
       "ÜRÜN MODELİ                       140     28                      STR 75 V   \n",
       "ÜRÜN ADI                          140     19  75 LT VAKUMLU OTOKLAV CİHAZI   \n",
       "LİTRE                             140     13                         75 LT   \n",
       "SERİ NO                           137    137                   2018/01-001   \n",
       "TESLİM \\r\\nSÜRESİ                 140     29                            35   \n",
       "TESLİM TARİHİ                       1      1                    2018-04-06   \n",
       "\n",
       "                                freq  \n",
       "DMO-ÖZEL-İHALE-DEMO               68  \n",
       "SİPARİŞ NO/İŞ EMRİ NO/TEKLİF NO    1  \n",
       "SİPARİŞ TARİHİ                    46  \n",
       "SİPARİŞİ VEREN/2018               46  \n",
       "KURULUM YERİ /2018                46  \n",
       "İL                                46  \n",
       "ÜRÜN MODELİ                       47  \n",
       "ÜRÜN ADI                          53  \n",
       "LİTRE                             54  \n",
       "SERİ NO                            1  \n",
       "TESLİM \\r\\nSÜRESİ                 57  \n",
       "TESLİM TARİHİ                      1  "
      ]
     },
     "execution_count": 10,
     "metadata": {},
     "output_type": "execute_result"
    }
   ],
   "source": [
    "# Basic statistics summary of Numerical features\n",
    "\n",
    "df_otoklav_18.describe().T"
   ]
  },
  {
   "cell_type": "markdown",
   "metadata": {},
   "source": [
    "## User Defined Funcs for Summary of Data"
   ]
  },
  {
   "cell_type": "code",
   "execution_count": 22,
   "metadata": {},
   "outputs": [],
   "source": [
    "############ Numeric Features Summary #########################\n",
    "\n",
    "def numeric_summary(df):\n",
    "    obs = df.shape[0]\n",
    "    duplicate_count = df.duplicated().sum()\n",
    "    missing_count = df.isnull().sum().sum()\n",
    "    \n",
    "    # Display df.shape, missing and duplicate count at the beginning\n",
    "    print(f'Data shape (rows, columns): {df.shape}')\n",
    "    print(f'Number of duplicate rows: {duplicate_count}')\n",
    "    print(f'Number of missing values: {missing_count}')\n",
    "    \n",
    "    \n",
    "    numeric_df = df.select_dtypes(include='number')\n",
    "    summary_df = pd.DataFrame({\n",
    "        'Dtype': numeric_df.dtypes, \n",
    "        'Counts': numeric_df.apply(lambda x: x.count()), \n",
    "        'Nulls': numeric_df.apply(lambda x: x.isnull().sum()), \n",
    "        'NullPercent': (numeric_df.isnull().sum() / obs) * 100,\n",
    "        'Min': numeric_df.min(),\n",
    "        'Max': numeric_df.max(),\n",
    "        'Uniques': numeric_df.apply(lambda x: x.unique().shape[0]),\n",
    "        'UniqueValues': numeric_df.apply(lambda x: list(x.unique()) if x.nunique() <= 10 else '-')\n",
    "    })\n",
    "    \n",
    "    print('___________________________\\nData Types:')\n",
    "    print(summary_df['Dtype'].value_counts())\n",
    "    print('___________________________')\n",
    "    return summary_df\n",
    "\n",
    "\n",
    "########## Categorical Features Summary ########################\n",
    "\n",
    "def object_summary(df):\n",
    "    obs = df.shape[0]\n",
    "    duplicate_count = df.duplicated().sum()\n",
    "    missing_count = df.isnull().sum().sum()\n",
    "        \n",
    "    # Display df.shape, missing and duplicate count at the beginning\n",
    "    print(f'Data shape (rows, columns): {df.shape}')\n",
    "    print(f'Number of duplicate rows: {duplicate_count}')\n",
    "    print(f'Number of missing values: {missing_count}')\n",
    "    \n",
    "    object_df = df.select_dtypes(include='object')\n",
    "    summary_df = pd.DataFrame({\n",
    "        'Dtype': object_df.dtypes,\n",
    "        'Counts': object_df.apply(lambda x: x.count()),\n",
    "        'Nulls': object_df.apply(lambda x: x.isnull().sum()),\n",
    "        'NullPercent': (object_df.isnull().sum() / obs) * 100,\n",
    "        'Top': object_df.apply(lambda x: x.mode()[0] if not x.mode().empty else '-'),\n",
    "        'Frequency': object_df.apply(lambda x: x.value_counts().max() if not x.value_counts().empty else '-'),\n",
    "        'Uniques': object_df.apply(lambda x: x.unique().shape[0]),\n",
    "        'UniqueValues': object_df.apply(lambda x: list(x.unique()) if x.nunique() <= 10 else '-')\n",
    "    })\n",
    "    \n",
    "    print('___________________________\\nData Types:')\n",
    "    print(summary_df['Dtype'].value_counts())\n",
    "    print('___________________________')\n",
    "    return summary_df\n"
   ]
  },
  {
   "cell_type": "code",
   "execution_count": 26,
   "metadata": {},
   "outputs": [
    {
     "name": "stdout",
     "output_type": "stream",
     "text": [
      "Data shape (rows, columns): (140, 12)\n",
      "Number of duplicate rows: 0\n",
      "Number of missing values: 142\n",
      "___________________________\n",
      "Data Types:\n",
      "Series([], Name: count, dtype: int64)\n",
      "___________________________\n"
     ]
    },
    {
     "data": {
      "text/html": [
       "<div>\n",
       "<style scoped>\n",
       "    .dataframe tbody tr th:only-of-type {\n",
       "        vertical-align: middle;\n",
       "    }\n",
       "\n",
       "    .dataframe tbody tr th {\n",
       "        vertical-align: top;\n",
       "    }\n",
       "\n",
       "    .dataframe thead th {\n",
       "        text-align: right;\n",
       "    }\n",
       "</style>\n",
       "<table border=\"1\" class=\"dataframe\">\n",
       "  <thead>\n",
       "    <tr style=\"text-align: right;\">\n",
       "      <th></th>\n",
       "      <th>Dtype</th>\n",
       "      <th>Counts</th>\n",
       "      <th>Nulls</th>\n",
       "      <th>NullPercent</th>\n",
       "      <th>Min</th>\n",
       "      <th>Max</th>\n",
       "      <th>Uniques</th>\n",
       "      <th>UniqueValues</th>\n",
       "    </tr>\n",
       "  </thead>\n",
       "  <tbody>\n",
       "  </tbody>\n",
       "</table>\n",
       "</div>"
      ],
      "text/plain": [
       "Empty DataFrame\n",
       "Columns: [Dtype, Counts, Nulls, NullPercent, Min, Max, Uniques, UniqueValues]\n",
       "Index: []"
      ]
     },
     "execution_count": 26,
     "metadata": {},
     "output_type": "execute_result"
    }
   ],
   "source": [
    "numeric_summary(df_otoklav_18)"
   ]
  },
  {
   "cell_type": "code",
   "execution_count": 25,
   "metadata": {},
   "outputs": [
    {
     "name": "stdout",
     "output_type": "stream",
     "text": [
      "Data shape (rows, columns): (140, 12)\n",
      "Number of duplicate rows: 0\n",
      "Number of missing values: 142\n",
      "___________________________\n",
      "Data Types:\n",
      "Dtype\n",
      "object    12\n",
      "Name: count, dtype: int64\n",
      "___________________________\n"
     ]
    },
    {
     "data": {
      "text/html": [
       "<div>\n",
       "<style scoped>\n",
       "    .dataframe tbody tr th:only-of-type {\n",
       "        vertical-align: middle;\n",
       "    }\n",
       "\n",
       "    .dataframe tbody tr th {\n",
       "        vertical-align: top;\n",
       "    }\n",
       "\n",
       "    .dataframe thead th {\n",
       "        text-align: right;\n",
       "    }\n",
       "</style>\n",
       "<table border=\"1\" class=\"dataframe\">\n",
       "  <thead>\n",
       "    <tr style=\"text-align: right;\">\n",
       "      <th></th>\n",
       "      <th>Dtype</th>\n",
       "      <th>Counts</th>\n",
       "      <th>Nulls</th>\n",
       "      <th>NullPercent</th>\n",
       "      <th>Top</th>\n",
       "      <th>Frequency</th>\n",
       "      <th>Uniques</th>\n",
       "      <th>UniqueValues</th>\n",
       "    </tr>\n",
       "  </thead>\n",
       "  <tbody>\n",
       "    <tr>\n",
       "      <th>DMO-ÖZEL-İHALE-DEMO</th>\n",
       "      <td>object</td>\n",
       "      <td>140</td>\n",
       "      <td>0</td>\n",
       "      <td>0.000000</td>\n",
       "      <td>YURTDIŞI</td>\n",
       "      <td>68</td>\n",
       "      <td>4</td>\n",
       "      <td>[ÖZEL, DMO, YURTDIŞI, İHALE]</td>\n",
       "    </tr>\n",
       "    <tr>\n",
       "      <th>SİPARİŞ NO/İŞ EMRİ NO/TEKLİF NO</th>\n",
       "      <td>object</td>\n",
       "      <td>140</td>\n",
       "      <td>0</td>\n",
       "      <td>0.000000</td>\n",
       "      <td>2018/001</td>\n",
       "      <td>1</td>\n",
       "      <td>140</td>\n",
       "      <td>-</td>\n",
       "    </tr>\n",
       "    <tr>\n",
       "      <th>SİPARİŞ TARİHİ</th>\n",
       "      <td>object</td>\n",
       "      <td>140</td>\n",
       "      <td>0</td>\n",
       "      <td>0.000000</td>\n",
       "      <td>2018-09-19</td>\n",
       "      <td>46</td>\n",
       "      <td>60</td>\n",
       "      <td>-</td>\n",
       "    </tr>\n",
       "    <tr>\n",
       "      <th>SİPARİŞİ VEREN/2018</th>\n",
       "      <td>object</td>\n",
       "      <td>140</td>\n",
       "      <td>0</td>\n",
       "      <td>0.000000</td>\n",
       "      <td>ETİYOPYA</td>\n",
       "      <td>46</td>\n",
       "      <td>48</td>\n",
       "      <td>-</td>\n",
       "    </tr>\n",
       "    <tr>\n",
       "      <th>KURULUM YERİ /2018</th>\n",
       "      <td>object</td>\n",
       "      <td>140</td>\n",
       "      <td>0</td>\n",
       "      <td>0.000000</td>\n",
       "      <td>ETİYOPYA</td>\n",
       "      <td>46</td>\n",
       "      <td>67</td>\n",
       "      <td>-</td>\n",
       "    </tr>\n",
       "    <tr>\n",
       "      <th>İL</th>\n",
       "      <td>object</td>\n",
       "      <td>140</td>\n",
       "      <td>0</td>\n",
       "      <td>0.000000</td>\n",
       "      <td>ETİYOPYA</td>\n",
       "      <td>46</td>\n",
       "      <td>32</td>\n",
       "      <td>-</td>\n",
       "    </tr>\n",
       "    <tr>\n",
       "      <th>ÜRÜN MODELİ</th>\n",
       "      <td>object</td>\n",
       "      <td>140</td>\n",
       "      <td>0</td>\n",
       "      <td>0.000000</td>\n",
       "      <td>STR 75 V</td>\n",
       "      <td>47</td>\n",
       "      <td>28</td>\n",
       "      <td>-</td>\n",
       "    </tr>\n",
       "    <tr>\n",
       "      <th>ÜRÜN ADI</th>\n",
       "      <td>object</td>\n",
       "      <td>140</td>\n",
       "      <td>0</td>\n",
       "      <td>0.000000</td>\n",
       "      <td>75 LT VAKUMLU OTOKLAV CİHAZI</td>\n",
       "      <td>53</td>\n",
       "      <td>19</td>\n",
       "      <td>-</td>\n",
       "    </tr>\n",
       "    <tr>\n",
       "      <th>LİTRE</th>\n",
       "      <td>object</td>\n",
       "      <td>140</td>\n",
       "      <td>0</td>\n",
       "      <td>0.000000</td>\n",
       "      <td>75 LT</td>\n",
       "      <td>54</td>\n",
       "      <td>13</td>\n",
       "      <td>-</td>\n",
       "    </tr>\n",
       "    <tr>\n",
       "      <th>SERİ NO</th>\n",
       "      <td>object</td>\n",
       "      <td>137</td>\n",
       "      <td>3</td>\n",
       "      <td>2.142857</td>\n",
       "      <td>2018/01-001</td>\n",
       "      <td>1</td>\n",
       "      <td>138</td>\n",
       "      <td>-</td>\n",
       "    </tr>\n",
       "    <tr>\n",
       "      <th>TESLİM \\r\\nSÜRESİ</th>\n",
       "      <td>object</td>\n",
       "      <td>140</td>\n",
       "      <td>0</td>\n",
       "      <td>0.000000</td>\n",
       "      <td>35</td>\n",
       "      <td>57</td>\n",
       "      <td>29</td>\n",
       "      <td>-</td>\n",
       "    </tr>\n",
       "    <tr>\n",
       "      <th>TESLİM TARİHİ</th>\n",
       "      <td>object</td>\n",
       "      <td>1</td>\n",
       "      <td>139</td>\n",
       "      <td>99.285714</td>\n",
       "      <td>2018-04-06</td>\n",
       "      <td>1</td>\n",
       "      <td>2</td>\n",
       "      <td>[nan, 2018-04-06]</td>\n",
       "    </tr>\n",
       "  </tbody>\n",
       "</table>\n",
       "</div>"
      ],
      "text/plain": [
       "                                  Dtype  Counts  Nulls  NullPercent  \\\n",
       "DMO-ÖZEL-İHALE-DEMO              object     140      0     0.000000   \n",
       "SİPARİŞ NO/İŞ EMRİ NO/TEKLİF NO  object     140      0     0.000000   \n",
       "SİPARİŞ TARİHİ                   object     140      0     0.000000   \n",
       "SİPARİŞİ VEREN/2018              object     140      0     0.000000   \n",
       "KURULUM YERİ /2018               object     140      0     0.000000   \n",
       "İL                               object     140      0     0.000000   \n",
       "ÜRÜN MODELİ                      object     140      0     0.000000   \n",
       "ÜRÜN ADI                         object     140      0     0.000000   \n",
       "LİTRE                            object     140      0     0.000000   \n",
       "SERİ NO                          object     137      3     2.142857   \n",
       "TESLİM \\r\\nSÜRESİ                object     140      0     0.000000   \n",
       "TESLİM TARİHİ                    object       1    139    99.285714   \n",
       "\n",
       "                                                          Top  Frequency  \\\n",
       "DMO-ÖZEL-İHALE-DEMO                                  YURTDIŞI         68   \n",
       "SİPARİŞ NO/İŞ EMRİ NO/TEKLİF NO                      2018/001          1   \n",
       "SİPARİŞ TARİHİ                                     2018-09-19         46   \n",
       "SİPARİŞİ VEREN/2018                                  ETİYOPYA         46   \n",
       "KURULUM YERİ /2018                                   ETİYOPYA         46   \n",
       "İL                                                   ETİYOPYA         46   \n",
       "ÜRÜN MODELİ                                          STR 75 V         47   \n",
       "ÜRÜN ADI                         75 LT VAKUMLU OTOKLAV CİHAZI         53   \n",
       "LİTRE                                                   75 LT         54   \n",
       "SERİ NO                                           2018/01-001          1   \n",
       "TESLİM \\r\\nSÜRESİ                                          35         57   \n",
       "TESLİM TARİHİ                                      2018-04-06          1   \n",
       "\n",
       "                                 Uniques                  UniqueValues  \n",
       "DMO-ÖZEL-İHALE-DEMO                    4  [ÖZEL, DMO, YURTDIŞI, İHALE]  \n",
       "SİPARİŞ NO/İŞ EMRİ NO/TEKLİF NO      140                             -  \n",
       "SİPARİŞ TARİHİ                        60                             -  \n",
       "SİPARİŞİ VEREN/2018                   48                             -  \n",
       "KURULUM YERİ /2018                    67                             -  \n",
       "İL                                    32                             -  \n",
       "ÜRÜN MODELİ                           28                             -  \n",
       "ÜRÜN ADI                              19                             -  \n",
       "LİTRE                                 13                             -  \n",
       "SERİ NO                              138                             -  \n",
       "TESLİM \\r\\nSÜRESİ                     29                             -  \n",
       "TESLİM TARİHİ                          2             [nan, 2018-04-06]  "
      ]
     },
     "execution_count": 25,
     "metadata": {},
     "output_type": "execute_result"
    }
   ],
   "source": [
    "object_summary(df_otoklav_18)"
   ]
  },
  {
   "cell_type": "markdown",
   "metadata": {},
   "source": [
    "## User Defined Funcs"
   ]
  },
  {
   "cell_type": "code",
   "execution_count": 27,
   "metadata": {},
   "outputs": [],
   "source": [
    "# =============== User-Defined-Function ==========================\n",
    "\n",
    "#======= Get count and percentage of values for each column ======\n",
    "def get_value_count(df, column_name):\n",
    "    \"\"\"\n",
    "    This function calculates and returns a DataFrame with the value counts and \n",
    "    their corresponding percentages for a specified column in the DataFrame.\n",
    "    \"\"\"\n",
    "    \n",
    "    vc = df[column_name].value_counts()\n",
    "    vc_norm = df[column_name].value_counts(normalize=True)\n",
    "    \n",
    "    vc = vc.rename_axis(column_name).reset_index(name='counts')\n",
    "    vc_norm = vc_norm.rename_axis(column_name).reset_index(name='percent')\n",
    "    vc_norm['percent'] = (vc_norm['percent'] * 100).map('{:.2f}%'.format)\n",
    "    \n",
    "    df_result = pd.concat([vc[column_name], vc['counts'], vc_norm['percent']], axis=1)\n",
    "    \n",
    "    return df_result\n",
    "\n",
    "\n",
    "\n",
    "# ========== User-Defined-Function for Missing Values ============\n",
    "def missing_values(df):\n",
    "    \"\"\"This function calculates the missing values count and their percentage in a DataFrame.\"\"\"\n",
    "\n",
    "    missing_count = df.isnull().sum()\n",
    "    value_count = df.isnull().count()\n",
    "    missing_percentage = round(missing_count / value_count * 100, 2)\n",
    "    \n",
    "    # Format the percentage as '0.00%' with % symbol\n",
    "    missing_percentage_formatted = missing_percentage.map(\"{:.2f}%\".format)\n",
    "    # Create a DataFrame to store the results\n",
    "    missing_df = pd.DataFrame({\"count\": missing_count, \"percentage\": missing_percentage_formatted})\n",
    "    \n",
    "    return missing_df\n",
    "\n",
    "\n",
    "# ============= Compare Missing Values (Train-Test ==============\n",
    "def compare_missing_values(train, test):\n",
    "    \"\"\"\n",
    "    Compares missing values between train and test datasets, returning counts, percentages, and data types.\n",
    "    \"\"\"\n",
    "    def missing_data(df, label):\n",
    "        missing_count = df.isna().sum()[df.isna().sum() > 0]\n",
    "        total_count = len(df)\n",
    "        missing_percentage = (missing_count / total_count * 100).map(\"{:.2f}%\".format)\n",
    "        return pd.DataFrame({\n",
    "            f'{label} Missing Values': missing_count,\n",
    "            f'{label} Missing Percentage': missing_percentage,\n",
    "            f'{label} dtypes': df.dtypes[missing_count.index]\n",
    "        })\n",
    "    \n",
    "    # Get missing data for train and test\n",
    "    train_missing_df = missing_data(train, 'Train')\n",
    "    test_missing_df = missing_data(test, 'Test')\n",
    "    \n",
    "    # Concatenate the missing values side by side\n",
    "    return pd.concat([train_missing_df, test_missing_df], axis=1)\n",
    "\n",
    "\n",
    "# ========== Plotting Missing Values  ===========================\n",
    "def na_ratio_plot(df):\n",
    "    \"\"\"Plots the ratio of missing values for each feature and prints the count of missing values.\"\"\"\n",
    "    \n",
    "    sns.displot(df.isna().melt(value_name='Missing_data',var_name='Features')\\\n",
    "                ,y='Features',hue='Missing_data',multiple='fill',aspect=9/8)\n",
    "\n",
    "    print(df.isna().sum()[df.isna().sum()>0])\n",
    "\n",
    "    \n",
    "    \n",
    "#========== Detecting Anomalies ================================\n",
    "\n",
    "def detect_anomalies(df, column_name):\n",
    "    \"\"\"\n",
    "    Detects values with unusual (non-alphanumeric) characters in a column.\n",
    "    Returns: list: Detected unusual character values.\n",
    "    \"\"\"\n",
    "    # Get the unique values in the column\n",
    "    unique_values = df[column_name].unique()    \n",
    "    # Detect values with unusual characters (non-alphanumeric)\n",
    "    unusual_characters = [val for val in unique_values if isinstance(val, str) and not val.isalnum()]\n",
    "    \n",
    "    # Return the list as a single string with values separated by commas\n",
    "    return ', '.join(unusual_characters)\n",
    "\n",
    "\n",
    "#========== Detecting Non-Numerical Characters ===========================\n",
    "\n",
    "import re\n",
    "\n",
    "def find_non_numeric_values(df, column_name):\n",
    "    \"\"\"\n",
    "    Finds unique non-numeric values in a specified column of the DataFrame.\n",
    "    \"\"\"\n",
    "    pattern = r'\\D+'  # Pattern to match non-numeric characters\n",
    "    # Find and flatten non-numeric values, then ensure uniqueness with set\n",
    "    return set(re.findall(pattern, ' '.join(df[column_name].astype(str))))\n",
    "\n",
    "\n",
    "#=============== Clean_Unusual_Characters ===========================\n",
    "\n",
    "import re\n",
    "import numpy as np\n",
    "\n",
    "def clean_and_convert_numeric(df, column_name):\n",
    "    \"\"\"\n",
    "    This function cleans non-numeric characters from a specified column, \n",
    "    converts the column to float, and handles negative values.\n",
    "\n",
    "    Parameters:\n",
    "    df (DataFrame): The input DataFrame.\n",
    "    column_name (str): The name of the column to clean and convert.\n",
    "\n",
    "    Returns:\n",
    "    DataFrame: The DataFrame with the cleaned and converted column.\n",
    "    \"\"\"\n",
    "    # 1. Remove non-numeric characters from the specified column\n",
    "    df[column_name] = df[column_name].apply(lambda x: re.sub(r'[^0-9.]', '', str(x)))\n",
    "    \n",
    "    # 2. Replace empty strings with NaN\n",
    "    df[column_name].replace('', np.nan, inplace=True)\n",
    "    \n",
    "    # 3. Convert the column to float\n",
    "    df[column_name] = df[column_name].astype(float)\n",
    "    \n",
    "    # 4. Convert negatives to positives (absolute values)\n",
    "    df[column_name] = df[column_name].abs()\n",
    "    \n",
    "    return df\n",
    "\n",
    "\n",
    "# ============== User-Defined-Fonction ======================\n",
    "\n",
    "from sklearn.impute import KNNImputer\n",
    "\n",
    "def knn_impute_column(df, column, n_neighbors=5):\n",
    "    \"\"\"\n",
    "    Impute missing values in the specified column using KNN.\n",
    "    Args: df (DataFrame), column (str), n_neighbors (int): Number of neighbors (Default is 5).\n",
    "    Returns: DataFrame: DataFrame with imputed column.\n",
    "    \"\"\"\n",
    "    # Apply KNN imputation to the specified column\n",
    "    imputer = KNNImputer(n_neighbors=n_neighbors)\n",
    "    df[[column]] = imputer.fit_transform(df[[column]])\n",
    "    \n",
    "    return df\n",
    "# ============================================================\n"
   ]
  },
  {
   "cell_type": "markdown",
   "metadata": {},
   "source": [
    "<a id='duplicated'></a>\n",
    "## Duplicated Values"
   ]
  },
  {
   "cell_type": "code",
   "execution_count": 28,
   "metadata": {},
   "outputs": [
    {
     "data": {
      "text/plain": [
       "0"
      ]
     },
     "execution_count": 28,
     "metadata": {},
     "output_type": "execute_result"
    }
   ],
   "source": [
    "df_otoklav_18.duplicated().sum()"
   ]
  },
  {
   "cell_type": "code",
   "execution_count": 29,
   "metadata": {},
   "outputs": [
    {
     "name": "stdout",
     "output_type": "stream",
     "text": [
      "Duplicate check...\n",
      "There are no duplicated observations in the dataset.\n"
     ]
    }
   ],
   "source": [
    "# Checks duplicates and drops them\n",
    "\n",
    "def duplicate_values(df):\n",
    "    print(\"Duplicate check...\")\n",
    "    num_duplicates = df.duplicated(subset=None, keep='first').sum()\n",
    "    if num_duplicates > 0:\n",
    "        print(\"There are\", num_duplicates, \"duplicated observations in the dataset.\")\n",
    "        df.drop_duplicates(keep='first', inplace=True)\n",
    "        print(num_duplicates, \"duplicates were dropped!\")\n",
    "        print(\"No more duplicate rows!\")\n",
    "    else:\n",
    "        print(\"There are no duplicated observations in the dataset.\")\n",
    "\n",
    "duplicate_values(df_otoklav_18)"
   ]
  },
  {
   "cell_type": "code",
   "execution_count": 30,
   "metadata": {},
   "outputs": [],
   "source": [
    "# Let's observe first the unique values\n",
    "\n",
    "def get_unique_values(df):\n",
    "    \n",
    "    output_data = []\n",
    "\n",
    "    for col in df.columns:\n",
    "\n",
    "        # If the number of unique values in the column is less than or equal to 5\n",
    "        if df.loc[:, col].nunique() <= 10:\n",
    "            # Get the unique values in the column\n",
    "            unique_values = df.loc[:, col].unique()\n",
    "            # Append the column name, number of unique values, unique values, and data type to the output data\n",
    "            output_data.append([col, df.loc[:, col].nunique(), unique_values, df.loc[:, col].dtype])\n",
    "        else:\n",
    "            # Otherwise, append only the column name, number of unique values, and data type to the output data\n",
    "            output_data.append([col, df.loc[:, col].nunique(),\"-\", df.loc[:, col].dtype])\n",
    "\n",
    "    output_df = pd.DataFrame(output_data, columns=['Column Name', 'Number of Unique Values', ' Unique Values ', 'Data Type'])\n",
    "\n",
    "    return output_df"
   ]
  },
  {
   "cell_type": "code",
   "execution_count": 31,
   "metadata": {},
   "outputs": [
    {
     "data": {
      "text/html": [
       "<div>\n",
       "<style scoped>\n",
       "    .dataframe tbody tr th:only-of-type {\n",
       "        vertical-align: middle;\n",
       "    }\n",
       "\n",
       "    .dataframe tbody tr th {\n",
       "        vertical-align: top;\n",
       "    }\n",
       "\n",
       "    .dataframe thead th {\n",
       "        text-align: right;\n",
       "    }\n",
       "</style>\n",
       "<table border=\"1\" class=\"dataframe\">\n",
       "  <thead>\n",
       "    <tr style=\"text-align: right;\">\n",
       "      <th></th>\n",
       "      <th>Column Name</th>\n",
       "      <th>Number of Unique Values</th>\n",
       "      <th>Unique Values</th>\n",
       "      <th>Data Type</th>\n",
       "    </tr>\n",
       "  </thead>\n",
       "  <tbody>\n",
       "    <tr>\n",
       "      <th>0</th>\n",
       "      <td>DMO-ÖZEL-İHALE-DEMO</td>\n",
       "      <td>4</td>\n",
       "      <td>[ÖZEL, DMO, YURTDIŞI, İHALE]</td>\n",
       "      <td>object</td>\n",
       "    </tr>\n",
       "    <tr>\n",
       "      <th>1</th>\n",
       "      <td>SİPARİŞ NO/İŞ EMRİ NO/TEKLİF NO</td>\n",
       "      <td>140</td>\n",
       "      <td>-</td>\n",
       "      <td>object</td>\n",
       "    </tr>\n",
       "    <tr>\n",
       "      <th>2</th>\n",
       "      <td>SİPARİŞ TARİHİ</td>\n",
       "      <td>60</td>\n",
       "      <td>-</td>\n",
       "      <td>object</td>\n",
       "    </tr>\n",
       "    <tr>\n",
       "      <th>3</th>\n",
       "      <td>SİPARİŞİ VEREN/2018</td>\n",
       "      <td>48</td>\n",
       "      <td>-</td>\n",
       "      <td>object</td>\n",
       "    </tr>\n",
       "    <tr>\n",
       "      <th>4</th>\n",
       "      <td>KURULUM YERİ /2018</td>\n",
       "      <td>67</td>\n",
       "      <td>-</td>\n",
       "      <td>object</td>\n",
       "    </tr>\n",
       "    <tr>\n",
       "      <th>5</th>\n",
       "      <td>İL</td>\n",
       "      <td>32</td>\n",
       "      <td>-</td>\n",
       "      <td>object</td>\n",
       "    </tr>\n",
       "    <tr>\n",
       "      <th>6</th>\n",
       "      <td>ÜRÜN MODELİ</td>\n",
       "      <td>28</td>\n",
       "      <td>-</td>\n",
       "      <td>object</td>\n",
       "    </tr>\n",
       "    <tr>\n",
       "      <th>7</th>\n",
       "      <td>ÜRÜN ADI</td>\n",
       "      <td>19</td>\n",
       "      <td>-</td>\n",
       "      <td>object</td>\n",
       "    </tr>\n",
       "    <tr>\n",
       "      <th>8</th>\n",
       "      <td>LİTRE</td>\n",
       "      <td>13</td>\n",
       "      <td>-</td>\n",
       "      <td>object</td>\n",
       "    </tr>\n",
       "    <tr>\n",
       "      <th>9</th>\n",
       "      <td>SERİ NO</td>\n",
       "      <td>137</td>\n",
       "      <td>-</td>\n",
       "      <td>object</td>\n",
       "    </tr>\n",
       "    <tr>\n",
       "      <th>10</th>\n",
       "      <td>TESLİM \\r\\nSÜRESİ</td>\n",
       "      <td>29</td>\n",
       "      <td>-</td>\n",
       "      <td>object</td>\n",
       "    </tr>\n",
       "    <tr>\n",
       "      <th>11</th>\n",
       "      <td>TESLİM TARİHİ</td>\n",
       "      <td>1</td>\n",
       "      <td>[nan, 2018-04-06]</td>\n",
       "      <td>object</td>\n",
       "    </tr>\n",
       "  </tbody>\n",
       "</table>\n",
       "</div>"
      ],
      "text/plain": [
       "                        Column Name  Number of Unique Values  \\\n",
       "0               DMO-ÖZEL-İHALE-DEMO                        4   \n",
       "1   SİPARİŞ NO/İŞ EMRİ NO/TEKLİF NO                      140   \n",
       "2                    SİPARİŞ TARİHİ                       60   \n",
       "3               SİPARİŞİ VEREN/2018                       48   \n",
       "4                KURULUM YERİ /2018                       67   \n",
       "5                                İL                       32   \n",
       "6                       ÜRÜN MODELİ                       28   \n",
       "7                          ÜRÜN ADI                       19   \n",
       "8                             LİTRE                       13   \n",
       "9                           SERİ NO                      137   \n",
       "10                TESLİM \\r\\nSÜRESİ                       29   \n",
       "11                    TESLİM TARİHİ                        1   \n",
       "\n",
       "                  Unique Values  Data Type  \n",
       "0   [ÖZEL, DMO, YURTDIŞI, İHALE]    object  \n",
       "1                              -    object  \n",
       "2                              -    object  \n",
       "3                              -    object  \n",
       "4                              -    object  \n",
       "5                              -    object  \n",
       "6                              -    object  \n",
       "7                              -    object  \n",
       "8                              -    object  \n",
       "9                              -    object  \n",
       "10                             -    object  \n",
       "11             [nan, 2018-04-06]    object  "
      ]
     },
     "execution_count": 31,
     "metadata": {},
     "output_type": "execute_result"
    }
   ],
   "source": [
    "get_unique_values(df_otoklav_18)"
   ]
  },
  {
   "cell_type": "markdown",
   "metadata": {},
   "source": [
    "<a id='missing'></a>\n",
    "## Missing Values"
   ]
  },
  {
   "cell_type": "code",
   "execution_count": null,
   "metadata": {},
   "outputs": [],
   "source": [
    "def missing_values(df):\n",
    "\n",
    "    missing_count = df.isnull().sum()\n",
    "    value_count = df.isnull().count()\n",
    "    missing_percentage = round(missing_count / value_count * 100, 2)\n",
    "    missing_df = pd.DataFrame({\"count\": missing_count, \"percentage\": missing_percentage})\n",
    "    return missing_df\n",
    "\n",
    "missing_values(df)"
   ]
  },
  {
   "cell_type": "code",
   "execution_count": null,
   "metadata": {},
   "outputs": [],
   "source": [
    "# As observed in the count graphics below, the workclass and occupation features contain \"?\" values.\n",
    "# Replace the values with nan\n",
    "\n",
    "df[df == '?'] = np.nan"
   ]
  },
  {
   "cell_type": "code",
   "execution_count": null,
   "metadata": {},
   "outputs": [],
   "source": [
    "# After replacing '?' symboll to 'nan' value, we can see the missing values now\n",
    "missing_values(df)"
   ]
  },
  {
   "cell_type": "markdown",
   "metadata": {},
   "source": [
    "### Filter and Update the df"
   ]
  },
  {
   "cell_type": "code",
   "execution_count": null,
   "metadata": {},
   "outputs": [],
   "source": [
    "models = df.make_model.value_counts()\n",
    "models\n",
    "\n",
    "# Dropping the only Audi A2 observation to increase model performance\n",
    "\n",
    "df = df[df['make_model'] != 'Audi A2'] \n",
    "df[df.make_model==\"Audi A2\"]"
   ]
  },
  {
   "cell_type": "markdown",
   "metadata": {},
   "source": [
    "### Handle Missing Values on the `workclass` Column "
   ]
  },
  {
   "cell_type": "code",
   "execution_count": null,
   "metadata": {},
   "outputs": [],
   "source": [
    "df['workclass'].value_counts(normalize=True)"
   ]
  },
  {
   "cell_type": "code",
   "execution_count": null,
   "metadata": {},
   "outputs": [],
   "source": [
    "plt.figure(figsize = (8,5))\n",
    "ax = sns.countplot(y = df['workclass'], hue = df['income'] , palette='BuPu')\n",
    "plt.title(\"Income by workclass\", fontsize = 16)\n",
    "ax.bar_label(ax.containers[0]);\n",
    "ax.legend(loc='center right')"
   ]
  },
  {
   "cell_type": "markdown",
   "metadata": {},
   "source": [
    "- Distribution of income levels (<=50K and >50K) across different work classes, indicating that the majority of individuals in the 'Private' work class earn <=50K.\n",
    "- To fill the missing values in the 'workclass' feature, it is generally better to use the mode (most frequent value) because it maintains the distribution and the majority representation in the data. In this case, the mode is 'Private'."
   ]
  },
  {
   "cell_type": "code",
   "execution_count": null,
   "metadata": {},
   "outputs": [],
   "source": [
    "df['workclass'] = df['workclass'].fillna('Private')"
   ]
  },
  {
   "cell_type": "code",
   "execution_count": null,
   "metadata": {},
   "outputs": [],
   "source": [
    "##Check missing values\n",
    "missing_values(df)"
   ]
  },
  {
   "cell_type": "markdown",
   "metadata": {},
   "source": [
    "### Handle Missing Values on the `occupation` Column"
   ]
  },
  {
   "cell_type": "code",
   "execution_count": null,
   "metadata": {},
   "outputs": [],
   "source": [
    "df['occupation'].value_counts(normalize=True)"
   ]
  },
  {
   "cell_type": "code",
   "execution_count": null,
   "metadata": {},
   "outputs": [],
   "source": [
    "plt.figure(figsize = (8,5))\n",
    "ax = sns.countplot(y = df['occupation'], hue = df['income'], palette='BuPu')\n",
    "plt.title(\"Income by occupation\", fontsize = 16)\n",
    "ax.bar_label(ax.containers[0])\n",
    "ax.legend(loc='lower right')\n",
    "plt.show()"
   ]
  },
  {
   "cell_type": "code",
   "execution_count": null,
   "metadata": {},
   "outputs": [],
   "source": [
    "df['occupation'] = df['occupation'].fillna(df['occupation'].mode()[0])"
   ]
  },
  {
   "cell_type": "code",
   "execution_count": null,
   "metadata": {},
   "outputs": [],
   "source": [
    "#Check missing values\n",
    "missing_values(df)"
   ]
  },
  {
   "cell_type": "markdown",
   "metadata": {},
   "source": [
    "### Handle Missing Values on the `native country` Column"
   ]
  },
  {
   "cell_type": "code",
   "execution_count": null,
   "metadata": {},
   "outputs": [],
   "source": [
    "df['native.country'].value_counts(normalize=True)"
   ]
  },
  {
   "cell_type": "code",
   "execution_count": null,
   "metadata": {},
   "outputs": [],
   "source": [
    "df['native.country'].mode()[0]"
   ]
  },
  {
   "cell_type": "code",
   "execution_count": null,
   "metadata": {},
   "outputs": [],
   "source": [
    "# Filling any missing values (NaN) in the native.country column with \"United-States\" which is the mode.\n",
    "df['native.country'] = df['native.country'].fillna('United-States')"
   ]
  },
  {
   "cell_type": "code",
   "execution_count": null,
   "metadata": {},
   "outputs": [],
   "source": [
    "#Check missing values\n",
    "missing_values(df)"
   ]
  },
  {
   "cell_type": "markdown",
   "metadata": {},
   "source": [
    "##  Cleaning and Preparing Each Column"
   ]
  },
  {
   "cell_type": "code",
   "execution_count": null,
   "metadata": {},
   "outputs": [],
   "source": [
    "# Fonction for counting and normalizing values in the column\n",
    "\n",
    "def value_cnt_fonc(df, column_name):\n",
    "    vc = df[column_name].value_counts()\n",
    "    vc_norm = df[column_name].value_counts(normalize=True)\n",
    "\n",
    "    vc = vc.rename_axis(column_name).reset_index(name='counts')\n",
    "    vc_norm = vc_norm.rename_axis(column_name).reset_index(name='norm_counts')\n",
    "\n",
    "    df_result = pd.concat([vc[column_name], vc['counts'], vc_norm['norm_counts']], axis=1)\n",
    "    \n",
    "    return df_result"
   ]
  },
  {
   "cell_type": "code",
   "execution_count": null,
   "metadata": {},
   "outputs": [],
   "source": [
    "# Categorcal and Numerecal Features List\n",
    "\n",
    "cat_features = df.select_dtypes(include='object').columns\n",
    "num_features = df.select_dtypes(include=['int64','float64']).columns\n",
    "\n",
    "print('Categoricals:', list(cat_features))\n",
    "print('---------------------------')\n",
    "print('Numericals:',list(num_features))"
   ]
  },
  {
   "cell_type": "markdown",
   "metadata": {},
   "source": [
    "## Target Feature `income`"
   ]
  },
  {
   "cell_type": "code",
   "execution_count": null,
   "metadata": {},
   "outputs": [],
   "source": [
    "value_cnt_fonc(df, 'income')"
   ]
  },
  {
   "cell_type": "code",
   "execution_count": null,
   "metadata": {},
   "outputs": [],
   "source": [
    "# Convert income values to binary: 0 for <=50K, 1 for >50K\n",
    "\n",
    "df['income'] = df['income'].map({'<=50K': 0, '>50K': 1})"
   ]
  },
  {
   "cell_type": "code",
   "execution_count": null,
   "metadata": {},
   "outputs": [],
   "source": [
    "df.sample(3)"
   ]
  },
  {
   "cell_type": "code",
   "execution_count": null,
   "metadata": {},
   "outputs": [],
   "source": [
    "income_less_50K = df[df['income'] == 0].shape[0]\n",
    "income_over_50K = df[df['income'] == 1].shape[0]\n",
    "\n",
    "print(f\"Income <= 50K (0) count: {income_less_50K}\")\n",
    "print(f\"Income >  50K (1) count: {income_over_50K}\")"
   ]
  },
  {
   "cell_type": "code",
   "execution_count": null,
   "metadata": {},
   "outputs": [],
   "source": [
    "plt.figure(figsize=(6,4))\n",
    "ax = sns.countplot( data=df, x=\"income\", palette='BuPu')\n",
    "\n",
    "ax.bar_label(ax.containers[0])\n",
    "#ax.bar_label(ax.containers[1])\n",
    "plt.show()"
   ]
  },
  {
   "cell_type": "markdown",
   "metadata": {},
   "source": [
    "- Graphic clearly indicates that there are significantly more individuals in the <=50K income group, while the >50K group has considerably fewer individuals. \n",
    "- The imbalance between the two income groups is evident, highlighting a noticeable disparity in the dataset."
   ]
  },
  {
   "cell_type": "markdown",
   "metadata": {},
   "source": [
    "<a id='categorical'></a>\n",
    "## Categorical Features"
   ]
  },
  {
   "cell_type": "code",
   "execution_count": null,
   "metadata": {},
   "outputs": [],
   "source": [
    "print('Categoricals:', list(cat_features))"
   ]
  },
  {
   "cell_type": "code",
   "execution_count": null,
   "metadata": {
    "code_folding": [],
    "run_control": {
     "marked": true
    }
   },
   "outputs": [],
   "source": [
    "# DISTRIBUTIONS OF CATEGORICAL FEATURES;\n",
    "\n",
    "for column in cat_features:\n",
    "    plt.figure(figsize=(8, 6))\n",
    "    ax = sns.countplot(x=column, data=df, palette='BuPu')\n",
    "    plt.title(f'Distribution of Categories {column}')\n",
    "\n",
    "    ax.bar_label(ax.containers[0])\n",
    "\n",
    "    plt.xticks(rotation=90)\n",
    "    plt.show()"
   ]
  },
  {
   "cell_type": "code",
   "execution_count": null,
   "metadata": {},
   "outputs": [],
   "source": [
    "# CATEGORICALS FETATURES BY TARGET (income <=50k | income >50k)\n",
    "\n",
    "for i in cat_features:\n",
    "    fig, ax = plt.subplots(figsize=(20, 5))\n",
    "    sns.countplot(ax=ax, data=df, x=i, hue=\"income\", palette='BuPu')\n",
    "    ax.set(ylabel='Counts', title=i)\n",
    "\n",
    "    for j in [0, 1]:\n",
    "        ax.bar_label(ax.containers[j])\n",
    "\n",
    "    plt.xticks(rotation=45)\n",
    "\n",
    "plt.show()"
   ]
  },
  {
   "cell_type": "code",
   "execution_count": null,
   "metadata": {},
   "outputs": [],
   "source": [
    "# Selecting categorical data for univariate analysis:\n",
    "\n",
    "cats = ['Survived', 'Pclass', 'Sex', 'SibSp', 'Parch', 'Embarked']\n",
    "\n",
    "def plotFrequency(cats):\n",
    "    \n",
    "    fig, axes = plt.subplots(3, 2, figsize=(20,25))\n",
    "    axes = axes.flatten()\n",
    "\n",
    "    for ax, cat in zip(axes, cats):\n",
    "        if cat == 'Survived':\n",
    "            total = float(len(train[cat]))\n",
    "        else:\n",
    "            total = float(len(all_data[cat]))\n",
    "        sns.countplot(all_data[cat], palette='plasma', ax=ax)\n",
    "        \n",
    "        \n",
    "        for p in ax.patches:\n",
    "            height = p.get_height()\n",
    "            ax.text(p.get_x() + p.get_width() / 2.,\n",
    "                    height + 10,\n",
    "                    '{:1.2f}%'.format((height / total) * 100),\n",
    "                    ha=\"center\")"
   ]
  },
  {
   "cell_type": "markdown",
   "metadata": {},
   "source": [
    "###  `Education` Column\n",
    "\n",
    "- The education column was grouped to consolidate similar levels of education into broader categories. \n",
    "- \"Primary\" includes 1st-4th', '5th-6th levels, \"Middle-School\" covers 6th to 8th, \"High-School\" represents high school graduates(HS_grad), \"College\" combines some college and associate degrees, while \"Bachelors\" and \"Doctorate\" remain as distinct categories for those specific degrees. \n",
    "- This grouping simplifies analysis by reducing the number of unique categories."
   ]
  },
  {
   "cell_type": "code",
   "execution_count": null,
   "metadata": {},
   "outputs": [],
   "source": [
    "value_cnt_fonc(df, 'education')"
   ]
  },
  {
   "cell_type": "code",
   "execution_count": null,
   "metadata": {},
   "outputs": [],
   "source": [
    "df['education'].replace(['1st-4th', '5th-6th'], 'Primary', inplace=True)\n",
    "df['education'].replace(['7th-8th', '9th', '10th', '11th', '12th'], 'Middle-School', inplace=True)\n",
    "df['education'].replace(['HS-grad'], 'High-School', inplace=True)\n",
    "df['education'].replace(['Some-college', 'Assoc-voc', 'Assoc-acdm'], 'College', inplace=True)\n",
    "df['education'].replace(['Bachelors'], 'Bachelors', inplace=True)\n",
    "df['education'].replace(['Prof-school', 'Doctorate'], 'Doctorate', inplace=True)"
   ]
  },
  {
   "cell_type": "code",
   "execution_count": null,
   "metadata": {},
   "outputs": [],
   "source": [
    "value_cnt_fonc(df, 'education')"
   ]
  },
  {
   "cell_type": "code",
   "execution_count": null,
   "metadata": {},
   "outputs": [],
   "source": [
    "plt.figure(figsize=(15,5))\n",
    "ax = sns.countplot( data=df, x=\"education\",hue=\"income\", palette='BuPu')\n",
    "\n",
    "ax.bar_label(ax.containers[0])\n",
    "ax.bar_label(ax.containers[1])\n",
    "plt.show()"
   ]
  },
  {
   "cell_type": "markdown",
   "metadata": {},
   "source": [
    "### `Race` Column\n",
    "\n",
    "- In the Race column, categories with a low number of observations can be combined under an \"Other\" category."
   ]
  },
  {
   "cell_type": "code",
   "execution_count": null,
   "metadata": {},
   "outputs": [],
   "source": [
    "value_cnt_fonc(df, 'race')"
   ]
  },
  {
   "cell_type": "code",
   "execution_count": null,
   "metadata": {},
   "outputs": [],
   "source": [
    "df['race'].replace(['Asian-Pac-Islander', 'Amer-Indian-Eskimo', 'Other'],' Others', inplace = True)"
   ]
  },
  {
   "cell_type": "code",
   "execution_count": null,
   "metadata": {},
   "outputs": [],
   "source": [
    "value_cnt_fonc(df, 'race')"
   ]
  },
  {
   "cell_type": "code",
   "execution_count": null,
   "metadata": {},
   "outputs": [],
   "source": [
    "plt.figure(figsize=(8,4))\n",
    "ax = sns.countplot( data=df, x=\"race\",hue='income', palette='BuPu')\n",
    "\n",
    "ax.bar_label(ax.containers[0])\n",
    "ax.bar_label(ax.containers[1])\n",
    "plt.show()"
   ]
  },
  {
   "cell_type": "markdown",
   "metadata": {},
   "source": [
    "### `native.country` Column\n",
    "\n",
    "- In the native.country column, countries other than the USA can be grouped as \"Others.\""
   ]
  },
  {
   "cell_type": "code",
   "execution_count": null,
   "metadata": {},
   "outputs": [],
   "source": [
    "value_cnt_fonc(df, 'native.country')"
   ]
  },
  {
   "cell_type": "code",
   "execution_count": null,
   "metadata": {},
   "outputs": [],
   "source": [
    "# Replaces all values in the native.country column that are not \"United-States\" with \"Others.\"\n",
    "\n",
    "df['native.country'].loc[df['native.country'] != 'United-States'] = 'Others'"
   ]
  },
  {
   "cell_type": "code",
   "execution_count": null,
   "metadata": {},
   "outputs": [],
   "source": [
    "value_cnt_fonc(df, 'native.country')"
   ]
  },
  {
   "cell_type": "code",
   "execution_count": null,
   "metadata": {},
   "outputs": [],
   "source": [
    "plt.figure(figsize=(6,4))\n",
    "ax = sns.countplot( data=df, x=\"native.country\",hue='income', palette='BuPu')\n",
    "\n",
    "ax.bar_label(ax.containers[0])\n",
    "ax.bar_label(ax.containers[1])\n",
    "plt.show()"
   ]
  },
  {
   "cell_type": "markdown",
   "metadata": {},
   "source": [
    "**NOTE**\n",
    "- This distinction is made to simplify the analysis and modeling process by reducing the number of categorical variables. \n",
    "- Since the majority of the data is from the United States, grouping all other countries into a single \"Others\" category reduces the complexity of dealing with numerous country categories.\n",
    "- Similarly, in the education column, grouping lower education levels (e.g., '11th', '9th', etc.) into \"Pre-High School\" and combining less frequent race categories into \"Other\" helps focus on the most significant groups while avoiding potential noise from less common categories. \n",
    "- This approach ensures that the model remains robust and performs better by not being overwhelmed by too many distinct levels."
   ]
  },
  {
   "cell_type": "markdown",
   "metadata": {},
   "source": [
    "###  Merge as Other-2.yol"
   ]
  },
  {
   "cell_type": "code",
   "execution_count": null,
   "metadata": {},
   "outputs": [],
   "source": [
    "print(df['displacement_cc'].value_counts())"
   ]
  },
  {
   "cell_type": "code",
   "execution_count": null,
   "metadata": {},
   "outputs": [],
   "source": [
    "# Let's try to merge the values less than 10 in the displacement_cc column and assign them to a new column called 'other_disp'.\n",
    "# But wont keep it.\n",
    "\n",
    "displacement = df.displacement_cc.value_counts()\n",
    "\n",
    "displacement[displacement < 10 ].index"
   ]
  },
  {
   "cell_type": "code",
   "execution_count": null,
   "metadata": {},
   "outputs": [],
   "source": [
    "other_disp = list(displacement[displacement < 10 ].index)\n",
    "other_disp"
   ]
  },
  {
   "cell_type": "code",
   "execution_count": null,
   "metadata": {},
   "outputs": [],
   "source": [
    "# Apply on the column\n",
    "# df['displacement_cc'] = df['displacement_cc'].apply(lambda x: 'other_disp' if x in other_disp else x)\n",
    "\n",
    "# print(df['displacement_cc'].value_counts())"
   ]
  },
  {
   "cell_type": "code",
   "execution_count": null,
   "metadata": {},
   "outputs": [],
   "source": [
    "sns.distplot(df['displacement_cc'])"
   ]
  },
  {
   "cell_type": "markdown",
   "metadata": {},
   "source": [
    "### `WorkClass` Column"
   ]
  },
  {
   "cell_type": "code",
   "execution_count": null,
   "metadata": {},
   "outputs": [],
   "source": [
    "value_cnt_fonc(df, 'workclass')"
   ]
  },
  {
   "cell_type": "code",
   "execution_count": null,
   "metadata": {},
   "outputs": [],
   "source": [
    "plt.figure(figsize=(20,6))\n",
    "ax = sns.countplot( data=df, x=\"workclass\",hue='income', palette='BuPu')\n",
    "\n",
    "ax.bar_label(ax.containers[0])\n",
    "ax.bar_label(ax.containers[1])\n",
    "plt.show()"
   ]
  },
  {
   "cell_type": "markdown",
   "metadata": {},
   "source": [
    "**WorkClass**\n",
    "\n",
    "- **Private**: Individuals working in the private sector. This category has the largest number of individuals, with a significant portion earning `<=50K` and a smaller, yet noticeable, portion earning `>50K`.\n",
    "- **State-gov**: Individuals working in state government positions. Most of these individuals earn `<=50K`, with a small number earning `>50K`.\n",
    "- **Federal-gov**: Individuals employed by the federal government. Similar to the state government category, most earn `<=50K`, with fewer earning `>50K`.\n",
    "- **Self-emp-not-inc**: Self-employed individuals who do not have incorporated businesses. This category shows a mix of income levels, but more individuals earn `<=50K`.\n",
    "- **Self-emp-inc**: Self-employed individuals with incorporated businesses. This group has a smaller population, but a higher proportion earning `>50K` compared to other categories.\n",
    "- **Local-gov**: Individuals working in local government positions. Most earn `<=50K`, but there is a small group earning `>50K`.\n",
    "- **Without-pay**: Individuals working without pay. This is a very small group, and the few individuals in this category earn `<=50K`.\n",
    "- **Never-worked**: Individuals who have never worked. This is the smallest group, with all individuals earning `<=50K`.\n",
    "\n",
    "**---**\n",
    "- The majority of individuals in the dataset work in the private sector, with most of them earning `<=50K`.\n",
    "- Self-employed individuals with incorporated businesses (`Self-emp-inc`) have a relatively higher proportion of individuals earning `>50K` compared to other categories.\n",
    "- Government employees (state, federal, and local) generally earn `<=50K`, but there are exceptions, particularly in federal positions."
   ]
  },
  {
   "cell_type": "markdown",
   "metadata": {},
   "source": [
    "### `Occupation` Column"
   ]
  },
  {
   "cell_type": "code",
   "execution_count": null,
   "metadata": {},
   "outputs": [],
   "source": [
    "value_cnt_fonc(df, 'occupation')"
   ]
  },
  {
   "cell_type": "code",
   "execution_count": null,
   "metadata": {},
   "outputs": [],
   "source": [
    "plt.figure(figsize=(20,6))\n",
    "ax = sns.countplot( data=df, x=\"occupation\",hue='income', palette='BuPu')\n",
    "\n",
    "ax.bar_label(ax.containers[0])\n",
    "ax.bar_label(ax.containers[1])\n",
    "plt.xticks(rotation=45)\n",
    "plt.show()"
   ]
  },
  {
   "cell_type": "markdown",
   "metadata": {},
   "source": [
    "### `Marital-Status` Column\n",
    "\n",
    "- Widowed: Individuals who have lost their spouse and have not remarried.\n",
    "- Divorced: Individuals who have legally ended their marriage.\n",
    "- Separated: Individuals who are still legally married but are living separately from their spouse.\n",
    "- Never-married: Individuals who have never been married.\n",
    "- Married-civ-spouse: Individuals who are married and living with their spouse (civilian spouse).\n",
    "- Married-spouse-absent: Individuals who are married but not currently living with their spouse.\n",
    "- Married-AF-spouse: Individuals married to someone in the Armed Forces, likely living separately due to military service."
   ]
  },
  {
   "cell_type": "code",
   "execution_count": null,
   "metadata": {},
   "outputs": [],
   "source": [
    "value_cnt_fonc(df, 'marital.status')"
   ]
  },
  {
   "cell_type": "code",
   "execution_count": null,
   "metadata": {},
   "outputs": [],
   "source": [
    "plt.figure(figsize=(20,6))\n",
    "ax = sns.countplot( data=df, x=\"marital.status\",hue='income', palette='BuPu')\n",
    "\n",
    "ax.bar_label(ax.containers[0])\n",
    "ax.bar_label(ax.containers[1])\n",
    "plt.show()"
   ]
  },
  {
   "cell_type": "markdown",
   "metadata": {},
   "source": [
    "### `Relationship` Column"
   ]
  },
  {
   "cell_type": "code",
   "execution_count": null,
   "metadata": {},
   "outputs": [],
   "source": [
    "value_cnt_fonc(df, 'relationship')"
   ]
  },
  {
   "cell_type": "code",
   "execution_count": null,
   "metadata": {},
   "outputs": [],
   "source": [
    "plt.figure(figsize=(20,6))\n",
    "ax = sns.countplot( data=df, x=\"relationship\",hue='income', palette='BuPu')\n",
    "\n",
    "ax.bar_label(ax.containers[0])\n",
    "ax.bar_label(ax.containers[1])\n",
    "plt.show()"
   ]
  },
  {
   "cell_type": "markdown",
   "metadata": {},
   "source": [
    "### `Sex` Column"
   ]
  },
  {
   "cell_type": "code",
   "execution_count": null,
   "metadata": {},
   "outputs": [],
   "source": [
    "value_cnt_fonc(df, 'sex')"
   ]
  },
  {
   "cell_type": "code",
   "execution_count": null,
   "metadata": {},
   "outputs": [],
   "source": [
    "plt.figure(figsize=(6,4))\n",
    "ax = sns.countplot( data=df, x=\"sex\",hue='income', palette='BuPu')\n",
    "\n",
    "ax.bar_label(ax.containers[0])\n",
    "ax.bar_label(ax.containers[1])\n",
    "plt.show()"
   ]
  },
  {
   "cell_type": "markdown",
   "metadata": {},
   "source": [
    "<a id='numerical'></a>\n",
    "## Numerical Features"
   ]
  },
  {
   "cell_type": "code",
   "execution_count": null,
   "metadata": {},
   "outputs": [],
   "source": [
    "# DISTRIBUTIONS OF NUMERICAL FEATURES;\n",
    "\n",
    "numerical_df = df.select_dtypes(include=['number'])\n",
    "\n",
    "plt.figure(figsize=(20,15))\n",
    "\n",
    "num_vars = len(numerical_df.columns)\n",
    "\n",
    "for i, var in enumerate(numerical_df.columns, 1):\n",
    "    plt.subplot((num_vars // 3) + 1, 3, i)\n",
    "    sns.histplot(data=df, x=var, kde=True)\n",
    "    plt.title(f'Distribution of {var}')\n",
    "    \n",
    "plt.tight_layout()\n",
    "plt.show()"
   ]
  },
  {
   "cell_type": "code",
   "execution_count": null,
   "metadata": {},
   "outputs": [],
   "source": [
    "fig = plt.figure(figsize=(10,14), dpi=200)\n",
    "for i, col in enumerate(df.columns[:-1]):\n",
    "        plt.subplot(8,2,i+1)\n",
    "        sns.kdeplot(df[col])\n",
    "plt.tight_layout();"
   ]
  },
  {
   "cell_type": "markdown",
   "metadata": {},
   "source": [
    "**Analysis**\n",
    "\n",
    "1. **Age Distribution**: The age distribution is right-skewed, with most individuals clustered between 20 and 50 years old, gradually decreasing as age increases.\n",
    "2. **Fnlwgt Distribution**: The `fnlwgt` (final weight) feature shows a right-skewed distribution, indicating that most individuals have a lower final weight.\n",
    "3. **Education.num**: The distribution of education levels is multimodal, with significant peaks around levels 9 (high school graduate) and 10 (some college education).\n",
    "4. **Capital Gain and Loss**: Both `capital.gain` (profit from the sale of assets) and `capital.loss` (loss from the sale of assets) are highly right-skewed, with most individuals reporting values close to zero and only a few reporting substantial gains or losses.\n",
    "5. **Hours per Week**: The majority of individuals work around 40 hours per week, with a sharp peak at this value, indicating a standard workweek.\n",
    "6. **Income**: The income distribution shows that most individuals earn less than or equal to 50K (indicated by 0), with fewer individuals earning more than 50K (indicated by 1).\n",
    "\n",
    "*These insights highlight the skewed nature of certain features, particularly `capital.gain` and `capital.loss`, which may require special consideration during analysis or modeling.*"
   ]
  },
  {
   "cell_type": "markdown",
   "metadata": {},
   "source": [
    "### `Age` Column"
   ]
  },
  {
   "cell_type": "code",
   "execution_count": null,
   "metadata": {},
   "outputs": [],
   "source": [
    "px.histogram(df, x='age', color=\"income\", barmode='group', title='Income Distribution by Age')"
   ]
  },
  {
   "cell_type": "code",
   "execution_count": null,
   "metadata": {},
   "outputs": [],
   "source": [
    "sns.boxplot(data=df,y=\"age\",x='income',palette='BuPu');"
   ]
  },
  {
   "cell_type": "markdown",
   "metadata": {},
   "source": [
    "### `Education.num` Column"
   ]
  },
  {
   "cell_type": "code",
   "execution_count": null,
   "metadata": {},
   "outputs": [],
   "source": [
    "# Number of years of education completed by the individuals\n",
    "\n",
    "value_cnt_fonc(df, 'education.num')"
   ]
  },
  {
   "cell_type": "code",
   "execution_count": null,
   "metadata": {},
   "outputs": [],
   "source": [
    "# Number of years of education completed by the individuals\n",
    "\n",
    "px.histogram(df, x='education.num', color=\"income\", barmode='group', title='Income Distribution by Education Num')"
   ]
  },
  {
   "cell_type": "code",
   "execution_count": null,
   "metadata": {},
   "outputs": [],
   "source": [
    "sns.boxplot(data=df,y=\"education.num\",x='income', palette='BuPu');"
   ]
  },
  {
   "cell_type": "markdown",
   "metadata": {},
   "source": [
    "### `Capital Gain and Loss` Columns\n",
    "\n",
    "- Createing a new feature `capital_diff` by calculating the difference between `capital.loss`(which represents profit from the sale of an asset) and `capital.gain` (which represents a loss from the sale of an asset).\n",
    "- The difference is then categorized into 'Low' and 'High' based on specified bins, converted into a categorical object type, and the original capital.gain and capital.loss columns are dropped from the dataset.\n",
    "- Values between -5000 and 5000 are assigned to the 'Low' category, while values between 5000 and 100000 are assigned to the 'High' category.\n",
    "- The goal is to simplify the dataframe by combining the information from the capital.gain and capital.loss columns into a single categorical column and to categorize whether the total gain/loss obtained from these two columns is low or high.\n",
    "\n",
    "**Note:**\n",
    "- Capital Gain: The profit earned when an asset is sold for more than its purchase price.\n",
    "- Capital Loss: The loss incurred when an asset is sold for less than its purchase price.\n",
    "- *So, the difference between the two gives the net effect—whether ended up with an overall profit or loss from the transactions.*"
   ]
  },
  {
   "cell_type": "code",
   "execution_count": null,
   "metadata": {},
   "outputs": [],
   "source": [
    "value_cnt_fonc(df, 'capital.gain')"
   ]
  },
  {
   "cell_type": "code",
   "execution_count": null,
   "metadata": {},
   "outputs": [],
   "source": [
    "value_cnt_fonc(df, 'capital.loss')"
   ]
  },
  {
   "cell_type": "code",
   "execution_count": null,
   "metadata": {},
   "outputs": [],
   "source": [
    "df['capital_diff'] = df['capital.gain'] - df['capital.loss']\n",
    "df['capital_diff'] = pd.cut(df['capital_diff'], bins = [-5000, 5000, 100000], labels = ['Low', 'High'])\n",
    "df['capital_diff'] = df['capital_diff'].astype('object')\n",
    "df.drop(['capital.gain'], axis = 1, inplace = True)\n",
    "df.drop(['capital.loss'], axis = 1, inplace = True)"
   ]
  },
  {
   "cell_type": "code",
   "execution_count": null,
   "metadata": {},
   "outputs": [],
   "source": [
    "value_cnt_fonc(df, 'capital_diff')"
   ]
  },
  {
   "cell_type": "code",
   "execution_count": null,
   "metadata": {},
   "outputs": [],
   "source": [
    "px.histogram(df, x='capital_diff', color=\"income\", barmode='group', title='Income Distribution by Capital Diff')"
   ]
  },
  {
   "cell_type": "markdown",
   "metadata": {},
   "source": [
    "### `hours.per.week` Column\n",
    "\n",
    "- Filtering the `hours.per.week` column to focus on individuals who work within a more typical range of hours per week. \n",
    "- Working less than 20 hours or more than 72 hours is unusual and considered an outlier. \n",
    "- Removing these outliers helps to ensure that the analysis is more accurate and reflects standard work patterns."
   ]
  },
  {
   "cell_type": "code",
   "execution_count": null,
   "metadata": {},
   "outputs": [],
   "source": [
    "value_cnt_fonc(df, 'hours.per.week')"
   ]
  },
  {
   "cell_type": "code",
   "execution_count": null,
   "metadata": {},
   "outputs": [],
   "source": [
    "px.histogram(df, x='hours.per.week', color=\"income\", barmode='group', title='Income Distribution by Hours per Week')"
   ]
  },
  {
   "cell_type": "code",
   "execution_count": null,
   "metadata": {},
   "outputs": [],
   "source": [
    "sns.boxplot(data=df,y=\"hours.per.week\",x='income', palette='BuPu');"
   ]
  },
  {
   "cell_type": "code",
   "execution_count": null,
   "metadata": {},
   "outputs": [],
   "source": [
    "# whis=3\n",
    "sns.boxplot(data=df,y=\"hours.per.week\",x='income', palette='BuPu', whis=3);"
   ]
  },
  {
   "cell_type": "code",
   "execution_count": null,
   "metadata": {},
   "outputs": [],
   "source": [
    "# Total number of individuals who work more than 72 hours per week\n",
    "len(df[df[\"hours.per.week\"]>72]) "
   ]
  },
  {
   "cell_type": "code",
   "execution_count": null,
   "metadata": {},
   "outputs": [],
   "source": [
    "# Total number of individuals who work less than 20 hours per week\n",
    "len(df[df[\"hours.per.week\"] < 20])  "
   ]
  },
  {
   "cell_type": "code",
   "execution_count": null,
   "metadata": {},
   "outputs": [],
   "source": [
    "# Total number of individuals who work more than 72 hours or less than 20 hours per week\n",
    "len(df[(df[\"hours.per.week\"] > 72) | (df[\"hours.per.week\"] < 20)]) "
   ]
  },
  {
   "cell_type": "code",
   "execution_count": null,
   "metadata": {},
   "outputs": [],
   "source": [
    "# Remove the outlier on the column\n",
    "df = df[~((df[\"hours.per.week\"] > 72) | (df[\"hours.per.week\"] < 20))]"
   ]
  },
  {
   "cell_type": "code",
   "execution_count": null,
   "metadata": {},
   "outputs": [],
   "source": [
    "df.shape"
   ]
  },
  {
   "cell_type": "markdown",
   "metadata": {},
   "source": [
    "### `fnlwgt` Column (final weigth)\n",
    "\n",
    "- The fnlwgt (final weight) column indicates the number of people the census estimates that each entry represents, helping to adjust the sample to more closely align with the overall population.\n",
    "- Whether to drop this column depends on the context of the analysis. \n",
    "- If the focus is on individual-level predictions, `fnlwgt` might add unnecessary noise, making it better to drop. \n",
    "- If the model aims to reflect population-level outcomes or requires weighted statistics, keeping `fnlwgt` would be beneficial. \n",
    "- In most individual prediction tasks, dropping `fnlwgt` can simplify the model without sacrificing accuracy.\n",
    "\n",
    "*For the purposes of this models, `fnlwgt` will be dropped to simplify the analysis and potentially improve model performance.*"
   ]
  },
  {
   "cell_type": "code",
   "execution_count": null,
   "metadata": {},
   "outputs": [],
   "source": [
    "px.histogram(df, x='fnlwgt', color=\"income\", barmode='group', title='Income Distribution by fnlwgt')"
   ]
  },
  {
   "cell_type": "code",
   "execution_count": null,
   "metadata": {},
   "outputs": [],
   "source": [
    "sns.boxplot(data=df,y=\"fnlwgt\",x='income', palette='BuPu');"
   ]
  },
  {
   "cell_type": "code",
   "execution_count": null,
   "metadata": {},
   "outputs": [],
   "source": [
    "# Drop the 'fnlwgt' column\n",
    "\n",
    "df.drop(['fnlwgt'], axis = 1, inplace = True)"
   ]
  },
  {
   "cell_type": "code",
   "execution_count": null,
   "metadata": {},
   "outputs": [],
   "source": [
    "df.info()"
   ]
  },
  {
   "cell_type": "code",
   "execution_count": null,
   "metadata": {},
   "outputs": [],
   "source": [
    "df.sample(3)"
   ]
  },
  {
   "cell_type": "markdown",
   "metadata": {},
   "source": [
    "<a id='correlations'></a>\n",
    "## Correlations"
   ]
  },
  {
   "cell_type": "code",
   "execution_count": null,
   "metadata": {},
   "outputs": [],
   "source": [
    "plt.figure(figsize=(10,8))\n",
    "sns.heatmap(df.select_dtypes(\"number\").corr(), vmin = -1, vmax = 1, annot = True, fmt = '.3f', cmap='BuPu');"
   ]
  },
  {
   "cell_type": "code",
   "execution_count": null,
   "metadata": {},
   "outputs": [],
   "source": [
    "# Sadece Target ve digerleri\n",
    "\n",
    "def plot_target_correlation_heatmap(df, target_variable):\n",
    "    \n",
    "    df_numeric = df.select_dtypes(include=[np.number])\n",
    "    df_corr_target = df_numeric.corr()\n",
    "    \n",
    "    # Hedef değişkenle korelasyonları içeren ısı haritası oluşturma\n",
    "    plt.figure(figsize=(2, 7))\n",
    "    sns.heatmap(df_corr_target[[target_variable]], annot=True, vmin=-1, vmax=1, cmap=\"Blues\")\n",
    "    plt.title(f'Correlation with {target_variable}')\n",
    "    plt.show()\n",
    "plot_target_correlation_heatmap(df, 'class')"
   ]
  },
  {
   "cell_type": "code",
   "execution_count": null,
   "metadata": {},
   "outputs": [],
   "source": [
    "sns.pairplot(data=df, corner=True, hue='income',palette='BuPu');"
   ]
  },
  {
   "cell_type": "code",
   "execution_count": null,
   "metadata": {},
   "outputs": [],
   "source": [
    "# Check Multicolinarty between features\n",
    "\n",
    "def color_custom(val):\n",
    "    if val > 0.90 and val < 0.99:\n",
    "        color = 'red'\n",
    "    elif val >= 1:\n",
    "        color = 'blue'\n",
    "    else:\n",
    "        color = 'black'\n",
    "    return f'color: {color}'\n",
    "\n",
    "df.select_dtypes(\"number\").corr().style.map(color_custom)"
   ]
  },
  {
   "cell_type": "markdown",
   "metadata": {},
   "source": [
    "**Correlation:**\n",
    "- The `income` feature has the highest positive correlation with `education.num` (0.335), indicating that higher education levels are moderately associated with higher income. \n",
    "- Other features like `age`, and `hours.per.week` also show a positive but weaker correlation with income.\n",
    "- Most features exhibit low correlation with each other, which suggests that multicollinearity is not a significant concern in this dataset. \n",
    "\n",
    "*Overall, the heatmap suggests that while some features like `education.num` is relevant to predicting income, multicollinearity is not a major issue in this dataset, making it easier to build a robust predictive model.*"
   ]
  },
  {
   "cell_type": "markdown",
   "metadata": {},
   "source": [
    "<a id='outliers'></a>\n",
    "## Outlier Analysis\n",
    "\n",
    "- In this study, Logistic Regression, SVM, and KNN models will be used. \n",
    "- Outliers can significantly impact model performance, particularly for models like Logistic Regression, SVM, and KNN, which are sensitive to the scale and distribution of the data. \n",
    "- Outliers may skew results and reduce model accuracy. \n",
    "- Decision Trees, on the other hand, are generally more robust to outliers but still may lead to overfitting if not managed. \n",
    "- Therefore, careful handling of outliers, such as using scaling or transformation techniques, is important to ensure reliable model performance.\n",
    "\n",
    "*Additionally, outliers handled during the analysis to ensure a more accurate representation of the data and to enhance model performance.*"
   ]
  },
  {
   "cell_type": "code",
   "execution_count": null,
   "metadata": {},
   "outputs": [],
   "source": [
    "print(f\"Income <= 50K (0) count: {income_less_50K}\")\n",
    "print(f\"Income >  50K (1) count: {income_over_50K}\")"
   ]
  },
  {
   "cell_type": "code",
   "execution_count": null,
   "metadata": {},
   "outputs": [],
   "source": [
    "# 1) Checking Outliers on Numerical Features by the Target // whis=3\n",
    "\n",
    "index = 0\n",
    "plt.figure(figsize=(20,15))\n",
    "for feature in df.select_dtypes(include=['number']).columns:\n",
    "    if feature != \"income\":\n",
    "        index += 1\n",
    "        plt.subplot(3,3,index)\n",
    "        sns.boxplot(x='income',y=feature,data=df, whis=3, palette='BuPu') \n",
    "plt.show()"
   ]
  },
  {
   "cell_type": "code",
   "execution_count": null,
   "metadata": {},
   "outputs": [],
   "source": [
    "# 2) BOXPLOT the OUTLIERS\n",
    "\n",
    "# Initialize the subplot counter\n",
    "x = 0\n",
    "\n",
    "# Create a figure with specified size\n",
    "plt.figure(figsize=(16, 4))\n",
    "\n",
    "# Loop through each numerical column and create a boxplot\n",
    "for col in df.select_dtypes(include=['number']).columns:\n",
    "    x += 1\n",
    "    plt.subplot(1, 8, x)\n",
    "    sns.boxplot(data=df[col])\n",
    "    plt.title(col)\n",
    "\n",
    "# Show the plots\n",
    "plt.tight_layout()  # Adjust subplots to fit in the figure area.\n",
    "plt.show()\n"
   ]
  },
  {
   "cell_type": "code",
   "execution_count": null,
   "metadata": {},
   "outputs": [],
   "source": [
    "# 3) Function: BOXPLOT the OUTLIERS (her bir sutun icin ayri ve sutun icindeki valualari gosterir)\n",
    "\n",
    "def plot_feature_outliers(df, hue_column):\n",
    "    plt.figure(figsize=(20,30))\n",
    "    for i, col in enumerate(df.columns[:-1], 1):\n",
    "        plt.subplot(9, 2, i)\n",
    "        plt.title(f\"Distribution of {col} Data with Outliers\")\n",
    "        sns.boxplot(x=hue_column, y=col, data=df)\n",
    "        plt.tight_layout()\n",
    "    plt.show()\n",
    "    \n",
    "plot_feature_outliers(df, \"class\")"
   ]
  },
  {
   "cell_type": "code",
   "execution_count": null,
   "metadata": {},
   "outputs": [],
   "source": [
    "# Box plot for each column by target (texbox ile)\n",
    "\n",
    "import plotly.express as px\n",
    "\n",
    "features = df.columns[:-1]\n",
    "for i in features:\n",
    "    fig = px.box(df, x=i, y= 'class')\n",
    "    fig.show()"
   ]
  },
  {
   "cell_type": "code",
   "execution_count": null,
   "metadata": {},
   "outputs": [],
   "source": [
    "# tek grafikte sadece sutunlari boxplot gosterir texbox ile\n",
    "import cufflinks as cf  \n",
    "cf.go_offline()\n",
    "df.iloc[:,1:].iplot(kind=\"box\")"
   ]
  },
  {
   "cell_type": "code",
   "execution_count": null,
   "metadata": {},
   "outputs": [],
   "source": [
    "# BOX Plot çizimi--> istedigin kadar boxplot ekelyebilirsin\n",
    "\n",
    "plt.figure(figsize = (20,6))\n",
    "plt.subplot(141)\n",
    "sns.boxplot(y = \"sepal_length\", x = \"labels\", data = X, palette=\"BuPu\")\n",
    "plt.subplot(142)\n",
    "sns.boxplot(y = \"sepal_width\", x = \"labels\", data = X, palette=\"BuPu\")\n",
    "plt.subplot(143)\n",
    "sns.boxplot(y = \"petal_length\", x = \"labels\", data = X, palette=\"BuPu\")\n",
    "plt.subplot(144)\n",
    "sns.boxplot(y = \"petal_width\", x = \"labels\", data = X, palette=\"BuPu\")"
   ]
  },
  {
   "cell_type": "code",
   "execution_count": null,
   "metadata": {},
   "outputs": [],
   "source": [
    "numeric_columns = df.select_dtypes(include=['number'])\n",
    "\n",
    "ncols = 3\n",
    "num_plots = len(numeric_columns.columns)\n",
    "nrows = (num_plots - 1) // ncols + 1\n",
    "\n",
    "fig, axes = plt.subplots(nrows, ncols, figsize=(15, 5 * nrows))\n",
    "\n",
    "for i, column in enumerate(numeric_columns.columns):\n",
    "    row = i // ncols\n",
    "    col = i % ncols\n",
    "    sns.boxplot(data=numeric_columns, y=column, ax=axes[row, col])\n",
    "    axes[row, col].set_title(f'Boxplot of {column}')\n",
    "\n",
    "for i in range(num_plots, nrows * ncols):\n",
    "    fig.delaxes(axes.flatten()[i])\n",
    "\n",
    "plt.tight_layout()\n",
    "plt.show()"
   ]
  },
  {
   "cell_type": "code",
   "execution_count": null,
   "metadata": {},
   "outputs": [],
   "source": [
    "# outlier deletion\n",
    "df_num = df.select_dtypes(include='number')\n",
    "for column in df_num.columns:\n",
    "    for i in df[\"Credit_Score\"].unique():\n",
    "        selected_i = df[df[\"Credit_Score\"] == i]\n",
    "        selected_column = selected_i[column]\n",
    "        \n",
    "        std = selected_column.std()\n",
    "        mean= selected_column.mean()\n",
    "        \n",
    "        max = mean + (4 * std)\n",
    "        min =  mean - (4 * std)\n",
    "        \n",
    "        outliers = selected_column[((selected_i[column] > max) | (selected_i[column] < min))].index\n",
    "        df.drop(index=outliers, inplace=True)\n",
    "        print(column, i, outliers)"
   ]
  },
  {
   "cell_type": "markdown",
   "metadata": {},
   "source": [
    "**Outlier Summary**\n",
    "1. **Age**: Individuals with higher income (`1`) tend to be slightly older on average compared to those with lower income (`0`), although the age ranges overlap significantly.\n",
    "2. **Education**: There is a clear distinction in education levels (`education.num`) between the two income groups. Higher income earners tend to have significantly more years of education.\n",
    "3. **Hours per Week**: Higher income earners (`1`) work more hours per week on average, with a wider range of working hours. Lower income earners (`0`) are concentrated around 40 hours per week, with fewer variations.\n",
    "\n",
    "These insights suggest that age, education, and hours worked per week are all factors that differentiate income levels."
   ]
  },
  {
   "cell_type": "markdown",
   "metadata": {},
   "source": [
    "## Skewness"
   ]
  },
  {
   "cell_type": "code",
   "execution_count": null,
   "metadata": {},
   "outputs": [],
   "source": [
    "# Calculate skewness for numeric features\n",
    "\n",
    "# A skewness value greater than 1 indicates positive skewness,\n",
    "# a skewness value less than -1 indicates negative skewness,\n",
    "# and a skewness value close to zero indicates a relatively symmetric distribution.\n",
    "\n",
    "num_cols= df.select_dtypes('number').columns\n",
    "\n",
    "skew_limit = 0.75               # define a limit above which we will log transform\n",
    "skew_vals = df[num_cols].skew()\n",
    "\n",
    "\n",
    "# Showing the skewed columns\n",
    "skew_cols = (skew_vals\n",
    "             .sort_values(ascending=False)\n",
    "             .to_frame()\n",
    "             .rename(columns={0:'Skew'})\n",
    "             .query('abs(Skew) > {}'.format(skew_limit)))\n",
    "skew_cols"
   ]
  },
  {
   "cell_type": "code",
   "execution_count": null,
   "metadata": {},
   "outputs": [],
   "source": [
    "#Cleaning Outliers \n",
    "\n",
    "from scipy import stats\n",
    "\n",
    "# Calculate Z-Score for each numerical column\n",
    "z_scores = np.abs(stats.zscore(df.select_dtypes(include=['number'])))\n",
    "\n",
    "# Define a threshold (commonly 3)\n",
    "threshold = 3\n",
    "\n",
    "# Identify outliers\n",
    "outliers = (z_scores > threshold).any(axis=1)\n",
    "\n",
    "# Filter out the outliers\n",
    "df_cleaned = df[~outliers]\n",
    "\n",
    "# Update the all Dataset if needed\n",
    "#df = df_cleaned.copy() \n",
    "\n",
    "# Display the shape of the dataframe before and after outlier removal\n",
    "print(\"Original dataframe shape:\", df.shape)\n",
    "print(\"Dataframe shape after outlier removal:\", df.shape)\n",
    " \n",
    "\n",
    "# Display the first few rows of the cleaned dataframe\n",
    "print(df.head())"
   ]
  },
  {
   "cell_type": "markdown",
   "metadata": {},
   "source": [
    "## ANOVA Test for Feature Selection"
   ]
  },
  {
   "cell_type": "code",
   "execution_count": null,
   "metadata": {},
   "outputs": [],
   "source": [
    "# Perform ANOVA test for each categorical feature\n",
    "anova_results = {}\n",
    "categorical_features = df.select_dtypes(include=['object']).columns\n",
    "\n",
    "for feature in categorical_features:\n",
    "    groups = [df[\"co2_emissions\"][df[feature] == category].values for category in df[feature].unique()]\n",
    "    anova_results[feature] = stats.f_oneway(*groups)\n",
    "\n",
    "# Display the ANOVA results\n",
    "for feature, result in anova_results.items():\n",
    "    print(f\"ANOVA result for {feature}:\")\n",
    "    print(f\"F-statistic: {result.statistic}, p-value: {result.pvalue}\")\n",
    "    print()"
   ]
  },
  {
   "cell_type": "markdown",
   "metadata": {},
   "source": [
    "<a id='feature-engineering'></a>\n",
    "## Feature Engineering\n",
    "\n",
    "### Encode Techniques\n"
   ]
  },
  {
   "cell_type": "markdown",
   "metadata": {},
   "source": [
    "#### Log Transform"
   ]
  },
  {
   "cell_type": "code",
   "execution_count": null,
   "metadata": {},
   "outputs": [],
   "source": [
    "# Apply log transformation to skewed columns\n",
    "\n",
    "for col in skew_cols.index:\n",
    "    # Since log transformation cannot be applied to non-positive values, we add 1 to each value\n",
    "    df[col] = np.log1p(df[col])\n",
    "\n",
    "# Display the transformed dataframe\n",
    "print(df.head())"
   ]
  },
  {
   "cell_type": "code",
   "execution_count": null,
   "metadata": {},
   "outputs": [],
   "source": [
    "skew_cols  # check the skewness again"
   ]
  },
  {
   "cell_type": "code",
   "execution_count": null,
   "metadata": {},
   "outputs": [],
   "source": [
    "# Before and After Log Transformation\n",
    "\n",
    "fig, (ax_before, ax_after) = plt.subplots(1, 2, figsize=(10, 5))\n",
    "df['co2_emissions'].hist(ax=ax_before)\n",
    "df['co2_emissions'].apply(np.log1p).hist(ax=ax_after)"
   ]
  },
  {
   "cell_type": "markdown",
   "metadata": {},
   "source": [
    "#### Label Encode"
   ]
  },
  {
   "cell_type": "code",
   "execution_count": null,
   "metadata": {},
   "outputs": [],
   "source": [
    "#Label Encode\n",
    "\n",
    "# Copy the original dataframe to avoid modifying it directly\n",
    "df_labeled = df.copy()\n",
    "\n",
    "# List of categorical columns\n",
    "categorical_columns = ['make', 'model', 'vehicle_class', 'transmission', 'fuel_type']\n",
    "\n",
    "# Apply Label Encoding to each categorical column\n",
    "label_encoders = {}\n",
    "for column in categorical_columns:\n",
    "    le = LabelEncoder()\n",
    "    df_labeled[column] = le.fit_transform(df_labeled[column])\n",
    "    label_encoders[column] = le\n",
    "\n",
    "    \n",
    "df = df_labeled.copy() #DIKKAT!!\n",
    "\n",
    "# Display the first few rows of the labeled dataframe\n",
    "print(df_labeled.head())\n"
   ]
  },
  {
   "cell_type": "markdown",
   "metadata": {},
   "source": [
    "#### Splitting Strings in the column"
   ]
  },
  {
   "cell_type": "code",
   "execution_count": null,
   "metadata": {},
   "outputs": [],
   "source": [
    "#1) yol\n",
    "titles = [i.split(\",\")[1].split(\".\")[0].strip() for i in df[\"Name\"]]\n",
    "df[\"Title\"] = pd.Series(titles)\n",
    "df[\"Title\"].unique()"
   ]
  },
  {
   "cell_type": "code",
   "execution_count": null,
   "metadata": {},
   "outputs": [],
   "source": [
    "#2)yol\n",
    "df['Title'] = df['Name'].str.split(', ', expand=True)[1].str.split('.', expand=True)[0]\n",
    "df[\"Title\"].unique()"
   ]
  },
  {
   "cell_type": "markdown",
   "metadata": {},
   "source": [
    "<a id='ml-models'></a>\n",
    "#  MACHINE LEARNING MODELS\n",
    "\n",
    "## Data Pre-Processing"
   ]
  },
  {
   "cell_type": "code",
   "execution_count": null,
   "metadata": {},
   "outputs": [],
   "source": [
    "# Updated Categorcal and Numerecal Features\n",
    "\n",
    "cat_features = df.select_dtypes(include='object').columns\n",
    "num_features = df.select_dtypes(include=['int64','float64']).columns\n",
    "\n",
    "print('Categoricals:', list(cat_features))\n",
    "print('---------------------------')\n",
    "print('Numericals:',list(num_features))"
   ]
  },
  {
   "cell_type": "code",
   "execution_count": null,
   "metadata": {},
   "outputs": [],
   "source": [
    "df.sample(3)"
   ]
  },
  {
   "cell_type": "markdown",
   "metadata": {},
   "source": [
    "<a id='train-test'></a>\n",
    "### Splitting Data"
   ]
  },
  {
   "cell_type": "code",
   "execution_count": null,
   "metadata": {},
   "outputs": [],
   "source": [
    "X= df.drop(columns=\"income\")\n",
    "y= df.income"
   ]
  },
  {
   "cell_type": "code",
   "execution_count": null,
   "metadata": {},
   "outputs": [],
   "source": [
    "X_train, X_test, y_train, y_test = train_test_split(X, y, test_size=0.2, stratify=y, random_state=101) # Unbalanced Data-> Stratify's been used"
   ]
  },
  {
   "cell_type": "markdown",
   "metadata": {},
   "source": [
    "### Label Encoding and Scaling"
   ]
  },
  {
   "cell_type": "code",
   "execution_count": null,
   "metadata": {},
   "outputs": [],
   "source": [
    "from sklearn.compose import make_column_transformer\n",
    "from sklearn.preprocessing import OneHotEncoder, OrdinalEncoder"
   ]
  },
  {
   "cell_type": "code",
   "execution_count": null,
   "metadata": {},
   "outputs": [],
   "source": [
    "# Define the ordinal categories for encoding\n",
    "deck_order = ['FG', 'DE', 'ABC']\n",
    "embarked_order = ['Q', 'C', 'S']\n",
    "family_size_order = ['Alone', 'Small', 'Medium', 'Large']\n",
    "\n",
    "ordinal_categories = [\n",
    "    deck_order,        # Deck categories in order\n",
    "    embarked_order,    # Embarked categories in order\n",
    "    family_size_order  # Family size categories in order\n",
    "]\n",
    "\n",
    "# Create the column transformer\n",
    "column_transformed = make_column_transformer(\n",
    "    (OneHotEncoder(handle_unknown=\"ignore\", sparse=False), onehot_categorics), \n",
    "    (OrdinalEncoder(categories=ordinal_categories, handle_unknown=\"use_encoded_value\", unknown_value=-1), \n",
    "     ['Deck', 'Embarked', 'Family_Size']),\n",
    "    remainder='passthrough'  # Leave other numerical features (Age, Fare, Ticket_Frequency) as is\n",
    ")"
   ]
  },
  {
   "cell_type": "code",
   "execution_count": null,
   "metadata": {},
   "outputs": [],
   "source": [
    "onehot_categorics = [\"workclass\", \"marital.status\", \"occupation\", \"relationship\", \"race\", \"sex\", \"native.country\"]\n",
    "ordinal_categorics = [\"education\", \"capital_diff\"]\n",
    "\n",
    "column_transformed = make_column_transformer((OneHotEncoder(handle_unknown=\"ignore\", sparse=False), onehot_categorics), \n",
    "                                       (OrdinalEncoder(handle_unknown=\"use_encoded_value\", unknown_value=-1), ordinal_categorics),\n",
    "                                       remainder=MinMaxScaler()) "
   ]
  },
  {
   "cell_type": "code",
   "execution_count": null,
   "metadata": {},
   "outputs": [],
   "source": [
    "# 1) Features to be encoded\n",
    "onehot_categorics = ['Sex', 'Title']\n",
    "ordinal_categorics = ['Deck', 'Embarked', 'Family_Size', 'Age', 'Fare']\n",
    "\n",
    "# Define the ordinal categories for Deck, Embarked, and Family_Size\n",
    "deck_order = ['FG', 'DE', 'ABC']\n",
    "embarked_order = ['Q', 'C', 'S']\n",
    "family_size_order = ['Alone', 'Small', 'Medium', 'Large']\n",
    "age_groups = ['0-16', '17-20', '21-22', '23-25', '26-30', '31-34', '35-40', '41-48', '49-80']\n",
    "fare_groups = ['0-7', '7-7', '7-8', '8-11', '11-14', '14-21', '21-26', '26-46', '46-79', '79-512']\n",
    "\n",
    "# Specify the order for these features\n",
    "ordinal_categories = [deck_order, embarked_order, family_size_order, age_groups,fare_groups]\n",
    "\n",
    "# Create the column transformer\n",
    "column_transformed = make_column_transformer(\n",
    "    (OneHotEncoder(handle_unknown=\"ignore\", sparse_output=False), onehot_categorics), \n",
    "    (OrdinalEncoder(categories=ordinal_categories, handle_unknown=\"use_encoded_value\", unknown_value=-1), \n",
    "     ['Deck', 'Embarked', 'Family_Size', 'Age', 'Fare']),\n",
    "    remainder='passthrough',  # Leave other features as is\n",
    "    verbose_feature_names_out=False\n",
    ")"
   ]
  },
  {
   "cell_type": "code",
   "execution_count": null,
   "metadata": {},
   "outputs": [],
   "source": [
    "# 2) Features to be encoded\n",
    "ordinal_categorics = ['Sex', 'Title', 'Deck', 'Embarked', 'Family_Size', 'Age', 'Fare']\n",
    "\n",
    "# Define the ordinal categories for each feature\n",
    "sex_order = ['male', 'female']  # 'Sex': male -> 0, female -> 1\n",
    "title_order = ['Mr', 'Miss/Mrs', 'Master', 'Professional', 'Noble']  # Order based on the provided chart\n",
    "#pclass_order = [3, 2, 1]  # 'Pclass' categories (sorted in descending order because 1 is highest class)\n",
    "deck_order = ['FG', 'DE', 'ABC']  # Ensure the order reflects increasing or decreasing rank as needed\n",
    "embarked_order = ['Q', 'C', 'S']  # 'Embarked' categories\n",
    "family_size_order = ['Alone', 'Small', 'Medium', 'Large']  # 'Family_Size' categories\n",
    "age_groups = ['0-16', '17-20', '21-22', '23-25', '26-30', '31-34', '35-40', '41-48', '49-80']  # 'Age' categories (sorted)\n",
    "fare_groups = ['0-7', '7-7', '7-8', '8-11', '11-14', '14-21', '21-26', '26-46', '46-79', '79-512']  # 'Fare' categories (sorted)\n",
    "\n",
    "# Specify the order for these features\n",
    "ordinal_categories = [sex_order, title_order, deck_order, embarked_order, family_size_order, age_groups, fare_groups]\n",
    "\n",
    "# Create the column transformer with OrdinalEncoder\n",
    "column_transformed = make_column_transformer(\n",
    "    (OrdinalEncoder(categories=ordinal_categories, handle_unknown=\"use_encoded_value\", unknown_value=-1), \n",
    "     ordinal_categorics),\n",
    "    remainder='passthrough',  # Leave other features as is\n",
    "    verbose_feature_names_out=False\n",
    ")"
   ]
  },
  {
   "cell_type": "code",
   "execution_count": null,
   "metadata": {},
   "outputs": [],
   "source": [
    "# Fit Train and Transform Train-Validation Test and Submission Test data\n",
    "\n",
    "X_train_trans = column_transformed.fit_transform(X_train) # Train data\n",
    "X_test_trans = column_transformed.transform(X_test)  # Validation test data\n",
    "\n",
    "submission_test_data_trans = column_transformed.transform(test_data_sub) # Submition Prediction Test Data\n",
    "\n",
    "X_train_trans.shape, X_test_trans.shape, submission_test_data_trans.shape"
   ]
  },
  {
   "cell_type": "code",
   "execution_count": null,
   "metadata": {},
   "outputs": [],
   "source": [
    "# 1) OneHotEncoder için kodlanan kategoriler\n",
    "for feature, categories in zip(onehot_categorics, column_transformed.named_transformers_['onehotencoder'].categories_):\n",
    "    print(f\"\\nFeature: {feature}\")\n",
    "    for i, category in enumerate(categories):\n",
    "        print(f\"  {category} -> {i}\")\n",
    "\n",
    "# 2) OrdinalEncoder için kodlanan kategoriler\n",
    "ordinal_features = ['Sex', 'Title',  'Deck', 'Embarked', 'Family_Size', 'Age', 'Fare']\n",
    "for feature, categories in zip(ordinal_features, ordinal_categories):\n",
    "    print(f\"\\nFeature: {feature}\")\n",
    "    for i, category in enumerate(categories):\n",
    "        print(f\"  {category} -> {i}\")\n"
   ]
  },
  {
   "cell_type": "markdown",
   "metadata": {},
   "source": [
    "- **OneHotEncoder**: `handle_unknown=\"ignore\"` is appropriate here because it avoids errors and simply doesn't create columns for unknown categories.\n",
    "- **OrdinalEncoder**: It's better to use `handle_unknown=\"use_encoded_value\"` with a specific `unknown_value` (e.g., `-1`) instead of ignoring the unknown categories. This way, the model can handle unseen categories in a controlled manner, rather than ignoring them entirely, which could lead to issues.\n",
    "- **remainder=MinMaxScaler()**: To ensure that the remaining numerical columns are scaled to a range of 0-1.\n",
    "- **make_column_transformer**: is being used to transform the columns."
   ]
  },
  {
   "cell_type": "code",
   "execution_count": null,
   "metadata": {},
   "outputs": [],
   "source": [
    "# Fit train and Transform train-test data\n",
    "\n",
    "X_train_trans = column_transformed.fit_transform(X_train) \n",
    "X_test_trans = column_transformed.transform(X_test)"
   ]
  },
  {
   "cell_type": "code",
   "execution_count": null,
   "metadata": {},
   "outputs": [],
   "source": [
    "X_train_trans.shape, X_test_trans.shape"
   ]
  },
  {
   "cell_type": "code",
   "execution_count": null,
   "metadata": {},
   "outputs": [],
   "source": [
    "features = column_transformed.get_feature_names_out()\n",
    "features"
   ]
  },
  {
   "cell_type": "code",
   "execution_count": null,
   "metadata": {},
   "outputs": [],
   "source": [
    "X_train= pd.DataFrame(X_train_trans, columns=features, index=X_train.index)\n",
    "X_train.head()"
   ]
  },
  {
   "cell_type": "code",
   "execution_count": null,
   "metadata": {},
   "outputs": [],
   "source": [
    "X_test= pd.DataFrame(X_test_trans, columns=features, index=X_test.index)\n",
    "X_test.head()"
   ]
  },
  {
   "cell_type": "code",
   "execution_count": null,
   "metadata": {},
   "outputs": [],
   "source": [
    "corr_by_income = X_train.join(y_train).corr()[\"income\"].sort_values()[:-1]\n",
    "corr_by_income"
   ]
  },
  {
   "cell_type": "code",
   "execution_count": null,
   "metadata": {},
   "outputs": [],
   "source": [
    "plt.figure(figsize = (10,14))\n",
    "sns.barplot(y = corr_by_income.index, x = corr_by_income,palette='BuPu')\n",
    "plt.tight_layout();"
   ]
  },
  {
   "cell_type": "markdown",
   "metadata": {},
   "source": [
    "**Assessing the Importance of Features in Predicting Income:**\n",
    "- The most significant positive predictors of higher income include being \"Married-civ-spouse\" (married and living with a civilian spouse), the relationship status of \"Husband\", and higher values in \"education.num\" (number of years of education) and \"age\".\n",
    "- On the other hand, features such as being \"Never-married\" or having a low \"capital_diff\" (difference between capital gain and capital loss) are negatively associated with higher income. These insights highlight the key factors that the model considers important in distinguishing between income levels, with marital status and education being particularly influential.\n",
    "\n",
    "**Note:**\n",
    "- Capital Gain: The profit earned when an asset is sold for more than its purchase price.\n",
    "- Capital Loss: The loss incurred when an asset is sold for less than its purchase price.\n",
    "- *So, the difference between the two gives the net effect—whether ended up with an overall profit or loss from the transactions.*"
   ]
  },
  {
   "cell_type": "code",
   "execution_count": null,
   "metadata": {},
   "outputs": [],
   "source": [
    "# User-Defined-Functions\n",
    "#####################################################################################\n",
    "\n",
    "# Function to Evaluate the Model Performans using Classification Confusion_matrix() \n",
    "# Also does the prediction in the function\n",
    "\n",
    "def eval_metric(model, X_train, y_train, X_test, y_test, i):\n",
    "\n",
    "    \"\"\" to get the metrics for the model \"\"\"\n",
    "\n",
    "    y_train_pred = model.predict(X_train)\n",
    "    y_pred = model.predict(X_test)\n",
    "    \n",
    "    print(f\"{i} Test_Set\")\n",
    "    print(confusion_matrix(y_test, y_pred))\n",
    "    print(classification_report(y_test, y_pred))\n",
    "    print()\n",
    "    print(f\"{i} Train_Set\")\n",
    "    print(confusion_matrix(y_train, y_train_pred))\n",
    "    print(classification_report(y_train, y_train_pred))\n",
    "    \n",
    "#####################################################################################\n",
    "\n",
    "# Function to display Feature Importance\n",
    "def plot_feature_importance(model, X_train, figsize=(8, 5)):\n",
    "    \"\"\"\n",
    "    Plots the feature importances of a fitted model as a horizontal bar plot,\n",
    "    with the importance values displayed next to the bars.\n",
    "    \"\"\"\n",
    "    # Get feature importances\n",
    "    feature_importances = model.feature_importances_\n",
    "    \n",
    "    # Create a DataFrame for feature importances\n",
    "    feats = pd.Series(data=feature_importances, index=X_train.columns).sort_values(ascending=False)\n",
    "    \n",
    "    # Plot the feature importances as a horizontal bar plot\n",
    "    plt.figure(figsize=figsize)\n",
    "    sns.barplot(y=feats.index, x=feats.values, orient='h', palette='Blues')\n",
    "\n",
    "    # Add the importance values next to the bars\n",
    "    for index, value in enumerate(feats.values):\n",
    "        plt.text(value, index, f'{value:.2f}', va='center',fontsize=10)\n",
    "\n",
    "    plt.title(\"Feature Importances\")\n",
    "    plt.xlabel(\"Importance\")\n",
    "    plt.ylabel(\"Features\")\n",
    "    plt.show()\n",
    "#####################################################################################\n",
    "\n",
    "# Function to display Feature Importance\n",
    "def plot_feature_importance(model, X_train, figsize=(8, 5)):\n",
    "    \"\"\"\n",
    "    Plots the feature importances of a fitted model as a horizontal bar plot.\n",
    "    \n",
    "    Returns:\n",
    "    - A DataFrame of sorted feature importances.\n",
    "    \"\"\"\n",
    "    # Get feature importances\n",
    "    feature_importances = model.feature_importances_\n",
    "    \n",
    "    # Create a DataFrame for feature importances\n",
    "    feats = pd.DataFrame(data=feature_importances, index=X_train.columns, columns=['importance'])\n",
    "    feats = feats.sort_values(\"importance\", ascending=False)\n",
    "    \n",
    "    # Plot the feature importances as a horizontal bar plot\n",
    "    plt.figure(figsize=figsize)\n",
    "    sns.barplot(data=feats, y=feats.index, x='importance', orient='h', palette='Blues')\n",
    "    plt.title(\"Feature Importances\")\n",
    "    plt.show()\n",
    "    \n",
    "    return feats"
   ]
  },
  {
   "cell_type": "markdown",
   "metadata": {},
   "source": [
    "<a id='logistic'></a>\n",
    "## Logistic Regression"
   ]
  },
  {
   "cell_type": "code",
   "execution_count": null,
   "metadata": {},
   "outputs": [],
   "source": [
    "# Model Building, Scaling and Training Using a Pipeline\n",
    "\n",
    "logistic_model = Pipeline([(\"scaler\", MinMaxScaler()), (\"logistic\", LogisticRegression())])\n",
    "\n",
    "logistic_model.fit(X_train, y_train)"
   ]
  },
  {
   "cell_type": "code",
   "execution_count": null,
   "metadata": {},
   "outputs": [],
   "source": [
    "# Prediction\n",
    "\n",
    "y_pred=logistic_model.predict(X_test)\n",
    "y_pred_proba = logistic_model.predict_proba(X_test)\n",
    "\n",
    "log_f1 = f1_score(y_test, y_pred)\n",
    "log_recall = recall_score(y_test, y_pred)\n",
    "log_auc = roc_auc_score(y_test, y_pred)"
   ]
  },
  {
   "cell_type": "markdown",
   "metadata": {},
   "source": [
    "### Feature Importance"
   ]
  },
  {
   "cell_type": "code",
   "execution_count": null,
   "metadata": {},
   "outputs": [],
   "source": [
    "# Get the coefficients\n",
    "coefficients = logistic_model[\"logistic\"].coef_[0]\n",
    "\n",
    "feature_importances = pd.DataFrame({\n",
    "    'Feature': X_train.columns, \n",
    "    'Importance': coefficients\n",
    "})\n",
    "\n",
    "# Sort by importance\n",
    "logistic_fi = feature_importances.sort_values(by='Importance', ascending=False)\n",
    "logistic_fi.head(10)"
   ]
  },
  {
   "cell_type": "markdown",
   "metadata": {},
   "source": [
    "### Evaluating the Logistic Model"
   ]
  },
  {
   "cell_type": "code",
   "execution_count": null,
   "metadata": {},
   "outputs": [],
   "source": [
    "print(f\"Income <= 50K (0) count: {income_less_50K}\")\n",
    "print(f\"Income >  50K (1) count: {income_over_50K}\")"
   ]
  },
  {
   "cell_type": "code",
   "execution_count": null,
   "metadata": {},
   "outputs": [],
   "source": [
    "# Evaluate the Model Performans\n",
    "\n",
    "# Function to Evaluate the Model Performans using Classification Confusion_matrix() \n",
    "# Also does the prediction in the function\n",
    "\n",
    "def eval_metric(model, X_train, y_train, X_test, y_test, i):\n",
    "\n",
    "    \"\"\" to get the metrics for the model \"\"\"\n",
    "\n",
    "    y_train_pred = model.predict(X_train)\n",
    "    y_pred = model.predict(X_test)\n",
    "    \n",
    "    print(f\"{i} Test_Set\")\n",
    "    print(confusion_matrix(y_test, y_pred))\n",
    "    print(classification_report(y_test, y_pred))\n",
    "    print()\n",
    "    print(f\"{i} Train_Set\")\n",
    "    print(confusion_matrix(y_train, y_train_pred))\n",
    "    print(classification_report(y_train, y_train_pred))"
   ]
  },
  {
   "cell_type": "code",
   "execution_count": null,
   "metadata": {},
   "outputs": [],
   "source": [
    "# Evaluating the Model Performance using Classification Metrics\n",
    "\n",
    "eval_metric(logistic_model, X_train, y_train, X_test, y_test, 'logistic_model')"
   ]
  },
  {
   "cell_type": "code",
   "execution_count": null,
   "metadata": {},
   "outputs": [],
   "source": [
    "# Roc_AUC_score\n",
    "print('logistic_model ROC_AUC Score:', roc_auc_score(y_test, y_pred_proba[:,1]))\n",
    "print('--------------------------------------------------')\n",
    "\n",
    "# Confusion Matrix\n",
    "log_matrix = ConfusionMatrixDisplay.from_estimator(logistic_model, X_test, y_test, normalize='true', cmap='BuPu')\n",
    "\n",
    "# Precision-Recall Curve\n",
    "log_prCurve = PrecisionRecallDisplay.from_estimator(logistic_model, X_test, y_test)"
   ]
  },
  {
   "cell_type": "markdown",
   "metadata": {},
   "source": [
    "<a id='model-validation'></a>\n",
    "###  Model Validation"
   ]
  },
  {
   "cell_type": "code",
   "execution_count": null,
   "metadata": {},
   "outputs": [],
   "source": [
    "# Cross Validation Scores of the Model Performance\n",
    "\n",
    "model = Pipeline([(\"scaler\", MinMaxScaler()), (\"logistic\", LogisticRegression())])\n",
    "\n",
    "cv = StratifiedKFold(n_splits=10) # for unbalanced data validation\n",
    "\n",
    "scores = cross_validate(model,\n",
    "                        X_train,\n",
    "                        y_train,\n",
    "                        scoring=['accuracy', 'precision', 'recall', 'f1'],\n",
    "                        cv=cv,\n",
    "                        return_train_score=True)\n",
    "\n",
    "df_scores = pd.DataFrame(scores, index=range(1, 11)) \n",
    "df_scores.mean()[2:]"
   ]
  },
  {
   "cell_type": "markdown",
   "metadata": {},
   "source": [
    "<a id='hyperparameter'></a>\n",
    "### Hyperparameter Optimization"
   ]
  },
  {
   "cell_type": "code",
   "execution_count": null,
   "metadata": {},
   "outputs": [],
   "source": [
    "logistic_model.get_params() #Parameters those are available for tuning for the model"
   ]
  },
  {
   "cell_type": "code",
   "execution_count": null,
   "metadata": {},
   "outputs": [],
   "source": [
    "# Hyperparameters Tuning with GridSearchSV \n",
    "\n",
    "model = Pipeline([(\"scaler\", MinMaxScaler()), (\"logistic\", LogisticRegression(max_iter = 1000))])\n",
    "\n",
    "# Define hyperparameters for tuning\n",
    "penalty = [\"l1\", \"l2\"]       # Regularization terms: l1 (Lasso) and l2 (Ridge)\n",
    "C  = [0.01, 0.1, 1]    # Regularization strength; inverse of regularization parameter\n",
    "class_weight= [\"balanced\", None] # for unbalanced data\n",
    "\n",
    "\n",
    "param_grid = [\n",
    "    {\n",
    "        \"logistic__penalty\" : ['l2', 'none'],\n",
    "        \"logistic__C\" : C,\n",
    "        \"logistic__class_weight\": class_weight,\n",
    "        \"logistic__solver\": ['sag', 'lbfgs']\n",
    "    },\n",
    "    {\n",
    "        \"logistic__penalty\" : ['l1', 'l2'],\n",
    "        \"logistic__C\" : C,\n",
    "        \"logistic__class_weight\": class_weight,\n",
    "        \"logistic__solver\": ['liblinear', 'saga']\n",
    "    }\n",
    "]\n",
    "\n",
    "cv = StratifiedKFold(n_splits = 5) # for unbalanced data\n",
    "\n",
    "grid_model = GridSearchCV(model,\n",
    "                          param_grid=param_grid,\n",
    "                          cv=cv,\n",
    "                          scoring = \"recall\",   \n",
    "                          n_jobs = -1, # Uses all available cores\n",
    "                          verbose=1,\n",
    "                          return_train_score=True).fit(X_train, y_train) # Returns training scores"
   ]
  },
  {
   "cell_type": "code",
   "execution_count": null,
   "metadata": {},
   "outputs": [],
   "source": [
    "print('Best Params:', grid_model.best_params_)\n",
    "print('Best Recall Score(test):', grid_model.best_score_)\n",
    "print('Best Score Index:', grid_model.best_index_)"
   ]
  },
  {
   "cell_type": "code",
   "execution_count": null,
   "metadata": {},
   "outputs": [],
   "source": [
    "# Checking overfiting with the CV scores\n",
    "\n",
    "pd.DataFrame(grid_model.cv_results_).loc[ , [\"mean_test_score\", \"mean_train_score\"]]"
   ]
  },
  {
   "cell_type": "code",
   "execution_count": null,
   "metadata": {},
   "outputs": [],
   "source": [
    "# Prediction\n",
    "\n",
    "y_pred=grid_model.predict(X_test)\n",
    "y_pred_proba = grid_model.predict_proba(X_test)\n",
    "\n",
    "\n",
    "log_grid_f1 = f1_score(y_test, y_pred)\n",
    "log_grid_recall = recall_score(y_test, y_pred)\n",
    "log_grid_auc = roc_auc_score(y_test, y_pred)"
   ]
  },
  {
   "cell_type": "code",
   "execution_count": null,
   "metadata": {},
   "outputs": [],
   "source": [
    "# Checking the Incorrect Predictions\n",
    "\n",
    "# Test Data df\n",
    "test_data = pd.concat([X_test, y_test], axis=1)\n",
    "\n",
    "# Create new column for 'predicted' classes to compore with actual target classes\n",
    "test_data[\"pred\"] = y_pred\n",
    "\n",
    "# Filtering the wrong predicted obs\n",
    "wrong_pred = test_data[((test_data[\"income\"] == 0) & (test_data[\"pred\"] == 1)) |\n",
    "             ((test_data[\"income\"] == 1) & (test_data[\"pred\"] == 0))]\n",
    "\n",
    "print('log_grid_model Total Incorrect Predictions:', wrong_pred.shape)\n",
    "\n",
    "\n",
    "print('------------------------------------------------')\n",
    "# Actual-Predicted-Probalility of Pozitive Class(1)\n",
    "\n",
    "my_dict = {\"Actual\": y_test, \"Pred\":y_pred, \"Proba_1\":y_pred_proba[:,1]}\n",
    "pd.DataFrame.from_dict(my_dict).sample(10)"
   ]
  },
  {
   "cell_type": "markdown",
   "metadata": {},
   "source": [
    "### Evaluating the Grid-Logistic Model"
   ]
  },
  {
   "cell_type": "code",
   "execution_count": null,
   "metadata": {},
   "outputs": [],
   "source": [
    "eval_metric(grid_model, X_train, y_train, X_test, y_test, 'log_grid_model') "
   ]
  },
  {
   "cell_type": "code",
   "execution_count": null,
   "metadata": {},
   "outputs": [],
   "source": [
    "# Roc_AUC_score\n",
    "print('log_grid_model ROC_AUC Score:', roc_auc_score(y_test, y_pred_proba[:,1]))\n",
    "print('--------------------------------------------------')\n",
    "\n",
    "\n",
    "# Confusion Matrix\n",
    "grid_log_matrix = ConfusionMatrixDisplay.from_estimator(grid_model, X_test, y_test, normalize='true', cmap='BuPu')\n",
    "\n",
    "# Precision-Recall Curve\n",
    "grid_log_prCurve = PrecisionRecallDisplay.from_estimator(grid_model, X_test, y_test)"
   ]
  },
  {
   "cell_type": "markdown",
   "metadata": {},
   "source": [
    "### Comparing Vanilla and Grid Logistic Model"
   ]
  },
  {
   "cell_type": "code",
   "execution_count": null,
   "metadata": {},
   "outputs": [],
   "source": [
    "# Confusion Matrix\n",
    "fig, ax = plt.subplots(1, 2, figsize=(10,5))\n",
    "\n",
    "log_matrix.plot(ax=ax[0])\n",
    "ax[0].set_title(\"Vanilla Logistic Model\")\n",
    "grid_log_matrix.plot(ax=ax[1])\n",
    "ax[1].set_title(\"Grid Logistic Model\")\n",
    "\n",
    "plt.tight_layout()\n",
    "plt.show()"
   ]
  },
  {
   "cell_type": "code",
   "execution_count": null,
   "metadata": {},
   "outputs": [],
   "source": [
    "#Precision-Recall Curves\n",
    "\n",
    "fig, ax = plt.subplots(1, 2, figsize=(12, 5))\n",
    "\n",
    "log_prCurve.plot(ax=ax[0])\n",
    "ax[0].set_title(\"Logistic Model - Precision Recall Curve\")\n",
    "grid_log_prCurve.plot(ax=ax[1])\n",
    "ax[1].set_title(\"Grid Model - Precision Recall Curve\")"
   ]
  },
  {
   "cell_type": "markdown",
   "metadata": {},
   "source": [
    "**Vanilla Logistic Model and the Tuned Grid Logistic Model:**\n",
    "\n",
    "1. **Confusion Matrix**:\n",
    "   - **Vanilla Logistic Model**: Higher accuracy for the negative class (0.94) but lower recall for the positive class (0.61).\n",
    "   - **Grid Logistic Model**: Better recall for the positive class (0.86) but sacrifices accuracy for the negative class (0.76).\n",
    "\n",
    "2. **Precision-Recall Curve**: (Unbalanced Data)\n",
    "   - **Vanilla Logistic Model**: Slightly higher average precision (AP = 0.77), indicating better overall balance between precision and recall.\n",
    "   - **Grid Logistic Model**: Lower average precision (AP = 0.76), suggesting that hyperparameter tuning did not significantly improve model performance.\n",
    "\n",
    "In summary, the Vanilla Logistic Model offers a more balanced performance, while the Grid Logistic Model focuses on improving recall for the positive class at the expense of negative class accuracy."
   ]
  },
  {
   "cell_type": "markdown",
   "metadata": {},
   "source": [
    "<a id='svm'></a>\n",
    "##  Support Vector Machine"
   ]
  },
  {
   "cell_type": "code",
   "execution_count": null,
   "metadata": {},
   "outputs": [],
   "source": [
    "# Set and scale\n",
    "svm_model = Pipeline([(\"scaler\", MinMaxScaler()), (\"SVC\", SVC(probability=True))])\n",
    "\n",
    "#Fit the model\n",
    "svm_model.fit(X_train, y_train)\n",
    "\n",
    "# Prediction\n",
    "y_pred=svm_model.predict(X_test)"
   ]
  },
  {
   "cell_type": "markdown",
   "metadata": {},
   "source": [
    "### Evaluating The Model Performance"
   ]
  },
  {
   "cell_type": "code",
   "execution_count": null,
   "metadata": {},
   "outputs": [],
   "source": [
    "# Evaluating the Model Performance using Classification Metrics\n",
    "\n",
    "eval_metric(svm_model, X_train, y_train, X_test, y_test, 'svm_model')"
   ]
  },
  {
   "cell_type": "code",
   "execution_count": null,
   "metadata": {},
   "outputs": [],
   "source": [
    "# Roc_AUC_score\n",
    "print('svm_model ROC_AUC Score:', roc_auc_score(y_test, y_pred_proba[:,1]))\n",
    "print('--------------------------------------------------')\n",
    "\n",
    "# Confusion Matrix\n",
    "svm_matrix = ConfusionMatrixDisplay.from_estimator(svm_model, X_test,y_test, normalize='true', cmap='BuPu' )\n",
    "\n",
    "# Precision-Recall Curve\n",
    "svm_prCurve = PrecisionRecallDisplay.from_estimator(svm_model, X_test, y_test)"
   ]
  },
  {
   "cell_type": "markdown",
   "metadata": {},
   "source": [
    "<a id='model-validation'></a>\n",
    "###  Model Validation"
   ]
  },
  {
   "cell_type": "code",
   "execution_count": null,
   "metadata": {},
   "outputs": [],
   "source": [
    "# Cross Validation Scores of the Model Performance\n",
    "\n",
    "model = Pipeline([(\"scaler\", MinMaxScaler()), (\"SVC\", SVC())])\n",
    "\n",
    "cv = StratifiedKFold(n_splits=5) # for unbalanced data validation\n",
    "\n",
    "scores = cross_validate(model,\n",
    "                        X_train,\n",
    "                        y_train,\n",
    "                        scoring=['accuracy', 'precision', 'recall', 'f1'],\n",
    "                        cv=cv,\n",
    "                        return_train_score=True)\n",
    "\n",
    "df_scores = pd.DataFrame(scores, index=range(1, 6)) \n",
    "df_scores.mean()[2:]"
   ]
  },
  {
   "cell_type": "markdown",
   "metadata": {},
   "source": [
    "<a id='hyperparameter'></a>\n",
    "### Hyperparameter Optimization for SVM Model"
   ]
  },
  {
   "cell_type": "code",
   "execution_count": null,
   "metadata": {},
   "outputs": [],
   "source": [
    "svm_model.get_params() #Parameters those are available for tuning for the model"
   ]
  },
  {
   "cell_type": "code",
   "execution_count": null,
   "metadata": {},
   "outputs": [],
   "source": [
    "# Hyperparameters Tuning with GridSearchSV \n",
    "\n",
    "model = Pipeline([(\"scaler\", MinMaxScaler()), (\"SVC\", SVC(probability=True))])\n",
    "\n",
    "\n",
    "param_grid = {\"SVC__C\":[0.05,0.1,0.5],\n",
    "             \"SVC__gamma\":[\"scale\",\"auto\", 0.1,0.3],\n",
    "             \"SVC__kernel\":[\"rbf\", \"linear\"],\n",
    "             \"SVC__class_weight\": [\"balanced\",None]}\n",
    "\n",
    "cv = StratifiedKFold(n_splits = 5) # for unbalanced data\n",
    "\n",
    "svm_grid_model = GridSearchCV(model,\n",
    "                          param_grid=param_grid,\n",
    "                          cv=cv,\n",
    "                          scoring = \"recall\",   \n",
    "                          n_jobs = -1, # Uses all available cores\n",
    "                          verbose=1,\n",
    "                          return_train_score=True).fit(X_train, y_train) # fit the model"
   ]
  },
  {
   "cell_type": "code",
   "execution_count": null,
   "metadata": {},
   "outputs": [],
   "source": [
    "print('Best Params:', svm_grid_model.best_params_)\n",
    "print('Best Recall Score(test):', svm_grid_model.best_score_)\n",
    "print('Best Score Index:', svm_grid_model.best_index_)"
   ]
  },
  {
   "cell_type": "code",
   "execution_count": null,
   "metadata": {},
   "outputs": [],
   "source": [
    "# Checking overfiting with the CV scores\n",
    "\n",
    "pd.DataFrame(svm_grid_model.cv_results_).loc[ , [\"mean_test_score\", \"mean_train_score\"]]"
   ]
  },
  {
   "cell_type": "code",
   "execution_count": null,
   "metadata": {},
   "outputs": [],
   "source": [
    "# Prediction\n",
    "\n",
    "y_pred=svm_grid_model.predict(X_test)\n",
    "decision_fonc = svm_grid_model.decision_function(X_test)\n",
    "# In an SVM model with probability=True, predict_proba uses the decision function's output, applying Platt scaling to provide probability estimates.\n",
    "\n",
    "svm_grid_f1 = f1_score(y_test, y_pred)\n",
    "svm_grid_recall = recall_score(y_test, y_pred)\n",
    "svm_grid_auc = roc_auc_score(y_test, y_pred)"
   ]
  },
  {
   "cell_type": "code",
   "execution_count": null,
   "metadata": {},
   "outputs": [],
   "source": [
    "# Checking the Incorrect Predictions\n",
    "\n",
    "# Test Data df\n",
    "test_data = pd.concat([X_test, y_test], axis=1)\n",
    "\n",
    "# Create new column for 'predicted' classes to compore with actual target classes\n",
    "test_data[\"pred\"] = y_pred\n",
    "\n",
    "# Filtering the wrong predicted obs\n",
    "wrong_pred = test_data[((test_data[\"income\"] == 0) & (test_data[\"pred\"] == 1)) |\n",
    "             ((test_data[\"income\"] == 1) & (test_data[\"pred\"] == 0))]\n",
    "\n",
    "print('svm_grid_model Total Incorrect Predictions:', wrong_pred.shape)\n",
    "\n",
    "\n",
    "print('------------------------------------------------')\n",
    "# Actual-Predicted-Probalility of Pozitive Class(1)\n",
    "\n",
    "my_dict = {\"Actual\": y_test, \"Pred\":y_pred, \"Proba_1\":y_pred_proba[:,1]}\n",
    "pd.DataFrame.from_dict(my_dict).sample(10)"
   ]
  },
  {
   "cell_type": "markdown",
   "metadata": {},
   "source": [
    "### Evaluating the SVM_Grid Model"
   ]
  },
  {
   "cell_type": "code",
   "execution_count": null,
   "metadata": {},
   "outputs": [],
   "source": [
    "eval_metric(svm_grid_model, X_train, y_train, X_test, y_test, 'svm_grid_model') "
   ]
  },
  {
   "cell_type": "code",
   "execution_count": null,
   "metadata": {},
   "outputs": [],
   "source": [
    "# Roc_AUC_score\n",
    "print('svm_grid_model ROC_AUC Score:', roc_auc_score(y_test, decision_fonc)) # decision function for SVC\n",
    "print('--------------------------------------------------')\n",
    "\n",
    "# Confusion Matrix\n",
    "svm_grid_matrix = ConfusionMatrixDisplay.from_estimator(svm_grid_model, X_test, y_test, normalize='true', cmap='BuPu')\n",
    "\n",
    "# Precision-Recall Curve\n",
    "svm_grid_prCurve = PrecisionRecallDisplay.from_estimator(svm_grid_model, X_test, y_test)"
   ]
  },
  {
   "cell_type": "code",
   "execution_count": null,
   "metadata": {},
   "outputs": [],
   "source": [
    "fig, ax = plt.subplots(1, 2, figsize=(10,5))\n",
    "\n",
    "svm_matrix.plot(ax=ax[0])\n",
    "ax[0].set_title(\"SVM Model\")\n",
    "svm_grid_matrix.plot(ax=ax[1])\n",
    "ax[1].set_title(\"Grid SVM Model\")\n",
    "\n",
    "plt.tight_layout()\n",
    "plt.show()"
   ]
  },
  {
   "cell_type": "code",
   "execution_count": null,
   "metadata": {},
   "outputs": [],
   "source": [
    "fig, ax = plt.subplots(1, 2, figsize=(12, 5))\n",
    "\n",
    "svm_prCurve.plot(ax=ax[0])\n",
    "ax[0].set_title(\"SVM Model - Precision Recall Curve\")\n",
    "svm_grid_prCurve.plot(ax=ax[1])\n",
    "ax[1].set_title(\"Grid SVM Model - Precision Recall Curve\")"
   ]
  },
  {
   "cell_type": "markdown",
   "metadata": {},
   "source": [
    "**SVM Models**:\n",
    "- The SVM Model and the Grid SVM Model show very similar performance. \n",
    "- Both models have high recall for the negative class (0.93) but lower recall for the positive class (around 0.61-0.62). \n",
    "- The Precision-Recall curves also indicate similar average precision (AP), with the SVM Model at 0.76 and the Grid SVM Model at 0.75. \n",
    "- Overall, hyperparameter tuning with GridSearch did not significantly improve the model's performance."
   ]
  },
  {
   "cell_type": "markdown",
   "metadata": {},
   "source": [
    "<a id='knn'></a>\n",
    "##  K-Nearest Neighbours (KNN)"
   ]
  },
  {
   "cell_type": "code",
   "execution_count": null,
   "metadata": {},
   "outputs": [],
   "source": [
    "knn_model = Pipeline([(\"scaler\", MinMaxScaler()),(\"knn\", KNeighborsClassifier())])\n",
    "\n",
    "knn_model.fit(X_train, y_train)"
   ]
  },
  {
   "cell_type": "code",
   "execution_count": null,
   "metadata": {},
   "outputs": [],
   "source": [
    "# Prediction\n",
    "y_pred = knn_model.predict(X_test)\n",
    "y_pred_proba = knn_model.predict_proba(X_test)\n",
    "\n",
    "# Scores to compare the models at the end.\n",
    "knn_f1 = f1_score(y_test, y_pred)\n",
    "knn_recall = recall_score(y_test, y_pred)\n",
    "knn_auc = roc_auc_score(y_test, y_pred)"
   ]
  },
  {
   "cell_type": "markdown",
   "metadata": {},
   "source": [
    "### Feature Importance"
   ]
  },
  {
   "cell_type": "code",
   "execution_count": null,
   "metadata": {},
   "outputs": [],
   "source": [
    "knn_fi = pd.DataFrame(data = knn_model[\"knn\"].feature_importances_, index=X.columns,\n",
    "                      columns = [\"Feature Importance\"])\n",
    "knn_fi = df_fi.sort_values(\"Feature Importance\", ascending=False)\n",
    "knn_fi"
   ]
  },
  {
   "cell_type": "markdown",
   "metadata": {},
   "source": [
    "### Evaluating The Model Performance"
   ]
  },
  {
   "cell_type": "code",
   "execution_count": null,
   "metadata": {},
   "outputs": [],
   "source": [
    "# Evaluating the Model Performance using Classification Metrics\n",
    "\n",
    "eval_metric(knn_model, X_train, y_train, X_test, y_test, 'knn_model')"
   ]
  },
  {
   "cell_type": "code",
   "execution_count": null,
   "metadata": {},
   "outputs": [],
   "source": [
    "# Roc_AUC_score\n",
    "print('knn_model ROC_AUC Score:', roc_auc_score(y_test, y_pred_proba[:,1]))\n",
    "print('--------------------------------------------------')\n",
    "\n",
    "# Confusion Matrix\n",
    "knn_matrix = ConfusionMatrixDisplay.from_estimator(knn_model, X_test,y_test, normalize='true', cmap='BuPu' )\n",
    "\n",
    "# Precision-Recall Curve\n",
    "knn_prCurve = PrecisionRecallDisplay.from_estimator(knn_model, X_test, y_test)"
   ]
  },
  {
   "cell_type": "markdown",
   "metadata": {},
   "source": [
    "### Elbow Method for Choosing Reasonable K-Values"
   ]
  },
  {
   "cell_type": "code",
   "execution_count": null,
   "metadata": {},
   "outputs": [],
   "source": [
    "test_error_rates = []\n",
    "\n",
    "for k in range(1,10):\n",
    "    \n",
    "    knn_model = Pipeline([(\"scaler\", MinMaxScaler()), (\"knn\", KNeighborsClassifier(n_neighbors=k))])\n",
    "    \n",
    "    scores = cross_validate(knn_model, X_train, y_train, scoring = ['recall'], cv = 10)\n",
    "    \n",
    "    recall_mean = scores[\"test_recall\"].mean() \n",
    "    \n",
    "    test_error = 1 - recall_mean\n",
    "    \n",
    "    test_error_rates.append(test_error)\n",
    "    "
   ]
  },
  {
   "cell_type": "code",
   "execution_count": null,
   "metadata": {},
   "outputs": [],
   "source": [
    "# Error Rate vs. K Value\n",
    "\n",
    "plt.figure(figsize=(15,5))\n",
    "plt.plot(range(1,10), test_error_rates, color='blue', marker='o',\n",
    "         markerfacecolor='red', markersize=10)\n",
    "\n",
    "plt.title('Error Rate vs. K Value')\n",
    "plt.xlabel('K_values')\n",
    "plt.ylabel('Error Rate')\n",
    "plt.hlines(y=0.4, xmin = 0, xmax = 10, colors= 'r', linestyles=\"--\")\n",
    "plt.hlines(y=0.383, xmin = 0, xmax = 10, colors= 'r', linestyles=\"--\")"
   ]
  },
  {
   "cell_type": "markdown",
   "metadata": {},
   "source": [
    "### Overfiting and Underfiting Control for K-Values"
   ]
  },
  {
   "cell_type": "code",
   "execution_count": null,
   "metadata": {},
   "outputs": [],
   "source": [
    "test_error_rates = []\n",
    "train_error_rates = []\n",
    "\n",
    "for k in range(1,10):\n",
    "    \n",
    "    knn_model = Pipeline([(\"scaler\", MinMaxScaler()), (\"knn\", KNeighborsClassifier(n_neighbors=k))])\n",
    "    \n",
    "    knn_model.fit(X_train,y_train) \n",
    "    \n",
    "    scores = cross_validate(knn_model, X_train, y_train, scoring = ['recall'], cv = 10, return_train_score=True)\n",
    "    \n",
    "    recall_test_mean = scores[\"test_recall\"].mean() \n",
    "    recall_train_mean = scores[\"train_recall\"].mean() \n",
    "\n",
    "    \n",
    "    test_error = 1 - recall_test_mean\n",
    "    train_error = 1 - recall_train_mean\n",
    "    test_error_rates.append(test_error)\n",
    "    train_error_rates.append(train_error)"
   ]
  },
  {
   "cell_type": "code",
   "execution_count": null,
   "metadata": {},
   "outputs": [],
   "source": [
    "plt.figure(figsize=(15,5))\n",
    "plt.plot(range(1,10), test_error_rates, color='blue', marker='o',\n",
    "         markerfacecolor='red', markersize=10)\n",
    "\n",
    "plt.plot(range(1,10), train_error_rates, color='blue', marker='o',\n",
    "         markerfacecolor='green', markersize=10)\n",
    "\n",
    "plt.title('Error Rate vs. K Value')\n",
    "plt.xlabel('K_values')\n",
    "plt.ylabel('Error Rate')\n",
    "plt.hlines(y=0.39, xmin = 0, xmax = 10, colors= 'r', linestyles=\"--\")\n",
    "plt.hlines(y=0.286, xmin = 0, xmax = 10, colors= 'r', linestyles=\"--\")\n",
    "\n",
    "# Red color: Test data erorr rates\n",
    "# Green color: Train data error rates"
   ]
  },
  {
   "cell_type": "markdown",
   "metadata": {},
   "source": [
    "### Scores by Various K-Values"
   ]
  },
  {
   "cell_type": "code",
   "execution_count": null,
   "metadata": {},
   "outputs": [],
   "source": [
    "k_list = [3,5,7, 8, 16]\n",
    " \n",
    "for i in k_list:\n",
    "    \n",
    "    knn = Pipeline([(\"scaler\", MinMaxScaler()), (\"knn\", KNeighborsClassifier(n_neighbors=k))])\n",
    "    knn.fit(X_train, y_train)\n",
    "    \n",
    "    print(f'WITH K={i}\\n')\n",
    "    \n",
    "    eval_metric(knn, X_train, y_train, X_test, y_test)"
   ]
  },
  {
   "cell_type": "markdown",
   "metadata": {},
   "source": [
    "### Cross Validation For Optimal K Value"
   ]
  },
  {
   "cell_type": "code",
   "execution_count": null,
   "metadata": {},
   "outputs": [],
   "source": [
    "#Cross Validation, k=7;\n",
    "model = Pipeline([(\"scaler\", StandardScaler()), (\"knn\", KNeighborsClassifier(n_neighbors=7))])\n",
    "\n",
    "scores = cross_validate(model, X_train, y_train, scoring = ['accuracy', 'precision','recall',\n",
    "                                                                   'f1'], cv = 10, return_train_score=True)\n",
    "df_scores = pd.DataFrame(scores, index = range(1, 11))\n",
    "df_scores.mean()[2:]"
   ]
  },
  {
   "cell_type": "markdown",
   "metadata": {},
   "source": [
    "### Gridsearch Method for Choosing Reasonable K Values"
   ]
  },
  {
   "cell_type": "code",
   "execution_count": null,
   "metadata": {},
   "outputs": [],
   "source": [
    "knn_model.get_params()"
   ]
  },
  {
   "cell_type": "code",
   "execution_count": null,
   "metadata": {},
   "outputs": [],
   "source": [
    "#Cross Validation\n",
    "model = Pipeline([(\"scaler\", StandardScaler()), (\"knn\", KNeighborsClassifier())])\n",
    "\n",
    "\n",
    "k_values = range(1,10)\n",
    "\n",
    "param_grid = {\n",
    "        \"knn__n_neighbors\": k_values,\n",
    "        \"knn__metric\": ['minkowski'],\n",
    "        \"knn__p\": [1, 2],\n",
    "        \"knn__weights\": ['uniform', 'distance']\n",
    "        }\n",
    "\n",
    "\n",
    "knn_grid_model = GridSearchCV(model,\n",
    "                              param_grid,\n",
    "                              scoring='recall',\n",
    "                              cv=5,\n",
    "                              n_jobs=-1,\n",
    "                              return_train_score=True).fit(X_train, y_train)"
   ]
  },
  {
   "cell_type": "code",
   "execution_count": null,
   "metadata": {},
   "outputs": [],
   "source": [
    "print('Best Params:', knn_grid_model.best_params_)\n",
    "print('Best Recall Score(test):', knn_grid_model.best_score_)\n",
    "print('Best Score index:', knn_grid_model.best_index_)"
   ]
  },
  {
   "cell_type": "code",
   "execution_count": null,
   "metadata": {},
   "outputs": [],
   "source": [
    "# Checking overfiting with the CV scores\n",
    "\n",
    "pd.DataFrame(knn_grid_model.cv_results_).loc[ , [\"mean_test_score\", \"mean_train_score\"]]"
   ]
  },
  {
   "cell_type": "code",
   "execution_count": null,
   "metadata": {},
   "outputs": [],
   "source": [
    "# Prediction\n",
    "y_pred = knn_grid_model.predict(X_test)\n",
    "y_pred_proba = knn_grid_model.predict_proba(X_test)\n",
    "\n",
    "# Scores to compare the models at the end.\n",
    "knn_grid_f1 = f1_score(y_test, y_pred)\n",
    "knn_grid_recall = recall_score(y_test, y_pred)\n",
    "knn_grid_auc = roc_auc_score(y_test, y_pred)"
   ]
  },
  {
   "cell_type": "code",
   "execution_count": null,
   "metadata": {},
   "outputs": [],
   "source": [
    "# Checking the Incorrect Predictions\n",
    "\n",
    "# Test Data df\n",
    "test_data = pd.concat([X_test, y_test], axis=1)\n",
    "\n",
    "# Create new column for 'predicted' classes to compore with actual target classes\n",
    "test_data[\"pred\"] = y_pred\n",
    "\n",
    "# Filtering the wrong predicted obs\n",
    "wrong_pred = test_data[((test_data[\"income\"] == 0) & (test_data[\"pred\"] == 1)) |\n",
    "             ((test_data[\"income\"] == 1) & (test_data[\"pred\"] == 0))]\n",
    "\n",
    "print('knn_grid_model Total Incorrect Predictions:', wrong_pred.shape)\n",
    "\n",
    "\n",
    "print('------------------------------------------------')\n",
    "# Actual-Predicted-Probalility of Pozitive Class(1)\n",
    "\n",
    "my_dict = {\"Actual\": y_test, \"Pred\":y_pred, \"Proba_1\":y_pred_proba[:,1]}\n",
    "pd.DataFrame.from_dict(my_dict).sample(10)"
   ]
  },
  {
   "cell_type": "markdown",
   "metadata": {},
   "source": [
    "### Evaluating The Model Performance"
   ]
  },
  {
   "cell_type": "code",
   "execution_count": null,
   "metadata": {},
   "outputs": [],
   "source": [
    "# Evaluating the Model Performance using Classification Metrics\n",
    "\n",
    "print('WITH K=7\\n')\n",
    "eval_metric(knn_grid_model, X_train, y_train, X_test, y_test,'knn_model')"
   ]
  },
  {
   "cell_type": "code",
   "execution_count": null,
   "metadata": {},
   "outputs": [],
   "source": [
    "# Roc_AUC_score\n",
    "print('knn_grid_model ROC_AUC Score:', roc_auc_score(y_test, y_pred_proba[:,1]))\n",
    "print('--------------------------------------------------')\n",
    "\n",
    "# Confusion Matrix\n",
    "knn_grid_matrix = ConfusionMatrixDisplay.from_estimator(knn_grid_model, X_test,y_test, normalize='true', cmap='BuPu' )\n",
    "\n",
    "# Precision-Recall Curve\n",
    "knn_grid_prCurve = PrecisionRecallDisplay.from_estimator(knn_grid_model, X_test, y_test)"
   ]
  },
  {
   "cell_type": "code",
   "execution_count": null,
   "metadata": {},
   "outputs": [],
   "source": [
    "fig, ax = plt.subplots(1, 2, figsize=(10,5))\n",
    "\n",
    "knn_matrix.plot(ax=ax[0])\n",
    "ax[0].set_title(\"KNN Model\")\n",
    "knn_grid_matrix.plot(ax=ax[1])\n",
    "ax[1].set_title(\"Grid KNN Model\")\n",
    "\n",
    "plt.tight_layout()\n",
    "plt.show()"
   ]
  },
  {
   "cell_type": "code",
   "execution_count": null,
   "metadata": {},
   "outputs": [],
   "source": [
    "fig, ax = plt.subplots(1, 2, figsize=(12, 5))\n",
    "\n",
    "knn_prCurve.plot(ax=ax[0])\n",
    "ax[0].set_title(\"KNN Model - Precision Recall Curve\")\n",
    "knn_grid_prCurve.plot(ax=ax[1])\n",
    "ax[1].set_title(\"KNN Grid Model - Precision Recall Curve\")"
   ]
  },
  {
   "cell_type": "markdown",
   "metadata": {},
   "source": [
    "<a id='compare'></a>\n",
    "## Comparing the All Models (Logistic-SVM-KNN)"
   ]
  },
  {
   "cell_type": "markdown",
   "metadata": {},
   "source": [
    "- We focus on Precision-Recall because the data is unbalanced, meaning there are significantly more instances of one class than the other. \n",
    "- In such cases, accuracy can be misleading, as it may be high simply by predicting the majority class. \n",
    "- Precision-Recall provides a clearer picture of the model's ability to correctly identify and handle the minority class, by evaluating how well the model avoids false positives (Precision) and captures true positives (Recall). \n",
    "- This is crucial when the minority class is of particular interest."
   ]
  },
  {
   "cell_type": "code",
   "execution_count": null,
   "metadata": {},
   "outputs": [],
   "source": [
    "# Confusion Matrix \n",
    "fig, ax = plt.subplots(1, 3, figsize=(15,5))\n",
    "\n",
    "grid_log_matrix.plot(ax=ax[0])\n",
    "ax[0].set_title(\"Logistic Grid Model\")\n",
    "svm_grid_matrix.plot(ax=ax[1])\n",
    "ax[1].set_title(\"SVM Grid Model\")\n",
    "knn_grid_matrix.plot(ax=ax[2])\n",
    "ax[2].set_title(\"KNN Grid Model\")\n",
    "\n",
    "plt.tight_layout()\n",
    "plt.show()"
   ]
  },
  {
   "cell_type": "code",
   "execution_count": null,
   "metadata": {},
   "outputs": [],
   "source": [
    "# Precision-Recall Curves\n",
    "\n",
    "fig, ax = plt.subplots(1, 3, figsize=(12, 5))\n",
    "\n",
    "grid_log_prCurve.plot(ax=ax[0])\n",
    "ax[0].set_title(\"Logistic Grid-Precision Recall Curve\")\n",
    "svm_grid_prCurve.plot(ax=ax[1])\n",
    "ax[1].set_title(\"SVM Grid -Precision Recall Curve\")\n",
    "knn_grid_prCurve.plot(ax=ax[2])\n",
    "ax[2].set_title(\"KNN Grid -Precision Recall Curve\")"
   ]
  },
  {
   "cell_type": "code",
   "execution_count": 165,
   "metadata": {
    "ExecuteTime": {
     "end_time": "2024-08-13T16:21:47.600742Z",
     "start_time": "2024-08-13T16:21:47.269365Z"
    }
   },
   "outputs": [
    {
     "data": {
      "image/png": "[encoded data removed]",
      "text/plain": [
       "<Figure size 1400x1000 with 3 Axes>"
      ]
     },
     "metadata": {},
     "output_type": "display_data"
    }
   ],
   "source": [
    "# F1 - Recall - ROC_AUC Scores\n",
    "\n",
    "compare = pd.DataFrame({\"Models\": [\"Logistic Regression\",\"SVM\", \"KNN\"],\n",
    "                        \"F1\": [log_grid_f1,svm_grid_f1, knn_grid_f1],\n",
    "                        \"Recall\": [log_grid_recall, svm_grid_recall, knn_recall],\n",
    "                        \"ROC_AUC\": [log_grid_auc,svm_grid_auc, knn_auc]})\n",
    "\n",
    "def labels(ax):\n",
    "    for p in ax.patches:\n",
    "        width = p.get_width()                        # get bar length\n",
    "        ax.text(width,                               # set the text at 1 unit right of the bar\n",
    "                p.get_y() + p.get_height() / 2,      # get Y coordinate + X coordinate / 2\n",
    "                '{:1.3f}'.format(width),             # set variable to display, 2 decimals\n",
    "                ha = 'left',                         # horizontal alignment\n",
    "                va = 'center')                       # vertical alignment\n",
    "     \n",
    "    \n",
    "plt.figure(figsize=(14,10))\n",
    "\n",
    "plt.subplot(311)\n",
    "compare = compare.sort_values(by=\"F1\", ascending=False)\n",
    "ax=sns.barplot(x=\"F1\", y=\"Models\", data=compare, palette=\"BuPu\")\n",
    "labels(ax)\n",
    "\n",
    "plt.subplot(312)\n",
    "compare = compare.sort_values(by=\"Recall\", ascending=False)\n",
    "ax=sns.barplot(x=\"Recall\", y=\"Models\", data=compare, palette=\"BuPu\")\n",
    "labels(ax)\n",
    "\n",
    "plt.subplot(313)\n",
    "compare = compare.sort_values(by=\"ROC_AUC\", ascending=False)\n",
    "ax=sns.barplot(x=\"ROC_AUC\", y=\"Models\", data=compare, palette=\"BuPu\")\n",
    "labels(ax)\n",
    "\n",
    "plt.show()"
   ]
  },
  {
   "cell_type": "markdown",
   "metadata": {},
   "source": [
    "<a id='final-model'></a>\n",
    "## Final Model and Deployment"
   ]
  },
  {
   "cell_type": "code",
   "execution_count": 170,
   "metadata": {
    "ExecuteTime": {
     "end_time": "2024-08-13T16:37:20.055126Z",
     "start_time": "2024-08-13T16:36:01.230236Z"
    }
   },
   "outputs": [
    {
     "name": "stdout",
     "output_type": "stream",
     "text": [
      "Fitting 5 folds for each of 1 candidates, totalling 5 fits\n"
     ]
    }
   ],
   "source": [
    "# SVM Model with the Best Parameters\n",
    "\n",
    "model = Pipeline([(\"scaler\", MinMaxScaler()), (\"SVC\", SVC(class_weight=\"balanced\"))])\n",
    "\n",
    "\n",
    "param_grid = {\"SVC__C\":[1],\n",
    "             \"SVC__gamma\":[\"scale\"],\n",
    "             \"SVC__kernel\":[\"rbf\"]}\n",
    "\n",
    "cv = StratifiedKFold(n_splits = 5) # for unbalanced data\n",
    "\n",
    "final_svm_model = GridSearchCV(model,\n",
    "                          param_grid=param_grid,\n",
    "                          cv=cv,\n",
    "                          scoring = \"recall_macro\",   \n",
    "                          n_jobs = -1, # Uses all available cores\n",
    "                          verbose=1,\n",
    "                          return_train_score=True).fit(X_train, y_train) # fit the model"
   ]
  },
  {
   "cell_type": "code",
   "execution_count": 171,
   "metadata": {
    "ExecuteTime": {
     "end_time": "2024-08-13T16:42:04.799557Z",
     "start_time": "2024-08-13T16:42:04.791361Z"
    }
   },
   "outputs": [],
   "source": [
    "# Export the final model to your local -> serilarization\n",
    "\n",
    "import pickle\n",
    "pickle.dump(final_svm_model, open(\"final_classification_model\", \"wb\"))"
   ]
  },
  {
   "cell_type": "code",
   "execution_count": 172,
   "metadata": {
    "ExecuteTime": {
     "end_time": "2024-08-13T16:42:07.393210Z",
     "start_time": "2024-08-13T16:42:07.368746Z"
    }
   },
   "outputs": [
    {
     "data": {
      "text/html": [
       "<style>#sk-container-id-3 {\n",
       "  /* Definition of color scheme common for light and dark mode */\n",
       "  --sklearn-color-text: black;\n",
       "  --sklearn-color-line: gray;\n",
       "  /* Definition of color scheme for unfitted estimators */\n",
       "  --sklearn-color-unfitted-level-0: #fff5e6;\n",
       "  --sklearn-color-unfitted-level-1: #f6e4d2;\n",
       "  --sklearn-color-unfitted-level-2: #ffe0b3;\n",
       "  --sklearn-color-unfitted-level-3: chocolate;\n",
       "  /* Definition of color scheme for fitted estimators */\n",
       "  --sklearn-color-fitted-level-0: #f0f8ff;\n",
       "  --sklearn-color-fitted-level-1: #d4ebff;\n",
       "  --sklearn-color-fitted-level-2: #b3dbfd;\n",
       "  --sklearn-color-fitted-level-3: cornflowerblue;\n",
       "\n",
       "  /* Specific color for light theme */\n",
       "  --sklearn-color-text-on-default-background: var(--sg-text-color, var(--theme-code-foreground, var(--jp-content-font-color1, black)));\n",
       "  --sklearn-color-background: var(--sg-background-color, var(--theme-background, var(--jp-layout-color0, white)));\n",
       "  --sklearn-color-border-box: var(--sg-text-color, var(--theme-code-foreground, var(--jp-content-font-color1, black)));\n",
       "  --sklearn-color-icon: #696969;\n",
       "\n",
       "  @media (prefers-color-scheme: dark) {\n",
       "    /* Redefinition of color scheme for dark theme */\n",
       "    --sklearn-color-text-on-default-background: var(--sg-text-color, var(--theme-code-foreground, var(--jp-content-font-color1, white)));\n",
       "    --sklearn-color-background: var(--sg-background-color, var(--theme-background, var(--jp-layout-color0, #111)));\n",
       "    --sklearn-color-border-box: var(--sg-text-color, var(--theme-code-foreground, var(--jp-content-font-color1, white)));\n",
       "    --sklearn-color-icon: #878787;\n",
       "  }\n",
       "}\n",
       "\n",
       "#sk-container-id-3 {\n",
       "  color: var(--sklearn-color-text);\n",
       "}\n",
       "\n",
       "#sk-container-id-3 pre {\n",
       "  padding: 0;\n",
       "}\n",
       "\n",
       "#sk-container-id-3 input.sk-hidden--visually {\n",
       "  border: 0;\n",
       "  clip: rect(1px 1px 1px 1px);\n",
       "  clip: rect(1px, 1px, 1px, 1px);\n",
       "  height: 1px;\n",
       "  margin: -1px;\n",
       "  overflow: hidden;\n",
       "  padding: 0;\n",
       "  position: absolute;\n",
       "  width: 1px;\n",
       "}\n",
       "\n",
       "#sk-container-id-3 div.sk-dashed-wrapped {\n",
       "  border: 1px dashed var(--sklearn-color-line);\n",
       "  margin: 0 0.4em 0.5em 0.4em;\n",
       "  box-sizing: border-box;\n",
       "  padding-bottom: 0.4em;\n",
       "  background-color: var(--sklearn-color-background);\n",
       "}\n",
       "\n",
       "#sk-container-id-3 div.sk-container {\n",
       "  /* jupyter's `normalize.less` sets `[hidden] { display: none; }`\n",
       "     but bootstrap.min.css set `[hidden] { display: none !important; }`\n",
       "     so we also need the `!important` here to be able to override the\n",
       "     default hidden behavior on the sphinx rendered scikit-learn.org.\n",
       "     See: https://github.com/scikit-learn/scikit-learn/issues/21755 */\n",
       "  display: inline-block !important;\n",
       "  position: relative;\n",
       "}\n",
       "\n",
       "#sk-container-id-3 div.sk-text-repr-fallback {\n",
       "  display: none;\n",
       "}\n",
       "\n",
       "div.sk-parallel-item,\n",
       "div.sk-serial,\n",
       "div.sk-item {\n",
       "  /* draw centered vertical line to link estimators */\n",
       "  background-image: linear-gradient(var(--sklearn-color-text-on-default-background), var(--sklearn-color-text-on-default-background));\n",
       "  background-size: 2px 100%;\n",
       "  background-repeat: no-repeat;\n",
       "  background-position: center center;\n",
       "}\n",
       "\n",
       "/* Parallel-specific style estimator block */\n",
       "\n",
       "#sk-container-id-3 div.sk-parallel-item::after {\n",
       "  content: \"\";\n",
       "  width: 100%;\n",
       "  border-bottom: 2px solid var(--sklearn-color-text-on-default-background);\n",
       "  flex-grow: 1;\n",
       "}\n",
       "\n",
       "#sk-container-id-3 div.sk-parallel {\n",
       "  display: flex;\n",
       "  align-items: stretch;\n",
       "  justify-content: center;\n",
       "  background-color: var(--sklearn-color-background);\n",
       "  position: relative;\n",
       "}\n",
       "\n",
       "#sk-container-id-3 div.sk-parallel-item {\n",
       "  display: flex;\n",
       "  flex-direction: column;\n",
       "}\n",
       "\n",
       "#sk-container-id-3 div.sk-parallel-item:first-child::after {\n",
       "  align-self: flex-end;\n",
       "  width: 50%;\n",
       "}\n",
       "\n",
       "#sk-container-id-3 div.sk-parallel-item:last-child::after {\n",
       "  align-self: flex-start;\n",
       "  width: 50%;\n",
       "}\n",
       "\n",
       "#sk-container-id-3 div.sk-parallel-item:only-child::after {\n",
       "  width: 0;\n",
       "}\n",
       "\n",
       "/* Serial-specific style estimator block */\n",
       "\n",
       "#sk-container-id-3 div.sk-serial {\n",
       "  display: flex;\n",
       "  flex-direction: column;\n",
       "  align-items: center;\n",
       "  background-color: var(--sklearn-color-background);\n",
       "  padding-right: 1em;\n",
       "  padding-left: 1em;\n",
       "}\n",
       "\n",
       "\n",
       "/* Toggleable style: style used for estimator/Pipeline/ColumnTransformer box that is\n",
       "clickable and can be expanded/collapsed.\n",
       "- Pipeline and ColumnTransformer use this feature and define the default style\n",
       "- Estimators will overwrite some part of the style using the `sk-estimator` class\n",
       "*/\n",
       "\n",
       "/* Pipeline and ColumnTransformer style (default) */\n",
       "\n",
       "#sk-container-id-3 div.sk-toggleable {\n",
       "  /* Default theme specific background. It is overwritten whether we have a\n",
       "  specific estimator or a Pipeline/ColumnTransformer */\n",
       "  background-color: var(--sklearn-color-background);\n",
       "}\n",
       "\n",
       "/* Toggleable label */\n",
       "#sk-container-id-3 label.sk-toggleable__label {\n",
       "  cursor: pointer;\n",
       "  display: block;\n",
       "  width: 100%;\n",
       "  margin-bottom: 0;\n",
       "  padding: 0.5em;\n",
       "  box-sizing: border-box;\n",
       "  text-align: center;\n",
       "}\n",
       "\n",
       "#sk-container-id-3 label.sk-toggleable__label-arrow:before {\n",
       "  /* Arrow on the left of the label */\n",
       "  content: \"▸\";\n",
       "  float: left;\n",
       "  margin-right: 0.25em;\n",
       "  color: var(--sklearn-color-icon);\n",
       "}\n",
       "\n",
       "#sk-container-id-3 label.sk-toggleable__label-arrow:hover:before {\n",
       "  color: var(--sklearn-color-text);\n",
       "}\n",
       "\n",
       "/* Toggleable content - dropdown */\n",
       "\n",
       "#sk-container-id-3 div.sk-toggleable__content {\n",
       "  max-height: 0;\n",
       "  max-width: 0;\n",
       "  overflow: hidden;\n",
       "  text-align: left;\n",
       "  /* unfitted */\n",
       "  background-color: var(--sklearn-color-unfitted-level-0);\n",
       "}\n",
       "\n",
       "#sk-container-id-3 div.sk-toggleable__content.fitted {\n",
       "  /* fitted */\n",
       "  background-color: var(--sklearn-color-fitted-level-0);\n",
       "}\n",
       "\n",
       "#sk-container-id-3 div.sk-toggleable__content pre {\n",
       "  margin: 0.2em;\n",
       "  border-radius: 0.25em;\n",
       "  color: var(--sklearn-color-text);\n",
       "  /* unfitted */\n",
       "  background-color: var(--sklearn-color-unfitted-level-0);\n",
       "}\n",
       "\n",
       "#sk-container-id-3 div.sk-toggleable__content.fitted pre {\n",
       "  /* unfitted */\n",
       "  background-color: var(--sklearn-color-fitted-level-0);\n",
       "}\n",
       "\n",
       "#sk-container-id-3 input.sk-toggleable__control:checked~div.sk-toggleable__content {\n",
       "  /* Expand drop-down */\n",
       "  max-height: 200px;\n",
       "  max-width: 100%;\n",
       "  overflow: auto;\n",
       "}\n",
       "\n",
       "#sk-container-id-3 input.sk-toggleable__control:checked~label.sk-toggleable__label-arrow:before {\n",
       "  content: \"▾\";\n",
       "}\n",
       "\n",
       "/* Pipeline/ColumnTransformer-specific style */\n",
       "\n",
       "#sk-container-id-3 div.sk-label input.sk-toggleable__control:checked~label.sk-toggleable__label {\n",
       "  color: var(--sklearn-color-text);\n",
       "  background-color: var(--sklearn-color-unfitted-level-2);\n",
       "}\n",
       "\n",
       "#sk-container-id-3 div.sk-label.fitted input.sk-toggleable__control:checked~label.sk-toggleable__label {\n",
       "  background-color: var(--sklearn-color-fitted-level-2);\n",
       "}\n",
       "\n",
       "/* Estimator-specific style */\n",
       "\n",
       "/* Colorize estimator box */\n",
       "#sk-container-id-3 div.sk-estimator input.sk-toggleable__control:checked~label.sk-toggleable__label {\n",
       "  /* unfitted */\n",
       "  background-color: var(--sklearn-color-unfitted-level-2);\n",
       "}\n",
       "\n",
       "#sk-container-id-3 div.sk-estimator.fitted input.sk-toggleable__control:checked~label.sk-toggleable__label {\n",
       "  /* fitted */\n",
       "  background-color: var(--sklearn-color-fitted-level-2);\n",
       "}\n",
       "\n",
       "#sk-container-id-3 div.sk-label label.sk-toggleable__label,\n",
       "#sk-container-id-3 div.sk-label label {\n",
       "  /* The background is the default theme color */\n",
       "  color: var(--sklearn-color-text-on-default-background);\n",
       "}\n",
       "\n",
       "/* On hover, darken the color of the background */\n",
       "#sk-container-id-3 div.sk-label:hover label.sk-toggleable__label {\n",
       "  color: var(--sklearn-color-text);\n",
       "  background-color: var(--sklearn-color-unfitted-level-2);\n",
       "}\n",
       "\n",
       "/* Label box, darken color on hover, fitted */\n",
       "#sk-container-id-3 div.sk-label.fitted:hover label.sk-toggleable__label.fitted {\n",
       "  color: var(--sklearn-color-text);\n",
       "  background-color: var(--sklearn-color-fitted-level-2);\n",
       "}\n",
       "\n",
       "/* Estimator label */\n",
       "\n",
       "#sk-container-id-3 div.sk-label label {\n",
       "  font-family: monospace;\n",
       "  font-weight: bold;\n",
       "  display: inline-block;\n",
       "  line-height: 1.2em;\n",
       "}\n",
       "\n",
       "#sk-container-id-3 div.sk-label-container {\n",
       "  text-align: center;\n",
       "}\n",
       "\n",
       "/* Estimator-specific */\n",
       "#sk-container-id-3 div.sk-estimator {\n",
       "  font-family: monospace;\n",
       "  border: 1px dotted var(--sklearn-color-border-box);\n",
       "  border-radius: 0.25em;\n",
       "  box-sizing: border-box;\n",
       "  margin-bottom: 0.5em;\n",
       "  /* unfitted */\n",
       "  background-color: var(--sklearn-color-unfitted-level-0);\n",
       "}\n",
       "\n",
       "#sk-container-id-3 div.sk-estimator.fitted {\n",
       "  /* fitted */\n",
       "  background-color: var(--sklearn-color-fitted-level-0);\n",
       "}\n",
       "\n",
       "/* on hover */\n",
       "#sk-container-id-3 div.sk-estimator:hover {\n",
       "  /* unfitted */\n",
       "  background-color: var(--sklearn-color-unfitted-level-2);\n",
       "}\n",
       "\n",
       "#sk-container-id-3 div.sk-estimator.fitted:hover {\n",
       "  /* fitted */\n",
       "  background-color: var(--sklearn-color-fitted-level-2);\n",
       "}\n",
       "\n",
       "/* Specification for estimator info (e.g. \"i\" and \"?\") */\n",
       "\n",
       "/* Common style for \"i\" and \"?\" */\n",
       "\n",
       ".sk-estimator-doc-link,\n",
       "a:link.sk-estimator-doc-link,\n",
       "a:visited.sk-estimator-doc-link {\n",
       "  float: right;\n",
       "  font-size: smaller;\n",
       "  line-height: 1em;\n",
       "  font-family: monospace;\n",
       "  background-color: var(--sklearn-color-background);\n",
       "  border-radius: 1em;\n",
       "  height: 1em;\n",
       "  width: 1em;\n",
       "  text-decoration: none !important;\n",
       "  margin-left: 1ex;\n",
       "  /* unfitted */\n",
       "  border: var(--sklearn-color-unfitted-level-1) 1pt solid;\n",
       "  color: var(--sklearn-color-unfitted-level-1);\n",
       "}\n",
       "\n",
       ".sk-estimator-doc-link.fitted,\n",
       "a:link.sk-estimator-doc-link.fitted,\n",
       "a:visited.sk-estimator-doc-link.fitted {\n",
       "  /* fitted */\n",
       "  border: var(--sklearn-color-fitted-level-1) 1pt solid;\n",
       "  color: var(--sklearn-color-fitted-level-1);\n",
       "}\n",
       "\n",
       "/* On hover */\n",
       "div.sk-estimator:hover .sk-estimator-doc-link:hover,\n",
       ".sk-estimator-doc-link:hover,\n",
       "div.sk-label-container:hover .sk-estimator-doc-link:hover,\n",
       ".sk-estimator-doc-link:hover {\n",
       "  /* unfitted */\n",
       "  background-color: var(--sklearn-color-unfitted-level-3);\n",
       "  color: var(--sklearn-color-background);\n",
       "  text-decoration: none;\n",
       "}\n",
       "\n",
       "div.sk-estimator.fitted:hover .sk-estimator-doc-link.fitted:hover,\n",
       ".sk-estimator-doc-link.fitted:hover,\n",
       "div.sk-label-container:hover .sk-estimator-doc-link.fitted:hover,\n",
       ".sk-estimator-doc-link.fitted:hover {\n",
       "  /* fitted */\n",
       "  background-color: var(--sklearn-color-fitted-level-3);\n",
       "  color: var(--sklearn-color-background);\n",
       "  text-decoration: none;\n",
       "}\n",
       "\n",
       "/* Span, style for the box shown on hovering the info icon */\n",
       ".sk-estimator-doc-link span {\n",
       "  display: none;\n",
       "  z-index: 9999;\n",
       "  position: relative;\n",
       "  font-weight: normal;\n",
       "  right: .2ex;\n",
       "  padding: .5ex;\n",
       "  margin: .5ex;\n",
       "  width: min-content;\n",
       "  min-width: 20ex;\n",
       "  max-width: 50ex;\n",
       "  color: var(--sklearn-color-text);\n",
       "  box-shadow: 2pt 2pt 4pt #999;\n",
       "  /* unfitted */\n",
       "  background: var(--sklearn-color-unfitted-level-0);\n",
       "  border: .5pt solid var(--sklearn-color-unfitted-level-3);\n",
       "}\n",
       "\n",
       ".sk-estimator-doc-link.fitted span {\n",
       "  /* fitted */\n",
       "  background: var(--sklearn-color-fitted-level-0);\n",
       "  border: var(--sklearn-color-fitted-level-3);\n",
       "}\n",
       "\n",
       ".sk-estimator-doc-link:hover span {\n",
       "  display: block;\n",
       "}\n",
       "\n",
       "/* \"?\"-specific style due to the `<a>` HTML tag */\n",
       "\n",
       "#sk-container-id-3 a.estimator_doc_link {\n",
       "  float: right;\n",
       "  font-size: 1rem;\n",
       "  line-height: 1em;\n",
       "  font-family: monospace;\n",
       "  background-color: var(--sklearn-color-background);\n",
       "  border-radius: 1rem;\n",
       "  height: 1rem;\n",
       "  width: 1rem;\n",
       "  text-decoration: none;\n",
       "  /* unfitted */\n",
       "  color: var(--sklearn-color-unfitted-level-1);\n",
       "  border: var(--sklearn-color-unfitted-level-1) 1pt solid;\n",
       "}\n",
       "\n",
       "#sk-container-id-3 a.estimator_doc_link.fitted {\n",
       "  /* fitted */\n",
       "  border: var(--sklearn-color-fitted-level-1) 1pt solid;\n",
       "  color: var(--sklearn-color-fitted-level-1);\n",
       "}\n",
       "\n",
       "/* On hover */\n",
       "#sk-container-id-3 a.estimator_doc_link:hover {\n",
       "  /* unfitted */\n",
       "  background-color: var(--sklearn-color-unfitted-level-3);\n",
       "  color: var(--sklearn-color-background);\n",
       "  text-decoration: none;\n",
       "}\n",
       "\n",
       "#sk-container-id-3 a.estimator_doc_link.fitted:hover {\n",
       "  /* fitted */\n",
       "  background-color: var(--sklearn-color-fitted-level-3);\n",
       "}\n",
       "</style><div id=\"sk-container-id-3\" class=\"sk-top-container\"><div class=\"sk-text-repr-fallback\"><pre>GridSearchCV(cv=StratifiedKFold(n_splits=5, random_state=None, shuffle=False),\n",
       "             estimator=Pipeline(steps=[(&#x27;scaler&#x27;, MinMaxScaler()),\n",
       "                                       (&#x27;SVC&#x27;, SVC(class_weight=&#x27;balanced&#x27;))]),\n",
       "             n_jobs=-1,\n",
       "             param_grid={&#x27;SVC__C&#x27;: [1], &#x27;SVC__gamma&#x27;: [&#x27;scale&#x27;],\n",
       "                         &#x27;SVC__kernel&#x27;: [&#x27;rbf&#x27;]},\n",
       "             return_train_score=True, scoring=&#x27;recall_macro&#x27;, verbose=1)</pre><b>In a Jupyter environment, please rerun this cell to show the HTML representation or trust the notebook. <br />On GitHub, the HTML representation is unable to render, please try loading this page with nbviewer.org.</b></div><div class=\"sk-container\" hidden><div class=\"sk-item sk-dashed-wrapped\"><div class=\"sk-label-container\"><div class=\"sk-label fitted sk-toggleable\"><input class=\"sk-toggleable__control sk-hidden--visually\" id=\"sk-estimator-id-7\" type=\"checkbox\" ><label for=\"sk-estimator-id-7\" class=\"sk-toggleable__label fitted sk-toggleable__label-arrow fitted\">&nbsp;&nbsp;GridSearchCV<a class=\"sk-estimator-doc-link fitted\" rel=\"noreferrer\" target=\"_blank\" href=\"https://scikit-learn.org/1.4/modules/generated/sklearn.model_selection.GridSearchCV.html\">?<span>Documentation for GridSearchCV</span></a><span class=\"sk-estimator-doc-link fitted\">i<span>Fitted</span></span></label><div class=\"sk-toggleable__content fitted\"><pre>GridSearchCV(cv=StratifiedKFold(n_splits=5, random_state=None, shuffle=False),\n",
       "             estimator=Pipeline(steps=[(&#x27;scaler&#x27;, MinMaxScaler()),\n",
       "                                       (&#x27;SVC&#x27;, SVC(class_weight=&#x27;balanced&#x27;))]),\n",
       "             n_jobs=-1,\n",
       "             param_grid={&#x27;SVC__C&#x27;: [1], &#x27;SVC__gamma&#x27;: [&#x27;scale&#x27;],\n",
       "                         &#x27;SVC__kernel&#x27;: [&#x27;rbf&#x27;]},\n",
       "             return_train_score=True, scoring=&#x27;recall_macro&#x27;, verbose=1)</pre></div> </div></div><div class=\"sk-parallel\"><div class=\"sk-parallel-item\"><div class=\"sk-item\"><div class=\"sk-label-container\"><div class=\"sk-label fitted sk-toggleable\"><input class=\"sk-toggleable__control sk-hidden--visually\" id=\"sk-estimator-id-8\" type=\"checkbox\" ><label for=\"sk-estimator-id-8\" class=\"sk-toggleable__label fitted sk-toggleable__label-arrow fitted\">estimator: Pipeline</label><div class=\"sk-toggleable__content fitted\"><pre>Pipeline(steps=[(&#x27;scaler&#x27;, MinMaxScaler()),\n",
       "                (&#x27;SVC&#x27;, SVC(class_weight=&#x27;balanced&#x27;))])</pre></div> </div></div><div class=\"sk-serial\"><div class=\"sk-item\"><div class=\"sk-serial\"><div class=\"sk-item\"><div class=\"sk-estimator fitted sk-toggleable\"><input class=\"sk-toggleable__control sk-hidden--visually\" id=\"sk-estimator-id-9\" type=\"checkbox\" ><label for=\"sk-estimator-id-9\" class=\"sk-toggleable__label fitted sk-toggleable__label-arrow fitted\">&nbsp;MinMaxScaler<a class=\"sk-estimator-doc-link fitted\" rel=\"noreferrer\" target=\"_blank\" href=\"https://scikit-learn.org/1.4/modules/generated/sklearn.preprocessing.MinMaxScaler.html\">?<span>Documentation for MinMaxScaler</span></a></label><div class=\"sk-toggleable__content fitted\"><pre>MinMaxScaler()</pre></div> </div></div><div class=\"sk-item\"><div class=\"sk-estimator fitted sk-toggleable\"><input class=\"sk-toggleable__control sk-hidden--visually\" id=\"sk-estimator-id-10\" type=\"checkbox\" ><label for=\"sk-estimator-id-10\" class=\"sk-toggleable__label fitted sk-toggleable__label-arrow fitted\">&nbsp;SVC<a class=\"sk-estimator-doc-link fitted\" rel=\"noreferrer\" target=\"_blank\" href=\"https://scikit-learn.org/1.4/modules/generated/sklearn.svm.SVC.html\">?<span>Documentation for SVC</span></a></label><div class=\"sk-toggleable__content fitted\"><pre>SVC(class_weight=&#x27;balanced&#x27;)</pre></div> </div></div></div></div></div></div></div></div></div></div></div>"
      ],
      "text/plain": [
       "GridSearchCV(cv=StratifiedKFold(n_splits=5, random_state=None, shuffle=False),\n",
       "             estimator=Pipeline(steps=[('scaler', MinMaxScaler()),\n",
       "                                       ('SVC', SVC(class_weight='balanced'))]),\n",
       "             n_jobs=-1,\n",
       "             param_grid={'SVC__C': [1], 'SVC__gamma': ['scale'],\n",
       "                         'SVC__kernel': ['rbf']},\n",
       "             return_train_score=True, scoring='recall_macro', verbose=1)"
      ]
     },
     "execution_count": 172,
     "metadata": {},
     "output_type": "execute_result"
    }
   ],
   "source": [
    "# Import the final model to use -> deserilization\n",
    "\n",
    "new_model = pickle.load(open(\"final_classification_model\", \"rb\"))\n",
    "new_model"
   ]
  },
  {
   "cell_type": "markdown",
   "metadata": {},
   "source": [
    "<a id='conclusion'></a>\n",
    "## Conclusion"
   ]
  },
  {
   "cell_type": "markdown",
   "metadata": {},
   "source": [
    "---\n",
    "\n",
    "**Final Model:** SVM Model\n",
    "\n",
    "*Parameters:*\n",
    "- recall: 85,  \n",
    "- f1: 0.87   \n",
    "- prc: 0.76  \n",
    "\n",
    "---"
   ]
  },
  {
   "cell_type": "markdown",
   "metadata": {},
   "source": [
    "In this project, we used logistic regression, SVM, and KNN models to predict income levels on an unbalanced dataset. We focused on F1 and recall scores to evaluate performance, as they are critical in **unbalanced datasets** where the minority class (higher income) is key.\n",
    "\n",
    "### Why SVM was Chosen:\n",
    "- **Balanced Performance**: The SVM model achieved a strong balance between precision and recall, with an F1 score of 0.87 and a recall of 0.85 on the test set. This makes it effective at identifying high-income individuals while keeping false positives low.\n",
    "- **Consistency**: SVM showed stable performance across training and test sets, indicating good generalization without overfitting.\n",
    "\n",
    "### Importance of F1 and Recall:\n",
    "- **F1 Score**: This metric combines precision and recall, ensuring the model performs well with both false positives and false negatives in mind.\n",
    "- **Recall**: Prioritizing recall ensures we capture most high-income individuals, which is vital in unbalanced datasets.\n",
    "\n",
    "In short, the SVM model’s balanced precision and recall, along with its consistent performance, make it the best choice as the final model for predicting income levels."
   ]
  },
  {
   "cell_type": "markdown",
   "metadata": {},
   "source": [
    "<div style=\"text-align: center; font-weight: bold;\">\n",
    " If you find this work helpful, don't forget to give it an 👍 UPVOTE! and join the discussion! 💬\n",
    "</div>\n",
    "\n",
    "<div style=\"color:white;\n",
    "            display:fill;\n",
    "            border-radius:10px;\n",
    "            background-color:#0e2f52;\n",
    "            font-size:100%;\n",
    "            font-family:Verdana;\n",
    "            letter-spacing:1px;\n",
    "            padding: 20px;\n",
    "            text-align:center;\n",
    "            font-weight: bold;\">\n",
    "    Thank you...\n",
    "</div>\n",
    "\n",
    "---\n",
    "\n",
    "<div style=\"text-align: center;\">\n",
    "  <b>Duygu Jones | Data Scientist | 2024 </b>\n",
    "    \n",
    "  <br>\n",
    "  Follow me:\n",
    "  <a href=\"https://duygujones.vercel.app/\">duygujones.com</a> | \n",
    "  <a href=\"https://www.linkedin.com/in/duygujones/\">Linkedin</a> | \n",
    "  <a href=\"https://github.com/Duygu-Jones\">GitHub</a> | \n",
    "  <a href=\"https://www.kaggle.com/duygujones\">Kaggle</a> | \n",
    "  <a href=\"https://medium.com/@duygujones\">Medium</a> | \n",
    "  <a href=\"https://public.tableau.com/app/profile/duygu.jones/vizzes\">Tableau</a>\n",
    "\n",
    "    \n",
    "</div>    "
   ]
  }
 ],
 "metadata": {
  "hide_input": false,
  "kaggle": {
   "accelerator": "none",
   "dataSources": [
    {
     "datasetId": 225,
     "sourceId": 498,
     "sourceType": "datasetVersion"
    }
   ],
   "dockerImageVersionId": 30746,
   "isGpuEnabled": false,
   "isInternetEnabled": true,
   "language": "python",
   "sourceType": "notebook"
  },
  "kernelspec": {
   "display_name": "Python 3 (ipykernel)",
   "language": "python",
   "name": "python3"
  },
  "language_info": {
   "codemirror_mode": {
    "name": "ipython",
    "version": 3
   },
   "file_extension": ".py",
   "mimetype": "text/x-python",
   "name": "python",
   "nbconvert_exporter": "python",
   "pygments_lexer": "ipython3",
   "version": "3.12.3"
  },
  "toc": {
   "base_numbering": 1,
   "nav_menu": {},
   "number_sections": true,
   "sideBar": true,
   "skip_h1_title": false,
   "title_cell": "Table of Contents",
   "title_sidebar": "Contents",
   "toc_cell": false,
   "toc_position": {
    "height": "calc(100% - 180px)",
    "left": "10px",
    "top": "150px",
    "width": "306.591px"
   },
   "toc_section_display": true,
   "toc_window_display": true
  },
  "varInspector": {
   "cols": {
    "lenName": 16,
    "lenType": 16,
    "lenVar": 40
   },
   "kernels_config": {
    "python": {
     "delete_cmd_postfix": "",
     "delete_cmd_prefix": "del ",
     "library": "var_list.py",
     "varRefreshCmd": "print(var_dic_list())"
    },
    "r": {
     "delete_cmd_postfix": ") ",
     "delete_cmd_prefix": "rm(",
     "library": "var_list.r",
     "varRefreshCmd": "cat(var_dic_list()) "
    }
   },
   "types_to_exclude": [
    "module",
    "function",
    "builtin_function_or_method",
    "instance",
    "_Feature"
   ],
   "window_display": false
  }
 },
 "nbformat": 4,
 "nbformat_minor": 4
}
