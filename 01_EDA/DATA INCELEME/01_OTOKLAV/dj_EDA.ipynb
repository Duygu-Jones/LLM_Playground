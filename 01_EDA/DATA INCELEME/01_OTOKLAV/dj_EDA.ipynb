{
 "cells": [
  {
   "cell_type": "markdown",
   "id": "dd519dbc-b19c-4cc1-afa8-98499dcb30ce",
   "metadata": {},
   "source": [
    "# OTOKLAV DATA REVIEW"
   ]
  },
  {
   "cell_type": "markdown",
   "id": "d1aa00dc-fd8f-4c98-a350-c6290b877a47",
   "metadata": {},
   "source": [
    "## Imports Libraries"
   ]
  },
  {
   "cell_type": "code",
   "execution_count": null,
   "id": "e9bb2ba0",
   "metadata": {
    "ExecuteTime": {
     "end_time": "2024-10-25T12:50:44.804699Z",
     "start_time": "2024-10-25T12:50:44.797950Z"
    }
   },
   "outputs": [],
   "source": [
    "import numpy as np \n",
    "import pandas as pd \n",
    "import matplotlib.pyplot as plt\n",
    "import plotly.express as px\n",
    "import seaborn as sns\n",
    "import cufflinks as cf\n",
    "%matplotlib inline \n",
    "\n",
    "from scipy import stats\n",
    "\n",
    "\n",
    "pd.set_option('display.max_rows', 1000)\n",
    "pd.set_option('display.max_columns', 1000)\n",
    "pd.set_option('display.width', 1000)\n",
    "\n",
    "import warnings\n",
    "warnings.filterwarnings(\"ignore\")"
   ]
  },
  {
   "cell_type": "markdown",
   "id": "330efe83-58f1-4664-9d0c-e2a47340a0c3",
   "metadata": {},
   "source": [
    "## Import Local `utils1` Modul"
   ]
  },
  {
   "cell_type": "code",
   "execution_count": null,
   "id": "573ded06-075e-46ec-89c7-c322e93470fd",
   "metadata": {
    "ExecuteTime": {
     "end_time": "2024-10-25T12:50:48.565121Z",
     "start_time": "2024-10-25T12:50:48.560904Z"
    }
   },
   "outputs": [],
   "source": [
    "#  FONKSIYONLARIMIZI DERLEDIGIMIZ `UTILS` ADINDAKI MODULU BU NOTEBOOK ICINE IMPORT EDIYORUZ\n",
    "\n",
    "import sys\n",
    "\n",
    "# utils1.py dosyasının bulunduğu dizini ham dize olarak ekleyin\n",
    "sys.path.append(\"C:/Users/duygu/Desktop/00-GitHub-Repo/00-1INTERNSHIP/INT1_PROJECT/UTILITIES/\")\n",
    "\n",
    "# 'utils1.py' dosyasında olusturulan Utils sınıfını import et\n",
    "from utils1 import Utils, UtilsAnalysis\n",
    "\n",
    "# utils1 icindeki tum class'lardan bir nesne oluştur\n",
    "utils = Utils()\n",
    "utils_analysis = UtilsAnalysis()"
   ]
  },
  {
   "cell_type": "code",
   "execution_count": null,
   "id": "2da7bb2d-f669-4c73-8281-a1e142e0c27a",
   "metadata": {
    "ExecuteTime": {
     "end_time": "2024-10-25T12:50:52.896326Z",
     "start_time": "2024-10-25T12:50:52.891457Z"
    },
    "scrolled": true
   },
   "outputs": [],
   "source": [
    "# utils nesnesindeki tüm fonksiyonları ve öznitelikleri listelemek için\n",
    "dir(utils)"
   ]
  },
  {
   "cell_type": "code",
   "execution_count": null,
   "id": "7c68fdc4-3553-4bce-9a54-3c082b963e2f",
   "metadata": {
    "scrolled": true
   },
   "outputs": [],
   "source": [
    "# utils nesnesindeki tüm fonksiyonları ve öznitelikleri listelemek için\n",
    "dir(UtilsAnalysis)"
   ]
  },
  {
   "cell_type": "markdown",
   "id": "34d34efd-34c3-440f-85ce-e4d1772b4b9b",
   "metadata": {},
   "source": [
    "## User Defined Funcs for Summary of Data"
   ]
  },
  {
   "cell_type": "code",
   "execution_count": null,
   "id": "9ad98e5c-0e6a-4916-a18a-9923b9e733b6",
   "metadata": {},
   "outputs": [],
   "source": [
    "# =============== User-Defined-Function ==========================\n",
    "\n",
    "def rename_columns_by_position(df, new_column_names):\n",
    "    \"\"\"\n",
    "    DataFrame'deki sütun adlarını pozisyona göre yeniden adlandırır.\n",
    "\n",
    "    Parameters:\n",
    "        df (pd.DataFrame): Sütun adlarını değiştirmek istediğiniz DataFrame.\n",
    "        new_column_names (list): Yeni sütun adlarının listesi.\n",
    "\n",
    "    Returns:\n",
    "        pd.DataFrame: Yeni sütun adlarıyla güncellenmiş DataFrame.\n",
    "    \"\"\"\n",
    "    # Sütun sayısının uyumlu olup olmadığını kontrol et\n",
    "    if len(new_column_names) != len(df.columns):\n",
    "        raise ValueError(\"Sütun sayısı ile yeni adların sayısı eşleşmiyor.\")\n",
    "    \n",
    "    # Yeni sütun adlarını atama\n",
    "    df.columns = new_column_names   \n",
    "    return df\n",
    "\n",
    "\n",
    "#================ Categorical Features Summary ===================\n",
    "def object_summary(df):\n",
    "    obs = df.shape[0]\n",
    "    duplicate_count = df.duplicated().sum()\n",
    "\n",
    "    # Kategorik sütunlar için özetleme\n",
    "    object_df = df.select_dtypes(include='object')\n",
    "    \n",
    "    # Yeni bir boş DataFrame oluşturma\n",
    "    summary_df = pd.DataFrame(index=object_df.columns)\n",
    "\n",
    "    summary_df['Dtype'] = object_df.dtypes\n",
    "    summary_df['Counts'] = object_df.count()\n",
    "    summary_df['Nulls'] = object_df.isnull().sum()\n",
    "    summary_df['NullPercent'] = (object_df.isnull().sum() / obs) * 100\n",
    "    summary_df['Top'] = object_df.apply(lambda x: x.mode().iloc[0] if not x.mode().empty else '-')\n",
    "    summary_df['Frequency'] = object_df.apply(lambda x: x.value_counts().max() if not x.value_counts().empty else '-')\n",
    "    summary_df['Uniques'] = object_df.nunique()\n",
    "\n",
    "    # UniqueValues sütununu kontrol ederek ekleme (dize olarak)\n",
    "    summary_df['UniqueValues'] = object_df.apply(\n",
    "        lambda x: ', '.join(map(str, x.unique()[:10])) + '...' if x.nunique() > 10 else ', '.join(map(str, x.unique()))\n",
    "    )\n",
    "\n",
    "    # DataFrame şekli ve tekrar eden satır sayısını ekrana yazdırma\n",
    "    print(f'1. Data shape (rows, columns): {df.shape}')\n",
    "    print(f'2. Number of duplicate rows: {duplicate_count}')\n",
    "    return summary_df\n",
    "\n",
    "\n",
    "#================ Numerical Features Summary ===================\n",
    "def numeric_summary(df):\n",
    "    obs = df.shape[0]\n",
    "    duplicate_count = df.duplicated().sum()\n",
    "\n",
    "    # Numerik sütunlar için özetleme\n",
    "    numeric_df = df.select_dtypes(include=['float64', 'int64'])\n",
    "\n",
    "    # Yeni bir boş DataFrame oluşturma\n",
    "    summary_df = pd.DataFrame(index=numeric_df.columns)\n",
    "\n",
    "    summary_df['Dtype'] = numeric_df.dtypes\n",
    "    summary_df['Counts'] = numeric_df.count()\n",
    "    summary_df['Nulls'] = numeric_df.isnull().sum()\n",
    "    summary_df['NullPercent'] = (numeric_df.isnull().sum() / obs) * 100\n",
    "    summary_df['Mean'] = numeric_df.mean()\n",
    "    summary_df['Std'] = numeric_df.std()\n",
    "    summary_df['Min'] = numeric_df.min()\n",
    "    summary_df['25%'] = numeric_df.quantile(0.25)\n",
    "    summary_df['50% (Median)'] = numeric_df.median()\n",
    "    summary_df['75%'] = numeric_df.quantile(0.75)\n",
    "    summary_df['Max'] = numeric_df.max()\n",
    "\n",
    "    # DataFrame şekli ve tekrar eden satır sayısını ekrana yazdırma\n",
    "    print(f'1. Data shape (rows, columns): {df.shape}')\n",
    "    print(f'2. Number of duplicate rows: {duplicate_count}')\n",
    "    return summary_df\n",
    "    \n",
    "\n",
    "#========== Get count and percentage of values for each column =================\n",
    "def get_value_count(df, column_name):\n",
    "    \"\"\"\n",
    "    This function calculates and returns a DataFrame with the value counts and \n",
    "    their corresponding percentages for a specified column in the DataFrame.\n",
    "    \"\"\"\n",
    "    \n",
    "    vc = df[column_name].value_counts()\n",
    "    vc_norm = df[column_name].value_counts(normalize=True)\n",
    "    \n",
    "    vc = vc.rename_axis(column_name).reset_index(name='counts')\n",
    "    vc_norm = vc_norm.rename_axis(column_name).reset_index(name='percent')\n",
    "    vc_norm['percent'] = (vc_norm['percent'] * 100).map('{:.2f}%'.format)\n",
    "    \n",
    "    df_result = pd.concat([vc[column_name], vc['counts'], vc_norm['percent']], axis=1)\n",
    "    return df_result\n",
    "\n",
    "\n",
    "#============== Checks duplicates and drops them ==========================\n",
    "\n",
    "def duplicate_values(df):\n",
    "    print(\"Duplicate check...\")\n",
    "    num_duplicates = df.duplicated(subset=None, keep='first').sum()\n",
    "    if num_duplicates > 0:\n",
    "        print(\"There are\", num_duplicates, \"duplicated observations in the dataset.\")\n",
    "        df.drop_duplicates(keep='first', inplace=True)\n",
    "        print(num_duplicates, \"duplicates were dropped!\")\n",
    "        print(\"No more duplicate rows!\")\n",
    "    else:\n",
    "        print(\"There are no duplicated observations in the dataset.\")\n",
    "\n",
    "\n",
    "\n",
    "# ========== User-Defined-Function for Missing Values ============\n",
    "def missing_values(df):\n",
    "    \"\"\"This function calculates the missing values count and their percentage in a DataFrame.\"\"\"\n",
    "\n",
    "    missing_count = df.isnull().sum()\n",
    "    value_count = df.isnull().count()\n",
    "    missing_percentage = round(missing_count / value_count * 100, 2)\n",
    "    \n",
    "    # Format the percentage as '0.00%' with % symbol\n",
    "    missing_percentage_formatted = missing_percentage.map(\"{:.2f}%\".format)\n",
    "    # Create a DataFrame to store the results\n",
    "    missing_df = pd.DataFrame({\"count\": missing_count, \"percentage\": missing_percentage_formatted}) \n",
    "    return missing_df\n",
    "\n",
    "\n",
    "# ========== Plotting Missing Values  ===========================\n",
    "def na_ratio_plot(df):\n",
    "    \"\"\"Plots the ratio of missing values for each feature and prints the count of missing values.\"\"\"\n",
    "    \n",
    "    sns.displot(df.isna().melt(value_name='Missing_data',var_name='Features')\\\n",
    "                ,y='Features',hue='Missing_data',multiple='fill',aspect=9/8)\n",
    "\n",
    "    print(df.isna().sum()[df.isna().sum()>0])\n",
    "\n",
    "    \n",
    "    \n",
    "#========== Detecting Anomalies ================================\n",
    "\n",
    "def detect_anomalies(df, column_name):\n",
    "    \"\"\"\n",
    "    Detects values with unusual (non-alphanumeric) characters in a column.\n",
    "    Returns: list: Detected unusual character values.\n",
    "    \"\"\"\n",
    "    # Get the unique values in the column\n",
    "    unique_values = df[column_name].unique()    \n",
    "    # Detect values with unusual characters (non-alphanumeric)\n",
    "    unusual_characters = [val for val in unique_values if isinstance(val, str) and not val.isalnum()]\n",
    "    \n",
    "    # Return the list as a single string with values separated by commas\n",
    "    return ', '.join(unusual_characters)\n",
    "\n",
    "\n",
    "#========== Detecting Non-Numerical Characters ===========================\n",
    "\n",
    "import re\n",
    "\n",
    "def find_non_numeric_values(df, column_name):\n",
    "    \"\"\"\n",
    "    Finds unique non-numeric values in a specified column of the DataFrame.\n",
    "    \"\"\"\n",
    "    pattern = r'\\D+'  # Pattern to match non-numeric characters\n",
    "    # Find and flatten non-numeric values, then ensure uniqueness with set\n",
    "    return set(re.findall(pattern, ' '.join(df[column_name].astype(str))))\n",
    "\n",
    "\n",
    "#========================================================================\n",
    "#======================================================================"
   ]
  },
  {
   "cell_type": "markdown",
   "id": "2c9216b2",
   "metadata": {},
   "source": [
    "# Exploratory Data Analysis (EDA)"
   ]
  },
  {
   "cell_type": "markdown",
   "id": "d29a68a0-5635-4a92-ac2b-dd2c0c978a36",
   "metadata": {},
   "source": [
    "## 2018"
   ]
  },
  {
   "cell_type": "code",
   "execution_count": null,
   "id": "722fd33c",
   "metadata": {
    "ExecuteTime": {
     "end_time": "2024-10-24T16:44:23.869700Z",
     "start_time": "2024-10-24T16:44:23.843494Z"
    }
   },
   "outputs": [],
   "source": [
    "df18 = pd.read_csv(\"df_otoklav_18.csv\")\n",
    "df_otoklav_18 = df18.copy()\n",
    "\n",
    "df_otoklav_18.head()"
   ]
  },
  {
   "cell_type": "code",
   "execution_count": null,
   "id": "3712dd6e",
   "metadata": {
    "ExecuteTime": {
     "end_time": "2024-10-24T16:44:25.539914Z",
     "start_time": "2024-10-24T16:44:25.531985Z"
    }
   },
   "outputs": [],
   "source": [
    "# 'TESLİM TARİHİ' sütununu DataFrame'den silme (ham verimizde yok)\n",
    "#df_otoklav_18 = df_otoklav_18.drop('TESLİM TARİHİ', axis=1)"
   ]
  },
  {
   "cell_type": "markdown",
   "id": "73305bd7-b900-429a-90c5-96fd43bd4b06",
   "metadata": {},
   "source": [
    "### Rename Columns"
   ]
  },
  {
   "cell_type": "code",
   "execution_count": null,
   "id": "2b3026f6-3236-4d71-8655-6039deabb32e",
   "metadata": {},
   "outputs": [],
   "source": [
    "# Yeni sütun adlarının listesi\n",
    "new_column_names = [\n",
    "    'satis_turu', \n",
    "    'siparis_no_is_emri_no_teklif_no', \n",
    "    'siparis_tarihi',\n",
    "    'siparisi_veren',\n",
    "    'kurulum_yeri',\n",
    "    'il',\n",
    "    'urun_modeli',\n",
    "    'urun_adi',\n",
    "    'litre',\n",
    "    'seri_no',\n",
    "    'teslim_suresi',\n",
    "    'teslim_tarihi'\n",
    "]\n",
    "\n",
    "# DataFrame'in sütun adlarını yeniden adlandırma\n",
    "df_otoklav_18 = rename_columns_by_position(df_otoklav_18,new_column_names)\n",
    "\n",
    "df_otoklav_18.head()"
   ]
  },
  {
   "cell_type": "code",
   "execution_count": null,
   "id": "9b1d6cfe",
   "metadata": {
    "ExecuteTime": {
     "end_time": "2024-10-24T16:44:42.731219Z",
     "start_time": "2024-10-24T16:44:42.719795Z"
    }
   },
   "outputs": [],
   "source": [
    "df_otoklav_18.info()"
   ]
  },
  {
   "cell_type": "code",
   "execution_count": null,
   "id": "9dbe11c5-81cf-4c5a-a4e6-b16a67335b1d",
   "metadata": {},
   "outputs": [],
   "source": [
    "# Numeric data yok\n",
    "numeric_summary(df_otoklav_18)"
   ]
  },
  {
   "cell_type": "code",
   "execution_count": null,
   "id": "dd98111d-fe8a-41b7-b49c-ecdc624e855b",
   "metadata": {},
   "outputs": [],
   "source": []
  },
  {
   "cell_type": "code",
   "execution_count": null,
   "id": "9a983e9a",
   "metadata": {
    "ExecuteTime": {
     "end_time": "2024-10-24T16:44:49.140190Z",
     "start_time": "2024-10-24T16:44:49.096536Z"
    }
   },
   "outputs": [],
   "source": [
    "object_summary(df_otoklav_18)"
   ]
  },
  {
   "cell_type": "markdown",
   "id": "3346a564",
   "metadata": {},
   "source": [
    "- Satis_türü = 4 farklı tür var.\n",
    "- Siparis_no_is_emri_no_teklif_no\thepsi unique\n",
    "- Siparis_tarihi datetime çevirince 86 tanesini siliyor çözüm ?\n",
    "- Kurulum_yeri hastane - üniversite(rektörlük) - tıp,göz... merkezi -ADSM bu veriler çıkarılabilir en çok talep hangi krumda\n",
    "- il türkiye şehir ve ülkelerden oluşuyor buradan ülkeler feature çıkabilir.\n",
    "- Litre sadece sayılar kalabilir (bu feature ne işe yarayacak)\n",
    "- Seri_no unik değer\n",
    "- Teslim_suresi gün bazında ve tarih bazında yazılan değerler var.Düzenlenmeli.\n",
    "\n"
   ]
  },
  {
   "cell_type": "code",
   "execution_count": null,
   "id": "c11e4ebd-0cb6-4058-8d42-8f231144a288",
   "metadata": {
    "scrolled": true
   },
   "outputs": [],
   "source": [
    "get_value_count(df_otoklav_18, 'teslim_suresi')"
   ]
  },
  {
   "cell_type": "code",
   "execution_count": null,
   "id": "d2025ee2",
   "metadata": {
    "ExecuteTime": {
     "end_time": "2024-10-24T13:17:26.425704Z",
     "start_time": "2024-10-24T13:17:26.416356Z"
    },
    "scrolled": true
   },
   "outputs": [],
   "source": [
    "get_value_count(df_otoklav_18, 'litre')"
   ]
  },
  {
   "cell_type": "code",
   "execution_count": null,
   "id": "029a71e4",
   "metadata": {
    "ExecuteTime": {
     "end_time": "2024-10-24T13:15:51.394654Z",
     "start_time": "2024-10-24T13:15:51.380792Z"
    },
    "scrolled": true
   },
   "outputs": [],
   "source": [
    "get_value_count(df_otoklav_18, 'il')"
   ]
  },
  {
   "cell_type": "code",
   "execution_count": null,
   "id": "a4874fc2",
   "metadata": {
    "ExecuteTime": {
     "end_time": "2024-10-24T13:12:34.044611Z",
     "start_time": "2024-10-24T13:12:34.037177Z"
    },
    "scrolled": true
   },
   "outputs": [],
   "source": [
    "get_value_count(df_otoklav_18, 'kurulum_yeri')"
   ]
  },
  {
   "cell_type": "code",
   "execution_count": null,
   "id": "7943b887",
   "metadata": {
    "ExecuteTime": {
     "end_time": "2024-10-24T13:11:16.200956Z",
     "start_time": "2024-10-24T13:11:16.188849Z"
    },
    "jupyter": {
     "source_hidden": true
    },
    "scrolled": true
   },
   "outputs": [],
   "source": [
    "get_value_count(df_otoklav_18, 'siparisi_veren')"
   ]
  },
  {
   "cell_type": "code",
   "execution_count": null,
   "id": "975e033f",
   "metadata": {
    "ExecuteTime": {
     "end_time": "2024-10-24T13:10:19.983426Z",
     "start_time": "2024-10-24T13:10:19.972214Z"
    }
   },
   "outputs": [],
   "source": [
    "df_otoklav_18.info()"
   ]
  },
  {
   "cell_type": "markdown",
   "id": "1a747968-fae0-47e8-bbf3-620fc0e0a9ed",
   "metadata": {},
   "source": [
    "### Missings"
   ]
  },
  {
   "cell_type": "code",
   "execution_count": null,
   "id": "815d375e-94c3-4579-8dfb-d970042a6e24",
   "metadata": {
    "scrolled": true
   },
   "outputs": [],
   "source": [
    "missing_values(df_otoklav_18)"
   ]
  },
  {
   "cell_type": "markdown",
   "id": "2e19a6c8-3feb-4856-8799-74bbb0352582",
   "metadata": {},
   "source": [
    "### Duplicates"
   ]
  },
  {
   "cell_type": "code",
   "execution_count": null,
   "id": "174bad46-2dbb-445d-b832-caa5a641ab8f",
   "metadata": {},
   "outputs": [],
   "source": [
    "duplicate_values(df_otoklav_18)"
   ]
  },
  {
   "cell_type": "markdown",
   "id": "7fc029f5",
   "metadata": {},
   "source": [
    "## 2019 "
   ]
  },
  {
   "cell_type": "code",
   "execution_count": null,
   "id": "a437be7b",
   "metadata": {
    "ExecuteTime": {
     "end_time": "2024-10-24T16:42:41.952953Z",
     "start_time": "2024-10-24T16:42:41.933623Z"
    }
   },
   "outputs": [],
   "source": [
    "df19 = pd.read_csv('df_otoklav_19.csv')\n",
    "df_otoklav_19 = df19.copy()\n",
    "\n",
    "df_otoklav_19.head()"
   ]
  },
  {
   "cell_type": "code",
   "execution_count": null,
   "id": "79f72d48",
   "metadata": {
    "ExecuteTime": {
     "end_time": "2024-10-24T16:45:10.664201Z",
     "start_time": "2024-10-24T16:45:10.635248Z"
    }
   },
   "outputs": [],
   "source": [
    "object_summary(df_otoklav_19)"
   ]
  },
  {
   "cell_type": "markdown",
   "id": "b8f49dc4",
   "metadata": {},
   "source": [
    "## 2020"
   ]
  },
  {
   "cell_type": "code",
   "execution_count": null,
   "id": "800ba880",
   "metadata": {
    "ExecuteTime": {
     "end_time": "2024-10-24T16:46:20.483838Z",
     "start_time": "2024-10-24T16:46:20.463077Z"
    }
   },
   "outputs": [],
   "source": [
    "df_otoklav_20 = pd.read_csv('df_otoklav_20.csv')\n",
    "df_otoklav_20.head()"
   ]
  },
  {
   "cell_type": "code",
   "execution_count": null,
   "id": "8beb7d1c",
   "metadata": {
    "ExecuteTime": {
     "end_time": "2024-10-24T16:46:36.904928Z",
     "start_time": "2024-10-24T16:46:36.874228Z"
    }
   },
   "outputs": [],
   "source": [
    "object_summary(df_otoklav_19)"
   ]
  },
  {
   "cell_type": "markdown",
   "id": "ef6c4eb3",
   "metadata": {},
   "source": [
    "## 2021"
   ]
  },
  {
   "cell_type": "code",
   "execution_count": null,
   "id": "769165e0",
   "metadata": {
    "ExecuteTime": {
     "end_time": "2024-10-24T16:47:19.851256Z",
     "start_time": "2024-10-24T16:47:19.834452Z"
    }
   },
   "outputs": [],
   "source": [
    "df_otoklav_21 = pd.read_csv('df_otoklav_21.csv')\n",
    "df_otoklav_21.head()"
   ]
  },
  {
   "cell_type": "code",
   "execution_count": null,
   "id": "f108d5fb",
   "metadata": {
    "ExecuteTime": {
     "end_time": "2024-10-24T16:47:37.518228Z",
     "start_time": "2024-10-24T16:47:37.480079Z"
    }
   },
   "outputs": [],
   "source": [
    "object_summary(df_otoklav_21)"
   ]
  },
  {
   "cell_type": "markdown",
   "id": "9e063c22",
   "metadata": {},
   "source": [
    "## 2022 "
   ]
  },
  {
   "cell_type": "code",
   "execution_count": null,
   "id": "af802512",
   "metadata": {
    "ExecuteTime": {
     "end_time": "2024-10-24T16:48:40.185983Z",
     "start_time": "2024-10-24T16:48:40.172757Z"
    }
   },
   "outputs": [],
   "source": [
    "df_otoklav_22 = pd.read_csv('df_otoklav_22.csv')\n",
    "df_otoklav_22.head()"
   ]
  },
  {
   "cell_type": "code",
   "execution_count": null,
   "id": "782e9436",
   "metadata": {
    "ExecuteTime": {
     "end_time": "2024-10-24T16:48:54.409686Z",
     "start_time": "2024-10-24T16:48:54.384464Z"
    }
   },
   "outputs": [],
   "source": [
    "object_summary(df_otoklav_22)"
   ]
  },
  {
   "cell_type": "markdown",
   "id": "00ef8b43",
   "metadata": {},
   "source": [
    "## 2023 "
   ]
  },
  {
   "cell_type": "code",
   "execution_count": null,
   "id": "29a1f512",
   "metadata": {
    "ExecuteTime": {
     "end_time": "2024-10-24T16:49:41.977881Z",
     "start_time": "2024-10-24T16:49:41.959013Z"
    }
   },
   "outputs": [],
   "source": [
    "df_otoklav_23 = pd.read_csv('df_otoklav_23.csv')\n",
    "df_otoklav_23.head()"
   ]
  },
  {
   "cell_type": "code",
   "execution_count": null,
   "id": "a4251588",
   "metadata": {
    "ExecuteTime": {
     "end_time": "2024-10-24T16:49:54.527196Z",
     "start_time": "2024-10-24T16:49:54.493437Z"
    }
   },
   "outputs": [],
   "source": [
    "object_summary(df_otoklav_23)"
   ]
  },
  {
   "cell_type": "markdown",
   "id": "c1450d60",
   "metadata": {},
   "source": [
    "## 2023_endüstriyel"
   ]
  },
  {
   "cell_type": "code",
   "execution_count": null,
   "id": "ebc9fad1",
   "metadata": {
    "ExecuteTime": {
     "end_time": "2024-10-24T16:51:35.281389Z",
     "start_time": "2024-10-24T16:51:35.266117Z"
    }
   },
   "outputs": [],
   "source": [
    "df_otoklav_23_Endust = pd.read_csv('df_otoklav_23_Endust.csv')\n",
    "df_otoklav_23_Endust.head()"
   ]
  },
  {
   "cell_type": "code",
   "execution_count": null,
   "id": "13258f8b",
   "metadata": {
    "ExecuteTime": {
     "end_time": "2024-10-24T16:51:40.705535Z",
     "start_time": "2024-10-24T16:51:40.672401Z"
    }
   },
   "outputs": [],
   "source": [
    "object_summary(df_otoklav_23_Endust)"
   ]
  },
  {
   "cell_type": "markdown",
   "id": "a4e93a5f",
   "metadata": {},
   "source": [
    "## 2024 "
   ]
  },
  {
   "cell_type": "code",
   "execution_count": null,
   "id": "8b694714",
   "metadata": {
    "ExecuteTime": {
     "end_time": "2024-10-24T16:50:58.523911Z",
     "start_time": "2024-10-24T16:50:58.511480Z"
    }
   },
   "outputs": [],
   "source": [
    "df_otoklav_24 = pd.read_csv('df_otoklav_24.csv')\n",
    "df_otoklav_24.head()"
   ]
  },
  {
   "cell_type": "code",
   "execution_count": null,
   "id": "cb0f071b",
   "metadata": {
    "ExecuteTime": {
     "end_time": "2024-10-24T16:51:01.815005Z",
     "start_time": "2024-10-24T16:51:01.785320Z"
    }
   },
   "outputs": [],
   "source": [
    "object_summary(df_otoklav_24)"
   ]
  },
  {
   "cell_type": "code",
   "execution_count": null,
   "id": "bb45f5db",
   "metadata": {},
   "outputs": [],
   "source": []
  },
  {
   "cell_type": "code",
   "execution_count": null,
   "id": "d75d0750",
   "metadata": {},
   "outputs": [],
   "source": []
  },
  {
   "cell_type": "code",
   "execution_count": null,
   "id": "3162d2ab",
   "metadata": {},
   "outputs": [],
   "source": []
  },
  {
   "cell_type": "code",
   "execution_count": null,
   "id": "3eff8acb",
   "metadata": {},
   "outputs": [],
   "source": []
  }
 ],
 "metadata": {
  "hide_input": false,
  "kernelspec": {
   "display_name": "Python 3 (ipykernel)",
   "language": "python",
   "name": "python3"
  },
  "language_info": {
   "codemirror_mode": {
    "name": "ipython",
    "version": 3
   },
   "file_extension": ".py",
   "mimetype": "text/x-python",
   "name": "python",
   "nbconvert_exporter": "python",
   "pygments_lexer": "ipython3",
   "version": "3.12.3"
  },
  "toc": {
   "base_numbering": 1,
   "nav_menu": {},
   "number_sections": true,
   "sideBar": true,
   "skip_h1_title": false,
   "title_cell": "Table of Contents",
   "title_sidebar": "Contents",
   "toc_cell": false,
   "toc_position": {
    "height": "calc(100% - 180px)",
    "left": "10px",
    "top": "150px",
    "width": "214.391px"
   },
   "toc_section_display": true,
   "toc_window_display": true
  },
  "varInspector": {
   "cols": {
    "lenName": 16,
    "lenType": 16,
    "lenVar": 40
   },
   "kernels_config": {
    "python": {
     "delete_cmd_postfix": "",
     "delete_cmd_prefix": "del ",
     "library": "var_list.py",
     "varRefreshCmd": "print(var_dic_list())"
    },
    "r": {
     "delete_cmd_postfix": ") ",
     "delete_cmd_prefix": "rm(",
     "library": "var_list.r",
     "varRefreshCmd": "cat(var_dic_list()) "
    }
   },
   "types_to_exclude": [
    "module",
    "function",
    "builtin_function_or_method",
    "instance",
    "_Feature"
   ],
   "window_display": false
  }
 },
 "nbformat": 4,
 "nbformat_minor": 5
}
