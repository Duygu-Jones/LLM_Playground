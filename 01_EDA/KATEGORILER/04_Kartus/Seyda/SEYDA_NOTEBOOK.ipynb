{
 "cells": [
  {
   "cell_type": "code",
   "execution_count": 1,
   "id": "41588a0c",
   "metadata": {
    "ExecuteTime": {
     "end_time": "2024-10-31T21:39:04.382466Z",
     "start_time": "2024-10-31T21:39:04.380397Z"
    }
   },
   "outputs": [],
   "source": [
    "# DIKKAT `INT_1` TEAM UYESI ---> LUTFEN OKU:)) \n",
    "\n",
    "# Calismaya baslamadan once Github Desktop'ta Branchinda oldugundan emin ol!\n",
    "# Main branch'i kendi Branch'ina aktarmayi (merge) unutma\n",
    "# Sadece ve sadece kendi Branchinda kal!\n",
    "# Kendi Branch'inda iken calis ve COMMIT yap! \n",
    "\n",
    "# Github Proje klasorunde SADECE sana ayrilmis olan klasorunde calis-degisiklik yap. \n",
    "# Baskasinin veya ortak bir dosyada asla degisiklik yapma!\n",
    "# Buddy arkadasin ile ortak notebooklarinizda degisiklik yapmadan once onunla haberles! \n",
    "\n",
    "# HIC Emin degilsen PROJENIN GUVENLIGI ICIN github proje klasoru disinda bireysel bir klasorunde datalari kopyalayip alabilir ve lokalinde calisabilirsin. \n",
    "# Calismandan emin olduktan sonra gerekli dosyalari Github Proje klasoru icinde sana ayrilmis olan dosya icine ekleyebilirin\n",
    "# GitHub'a COMMIT-PUSH yaptiginda --> slackta --> GITHUB_UPDATE kanalindan bilgi vermeyi unutma!!\n",
    "\n",
    "# UTILS classinda isini kolaylastiracak fonksiyonlar ekledik, goz atabilirsin, asagida nasil kullancagini gosterdik.\n",
    "# Eger sende kullanisli bir fonksiyon bulursan UTILS classina uygun hale getirip-calistirip-test ettikten sonra \n",
    "#  benimle paylasirsan ortak utils dosyasina code'unu eklerim, diger arkadaslarinin da isini kolaylastirmis olursun:)\n",
    "\n",
    "# Okudugun icin tesekkurler iyi calismalar:)) "
   ]
  },
  {
   "cell_type": "markdown",
   "id": "3c54fa65",
   "metadata": {},
   "source": [
    "# GOLDBERG MED GmbH URETIM-TAKIP-SATIS ANALIZI"
   ]
  },
  {
   "cell_type": "markdown",
   "id": "4e8d91d0",
   "metadata": {},
   "source": [
    "**Giriş**\n",
    "\n",
    "Bu proje, Goldberg Med GmbH’nin satış performansını analiz etmek ve iş süreçlerini iyileştirmek için Keşifsel Veri Analizi (EDA) yöntemlerini kullanmayı amaçlayacaktır. Projenin temel hedefi, mevcut veriyi anlamak, olası sorunları belirlemek ve şirketin stratejik karar alma süreçlerine katkıda bulunmaktır.\n",
    "\n",
    "**Proje Hedefleri:**\n",
    "\n",
    "1. Mevcut veri setini inceleyerek verinin yapısını ve özelliklerini anlamak.\n",
    "2. Satış performansı ile ilgili temel trendleri ve desenleri keşfetmek.\n",
    "3. Verinin kalitesini artırmak için temizleme işlemleri yapmak (eksik ve anormal verileri tespit ve düzeltme).\n",
    "4. Elde edilen bulgular doğrultusunda, şirketin pazardaki konumunu güçlendirecek öneriler geliştirmek.\n",
    "\n",
    "**Proje Adımları:**\n",
    "\n",
    "1. **Veri Toplama ve Tanımlama:** Şirketten elde edilen satış verileri ve iş süreçlerine dair bilgiler incelenecek ve analiz için hazırlanacaktır.\n",
    "2. **Keşifsel Veri Analizi (EDA):** \n",
    "3. **Veri Temizleme:** Veri setindeki eksik veya hatalı veriler tespit edilerek gerekli düzenlemeler yapılacaktır.\n",
    "3. **Analiz ve Gorsellestirme:** Verinin genel dağılımı, temel istatistikler ve görselleştirme teknikleri ile incelenecektir. Bu adımda, verinin temel trendleri ve değişkenler arasındaki ilişkiler analiz edilecektir.\n",
    "4. **Bulgular ve Yorumlar:** Elde edilen analiz sonuçları yorumlanarak, satış performansını etkileyen faktörler üzerine odaklanılacaktır.\n",
    "5. **Sonuçlar ve Öneriler:** Şirketin satışlarını artırmaya yönelik stratejik öneriler geliştirilecek ve ileriye dönük analizlerin yapılması için yol haritası sunulacaktır.\n",
    "\n",
    "**Sonuçlar:**\n",
    "\n",
    "Bu proje, Goldberg Med GmbH’nin satış verilerini analiz ederek, performansı artırmaya yönelik içgörüler sunacaktır. Analiz süreci, şirketin iş süreçlerinde verimliliği artırabilecek potansiyel alanları belirleyecek ve bu alanlarda uygulanabilecek stratejiler geliştirecektir. Elde edilen veriler doğrultusunda, şirketin pazar payını artırmak ve satışları optimize etmek için uygulanabilecek öneriler raporda detaylı olarak sunulacaktır."
   ]
  },
  {
   "cell_type": "markdown",
   "id": "d1aa00dc-fd8f-4c98-a350-c6290b877a47",
   "metadata": {},
   "source": [
    "## Imports Libraries"
   ]
  },
  {
   "cell_type": "code",
   "execution_count": 2,
   "id": "e9bb2ba0",
   "metadata": {
    "ExecuteTime": {
     "end_time": "2024-10-31T21:39:05.579535Z",
     "start_time": "2024-10-31T21:39:04.397319Z"
    }
   },
   "outputs": [],
   "source": [
    "import numpy as np \n",
    "import pandas as pd \n",
    "import matplotlib.pyplot as plt\n",
    "import plotly.express as px\n",
    "import seaborn as sns\n",
    "import cufflinks as cf\n",
    "%matplotlib inline \n",
    "import os\n",
    "import sys\n",
    "from scipy import stats\n",
    "\n",
    "\n",
    "#pd.set_option('display.max_rows', 1000)\n",
    "pd.set_option('display.max_columns', 1000)\n",
    "pd.set_option('display.width', 1000)\n",
    "\n",
    "import warnings\n",
    "warnings.filterwarnings(\"ignore\")"
   ]
  },
  {
   "cell_type": "markdown",
   "id": "6ec28288",
   "metadata": {},
   "source": [
    "## Load the Data"
   ]
  },
  {
   "cell_type": "code",
   "execution_count": 3,
   "id": "bd4417d5",
   "metadata": {
    "ExecuteTime": {
     "end_time": "2024-10-31T21:39:05.633716Z",
     "start_time": "2024-10-31T21:39:05.580521Z"
    }
   },
   "outputs": [
    {
     "data": {
      "text/html": [
       "<div>\n",
       "<style scoped>\n",
       "    .dataframe tbody tr th:only-of-type {\n",
       "        vertical-align: middle;\n",
       "    }\n",
       "\n",
       "    .dataframe tbody tr th {\n",
       "        vertical-align: top;\n",
       "    }\n",
       "\n",
       "    .dataframe thead th {\n",
       "        text-align: right;\n",
       "    }\n",
       "</style>\n",
       "<table border=\"1\" class=\"dataframe\">\n",
       "  <thead>\n",
       "    <tr style=\"text-align: right;\">\n",
       "      <th></th>\n",
       "      <th>kategori</th>\n",
       "      <th>satis_turu</th>\n",
       "      <th>siparis_no</th>\n",
       "      <th>siparis_tarihi</th>\n",
       "      <th>siparisi_veren</th>\n",
       "      <th>kurulum_yeri</th>\n",
       "      <th>il</th>\n",
       "      <th>urun_modeli</th>\n",
       "      <th>urun_adi</th>\n",
       "      <th>litre</th>\n",
       "      <th>seri_no</th>\n",
       "      <th>teslim_suresi</th>\n",
       "      <th>teslim_tarihi</th>\n",
       "      <th>irsaliye_tarihi</th>\n",
       "      <th>aciklama</th>\n",
       "      <th>solusyon_fatura</th>\n",
       "      <th>bidon_acilisi</th>\n",
       "      <th>uts_no</th>\n",
       "    </tr>\n",
       "  </thead>\n",
       "  <tbody>\n",
       "    <tr>\n",
       "      <th>0</th>\n",
       "      <td>AMELIYAT MASASI</td>\n",
       "      <td>ÖZEL</td>\n",
       "      <td>2018/006</td>\n",
       "      <td>6/29/2018</td>\n",
       "      <td>ÖZEL FSM TIP MERKEZİ</td>\n",
       "      <td>ÖZEL FSM TIP MERKEZİ</td>\n",
       "      <td>İSTANBUL</td>\n",
       "      <td>GOLDBERG 5S</td>\n",
       "      <td>AMELİYAT MASASI</td>\n",
       "      <td>*</td>\n",
       "      <td>2018/02-012</td>\n",
       "      <td>20 GÜN</td>\n",
       "      <td>7/18/2018</td>\n",
       "      <td>NaN</td>\n",
       "      <td>NaN</td>\n",
       "      <td>NaN</td>\n",
       "      <td>NaN</td>\n",
       "      <td>NaN</td>\n",
       "    </tr>\n",
       "    <tr>\n",
       "      <th>1</th>\n",
       "      <td>AMELIYAT MASASI</td>\n",
       "      <td>DEMO</td>\n",
       "      <td>2018/007</td>\n",
       "      <td>2/14/2018</td>\n",
       "      <td>DEMO</td>\n",
       "      <td>DERİNCE EĞİTİM VE ARAŞTIRMA HASTANESİ</td>\n",
       "      <td>KOCAELİ</td>\n",
       "      <td>GOLDBERG 5S</td>\n",
       "      <td>AMELİYAT MASASI</td>\n",
       "      <td>*</td>\n",
       "      <td>2018/02-003</td>\n",
       "      <td>21 GÜN</td>\n",
       "      <td>NaN</td>\n",
       "      <td>NaN</td>\n",
       "      <td>NaN</td>\n",
       "      <td>NaN</td>\n",
       "      <td>NaN</td>\n",
       "      <td>NaN</td>\n",
       "    </tr>\n",
       "    <tr>\n",
       "      <th>2</th>\n",
       "      <td>AMELIYAT MASASI</td>\n",
       "      <td>ÖZEL</td>\n",
       "      <td>2018/008</td>\n",
       "      <td>10/23/2018</td>\n",
       "      <td>İZMİR KATİP ÇELEBİ ÜNİVERSİTESİ</td>\n",
       "      <td>İZMİR KATİP ÇELEBİ ÜNİVERSİTESİ</td>\n",
       "      <td>İZMİR</td>\n",
       "      <td>GOLDBERG 5S</td>\n",
       "      <td>AMELİYAT MASASI</td>\n",
       "      <td>*</td>\n",
       "      <td>2018/02-029</td>\n",
       "      <td>DERHAL</td>\n",
       "      <td>NaN</td>\n",
       "      <td>NaN</td>\n",
       "      <td>NaN</td>\n",
       "      <td>NaN</td>\n",
       "      <td>NaN</td>\n",
       "      <td>NaN</td>\n",
       "    </tr>\n",
       "    <tr>\n",
       "      <th>3</th>\n",
       "      <td>AMELIYAT MASASI</td>\n",
       "      <td>YURTDIŞI</td>\n",
       "      <td>2018/009</td>\n",
       "      <td>9/3/2018</td>\n",
       "      <td>COOL DEE PA ELEKTRIC CO LTD.</td>\n",
       "      <td>COOL DEE PA ELEKTRIC CO LTD.</td>\n",
       "      <td>TAYLAND</td>\n",
       "      <td>GOLDBERG 5S</td>\n",
       "      <td>AMELİYAT MASASI</td>\n",
       "      <td>*</td>\n",
       "      <td>2018/02-022</td>\n",
       "      <td>7 GÜN</td>\n",
       "      <td>9/7/2018</td>\n",
       "      <td>NaN</td>\n",
       "      <td>NaN</td>\n",
       "      <td>NaN</td>\n",
       "      <td>NaN</td>\n",
       "      <td>NaN</td>\n",
       "    </tr>\n",
       "    <tr>\n",
       "      <th>4</th>\n",
       "      <td>AMELIYAT MASASI</td>\n",
       "      <td>YURTDIŞI</td>\n",
       "      <td>2018/011</td>\n",
       "      <td>2/28/2018</td>\n",
       "      <td>YÜKSELİŞ</td>\n",
       "      <td>DR.ORUC IBADOV</td>\n",
       "      <td>AZERBEYCAN</td>\n",
       "      <td>GOLDBERG 5S</td>\n",
       "      <td>AMELİYAT MASASI</td>\n",
       "      <td>*</td>\n",
       "      <td>2018/02-004</td>\n",
       "      <td>8 GÜN</td>\n",
       "      <td>NaN</td>\n",
       "      <td>NaN</td>\n",
       "      <td>NaN</td>\n",
       "      <td>NaN</td>\n",
       "      <td>NaN</td>\n",
       "      <td>NaN</td>\n",
       "    </tr>\n",
       "    <tr>\n",
       "      <th>...</th>\n",
       "      <td>...</td>\n",
       "      <td>...</td>\n",
       "      <td>...</td>\n",
       "      <td>...</td>\n",
       "      <td>...</td>\n",
       "      <td>...</td>\n",
       "      <td>...</td>\n",
       "      <td>...</td>\n",
       "      <td>...</td>\n",
       "      <td>...</td>\n",
       "      <td>...</td>\n",
       "      <td>...</td>\n",
       "      <td>...</td>\n",
       "      <td>...</td>\n",
       "      <td>...</td>\n",
       "      <td>...</td>\n",
       "      <td>...</td>\n",
       "      <td>...</td>\n",
       "    </tr>\n",
       "    <tr>\n",
       "      <th>32641</th>\n",
       "      <td>OKSIJEN</td>\n",
       "      <td>YURTDIŞI</td>\n",
       "      <td>2022/364</td>\n",
       "      <td>2/2/2022</td>\n",
       "      <td>IRAK</td>\n",
       "      <td>IRAK</td>\n",
       "      <td>IRAK</td>\n",
       "      <td>GOLDBERG 22 V</td>\n",
       "      <td>22 OKSİJEN ÜRETİM SİSTEMİ</td>\n",
       "      <td>NaN</td>\n",
       "      <td>2022/06-006</td>\n",
       "      <td>267</td>\n",
       "      <td>10/27/2022</td>\n",
       "      <td>NaN</td>\n",
       "      <td>NaN</td>\n",
       "      <td>NaN</td>\n",
       "      <td>NaN</td>\n",
       "      <td>NaN</td>\n",
       "    </tr>\n",
       "    <tr>\n",
       "      <th>32642</th>\n",
       "      <td>OKSIJEN</td>\n",
       "      <td>YURTDIŞI</td>\n",
       "      <td>2022/156</td>\n",
       "      <td>2/27/2024</td>\n",
       "      <td>CEZAYİR</td>\n",
       "      <td>CEZAYİR</td>\n",
       "      <td>CEZAYİR</td>\n",
       "      <td>OXY-GOLD 37</td>\n",
       "      <td>OXY-GOLD 37 OKSİJEN ÜRETİM  VE DEPOLAMA SİSTEMİ</td>\n",
       "      <td>NaN</td>\n",
       "      <td>2024/06-001</td>\n",
       "      <td>60 gün</td>\n",
       "      <td>3/11/2024</td>\n",
       "      <td>NaN</td>\n",
       "      <td>NaN</td>\n",
       "      <td>NaN</td>\n",
       "      <td>NaN</td>\n",
       "      <td>8.697610e+12</td>\n",
       "    </tr>\n",
       "    <tr>\n",
       "      <th>32643</th>\n",
       "      <td>OKSIJEN</td>\n",
       "      <td>YURTDIŞI</td>\n",
       "      <td>2022/161</td>\n",
       "      <td>3/3/2022</td>\n",
       "      <td>STOK</td>\n",
       "      <td>STOK</td>\n",
       "      <td>STOK</td>\n",
       "      <td>OXY-GOLD 30</td>\n",
       "      <td>OXY-GOLD 30 OKSİJEN ÜRETİM  VE DEPOLAMA SİSTEMİ</td>\n",
       "      <td>NaN</td>\n",
       "      <td>2024/06-003</td>\n",
       "      <td>60 gün</td>\n",
       "      <td>3/12/2024</td>\n",
       "      <td>NaN</td>\n",
       "      <td>NaN</td>\n",
       "      <td>NaN</td>\n",
       "      <td>NaN</td>\n",
       "      <td>8.697610e+12</td>\n",
       "    </tr>\n",
       "    <tr>\n",
       "      <th>32644</th>\n",
       "      <td>OKSIJEN</td>\n",
       "      <td>YURTDIŞI</td>\n",
       "      <td>2022/163</td>\n",
       "      <td>6/11/2024</td>\n",
       "      <td>CEZAYİR</td>\n",
       "      <td>CEZAYİR</td>\n",
       "      <td>CEZAYİR</td>\n",
       "      <td>OXY-GOLD 30</td>\n",
       "      <td>OXY-GOLD 30 OKSİJEN ÜRETİM  VE DEPOLAMA SİSTEMİ</td>\n",
       "      <td>NaN</td>\n",
       "      <td>2024/06-005</td>\n",
       "      <td>60 gün</td>\n",
       "      <td>6/13/2024</td>\n",
       "      <td>NaN</td>\n",
       "      <td>NaN</td>\n",
       "      <td>NaN</td>\n",
       "      <td>NaN</td>\n",
       "      <td>8.697610e+12</td>\n",
       "    </tr>\n",
       "    <tr>\n",
       "      <th>32645</th>\n",
       "      <td>OKSIJEN</td>\n",
       "      <td>YURTDIŞI</td>\n",
       "      <td>2024/283</td>\n",
       "      <td>9/25/2024</td>\n",
       "      <td>CEZAYİR</td>\n",
       "      <td>CEZAYİR</td>\n",
       "      <td>CEZAYİR</td>\n",
       "      <td>OXY-GOLD 37</td>\n",
       "      <td>OXY-GOLD 37 OKSİJEN ÜRETİM  VE DEPOLAMA SİSTEMİ</td>\n",
       "      <td>NaN</td>\n",
       "      <td>2024/06-006</td>\n",
       "      <td>60 gün</td>\n",
       "      <td>10/13/2024</td>\n",
       "      <td>NaN</td>\n",
       "      <td>NaN</td>\n",
       "      <td>NaN</td>\n",
       "      <td>NaN</td>\n",
       "      <td>NaN</td>\n",
       "    </tr>\n",
       "  </tbody>\n",
       "</table>\n",
       "<p>32646 rows × 18 columns</p>\n",
       "</div>"
      ],
      "text/plain": [
       "              kategori satis_turu siparis_no siparis_tarihi                   siparisi_veren                           kurulum_yeri          il    urun_modeli                                         urun_adi litre      seri_no teslim_suresi teslim_tarihi irsaliye_tarihi aciklama solusyon_fatura bidon_acilisi        uts_no\n",
       "0      AMELIYAT MASASI       ÖZEL   2018/006      6/29/2018             ÖZEL FSM TIP MERKEZİ                   ÖZEL FSM TIP MERKEZİ    İSTANBUL    GOLDBERG 5S                                  AMELİYAT MASASI     *  2018/02-012        20 GÜN     7/18/2018             NaN      NaN             NaN           NaN           NaN\n",
       "1      AMELIYAT MASASI       DEMO   2018/007      2/14/2018                             DEMO  DERİNCE EĞİTİM VE ARAŞTIRMA HASTANESİ     KOCAELİ    GOLDBERG 5S                                  AMELİYAT MASASI     *  2018/02-003        21 GÜN           NaN             NaN      NaN             NaN           NaN           NaN\n",
       "2      AMELIYAT MASASI       ÖZEL   2018/008     10/23/2018  İZMİR KATİP ÇELEBİ ÜNİVERSİTESİ        İZMİR KATİP ÇELEBİ ÜNİVERSİTESİ       İZMİR    GOLDBERG 5S                                  AMELİYAT MASASI     *  2018/02-029        DERHAL           NaN             NaN      NaN             NaN           NaN           NaN\n",
       "3      AMELIYAT MASASI   YURTDIŞI   2018/009       9/3/2018     COOL DEE PA ELEKTRIC CO LTD.           COOL DEE PA ELEKTRIC CO LTD.     TAYLAND    GOLDBERG 5S                                  AMELİYAT MASASI     *  2018/02-022         7 GÜN      9/7/2018             NaN      NaN             NaN           NaN           NaN\n",
       "4      AMELIYAT MASASI   YURTDIŞI   2018/011      2/28/2018                         YÜKSELİŞ                         DR.ORUC IBADOV  AZERBEYCAN    GOLDBERG 5S                                  AMELİYAT MASASI     *  2018/02-004         8 GÜN           NaN             NaN      NaN             NaN           NaN           NaN\n",
       "...                ...        ...        ...            ...                              ...                                    ...         ...            ...                                              ...   ...          ...           ...           ...             ...      ...             ...           ...           ...\n",
       "32641          OKSIJEN   YURTDIŞI   2022/364       2/2/2022                             IRAK                                   IRAK        IRAK  GOLDBERG 22 V                        22 OKSİJEN ÜRETİM SİSTEMİ   NaN  2022/06-006           267    10/27/2022             NaN      NaN             NaN           NaN           NaN\n",
       "32642          OKSIJEN   YURTDIŞI   2022/156      2/27/2024                          CEZAYİR                                CEZAYİR     CEZAYİR    OXY-GOLD 37  OXY-GOLD 37 OKSİJEN ÜRETİM  VE DEPOLAMA SİSTEMİ   NaN  2024/06-001        60 gün     3/11/2024             NaN      NaN             NaN           NaN  8.697610e+12\n",
       "32643          OKSIJEN   YURTDIŞI   2022/161       3/3/2022                             STOK                                   STOK        STOK    OXY-GOLD 30  OXY-GOLD 30 OKSİJEN ÜRETİM  VE DEPOLAMA SİSTEMİ   NaN  2024/06-003        60 gün     3/12/2024             NaN      NaN             NaN           NaN  8.697610e+12\n",
       "32644          OKSIJEN   YURTDIŞI   2022/163      6/11/2024                          CEZAYİR                                CEZAYİR     CEZAYİR    OXY-GOLD 30  OXY-GOLD 30 OKSİJEN ÜRETİM  VE DEPOLAMA SİSTEMİ   NaN  2024/06-005        60 gün     6/13/2024             NaN      NaN             NaN           NaN  8.697610e+12\n",
       "32645          OKSIJEN   YURTDIŞI   2024/283      9/25/2024                          CEZAYİR                                CEZAYİR     CEZAYİR    OXY-GOLD 37  OXY-GOLD 37 OKSİJEN ÜRETİM  VE DEPOLAMA SİSTEMİ   NaN  2024/06-006        60 gün    10/13/2024             NaN      NaN             NaN           NaN           NaN\n",
       "\n",
       "[32646 rows x 18 columns]"
      ]
     },
     "execution_count": 3,
     "metadata": {},
     "output_type": "execute_result"
    }
   ],
   "source": [
    "# Veya Dataseti kendi klasorune kopyala al ve direk okut\n",
    "\n",
    "df0 = pd.read_csv('merged_satis_uretim_data_27_Ekim.csv')\n",
    "df = df0.copy()\n",
    "\n",
    "df"
   ]
  },
  {
   "cell_type": "markdown",
   "id": "330efe83-58f1-4664-9d0c-e2a47340a0c3",
   "metadata": {},
   "source": [
    "## Import Local `utils1` Modul"
   ]
  },
  {
   "cell_type": "code",
   "execution_count": 4,
   "id": "53523e93",
   "metadata": {
    "ExecuteTime": {
     "end_time": "2024-10-31T21:39:06.441093Z",
     "start_time": "2024-10-31T21:39:05.634382Z"
    }
   },
   "outputs": [
    {
     "name": "stdout",
     "output_type": "stream",
     "text": [
      "Requirement already satisfied: dateparser in /opt/anaconda3/lib/python3.11/site-packages (1.2.0)\n",
      "Requirement already satisfied: python-dateutil in /opt/anaconda3/lib/python3.11/site-packages (from dateparser) (2.8.2)\n",
      "Requirement already satisfied: pytz in /opt/anaconda3/lib/python3.11/site-packages (from dateparser) (2023.3.post1)\n",
      "Requirement already satisfied: regex!=2019.02.19,!=2021.8.27 in /opt/anaconda3/lib/python3.11/site-packages (from dateparser) (2023.10.3)\n",
      "Requirement already satisfied: tzlocal in /opt/anaconda3/lib/python3.11/site-packages (from dateparser) (2.1)\n",
      "Requirement already satisfied: six>=1.5 in /opt/anaconda3/lib/python3.11/site-packages (from python-dateutil->dateparser) (1.16.0)\n",
      "\n",
      "\u001b[1m[\u001b[0m\u001b[34;49mnotice\u001b[0m\u001b[1;39;49m]\u001b[0m\u001b[39;49m A new release of pip is available: \u001b[0m\u001b[31;49m24.2\u001b[0m\u001b[39;49m -> \u001b[0m\u001b[32;49m24.3.1\u001b[0m\n",
      "\u001b[1m[\u001b[0m\u001b[34;49mnotice\u001b[0m\u001b[1;39;49m]\u001b[0m\u001b[39;49m To update, run: \u001b[0m\u001b[32;49mpip install --upgrade pip\u001b[0m\n"
     ]
    }
   ],
   "source": [
    "!pip install dateparser"
   ]
  },
  {
   "cell_type": "code",
   "execution_count": 5,
   "id": "573ded06-075e-46ec-89c7-c322e93470fd",
   "metadata": {
    "ExecuteTime": {
     "end_time": "2024-10-31T21:39:06.616778Z",
     "start_time": "2024-10-31T21:39:06.445734Z"
    }
   },
   "outputs": [],
   "source": [
    "#  FONKSIYONLARIMIZI DERLEDIGIMIZ `UTILS` ADINDAKI MODULU BU NOTEBOOK ICINE IMPORT EDIYORUZ\n",
    "\n",
    "import sys\n",
    "\n",
    "# utils1.py dosyasının bulunduğu dizini ham dize olarak ekleyin\n",
    "sys.path.append(r\"/Users/hhtopcu/Desktop/git-github/INT_1_PROJECT/10_UTILITIES\")\n",
    "\n",
    "# 'utils.py' dosyasında olusturulan Utils sınıfını import et\n",
    "from utilsAnalysis import UtilsAnalysis\n",
    "\n",
    "# utils1 icindeki tum class'lardan bir nesne oluştur\n",
    "utils = UtilsAnalysis()"
   ]
  },
  {
   "cell_type": "code",
   "execution_count": 6,
   "id": "2da7bb2d-f669-4c73-8281-a1e142e0c27a",
   "metadata": {
    "ExecuteTime": {
     "end_time": "2024-10-31T21:39:06.619564Z",
     "start_time": "2024-10-31T21:39:06.617488Z"
    },
    "scrolled": true
   },
   "outputs": [
    {
     "data": {
      "text/plain": [
       "['__class__',\n",
       " '__delattr__',\n",
       " '__dict__',\n",
       " '__dir__',\n",
       " '__doc__',\n",
       " '__eq__',\n",
       " '__format__',\n",
       " '__ge__',\n",
       " '__getattribute__',\n",
       " '__getstate__',\n",
       " '__gt__',\n",
       " '__hash__',\n",
       " '__init__',\n",
       " '__init_subclass__',\n",
       " '__le__',\n",
       " '__lt__',\n",
       " '__module__',\n",
       " '__ne__',\n",
       " '__new__',\n",
       " '__reduce__',\n",
       " '__reduce_ex__',\n",
       " '__repr__',\n",
       " '__setattr__',\n",
       " '__sizeof__',\n",
       " '__str__',\n",
       " '__subclasshook__',\n",
       " '__weakref__',\n",
       " 'calculate_date_operation',\n",
       " 'clean_and_standardize_date',\n",
       " 'detect_anomalies',\n",
       " 'df',\n",
       " 'duplicate_values',\n",
       " 'find_non_numeric_values',\n",
       " 'get_value_count',\n",
       " 'groupby_get_null_values',\n",
       " 'groupby_get_values',\n",
       " 'missing_values',\n",
       " 'na_ratio_plot',\n",
       " 'numeric_summary',\n",
       " 'object_summary']"
      ]
     },
     "execution_count": 6,
     "metadata": {},
     "output_type": "execute_result"
    }
   ],
   "source": [
    "# utils nesnesindeki tüm fonksiyonları ve öznitelikleri listelemek için\n",
    "dir(utils)"
   ]
  },
  {
   "cell_type": "markdown",
   "id": "289a6628",
   "metadata": {},
   "source": [
    "### Utils class'indan Fonk Cagirma:"
   ]
  },
  {
   "cell_type": "code",
   "execution_count": 7,
   "id": "8956ee98",
   "metadata": {
    "ExecuteTime": {
     "end_time": "2024-10-31T21:39:06.621733Z",
     "start_time": "2024-10-31T21:39:06.620185Z"
    }
   },
   "outputs": [],
   "source": [
    "# Utils classindaki fonk kullanmak icin utils objesine dataframe'i tanimla\n",
    "\n",
    "utils.df = df \n",
    "\n",
    "# merged_satis_uretim_data_27_Ekim df tanimlandi\n",
    "# `utils` objesi ile bu classta bulunan tum fonksiyonlari direk df uzerinde uygulayacak."
   ]
  },
  {
   "cell_type": "code",
   "execution_count": 8,
   "id": "dd71490a",
   "metadata": {
    "ExecuteTime": {
     "end_time": "2024-10-31T21:39:06.624224Z",
     "start_time": "2024-10-31T21:39:06.622432Z"
    }
   },
   "outputs": [
    {
     "name": "stdout",
     "output_type": "stream",
     "text": [
      "Help on method missing_values in module utilsAnalysis:\n",
      "\n",
      "missing_values() method of utilsAnalysis.UtilsAnalysis instance\n",
      "    DataFrame'deki eksik değerlerin sayısını ve yüzdesini hesaplar.\n",
      "\n"
     ]
    }
   ],
   "source": [
    "help(utils.missing_values) # utils classta ekledigimiz bir fonksiyon hakkinda bilgi edinebiliriz"
   ]
  },
  {
   "cell_type": "code",
   "execution_count": 9,
   "id": "57450e30",
   "metadata": {
    "ExecuteTime": {
     "end_time": "2024-10-31T21:39:06.636590Z",
     "start_time": "2024-10-31T21:39:06.624912Z"
    }
   },
   "outputs": [
    {
     "name": "stdout",
     "output_type": "stream",
     "text": [
      "Eksik değerlerin sütun bazında dökümü aşağıda verilmiştir:\n"
     ]
    },
    {
     "data": {
      "text/html": [
       "<div>\n",
       "<style scoped>\n",
       "    .dataframe tbody tr th:only-of-type {\n",
       "        vertical-align: middle;\n",
       "    }\n",
       "\n",
       "    .dataframe tbody tr th {\n",
       "        vertical-align: top;\n",
       "    }\n",
       "\n",
       "    .dataframe thead th {\n",
       "        text-align: right;\n",
       "    }\n",
       "</style>\n",
       "<table border=\"1\" class=\"dataframe\">\n",
       "  <thead>\n",
       "    <tr style=\"text-align: right;\">\n",
       "      <th></th>\n",
       "      <th>Eksik Değer Sayısı</th>\n",
       "      <th>Yüzde</th>\n",
       "    </tr>\n",
       "  </thead>\n",
       "  <tbody>\n",
       "    <tr>\n",
       "      <th>kategori</th>\n",
       "      <td>0</td>\n",
       "      <td>0.00%</td>\n",
       "    </tr>\n",
       "    <tr>\n",
       "      <th>satis_turu</th>\n",
       "      <td>3166</td>\n",
       "      <td>9.70%</td>\n",
       "    </tr>\n",
       "    <tr>\n",
       "      <th>siparis_no</th>\n",
       "      <td>4903</td>\n",
       "      <td>15.02%</td>\n",
       "    </tr>\n",
       "    <tr>\n",
       "      <th>siparis_tarihi</th>\n",
       "      <td>1816</td>\n",
       "      <td>5.56%</td>\n",
       "    </tr>\n",
       "    <tr>\n",
       "      <th>siparisi_veren</th>\n",
       "      <td>1430</td>\n",
       "      <td>4.38%</td>\n",
       "    </tr>\n",
       "    <tr>\n",
       "      <th>kurulum_yeri</th>\n",
       "      <td>30127</td>\n",
       "      <td>92.28%</td>\n",
       "    </tr>\n",
       "    <tr>\n",
       "      <th>il</th>\n",
       "      <td>1563</td>\n",
       "      <td>4.79%</td>\n",
       "    </tr>\n",
       "    <tr>\n",
       "      <th>urun_modeli</th>\n",
       "      <td>30196</td>\n",
       "      <td>92.50%</td>\n",
       "    </tr>\n",
       "    <tr>\n",
       "      <th>urun_adi</th>\n",
       "      <td>1527</td>\n",
       "      <td>4.68%</td>\n",
       "    </tr>\n",
       "    <tr>\n",
       "      <th>litre</th>\n",
       "      <td>30401</td>\n",
       "      <td>93.12%</td>\n",
       "    </tr>\n",
       "    <tr>\n",
       "      <th>seri_no</th>\n",
       "      <td>203</td>\n",
       "      <td>0.62%</td>\n",
       "    </tr>\n",
       "    <tr>\n",
       "      <th>teslim_suresi</th>\n",
       "      <td>30423</td>\n",
       "      <td>93.19%</td>\n",
       "    </tr>\n",
       "    <tr>\n",
       "      <th>teslim_tarihi</th>\n",
       "      <td>30500</td>\n",
       "      <td>93.43%</td>\n",
       "    </tr>\n",
       "    <tr>\n",
       "      <th>irsaliye_tarihi</th>\n",
       "      <td>32638</td>\n",
       "      <td>99.98%</td>\n",
       "    </tr>\n",
       "    <tr>\n",
       "      <th>aciklama</th>\n",
       "      <td>21019</td>\n",
       "      <td>64.38%</td>\n",
       "    </tr>\n",
       "    <tr>\n",
       "      <th>solusyon_fatura</th>\n",
       "      <td>27277</td>\n",
       "      <td>83.55%</td>\n",
       "    </tr>\n",
       "    <tr>\n",
       "      <th>bidon_acilisi</th>\n",
       "      <td>27277</td>\n",
       "      <td>83.55%</td>\n",
       "    </tr>\n",
       "    <tr>\n",
       "      <th>uts_no</th>\n",
       "      <td>32643</td>\n",
       "      <td>99.99%</td>\n",
       "    </tr>\n",
       "  </tbody>\n",
       "</table>\n",
       "</div>"
      ],
      "text/plain": [
       "                 Eksik Değer Sayısı   Yüzde\n",
       "kategori                          0   0.00%\n",
       "satis_turu                     3166   9.70%\n",
       "siparis_no                     4903  15.02%\n",
       "siparis_tarihi                 1816   5.56%\n",
       "siparisi_veren                 1430   4.38%\n",
       "kurulum_yeri                  30127  92.28%\n",
       "il                             1563   4.79%\n",
       "urun_modeli                   30196  92.50%\n",
       "urun_adi                       1527   4.68%\n",
       "litre                         30401  93.12%\n",
       "seri_no                         203   0.62%\n",
       "teslim_suresi                 30423  93.19%\n",
       "teslim_tarihi                 30500  93.43%\n",
       "irsaliye_tarihi               32638  99.98%\n",
       "aciklama                      21019  64.38%\n",
       "solusyon_fatura               27277  83.55%\n",
       "bidon_acilisi                 27277  83.55%\n",
       "uts_no                        32643  99.99%"
      ]
     },
     "execution_count": 9,
     "metadata": {},
     "output_type": "execute_result"
    }
   ],
   "source": [
    "#utils hafizasinda tanimlanan df vardir ve bunun uzerinde fonk uygular \n",
    "\n",
    "utils.missing_values()"
   ]
  },
  {
   "cell_type": "markdown",
   "id": "22decf03",
   "metadata": {},
   "source": [
    "# EXPLORATORY DATA ANALYSIS (EDA)¶"
   ]
  },
  {
   "cell_type": "markdown",
   "id": "b27abdce",
   "metadata": {},
   "source": [
    "## Understanding the the Data\n",
    "- Basic statistics\n",
    "- Info - shape vs.."
   ]
  },
  {
   "cell_type": "markdown",
   "id": "92a1155c",
   "metadata": {},
   "source": [
    "## df_kartus"
   ]
  },
  {
   "cell_type": "code",
   "execution_count": 10,
   "id": "227a28b3",
   "metadata": {
    "ExecuteTime": {
     "end_time": "2024-10-31T21:39:06.652580Z",
     "start_time": "2024-10-31T21:39:06.637376Z"
    }
   },
   "outputs": [
    {
     "data": {
      "text/html": [
       "<div>\n",
       "<style scoped>\n",
       "    .dataframe tbody tr th:only-of-type {\n",
       "        vertical-align: middle;\n",
       "    }\n",
       "\n",
       "    .dataframe tbody tr th {\n",
       "        vertical-align: top;\n",
       "    }\n",
       "\n",
       "    .dataframe thead th {\n",
       "        text-align: right;\n",
       "    }\n",
       "</style>\n",
       "<table border=\"1\" class=\"dataframe\">\n",
       "  <thead>\n",
       "    <tr style=\"text-align: right;\">\n",
       "      <th></th>\n",
       "      <th>kategori</th>\n",
       "      <th>satis_turu</th>\n",
       "      <th>siparis_no</th>\n",
       "      <th>siparis_tarihi</th>\n",
       "      <th>siparisi_veren</th>\n",
       "      <th>kurulum_yeri</th>\n",
       "      <th>il</th>\n",
       "      <th>urun_modeli</th>\n",
       "      <th>urun_adi</th>\n",
       "      <th>litre</th>\n",
       "      <th>seri_no</th>\n",
       "      <th>teslim_suresi</th>\n",
       "      <th>teslim_tarihi</th>\n",
       "      <th>irsaliye_tarihi</th>\n",
       "      <th>aciklama</th>\n",
       "      <th>solusyon_fatura</th>\n",
       "      <th>bidon_acilisi</th>\n",
       "      <th>uts_no</th>\n",
       "    </tr>\n",
       "  </thead>\n",
       "  <tbody>\n",
       "    <tr>\n",
       "      <th>0</th>\n",
       "      <td>KARTUS</td>\n",
       "      <td>NaN</td>\n",
       "      <td>2018/001</td>\n",
       "      <td>NaN</td>\n",
       "      <td>AKSARAY EĞİTİM VE ARAŞTIRMA HASTANESİ</td>\n",
       "      <td>NaN</td>\n",
       "      <td>AKSARAY</td>\n",
       "      <td>NaN</td>\n",
       "      <td>KARTUŞ</td>\n",
       "      <td>NaN</td>\n",
       "      <td>2018/07-0001</td>\n",
       "      <td>NaN</td>\n",
       "      <td>NaN</td>\n",
       "      <td>NaN</td>\n",
       "      <td>NaN</td>\n",
       "      <td>NaN</td>\n",
       "      <td>NaN</td>\n",
       "      <td>NaN</td>\n",
       "    </tr>\n",
       "    <tr>\n",
       "      <th>1</th>\n",
       "      <td>KARTUS</td>\n",
       "      <td>NaN</td>\n",
       "      <td>2018/001</td>\n",
       "      <td>NaN</td>\n",
       "      <td>AKSARAY EĞİTİM VE ARAŞTIRMA HASTANESİ</td>\n",
       "      <td>NaN</td>\n",
       "      <td>AKSARAY</td>\n",
       "      <td>NaN</td>\n",
       "      <td>KARTUŞ</td>\n",
       "      <td>NaN</td>\n",
       "      <td>2018/07-0002</td>\n",
       "      <td>NaN</td>\n",
       "      <td>NaN</td>\n",
       "      <td>NaN</td>\n",
       "      <td>NaN</td>\n",
       "      <td>NaN</td>\n",
       "      <td>NaN</td>\n",
       "      <td>NaN</td>\n",
       "    </tr>\n",
       "    <tr>\n",
       "      <th>2</th>\n",
       "      <td>KARTUS</td>\n",
       "      <td>NaN</td>\n",
       "      <td>2018/001</td>\n",
       "      <td>NaN</td>\n",
       "      <td>AKSARAY EĞİTİM VE ARAŞTIRMA HASTANESİ</td>\n",
       "      <td>NaN</td>\n",
       "      <td>AKSARAY</td>\n",
       "      <td>NaN</td>\n",
       "      <td>KARTUŞ</td>\n",
       "      <td>NaN</td>\n",
       "      <td>2018/07-0003</td>\n",
       "      <td>NaN</td>\n",
       "      <td>NaN</td>\n",
       "      <td>NaN</td>\n",
       "      <td>NaN</td>\n",
       "      <td>NaN</td>\n",
       "      <td>NaN</td>\n",
       "      <td>NaN</td>\n",
       "    </tr>\n",
       "    <tr>\n",
       "      <th>3</th>\n",
       "      <td>KARTUS</td>\n",
       "      <td>NaN</td>\n",
       "      <td>2018/001</td>\n",
       "      <td>NaN</td>\n",
       "      <td>AKSARAY EĞİTİM VE ARAŞTIRMA HASTANESİ</td>\n",
       "      <td>NaN</td>\n",
       "      <td>AKSARAY</td>\n",
       "      <td>NaN</td>\n",
       "      <td>KARTUŞ</td>\n",
       "      <td>NaN</td>\n",
       "      <td>2018/07-0004</td>\n",
       "      <td>NaN</td>\n",
       "      <td>NaN</td>\n",
       "      <td>NaN</td>\n",
       "      <td>NaN</td>\n",
       "      <td>NaN</td>\n",
       "      <td>NaN</td>\n",
       "      <td>NaN</td>\n",
       "    </tr>\n",
       "    <tr>\n",
       "      <th>4</th>\n",
       "      <td>KARTUS</td>\n",
       "      <td>NaN</td>\n",
       "      <td>2018/001</td>\n",
       "      <td>NaN</td>\n",
       "      <td>AKSARAY EĞİTİM VE ARAŞTIRMA HASTANESİ</td>\n",
       "      <td>NaN</td>\n",
       "      <td>AKSARAY</td>\n",
       "      <td>NaN</td>\n",
       "      <td>KARTUŞ</td>\n",
       "      <td>NaN</td>\n",
       "      <td>2018/07-0005</td>\n",
       "      <td>NaN</td>\n",
       "      <td>NaN</td>\n",
       "      <td>NaN</td>\n",
       "      <td>NaN</td>\n",
       "      <td>NaN</td>\n",
       "      <td>NaN</td>\n",
       "      <td>NaN</td>\n",
       "    </tr>\n",
       "  </tbody>\n",
       "</table>\n",
       "</div>"
      ],
      "text/plain": [
       "  kategori satis_turu siparis_no siparis_tarihi                         siparisi_veren kurulum_yeri       il urun_modeli urun_adi litre       seri_no teslim_suresi teslim_tarihi irsaliye_tarihi aciklama solusyon_fatura bidon_acilisi  uts_no\n",
       "0   KARTUS        NaN   2018/001            NaN  AKSARAY EĞİTİM VE ARAŞTIRMA HASTANESİ          NaN  AKSARAY         NaN   KARTUŞ   NaN  2018/07-0001           NaN           NaN             NaN      NaN             NaN           NaN     NaN\n",
       "1   KARTUS        NaN   2018/001            NaN  AKSARAY EĞİTİM VE ARAŞTIRMA HASTANESİ          NaN  AKSARAY         NaN   KARTUŞ   NaN  2018/07-0002           NaN           NaN             NaN      NaN             NaN           NaN     NaN\n",
       "2   KARTUS        NaN   2018/001            NaN  AKSARAY EĞİTİM VE ARAŞTIRMA HASTANESİ          NaN  AKSARAY         NaN   KARTUŞ   NaN  2018/07-0003           NaN           NaN             NaN      NaN             NaN           NaN     NaN\n",
       "3   KARTUS        NaN   2018/001            NaN  AKSARAY EĞİTİM VE ARAŞTIRMA HASTANESİ          NaN  AKSARAY         NaN   KARTUŞ   NaN  2018/07-0004           NaN           NaN             NaN      NaN             NaN           NaN     NaN\n",
       "4   KARTUS        NaN   2018/001            NaN  AKSARAY EĞİTİM VE ARAŞTIRMA HASTANESİ          NaN  AKSARAY         NaN   KARTUŞ   NaN  2018/07-0005           NaN           NaN             NaN      NaN             NaN           NaN     NaN"
      ]
     },
     "execution_count": 10,
     "metadata": {},
     "output_type": "execute_result"
    }
   ],
   "source": [
    "df_kartus = df[df['kategori'] == 'KARTUS'].reset_index(drop=True)\n",
    "df_kartus.head()"
   ]
  },
  {
   "cell_type": "code",
   "execution_count": 11,
   "id": "9265a569",
   "metadata": {
    "ExecuteTime": {
     "end_time": "2024-10-31T21:39:06.661002Z",
     "start_time": "2024-10-31T21:39:06.654633Z"
    }
   },
   "outputs": [
    {
     "data": {
      "text/html": [
       "<div>\n",
       "<style scoped>\n",
       "    .dataframe tbody tr th:only-of-type {\n",
       "        vertical-align: middle;\n",
       "    }\n",
       "\n",
       "    .dataframe tbody tr th {\n",
       "        vertical-align: top;\n",
       "    }\n",
       "\n",
       "    .dataframe thead th {\n",
       "        text-align: right;\n",
       "    }\n",
       "</style>\n",
       "<table border=\"1\" class=\"dataframe\">\n",
       "  <thead>\n",
       "    <tr style=\"text-align: right;\">\n",
       "      <th></th>\n",
       "      <th>kategori</th>\n",
       "      <th>satis_turu</th>\n",
       "      <th>siparis_no</th>\n",
       "      <th>siparis_tarihi</th>\n",
       "      <th>siparisi_veren</th>\n",
       "      <th>il</th>\n",
       "      <th>seri_no</th>\n",
       "      <th>aciklama</th>\n",
       "      <th>solusyon_fatura</th>\n",
       "      <th>bidon_acilisi</th>\n",
       "    </tr>\n",
       "  </thead>\n",
       "  <tbody>\n",
       "    <tr>\n",
       "      <th>0</th>\n",
       "      <td>KARTUS</td>\n",
       "      <td>NaN</td>\n",
       "      <td>2018/001</td>\n",
       "      <td>NaN</td>\n",
       "      <td>AKSARAY EĞİTİM VE ARAŞTIRMA HASTANESİ</td>\n",
       "      <td>AKSARAY</td>\n",
       "      <td>2018/07-0001</td>\n",
       "      <td>NaN</td>\n",
       "      <td>NaN</td>\n",
       "      <td>NaN</td>\n",
       "    </tr>\n",
       "    <tr>\n",
       "      <th>1</th>\n",
       "      <td>KARTUS</td>\n",
       "      <td>NaN</td>\n",
       "      <td>2018/001</td>\n",
       "      <td>NaN</td>\n",
       "      <td>AKSARAY EĞİTİM VE ARAŞTIRMA HASTANESİ</td>\n",
       "      <td>AKSARAY</td>\n",
       "      <td>2018/07-0002</td>\n",
       "      <td>NaN</td>\n",
       "      <td>NaN</td>\n",
       "      <td>NaN</td>\n",
       "    </tr>\n",
       "    <tr>\n",
       "      <th>2</th>\n",
       "      <td>KARTUS</td>\n",
       "      <td>NaN</td>\n",
       "      <td>2018/001</td>\n",
       "      <td>NaN</td>\n",
       "      <td>AKSARAY EĞİTİM VE ARAŞTIRMA HASTANESİ</td>\n",
       "      <td>AKSARAY</td>\n",
       "      <td>2018/07-0003</td>\n",
       "      <td>NaN</td>\n",
       "      <td>NaN</td>\n",
       "      <td>NaN</td>\n",
       "    </tr>\n",
       "    <tr>\n",
       "      <th>3</th>\n",
       "      <td>KARTUS</td>\n",
       "      <td>NaN</td>\n",
       "      <td>2018/001</td>\n",
       "      <td>NaN</td>\n",
       "      <td>AKSARAY EĞİTİM VE ARAŞTIRMA HASTANESİ</td>\n",
       "      <td>AKSARAY</td>\n",
       "      <td>2018/07-0004</td>\n",
       "      <td>NaN</td>\n",
       "      <td>NaN</td>\n",
       "      <td>NaN</td>\n",
       "    </tr>\n",
       "    <tr>\n",
       "      <th>4</th>\n",
       "      <td>KARTUS</td>\n",
       "      <td>NaN</td>\n",
       "      <td>2018/001</td>\n",
       "      <td>NaN</td>\n",
       "      <td>AKSARAY EĞİTİM VE ARAŞTIRMA HASTANESİ</td>\n",
       "      <td>AKSARAY</td>\n",
       "      <td>2018/07-0005</td>\n",
       "      <td>NaN</td>\n",
       "      <td>NaN</td>\n",
       "      <td>NaN</td>\n",
       "    </tr>\n",
       "  </tbody>\n",
       "</table>\n",
       "</div>"
      ],
      "text/plain": [
       "  kategori satis_turu siparis_no siparis_tarihi                         siparisi_veren       il       seri_no aciklama solusyon_fatura bidon_acilisi\n",
       "0   KARTUS        NaN   2018/001            NaN  AKSARAY EĞİTİM VE ARAŞTIRMA HASTANESİ  AKSARAY  2018/07-0001      NaN             NaN           NaN\n",
       "1   KARTUS        NaN   2018/001            NaN  AKSARAY EĞİTİM VE ARAŞTIRMA HASTANESİ  AKSARAY  2018/07-0002      NaN             NaN           NaN\n",
       "2   KARTUS        NaN   2018/001            NaN  AKSARAY EĞİTİM VE ARAŞTIRMA HASTANESİ  AKSARAY  2018/07-0003      NaN             NaN           NaN\n",
       "3   KARTUS        NaN   2018/001            NaN  AKSARAY EĞİTİM VE ARAŞTIRMA HASTANESİ  AKSARAY  2018/07-0004      NaN             NaN           NaN\n",
       "4   KARTUS        NaN   2018/001            NaN  AKSARAY EĞİTİM VE ARAŞTIRMA HASTANESİ  AKSARAY  2018/07-0005      NaN             NaN           NaN"
      ]
     },
     "execution_count": 11,
     "metadata": {},
     "output_type": "execute_result"
    }
   ],
   "source": [
    "# kartusa ait featurelar ile ilerleyecegim.\n",
    "\n",
    "df_kartus = df_kartus.drop(['kurulum_yeri', 'urun_modeli', 'litre', 'teslim_suresi', 'irsaliye_tarihi', 'uts_no', 'teslim_tarihi', 'urun_adi'], axis=1)\n",
    "df_kartus.head()"
   ]
  },
  {
   "cell_type": "code",
   "execution_count": 12,
   "id": "c44c97c5",
   "metadata": {
    "ExecuteTime": {
     "end_time": "2024-10-31T21:39:06.670330Z",
     "start_time": "2024-10-31T21:39:06.661724Z"
    }
   },
   "outputs": [
    {
     "data": {
      "text/html": [
       "<div>\n",
       "<style scoped>\n",
       "    .dataframe tbody tr th:only-of-type {\n",
       "        vertical-align: middle;\n",
       "    }\n",
       "\n",
       "    .dataframe tbody tr th {\n",
       "        vertical-align: top;\n",
       "    }\n",
       "\n",
       "    .dataframe thead th {\n",
       "        text-align: right;\n",
       "    }\n",
       "</style>\n",
       "<table border=\"1\" class=\"dataframe\">\n",
       "  <thead>\n",
       "    <tr style=\"text-align: right;\">\n",
       "      <th></th>\n",
       "      <th>kategori</th>\n",
       "      <th>satis_turu</th>\n",
       "      <th>siparis_no</th>\n",
       "      <th>siparis_tarihi</th>\n",
       "      <th>siparisi_veren</th>\n",
       "      <th>il</th>\n",
       "      <th>seri_no</th>\n",
       "      <th>aciklama</th>\n",
       "      <th>solusyon_fatura</th>\n",
       "      <th>bidon_acilisi</th>\n",
       "    </tr>\n",
       "  </thead>\n",
       "  <tbody>\n",
       "    <tr>\n",
       "      <th>20361</th>\n",
       "      <td>KARTUS</td>\n",
       "      <td>YURTDIŞI</td>\n",
       "      <td>2023/98</td>\n",
       "      <td>8/21/2023 0:00</td>\n",
       "      <td>ÖZBEKİSTAN</td>\n",
       "      <td>ÖZBEKİSTAN</td>\n",
       "      <td>2023/07-3237</td>\n",
       "      <td>NaN</td>\n",
       "      <td>NaN</td>\n",
       "      <td>NaN</td>\n",
       "    </tr>\n",
       "  </tbody>\n",
       "</table>\n",
       "</div>"
      ],
      "text/plain": [
       "      kategori satis_turu siparis_no  siparis_tarihi siparisi_veren          il       seri_no aciklama solusyon_fatura bidon_acilisi\n",
       "20361   KARTUS   YURTDIŞI    2023/98  8/21/2023 0:00     ÖZBEKİSTAN  ÖZBEKİSTAN  2023/07-3237      NaN             NaN           NaN"
      ]
     },
     "execution_count": 12,
     "metadata": {},
     "output_type": "execute_result"
    }
   ],
   "source": [
    "# 2024 yilina ait henuz satisi yapilmamis urunleri datasetinden cikaralim\n",
    "\n",
    "df_kartus = df_kartus[~(df_kartus['siparis_no'].isnull() & df_kartus['siparisi_veren'].isnull() & df_kartus['siparis_tarihi'].isnull())]\n",
    "df_kartus.sample()"
   ]
  },
  {
   "cell_type": "code",
   "execution_count": 13,
   "id": "9c56aa20",
   "metadata": {
    "ExecuteTime": {
     "end_time": "2024-10-31T21:39:06.679114Z",
     "start_time": "2024-10-31T21:39:06.671145Z"
    }
   },
   "outputs": [
    {
     "name": "stdout",
     "output_type": "stream",
     "text": [
      "<class 'pandas.core.frame.DataFrame'>\n",
      "Index: 28710 entries, 0 to 28880\n",
      "Data columns (total 10 columns):\n",
      " #   Column           Non-Null Count  Dtype \n",
      "---  ------           --------------  ----- \n",
      " 0   kategori         28710 non-null  object\n",
      " 1   satis_turu       26886 non-null  object\n",
      " 2   siparis_no       25234 non-null  object\n",
      " 3   siparis_tarihi   28317 non-null  object\n",
      " 4   siparisi_veren   28697 non-null  object\n",
      " 5   il               28585 non-null  object\n",
      " 6   seri_no          28647 non-null  object\n",
      " 7   aciklama         11595 non-null  object\n",
      " 8   solusyon_fatura  5339 non-null   object\n",
      " 9   bidon_acilisi    5339 non-null   object\n",
      "dtypes: object(10)\n",
      "memory usage: 2.4+ MB\n"
     ]
    }
   ],
   "source": [
    "df_kartus.info()"
   ]
  },
  {
   "cell_type": "code",
   "execution_count": 14,
   "id": "71afcd7e",
   "metadata": {
    "ExecuteTime": {
     "end_time": "2024-10-31T21:39:06.681945Z",
     "start_time": "2024-10-31T21:39:06.679882Z"
    },
    "code_folding": [],
    "run_control": {
     "marked": false
    }
   },
   "outputs": [
    {
     "data": {
      "text/plain": [
       "'# Null degerleri check etmek icin\\n\\ndef check_null(data_frame):\\n    for col in data_frame.columns:\\n        null_count = data_frame[col].isnull().sum()\\n        if null_count != 0:\\n            null_percentage = (null_count / len(data_frame)) * 100\\n            print(f\"| {col}  ---->  {null_count} eksik değer (% {null_percentage:.2f})\\n\", \"_______________________________\")\\n        else:\\n            pass'"
      ]
     },
     "execution_count": 14,
     "metadata": {},
     "output_type": "execute_result"
    }
   ],
   "source": [
    "'''# Null degerleri check etmek icin\n",
    "\n",
    "def check_null(data_frame):\n",
    "    for col in data_frame.columns:\n",
    "        null_count = data_frame[col].isnull().sum()\n",
    "        if null_count != 0:\n",
    "            null_percentage = (null_count / len(data_frame)) * 100\n",
    "            print(f\"| {col}  ---->  {null_count} eksik değer (% {null_percentage:.2f})\\n\", \"_______________________________\")\n",
    "        else:\n",
    "            pass'''"
   ]
  },
  {
   "cell_type": "code",
   "execution_count": 15,
   "id": "dae6b455",
   "metadata": {
    "ExecuteTime": {
     "end_time": "2024-10-31T21:39:06.684369Z",
     "start_time": "2024-10-31T21:39:06.682967Z"
    }
   },
   "outputs": [],
   "source": [
    "# check_null(df_kartus)"
   ]
  },
  {
   "cell_type": "markdown",
   "id": "1675c058",
   "metadata": {},
   "source": [
    "## Data Cleaning and Transformation\n",
    "\n",
    "- Her bir feature tek tek inceleme yapilmasi\n",
    "    - Missing\n",
    "    - Duplicates\n",
    "    - Anormal Karakterlerin temizlenmesi\n",
    "    - ...."
   ]
  },
  {
   "cell_type": "markdown",
   "id": "4887118b",
   "metadata": {
    "ExecuteTime": {
     "end_time": "2024-10-31T14:53:02.934053Z",
     "start_time": "2024-10-31T14:53:02.926913Z"
    }
   },
   "source": [
    "## Missing Values"
   ]
  },
  {
   "cell_type": "code",
   "execution_count": 16,
   "id": "d3596e23",
   "metadata": {
    "ExecuteTime": {
     "end_time": "2024-10-31T21:39:06.686398Z",
     "start_time": "2024-10-31T21:39:06.685206Z"
    }
   },
   "outputs": [],
   "source": [
    "utils.df = df_kartus "
   ]
  },
  {
   "cell_type": "code",
   "execution_count": 17,
   "id": "1a55f995",
   "metadata": {
    "ExecuteTime": {
     "end_time": "2024-10-31T21:39:06.694554Z",
     "start_time": "2024-10-31T21:39:06.687049Z"
    }
   },
   "outputs": [
    {
     "name": "stdout",
     "output_type": "stream",
     "text": [
      "Eksik değerlerin sütun bazında dökümü aşağıda verilmiştir:\n"
     ]
    },
    {
     "data": {
      "text/html": [
       "<div>\n",
       "<style scoped>\n",
       "    .dataframe tbody tr th:only-of-type {\n",
       "        vertical-align: middle;\n",
       "    }\n",
       "\n",
       "    .dataframe tbody tr th {\n",
       "        vertical-align: top;\n",
       "    }\n",
       "\n",
       "    .dataframe thead th {\n",
       "        text-align: right;\n",
       "    }\n",
       "</style>\n",
       "<table border=\"1\" class=\"dataframe\">\n",
       "  <thead>\n",
       "    <tr style=\"text-align: right;\">\n",
       "      <th></th>\n",
       "      <th>Eksik Değer Sayısı</th>\n",
       "      <th>Yüzde</th>\n",
       "    </tr>\n",
       "  </thead>\n",
       "  <tbody>\n",
       "    <tr>\n",
       "      <th>kategori</th>\n",
       "      <td>0</td>\n",
       "      <td>0.00%</td>\n",
       "    </tr>\n",
       "    <tr>\n",
       "      <th>satis_turu</th>\n",
       "      <td>1824</td>\n",
       "      <td>6.35%</td>\n",
       "    </tr>\n",
       "    <tr>\n",
       "      <th>siparis_no</th>\n",
       "      <td>3476</td>\n",
       "      <td>12.11%</td>\n",
       "    </tr>\n",
       "    <tr>\n",
       "      <th>siparis_tarihi</th>\n",
       "      <td>393</td>\n",
       "      <td>1.37%</td>\n",
       "    </tr>\n",
       "    <tr>\n",
       "      <th>siparisi_veren</th>\n",
       "      <td>13</td>\n",
       "      <td>0.05%</td>\n",
       "    </tr>\n",
       "    <tr>\n",
       "      <th>il</th>\n",
       "      <td>125</td>\n",
       "      <td>0.44%</td>\n",
       "    </tr>\n",
       "    <tr>\n",
       "      <th>seri_no</th>\n",
       "      <td>63</td>\n",
       "      <td>0.22%</td>\n",
       "    </tr>\n",
       "    <tr>\n",
       "      <th>aciklama</th>\n",
       "      <td>17115</td>\n",
       "      <td>59.61%</td>\n",
       "    </tr>\n",
       "    <tr>\n",
       "      <th>solusyon_fatura</th>\n",
       "      <td>23371</td>\n",
       "      <td>81.40%</td>\n",
       "    </tr>\n",
       "    <tr>\n",
       "      <th>bidon_acilisi</th>\n",
       "      <td>23371</td>\n",
       "      <td>81.40%</td>\n",
       "    </tr>\n",
       "  </tbody>\n",
       "</table>\n",
       "</div>"
      ],
      "text/plain": [
       "                 Eksik Değer Sayısı   Yüzde\n",
       "kategori                          0   0.00%\n",
       "satis_turu                     1824   6.35%\n",
       "siparis_no                     3476  12.11%\n",
       "siparis_tarihi                  393   1.37%\n",
       "siparisi_veren                   13   0.05%\n",
       "il                              125   0.44%\n",
       "seri_no                          63   0.22%\n",
       "aciklama                      17115  59.61%\n",
       "solusyon_fatura               23371  81.40%\n",
       "bidon_acilisi                 23371  81.40%"
      ]
     },
     "execution_count": 17,
     "metadata": {},
     "output_type": "execute_result"
    }
   ],
   "source": [
    "utils.missing_values()"
   ]
  },
  {
   "cell_type": "code",
   "execution_count": 18,
   "id": "9c5c280e",
   "metadata": {
    "ExecuteTime": {
     "end_time": "2024-10-31T21:39:07.070280Z",
     "start_time": "2024-10-31T21:39:06.695402Z"
    }
   },
   "outputs": [
    {
     "name": "stdout",
     "output_type": "stream",
     "text": [
      "Eksik değer sayısı (0'dan fazla olan sütunlar):\n",
      "satis_turu          1824\n",
      "siparis_no          3476\n",
      "siparis_tarihi       393\n",
      "siparisi_veren        13\n",
      "il                   125\n",
      "seri_no               63\n",
      "aciklama           17115\n",
      "solusyon_fatura    23371\n",
      "bidon_acilisi      23371\n",
      "dtype: int64\n"
     ]
    },
    {
     "data": {
      "image/png": "[encoded data removed]",
      "text/plain": [
       "<Figure size 663.861x500 with 1 Axes>"
      ]
     },
     "metadata": {},
     "output_type": "display_data"
    }
   ],
   "source": [
    "utils.na_ratio_plot()"
   ]
  },
  {
   "cell_type": "markdown",
   "id": "2c437e9a",
   "metadata": {},
   "source": [
    "# Features"
   ]
  },
  {
   "cell_type": "markdown",
   "id": "b1b87c81",
   "metadata": {},
   "source": [
    "## siparis turu"
   ]
  },
  {
   "cell_type": "markdown",
   "id": "b79867c5",
   "metadata": {},
   "source": [
    "## siparis_no"
   ]
  },
  {
   "cell_type": "code",
   "execution_count": 19,
   "id": "dab0c23a",
   "metadata": {
    "ExecuteTime": {
     "end_time": "2024-10-31T21:39:07.073920Z",
     "start_time": "2024-10-31T21:39:07.071179Z"
    }
   },
   "outputs": [
    {
     "data": {
      "text/plain": [
       "3476"
      ]
     },
     "execution_count": 19,
     "metadata": {},
     "output_type": "execute_result"
    }
   ],
   "source": [
    "df_kartus[\"siparis_no\"].isnull().sum()"
   ]
  },
  {
   "cell_type": "code",
   "execution_count": null,
   "id": "2256c061",
   "metadata": {},
   "outputs": [],
   "source": []
  },
  {
   "cell_type": "code",
   "execution_count": null,
   "id": "b76478db",
   "metadata": {},
   "outputs": [],
   "source": []
  },
  {
   "cell_type": "code",
   "execution_count": null,
   "id": "a5f6da21",
   "metadata": {},
   "outputs": [],
   "source": []
  },
  {
   "cell_type": "markdown",
   "id": "6258ce65",
   "metadata": {},
   "source": [
    "## siparis_tarihi"
   ]
  },
  {
   "cell_type": "code",
   "execution_count": 20,
   "id": "2a3606cc",
   "metadata": {
    "ExecuteTime": {
     "end_time": "2024-10-31T21:39:07.076842Z",
     "start_time": "2024-10-31T21:39:07.074717Z"
    }
   },
   "outputs": [
    {
     "data": {
      "text/plain": [
       "0                   NaN\n",
       "1                   NaN\n",
       "2                   NaN\n",
       "3                   NaN\n",
       "4                   NaN\n",
       "              ...      \n",
       "28876    9/11/2024 0:00\n",
       "28877    9/11/2024 0:00\n",
       "28878    9/11/2024 0:00\n",
       "28879    9/11/2024 0:00\n",
       "28880    9/11/2024 0:00\n",
       "Name: siparis_tarihi, Length: 28710, dtype: object"
      ]
     },
     "execution_count": 20,
     "metadata": {},
     "output_type": "execute_result"
    }
   ],
   "source": [
    "df_kartus[\"siparis_tarihi\"]"
   ]
  },
  {
   "cell_type": "code",
   "execution_count": 21,
   "id": "b0d06bfc",
   "metadata": {
    "ExecuteTime": {
     "end_time": "2024-10-31T21:39:07.080023Z",
     "start_time": "2024-10-31T21:39:07.077628Z"
    }
   },
   "outputs": [
    {
     "data": {
      "text/plain": [
       "393"
      ]
     },
     "execution_count": 21,
     "metadata": {},
     "output_type": "execute_result"
    }
   ],
   "source": [
    "df_kartus[\"siparis_tarihi\"].isnull().sum()"
   ]
  },
  {
   "cell_type": "code",
   "execution_count": 22,
   "id": "46627246",
   "metadata": {
    "ExecuteTime": {
     "end_time": "2024-10-31T21:39:07.091017Z",
     "start_time": "2024-10-31T21:39:07.080936Z"
    }
   },
   "outputs": [
    {
     "data": {
      "text/html": [
       "<div>\n",
       "<style scoped>\n",
       "    .dataframe tbody tr th:only-of-type {\n",
       "        vertical-align: middle;\n",
       "    }\n",
       "\n",
       "    .dataframe tbody tr th {\n",
       "        vertical-align: top;\n",
       "    }\n",
       "\n",
       "    .dataframe thead th {\n",
       "        text-align: right;\n",
       "    }\n",
       "</style>\n",
       "<table border=\"1\" class=\"dataframe\">\n",
       "  <thead>\n",
       "    <tr style=\"text-align: right;\">\n",
       "      <th></th>\n",
       "      <th>kategori</th>\n",
       "      <th>satis_turu</th>\n",
       "      <th>siparis_no</th>\n",
       "      <th>siparis_tarihi</th>\n",
       "      <th>siparisi_veren</th>\n",
       "      <th>il</th>\n",
       "      <th>seri_no</th>\n",
       "      <th>aciklama</th>\n",
       "      <th>solusyon_fatura</th>\n",
       "      <th>bidon_acilisi</th>\n",
       "    </tr>\n",
       "  </thead>\n",
       "  <tbody>\n",
       "    <tr>\n",
       "      <th>16911</th>\n",
       "      <td>KARTUS</td>\n",
       "      <td>ÖZEL</td>\n",
       "      <td>2023/02</td>\n",
       "      <td>AKSARAY</td>\n",
       "      <td>ALYANS MEDİKAL TİC.LTD. ŞTİ.</td>\n",
       "      <td>ANKARA</td>\n",
       "      <td>2022/07-5225</td>\n",
       "      <td>NaN</td>\n",
       "      <td>NaN</td>\n",
       "      <td>NaN</td>\n",
       "    </tr>\n",
       "  </tbody>\n",
       "</table>\n",
       "</div>"
      ],
      "text/plain": [
       "      kategori satis_turu siparis_no siparis_tarihi                siparisi_veren      il       seri_no aciklama solusyon_fatura bidon_acilisi\n",
       "16911   KARTUS       ÖZEL    2023/02        AKSARAY  ALYANS MEDİKAL TİC.LTD. ŞTİ.  ANKARA  2022/07-5225      NaN             NaN           NaN"
      ]
     },
     "execution_count": 22,
     "metadata": {},
     "output_type": "execute_result"
    }
   ],
   "source": [
    "df_kartus[df_kartus['siparis_tarihi'].str.contains('AKSARAY', na=False, case=False)]"
   ]
  },
  {
   "cell_type": "code",
   "execution_count": 23,
   "id": "65ffa766",
   "metadata": {
    "ExecuteTime": {
     "end_time": "2024-10-31T21:39:07.099160Z",
     "start_time": "2024-10-31T21:39:07.091998Z"
    }
   },
   "outputs": [
    {
     "data": {
      "text/html": [
       "<div>\n",
       "<style scoped>\n",
       "    .dataframe tbody tr th:only-of-type {\n",
       "        vertical-align: middle;\n",
       "    }\n",
       "\n",
       "    .dataframe tbody tr th {\n",
       "        vertical-align: top;\n",
       "    }\n",
       "\n",
       "    .dataframe thead th {\n",
       "        text-align: right;\n",
       "    }\n",
       "</style>\n",
       "<table border=\"1\" class=\"dataframe\">\n",
       "  <thead>\n",
       "    <tr style=\"text-align: right;\">\n",
       "      <th></th>\n",
       "      <th>kategori</th>\n",
       "      <th>satis_turu</th>\n",
       "      <th>siparis_no</th>\n",
       "      <th>siparis_tarihi</th>\n",
       "      <th>siparisi_veren</th>\n",
       "      <th>il</th>\n",
       "      <th>seri_no</th>\n",
       "      <th>aciklama</th>\n",
       "      <th>solusyon_fatura</th>\n",
       "      <th>bidon_acilisi</th>\n",
       "    </tr>\n",
       "  </thead>\n",
       "  <tbody>\n",
       "    <tr>\n",
       "      <th>16902</th>\n",
       "      <td>KARTUS</td>\n",
       "      <td>ÖZEL</td>\n",
       "      <td>2023/02</td>\n",
       "      <td>1/6/2023 0:00</td>\n",
       "      <td>ALYANS MEDİKAL TİC.LTD. ŞTİ.</td>\n",
       "      <td>ANKARA</td>\n",
       "      <td>2022/07-5216</td>\n",
       "      <td>NaN</td>\n",
       "      <td>NaN</td>\n",
       "      <td>NaN</td>\n",
       "    </tr>\n",
       "    <tr>\n",
       "      <th>16903</th>\n",
       "      <td>KARTUS</td>\n",
       "      <td>ÖZEL</td>\n",
       "      <td>2023/02</td>\n",
       "      <td>1/6/2023 0:00</td>\n",
       "      <td>ALYANS MEDİKAL TİC.LTD. ŞTİ.</td>\n",
       "      <td>ANKARA</td>\n",
       "      <td>2022/07-5217</td>\n",
       "      <td>NaN</td>\n",
       "      <td>NaN</td>\n",
       "      <td>NaN</td>\n",
       "    </tr>\n",
       "    <tr>\n",
       "      <th>16904</th>\n",
       "      <td>KARTUS</td>\n",
       "      <td>ÖZEL</td>\n",
       "      <td>2023/02</td>\n",
       "      <td>1/6/2023 0:00</td>\n",
       "      <td>ALYANS MEDİKAL TİC.LTD. ŞTİ.</td>\n",
       "      <td>ANKARA</td>\n",
       "      <td>2022/07-5218</td>\n",
       "      <td>NaN</td>\n",
       "      <td>NaN</td>\n",
       "      <td>NaN</td>\n",
       "    </tr>\n",
       "    <tr>\n",
       "      <th>16905</th>\n",
       "      <td>KARTUS</td>\n",
       "      <td>ÖZEL</td>\n",
       "      <td>2023/02</td>\n",
       "      <td>1/6/2023 0:00</td>\n",
       "      <td>ALYANS MEDİKAL TİC.LTD. ŞTİ.</td>\n",
       "      <td>ANKARA</td>\n",
       "      <td>2022/07-5219</td>\n",
       "      <td>NaN</td>\n",
       "      <td>NaN</td>\n",
       "      <td>NaN</td>\n",
       "    </tr>\n",
       "    <tr>\n",
       "      <th>16906</th>\n",
       "      <td>KARTUS</td>\n",
       "      <td>ÖZEL</td>\n",
       "      <td>2023/02</td>\n",
       "      <td>1/6/2023 0:00</td>\n",
       "      <td>ALYANS MEDİKAL TİC.LTD. ŞTİ.</td>\n",
       "      <td>ANKARA</td>\n",
       "      <td>2022/07-5220</td>\n",
       "      <td>NaN</td>\n",
       "      <td>NaN</td>\n",
       "      <td>NaN</td>\n",
       "    </tr>\n",
       "    <tr>\n",
       "      <th>16907</th>\n",
       "      <td>KARTUS</td>\n",
       "      <td>ÖZEL</td>\n",
       "      <td>2023/02</td>\n",
       "      <td>1/6/2023 0:00</td>\n",
       "      <td>ALYANS MEDİKAL TİC.LTD. ŞTİ.</td>\n",
       "      <td>ANKARA</td>\n",
       "      <td>2022/07-5221</td>\n",
       "      <td>NaN</td>\n",
       "      <td>NaN</td>\n",
       "      <td>NaN</td>\n",
       "    </tr>\n",
       "    <tr>\n",
       "      <th>16908</th>\n",
       "      <td>KARTUS</td>\n",
       "      <td>ÖZEL</td>\n",
       "      <td>2023/02</td>\n",
       "      <td>1/6/2023 0:00</td>\n",
       "      <td>ALYANS MEDİKAL TİC.LTD. ŞTİ.</td>\n",
       "      <td>ANKARA</td>\n",
       "      <td>2022/07-5222</td>\n",
       "      <td>NaN</td>\n",
       "      <td>NaN</td>\n",
       "      <td>NaN</td>\n",
       "    </tr>\n",
       "    <tr>\n",
       "      <th>16909</th>\n",
       "      <td>KARTUS</td>\n",
       "      <td>ÖZEL</td>\n",
       "      <td>2023/02</td>\n",
       "      <td>1/6/2023 0:00</td>\n",
       "      <td>ALYANS MEDİKAL TİC.LTD. ŞTİ.</td>\n",
       "      <td>ANKARA</td>\n",
       "      <td>2022/07-5223</td>\n",
       "      <td>NaN</td>\n",
       "      <td>NaN</td>\n",
       "      <td>NaN</td>\n",
       "    </tr>\n",
       "    <tr>\n",
       "      <th>16910</th>\n",
       "      <td>KARTUS</td>\n",
       "      <td>ÖZEL</td>\n",
       "      <td>2023/02</td>\n",
       "      <td>1/6/2023 0:00</td>\n",
       "      <td>ALYANS MEDİKAL TİC.LTD. ŞTİ.</td>\n",
       "      <td>ANKARA</td>\n",
       "      <td>2022/07-5224</td>\n",
       "      <td>NaN</td>\n",
       "      <td>NaN</td>\n",
       "      <td>NaN</td>\n",
       "    </tr>\n",
       "    <tr>\n",
       "      <th>16911</th>\n",
       "      <td>KARTUS</td>\n",
       "      <td>ÖZEL</td>\n",
       "      <td>2023/02</td>\n",
       "      <td>AKSARAY</td>\n",
       "      <td>ALYANS MEDİKAL TİC.LTD. ŞTİ.</td>\n",
       "      <td>ANKARA</td>\n",
       "      <td>2022/07-5225</td>\n",
       "      <td>NaN</td>\n",
       "      <td>NaN</td>\n",
       "      <td>NaN</td>\n",
       "    </tr>\n",
       "    <tr>\n",
       "      <th>16912</th>\n",
       "      <td>KARTUS</td>\n",
       "      <td>ÖZEL</td>\n",
       "      <td>2023/02</td>\n",
       "      <td>1/6/2023 0:00</td>\n",
       "      <td>ALYANS MEDİKAL TİC.LTD. ŞTİ.</td>\n",
       "      <td>ANKARA</td>\n",
       "      <td>2022/07-5226</td>\n",
       "      <td>NaN</td>\n",
       "      <td>NaN</td>\n",
       "      <td>NaN</td>\n",
       "    </tr>\n",
       "    <tr>\n",
       "      <th>16913</th>\n",
       "      <td>KARTUS</td>\n",
       "      <td>ÖZEL</td>\n",
       "      <td>2023/02</td>\n",
       "      <td>1/6/2023 0:00</td>\n",
       "      <td>ALYANS MEDİKAL TİC.LTD. ŞTİ.</td>\n",
       "      <td>ANKARA</td>\n",
       "      <td>2022/07-5227</td>\n",
       "      <td>NaN</td>\n",
       "      <td>NaN</td>\n",
       "      <td>NaN</td>\n",
       "    </tr>\n",
       "    <tr>\n",
       "      <th>16914</th>\n",
       "      <td>KARTUS</td>\n",
       "      <td>ÖZEL</td>\n",
       "      <td>2023/02</td>\n",
       "      <td>1/6/2023 0:00</td>\n",
       "      <td>ALYANS MEDİKAL TİC.LTD. ŞTİ.</td>\n",
       "      <td>ANKARA</td>\n",
       "      <td>2022/07-5228</td>\n",
       "      <td>NaN</td>\n",
       "      <td>NaN</td>\n",
       "      <td>NaN</td>\n",
       "    </tr>\n",
       "    <tr>\n",
       "      <th>16915</th>\n",
       "      <td>KARTUS</td>\n",
       "      <td>ÖZEL</td>\n",
       "      <td>2023/02</td>\n",
       "      <td>1/6/2023 0:00</td>\n",
       "      <td>ALYANS MEDİKAL TİC.LTD. ŞTİ.</td>\n",
       "      <td>ANKARA</td>\n",
       "      <td>2022/07-5229</td>\n",
       "      <td>NaN</td>\n",
       "      <td>NaN</td>\n",
       "      <td>NaN</td>\n",
       "    </tr>\n",
       "    <tr>\n",
       "      <th>16916</th>\n",
       "      <td>KARTUS</td>\n",
       "      <td>ÖZEL</td>\n",
       "      <td>2023/02</td>\n",
       "      <td>1/6/2023 0:00</td>\n",
       "      <td>ALYANS MEDİKAL TİC.LTD. ŞTİ.</td>\n",
       "      <td>ANKARA</td>\n",
       "      <td>2022/07-5230</td>\n",
       "      <td>NaN</td>\n",
       "      <td>NaN</td>\n",
       "      <td>NaN</td>\n",
       "    </tr>\n",
       "    <tr>\n",
       "      <th>16917</th>\n",
       "      <td>KARTUS</td>\n",
       "      <td>ÖZEL</td>\n",
       "      <td>2023/02</td>\n",
       "      <td>1/6/2023 0:00</td>\n",
       "      <td>ALYANS MEDİKAL TİC.LTD. ŞTİ.</td>\n",
       "      <td>ANKARA</td>\n",
       "      <td>2022/07-5231</td>\n",
       "      <td>NaN</td>\n",
       "      <td>NaN</td>\n",
       "      <td>NaN</td>\n",
       "    </tr>\n",
       "    <tr>\n",
       "      <th>16918</th>\n",
       "      <td>KARTUS</td>\n",
       "      <td>ÖZEL</td>\n",
       "      <td>2023/02</td>\n",
       "      <td>1/6/2023 0:00</td>\n",
       "      <td>ALYANS MEDİKAL TİC.LTD. ŞTİ.</td>\n",
       "      <td>ANKARA</td>\n",
       "      <td>2022/07-5232</td>\n",
       "      <td>NaN</td>\n",
       "      <td>NaN</td>\n",
       "      <td>NaN</td>\n",
       "    </tr>\n",
       "    <tr>\n",
       "      <th>16919</th>\n",
       "      <td>KARTUS</td>\n",
       "      <td>ÖZEL</td>\n",
       "      <td>2023/02</td>\n",
       "      <td>1/6/2023 0:00</td>\n",
       "      <td>ALYANS MEDİKAL TİC.LTD. ŞTİ.</td>\n",
       "      <td>ANKARA</td>\n",
       "      <td>2022/07-5233</td>\n",
       "      <td>NaN</td>\n",
       "      <td>NaN</td>\n",
       "      <td>NaN</td>\n",
       "    </tr>\n",
       "    <tr>\n",
       "      <th>16920</th>\n",
       "      <td>KARTUS</td>\n",
       "      <td>ÖZEL</td>\n",
       "      <td>2023/02</td>\n",
       "      <td>1/6/2023 0:00</td>\n",
       "      <td>ALYANS MEDİKAL TİC.LTD. ŞTİ.</td>\n",
       "      <td>ANKARA</td>\n",
       "      <td>2022/07-5234</td>\n",
       "      <td>NaN</td>\n",
       "      <td>NaN</td>\n",
       "      <td>NaN</td>\n",
       "    </tr>\n",
       "    <tr>\n",
       "      <th>16921</th>\n",
       "      <td>KARTUS</td>\n",
       "      <td>ÖZEL</td>\n",
       "      <td>2023/02</td>\n",
       "      <td>1/6/2023 0:00</td>\n",
       "      <td>ALYANS MEDİKAL TİC.LTD. ŞTİ.</td>\n",
       "      <td>ANKARA</td>\n",
       "      <td>2022/07-5235</td>\n",
       "      <td>NaN</td>\n",
       "      <td>NaN</td>\n",
       "      <td>NaN</td>\n",
       "    </tr>\n",
       "    <tr>\n",
       "      <th>16922</th>\n",
       "      <td>KARTUS</td>\n",
       "      <td>ÖZEL</td>\n",
       "      <td>2023/02</td>\n",
       "      <td>1/6/2023 0:00</td>\n",
       "      <td>ALYANS MEDİKAL TİC.LTD. ŞTİ.</td>\n",
       "      <td>ANKARA</td>\n",
       "      <td>2022/07-5236</td>\n",
       "      <td>NaN</td>\n",
       "      <td>NaN</td>\n",
       "      <td>NaN</td>\n",
       "    </tr>\n",
       "    <tr>\n",
       "      <th>16923</th>\n",
       "      <td>KARTUS</td>\n",
       "      <td>ÖZEL</td>\n",
       "      <td>2023/02</td>\n",
       "      <td>1/6/2023 0:00</td>\n",
       "      <td>ALYANS MEDİKAL TİC.LTD. ŞTİ.</td>\n",
       "      <td>ANKARA</td>\n",
       "      <td>2022/07-5237</td>\n",
       "      <td>NaN</td>\n",
       "      <td>NaN</td>\n",
       "      <td>NaN</td>\n",
       "    </tr>\n",
       "    <tr>\n",
       "      <th>16924</th>\n",
       "      <td>KARTUS</td>\n",
       "      <td>ÖZEL</td>\n",
       "      <td>2023/02</td>\n",
       "      <td>1/6/2023 0:00</td>\n",
       "      <td>ALYANS MEDİKAL TİC.LTD. ŞTİ.</td>\n",
       "      <td>ANKARA</td>\n",
       "      <td>2022/07-5238</td>\n",
       "      <td>NaN</td>\n",
       "      <td>NaN</td>\n",
       "      <td>NaN</td>\n",
       "    </tr>\n",
       "    <tr>\n",
       "      <th>16925</th>\n",
       "      <td>KARTUS</td>\n",
       "      <td>ÖZEL</td>\n",
       "      <td>2023/02</td>\n",
       "      <td>1/6/2023 0:00</td>\n",
       "      <td>ALYANS MEDİKAL TİC.LTD. ŞTİ.</td>\n",
       "      <td>ANKARA</td>\n",
       "      <td>2022/07-5239</td>\n",
       "      <td>NaN</td>\n",
       "      <td>NaN</td>\n",
       "      <td>NaN</td>\n",
       "    </tr>\n",
       "    <tr>\n",
       "      <th>16926</th>\n",
       "      <td>KARTUS</td>\n",
       "      <td>ÖZEL</td>\n",
       "      <td>2023/02</td>\n",
       "      <td>1/6/2023 0:00</td>\n",
       "      <td>ALYANS MEDİKAL TİC.LTD. ŞTİ.</td>\n",
       "      <td>ANKARA</td>\n",
       "      <td>2022/07-5240</td>\n",
       "      <td>NaN</td>\n",
       "      <td>NaN</td>\n",
       "      <td>NaN</td>\n",
       "    </tr>\n",
       "    <tr>\n",
       "      <th>16927</th>\n",
       "      <td>KARTUS</td>\n",
       "      <td>ÖZEL</td>\n",
       "      <td>2023/02</td>\n",
       "      <td>1/6/2023 0:00</td>\n",
       "      <td>ALYANS MEDİKAL TİC.LTD. ŞTİ.</td>\n",
       "      <td>ANKARA</td>\n",
       "      <td>2022/07-5241</td>\n",
       "      <td>NaN</td>\n",
       "      <td>NaN</td>\n",
       "      <td>NaN</td>\n",
       "    </tr>\n",
       "    <tr>\n",
       "      <th>16928</th>\n",
       "      <td>KARTUS</td>\n",
       "      <td>ÖZEL</td>\n",
       "      <td>2023/02</td>\n",
       "      <td>1/6/2023 0:00</td>\n",
       "      <td>ALYANS MEDİKAL TİC.LTD. ŞTİ.</td>\n",
       "      <td>ANKARA</td>\n",
       "      <td>2022/07-5242</td>\n",
       "      <td>NaN</td>\n",
       "      <td>NaN</td>\n",
       "      <td>NaN</td>\n",
       "    </tr>\n",
       "    <tr>\n",
       "      <th>16929</th>\n",
       "      <td>KARTUS</td>\n",
       "      <td>ÖZEL</td>\n",
       "      <td>2023/02</td>\n",
       "      <td>1/6/2023 0:00</td>\n",
       "      <td>ALYANS MEDİKAL TİC.LTD. ŞTİ.</td>\n",
       "      <td>ANKARA</td>\n",
       "      <td>2022/07-5243</td>\n",
       "      <td>NaN</td>\n",
       "      <td>NaN</td>\n",
       "      <td>NaN</td>\n",
       "    </tr>\n",
       "    <tr>\n",
       "      <th>16930</th>\n",
       "      <td>KARTUS</td>\n",
       "      <td>ÖZEL</td>\n",
       "      <td>2023/02</td>\n",
       "      <td>1/6/2023 0:00</td>\n",
       "      <td>ALYANS MEDİKAL TİC.LTD. ŞTİ.</td>\n",
       "      <td>ANKARA</td>\n",
       "      <td>2022/07-5244</td>\n",
       "      <td>NaN</td>\n",
       "      <td>NaN</td>\n",
       "      <td>NaN</td>\n",
       "    </tr>\n",
       "    <tr>\n",
       "      <th>16931</th>\n",
       "      <td>KARTUS</td>\n",
       "      <td>ÖZEL</td>\n",
       "      <td>2023/02</td>\n",
       "      <td>1/6/2023 0:00</td>\n",
       "      <td>ALYANS MEDİKAL TİC.LTD. ŞTİ.</td>\n",
       "      <td>ANKARA</td>\n",
       "      <td>2022/07-5245</td>\n",
       "      <td>NaN</td>\n",
       "      <td>NaN</td>\n",
       "      <td>NaN</td>\n",
       "    </tr>\n",
       "    <tr>\n",
       "      <th>16932</th>\n",
       "      <td>KARTUS</td>\n",
       "      <td>ÖZEL</td>\n",
       "      <td>2023/02</td>\n",
       "      <td>1/6/2023 0:00</td>\n",
       "      <td>ALYANS MEDİKAL TİC.LTD. ŞTİ.</td>\n",
       "      <td>ANKARA</td>\n",
       "      <td>2022/07-5246</td>\n",
       "      <td>NaN</td>\n",
       "      <td>NaN</td>\n",
       "      <td>NaN</td>\n",
       "    </tr>\n",
       "    <tr>\n",
       "      <th>16933</th>\n",
       "      <td>KARTUS</td>\n",
       "      <td>ÖZEL</td>\n",
       "      <td>2023/02</td>\n",
       "      <td>1/6/2023 0:00</td>\n",
       "      <td>ALYANS MEDİKAL TİC.LTD. ŞTİ.</td>\n",
       "      <td>ANKARA</td>\n",
       "      <td>2022/07-5247</td>\n",
       "      <td>NaN</td>\n",
       "      <td>NaN</td>\n",
       "      <td>NaN</td>\n",
       "    </tr>\n",
       "    <tr>\n",
       "      <th>16934</th>\n",
       "      <td>KARTUS</td>\n",
       "      <td>ÖZEL</td>\n",
       "      <td>2023/02</td>\n",
       "      <td>1/6/2023 0:00</td>\n",
       "      <td>ALYANS MEDİKAL TİC.LTD. ŞTİ.</td>\n",
       "      <td>ANKARA</td>\n",
       "      <td>2022/07-5248</td>\n",
       "      <td>NaN</td>\n",
       "      <td>NaN</td>\n",
       "      <td>NaN</td>\n",
       "    </tr>\n",
       "    <tr>\n",
       "      <th>16935</th>\n",
       "      <td>KARTUS</td>\n",
       "      <td>ÖZEL</td>\n",
       "      <td>2023/02</td>\n",
       "      <td>1/6/2023 0:00</td>\n",
       "      <td>ALYANS MEDİKAL TİC.LTD. ŞTİ.</td>\n",
       "      <td>ANKARA</td>\n",
       "      <td>2022/07-5249</td>\n",
       "      <td>NaN</td>\n",
       "      <td>NaN</td>\n",
       "      <td>NaN</td>\n",
       "    </tr>\n",
       "    <tr>\n",
       "      <th>16936</th>\n",
       "      <td>KARTUS</td>\n",
       "      <td>ÖZEL</td>\n",
       "      <td>2023/02</td>\n",
       "      <td>1/6/2023 0:00</td>\n",
       "      <td>ALYANS MEDİKAL TİC.LTD. ŞTİ.</td>\n",
       "      <td>ANKARA</td>\n",
       "      <td>2022/07-5250</td>\n",
       "      <td>NaN</td>\n",
       "      <td>NaN</td>\n",
       "      <td>NaN</td>\n",
       "    </tr>\n",
       "    <tr>\n",
       "      <th>16937</th>\n",
       "      <td>KARTUS</td>\n",
       "      <td>ÖZEL</td>\n",
       "      <td>2023/02</td>\n",
       "      <td>1/6/2023 0:00</td>\n",
       "      <td>ALYANS MEDİKAL TİC.LTD. ŞTİ.</td>\n",
       "      <td>ANKARA</td>\n",
       "      <td>2022/07-5251</td>\n",
       "      <td>NaN</td>\n",
       "      <td>NaN</td>\n",
       "      <td>NaN</td>\n",
       "    </tr>\n",
       "    <tr>\n",
       "      <th>16938</th>\n",
       "      <td>KARTUS</td>\n",
       "      <td>ÖZEL</td>\n",
       "      <td>2023/02</td>\n",
       "      <td>1/6/2023 0:00</td>\n",
       "      <td>ALYANS MEDİKAL TİC.LTD. ŞTİ.</td>\n",
       "      <td>ANKARA</td>\n",
       "      <td>2022/07-5252</td>\n",
       "      <td>NaN</td>\n",
       "      <td>NaN</td>\n",
       "      <td>NaN</td>\n",
       "    </tr>\n",
       "    <tr>\n",
       "      <th>16939</th>\n",
       "      <td>KARTUS</td>\n",
       "      <td>ÖZEL</td>\n",
       "      <td>2023/02</td>\n",
       "      <td>1/6/2023 0:00</td>\n",
       "      <td>ALYANS MEDİKAL TİC.LTD. ŞTİ.</td>\n",
       "      <td>ANKARA</td>\n",
       "      <td>2022/07-5253</td>\n",
       "      <td>NaN</td>\n",
       "      <td>NaN</td>\n",
       "      <td>NaN</td>\n",
       "    </tr>\n",
       "    <tr>\n",
       "      <th>16940</th>\n",
       "      <td>KARTUS</td>\n",
       "      <td>ÖZEL</td>\n",
       "      <td>2023/02</td>\n",
       "      <td>1/6/2023 0:00</td>\n",
       "      <td>ALYANS MEDİKAL TİC.LTD. ŞTİ.</td>\n",
       "      <td>ANKARA</td>\n",
       "      <td>2022/07-5254</td>\n",
       "      <td>NaN</td>\n",
       "      <td>NaN</td>\n",
       "      <td>NaN</td>\n",
       "    </tr>\n",
       "    <tr>\n",
       "      <th>16941</th>\n",
       "      <td>KARTUS</td>\n",
       "      <td>ÖZEL</td>\n",
       "      <td>2023/02</td>\n",
       "      <td>1/6/2023 0:00</td>\n",
       "      <td>ALYANS MEDİKAL TİC.LTD. ŞTİ.</td>\n",
       "      <td>ANKARA</td>\n",
       "      <td>2022/07-5255</td>\n",
       "      <td>NaN</td>\n",
       "      <td>NaN</td>\n",
       "      <td>NaN</td>\n",
       "    </tr>\n",
       "    <tr>\n",
       "      <th>16942</th>\n",
       "      <td>KARTUS</td>\n",
       "      <td>ÖZEL</td>\n",
       "      <td>2023/02</td>\n",
       "      <td>1/6/2023 0:00</td>\n",
       "      <td>ALYANS MEDİKAL TİC.LTD. ŞTİ.</td>\n",
       "      <td>ANKARA</td>\n",
       "      <td>2022/07-5256</td>\n",
       "      <td>NaN</td>\n",
       "      <td>NaN</td>\n",
       "      <td>NaN</td>\n",
       "    </tr>\n",
       "    <tr>\n",
       "      <th>16943</th>\n",
       "      <td>KARTUS</td>\n",
       "      <td>ÖZEL</td>\n",
       "      <td>2023/02</td>\n",
       "      <td>1/6/2023 0:00</td>\n",
       "      <td>ALYANS MEDİKAL TİC.LTD. ŞTİ.</td>\n",
       "      <td>ANKARA</td>\n",
       "      <td>2022/07-5257</td>\n",
       "      <td>NaN</td>\n",
       "      <td>NaN</td>\n",
       "      <td>NaN</td>\n",
       "    </tr>\n",
       "    <tr>\n",
       "      <th>16944</th>\n",
       "      <td>KARTUS</td>\n",
       "      <td>ÖZEL</td>\n",
       "      <td>2023/02</td>\n",
       "      <td>1/6/2023 0:00</td>\n",
       "      <td>ALYANS MEDİKAL TİC.LTD. ŞTİ.</td>\n",
       "      <td>ANKARA</td>\n",
       "      <td>2022/07-5258</td>\n",
       "      <td>NaN</td>\n",
       "      <td>NaN</td>\n",
       "      <td>NaN</td>\n",
       "    </tr>\n",
       "    <tr>\n",
       "      <th>16945</th>\n",
       "      <td>KARTUS</td>\n",
       "      <td>ÖZEL</td>\n",
       "      <td>2023/02</td>\n",
       "      <td>1/6/2023 0:00</td>\n",
       "      <td>ALYANS MEDİKAL TİC.LTD. ŞTİ.</td>\n",
       "      <td>ANKARA</td>\n",
       "      <td>2022/07-5259</td>\n",
       "      <td>NaN</td>\n",
       "      <td>NaN</td>\n",
       "      <td>NaN</td>\n",
       "    </tr>\n",
       "    <tr>\n",
       "      <th>16946</th>\n",
       "      <td>KARTUS</td>\n",
       "      <td>ÖZEL</td>\n",
       "      <td>2023/02</td>\n",
       "      <td>1/6/2023 0:00</td>\n",
       "      <td>ALYANS MEDİKAL TİC.LTD. ŞTİ.</td>\n",
       "      <td>ANKARA</td>\n",
       "      <td>2022/07-5260</td>\n",
       "      <td>NaN</td>\n",
       "      <td>NaN</td>\n",
       "      <td>NaN</td>\n",
       "    </tr>\n",
       "    <tr>\n",
       "      <th>16947</th>\n",
       "      <td>KARTUS</td>\n",
       "      <td>ÖZEL</td>\n",
       "      <td>2023/02</td>\n",
       "      <td>1/6/2023 0:00</td>\n",
       "      <td>ALYANS MEDİKAL TİC.LTD. ŞTİ.</td>\n",
       "      <td>ANKARA</td>\n",
       "      <td>2022/07-5261</td>\n",
       "      <td>NaN</td>\n",
       "      <td>NaN</td>\n",
       "      <td>NaN</td>\n",
       "    </tr>\n",
       "    <tr>\n",
       "      <th>16948</th>\n",
       "      <td>KARTUS</td>\n",
       "      <td>ÖZEL</td>\n",
       "      <td>2023/02</td>\n",
       "      <td>1/6/2023 0:00</td>\n",
       "      <td>ALYANS MEDİKAL TİC.LTD. ŞTİ.</td>\n",
       "      <td>ANKARA</td>\n",
       "      <td>2022/07-5262</td>\n",
       "      <td>NaN</td>\n",
       "      <td>NaN</td>\n",
       "      <td>NaN</td>\n",
       "    </tr>\n",
       "    <tr>\n",
       "      <th>16949</th>\n",
       "      <td>KARTUS</td>\n",
       "      <td>ÖZEL</td>\n",
       "      <td>2023/02</td>\n",
       "      <td>1/6/2023 0:00</td>\n",
       "      <td>ALYANS MEDİKAL TİC.LTD. ŞTİ.</td>\n",
       "      <td>ANKARA</td>\n",
       "      <td>2022/07-5263</td>\n",
       "      <td>NaN</td>\n",
       "      <td>NaN</td>\n",
       "      <td>NaN</td>\n",
       "    </tr>\n",
       "    <tr>\n",
       "      <th>16950</th>\n",
       "      <td>KARTUS</td>\n",
       "      <td>ÖZEL</td>\n",
       "      <td>2023/02</td>\n",
       "      <td>1/6/2023 0:00</td>\n",
       "      <td>ALYANS MEDİKAL TİC.LTD. ŞTİ.</td>\n",
       "      <td>ANKARA</td>\n",
       "      <td>2022/07-5264</td>\n",
       "      <td>NaN</td>\n",
       "      <td>NaN</td>\n",
       "      <td>NaN</td>\n",
       "    </tr>\n",
       "    <tr>\n",
       "      <th>16951</th>\n",
       "      <td>KARTUS</td>\n",
       "      <td>ÖZEL</td>\n",
       "      <td>2023/02</td>\n",
       "      <td>1/6/2023 0:00</td>\n",
       "      <td>ALYANS MEDİKAL TİC.LTD. ŞTİ.</td>\n",
       "      <td>ANKARA</td>\n",
       "      <td>2022/07-5265</td>\n",
       "      <td>NaN</td>\n",
       "      <td>NaN</td>\n",
       "      <td>NaN</td>\n",
       "    </tr>\n",
       "  </tbody>\n",
       "</table>\n",
       "</div>"
      ],
      "text/plain": [
       "      kategori satis_turu siparis_no siparis_tarihi                siparisi_veren      il       seri_no aciklama solusyon_fatura bidon_acilisi\n",
       "16902   KARTUS       ÖZEL    2023/02  1/6/2023 0:00  ALYANS MEDİKAL TİC.LTD. ŞTİ.  ANKARA  2022/07-5216      NaN             NaN           NaN\n",
       "16903   KARTUS       ÖZEL    2023/02  1/6/2023 0:00  ALYANS MEDİKAL TİC.LTD. ŞTİ.  ANKARA  2022/07-5217      NaN             NaN           NaN\n",
       "16904   KARTUS       ÖZEL    2023/02  1/6/2023 0:00  ALYANS MEDİKAL TİC.LTD. ŞTİ.  ANKARA  2022/07-5218      NaN             NaN           NaN\n",
       "16905   KARTUS       ÖZEL    2023/02  1/6/2023 0:00  ALYANS MEDİKAL TİC.LTD. ŞTİ.  ANKARA  2022/07-5219      NaN             NaN           NaN\n",
       "16906   KARTUS       ÖZEL    2023/02  1/6/2023 0:00  ALYANS MEDİKAL TİC.LTD. ŞTİ.  ANKARA  2022/07-5220      NaN             NaN           NaN\n",
       "16907   KARTUS       ÖZEL    2023/02  1/6/2023 0:00  ALYANS MEDİKAL TİC.LTD. ŞTİ.  ANKARA  2022/07-5221      NaN             NaN           NaN\n",
       "16908   KARTUS       ÖZEL    2023/02  1/6/2023 0:00  ALYANS MEDİKAL TİC.LTD. ŞTİ.  ANKARA  2022/07-5222      NaN             NaN           NaN\n",
       "16909   KARTUS       ÖZEL    2023/02  1/6/2023 0:00  ALYANS MEDİKAL TİC.LTD. ŞTİ.  ANKARA  2022/07-5223      NaN             NaN           NaN\n",
       "16910   KARTUS       ÖZEL    2023/02  1/6/2023 0:00  ALYANS MEDİKAL TİC.LTD. ŞTİ.  ANKARA  2022/07-5224      NaN             NaN           NaN\n",
       "16911   KARTUS       ÖZEL    2023/02        AKSARAY  ALYANS MEDİKAL TİC.LTD. ŞTİ.  ANKARA  2022/07-5225      NaN             NaN           NaN\n",
       "16912   KARTUS       ÖZEL    2023/02  1/6/2023 0:00  ALYANS MEDİKAL TİC.LTD. ŞTİ.  ANKARA  2022/07-5226      NaN             NaN           NaN\n",
       "16913   KARTUS       ÖZEL    2023/02  1/6/2023 0:00  ALYANS MEDİKAL TİC.LTD. ŞTİ.  ANKARA  2022/07-5227      NaN             NaN           NaN\n",
       "16914   KARTUS       ÖZEL    2023/02  1/6/2023 0:00  ALYANS MEDİKAL TİC.LTD. ŞTİ.  ANKARA  2022/07-5228      NaN             NaN           NaN\n",
       "16915   KARTUS       ÖZEL    2023/02  1/6/2023 0:00  ALYANS MEDİKAL TİC.LTD. ŞTİ.  ANKARA  2022/07-5229      NaN             NaN           NaN\n",
       "16916   KARTUS       ÖZEL    2023/02  1/6/2023 0:00  ALYANS MEDİKAL TİC.LTD. ŞTİ.  ANKARA  2022/07-5230      NaN             NaN           NaN\n",
       "16917   KARTUS       ÖZEL    2023/02  1/6/2023 0:00  ALYANS MEDİKAL TİC.LTD. ŞTİ.  ANKARA  2022/07-5231      NaN             NaN           NaN\n",
       "16918   KARTUS       ÖZEL    2023/02  1/6/2023 0:00  ALYANS MEDİKAL TİC.LTD. ŞTİ.  ANKARA  2022/07-5232      NaN             NaN           NaN\n",
       "16919   KARTUS       ÖZEL    2023/02  1/6/2023 0:00  ALYANS MEDİKAL TİC.LTD. ŞTİ.  ANKARA  2022/07-5233      NaN             NaN           NaN\n",
       "16920   KARTUS       ÖZEL    2023/02  1/6/2023 0:00  ALYANS MEDİKAL TİC.LTD. ŞTİ.  ANKARA  2022/07-5234      NaN             NaN           NaN\n",
       "16921   KARTUS       ÖZEL    2023/02  1/6/2023 0:00  ALYANS MEDİKAL TİC.LTD. ŞTİ.  ANKARA  2022/07-5235      NaN             NaN           NaN\n",
       "16922   KARTUS       ÖZEL    2023/02  1/6/2023 0:00  ALYANS MEDİKAL TİC.LTD. ŞTİ.  ANKARA  2022/07-5236      NaN             NaN           NaN\n",
       "16923   KARTUS       ÖZEL    2023/02  1/6/2023 0:00  ALYANS MEDİKAL TİC.LTD. ŞTİ.  ANKARA  2022/07-5237      NaN             NaN           NaN\n",
       "16924   KARTUS       ÖZEL    2023/02  1/6/2023 0:00  ALYANS MEDİKAL TİC.LTD. ŞTİ.  ANKARA  2022/07-5238      NaN             NaN           NaN\n",
       "16925   KARTUS       ÖZEL    2023/02  1/6/2023 0:00  ALYANS MEDİKAL TİC.LTD. ŞTİ.  ANKARA  2022/07-5239      NaN             NaN           NaN\n",
       "16926   KARTUS       ÖZEL    2023/02  1/6/2023 0:00  ALYANS MEDİKAL TİC.LTD. ŞTİ.  ANKARA  2022/07-5240      NaN             NaN           NaN\n",
       "16927   KARTUS       ÖZEL    2023/02  1/6/2023 0:00  ALYANS MEDİKAL TİC.LTD. ŞTİ.  ANKARA  2022/07-5241      NaN             NaN           NaN\n",
       "16928   KARTUS       ÖZEL    2023/02  1/6/2023 0:00  ALYANS MEDİKAL TİC.LTD. ŞTİ.  ANKARA  2022/07-5242      NaN             NaN           NaN\n",
       "16929   KARTUS       ÖZEL    2023/02  1/6/2023 0:00  ALYANS MEDİKAL TİC.LTD. ŞTİ.  ANKARA  2022/07-5243      NaN             NaN           NaN\n",
       "16930   KARTUS       ÖZEL    2023/02  1/6/2023 0:00  ALYANS MEDİKAL TİC.LTD. ŞTİ.  ANKARA  2022/07-5244      NaN             NaN           NaN\n",
       "16931   KARTUS       ÖZEL    2023/02  1/6/2023 0:00  ALYANS MEDİKAL TİC.LTD. ŞTİ.  ANKARA  2022/07-5245      NaN             NaN           NaN\n",
       "16932   KARTUS       ÖZEL    2023/02  1/6/2023 0:00  ALYANS MEDİKAL TİC.LTD. ŞTİ.  ANKARA  2022/07-5246      NaN             NaN           NaN\n",
       "16933   KARTUS       ÖZEL    2023/02  1/6/2023 0:00  ALYANS MEDİKAL TİC.LTD. ŞTİ.  ANKARA  2022/07-5247      NaN             NaN           NaN\n",
       "16934   KARTUS       ÖZEL    2023/02  1/6/2023 0:00  ALYANS MEDİKAL TİC.LTD. ŞTİ.  ANKARA  2022/07-5248      NaN             NaN           NaN\n",
       "16935   KARTUS       ÖZEL    2023/02  1/6/2023 0:00  ALYANS MEDİKAL TİC.LTD. ŞTİ.  ANKARA  2022/07-5249      NaN             NaN           NaN\n",
       "16936   KARTUS       ÖZEL    2023/02  1/6/2023 0:00  ALYANS MEDİKAL TİC.LTD. ŞTİ.  ANKARA  2022/07-5250      NaN             NaN           NaN\n",
       "16937   KARTUS       ÖZEL    2023/02  1/6/2023 0:00  ALYANS MEDİKAL TİC.LTD. ŞTİ.  ANKARA  2022/07-5251      NaN             NaN           NaN\n",
       "16938   KARTUS       ÖZEL    2023/02  1/6/2023 0:00  ALYANS MEDİKAL TİC.LTD. ŞTİ.  ANKARA  2022/07-5252      NaN             NaN           NaN\n",
       "16939   KARTUS       ÖZEL    2023/02  1/6/2023 0:00  ALYANS MEDİKAL TİC.LTD. ŞTİ.  ANKARA  2022/07-5253      NaN             NaN           NaN\n",
       "16940   KARTUS       ÖZEL    2023/02  1/6/2023 0:00  ALYANS MEDİKAL TİC.LTD. ŞTİ.  ANKARA  2022/07-5254      NaN             NaN           NaN\n",
       "16941   KARTUS       ÖZEL    2023/02  1/6/2023 0:00  ALYANS MEDİKAL TİC.LTD. ŞTİ.  ANKARA  2022/07-5255      NaN             NaN           NaN\n",
       "16942   KARTUS       ÖZEL    2023/02  1/6/2023 0:00  ALYANS MEDİKAL TİC.LTD. ŞTİ.  ANKARA  2022/07-5256      NaN             NaN           NaN\n",
       "16943   KARTUS       ÖZEL    2023/02  1/6/2023 0:00  ALYANS MEDİKAL TİC.LTD. ŞTİ.  ANKARA  2022/07-5257      NaN             NaN           NaN\n",
       "16944   KARTUS       ÖZEL    2023/02  1/6/2023 0:00  ALYANS MEDİKAL TİC.LTD. ŞTİ.  ANKARA  2022/07-5258      NaN             NaN           NaN\n",
       "16945   KARTUS       ÖZEL    2023/02  1/6/2023 0:00  ALYANS MEDİKAL TİC.LTD. ŞTİ.  ANKARA  2022/07-5259      NaN             NaN           NaN\n",
       "16946   KARTUS       ÖZEL    2023/02  1/6/2023 0:00  ALYANS MEDİKAL TİC.LTD. ŞTİ.  ANKARA  2022/07-5260      NaN             NaN           NaN\n",
       "16947   KARTUS       ÖZEL    2023/02  1/6/2023 0:00  ALYANS MEDİKAL TİC.LTD. ŞTİ.  ANKARA  2022/07-5261      NaN             NaN           NaN\n",
       "16948   KARTUS       ÖZEL    2023/02  1/6/2023 0:00  ALYANS MEDİKAL TİC.LTD. ŞTİ.  ANKARA  2022/07-5262      NaN             NaN           NaN\n",
       "16949   KARTUS       ÖZEL    2023/02  1/6/2023 0:00  ALYANS MEDİKAL TİC.LTD. ŞTİ.  ANKARA  2022/07-5263      NaN             NaN           NaN\n",
       "16950   KARTUS       ÖZEL    2023/02  1/6/2023 0:00  ALYANS MEDİKAL TİC.LTD. ŞTİ.  ANKARA  2022/07-5264      NaN             NaN           NaN\n",
       "16951   KARTUS       ÖZEL    2023/02  1/6/2023 0:00  ALYANS MEDİKAL TİC.LTD. ŞTİ.  ANKARA  2022/07-5265      NaN             NaN           NaN"
      ]
     },
     "execution_count": 23,
     "metadata": {},
     "output_type": "execute_result"
    }
   ],
   "source": [
    "df_kartus[df_kartus['siparis_no'] == '2023/02']"
   ]
  },
  {
   "cell_type": "code",
   "execution_count": 24,
   "id": "f54aad2a",
   "metadata": {
    "ExecuteTime": {
     "end_time": "2024-10-31T21:39:07.111002Z",
     "start_time": "2024-10-31T21:39:07.100168Z"
    }
   },
   "outputs": [
    {
     "data": {
      "text/html": [
       "<div>\n",
       "<style scoped>\n",
       "    .dataframe tbody tr th:only-of-type {\n",
       "        vertical-align: middle;\n",
       "    }\n",
       "\n",
       "    .dataframe tbody tr th {\n",
       "        vertical-align: top;\n",
       "    }\n",
       "\n",
       "    .dataframe thead th {\n",
       "        text-align: right;\n",
       "    }\n",
       "</style>\n",
       "<table border=\"1\" class=\"dataframe\">\n",
       "  <thead>\n",
       "    <tr style=\"text-align: right;\">\n",
       "      <th></th>\n",
       "      <th>kategori</th>\n",
       "      <th>satis_turu</th>\n",
       "      <th>siparis_no</th>\n",
       "      <th>siparis_tarihi</th>\n",
       "      <th>siparisi_veren</th>\n",
       "      <th>il</th>\n",
       "      <th>seri_no</th>\n",
       "      <th>aciklama</th>\n",
       "      <th>solusyon_fatura</th>\n",
       "      <th>bidon_acilisi</th>\n",
       "    </tr>\n",
       "  </thead>\n",
       "  <tbody>\n",
       "  </tbody>\n",
       "</table>\n",
       "</div>"
      ],
      "text/plain": [
       "Empty DataFrame\n",
       "Columns: [kategori, satis_turu, siparis_no, siparis_tarihi, siparisi_veren, il, seri_no, aciklama, solusyon_fatura, bidon_acilisi]\n",
       "Index: []"
      ]
     },
     "execution_count": 24,
     "metadata": {},
     "output_type": "execute_result"
    }
   ],
   "source": [
    "# 'siparis_tarihi' sütununda 'AKSARAY' olan değeri '1/6/2023 0:00' ile değiştirme\n",
    "df_kartus.loc[df_kartus['siparis_tarihi'] == 'AKSARAY', 'siparis_tarihi'] = '1/6/2023 0:00'\n",
    "\n",
    "# Değişikliği kontrol etmek için\n",
    "df_kartus[df_kartus['siparis_tarihi'].str.contains('AKSARAY', na=False, case=False)]"
   ]
  },
  {
   "cell_type": "code",
   "execution_count": 25,
   "id": "971284ea",
   "metadata": {
    "ExecuteTime": {
     "end_time": "2024-10-31T21:39:07.113003Z",
     "start_time": "2024-10-31T21:39:07.111731Z"
    }
   },
   "outputs": [],
   "source": [
    "# SIPARIS TARIHI sutunundaki null degerler SIPARIS NO ve SIPARISI VEREN sutunlarina bakilirak doldurulabilir. "
   ]
  },
  {
   "cell_type": "code",
   "execution_count": 26,
   "id": "9b616a12",
   "metadata": {
    "ExecuteTime": {
     "end_time": "2024-10-31T21:39:07.118735Z",
     "start_time": "2024-10-31T21:39:07.113830Z"
    }
   },
   "outputs": [
    {
     "data": {
      "text/html": [
       "<div>\n",
       "<style scoped>\n",
       "    .dataframe tbody tr th:only-of-type {\n",
       "        vertical-align: middle;\n",
       "    }\n",
       "\n",
       "    .dataframe tbody tr th {\n",
       "        vertical-align: top;\n",
       "    }\n",
       "\n",
       "    .dataframe thead th {\n",
       "        text-align: right;\n",
       "    }\n",
       "</style>\n",
       "<table border=\"1\" class=\"dataframe\">\n",
       "  <thead>\n",
       "    <tr style=\"text-align: right;\">\n",
       "      <th></th>\n",
       "      <th>kategori</th>\n",
       "      <th>satis_turu</th>\n",
       "      <th>siparis_no</th>\n",
       "      <th>siparis_tarihi</th>\n",
       "      <th>siparisi_veren</th>\n",
       "      <th>il</th>\n",
       "      <th>seri_no</th>\n",
       "      <th>aciklama</th>\n",
       "      <th>solusyon_fatura</th>\n",
       "      <th>bidon_acilisi</th>\n",
       "    </tr>\n",
       "  </thead>\n",
       "  <tbody>\n",
       "    <tr>\n",
       "      <th>52</th>\n",
       "      <td>KARTUS</td>\n",
       "      <td>NaN</td>\n",
       "      <td>2018/004</td>\n",
       "      <td>NaN</td>\n",
       "      <td>AYVALIK DEVLET HAST (DEMO)</td>\n",
       "      <td>NaN</td>\n",
       "      <td>2018/07-0053</td>\n",
       "      <td>NaN</td>\n",
       "      <td>NaN</td>\n",
       "      <td>NaN</td>\n",
       "    </tr>\n",
       "    <tr>\n",
       "      <th>53</th>\n",
       "      <td>KARTUS</td>\n",
       "      <td>NaN</td>\n",
       "      <td>2018/004</td>\n",
       "      <td>NaN</td>\n",
       "      <td>AYVALIK DEVLET HAST (DEMO)</td>\n",
       "      <td>NaN</td>\n",
       "      <td>2018/07-0054</td>\n",
       "      <td>NaN</td>\n",
       "      <td>NaN</td>\n",
       "      <td>NaN</td>\n",
       "    </tr>\n",
       "  </tbody>\n",
       "</table>\n",
       "</div>"
      ],
      "text/plain": [
       "   kategori satis_turu siparis_no siparis_tarihi              siparisi_veren   il       seri_no aciklama solusyon_fatura bidon_acilisi\n",
       "52   KARTUS        NaN   2018/004            NaN  AYVALIK DEVLET HAST (DEMO)  NaN  2018/07-0053      NaN             NaN           NaN\n",
       "53   KARTUS        NaN   2018/004            NaN  AYVALIK DEVLET HAST (DEMO)  NaN  2018/07-0054      NaN             NaN           NaN"
      ]
     },
     "execution_count": 26,
     "metadata": {},
     "output_type": "execute_result"
    }
   ],
   "source": [
    "df_kartus[df_kartus[\"siparis_no\"] == \"2018/004\"]"
   ]
  },
  {
   "cell_type": "code",
   "execution_count": 27,
   "id": "ee6e042e",
   "metadata": {
    "ExecuteTime": {
     "end_time": "2024-10-31T21:39:07.124517Z",
     "start_time": "2024-10-31T21:39:07.119405Z"
    }
   },
   "outputs": [
    {
     "data": {
      "text/html": [
       "<div>\n",
       "<style scoped>\n",
       "    .dataframe tbody tr th:only-of-type {\n",
       "        vertical-align: middle;\n",
       "    }\n",
       "\n",
       "    .dataframe tbody tr th {\n",
       "        vertical-align: top;\n",
       "    }\n",
       "\n",
       "    .dataframe thead th {\n",
       "        text-align: right;\n",
       "    }\n",
       "</style>\n",
       "<table border=\"1\" class=\"dataframe\">\n",
       "  <thead>\n",
       "    <tr style=\"text-align: right;\">\n",
       "      <th></th>\n",
       "      <th>kategori</th>\n",
       "      <th>satis_turu</th>\n",
       "      <th>siparis_no</th>\n",
       "      <th>siparis_tarihi</th>\n",
       "      <th>siparisi_veren</th>\n",
       "      <th>il</th>\n",
       "      <th>seri_no</th>\n",
       "      <th>aciklama</th>\n",
       "      <th>solusyon_fatura</th>\n",
       "      <th>bidon_acilisi</th>\n",
       "    </tr>\n",
       "  </thead>\n",
       "  <tbody>\n",
       "    <tr>\n",
       "      <th>54</th>\n",
       "      <td>KARTUS</td>\n",
       "      <td>NaN</td>\n",
       "      <td>2018/005</td>\n",
       "      <td>1/11/2018</td>\n",
       "      <td>HİTİT ÜNİVERSİTESİ ÇORUM EROL OLÇOK EĞİTİM ARA...</td>\n",
       "      <td>ÇORUM</td>\n",
       "      <td>2018/07-0055</td>\n",
       "      <td>NaN</td>\n",
       "      <td>NaN</td>\n",
       "      <td>NaN</td>\n",
       "    </tr>\n",
       "    <tr>\n",
       "      <th>55</th>\n",
       "      <td>KARTUS</td>\n",
       "      <td>NaN</td>\n",
       "      <td>2018/005</td>\n",
       "      <td>1/11/2018</td>\n",
       "      <td>HİTİT ÜNİVERSİTESİ ÇORUM EROL OLÇOK EĞİTİM ARA...</td>\n",
       "      <td>ÇORUM</td>\n",
       "      <td>2018/07-0056</td>\n",
       "      <td>NaN</td>\n",
       "      <td>NaN</td>\n",
       "      <td>NaN</td>\n",
       "    </tr>\n",
       "    <tr>\n",
       "      <th>56</th>\n",
       "      <td>KARTUS</td>\n",
       "      <td>NaN</td>\n",
       "      <td>2018/005</td>\n",
       "      <td>1/11/2018</td>\n",
       "      <td>HİTİT ÜNİVERSİTESİ ÇORUM EROL OLÇOK EĞİTİM ARA...</td>\n",
       "      <td>ÇORUM</td>\n",
       "      <td>2018/07-0057</td>\n",
       "      <td>NaN</td>\n",
       "      <td>NaN</td>\n",
       "      <td>NaN</td>\n",
       "    </tr>\n",
       "    <tr>\n",
       "      <th>57</th>\n",
       "      <td>KARTUS</td>\n",
       "      <td>NaN</td>\n",
       "      <td>2018/005</td>\n",
       "      <td>1/11/2018</td>\n",
       "      <td>HİTİT ÜNİVERSİTESİ ÇORUM EROL OLÇOK EĞİTİM ARA...</td>\n",
       "      <td>ÇORUM</td>\n",
       "      <td>2018/07-0058</td>\n",
       "      <td>NaN</td>\n",
       "      <td>NaN</td>\n",
       "      <td>NaN</td>\n",
       "    </tr>\n",
       "    <tr>\n",
       "      <th>58</th>\n",
       "      <td>KARTUS</td>\n",
       "      <td>NaN</td>\n",
       "      <td>2018/005</td>\n",
       "      <td>1/11/2018</td>\n",
       "      <td>HİTİT ÜNİVERSİTESİ ÇORUM EROL OLÇOK EĞİTİM ARA...</td>\n",
       "      <td>ÇORUM</td>\n",
       "      <td>2018/07-0059</td>\n",
       "      <td>NaN</td>\n",
       "      <td>NaN</td>\n",
       "      <td>NaN</td>\n",
       "    </tr>\n",
       "    <tr>\n",
       "      <th>59</th>\n",
       "      <td>KARTUS</td>\n",
       "      <td>NaN</td>\n",
       "      <td>2018/005</td>\n",
       "      <td>1/11/2018</td>\n",
       "      <td>HİTİT ÜNİVERSİTESİ ÇORUM EROL OLÇOK EĞİTİM ARA...</td>\n",
       "      <td>ÇORUM</td>\n",
       "      <td>2018/07-0060</td>\n",
       "      <td>NaN</td>\n",
       "      <td>NaN</td>\n",
       "      <td>NaN</td>\n",
       "    </tr>\n",
       "    <tr>\n",
       "      <th>60</th>\n",
       "      <td>KARTUS</td>\n",
       "      <td>NaN</td>\n",
       "      <td>2018/005</td>\n",
       "      <td>1/11/2018</td>\n",
       "      <td>HİTİT ÜNİVERSİTESİ ÇORUM EROL OLÇOK EĞİTİM ARA...</td>\n",
       "      <td>ÇORUM</td>\n",
       "      <td>2018/07-0061</td>\n",
       "      <td>NaN</td>\n",
       "      <td>NaN</td>\n",
       "      <td>NaN</td>\n",
       "    </tr>\n",
       "    <tr>\n",
       "      <th>61</th>\n",
       "      <td>KARTUS</td>\n",
       "      <td>NaN</td>\n",
       "      <td>2018/005</td>\n",
       "      <td>1/11/2018</td>\n",
       "      <td>HİTİT ÜNİVERSİTESİ ÇORUM EROL OLÇOK EĞİTİM ARA...</td>\n",
       "      <td>ÇORUM</td>\n",
       "      <td>2018/07-0062</td>\n",
       "      <td>NaN</td>\n",
       "      <td>NaN</td>\n",
       "      <td>NaN</td>\n",
       "    </tr>\n",
       "    <tr>\n",
       "      <th>62</th>\n",
       "      <td>KARTUS</td>\n",
       "      <td>NaN</td>\n",
       "      <td>2018/005</td>\n",
       "      <td>1/11/2018</td>\n",
       "      <td>HİTİT ÜNİVERSİTESİ ÇORUM EROL OLÇOK EĞİTİM ARA...</td>\n",
       "      <td>ÇORUM</td>\n",
       "      <td>2018/07-0063</td>\n",
       "      <td>NaN</td>\n",
       "      <td>NaN</td>\n",
       "      <td>NaN</td>\n",
       "    </tr>\n",
       "    <tr>\n",
       "      <th>63</th>\n",
       "      <td>KARTUS</td>\n",
       "      <td>NaN</td>\n",
       "      <td>2018/005</td>\n",
       "      <td>1/11/2018</td>\n",
       "      <td>HİTİT ÜNİVERSİTESİ ÇORUM EROL OLÇOK EĞİTİM ARA...</td>\n",
       "      <td>ÇORUM</td>\n",
       "      <td>2018/07-0064</td>\n",
       "      <td>NaN</td>\n",
       "      <td>NaN</td>\n",
       "      <td>NaN</td>\n",
       "    </tr>\n",
       "  </tbody>\n",
       "</table>\n",
       "</div>"
      ],
      "text/plain": [
       "   kategori satis_turu siparis_no siparis_tarihi                                     siparisi_veren     il       seri_no aciklama solusyon_fatura bidon_acilisi\n",
       "54   KARTUS        NaN   2018/005      1/11/2018  HİTİT ÜNİVERSİTESİ ÇORUM EROL OLÇOK EĞİTİM ARA...  ÇORUM  2018/07-0055      NaN             NaN           NaN\n",
       "55   KARTUS        NaN   2018/005      1/11/2018  HİTİT ÜNİVERSİTESİ ÇORUM EROL OLÇOK EĞİTİM ARA...  ÇORUM  2018/07-0056      NaN             NaN           NaN\n",
       "56   KARTUS        NaN   2018/005      1/11/2018  HİTİT ÜNİVERSİTESİ ÇORUM EROL OLÇOK EĞİTİM ARA...  ÇORUM  2018/07-0057      NaN             NaN           NaN\n",
       "57   KARTUS        NaN   2018/005      1/11/2018  HİTİT ÜNİVERSİTESİ ÇORUM EROL OLÇOK EĞİTİM ARA...  ÇORUM  2018/07-0058      NaN             NaN           NaN\n",
       "58   KARTUS        NaN   2018/005      1/11/2018  HİTİT ÜNİVERSİTESİ ÇORUM EROL OLÇOK EĞİTİM ARA...  ÇORUM  2018/07-0059      NaN             NaN           NaN\n",
       "59   KARTUS        NaN   2018/005      1/11/2018  HİTİT ÜNİVERSİTESİ ÇORUM EROL OLÇOK EĞİTİM ARA...  ÇORUM  2018/07-0060      NaN             NaN           NaN\n",
       "60   KARTUS        NaN   2018/005      1/11/2018  HİTİT ÜNİVERSİTESİ ÇORUM EROL OLÇOK EĞİTİM ARA...  ÇORUM  2018/07-0061      NaN             NaN           NaN\n",
       "61   KARTUS        NaN   2018/005      1/11/2018  HİTİT ÜNİVERSİTESİ ÇORUM EROL OLÇOK EĞİTİM ARA...  ÇORUM  2018/07-0062      NaN             NaN           NaN\n",
       "62   KARTUS        NaN   2018/005      1/11/2018  HİTİT ÜNİVERSİTESİ ÇORUM EROL OLÇOK EĞİTİM ARA...  ÇORUM  2018/07-0063      NaN             NaN           NaN\n",
       "63   KARTUS        NaN   2018/005      1/11/2018  HİTİT ÜNİVERSİTESİ ÇORUM EROL OLÇOK EĞİTİM ARA...  ÇORUM  2018/07-0064      NaN             NaN           NaN"
      ]
     },
     "execution_count": 27,
     "metadata": {},
     "output_type": "execute_result"
    }
   ],
   "source": [
    "df_kartus[df_kartus[\"siparis_no\"] == \"2018/005\"]"
   ]
  },
  {
   "cell_type": "code",
   "execution_count": 28,
   "id": "bb819c97",
   "metadata": {
    "ExecuteTime": {
     "end_time": "2024-10-31T21:39:07.126578Z",
     "start_time": "2024-10-31T21:39:07.125409Z"
    }
   },
   "outputs": [],
   "source": [
    "# 2018/005 nolu siparisin tarihinin 1/11/2018 oldugunu goruyoruz.\n",
    "# bu sebeple 2018/004 nolu siparislerin bu tarihte vevya bu tarihten once oldugunu dusunebiliriz \n",
    "# haftaici hafftasonu goz onunde bulndurularak 1/11/2018 tarihinden once olacak sekilde doldurulmustur"
   ]
  },
  {
   "cell_type": "code",
   "execution_count": 29,
   "id": "1bb27fdc",
   "metadata": {
    "ExecuteTime": {
     "end_time": "2024-10-31T21:39:07.133122Z",
     "start_time": "2024-10-31T21:39:07.130311Z"
    }
   },
   "outputs": [],
   "source": [
    "# \"siparis_no\" sütununda \"2018/004\" olan satırların \"siparis_tarihi\" değerini \"1/10/2018\" olarak güncelleme\n",
    "df_kartus.loc[df_kartus[\"siparis_no\"] == \"2018/004\", \"siparis_tarihi\"] = \"1/10/2018\""
   ]
  },
  {
   "cell_type": "code",
   "execution_count": 30,
   "id": "3b2d3de0",
   "metadata": {
    "ExecuteTime": {
     "end_time": "2024-10-31T21:39:07.138294Z",
     "start_time": "2024-10-31T21:39:07.133861Z"
    }
   },
   "outputs": [
    {
     "data": {
      "text/html": [
       "<div>\n",
       "<style scoped>\n",
       "    .dataframe tbody tr th:only-of-type {\n",
       "        vertical-align: middle;\n",
       "    }\n",
       "\n",
       "    .dataframe tbody tr th {\n",
       "        vertical-align: top;\n",
       "    }\n",
       "\n",
       "    .dataframe thead th {\n",
       "        text-align: right;\n",
       "    }\n",
       "</style>\n",
       "<table border=\"1\" class=\"dataframe\">\n",
       "  <thead>\n",
       "    <tr style=\"text-align: right;\">\n",
       "      <th></th>\n",
       "      <th>kategori</th>\n",
       "      <th>satis_turu</th>\n",
       "      <th>siparis_no</th>\n",
       "      <th>siparis_tarihi</th>\n",
       "      <th>siparisi_veren</th>\n",
       "      <th>il</th>\n",
       "      <th>seri_no</th>\n",
       "      <th>aciklama</th>\n",
       "      <th>solusyon_fatura</th>\n",
       "      <th>bidon_acilisi</th>\n",
       "    </tr>\n",
       "  </thead>\n",
       "  <tbody>\n",
       "    <tr>\n",
       "      <th>52</th>\n",
       "      <td>KARTUS</td>\n",
       "      <td>NaN</td>\n",
       "      <td>2018/004</td>\n",
       "      <td>1/10/2018</td>\n",
       "      <td>AYVALIK DEVLET HAST (DEMO)</td>\n",
       "      <td>NaN</td>\n",
       "      <td>2018/07-0053</td>\n",
       "      <td>NaN</td>\n",
       "      <td>NaN</td>\n",
       "      <td>NaN</td>\n",
       "    </tr>\n",
       "    <tr>\n",
       "      <th>53</th>\n",
       "      <td>KARTUS</td>\n",
       "      <td>NaN</td>\n",
       "      <td>2018/004</td>\n",
       "      <td>1/10/2018</td>\n",
       "      <td>AYVALIK DEVLET HAST (DEMO)</td>\n",
       "      <td>NaN</td>\n",
       "      <td>2018/07-0054</td>\n",
       "      <td>NaN</td>\n",
       "      <td>NaN</td>\n",
       "      <td>NaN</td>\n",
       "    </tr>\n",
       "  </tbody>\n",
       "</table>\n",
       "</div>"
      ],
      "text/plain": [
       "   kategori satis_turu siparis_no siparis_tarihi              siparisi_veren   il       seri_no aciklama solusyon_fatura bidon_acilisi\n",
       "52   KARTUS        NaN   2018/004      1/10/2018  AYVALIK DEVLET HAST (DEMO)  NaN  2018/07-0053      NaN             NaN           NaN\n",
       "53   KARTUS        NaN   2018/004      1/10/2018  AYVALIK DEVLET HAST (DEMO)  NaN  2018/07-0054      NaN             NaN           NaN"
      ]
     },
     "execution_count": 30,
     "metadata": {},
     "output_type": "execute_result"
    }
   ],
   "source": [
    "df_kartus[df_kartus[\"siparis_no\"] == \"2018/004\"]"
   ]
  },
  {
   "cell_type": "code",
   "execution_count": 31,
   "id": "9a42a670",
   "metadata": {
    "ExecuteTime": {
     "end_time": "2024-10-31T21:39:07.141700Z",
     "start_time": "2024-10-31T21:39:07.139103Z"
    }
   },
   "outputs": [],
   "source": [
    "df_kartus.loc[df_kartus[\"siparis_no\"] == \"2018/003\", \"siparis_tarihi\"] = \"1/9/2018\""
   ]
  },
  {
   "cell_type": "code",
   "execution_count": 32,
   "id": "deff50f2",
   "metadata": {
    "ExecuteTime": {
     "end_time": "2024-10-31T21:39:07.145263Z",
     "start_time": "2024-10-31T21:39:07.142576Z"
    }
   },
   "outputs": [],
   "source": [
    "df_kartus.loc[df_kartus[\"siparis_no\"] == \"2018/002\", \"siparis_tarihi\"] = \"1/8/2018\""
   ]
  },
  {
   "cell_type": "code",
   "execution_count": 33,
   "id": "afe18009",
   "metadata": {
    "ExecuteTime": {
     "end_time": "2024-10-31T21:39:07.148612Z",
     "start_time": "2024-10-31T21:39:07.145903Z"
    }
   },
   "outputs": [],
   "source": [
    "df_kartus.loc[df_kartus[\"siparis_no\"] == \"2018/001\", \"siparis_tarihi\"] = \"1/5/2018\""
   ]
  },
  {
   "cell_type": "code",
   "execution_count": 34,
   "id": "6990b866",
   "metadata": {
    "ExecuteTime": {
     "end_time": "2024-10-31T21:39:07.154550Z",
     "start_time": "2024-10-31T21:39:07.149401Z"
    }
   },
   "outputs": [],
   "source": [
    "# \"siparis_no\" ve \"siparis_tarihi\" sütunları NaN olan satırları filtreleyip kaldırma\n",
    "df_kartus = df_kartus.loc[~(df_kartus[\"siparis_no\"].isna() & df_kartus[\"siparis_tarihi\"].isna())]\n"
   ]
  },
  {
   "cell_type": "code",
   "execution_count": 35,
   "id": "f5f45f8e",
   "metadata": {
    "ExecuteTime": {
     "end_time": "2024-10-31T21:39:07.158227Z",
     "start_time": "2024-10-31T21:39:07.155438Z"
    }
   },
   "outputs": [
    {
     "data": {
      "text/plain": [
       "206"
      ]
     },
     "execution_count": 35,
     "metadata": {},
     "output_type": "execute_result"
    }
   ],
   "source": [
    "df_kartus[\"siparis_tarihi\"].isnull().sum()"
   ]
  },
  {
   "cell_type": "code",
   "execution_count": 36,
   "id": "842ac7ad",
   "metadata": {
    "ExecuteTime": {
     "end_time": "2024-10-31T21:39:07.163979Z",
     "start_time": "2024-10-31T21:39:07.158915Z"
    }
   },
   "outputs": [],
   "source": [
    "# siparis numarasi belli olan ama tarihi belli olmayan satirlar mantikli bir sekilde dolduruldu \n",
    "\n",
    "# 2022/45 sipariş numarasına sahip olanın sipariş tarihini güncelle\n",
    "df_kartus.loc[df_kartus['siparis_no'] == \"2022/45\", 'siparis_tarihi'] = '10/6/2022'\n",
    "\n",
    "# 2022/47 sipariş numarasına sahip olanın sipariş tarihini güncelle\n",
    "df_kartus.loc[df_kartus['siparis_no'] == \"2022/47\", 'siparis_tarihi'] = '14/6/2022'\n",
    "\n",
    "# 2022/48 sipariş numarasına sahip olanın sipariş tarihini güncelle\n",
    "df_kartus.loc[df_kartus['siparis_no'] == \"2022/48\", 'siparis_tarihi'] = '15/6/2022'\n"
   ]
  },
  {
   "cell_type": "code",
   "execution_count": 37,
   "id": "077b2822",
   "metadata": {
    "ExecuteTime": {
     "end_time": "2024-10-31T21:39:07.167467Z",
     "start_time": "2024-10-31T21:39:07.164773Z"
    }
   },
   "outputs": [
    {
     "data": {
      "text/plain": [
       "99"
      ]
     },
     "execution_count": 37,
     "metadata": {},
     "output_type": "execute_result"
    }
   ],
   "source": [
    "df_kartus[\"siparis_tarihi\"].isnull().sum()"
   ]
  },
  {
   "cell_type": "code",
   "execution_count": 38,
   "id": "8f45ca84",
   "metadata": {
    "ExecuteTime": {
     "end_time": "2024-10-31T21:39:07.174465Z",
     "start_time": "2024-10-31T21:39:07.168196Z"
    }
   },
   "outputs": [
    {
     "name": "stdout",
     "output_type": "stream",
     "text": [
      "      kategori satis_turu siparis_no siparis_tarihi                      siparisi_veren       il       seri_no aciklama solusyon_fatura bidon_acilisi\n",
      "26860   KARTUS      İHALE   2024/102      12/8/2024  BİLECİK EĞİTİM ARAŞTIRMA HASTANESİ  BİLECİK  2024/07-3731      NaN             NaN           NaN\n",
      "26861   KARTUS      İHALE   2024/102      12/8/2024  BİLECİK EĞİTİM ARAŞTIRMA HASTANESİ  BİLECİK  2024/07-3732      NaN             NaN           NaN\n",
      "26862   KARTUS      İHALE   2024/102      12/8/2024  BİLECİK EĞİTİM ARAŞTIRMA HASTANESİ  BİLECİK  2024/07-3733      NaN             NaN           NaN\n",
      "26863   KARTUS      İHALE   2024/102      12/8/2024  BİLECİK EĞİTİM ARAŞTIRMA HASTANESİ  BİLECİK  2024/07-3734      NaN             NaN           NaN\n",
      "26864   KARTUS      İHALE   2024/102      12/8/2024  BİLECİK EĞİTİM ARAŞTIRMA HASTANESİ  BİLECİK  2024/07-3735      NaN             NaN           NaN\n",
      "26865   KARTUS      İHALE   2024/102      12/8/2024  BİLECİK EĞİTİM ARAŞTIRMA HASTANESİ  BİLECİK  2024/07-3736      NaN             NaN           NaN\n",
      "26866   KARTUS      İHALE   2024/102      12/8/2024  BİLECİK EĞİTİM ARAŞTIRMA HASTANESİ  BİLECİK  2024/07-3737      NaN             NaN           NaN\n",
      "26867   KARTUS      İHALE   2024/102      12/8/2024  BİLECİK EĞİTİM ARAŞTIRMA HASTANESİ  BİLECİK  2024/07-3738      NaN             NaN           NaN\n",
      "26868   KARTUS      İHALE   2024/102      12/8/2024  BİLECİK EĞİTİM ARAŞTIRMA HASTANESİ  BİLECİK  2024/07-3739      NaN             NaN           NaN\n",
      "26869   KARTUS      İHALE   2024/102      12/8/2024  BİLECİK EĞİTİM ARAŞTIRMA HASTANESİ  BİLECİK  2024/07-3740      NaN             NaN           NaN\n",
      "26870   KARTUS      İHALE   2024/102      12/8/2024  BİLECİK EĞİTİM ARAŞTIRMA HASTANESİ  BİLECİK  2024/07-3741      NaN             NaN           NaN\n",
      "26871   KARTUS      İHALE   2024/102      12/8/2024  BİLECİK EĞİTİM ARAŞTIRMA HASTANESİ  BİLECİK  2024/07-3742      NaN             NaN           NaN\n",
      "26872   KARTUS      İHALE   2024/102      12/8/2024  BİLECİK EĞİTİM ARAŞTIRMA HASTANESİ  BİLECİK  2024/07-3743      NaN             NaN           NaN\n",
      "26873   KARTUS      İHALE   2024/102      12/8/2024  BİLECİK EĞİTİM ARAŞTIRMA HASTANESİ  BİLECİK  2024/07-3744      NaN             NaN           NaN\n",
      "26874   KARTUS      İHALE   2024/102      12/8/2024  BİLECİK EĞİTİM ARAŞTIRMA HASTANESİ  BİLECİK  2024/07-3745      NaN             NaN           NaN\n",
      "26875   KARTUS      İHALE   2024/102      12/8/2024  BİLECİK EĞİTİM ARAŞTIRMA HASTANESİ  BİLECİK  2024/07-3746      NaN             NaN           NaN\n",
      "26876   KARTUS      İHALE   2024/102      12/8/2024  BİLECİK EĞİTİM ARAŞTIRMA HASTANESİ  BİLECİK  2024/07-3747      NaN             NaN           NaN\n",
      "26877   KARTUS      İHALE   2024/102      12/8/2024  BİLECİK EĞİTİM ARAŞTIRMA HASTANESİ  BİLECİK  2024/07-3748      NaN             NaN           NaN\n",
      "26878   KARTUS      İHALE   2024/102      12/8/2024  BİLECİK EĞİTİM ARAŞTIRMA HASTANESİ  BİLECİK  2024/07-3749      NaN             NaN           NaN\n",
      "26879   KARTUS      İHALE   2024/102      12/8/2024  BİLECİK EĞİTİM ARAŞTIRMA HASTANESİ  BİLECİK  2024/07-3750      NaN             NaN           NaN\n",
      "26880   KARTUS      İHALE   2024/102      12/8/2024  BİLECİK EĞİTİM ARAŞTIRMA HASTANESİ  BİLECİK  2024/07-3751      NaN             NaN           NaN\n",
      "26881   KARTUS      İHALE   2024/102      12/8/2024  BİLECİK EĞİTİM ARAŞTIRMA HASTANESİ  BİLECİK  2024/07-3752      NaN             NaN           NaN\n",
      "26882   KARTUS      İHALE   2024/102      12/8/2024  BİLECİK EĞİTİM ARAŞTIRMA HASTANESİ  BİLECİK  2024/07-3753      NaN             NaN           NaN\n",
      "26883   KARTUS      İHALE   2024/102      12/8/2024  BİLECİK EĞİTİM ARAŞTIRMA HASTANESİ  BİLECİK  2024/07-3754      NaN             NaN           NaN\n",
      "26884   KARTUS      İHALE   2024/102      12/8/2024  BİLECİK EĞİTİM ARAŞTIRMA HASTANESİ  BİLECİK  2024/07-3755      NaN             NaN           NaN\n",
      "26885   KARTUS      İHALE   2024/102      12/8/2024  BİLECİK EĞİTİM ARAŞTIRMA HASTANESİ  BİLECİK  2024/07-3756      NaN             NaN           NaN\n",
      "26886   KARTUS      İHALE   2024/102      12/8/2024  BİLECİK EĞİTİM ARAŞTIRMA HASTANESİ  BİLECİK  2024/07-3757      NaN             NaN           NaN\n",
      "26887   KARTUS      İHALE   2024/102      12/8/2024  BİLECİK EĞİTİM ARAŞTIRMA HASTANESİ  BİLECİK  2024/07-3758      NaN             NaN           NaN\n",
      "26888   KARTUS      İHALE   2024/102      12/8/2024  BİLECİK EĞİTİM ARAŞTIRMA HASTANESİ  BİLECİK  2024/07-3759      NaN             NaN           NaN\n",
      "26889   KARTUS      İHALE   2024/102      12/8/2024  BİLECİK EĞİTİM ARAŞTIRMA HASTANESİ  BİLECİK  2024/07-3760      NaN             NaN           NaN\n",
      "26890   KARTUS      İHALE   2024/102      12/8/2024  BİLECİK EĞİTİM ARAŞTIRMA HASTANESİ  BİLECİK  2024/07-3761      NaN             NaN           NaN\n",
      "26891   KARTUS      İHALE   2024/102      12/8/2024  BİLECİK EĞİTİM ARAŞTIRMA HASTANESİ  BİLECİK  2024/07-3762      NaN             NaN           NaN\n",
      "26892   KARTUS      İHALE   2024/102      12/8/2024  BİLECİK EĞİTİM ARAŞTIRMA HASTANESİ  BİLECİK  2024/07-3763      NaN             NaN           NaN\n",
      "26893   KARTUS      İHALE   2024/102      12/8/2024  BİLECİK EĞİTİM ARAŞTIRMA HASTANESİ  BİLECİK  2024/07-3764      NaN             NaN           NaN\n",
      "26894   KARTUS      İHALE   2024/102      12/8/2024  BİLECİK EĞİTİM ARAŞTIRMA HASTANESİ  BİLECİK  2024/07-3765      NaN             NaN           NaN\n",
      "26895   KARTUS      İHALE   2024/102      12/8/2024  BİLECİK EĞİTİM ARAŞTIRMA HASTANESİ  BİLECİK  2024/07-3766      NaN             NaN           NaN\n",
      "26896   KARTUS      İHALE   2024/102      12/8/2024  BİLECİK EĞİTİM ARAŞTIRMA HASTANESİ  BİLECİK  2024/07-3767      NaN             NaN           NaN\n",
      "26897   KARTUS      İHALE   2024/102      12/8/2024  BİLECİK EĞİTİM ARAŞTIRMA HASTANESİ  BİLECİK  2024/07-3768      NaN             NaN           NaN\n",
      "26898   KARTUS      İHALE   2024/102      12/8/2024  BİLECİK EĞİTİM ARAŞTIRMA HASTANESİ  BİLECİK  2024/07-3769      NaN             NaN           NaN\n",
      "26899   KARTUS      İHALE   2024/102      12/8/2024  BİLECİK EĞİTİM ARAŞTIRMA HASTANESİ  BİLECİK  2024/07-3770      NaN             NaN           NaN\n",
      "26900   KARTUS      İHALE   2024/102      12/8/2024  BİLECİK EĞİTİM ARAŞTIRMA HASTANESİ  BİLECİK  2024/07-3771      NaN             NaN           NaN\n",
      "26901   KARTUS      İHALE   2024/102      12/8/2024  BİLECİK EĞİTİM ARAŞTIRMA HASTANESİ  BİLECİK  2024/07-3772      NaN             NaN           NaN\n",
      "26902   KARTUS      İHALE   2024/102      12/8/2024  BİLECİK EĞİTİM ARAŞTIRMA HASTANESİ  BİLECİK  2024/07-3773      NaN             NaN           NaN\n",
      "26903   KARTUS      İHALE   2024/102      12/8/2024  BİLECİK EĞİTİM ARAŞTIRMA HASTANESİ  BİLECİK  2024/07-3774      NaN             NaN           NaN\n",
      "26904   KARTUS      İHALE   2024/102      12/8/2024  BİLECİK EĞİTİM ARAŞTIRMA HASTANESİ  BİLECİK  2024/07-3775      NaN             NaN           NaN\n",
      "26905   KARTUS      İHALE   2024/102      12/8/2024  BİLECİK EĞİTİM ARAŞTIRMA HASTANESİ  BİLECİK  2024/07-3776      NaN             NaN           NaN\n",
      "26906   KARTUS      İHALE   2024/102      12/8/2024  BİLECİK EĞİTİM ARAŞTIRMA HASTANESİ  BİLECİK  2024/07-3777      NaN             NaN           NaN\n",
      "26907   KARTUS      İHALE   2024/102      12/8/2024  BİLECİK EĞİTİM ARAŞTIRMA HASTANESİ  BİLECİK  2024/07-3778      NaN             NaN           NaN\n",
      "26908   KARTUS      İHALE   2024/102      12/8/2024  BİLECİK EĞİTİM ARAŞTIRMA HASTANESİ  BİLECİK  2024/07-3779      NaN             NaN           NaN\n",
      "26909   KARTUS      İHALE   2024/102      12/8/2024  BİLECİK EĞİTİM ARAŞTIRMA HASTANESİ  BİLECİK  2024/07-3780      NaN             NaN           NaN\n",
      "26910   KARTUS      İHALE   2024/102      12/8/2024  BİLECİK EĞİTİM ARAŞTIRMA HASTANESİ  BİLECİK  2024/07-3781      NaN             NaN           NaN\n",
      "26911   KARTUS      İHALE   2024/102      12/8/2024  BİLECİK EĞİTİM ARAŞTIRMA HASTANESİ  BİLECİK  2024/07-3782      NaN             NaN           NaN\n",
      "26912   KARTUS      İHALE   2024/102      12/8/2024  BİLECİK EĞİTİM ARAŞTIRMA HASTANESİ  BİLECİK  2024/07-3783      NaN             NaN           NaN\n",
      "26913   KARTUS      İHALE   2024/102      12/8/2024  BİLECİK EĞİTİM ARAŞTIRMA HASTANESİ  BİLECİK  2024/07-3784      NaN             NaN           NaN\n",
      "26914   KARTUS      İHALE   2024/102      12/8/2024  BİLECİK EĞİTİM ARAŞTIRMA HASTANESİ  BİLECİK  2024/07-3785      NaN             NaN           NaN\n",
      "26915   KARTUS      İHALE   2024/102      12/8/2024  BİLECİK EĞİTİM ARAŞTIRMA HASTANESİ  BİLECİK  2024/07-3786      NaN             NaN           NaN\n",
      "26916   KARTUS      İHALE   2024/102      12/8/2024  BİLECİK EĞİTİM ARAŞTIRMA HASTANESİ  BİLECİK  2024/07-3787      NaN             NaN           NaN\n",
      "26917   KARTUS      İHALE   2024/102      12/8/2024  BİLECİK EĞİTİM ARAŞTIRMA HASTANESİ  BİLECİK  2024/07-3788      NaN             NaN           NaN\n",
      "26918   KARTUS      İHALE   2024/102      12/8/2024  BİLECİK EĞİTİM ARAŞTIRMA HASTANESİ  BİLECİK  2024/07-3789      NaN             NaN           NaN\n",
      "26919   KARTUS      İHALE   2024/102      12/8/2024  BİLECİK EĞİTİM ARAŞTIRMA HASTANESİ  BİLECİK  2024/07-3790      NaN             NaN           NaN\n"
     ]
    }
   ],
   "source": [
    "# ay oalrak 0. girilen tarih duzeltildi\n",
    "\n",
    "# siparis_tarihi 12.0.2024 olan satırları 12/8/2024 ile güncelle\n",
    "df_kartus.loc[df_kartus['siparis_tarihi'] == '12.0.2024', 'siparis_tarihi'] = '12/8/2024'\n",
    "\n",
    "# Güncellemeleri kontrol etme\n",
    "print(df_kartus[df_kartus['siparis_tarihi'] == '12/8/2024'])\n"
   ]
  },
  {
   "cell_type": "code",
   "execution_count": 39,
   "id": "4f420bc9",
   "metadata": {
    "ExecuteTime": {
     "end_time": "2024-10-31T21:39:07.180542Z",
     "start_time": "2024-10-31T21:39:07.175422Z"
    }
   },
   "outputs": [
    {
     "data": {
      "text/html": [
       "<div>\n",
       "<style scoped>\n",
       "    .dataframe tbody tr th:only-of-type {\n",
       "        vertical-align: middle;\n",
       "    }\n",
       "\n",
       "    .dataframe tbody tr th {\n",
       "        vertical-align: top;\n",
       "    }\n",
       "\n",
       "    .dataframe thead th {\n",
       "        text-align: right;\n",
       "    }\n",
       "</style>\n",
       "<table border=\"1\" class=\"dataframe\">\n",
       "  <thead>\n",
       "    <tr style=\"text-align: right;\">\n",
       "      <th></th>\n",
       "      <th>kategori</th>\n",
       "      <th>satis_turu</th>\n",
       "      <th>siparis_no</th>\n",
       "      <th>siparis_tarihi</th>\n",
       "      <th>siparisi_veren</th>\n",
       "      <th>il</th>\n",
       "      <th>seri_no</th>\n",
       "      <th>aciklama</th>\n",
       "      <th>solusyon_fatura</th>\n",
       "      <th>bidon_acilisi</th>\n",
       "    </tr>\n",
       "  </thead>\n",
       "  <tbody>\n",
       "    <tr>\n",
       "      <th>1774</th>\n",
       "      <td>KARTUS</td>\n",
       "      <td>NaN</td>\n",
       "      <td>2018/096</td>\n",
       "      <td>NaN</td>\n",
       "      <td>NaN</td>\n",
       "      <td>UKRAYNA</td>\n",
       "      <td>2018/07-1766</td>\n",
       "      <td>SATIŞ</td>\n",
       "      <td>NaN</td>\n",
       "      <td>NaN</td>\n",
       "    </tr>\n",
       "    <tr>\n",
       "      <th>11491</th>\n",
       "      <td>KARTUS</td>\n",
       "      <td>NaN</td>\n",
       "      <td>AKMIŞ KARTUŞ İPTAL OLDU.</td>\n",
       "      <td>NaN</td>\n",
       "      <td>NaN</td>\n",
       "      <td>NaN</td>\n",
       "      <td>2021/07-4322</td>\n",
       "      <td>NaN</td>\n",
       "      <td>NaN</td>\n",
       "      <td>NaN</td>\n",
       "    </tr>\n",
       "    <tr>\n",
       "      <th>12315</th>\n",
       "      <td>KARTUS</td>\n",
       "      <td>DEĞİŞİM</td>\n",
       "      <td>2022/19</td>\n",
       "      <td>NaN</td>\n",
       "      <td>BİTLİS TATVAN DEVLET HASTANESİ</td>\n",
       "      <td>BİTLİS</td>\n",
       "      <td>2022/07-629</td>\n",
       "      <td>İRSALİYE TALİMATI- DĞİŞİM</td>\n",
       "      <td>NaN</td>\n",
       "      <td>NaN</td>\n",
       "    </tr>\n",
       "    <tr>\n",
       "      <th>12316</th>\n",
       "      <td>KARTUS</td>\n",
       "      <td>DEĞİŞİM</td>\n",
       "      <td>2022/19</td>\n",
       "      <td>NaN</td>\n",
       "      <td>BİTLİS TATVAN DEVLET HASTANESİ</td>\n",
       "      <td>BİTLİS</td>\n",
       "      <td>2022/07-630</td>\n",
       "      <td>İRSALİYE TALİMATI- DĞİŞİM</td>\n",
       "      <td>NaN</td>\n",
       "      <td>NaN</td>\n",
       "    </tr>\n",
       "    <tr>\n",
       "      <th>12317</th>\n",
       "      <td>KARTUS</td>\n",
       "      <td>DEĞİŞİM</td>\n",
       "      <td>2022/19</td>\n",
       "      <td>NaN</td>\n",
       "      <td>BİTLİS TATVAN DEVLET HASTANESİ</td>\n",
       "      <td>BİTLİS</td>\n",
       "      <td>2022/07-631</td>\n",
       "      <td>İRSALİYE TALİMATI- DĞİŞİM</td>\n",
       "      <td>NaN</td>\n",
       "      <td>NaN</td>\n",
       "    </tr>\n",
       "    <tr>\n",
       "      <th>...</th>\n",
       "      <td>...</td>\n",
       "      <td>...</td>\n",
       "      <td>...</td>\n",
       "      <td>...</td>\n",
       "      <td>...</td>\n",
       "      <td>...</td>\n",
       "      <td>...</td>\n",
       "      <td>...</td>\n",
       "      <td>...</td>\n",
       "      <td>...</td>\n",
       "    </tr>\n",
       "    <tr>\n",
       "      <th>12427</th>\n",
       "      <td>KARTUS</td>\n",
       "      <td>ALİ BEY</td>\n",
       "      <td>2022/23</td>\n",
       "      <td>NaN</td>\n",
       "      <td>ALİBEY</td>\n",
       "      <td>ALİBEY</td>\n",
       "      <td>2022/07-741</td>\n",
       "      <td>ÖZEL SATIŞ</td>\n",
       "      <td>NaN</td>\n",
       "      <td>NaN</td>\n",
       "    </tr>\n",
       "    <tr>\n",
       "      <th>12428</th>\n",
       "      <td>KARTUS</td>\n",
       "      <td>ALİ BEY</td>\n",
       "      <td>2022/23</td>\n",
       "      <td>NaN</td>\n",
       "      <td>ALİBEY</td>\n",
       "      <td>ALİBEY</td>\n",
       "      <td>2022/07-742</td>\n",
       "      <td>ÖZEL SATIŞ</td>\n",
       "      <td>NaN</td>\n",
       "      <td>NaN</td>\n",
       "    </tr>\n",
       "    <tr>\n",
       "      <th>12429</th>\n",
       "      <td>KARTUS</td>\n",
       "      <td>ALİ BEY</td>\n",
       "      <td>2022/23</td>\n",
       "      <td>NaN</td>\n",
       "      <td>ALİBEY</td>\n",
       "      <td>ALİBEY</td>\n",
       "      <td>2022/07-743</td>\n",
       "      <td>ÖZEL SATIŞ</td>\n",
       "      <td>NaN</td>\n",
       "      <td>NaN</td>\n",
       "    </tr>\n",
       "    <tr>\n",
       "      <th>12430</th>\n",
       "      <td>KARTUS</td>\n",
       "      <td>ALİ BEY</td>\n",
       "      <td>2022/23</td>\n",
       "      <td>NaN</td>\n",
       "      <td>ALİBEY</td>\n",
       "      <td>ALİBEY</td>\n",
       "      <td>2022/07-744</td>\n",
       "      <td>ÖZEL SATIŞ</td>\n",
       "      <td>NaN</td>\n",
       "      <td>NaN</td>\n",
       "    </tr>\n",
       "    <tr>\n",
       "      <th>18389</th>\n",
       "      <td>KARTUS</td>\n",
       "      <td>ARIZALI</td>\n",
       "      <td>2023/48</td>\n",
       "      <td>NaN</td>\n",
       "      <td>NaN</td>\n",
       "      <td>NaN</td>\n",
       "      <td>2023/07-1265</td>\n",
       "      <td>ARIZALI</td>\n",
       "      <td>NaN</td>\n",
       "      <td>NaN</td>\n",
       "    </tr>\n",
       "  </tbody>\n",
       "</table>\n",
       "<p>99 rows × 10 columns</p>\n",
       "</div>"
      ],
      "text/plain": [
       "      kategori satis_turu                siparis_no siparis_tarihi                  siparisi_veren       il       seri_no                   aciklama solusyon_fatura bidon_acilisi\n",
       "1774    KARTUS        NaN                  2018/096            NaN                             NaN  UKRAYNA  2018/07-1766                      SATIŞ             NaN           NaN\n",
       "11491   KARTUS        NaN  AKMIŞ KARTUŞ İPTAL OLDU.            NaN                             NaN      NaN  2021/07-4322                        NaN             NaN           NaN\n",
       "12315   KARTUS    DEĞİŞİM                   2022/19            NaN  BİTLİS TATVAN DEVLET HASTANESİ   BİTLİS   2022/07-629  İRSALİYE TALİMATI- DĞİŞİM             NaN           NaN\n",
       "12316   KARTUS    DEĞİŞİM                   2022/19            NaN  BİTLİS TATVAN DEVLET HASTANESİ   BİTLİS   2022/07-630  İRSALİYE TALİMATI- DĞİŞİM             NaN           NaN\n",
       "12317   KARTUS    DEĞİŞİM                   2022/19            NaN  BİTLİS TATVAN DEVLET HASTANESİ   BİTLİS   2022/07-631  İRSALİYE TALİMATI- DĞİŞİM             NaN           NaN\n",
       "...        ...        ...                       ...            ...                             ...      ...           ...                        ...             ...           ...\n",
       "12427   KARTUS    ALİ BEY                   2022/23            NaN                          ALİBEY   ALİBEY   2022/07-741                 ÖZEL SATIŞ             NaN           NaN\n",
       "12428   KARTUS    ALİ BEY                   2022/23            NaN                          ALİBEY   ALİBEY   2022/07-742                 ÖZEL SATIŞ             NaN           NaN\n",
       "12429   KARTUS    ALİ BEY                   2022/23            NaN                          ALİBEY   ALİBEY   2022/07-743                 ÖZEL SATIŞ             NaN           NaN\n",
       "12430   KARTUS    ALİ BEY                   2022/23            NaN                          ALİBEY   ALİBEY   2022/07-744                 ÖZEL SATIŞ             NaN           NaN\n",
       "18389   KARTUS    ARIZALI                   2023/48            NaN                             NaN      NaN  2023/07-1265                    ARIZALI             NaN           NaN\n",
       "\n",
       "[99 rows x 10 columns]"
      ]
     },
     "execution_count": 39,
     "metadata": {},
     "output_type": "execute_result"
    }
   ],
   "source": [
    "df_kartus[df_kartus['siparis_tarihi'].isnull()]"
   ]
  },
  {
   "cell_type": "code",
   "execution_count": 40,
   "id": "17615452",
   "metadata": {
    "ExecuteTime": {
     "end_time": "2024-10-31T21:39:07.187255Z",
     "start_time": "2024-10-31T21:39:07.181276Z"
    }
   },
   "outputs": [],
   "source": [
    "df_kartus.loc[df_kartus['siparis_no'] == '2022/19', 'siparis_tarihi'] = '14/03/2022'\n",
    "df_kartus.loc[df_kartus['siparis_no'] == '2022/21', 'siparis_tarihi'] = '17/03/2022'\n",
    "df_kartus.loc[df_kartus['siparis_no'] == '2022/22', 'siparis_tarihi'] = '21/03/2022'\n",
    "df_kartus.loc[df_kartus['siparis_no'] == '2022/23', 'siparis_tarihi'] = '22/03/2022'"
   ]
  },
  {
   "cell_type": "code",
   "execution_count": 41,
   "id": "2df906bd",
   "metadata": {
    "ExecuteTime": {
     "end_time": "2024-10-31T21:39:07.190753Z",
     "start_time": "2024-10-31T21:39:07.188075Z"
    }
   },
   "outputs": [
    {
     "data": {
      "text/plain": [
       "3"
      ]
     },
     "execution_count": 41,
     "metadata": {},
     "output_type": "execute_result"
    }
   ],
   "source": [
    "df_kartus[\"siparis_tarihi\"].isnull().sum()"
   ]
  },
  {
   "cell_type": "code",
   "execution_count": 42,
   "id": "8bc75b79",
   "metadata": {
    "ExecuteTime": {
     "end_time": "2024-10-31T21:39:07.195834Z",
     "start_time": "2024-10-31T21:39:07.191644Z"
    }
   },
   "outputs": [
    {
     "data": {
      "text/html": [
       "<div>\n",
       "<style scoped>\n",
       "    .dataframe tbody tr th:only-of-type {\n",
       "        vertical-align: middle;\n",
       "    }\n",
       "\n",
       "    .dataframe tbody tr th {\n",
       "        vertical-align: top;\n",
       "    }\n",
       "\n",
       "    .dataframe thead th {\n",
       "        text-align: right;\n",
       "    }\n",
       "</style>\n",
       "<table border=\"1\" class=\"dataframe\">\n",
       "  <thead>\n",
       "    <tr style=\"text-align: right;\">\n",
       "      <th></th>\n",
       "      <th>kategori</th>\n",
       "      <th>satis_turu</th>\n",
       "      <th>siparis_no</th>\n",
       "      <th>siparis_tarihi</th>\n",
       "      <th>siparisi_veren</th>\n",
       "      <th>il</th>\n",
       "      <th>seri_no</th>\n",
       "      <th>aciklama</th>\n",
       "      <th>solusyon_fatura</th>\n",
       "      <th>bidon_acilisi</th>\n",
       "    </tr>\n",
       "  </thead>\n",
       "  <tbody>\n",
       "    <tr>\n",
       "      <th>1774</th>\n",
       "      <td>KARTUS</td>\n",
       "      <td>NaN</td>\n",
       "      <td>2018/096</td>\n",
       "      <td>NaN</td>\n",
       "      <td>NaN</td>\n",
       "      <td>UKRAYNA</td>\n",
       "      <td>2018/07-1766</td>\n",
       "      <td>SATIŞ</td>\n",
       "      <td>NaN</td>\n",
       "      <td>NaN</td>\n",
       "    </tr>\n",
       "    <tr>\n",
       "      <th>11491</th>\n",
       "      <td>KARTUS</td>\n",
       "      <td>NaN</td>\n",
       "      <td>AKMIŞ KARTUŞ İPTAL OLDU.</td>\n",
       "      <td>NaN</td>\n",
       "      <td>NaN</td>\n",
       "      <td>NaN</td>\n",
       "      <td>2021/07-4322</td>\n",
       "      <td>NaN</td>\n",
       "      <td>NaN</td>\n",
       "      <td>NaN</td>\n",
       "    </tr>\n",
       "    <tr>\n",
       "      <th>18389</th>\n",
       "      <td>KARTUS</td>\n",
       "      <td>ARIZALI</td>\n",
       "      <td>2023/48</td>\n",
       "      <td>NaN</td>\n",
       "      <td>NaN</td>\n",
       "      <td>NaN</td>\n",
       "      <td>2023/07-1265</td>\n",
       "      <td>ARIZALI</td>\n",
       "      <td>NaN</td>\n",
       "      <td>NaN</td>\n",
       "    </tr>\n",
       "  </tbody>\n",
       "</table>\n",
       "</div>"
      ],
      "text/plain": [
       "      kategori satis_turu                siparis_no siparis_tarihi siparisi_veren       il       seri_no aciklama solusyon_fatura bidon_acilisi\n",
       "1774    KARTUS        NaN                  2018/096            NaN            NaN  UKRAYNA  2018/07-1766    SATIŞ             NaN           NaN\n",
       "11491   KARTUS        NaN  AKMIŞ KARTUŞ İPTAL OLDU.            NaN            NaN      NaN  2021/07-4322      NaN             NaN           NaN\n",
       "18389   KARTUS    ARIZALI                   2023/48            NaN            NaN      NaN  2023/07-1265  ARIZALI             NaN           NaN"
      ]
     },
     "execution_count": 42,
     "metadata": {},
     "output_type": "execute_result"
    }
   ],
   "source": [
    "df_kartus[df_kartus['siparis_tarihi'].isnull()]"
   ]
  },
  {
   "cell_type": "code",
   "execution_count": 43,
   "id": "2e28011f",
   "metadata": {
    "ExecuteTime": {
     "end_time": "2024-10-31T21:39:07.202656Z",
     "start_time": "2024-10-31T21:39:07.196601Z"
    }
   },
   "outputs": [],
   "source": [
    "df_kartus = df_kartus[~((df_kartus['satis_turu'] == 'ARIZALI') & (df_kartus['siparis_tarihi'].isna()))]"
   ]
  },
  {
   "cell_type": "code",
   "execution_count": 44,
   "id": "998bbe4a",
   "metadata": {
    "ExecuteTime": {
     "end_time": "2024-10-31T21:39:07.206205Z",
     "start_time": "2024-10-31T21:39:07.203431Z"
    }
   },
   "outputs": [],
   "source": [
    "df_kartus.loc[df_kartus['siparis_no'] == \"2018/096\", 'siparis_tarihi'] = \"14/12/2018\""
   ]
  },
  {
   "cell_type": "code",
   "execution_count": 45,
   "id": "815ec86f",
   "metadata": {
    "ExecuteTime": {
     "end_time": "2024-10-31T21:39:07.212543Z",
     "start_time": "2024-10-31T21:39:07.206904Z"
    }
   },
   "outputs": [],
   "source": [
    "# 'siparis_no' sütununda \"AKMIŞ KARTUŞ İPTAL OLDU.\" ifadesini içeren satırı drop etme\n",
    "df_kartus = df_kartus[df_kartus['siparis_no'] != \"AKMIŞ KARTUŞ İPTAL OLDU.\"]\n"
   ]
  },
  {
   "cell_type": "code",
   "execution_count": 46,
   "id": "539035da",
   "metadata": {
    "ExecuteTime": {
     "end_time": "2024-10-31T21:39:07.215937Z",
     "start_time": "2024-10-31T21:39:07.213223Z"
    }
   },
   "outputs": [
    {
     "data": {
      "text/plain": [
       "0"
      ]
     },
     "execution_count": 46,
     "metadata": {},
     "output_type": "execute_result"
    }
   ],
   "source": [
    "df_kartus[\"siparis_tarihi\"].isnull().sum()"
   ]
  },
  {
   "cell_type": "code",
   "execution_count": 47,
   "id": "11c58cb3",
   "metadata": {
    "ExecuteTime": {
     "end_time": "2024-10-31T21:39:07.217888Z",
     "start_time": "2024-10-31T21:39:07.216588Z"
    }
   },
   "outputs": [],
   "source": [
    "utils.df = df_kartus"
   ]
  },
  {
   "cell_type": "code",
   "execution_count": 48,
   "id": "4a2e57fb",
   "metadata": {
    "ExecuteTime": {
     "end_time": "2024-10-31T21:39:29.541496Z",
     "start_time": "2024-10-31T21:39:07.218622Z"
    }
   },
   "outputs": [
    {
     "name": "stdout",
     "output_type": "stream",
     "text": [
      "Mevcut sütunlar:\n",
      "kategori | satis_turu | siparis_no | siparis_tarihi | siparisi_veren | il | seri_no | aciklama | solusyon_fatura | bidon_acilisi\n",
      "\n",
      "Lütfen tarihleri temizlemek istediğiniz sütun adını yazınız (örn: 'siparis_tarihi'):\n",
      "Sütun adı: siparis_tarihi\n",
      "'siparis_tarihi' sütunundaki tarihler temizlenmiş ve standart hale getirilmiştir.\n"
     ]
    },
    {
     "data": {
      "text/html": [
       "<div>\n",
       "<style scoped>\n",
       "    .dataframe tbody tr th:only-of-type {\n",
       "        vertical-align: middle;\n",
       "    }\n",
       "\n",
       "    .dataframe tbody tr th {\n",
       "        vertical-align: top;\n",
       "    }\n",
       "\n",
       "    .dataframe thead th {\n",
       "        text-align: right;\n",
       "    }\n",
       "</style>\n",
       "<table border=\"1\" class=\"dataframe\">\n",
       "  <thead>\n",
       "    <tr style=\"text-align: right;\">\n",
       "      <th></th>\n",
       "      <th>siparis_tarihi</th>\n",
       "    </tr>\n",
       "  </thead>\n",
       "  <tbody>\n",
       "    <tr>\n",
       "      <th>0</th>\n",
       "      <td>2018-01-05</td>\n",
       "    </tr>\n",
       "    <tr>\n",
       "      <th>1</th>\n",
       "      <td>2018-01-05</td>\n",
       "    </tr>\n",
       "    <tr>\n",
       "      <th>2</th>\n",
       "      <td>2018-01-05</td>\n",
       "    </tr>\n",
       "    <tr>\n",
       "      <th>3</th>\n",
       "      <td>2018-01-05</td>\n",
       "    </tr>\n",
       "    <tr>\n",
       "      <th>4</th>\n",
       "      <td>2018-01-05</td>\n",
       "    </tr>\n",
       "  </tbody>\n",
       "</table>\n",
       "</div>"
      ],
      "text/plain": [
       "  siparis_tarihi\n",
       "0     2018-01-05\n",
       "1     2018-01-05\n",
       "2     2018-01-05\n",
       "3     2018-01-05\n",
       "4     2018-01-05"
      ]
     },
     "execution_count": 48,
     "metadata": {},
     "output_type": "execute_result"
    }
   ],
   "source": [
    "utils.clean_and_standardize_date()"
   ]
  },
  {
   "cell_type": "code",
   "execution_count": 49,
   "id": "574bc6d9",
   "metadata": {
    "ExecuteTime": {
     "end_time": "2024-10-31T21:39:29.548108Z",
     "start_time": "2024-10-31T21:39:29.542232Z"
    }
   },
   "outputs": [
    {
     "data": {
      "text/plain": [
       "0       2018-01-05\n",
       "1       2018-01-05\n",
       "2       2018-01-05\n",
       "3       2018-01-05\n",
       "4       2018-01-05\n",
       "           ...    \n",
       "28876   2024-09-11\n",
       "28877   2024-09-11\n",
       "28878   2024-09-11\n",
       "28879   2024-09-11\n",
       "28880   2024-09-11\n",
       "Name: siparis_tarihi, Length: 28575, dtype: datetime64[ns]"
      ]
     },
     "execution_count": 49,
     "metadata": {},
     "output_type": "execute_result"
    }
   ],
   "source": [
    "df_kartus['siparis_tarihi'] = pd.to_datetime(df_kartus['siparis_tarihi'])\n",
    "df_kartus[\"siparis_tarihi\"]"
   ]
  },
  {
   "cell_type": "code",
   "execution_count": 50,
   "id": "add83916",
   "metadata": {
    "ExecuteTime": {
     "end_time": "2024-10-31T21:39:29.552804Z",
     "start_time": "2024-10-31T21:39:29.548776Z"
    }
   },
   "outputs": [
    {
     "data": {
      "text/html": [
       "<div>\n",
       "<style scoped>\n",
       "    .dataframe tbody tr th:only-of-type {\n",
       "        vertical-align: middle;\n",
       "    }\n",
       "\n",
       "    .dataframe tbody tr th {\n",
       "        vertical-align: top;\n",
       "    }\n",
       "\n",
       "    .dataframe thead th {\n",
       "        text-align: right;\n",
       "    }\n",
       "</style>\n",
       "<table border=\"1\" class=\"dataframe\">\n",
       "  <thead>\n",
       "    <tr style=\"text-align: right;\">\n",
       "      <th></th>\n",
       "      <th>kategori</th>\n",
       "      <th>satis_turu</th>\n",
       "      <th>siparis_no</th>\n",
       "      <th>siparis_tarihi</th>\n",
       "      <th>siparisi_veren</th>\n",
       "      <th>il</th>\n",
       "      <th>seri_no</th>\n",
       "      <th>aciklama</th>\n",
       "      <th>solusyon_fatura</th>\n",
       "      <th>bidon_acilisi</th>\n",
       "    </tr>\n",
       "  </thead>\n",
       "  <tbody>\n",
       "    <tr>\n",
       "      <th>27543</th>\n",
       "      <td>KARTUS</td>\n",
       "      <td>ÖZEL</td>\n",
       "      <td>2024/118</td>\n",
       "      <td>2027-09-05</td>\n",
       "      <td>KAHRAMANKAZAN DEVLET HASTANESİ</td>\n",
       "      <td>ANKARA</td>\n",
       "      <td>2024/07-4414</td>\n",
       "      <td>NaN</td>\n",
       "      <td>NaN</td>\n",
       "      <td>NaN</td>\n",
       "    </tr>\n",
       "  </tbody>\n",
       "</table>\n",
       "</div>"
      ],
      "text/plain": [
       "      kategori satis_turu siparis_no siparis_tarihi                  siparisi_veren      il       seri_no aciklama solusyon_fatura bidon_acilisi\n",
       "27543   KARTUS       ÖZEL   2024/118     2027-09-05  KAHRAMANKAZAN DEVLET HASTANESİ  ANKARA  2024/07-4414      NaN             NaN           NaN"
      ]
     },
     "execution_count": 50,
     "metadata": {},
     "output_type": "execute_result"
    }
   ],
   "source": [
    "# yil olarak 2027 girilmis bir tarih farkettim onu degistimem gerekiyor.\n",
    "# 2027 yılı olan satırları bulalim\n",
    "df_kartus[df_kartus['siparis_tarihi'].dt.year == 2027]"
   ]
  },
  {
   "cell_type": "code",
   "execution_count": 51,
   "id": "73768aba",
   "metadata": {
    "ExecuteTime": {
     "end_time": "2024-10-31T21:39:29.666279Z",
     "start_time": "2024-10-31T21:39:29.553619Z"
    }
   },
   "outputs": [],
   "source": [
    "# 2027 yılı olan tarihleri 2024 yılı olarak güncelleyelim\n",
    "df_kartus.loc[df_kartus['siparis_tarihi'].dt.year == 2027, 'siparis_tarihi'] = df_kartus['siparis_tarihi'].apply(lambda x: x.replace(year=2024))\n"
   ]
  },
  {
   "cell_type": "code",
   "execution_count": 52,
   "id": "7f630635",
   "metadata": {
    "ExecuteTime": {
     "end_time": "2024-10-31T21:39:29.670199Z",
     "start_time": "2024-10-31T21:39:29.667296Z"
    }
   },
   "outputs": [
    {
     "data": {
      "text/plain": [
       "array([2018, 2019, 2020, 2021, 2022, 2023, 2024], dtype=int32)"
      ]
     },
     "execution_count": 52,
     "metadata": {},
     "output_type": "execute_result"
    }
   ],
   "source": [
    "df_kartus[\"siparis_tarihi\"].dt.year.unique()"
   ]
  },
  {
   "cell_type": "markdown",
   "id": "d0b0857e",
   "metadata": {},
   "source": [
    "### En cok hangi yilda satis oldugunu gorelim"
   ]
  },
  {
   "cell_type": "code",
   "execution_count": 53,
   "id": "81718441",
   "metadata": {
    "ExecuteTime": {
     "end_time": "2024-10-31T21:39:29.739943Z",
     "start_time": "2024-10-31T21:39:29.671126Z"
    }
   },
   "outputs": [
    {
     "data": {
      "image/png": "[encoded data removed]",
      "text/plain": [
       "<Figure size 1000x600 with 1 Axes>"
      ]
     },
     "metadata": {},
     "output_type": "display_data"
    }
   ],
   "source": [
    "# 1. Adım: Yıl bilgilerini 'siparis_tarihi' sütunundan çıkarma\n",
    "df_kartus['siparis_yili'] = df_kartus['siparis_tarihi'].dt.year\n",
    "\n",
    "# 2. Adım: Yıllara göre sipariş sayısını 'siparis_no' ile gruplandırarak hesaplama\n",
    "yillik_siparis_sayisi = df_kartus.groupby('siparis_yili')['seri_no'].nunique()\n",
    "\n",
    "# 3. Adım: Grafiği oluşturma\n",
    "plt.figure(figsize=(10, 6))\n",
    "yillik_siparis_sayisi.plot(kind='bar', color='skyblue')\n",
    "plt.title('Yıllara Göre Sipariş Sayısı')\n",
    "plt.xlabel('Sipariş Yılı')\n",
    "plt.ylabel('Sipariş Sayısı')\n",
    "plt.xticks(rotation=45)  # Yıl etiketlerini döndürme\n",
    "plt.show()"
   ]
  },
  {
   "cell_type": "markdown",
   "id": "ebf695eb",
   "metadata": {},
   "source": [
    "***Bu grafik 2018'den 2024'e kadar olan yillik siparis sayilarini gostermektedir.2023 yilinda en yuksek siparis sayisina ulasilmistir. 2023 yilina kadar siparis sayilaarinda artan bir trend yakalandigi gorebiliyoruz fakat 2024 yilinda siparis sayilarinda bir miktar azalma gozlemlenmistir.*** "
   ]
  },
  {
   "cell_type": "markdown",
   "id": "a6fbb959",
   "metadata": {},
   "source": [
    "## siparisi veren"
   ]
  },
  {
   "cell_type": "markdown",
   "id": "7520901f",
   "metadata": {},
   "source": [
    "## il"
   ]
  },
  {
   "cell_type": "markdown",
   "id": "7d8c27d4",
   "metadata": {
    "ExecuteTime": {
     "end_time": "2024-10-30T22:42:37.375258Z",
     "start_time": "2024-10-30T22:42:37.367584Z"
    }
   },
   "source": [
    "## seri_no"
   ]
  },
  {
   "cell_type": "code",
   "execution_count": null,
   "id": "66b91cce",
   "metadata": {},
   "outputs": [],
   "source": []
  },
  {
   "cell_type": "code",
   "execution_count": null,
   "id": "488ebf02",
   "metadata": {},
   "outputs": [],
   "source": []
  },
  {
   "cell_type": "code",
   "execution_count": null,
   "id": "537f2bbd",
   "metadata": {},
   "outputs": [],
   "source": []
  },
  {
   "cell_type": "code",
   "execution_count": null,
   "id": "597a3e2f",
   "metadata": {},
   "outputs": [],
   "source": []
  },
  {
   "cell_type": "markdown",
   "id": "ea58b040",
   "metadata": {},
   "source": [
    "## aciklama"
   ]
  },
  {
   "cell_type": "markdown",
   "id": "2ea47ddd",
   "metadata": {},
   "source": [
    "## Solusyon Fatura"
   ]
  },
  {
   "cell_type": "code",
   "execution_count": 54,
   "id": "92bb7439",
   "metadata": {
    "ExecuteTime": {
     "end_time": "2024-10-31T21:39:29.742114Z",
     "start_time": "2024-10-31T21:39:29.740746Z"
    }
   },
   "outputs": [],
   "source": [
    "utils.df = df_kartus "
   ]
  },
  {
   "cell_type": "code",
   "execution_count": 55,
   "id": "b480742e",
   "metadata": {
    "ExecuteTime": {
     "end_time": "2024-10-31T21:39:46.145412Z",
     "start_time": "2024-10-31T21:39:29.742987Z"
    }
   },
   "outputs": [
    {
     "name": "stdout",
     "output_type": "stream",
     "text": [
      "Mevcut sütunlar:\n",
      "kategori | satis_turu | siparis_no | siparis_tarihi | siparisi_veren | il | seri_no | aciklama | solusyon_fatura | bidon_acilisi | siparis_yili\n",
      "\n",
      "Lütfen değerlerini görmek istediğiniz sütun adını yazınız (örn: 'siparis_tarihi'):\n",
      "Sütun adı: solusyon_fatura\n"
     ]
    },
    {
     "data": {
      "text/html": [
       "<div>\n",
       "<style scoped>\n",
       "    .dataframe tbody tr th:only-of-type {\n",
       "        vertical-align: middle;\n",
       "    }\n",
       "\n",
       "    .dataframe tbody tr th {\n",
       "        vertical-align: top;\n",
       "    }\n",
       "\n",
       "    .dataframe thead th {\n",
       "        text-align: right;\n",
       "    }\n",
       "</style>\n",
       "<table border=\"1\" class=\"dataframe\">\n",
       "  <thead>\n",
       "    <tr style=\"text-align: right;\">\n",
       "      <th></th>\n",
       "      <th>solusyon_fatura</th>\n",
       "      <th>counts</th>\n",
       "      <th>percent</th>\n",
       "    </tr>\n",
       "  </thead>\n",
       "  <tbody>\n",
       "    <tr>\n",
       "      <th>0</th>\n",
       "      <td>25.4.2019-HPS2019-00387</td>\n",
       "      <td>1794</td>\n",
       "      <td>33.60%</td>\n",
       "    </tr>\n",
       "    <tr>\n",
       "      <th>1</th>\n",
       "      <td>07.04.2020-KE12020000006221</td>\n",
       "      <td>1537</td>\n",
       "      <td>28.79%</td>\n",
       "    </tr>\n",
       "    <tr>\n",
       "      <th>2</th>\n",
       "      <td>20.12.2019-GIB2019000016266</td>\n",
       "      <td>1521</td>\n",
       "      <td>28.49%</td>\n",
       "    </tr>\n",
       "    <tr>\n",
       "      <th>3</th>\n",
       "      <td>19.4.2018-HPS2018-00311</td>\n",
       "      <td>487</td>\n",
       "      <td>9.12%</td>\n",
       "    </tr>\n",
       "  </tbody>\n",
       "</table>\n",
       "</div>"
      ],
      "text/plain": [
       "               solusyon_fatura  counts percent\n",
       "0      25.4.2019-HPS2019-00387    1794  33.60%\n",
       "1  07.04.2020-KE12020000006221    1537  28.79%\n",
       "2  20.12.2019-GIB2019000016266    1521  28.49%\n",
       "3      19.4.2018-HPS2018-00311     487   9.12%"
      ]
     },
     "execution_count": 55,
     "metadata": {},
     "output_type": "execute_result"
    }
   ],
   "source": [
    " utils.get_value_count()"
   ]
  },
  {
   "cell_type": "code",
   "execution_count": 56,
   "id": "5b06da4b",
   "metadata": {
    "ExecuteTime": {
     "end_time": "2024-10-31T21:39:46.152580Z",
     "start_time": "2024-10-31T21:39:46.147635Z"
    }
   },
   "outputs": [],
   "source": [
    "def fatura_value_counts_by_year(df_kartus, yil):\n",
    "    # Yıl bilgisi 'siparis_tarihi' sütunundan alınarak filtre uygulanır\n",
    "    df_filtered = df_kartus[df_kartus['siparis_tarihi'].dt.year == yil]\n",
    "    \n",
    "    # Filtrelenmiş veri çerçevesinde 'solusyon_fatura' sütununun value_counts bilgisini al\n",
    "    result = df_filtered['solusyon_fatura'].value_counts()\n",
    "    \n",
    "    # Sonucu yazdır\n",
    "    print(f\"{yil} yılına ait solusyon_fatura dağılımı:\")\n",
    "    print(result)\n"
   ]
  },
  {
   "cell_type": "code",
   "execution_count": 57,
   "id": "b6d2605a",
   "metadata": {
    "ExecuteTime": {
     "end_time": "2024-10-31T21:39:46.157905Z",
     "start_time": "2024-10-31T21:39:46.153908Z"
    }
   },
   "outputs": [
    {
     "name": "stdout",
     "output_type": "stream",
     "text": [
      "2018 yılına ait solusyon_fatura dağılımı:\n",
      "Series([], Name: count, dtype: int64)\n"
     ]
    }
   ],
   "source": [
    "fatura_value_counts_by_year(df_kartus , 2018)"
   ]
  },
  {
   "cell_type": "code",
   "execution_count": 58,
   "id": "48a857cc",
   "metadata": {
    "ExecuteTime": {
     "end_time": "2024-10-31T21:39:46.162839Z",
     "start_time": "2024-10-31T21:39:46.158990Z"
    }
   },
   "outputs": [
    {
     "name": "stdout",
     "output_type": "stream",
     "text": [
      "2019 yılına ait solusyon_fatura dağılımı:\n",
      "solusyon_fatura\n",
      "25.4.2019-HPS2019-00387    1764\n",
      "19.4.2018-HPS2018-00311     487\n",
      "Name: count, dtype: int64\n"
     ]
    }
   ],
   "source": [
    "fatura_value_counts_by_year(df_kartus , 2019)"
   ]
  },
  {
   "cell_type": "code",
   "execution_count": 59,
   "id": "5532dbc6",
   "metadata": {
    "ExecuteTime": {
     "end_time": "2024-10-31T21:39:46.167392Z",
     "start_time": "2024-10-31T21:39:46.163762Z"
    }
   },
   "outputs": [
    {
     "name": "stdout",
     "output_type": "stream",
     "text": [
      "2020 yılına ait solusyon_fatura dağılımı:\n",
      "solusyon_fatura\n",
      "07.04.2020-KE12020000006221    1535\n",
      "20.12.2019-GIB2019000016266    1521\n",
      "25.4.2019-HPS2019-00387          30\n",
      "Name: count, dtype: int64\n"
     ]
    }
   ],
   "source": [
    "fatura_value_counts_by_year(df_kartus , 2020)"
   ]
  },
  {
   "cell_type": "code",
   "execution_count": 60,
   "id": "7a275171",
   "metadata": {
    "ExecuteTime": {
     "end_time": "2024-10-31T21:39:46.172003Z",
     "start_time": "2024-10-31T21:39:46.168469Z"
    }
   },
   "outputs": [
    {
     "name": "stdout",
     "output_type": "stream",
     "text": [
      "2021 yılına ait solusyon_fatura dağılımı:\n",
      "solusyon_fatura\n",
      "07.04.2020-KE12020000006221    2\n",
      "Name: count, dtype: int64\n"
     ]
    }
   ],
   "source": [
    "fatura_value_counts_by_year(df_kartus , 2021)"
   ]
  },
  {
   "cell_type": "code",
   "execution_count": 61,
   "id": "07e1dd42",
   "metadata": {
    "ExecuteTime": {
     "end_time": "2024-10-31T21:39:46.176519Z",
     "start_time": "2024-10-31T21:39:46.173117Z"
    }
   },
   "outputs": [
    {
     "name": "stdout",
     "output_type": "stream",
     "text": [
      "2022 yılına ait solusyon_fatura dağılımı:\n",
      "Series([], Name: count, dtype: int64)\n"
     ]
    }
   ],
   "source": [
    "fatura_value_counts_by_year(df_kartus , 2022)"
   ]
  },
  {
   "cell_type": "code",
   "execution_count": 62,
   "id": "cef192d8",
   "metadata": {
    "ExecuteTime": {
     "end_time": "2024-10-31T21:39:46.181007Z",
     "start_time": "2024-10-31T21:39:46.177521Z"
    }
   },
   "outputs": [
    {
     "name": "stdout",
     "output_type": "stream",
     "text": [
      "2023 yılına ait solusyon_fatura dağılımı:\n",
      "Series([], Name: count, dtype: int64)\n"
     ]
    }
   ],
   "source": [
    "fatura_value_counts_by_year(df_kartus , 2023)"
   ]
  },
  {
   "cell_type": "code",
   "execution_count": 63,
   "id": "aaa12e62",
   "metadata": {
    "ExecuteTime": {
     "end_time": "2024-10-31T21:39:46.185814Z",
     "start_time": "2024-10-31T21:39:46.181824Z"
    }
   },
   "outputs": [
    {
     "name": "stdout",
     "output_type": "stream",
     "text": [
      "2024 yılına ait solusyon_fatura dağılımı:\n",
      "Series([], Name: count, dtype: int64)\n"
     ]
    }
   ],
   "source": [
    "fatura_value_counts_by_year(df_kartus , 2024)"
   ]
  },
  {
   "cell_type": "code",
   "execution_count": 64,
   "id": "5694a6cc",
   "metadata": {
    "ExecuteTime": {
     "end_time": "2024-10-31T21:39:46.265530Z",
     "start_time": "2024-10-31T21:39:46.186835Z"
    }
   },
   "outputs": [
    {
     "data": {
      "image/png": "[encoded data removed]",
      "text/plain": [
       "<Figure size 1000x600 with 1 Axes>"
      ]
     },
     "metadata": {},
     "output_type": "display_data"
    }
   ],
   "source": [
    "\n",
    "# 1. Adım: siparis_tarihi sütunundan yılı elde edin\n",
    "df_kartus['yil'] = df_kartus['siparis_tarihi'].dt.year\n",
    "\n",
    "# 2. Adım: Yıla göre gruplayarak solusyon_fatura değerlerinin toplamını hesaplayın\n",
    "# Burada solusyon_fatura sütununun sayısal değerler içerdiği varsayılmıştır\n",
    "fatura_sums_by_year = df_kartus.groupby('yil')['solusyon_fatura'].count()\n",
    "\n",
    "# 3. Adım: Çubuk grafikte görselleştirme\n",
    "plt.figure(figsize=(10, 6))\n",
    "ax = fatura_sums_by_year.plot(kind='bar', color='skyblue',edgecolor='black')\n",
    "plt.title('Yıllara Göre Solusyon Fatura Toplamları' , fontsize=16)\n",
    "plt.xlabel('Yıl',fontsize=14)\n",
    "plt.ylabel(\"Solusyon Fatura Toplam Değeri\" , fontsize=14)\n",
    "\n",
    "plt.xticks(rotation=45)\n",
    "\n",
    "for bar in ax.patches:\n",
    "    # Bar'ın yüksekliğini al\n",
    "    height = bar.get_height()\n",
    "    # Bar'ın üzerinde bir metin ekle\n",
    "    ax.text(bar.get_x() + bar.get_width() / 2, height, \n",
    "            f'{height:.0f}',  # Değeri formatlayarak yaz\n",
    "            ha='center', va='bottom', fontsize=10, color='black')\n",
    "\n",
    "\n",
    "plt.tight_layout()\n",
    "plt.show()\n"
   ]
  },
  {
   "cell_type": "markdown",
   "id": "e48f9269",
   "metadata": {},
   "source": [
    "***Solusyon fatura ; sirketimizin kartus satisi ve sonrasinda sagladigi hizmetlerden (bakim , yeniden kartus dolum , degisim gibi) elde edilen gelirlerin faturasidir.Gafikte goruldugu gibi 2019 ve 2020 yillarinda degerler varken 2021'den itibaren ciddi bir dusus gorulmektedir. Mevcut veriler ile ileriye donuk analiz yapmak icin yetersiz oldugunu soyleyebiliriz.***"
   ]
  },
  {
   "cell_type": "markdown",
   "id": "5dd97054",
   "metadata": {},
   "source": [
    "## bidon acilisi"
   ]
  },
  {
   "cell_type": "code",
   "execution_count": 65,
   "id": "568dd781",
   "metadata": {
    "ExecuteTime": {
     "end_time": "2024-10-31T21:39:46.269462Z",
     "start_time": "2024-10-31T21:39:46.266485Z"
    }
   },
   "outputs": [
    {
     "data": {
      "text/plain": [
       "23236"
      ]
     },
     "execution_count": 65,
     "metadata": {},
     "output_type": "execute_result"
    }
   ],
   "source": [
    "df_kartus[\"bidon_acilisi\"].isnull().sum()"
   ]
  },
  {
   "cell_type": "code",
   "execution_count": 66,
   "id": "92535754",
   "metadata": {
    "ExecuteTime": {
     "end_time": "2024-10-31T21:39:54.547842Z",
     "start_time": "2024-10-31T21:39:46.270500Z"
    }
   },
   "outputs": [
    {
     "name": "stdout",
     "output_type": "stream",
     "text": [
      "Mevcut sütunlar:\n",
      "kategori | satis_turu | siparis_no | siparis_tarihi | siparisi_veren | il | seri_no | aciklama | solusyon_fatura | bidon_acilisi | siparis_yili | yil\n",
      "\n",
      "Lütfen değerlerini görmek istediğiniz sütun adını yazınız (örn: 'siparis_tarihi'):\n",
      "Sütun adı: bidon_acilisi \n"
     ]
    },
    {
     "data": {
      "text/html": [
       "<div>\n",
       "<style scoped>\n",
       "    .dataframe tbody tr th:only-of-type {\n",
       "        vertical-align: middle;\n",
       "    }\n",
       "\n",
       "    .dataframe tbody tr th {\n",
       "        vertical-align: top;\n",
       "    }\n",
       "\n",
       "    .dataframe thead th {\n",
       "        text-align: right;\n",
       "    }\n",
       "</style>\n",
       "<table border=\"1\" class=\"dataframe\">\n",
       "  <thead>\n",
       "    <tr style=\"text-align: right;\">\n",
       "      <th></th>\n",
       "      <th>bidon_acilisi</th>\n",
       "      <th>counts</th>\n",
       "      <th>percent</th>\n",
       "    </tr>\n",
       "  </thead>\n",
       "  <tbody>\n",
       "    <tr>\n",
       "      <th>0</th>\n",
       "      <td>1/5/2020</td>\n",
       "      <td>1521</td>\n",
       "      <td>28.49%</td>\n",
       "    </tr>\n",
       "    <tr>\n",
       "      <th>1</th>\n",
       "      <td>4/29/2019</td>\n",
       "      <td>1110</td>\n",
       "      <td>20.79%</td>\n",
       "    </tr>\n",
       "    <tr>\n",
       "      <th>2</th>\n",
       "      <td>10/8/2019</td>\n",
       "      <td>684</td>\n",
       "      <td>12.81%</td>\n",
       "    </tr>\n",
       "    <tr>\n",
       "      <th>3</th>\n",
       "      <td>1/2/2019</td>\n",
       "      <td>487</td>\n",
       "      <td>9.12%</td>\n",
       "    </tr>\n",
       "    <tr>\n",
       "      <th>4</th>\n",
       "      <td>4/30/2020</td>\n",
       "      <td>390</td>\n",
       "      <td>7.30%</td>\n",
       "    </tr>\n",
       "    <tr>\n",
       "      <th>5</th>\n",
       "      <td>5/4/2020</td>\n",
       "      <td>385</td>\n",
       "      <td>7.21%</td>\n",
       "    </tr>\n",
       "    <tr>\n",
       "      <th>6</th>\n",
       "      <td>4/24/2020</td>\n",
       "      <td>382</td>\n",
       "      <td>7.15%</td>\n",
       "    </tr>\n",
       "    <tr>\n",
       "      <th>7</th>\n",
       "      <td>5/7/2020</td>\n",
       "      <td>380</td>\n",
       "      <td>7.12%</td>\n",
       "    </tr>\n",
       "  </tbody>\n",
       "</table>\n",
       "</div>"
      ],
      "text/plain": [
       "  bidon_acilisi  counts percent\n",
       "0      1/5/2020    1521  28.49%\n",
       "1     4/29/2019    1110  20.79%\n",
       "2     10/8/2019     684  12.81%\n",
       "3      1/2/2019     487   9.12%\n",
       "4     4/30/2020     390   7.30%\n",
       "5      5/4/2020     385   7.21%\n",
       "6     4/24/2020     382   7.15%\n",
       "7      5/7/2020     380   7.12%"
      ]
     },
     "execution_count": 66,
     "metadata": {},
     "output_type": "execute_result"
    }
   ],
   "source": [
    " utils.get_value_count()"
   ]
  },
  {
   "cell_type": "code",
   "execution_count": 73,
   "id": "ec4cd230",
   "metadata": {
    "ExecuteTime": {
     "end_time": "2024-10-31T21:50:02.923021Z",
     "start_time": "2024-10-31T21:50:02.910615Z"
    }
   },
   "outputs": [
    {
     "data": {
      "text/plain": [
       "bidon_acilisi\n",
       "2020-01-05    1521\n",
       "2019-04-29    1110\n",
       "2019-10-08     684\n",
       "2019-01-02     487\n",
       "2020-04-30     390\n",
       "2020-05-04     385\n",
       "2020-04-24     382\n",
       "2020-05-07     380\n",
       "Name: count, dtype: int64"
      ]
     },
     "execution_count": 73,
     "metadata": {},
     "output_type": "execute_result"
    }
   ],
   "source": [
    "df_kartus[\"bidon_acilisi\"].value_counts()"
   ]
  },
  {
   "cell_type": "code",
   "execution_count": null,
   "id": "142f097d",
   "metadata": {},
   "outputs": [],
   "source": []
  },
  {
   "cell_type": "code",
   "execution_count": 80,
   "id": "42acc61f",
   "metadata": {
    "ExecuteTime": {
     "end_time": "2024-10-31T22:16:59.881937Z",
     "start_time": "2024-10-31T22:16:59.763607Z"
    }
   },
   "outputs": [
    {
     "data": {
      "text/plain": [
       "<Figure size 1000x600 with 0 Axes>"
      ]
     },
     "metadata": {},
     "output_type": "display_data"
    },
    {
     "data": {
      "image/png": "[encoded data removed]",
      "text/plain": [
       "<Figure size 640x480 with 1 Axes>"
      ]
     },
     "metadata": {},
     "output_type": "display_data"
    }
   ],
   "source": [
    "\n",
    "\n",
    "# Veriyi örnek bir DataFrame olarak oluşturuyoruz\n",
    "data = {\n",
    "    'bidon_acilisi': ['1/5/2020', '4/29/2019', '10/8/2019', '1/2/2019', '4/30/2020', '5/4/2020', '4/24/2020', '5/7/2020'],\n",
    "    'count': [1521, 1110, 684, 487, 390, 385, 382, 380]\n",
    "}\n",
    "\n",
    "df_bidon = pd.DataFrame(data)\n",
    "\n",
    "# bidon_acilisi sütununu datetime formatına çeviriyoruz\n",
    "df_bidon['bidon_acilisi'] = pd.to_datetime(df_bidon['bidon_acilisi'])\n",
    "\n",
    "# Yıl ve bidon sırasını etiket olarak oluşturuyoruz\n",
    "df_bidon = df_bidon.sort_values('bidon_acilisi')  # Tarihe göre sıralıyoruz\n",
    "df_bidon['custom_label'] = df_bidon['bidon_acilisi'].dt.year.astype(str) + \" \" + (df_bidon.groupby(df_bidon['bidon_acilisi'].dt.year).cumcount() + 1).astype(str) + \".Bidon\"\n",
    "\n",
    "# Grafik oluşturma\n",
    "plt.figure(figsize=(10, 6))\n",
    "ax = df_bidon.plot(x='custom_label', y='count', kind='bar', color='skyblue', edgecolor='black', legend=False)\n",
    "plt.title('Tarihlere Göre Bidon Açılışı Sayısı', fontsize=16)\n",
    "plt.xlabel('Tarih', fontsize=14)\n",
    "plt.ylabel(\"Bidon Açılışı Sayısı\", fontsize=14)\n",
    "plt.xticks(rotation=45)\n",
    "\n",
    "# Her çubuğun üzerine değer ekleme\n",
    "for bar in ax.patches:\n",
    "    height = bar.get_height()\n",
    "    ax.text(bar.get_x() + bar.get_width() / 2, height, \n",
    "            f'{height:.0f}',  # Değeri formatlayarak yaz\n",
    "            ha='center', va='bottom', fontsize=10, color='black')\n",
    "\n",
    "plt.tight_layout()\n",
    "plt.show()\n"
   ]
  },
  {
   "cell_type": "code",
   "execution_count": null,
   "id": "86563855",
   "metadata": {},
   "outputs": [],
   "source": []
  },
  {
   "cell_type": "code",
   "execution_count": 78,
   "id": "bd40f157",
   "metadata": {
    "ExecuteTime": {
     "end_time": "2024-10-31T22:13:02.656321Z",
     "start_time": "2024-10-31T22:13:02.553620Z"
    }
   },
   "outputs": [
    {
     "data": {
      "image/png": "[encoded data removed]",
      "text/plain": [
       "<Figure size 1000x600 with 1 Axes>"
      ]
     },
     "metadata": {},
     "output_type": "display_data"
    }
   ],
   "source": [
    "# 1. Adım: siparis_tarihi sütunundan yılı elde edin\n",
    "df_kartus['yil'] = df_kartus['siparis_tarihi'].dt.year\n",
    "\n",
    "# 2. Adım: Yıla göre gruplayarak bidon_acilisi değerlerinin toplamını hesaplayın\n",
    "# Burada bidon_acilisi sütununun sayısal değerler içerdiği varsayılmıştır\n",
    "bidon_acilisi_counts_by_year = df_kartus.groupby('yil')['bidon_acilisi'].count()\n",
    "\n",
    "# 3. Adım: Çubuk grafikte görselleştirme\n",
    "plt.figure(figsize=(10, 6))\n",
    "ax = bidon_acilisi_counts_by_year.plot(kind='bar', color='skyblue', edgecolor='black')\n",
    "plt.title('Yıllara Göre Bidon Açılışı Sayısı', fontsize=16)\n",
    "plt.xlabel('Yıl', fontsize=14)\n",
    "plt.ylabel(\"Bidon Açılışı Sayısı\", fontsize=14)\n",
    "plt.xticks(rotation=45)\n",
    "\n",
    "# Her çubuğun üzerine değer ekleme\n",
    "for bar in ax.patches:\n",
    "    # Bar'ın yüksekliğini al\n",
    "    height = bar.get_height()\n",
    "    # Bar'ın üzerinde bir metin ekle\n",
    "    ax.text(bar.get_x() + bar.get_width() / 2, height, \n",
    "            f'{height:.0f}',  # Değeri formatlayarak yaz\n",
    "            ha='center', va='bottom', fontsize=10, color='black')\n",
    "\n",
    "plt.tight_layout()\n",
    "plt.show()\n"
   ]
  },
  {
   "cell_type": "markdown",
   "id": "96bed2eb",
   "metadata": {},
   "source": [
    "### 2019 ve 2020 nin siparis sayilarina bakalim"
   ]
  },
  {
   "cell_type": "code",
   "execution_count": 77,
   "id": "07e12af7",
   "metadata": {
    "ExecuteTime": {
     "end_time": "2024-10-31T22:01:08.620219Z",
     "start_time": "2024-10-31T22:01:08.510775Z"
    }
   },
   "outputs": [
    {
     "data": {
      "image/png": "[encoded data removed]",
      "text/plain": [
       "<Figure size 1000x600 with 1 Axes>"
      ]
     },
     "metadata": {},
     "output_type": "display_data"
    }
   ],
   "source": [
    "import matplotlib.pyplot as plt\n",
    "\n",
    "# 1. Adım: siparis_tarihi sütunundan yılı elde edin\n",
    "df_kartus['yil'] = df_kartus['siparis_tarihi'].dt.year\n",
    "\n",
    "# 2. Adım: Sadece 2019 ve 2020 yıllarını filtreleyerek seri_no değerlerinin toplamını hesaplayın\n",
    "satis_sayisi_by_year = df_kartus[df_kartus['yil'].isin([2019, 2020])].groupby('yil')['seri_no'].count()\n",
    "\n",
    "# 3. Adım: Çubuk grafikte görselleştirme\n",
    "plt.figure(figsize=(10, 6))\n",
    "ax = satis_sayisi_by_year.plot(kind='bar', color='skyblue', edgecolor='black')\n",
    "plt.title('2019 ve 2020 Yıllarına Göre Satış Sayısı', fontsize=16)\n",
    "plt.xlabel('Yıl', fontsize=14)\n",
    "plt.ylabel(\"Satış Sayısı\", fontsize=14)\n",
    "plt.xticks(rotation=45)\n",
    "\n",
    "# Her çubuğun üzerine değer ekleme\n",
    "for bar in ax.patches:\n",
    "    # Bar'ın yüksekliğini al\n",
    "    height = bar.get_height()\n",
    "    # Bar'ın üzerinde bir metin ekle\n",
    "    ax.text(bar.get_x() + bar.get_width() / 2, height, \n",
    "            f'{height:.0f}',  # Değeri formatlayarak yaz\n",
    "            ha='center', va='bottom', fontsize=10, color='black')\n",
    "\n",
    "plt.tight_layout()\n",
    "plt.show()\n"
   ]
  },
  {
   "cell_type": "markdown",
   "id": "bc89ff8b",
   "metadata": {},
   "source": [
    "***2019-04-29 ve 2020-01-05 tarihlerinde daha büyük hacimli bidonların açıldığı gözlenmektedir. 2020 yılında toplam satış ve açılan bidon sayılarında genel bir artış vardir. Ancak, sadece 2019 ve 2020 yıllarına ait veri mevcut olduğundan kesin bir yorum yapmak için daha geniş bir veri setine ihtiyaç vardır.***"
   ]
  },
  {
   "cell_type": "markdown",
   "id": "3ef2f30c",
   "metadata": {},
   "source": [
    "# Distributions\n",
    "\n",
    "- Feature'larinizin detayli analiz ve gorsellestirilmesi"
   ]
  },
  {
   "cell_type": "markdown",
   "id": "b7acf7a1",
   "metadata": {},
   "source": [
    "## Correlations"
   ]
  },
  {
   "cell_type": "markdown",
   "id": "c7d86f68",
   "metadata": {},
   "source": [
    "## Feature Engineering"
   ]
  },
  {
   "cell_type": "markdown",
   "id": "2b3cad6d",
   "metadata": {},
   "source": [
    "## Feature Selection\n",
    "- Hangi feauture model icin kullanilmali-neden?"
   ]
  },
  {
   "cell_type": "markdown",
   "id": "e96285fb",
   "metadata": {},
   "source": [
    "## Save Cleaned Data"
   ]
  },
  {
   "cell_type": "markdown",
   "id": "d6b1bb6f",
   "metadata": {},
   "source": [
    "# Bulgular ve Yorumlar"
   ]
  },
  {
   "cell_type": "markdown",
   "id": "7878d43c",
   "metadata": {},
   "source": [
    "# Sonuçlar ve Öneriler"
   ]
  },
  {
   "cell_type": "code",
   "execution_count": null,
   "id": "aee82dcb",
   "metadata": {},
   "outputs": [],
   "source": []
  }
 ],
 "metadata": {
  "hide_input": false,
  "kernelspec": {
   "display_name": "Python 3 (ipykernel)",
   "language": "python",
   "name": "python3"
  },
  "language_info": {
   "codemirror_mode": {
    "name": "ipython",
    "version": 3
   },
   "file_extension": ".py",
   "mimetype": "text/x-python",
   "name": "python",
   "nbconvert_exporter": "python",
   "pygments_lexer": "ipython3",
   "version": "3.11.7"
  },
  "toc": {
   "base_numbering": 1,
   "nav_menu": {},
   "number_sections": true,
   "sideBar": true,
   "skip_h1_title": false,
   "title_cell": "Table of Contents",
   "title_sidebar": "Contents",
   "toc_cell": false,
   "toc_position": {
    "height": "calc(100% - 180px)",
    "left": "10px",
    "top": "150px",
    "width": "187px"
   },
   "toc_section_display": true,
   "toc_window_display": true
  },
  "varInspector": {
   "cols": {
    "lenName": 16,
    "lenType": 16,
    "lenVar": 40
   },
   "kernels_config": {
    "python": {
     "delete_cmd_postfix": "",
     "delete_cmd_prefix": "del ",
     "library": "var_list.py",
     "varRefreshCmd": "print(var_dic_list())"
    },
    "r": {
     "delete_cmd_postfix": ") ",
     "delete_cmd_prefix": "rm(",
     "library": "var_list.r",
     "varRefreshCmd": "cat(var_dic_list()) "
    }
   },
   "types_to_exclude": [
    "module",
    "function",
    "builtin_function_or_method",
    "instance",
    "_Feature"
   ],
   "window_display": false
  }
 },
 "nbformat": 4,
 "nbformat_minor": 5
}
