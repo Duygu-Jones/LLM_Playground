{
 "cells": [
  {
   "cell_type": "markdown",
   "id": "3c54fa65",
   "metadata": {},
   "source": [
    "# GOLDBERG MED GmbH URETIM-TAKIP-SATIS ANALIZI"
   ]
  },
  {
   "cell_type": "markdown",
   "id": "4e8d91d0",
   "metadata": {},
   "source": [
    "**Giriş**\n",
    "\n",
    "Bu proje, Goldberg Med GmbH’nin satış performansını analiz etmek ve iş süreçlerini iyileştirmek için Keşifsel Veri Analizi (EDA) yöntemlerini kullanmayı amaçlayacaktır. Projenin temel hedefi, mevcut veriyi anlamak, olası sorunları belirlemek ve şirketin stratejik karar alma süreçlerine katkıda bulunmaktır.\n",
    "\n",
    "**Proje Hedefleri:**\n",
    "\n",
    "1. Mevcut veri setini inceleyerek verinin yapısını ve özelliklerini anlamak.\n",
    "2. Satış performansı ile ilgili temel trendleri ve desenleri keşfetmek.\n",
    "3. Verinin kalitesini artırmak için temizleme işlemleri yapmak (eksik ve anormal verileri tespit ve düzeltme).\n",
    "4. Elde edilen bulgular doğrultusunda, şirketin pazardaki konumunu güçlendirecek öneriler geliştirmek.\n",
    "\n",
    "**Proje Adımları:**\n",
    "\n",
    "1. **Veri Toplama ve Tanımlama:** Şirketten elde edilen satış verileri ve iş süreçlerine dair bilgiler incelenecek ve analiz için hazırlanacaktır.\n",
    "2. **Keşifsel Veri Analizi (EDA):** \n",
    "3. **Veri Temizleme:** Veri setindeki eksik veya hatalı veriler tespit edilerek gerekli düzenlemeler yapılacaktır.\n",
    "3. **Analiz ve Gorsellestirme:** Verinin genel dağılımı, temel istatistikler ve görselleştirme teknikleri ile incelenecektir. Bu adımda, verinin temel trendleri ve değişkenler arasındaki ilişkiler analiz edilecektir.\n",
    "4. **Bulgular ve Yorumlar:** Elde edilen analiz sonuçları yorumlanarak, satış performansını etkileyen faktörler üzerine odaklanılacaktır.\n",
    "5. **Sonuçlar ve Öneriler:** Şirketin satışlarını artırmaya yönelik stratejik öneriler geliştirilecek ve ileriye dönük analizlerin yapılması için yol haritası sunulacaktır.\n",
    "\n",
    "**Sonuçlar:**\n",
    "\n",
    "Bu proje, Goldberg Med GmbH’nin satış verilerini analiz ederek, performansı artırmaya yönelik içgörüler sunacaktır. Analiz süreci, şirketin iş süreçlerinde verimliliği artırabilecek potansiyel alanları belirleyecek ve bu alanlarda uygulanabilecek stratejiler geliştirecektir. Elde edilen veriler doğrultusunda, şirketin pazar payını artırmak ve satışları optimize etmek için uygulanabilecek öneriler raporda detaylı olarak sunulacaktır."
   ]
  },
  {
   "cell_type": "markdown",
   "id": "d1aa00dc-fd8f-4c98-a350-c6290b877a47",
   "metadata": {},
   "source": [
    "### Imports Libraries"
   ]
  },
  {
   "cell_type": "code",
   "execution_count": 9,
   "id": "e9bb2ba0",
   "metadata": {
    "ExecuteTime": {
     "end_time": "2024-10-26T15:58:03.029792Z",
     "start_time": "2024-10-26T15:57:57.988428Z"
    }
   },
   "outputs": [],
   "source": [
    "import numpy as np \n",
    "import pandas as pd \n",
    "import matplotlib.pyplot as plt\n",
    "import plotly.express as px\n",
    "import seaborn as sns\n",
    "import cufflinks as cf\n",
    "%matplotlib inline \n",
    "\n",
    "from scipy import stats\n",
    "\n",
    "\n",
    "pd.set_option('display.max_rows', 1000)\n",
    "pd.set_option('display.max_columns', 1000)\n",
    "pd.set_option('display.width', 1000)\n",
    "\n",
    "import warnings\n",
    "warnings.filterwarnings(\"ignore\")"
   ]
  },
  {
   "cell_type": "markdown",
   "id": "330efe83-58f1-4664-9d0c-e2a47340a0c3",
   "metadata": {},
   "source": [
    "### Import Local `utils1` Modul"
   ]
  },
  {
   "cell_type": "code",
   "execution_count": null,
   "id": "573ded06-075e-46ec-89c7-c322e93470fd",
   "metadata": {
    "ExecuteTime": {
     "end_time": "2024-10-26T15:58:03.466146Z",
     "start_time": "2024-10-26T15:58:03.466146Z"
    }
   },
   "outputs": [],
   "source": [
    "#  FONKSIYONLARIMIZI DERLEDIGIMIZ `UTILS` ADINDAKI MODULU BU NOTEBOOK ICINE IMPORT EDIYORUZ\n",
    "\n",
    "import sys\n",
    "\n",
    "# utils1.py dosyasının bulunduğu dizini ham dize olarak ekleyin\n",
    "sys.path.append(\"C:/Users/duygu/Desktop/00-GitHub-Repo/00-1INTERNSHIP/INT1_PROJECT/UTILITIES/\")\n",
    "\n",
    "# 'utils1.py' dosyasında olusturulan Utils sınıfını import et\n",
    "from utils1 import Utils, UtilsAnalysis\n",
    "\n",
    "# utils1 icindeki tum class'lardan bir nesne oluştur\n",
    "utils = Utils()\n",
    "utils_analysis = UtilsAnalysis()"
   ]
  },
  {
   "cell_type": "code",
   "execution_count": 3,
   "id": "2da7bb2d-f669-4c73-8281-a1e142e0c27a",
   "metadata": {
    "ExecuteTime": {
     "end_time": "2024-10-26T13:44:59.575456Z",
     "start_time": "2024-10-26T13:44:59.569514Z"
    },
    "collapsed": true
   },
   "outputs": [
    {
     "data": {
      "text/plain": [
       "['__class__',\n",
       " '__delattr__',\n",
       " '__dict__',\n",
       " '__dir__',\n",
       " '__doc__',\n",
       " '__eq__',\n",
       " '__format__',\n",
       " '__ge__',\n",
       " '__getattribute__',\n",
       " '__getstate__',\n",
       " '__gt__',\n",
       " '__hash__',\n",
       " '__init__',\n",
       " '__init_subclass__',\n",
       " '__le__',\n",
       " '__lt__',\n",
       " '__module__',\n",
       " '__ne__',\n",
       " '__new__',\n",
       " '__reduce__',\n",
       " '__reduce_ex__',\n",
       " '__repr__',\n",
       " '__setattr__',\n",
       " '__sizeof__',\n",
       " '__str__',\n",
       " '__subclasshook__',\n",
       " '__weakref__',\n",
       " 'df',\n",
       " 'read_excel_page',\n",
       " 'save_and_load_csv']"
      ]
     },
     "execution_count": 3,
     "metadata": {},
     "output_type": "execute_result"
    }
   ],
   "source": [
    "# utils nesnesindeki tüm fonksiyonları ve öznitelikleri listelemek için\n",
    "dir(utils)"
   ]
  },
  {
   "cell_type": "code",
   "execution_count": 4,
   "id": "7c68fdc4-3553-4bce-9a54-3c082b963e2f",
   "metadata": {
    "ExecuteTime": {
     "end_time": "2024-10-26T13:44:59.593469Z",
     "start_time": "2024-10-26T13:44:59.587579Z"
    },
    "collapsed": true
   },
   "outputs": [
    {
     "data": {
      "text/plain": [
       "['__class__',\n",
       " '__delattr__',\n",
       " '__dict__',\n",
       " '__dir__',\n",
       " '__doc__',\n",
       " '__eq__',\n",
       " '__format__',\n",
       " '__ge__',\n",
       " '__getattribute__',\n",
       " '__getstate__',\n",
       " '__gt__',\n",
       " '__hash__',\n",
       " '__init__',\n",
       " '__init_subclass__',\n",
       " '__le__',\n",
       " '__lt__',\n",
       " '__module__',\n",
       " '__ne__',\n",
       " '__new__',\n",
       " '__reduce__',\n",
       " '__reduce_ex__',\n",
       " '__repr__',\n",
       " '__setattr__',\n",
       " '__sizeof__',\n",
       " '__str__',\n",
       " '__subclasshook__',\n",
       " '__weakref__',\n",
       " 'detect_anomalies',\n",
       " 'duplicate_values',\n",
       " 'find_non_numeric_values',\n",
       " 'get_value_count',\n",
       " 'missing_values',\n",
       " 'na_ratio_plot',\n",
       " 'numeric_summary',\n",
       " 'object_summary',\n",
       " 'rename_columns_by_position',\n",
       " 'set_df']"
      ]
     },
     "execution_count": 4,
     "metadata": {},
     "output_type": "execute_result"
    }
   ],
   "source": [
    "# utils nesnesindeki tüm fonksiyonları ve öznitelikleri listelemek için\n",
    "dir(UtilsAnalysis)"
   ]
  },
  {
   "cell_type": "markdown",
   "id": "34d34efd-34c3-440f-85ce-e4d1772b4b9b",
   "metadata": {},
   "source": [
    "### User Defined Functions"
   ]
  },
  {
   "cell_type": "code",
   "execution_count": 15,
   "id": "9ad98e5c-0e6a-4916-a18a-9923b9e733b6",
   "metadata": {
    "ExecuteTime": {
     "end_time": "2024-10-26T16:06:27.768363Z",
     "start_time": "2024-10-26T16:06:27.750266Z"
    }
   },
   "outputs": [],
   "source": [
    "# =============== User-Defined-Function ==========================\n",
    "\n",
    "#================ Categorical Features Summary ===================\n",
    "def object_summary(df):\n",
    "    obs = df.shape[0]\n",
    "    duplicate_count = df.duplicated().sum()\n",
    "\n",
    "    # Kategorik sütunlar için özetleme\n",
    "    object_df = df.select_dtypes(include='object')\n",
    "    \n",
    "    # Yeni bir boş DataFrame oluşturma\n",
    "    summary_df = pd.DataFrame(index=object_df.columns)\n",
    "\n",
    "    summary_df['Dtype'] = object_df.dtypes\n",
    "    summary_df['Counts'] = object_df.count()\n",
    "    summary_df['Nulls'] = object_df.isnull().sum()\n",
    "    summary_df['NullPercent'] = (object_df.isnull().sum() / obs) * 100\n",
    "    summary_df['Top'] = object_df.apply(lambda x: x.mode().iloc[0] if not x.mode().empty else '-')\n",
    "    summary_df['Frequency'] = object_df.apply(lambda x: x.value_counts().max() if not x.value_counts().empty else '-')\n",
    "    summary_df['Uniques'] = object_df.nunique()\n",
    "\n",
    "    # UniqueValues sütununu kontrol ederek ekleme (dize olarak)\n",
    "    summary_df['UniqueValues'] = object_df.apply(\n",
    "        lambda x: ', '.join(map(str, x.unique()[:10])) + '...' if x.nunique() > 10 else ', '.join(map(str, x.unique()))\n",
    "    )\n",
    "\n",
    "    # DataFrame şekli ve tekrar eden satır sayısını ekrana yazdırma\n",
    "    print(f'1. Data shape (rows, columns): {df.shape}')\n",
    "    print(f'2. Number of duplicate rows: {duplicate_count}')\n",
    "    return summary_df\n",
    "\n",
    "\n",
    "#================ Numerical Features Summary ===================\n",
    "def numeric_summary(df):\n",
    "    obs = df.shape[0]\n",
    "    duplicate_count = df.duplicated().sum()\n",
    "\n",
    "    # Numerik sütunlar için özetleme\n",
    "    numeric_df = df.select_dtypes(include=['float64', 'int64'])\n",
    "\n",
    "    # Yeni bir boş DataFrame oluşturma\n",
    "    summary_df = pd.DataFrame(index=numeric_df.columns)\n",
    "\n",
    "    summary_df['Dtype'] = numeric_df.dtypes\n",
    "    summary_df['Counts'] = numeric_df.count()\n",
    "    summary_df['Nulls'] = numeric_df.isnull().sum()\n",
    "    summary_df['NullPercent'] = (numeric_df.isnull().sum() / obs) * 100\n",
    "    summary_df['Mean'] = numeric_df.mean()\n",
    "    summary_df['Std'] = numeric_df.std()\n",
    "    summary_df['Min'] = numeric_df.min()\n",
    "    summary_df['25%'] = numeric_df.quantile(0.25)\n",
    "    summary_df['50% (Median)'] = numeric_df.median()\n",
    "    summary_df['75%'] = numeric_df.quantile(0.75)\n",
    "    summary_df['Max'] = numeric_df.max()\n",
    "\n",
    "    # DataFrame şekli ve tekrar eden satır sayısını ekrana yazdırma\n",
    "    print(f'1. Data shape (rows, columns): {df.shape}')\n",
    "    print(f'2. Number of duplicate rows: {duplicate_count}')\n",
    "    return summary_df\n",
    "    \n",
    "\n",
    "#========== Get count and percentage of values for each column =================\n",
    "def get_value_count(df, column_name):\n",
    "    \"\"\"\n",
    "    This function calculates and returns a DataFrame with the value counts and \n",
    "    their corresponding percentages for a specified column in the DataFrame.\n",
    "    \"\"\"\n",
    "    \n",
    "    vc = df[column_name].value_counts()\n",
    "    vc_norm = df[column_name].value_counts(normalize=True)\n",
    "    \n",
    "    vc = vc.rename_axis(column_name).reset_index(name='counts')\n",
    "    vc_norm = vc_norm.rename_axis(column_name).reset_index(name='percent')\n",
    "    vc_norm['percent'] = (vc_norm['percent'] * 100).map('{:.2f}%'.format)\n",
    "    \n",
    "    df_result = pd.concat([vc[column_name], vc['counts'], vc_norm['percent']], axis=1)\n",
    "    return df_result\n",
    "\n",
    "\n",
    "#============== Checks duplicates and drops them ==========================\n",
    "\n",
    "def duplicate_values(df):\n",
    "    print(\"Duplicate check...\")\n",
    "    num_duplicates = df.duplicated(subset=None, keep='first').sum()\n",
    "    if num_duplicates > 0:\n",
    "        print(\"There are\", num_duplicates, \"duplicated observations in the dataset.\")\n",
    "        df.drop_duplicates(keep='first', inplace=True)\n",
    "        print(num_duplicates, \"duplicates were dropped!\")\n",
    "        print(\"No more duplicate rows!\")\n",
    "    else:\n",
    "        print(\"There are no duplicated observations in the dataset.\")\n",
    "\n",
    "\n",
    "\n",
    "# ========== User-Defined-Function for Missing Values ============\n",
    "def missing_values(df):\n",
    "    \"\"\"This function calculates the missing values count and their percentage in a DataFrame.\"\"\"\n",
    "\n",
    "    missing_count = df.isnull().sum()\n",
    "    value_count = df.isnull().count()\n",
    "    missing_percentage = round(missing_count / value_count * 100, 2)\n",
    "    \n",
    "    # Format the percentage as '0.00%' with % symbol\n",
    "    missing_percentage_formatted = missing_percentage.map(\"{:.2f}%\".format)\n",
    "    # Create a DataFrame to store the results\n",
    "    missing_df = pd.DataFrame({\"count\": missing_count, \"percentage\": missing_percentage_formatted}) \n",
    "    return missing_df\n",
    "\n",
    "\n",
    "# ========== Plotting Missing Values  ===========================\n",
    "def na_ratio_plot(df):\n",
    "    \"\"\"Plots the ratio of missing values for each feature and prints the count of missing values.\"\"\"\n",
    "    \n",
    "    sns.displot(df.isna().melt(value_name='Missing_data',var_name='Features')\\\n",
    "                ,y='Features',hue='Missing_data',multiple='fill',aspect=9/8)\n",
    "\n",
    "    print(df.isna().sum()[df.isna().sum()>0])\n",
    "\n",
    "    \n",
    "    \n",
    "#========== Detecting Anomalies ================================\n",
    "\n",
    "def detect_anomalies(df, column_name):\n",
    "    \"\"\"\n",
    "    Detects values with unusual (non-alphanumeric) characters in a column.\n",
    "    Returns: list: Detected unusual character values.\n",
    "    \"\"\"\n",
    "    # Get the unique values in the column\n",
    "    unique_values = df[column_name].unique()    \n",
    "    # Detect values with unusual characters (non-alphanumeric)\n",
    "    unusual_characters = [val for val in unique_values if isinstance(val, str) and not val.isalnum()]\n",
    "    \n",
    "    # Return the list as a single string with values separated by commas\n",
    "    return ', '.join(unusual_characters)\n",
    "\n",
    "\n",
    "#========== Detecting Non-Numerical Characters ===========================\n",
    "\n",
    "import re\n",
    "\n",
    "def find_non_numeric_values(df, column_name):\n",
    "    \"\"\"\n",
    "    Finds unique non-numeric values in a specified column of the DataFrame.\n",
    "    \"\"\"\n",
    "    pattern = r'\\D+'  # Pattern to match non-numeric characters\n",
    "    # Find and flatten non-numeric values, then ensure uniqueness with set\n",
    "    return set(re.findall(pattern, ' '.join(df[column_name].astype(str))))\n",
    "\n",
    "\n",
    "#===============Plot all Categoricals Bar Chart ===========================\n",
    "def plot_categorical_bar_graphs(df):\n",
    "    \"\"\"\n",
    "    DataFrame'deki tüm kategorik veriler için bar grafikleri oluşturur.\n",
    "    \n",
    "    Args:\n",
    "    - df (DataFrame): Kategorik verileri içeren DataFrame.\n",
    "    \"\"\"\n",
    "    # Kategorik sütunları seçme\n",
    "    categorical_columns = df.select_dtypes(include=['object', 'category']).columns\n",
    "\n",
    "    # Her kategorik sütun için bar grafiği oluşturma\n",
    "    for column in categorical_columns:\n",
    "        plt.figure(figsize=(15, 5))\n",
    "        ax = sns.countplot(\n",
    "            x=column, \n",
    "            data=df, \n",
    "            order=df[column].value_counts().index, \n",
    "            palette='Set2'\n",
    "        )\n",
    "        ax.bar_label(ax.containers[0], rotation=45)\n",
    "        plt.xlabel(column, fontsize=12)\n",
    "        plt.ylabel('Count', fontsize=12)\n",
    "        plt.title(f'Bar Graph of {column}', fontsize=20)\n",
    "        plt.xticks(rotation=45, ha='right', fontsize=12)\n",
    "        plt.show()\n",
    "        \n",
    "#======================================================================\n"
   ]
  },
  {
   "cell_type": "markdown",
   "id": "6ec28288",
   "metadata": {},
   "source": [
    "# EXPLORATORY DATA ANALYSIS (EDA)¶"
   ]
  },
  {
   "cell_type": "markdown",
   "id": "b27abdce",
   "metadata": {},
   "source": [
    "## Understanding the the Data\n",
    "- Basic statistics\n",
    "- Info - shape vs.."
   ]
  },
  {
   "cell_type": "markdown",
   "id": "1675c058",
   "metadata": {},
   "source": [
    "## Data Cleaning and Transformation\n",
    "\n",
    "- Her bir feature tek tek inceleme yapilmasi\n",
    "    - Missing\n",
    "    - Duplicates\n",
    "    - Anormal Karakterlerin temizlenmesi\n",
    "    - ...."
   ]
  },
  {
   "cell_type": "markdown",
   "id": "3ef2f30c",
   "metadata": {},
   "source": [
    "## Distributions\n",
    "\n",
    "- Feature'larinizin detayli analiz ve gorsellestirilmesi"
   ]
  },
  {
   "cell_type": "markdown",
   "id": "b7acf7a1",
   "metadata": {},
   "source": [
    "## Correlations"
   ]
  },
  {
   "cell_type": "markdown",
   "id": "c7d86f68",
   "metadata": {},
   "source": [
    "## Feature Engineering"
   ]
  },
  {
   "cell_type": "markdown",
   "id": "2b3cad6d",
   "metadata": {},
   "source": [
    "## Feature Selection\n",
    "- Hangi feauture model icin kullanilmali-neden?"
   ]
  },
  {
   "cell_type": "markdown",
   "id": "e96285fb",
   "metadata": {},
   "source": [
    "## Save Cleaned Data"
   ]
  },
  {
   "cell_type": "markdown",
   "id": "d6b1bb6f",
   "metadata": {},
   "source": [
    "# Bulgular ve Yorumlar"
   ]
  },
  {
   "cell_type": "markdown",
   "id": "7878d43c",
   "metadata": {},
   "source": [
    "# Sonuçlar ve Öneriler"
   ]
  },
  {
   "cell_type": "code",
   "execution_count": null,
   "id": "aee82dcb",
   "metadata": {},
   "outputs": [],
   "source": []
  }
 ],
 "metadata": {
  "hide_input": false,
  "kernelspec": {
   "display_name": "Python 3 (ipykernel)",
   "language": "python",
   "name": "python3"
  },
  "language_info": {
   "codemirror_mode": {
    "name": "ipython",
    "version": 3
   },
   "file_extension": ".py",
   "mimetype": "text/x-python",
   "name": "python",
   "nbconvert_exporter": "python",
   "pygments_lexer": "ipython3",
   "version": "3.12.3"
  },
  "toc": {
   "base_numbering": 1,
   "nav_menu": {},
   "number_sections": true,
   "sideBar": true,
   "skip_h1_title": false,
   "title_cell": "Table of Contents",
   "title_sidebar": "Contents",
   "toc_cell": false,
   "toc_position": {
    "height": "calc(100% - 180px)",
    "left": "10px",
    "top": "150px",
    "width": "276.188px"
   },
   "toc_section_display": true,
   "toc_window_display": true
  },
  "varInspector": {
   "cols": {
    "lenName": 16,
    "lenType": 16,
    "lenVar": 40
   },
   "kernels_config": {
    "python": {
     "delete_cmd_postfix": "",
     "delete_cmd_prefix": "del ",
     "library": "var_list.py",
     "varRefreshCmd": "print(var_dic_list())"
    },
    "r": {
     "delete_cmd_postfix": ") ",
     "delete_cmd_prefix": "rm(",
     "library": "var_list.r",
     "varRefreshCmd": "cat(var_dic_list()) "
    }
   },
   "types_to_exclude": [
    "module",
    "function",
    "builtin_function_or_method",
    "instance",
    "_Feature"
   ],
   "window_display": false
  }
 },
 "nbformat": 4,
 "nbformat_minor": 5
}
