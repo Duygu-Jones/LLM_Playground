{
 "cells": [
  {
   "cell_type": "code",
   "execution_count": 3,
   "id": "36c426cc",
   "metadata": {
    "ExecuteTime": {
     "end_time": "2024-10-24T08:17:46.133788Z",
     "start_time": "2024-10-24T08:17:45.822627Z"
    }
   },
   "outputs": [
    {
     "ename": "FileNotFoundError",
     "evalue": "[Errno 2] No such file or directory: '2018-Uretim_Takip.xlsx'",
     "output_type": "error",
     "traceback": [
      "\u001b[1;31m---------------------------------------------------------------------------\u001b[0m",
      "\u001b[1;31mFileNotFoundError\u001b[0m                         Traceback (most recent call last)",
      "Cell \u001b[1;32mIn[3], line 11\u001b[0m\n\u001b[0;32m      8\u001b[0m file_path \u001b[38;5;241m=\u001b[39m \u001b[38;5;124m'\u001b[39m\u001b[38;5;124m2018-Uretim_Takip.xlsx\u001b[39m\u001b[38;5;124m'\u001b[39m\n\u001b[0;32m     10\u001b[0m \u001b[38;5;66;03m# Dosyadaki tüm sayfa adlarını görüntüleme\u001b[39;00m\n\u001b[1;32m---> 11\u001b[0m xls \u001b[38;5;241m=\u001b[39m pd\u001b[38;5;241m.\u001b[39mExcelFile(file_path)\n\u001b[0;32m     12\u001b[0m \u001b[38;5;28mprint\u001b[39m(xls\u001b[38;5;241m.\u001b[39msheet_names)\n",
      "File \u001b[1;32m~\\anaconda3\\Lib\\site-packages\\pandas\\io\\excel\\_base.py:1550\u001b[0m, in \u001b[0;36mExcelFile.__init__\u001b[1;34m(self, path_or_buffer, engine, storage_options, engine_kwargs)\u001b[0m\n\u001b[0;32m   1548\u001b[0m     ext \u001b[38;5;241m=\u001b[39m \u001b[38;5;124m\"\u001b[39m\u001b[38;5;124mxls\u001b[39m\u001b[38;5;124m\"\u001b[39m\n\u001b[0;32m   1549\u001b[0m \u001b[38;5;28;01melse\u001b[39;00m:\n\u001b[1;32m-> 1550\u001b[0m     ext \u001b[38;5;241m=\u001b[39m inspect_excel_format(\n\u001b[0;32m   1551\u001b[0m         content_or_path\u001b[38;5;241m=\u001b[39mpath_or_buffer, storage_options\u001b[38;5;241m=\u001b[39mstorage_options\n\u001b[0;32m   1552\u001b[0m     )\n\u001b[0;32m   1553\u001b[0m     \u001b[38;5;28;01mif\u001b[39;00m ext \u001b[38;5;129;01mis\u001b[39;00m \u001b[38;5;28;01mNone\u001b[39;00m:\n\u001b[0;32m   1554\u001b[0m         \u001b[38;5;28;01mraise\u001b[39;00m \u001b[38;5;167;01mValueError\u001b[39;00m(\n\u001b[0;32m   1555\u001b[0m             \u001b[38;5;124m\"\u001b[39m\u001b[38;5;124mExcel file format cannot be determined, you must specify \u001b[39m\u001b[38;5;124m\"\u001b[39m\n\u001b[0;32m   1556\u001b[0m             \u001b[38;5;124m\"\u001b[39m\u001b[38;5;124man engine manually.\u001b[39m\u001b[38;5;124m\"\u001b[39m\n\u001b[0;32m   1557\u001b[0m         )\n",
      "File \u001b[1;32m~\\anaconda3\\Lib\\site-packages\\pandas\\io\\excel\\_base.py:1402\u001b[0m, in \u001b[0;36minspect_excel_format\u001b[1;34m(content_or_path, storage_options)\u001b[0m\n\u001b[0;32m   1399\u001b[0m \u001b[38;5;28;01mif\u001b[39;00m \u001b[38;5;28misinstance\u001b[39m(content_or_path, \u001b[38;5;28mbytes\u001b[39m):\n\u001b[0;32m   1400\u001b[0m     content_or_path \u001b[38;5;241m=\u001b[39m BytesIO(content_or_path)\n\u001b[1;32m-> 1402\u001b[0m \u001b[38;5;28;01mwith\u001b[39;00m get_handle(\n\u001b[0;32m   1403\u001b[0m     content_or_path, \u001b[38;5;124m\"\u001b[39m\u001b[38;5;124mrb\u001b[39m\u001b[38;5;124m\"\u001b[39m, storage_options\u001b[38;5;241m=\u001b[39mstorage_options, is_text\u001b[38;5;241m=\u001b[39m\u001b[38;5;28;01mFalse\u001b[39;00m\n\u001b[0;32m   1404\u001b[0m ) \u001b[38;5;28;01mas\u001b[39;00m handle:\n\u001b[0;32m   1405\u001b[0m     stream \u001b[38;5;241m=\u001b[39m handle\u001b[38;5;241m.\u001b[39mhandle\n\u001b[0;32m   1406\u001b[0m     stream\u001b[38;5;241m.\u001b[39mseek(\u001b[38;5;241m0\u001b[39m)\n",
      "File \u001b[1;32m~\\anaconda3\\Lib\\site-packages\\pandas\\io\\common.py:882\u001b[0m, in \u001b[0;36mget_handle\u001b[1;34m(path_or_buf, mode, encoding, compression, memory_map, is_text, errors, storage_options)\u001b[0m\n\u001b[0;32m    873\u001b[0m         handle \u001b[38;5;241m=\u001b[39m \u001b[38;5;28mopen\u001b[39m(\n\u001b[0;32m    874\u001b[0m             handle,\n\u001b[0;32m    875\u001b[0m             ioargs\u001b[38;5;241m.\u001b[39mmode,\n\u001b[1;32m   (...)\u001b[0m\n\u001b[0;32m    878\u001b[0m             newline\u001b[38;5;241m=\u001b[39m\u001b[38;5;124m\"\u001b[39m\u001b[38;5;124m\"\u001b[39m,\n\u001b[0;32m    879\u001b[0m         )\n\u001b[0;32m    880\u001b[0m     \u001b[38;5;28;01melse\u001b[39;00m:\n\u001b[0;32m    881\u001b[0m         \u001b[38;5;66;03m# Binary mode\u001b[39;00m\n\u001b[1;32m--> 882\u001b[0m         handle \u001b[38;5;241m=\u001b[39m \u001b[38;5;28mopen\u001b[39m(handle, ioargs\u001b[38;5;241m.\u001b[39mmode)\n\u001b[0;32m    883\u001b[0m     handles\u001b[38;5;241m.\u001b[39mappend(handle)\n\u001b[0;32m    885\u001b[0m \u001b[38;5;66;03m# Convert BytesIO or file objects passed with an encoding\u001b[39;00m\n",
      "\u001b[1;31mFileNotFoundError\u001b[0m: [Errno 2] No such file or directory: '2018-Uretim_Takip.xlsx'"
     ]
    }
   ],
   "source": [
    "import os\n",
    "import pandas as pd\n",
    "\n",
    "# Çalışma dizinini ayarlama\n",
    "os.chdir(r'C:\\Users\\duygu\\Desktop\\00-GitHub-Repo\\00-1INTERNSHIP\\INT1_PROJECT')\n",
    "\n",
    "# Dosya yolunu belirtme\n",
    "file_path = '2018-Uretim_Takip.xlsx'\n",
    "\n",
    "# Dosyadaki tüm sayfa adlarını görüntüleme\n",
    "xls = pd.ExcelFile(file_path)\n",
    "print(xls.sheet_names)"
   ]
  },
  {
   "cell_type": "code",
   "execution_count": 21,
   "id": "61e828ef",
   "metadata": {
    "ExecuteTime": {
     "end_time": "2024-10-23T16:46:06.174662Z",
     "start_time": "2024-10-23T16:45:32.529466Z"
    }
   },
   "outputs": [],
   "source": [
    "# Sayfa adlarını okuma ve tüm sayfaları birer DataFrame olarak saklama\n",
    "dfs = pd.read_excel(file_path, sheet_name=None)"
   ]
  },
  {
   "cell_type": "code",
   "execution_count": 37,
   "id": "28c496c9",
   "metadata": {
    "ExecuteTime": {
     "end_time": "2024-10-23T18:08:44.333040Z",
     "start_time": "2024-10-23T18:08:43.529677Z"
    }
   },
   "outputs": [
    {
     "name": "stdout",
     "output_type": "stream",
     "text": [
      "['2019-01 OTOKLAV', '2019-02-AMELİYAT MASASI', '2019-04-HİDROJEN PEROKSİT', '2019-05-YIKAMA', '2019-06-OKSİJEN SİSTEMİ', '2019-07-KARTUŞ', '2019-08-REVERSE OSMOS ']\n"
     ]
    }
   ],
   "source": [
    "# Dosya yolunu belirtme\n",
    "file_path = '2019-Uretim_Takip.xlsx'\n",
    "\n",
    "# Dosyadaki tüm sayfa adlarını görüntüleme\n",
    "xls = pd.ExcelFile(file_path)\n",
    "print(xls.sheet_names)"
   ]
  },
  {
   "cell_type": "code",
   "execution_count": 38,
   "id": "f428817e",
   "metadata": {
    "ExecuteTime": {
     "end_time": "2024-10-23T18:08:54.806283Z",
     "start_time": "2024-10-23T18:08:54.553956Z"
    }
   },
   "outputs": [
    {
     "name": "stdout",
     "output_type": "stream",
     "text": [
      "['2020-01 OTOKLAV', '2020-02-AMELİYAT MASASI', '2020-04-HİDROJEN PEROKSİT', '2020-05-YIKAMA', '2020-06-OKSİJEN SİSTEMİ', '2020-07-KARTUŞ', '2020-08-REVERSE OSMOS ']\n"
     ]
    }
   ],
   "source": [
    "# Dosya yolunu belirtme\n",
    "file_path = '2020-Uretim_Takip.xlsx'\n",
    "\n",
    "# Dosyadaki tüm sayfa adlarını görüntüleme\n",
    "xls = pd.ExcelFile(file_path)\n",
    "print(xls.sheet_names)"
   ]
  },
  {
   "cell_type": "code",
   "execution_count": 39,
   "id": "f2ca5889",
   "metadata": {
    "ExecuteTime": {
     "end_time": "2024-10-23T18:09:06.099693Z",
     "start_time": "2024-10-23T18:09:04.783005Z"
    }
   },
   "outputs": [
    {
     "name": "stdout",
     "output_type": "stream",
     "text": [
      "['2021-01 OTOKLAV', '2021-02-AMELİYAT MASASI', '2021-04-HİDROJEN PEROKSİT', '2021-05-YIKAMA', '2021-06-OKSİJEN', '2021-07-KARTUŞ', '2021-08-REVERSE OSMOS ']\n"
     ]
    }
   ],
   "source": [
    "# Dosya yolunu belirtme\n",
    "file_path = '2021-Uretim_Takip.xlsx'\n",
    "\n",
    "# Dosyadaki tüm sayfa adlarını görüntüleme\n",
    "xls = pd.ExcelFile(file_path)\n",
    "print(xls.sheet_names)"
   ]
  },
  {
   "cell_type": "code",
   "execution_count": 40,
   "id": "452b94a6",
   "metadata": {
    "ExecuteTime": {
     "end_time": "2024-10-23T18:12:06.442716Z",
     "start_time": "2024-10-23T18:12:06.080189Z"
    }
   },
   "outputs": [
    {
     "name": "stdout",
     "output_type": "stream",
     "text": [
      "['2022-01 OTOKLAV', '2022-02 AMELİYAT MASASI', '2022-04 HİDROJEN PEROSİT-PLAZMA', '2022-05 YIKAMA', '2022-06 OKSİJEN', '2022-07 KARTUŞ', '2022-08 REVERSE OSMOS']\n"
     ]
    }
   ],
   "source": [
    "# Dosya yolunu belirtme\n",
    "file_path = '2022-Uretim_Takip.xlsx'\n",
    "\n",
    "# Dosyadaki tüm sayfa adlarını görüntüleme\n",
    "xls = pd.ExcelFile(file_path)\n",
    "print(xls.sheet_names)"
   ]
  },
  {
   "cell_type": "code",
   "execution_count": 41,
   "id": "e8336775",
   "metadata": {
    "ExecuteTime": {
     "end_time": "2024-10-23T18:12:38.110503Z",
     "start_time": "2024-10-23T18:12:37.626209Z"
    }
   },
   "outputs": [
    {
     "name": "stdout",
     "output_type": "stream",
     "text": [
      "['LİSTE', '2023-01 OTOKLAV', '2023-02 AMELİYAT MASASI', '2023-03 JİNEKOLOJİK MUAYENE', '2023-04 HİDROJEN PEROSİT-PLAZMA', '2023-05 YIKAMA', '2023-06 OKSİJEN', '2023-07 KARTUŞ', '2023-08 REVERSE OSMOS', '2023-09 ULTRASONİK YIKAMA', '2023-10 KAPAMA CİHAZI', '2023-11 DİĞER CİHAZLAR', 'DEMO GİDEN CİHAZLAR', 'Sayfa1']\n"
     ]
    }
   ],
   "source": [
    "# Dosya yolunu belirtme\n",
    "file_path = '2023-Uretim_Takip.xlsx'\n",
    "\n",
    "# Dosyadaki tüm sayfa adlarını görüntüleme\n",
    "xls = pd.ExcelFile(file_path)\n",
    "print(xls.sheet_names)"
   ]
  },
  {
   "cell_type": "code",
   "execution_count": 42,
   "id": "76ed69ce",
   "metadata": {
    "ExecuteTime": {
     "end_time": "2024-10-23T18:13:18.152894Z",
     "start_time": "2024-10-23T18:13:17.810689Z"
    }
   },
   "outputs": [
    {
     "name": "stdout",
     "output_type": "stream",
     "text": [
      "['2023-01 OTOKLAV', '2023-02 AMELİYAT MASASI', '2023-04 HİDROJEN PEROSİT-PLAZMA', '2023-05 YIKAMA', '2023-06 OKSİJEN', '2023-07 KARTUŞ', '2023-08 REVERSE OSMOS']\n"
     ]
    }
   ],
   "source": [
    "# Dosya yolunu belirtme\n",
    "file_path = '2023-Uretim_Takip-Endutriyel.xlsx'\n",
    "\n",
    "# Dosyadaki tüm sayfa adlarını görüntüleme\n",
    "xls = pd.ExcelFile(file_path)\n",
    "print(xls.sheet_names)"
   ]
  },
  {
   "cell_type": "code",
   "execution_count": 43,
   "id": "e7a9951d",
   "metadata": {
    "ExecuteTime": {
     "end_time": "2024-10-23T18:13:47.281650Z",
     "start_time": "2024-10-23T18:13:46.877068Z"
    }
   },
   "outputs": [
    {
     "name": "stdout",
     "output_type": "stream",
     "text": [
      "['2024-01 OTOKLAV', '2024-02 AMELİYAT MASASI', '2024-04 HİDROJEN PEROSİT-PLAZMA', '2024-05 YIKAMA', '2024-06 OKSİJEN', '2024-07 KARTUŞ', '2024-08 REVERSE OSMOS']\n"
     ]
    }
   ],
   "source": [
    "# Dosya yolunu belirtme\n",
    "file_path = '2024-Uretim_Takip.xlsx'\n",
    "\n",
    "# Dosyadaki tüm sayfa adlarını görüntüleme\n",
    "xls = pd.ExcelFile(file_path)\n",
    "print(xls.sheet_names)"
   ]
  },
  {
   "cell_type": "code",
   "execution_count": null,
   "id": "2c194d8d",
   "metadata": {},
   "outputs": [],
   "source": []
  }
 ],
 "metadata": {
  "hide_input": false,
  "kernelspec": {
   "display_name": "Python 3 (ipykernel)",
   "language": "python",
   "name": "python3"
  },
  "language_info": {
   "codemirror_mode": {
    "name": "ipython",
    "version": 3
   },
   "file_extension": ".py",
   "mimetype": "text/x-python",
   "name": "python",
   "nbconvert_exporter": "python",
   "pygments_lexer": "ipython3",
   "version": "3.12.3"
  },
  "toc": {
   "base_numbering": 1,
   "nav_menu": {},
   "number_sections": true,
   "sideBar": true,
   "skip_h1_title": false,
   "title_cell": "Table of Contents",
   "title_sidebar": "Contents",
   "toc_cell": false,
   "toc_position": {},
   "toc_section_display": true,
   "toc_window_display": true
  },
  "varInspector": {
   "cols": {
    "lenName": 16,
    "lenType": 16,
    "lenVar": 40
   },
   "kernels_config": {
    "python": {
     "delete_cmd_postfix": "",
     "delete_cmd_prefix": "del ",
     "library": "var_list.py",
     "varRefreshCmd": "print(var_dic_list())"
    },
    "r": {
     "delete_cmd_postfix": ") ",
     "delete_cmd_prefix": "rm(",
     "library": "var_list.r",
     "varRefreshCmd": "cat(var_dic_list()) "
    }
   },
   "types_to_exclude": [
    "module",
    "function",
    "builtin_function_or_method",
    "instance",
    "_Feature"
   ],
   "window_display": false
  }
 },
 "nbformat": 4,
 "nbformat_minor": 5
}
