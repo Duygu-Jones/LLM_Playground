{
 "cells": [
  {
   "cell_type": "code",
   "execution_count": 14,
   "id": "36c426cc",
   "metadata": {
    "ExecuteTime": {
     "end_time": "2024-10-23T16:36:49.845805Z",
     "start_time": "2024-10-23T16:36:41.442820Z"
    }
   },
   "outputs": [
    {
     "name": "stdout",
     "output_type": "stream",
     "text": [
      "['2018-01 OTOKLAV', '2018-02-AMELİYAT MASASI', '2018-04-HİDROJEN PEROKSİT', '2018-05-YIKAMA', '2018-06-OKSİJEN SİSTEMİ', '2018-07-KARTUŞ', '2018-08-REVERSE OSMOS ', '2018-DEMO GİDEN CİHAZLAR']\n"
     ]
    }
   ],
   "source": [
    "import os\n",
    "import pandas as pd\n",
    "\n",
    "# Çalışma dizinini ayarlama\n",
    "os.chdir(r'C:\\Users\\ASUS\\Desktop\\Internship')\n",
    "\n",
    "# Dosya yolunu belirtme\n",
    "file_path = '2018-Uretim_Takip.xlsx'\n",
    "\n",
    "# Dosyadaki tüm sayfa adlarını görüntüleme\n",
    "xls = pd.ExcelFile(file_path)\n",
    "print(xls.sheet_names)"
   ]
  },
  {
   "cell_type": "code",
   "execution_count": 21,
   "id": "61e828ef",
   "metadata": {
    "ExecuteTime": {
     "end_time": "2024-10-23T16:46:06.174662Z",
     "start_time": "2024-10-23T16:45:32.529466Z"
    }
   },
   "outputs": [],
   "source": [
    "# Sayfa adlarını okuma ve tüm sayfaları birer DataFrame olarak saklama\n",
    "dfs = pd.read_excel(file_path, sheet_name=None)"
   ]
  },
  {
   "cell_type": "code",
   "execution_count": 37,
   "id": "28c496c9",
   "metadata": {
    "ExecuteTime": {
     "end_time": "2024-10-23T18:08:44.333040Z",
     "start_time": "2024-10-23T18:08:43.529677Z"
    }
   },
   "outputs": [
    {
     "name": "stdout",
     "output_type": "stream",
     "text": [
      "['2019-01 OTOKLAV', '2019-02-AMELİYAT MASASI', '2019-04-HİDROJEN PEROKSİT', '2019-05-YIKAMA', '2019-06-OKSİJEN SİSTEMİ', '2019-07-KARTUŞ', '2019-08-REVERSE OSMOS ']\n"
     ]
    }
   ],
   "source": [
    "# Dosya yolunu belirtme\n",
    "file_path = '2019-Uretim_Takip.xlsx'\n",
    "\n",
    "# Dosyadaki tüm sayfa adlarını görüntüleme\n",
    "xls = pd.ExcelFile(file_path)\n",
    "print(xls.sheet_names)"
   ]
  },
  {
   "cell_type": "code",
   "execution_count": 38,
   "id": "f428817e",
   "metadata": {
    "ExecuteTime": {
     "end_time": "2024-10-23T18:08:54.806283Z",
     "start_time": "2024-10-23T18:08:54.553956Z"
    }
   },
   "outputs": [
    {
     "name": "stdout",
     "output_type": "stream",
     "text": [
      "['2020-01 OTOKLAV', '2020-02-AMELİYAT MASASI', '2020-04-HİDROJEN PEROKSİT', '2020-05-YIKAMA', '2020-06-OKSİJEN SİSTEMİ', '2020-07-KARTUŞ', '2020-08-REVERSE OSMOS ']\n"
     ]
    }
   ],
   "source": [
    "# Dosya yolunu belirtme\n",
    "file_path = '2020-Uretim_Takip.xlsx'\n",
    "\n",
    "# Dosyadaki tüm sayfa adlarını görüntüleme\n",
    "xls = pd.ExcelFile(file_path)\n",
    "print(xls.sheet_names)"
   ]
  },
  {
   "cell_type": "code",
   "execution_count": 39,
   "id": "f2ca5889",
   "metadata": {
    "ExecuteTime": {
     "end_time": "2024-10-23T18:09:06.099693Z",
     "start_time": "2024-10-23T18:09:04.783005Z"
    }
   },
   "outputs": [
    {
     "name": "stdout",
     "output_type": "stream",
     "text": [
      "['2021-01 OTOKLAV', '2021-02-AMELİYAT MASASI', '2021-04-HİDROJEN PEROKSİT', '2021-05-YIKAMA', '2021-06-OKSİJEN', '2021-07-KARTUŞ', '2021-08-REVERSE OSMOS ']\n"
     ]
    }
   ],
   "source": [
    "# Dosya yolunu belirtme\n",
    "file_path = '2021-Uretim_Takip.xlsx'\n",
    "\n",
    "# Dosyadaki tüm sayfa adlarını görüntüleme\n",
    "xls = pd.ExcelFile(file_path)\n",
    "print(xls.sheet_names)"
   ]
  },
  {
   "cell_type": "code",
   "execution_count": 40,
   "id": "452b94a6",
   "metadata": {
    "ExecuteTime": {
     "end_time": "2024-10-23T18:12:06.442716Z",
     "start_time": "2024-10-23T18:12:06.080189Z"
    }
   },
   "outputs": [
    {
     "name": "stdout",
     "output_type": "stream",
     "text": [
      "['2022-01 OTOKLAV', '2022-02 AMELİYAT MASASI', '2022-04 HİDROJEN PEROSİT-PLAZMA', '2022-05 YIKAMA', '2022-06 OKSİJEN', '2022-07 KARTUŞ', '2022-08 REVERSE OSMOS']\n"
     ]
    }
   ],
   "source": [
    "# Dosya yolunu belirtme\n",
    "file_path = '2022-Uretim_Takip.xlsx'\n",
    "\n",
    "# Dosyadaki tüm sayfa adlarını görüntüleme\n",
    "xls = pd.ExcelFile(file_path)\n",
    "print(xls.sheet_names)"
   ]
  },
  {
   "cell_type": "code",
   "execution_count": 41,
   "id": "e8336775",
   "metadata": {
    "ExecuteTime": {
     "end_time": "2024-10-23T18:12:38.110503Z",
     "start_time": "2024-10-23T18:12:37.626209Z"
    }
   },
   "outputs": [
    {
     "name": "stdout",
     "output_type": "stream",
     "text": [
      "['LİSTE', '2023-01 OTOKLAV', '2023-02 AMELİYAT MASASI', '2023-03 JİNEKOLOJİK MUAYENE', '2023-04 HİDROJEN PEROSİT-PLAZMA', '2023-05 YIKAMA', '2023-06 OKSİJEN', '2023-07 KARTUŞ', '2023-08 REVERSE OSMOS', '2023-09 ULTRASONİK YIKAMA', '2023-10 KAPAMA CİHAZI', '2023-11 DİĞER CİHAZLAR', 'DEMO GİDEN CİHAZLAR', 'Sayfa1']\n"
     ]
    }
   ],
   "source": [
    "# Dosya yolunu belirtme\n",
    "file_path = '2023-Uretim_Takip.xlsx'\n",
    "\n",
    "# Dosyadaki tüm sayfa adlarını görüntüleme\n",
    "xls = pd.ExcelFile(file_path)\n",
    "print(xls.sheet_names)"
   ]
  },
  {
   "cell_type": "code",
   "execution_count": 42,
   "id": "76ed69ce",
   "metadata": {
    "ExecuteTime": {
     "end_time": "2024-10-23T18:13:18.152894Z",
     "start_time": "2024-10-23T18:13:17.810689Z"
    }
   },
   "outputs": [
    {
     "name": "stdout",
     "output_type": "stream",
     "text": [
      "['2023-01 OTOKLAV', '2023-02 AMELİYAT MASASI', '2023-04 HİDROJEN PEROSİT-PLAZMA', '2023-05 YIKAMA', '2023-06 OKSİJEN', '2023-07 KARTUŞ', '2023-08 REVERSE OSMOS']\n"
     ]
    }
   ],
   "source": [
    "# Dosya yolunu belirtme\n",
    "file_path = '2023-Uretim_Takip-Endutriyel.xlsx'\n",
    "\n",
    "# Dosyadaki tüm sayfa adlarını görüntüleme\n",
    "xls = pd.ExcelFile(file_path)\n",
    "print(xls.sheet_names)"
   ]
  },
  {
   "cell_type": "code",
   "execution_count": 43,
   "id": "e7a9951d",
   "metadata": {
    "ExecuteTime": {
     "end_time": "2024-10-23T18:13:47.281650Z",
     "start_time": "2024-10-23T18:13:46.877068Z"
    }
   },
   "outputs": [
    {
     "name": "stdout",
     "output_type": "stream",
     "text": [
      "['2024-01 OTOKLAV', '2024-02 AMELİYAT MASASI', '2024-04 HİDROJEN PEROSİT-PLAZMA', '2024-05 YIKAMA', '2024-06 OKSİJEN', '2024-07 KARTUŞ', '2024-08 REVERSE OSMOS']\n"
     ]
    }
   ],
   "source": [
    "# Dosya yolunu belirtme\n",
    "file_path = '2024-Uretim_Takip.xlsx'\n",
    "\n",
    "# Dosyadaki tüm sayfa adlarını görüntüleme\n",
    "xls = pd.ExcelFile(file_path)\n",
    "print(xls.sheet_names)"
   ]
  },
  {
   "cell_type": "code",
   "execution_count": null,
   "id": "2c194d8d",
   "metadata": {},
   "outputs": [],
   "source": []
  }
 ],
 "metadata": {
  "hide_input": false,
  "kernelspec": {
   "display_name": "Python 3 (ipykernel)",
   "language": "python",
   "name": "python3"
  },
  "language_info": {
   "codemirror_mode": {
    "name": "ipython",
    "version": 3
   },
   "file_extension": ".py",
   "mimetype": "text/x-python",
   "name": "python",
   "nbconvert_exporter": "python",
   "pygments_lexer": "ipython3",
   "version": "3.11.7"
  },
  "toc": {
   "base_numbering": 1,
   "nav_menu": {},
   "number_sections": true,
   "sideBar": true,
   "skip_h1_title": false,
   "title_cell": "Table of Contents",
   "title_sidebar": "Contents",
   "toc_cell": false,
   "toc_position": {},
   "toc_section_display": true,
   "toc_window_display": true
  },
  "varInspector": {
   "cols": {
    "lenName": 16,
    "lenType": 16,
    "lenVar": 40
   },
   "kernels_config": {
    "python": {
     "delete_cmd_postfix": "",
     "delete_cmd_prefix": "del ",
     "library": "var_list.py",
     "varRefreshCmd": "print(var_dic_list())"
    },
    "r": {
     "delete_cmd_postfix": ") ",
     "delete_cmd_prefix": "rm(",
     "library": "var_list.r",
     "varRefreshCmd": "cat(var_dic_list()) "
    }
   },
   "types_to_exclude": [
    "module",
    "function",
    "builtin_function_or_method",
    "instance",
    "_Feature"
   ],
   "window_display": false
  }
 },
 "nbformat": 4,
 "nbformat_minor": 5
}
